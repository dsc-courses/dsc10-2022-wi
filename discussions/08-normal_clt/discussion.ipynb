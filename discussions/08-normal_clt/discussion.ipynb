{
 "cells": [
  {
   "cell_type": "markdown",
   "metadata": {},
   "source": [
    "# Discussion 8\n",
    "---\n",
    "### Bootstrapping, Normal Curve, and CLT\n",
    "\n",
    "\n",
    "<img src=\"data/panda_eat.jpg\" width=\"500\">"
   ]
  },
  {
   "cell_type": "markdown",
   "metadata": {},
   "source": [
    "#### Extra\n",
    "- You can find additional help on these topics in the [Course Notes](https://inferentialthinking.com/chapters/14/Why_the_Mean_Matters.html) and [CIT](https://inferentialthinking.com/chapters/14/Why_the_Mean_Matters.html).\n",
    "- [Here](https://drive.google.com/file/d/1mQApk9Ovdi-QVqMgnNcq5dZcWucUKoG-/view) is a pointer to that reference sheet we saw last time."
   ]
  },
  {
   "cell_type": "code",
   "execution_count": 1,
   "metadata": {},
   "outputs": [],
   "source": [
    "from scipy import stats\n",
    "import numpy as np\n",
    "import matplotlib.pyplot as plt\n",
    "import babypandas as bpd\n",
    "%matplotlib inline\n",
    "\n",
    "import otter\n",
    "grader = otter.Notebook()\n"
   ]
  },
  {
   "cell_type": "markdown",
   "metadata": {},
   "source": [
    "# 1. Bootstrapping\n",
    "- Problem : statistics about the data population are often unavailable, costly to acquire, unknown, etc.\n",
    "- Solution : utilize random sampling (and re-sampling) of available data to estimate population statistics\n",
    "    - The result of bootstrapping will be a distribution over sample statistics!\n",
    "    - Hopefully we'll see that these *sample statistics* $\\approx$ *population statistics*\n",
    "    \n",
    "- Procedure:\n",
    "    - Sample from the population\n",
    "    - Re-sample from that same sample (make sure to have replace=True!)\n",
    "    - Repeat\n",
    "    - **Note** - after re-sampling, we will likely see duplicate data entries within a single sample, but that's okay! \n",
    "        - If we didn't have duplicates, then we would have the same exact data in every single sample (this would be bad!)\n",
    "\n",
    "### 1.1 Confidence Intervals for parameter estimation\n",
    "- Goal : return a range of estimates that we are confident contain the true population statistic \n",
    "- Test your understanding:\n",
    "    - **YES**: $X$% of all bootstrapped sample statistics fall within that interval\n",
    "    - **YES**: ~$X$% of the time, the interval will capture the correct population statistic\n",
    "    - **YES**: I'm $X$% sure that the true population statistic is in the interval\n",
    "    - **NO**: the true population statistic has an $X$% change of being in the interval\n",
    "        \n",
    "### 1.2 Confidence Intervals for hypothesis testing\n",
    "- Goal: conduct hypothesis testing for parameters. [Read More](https://notes.dsc10.com/06-estimation/3_ht_using_intervals.html)\n",
    "- Procedure:\n",
    "    - Define the null hypothesis and alternative hypothesis for a parameter value\n",
    "    - Define the level of significance, \n",
    "    - Generate a  confidence interval for the true parameter\n",
    "    - Reject null hypothesis ifour interval excludes the null parameter.\n",
    "\n",
    "### 1.3 Describing a Distribution\n",
    "- Center of a distribution \n",
    "    - *Mean* : balance point\n",
    "    - *Median* : half-way point (robust to outliers) \n",
    "- Spread of distribution \n",
    "    - *Range* : biggest - smallest\n",
    "    - *Standard deviation* : variability around the mean\n",
    "- Chebyshev's Inequality\n",
    "    - Proportion of values in the range \"average $\\pm\\ z$ SDs\" is ≥ $1-\\frac{1}{z^2}$"
   ]
  },
  {
   "cell_type": "markdown",
   "metadata": {},
   "source": [
    "\n",
    "# 2. Area Under the Curve"
   ]
  },
  {
   "cell_type": "markdown",
   "metadata": {},
   "source": [
    "The area under the curve normally follows Chebychev's Bounds:\n",
    "- For all lists, and all numbers  z , the proportion of entries that are in the range \"average  $\\pm z$  SDs\" is at least $1 - \\frac{1}{z^{2}} $\n",
    "\n",
    "- In other words, we can say that at least $1-\\frac{1}{z^2}$ of the data from a sample must fall within $z$ standard deviations from the mean.\n",
    "\n",
    "It is useful because we can actually find the proportion of entries falling within a certain standard deviation which allows us to easily compute the area under a curve. **NOTE** : Chebyshev's inequality holds for any shaped distribution!"
   ]
  },
  {
   "cell_type": "markdown",
   "metadata": {},
   "source": [
    "### Question 2.1"
   ]
  },
  {
   "cell_type": "markdown",
   "metadata": {},
   "source": [
    "What is the proportion of entries that are in the range average $\\pm 1$ SD "
   ]
  },
  {
   "cell_type": "code",
   "execution_count": 2,
   "metadata": {},
   "outputs": [],
   "source": [
    "cheby_area_pm_1 = ...\n",
    "cheby_area_pm_1"
   ]
  },
  {
   "cell_type": "code",
   "execution_count": null,
   "metadata": {
    "deletable": false,
    "editable": false
   },
   "outputs": [],
   "source": [
    "grader.check(\"q21\")"
   ]
  },
  {
   "cell_type": "markdown",
   "metadata": {},
   "source": [
    "### Question 2.2"
   ]
  },
  {
   "cell_type": "markdown",
   "metadata": {},
   "source": [
    "What is the proportion of entries that are in the range average $\\pm 2$ SD "
   ]
  },
  {
   "cell_type": "code",
   "execution_count": 4,
   "metadata": {
    "scrolled": true
   },
   "outputs": [],
   "source": [
    "cheby_area_pm_2 = ...\n",
    "cheby_area_pm_2"
   ]
  },
  {
   "cell_type": "code",
   "execution_count": null,
   "metadata": {
    "deletable": false,
    "editable": false
   },
   "outputs": [],
   "source": [
    "grader.check(\"q22\")"
   ]
  },
  {
   "cell_type": "markdown",
   "metadata": {},
   "source": [
    "### Question 2.3"
   ]
  },
  {
   "cell_type": "markdown",
   "metadata": {},
   "source": [
    "What is the proportion of entries that are in the range average $\\pm 3$ SD "
   ]
  },
  {
   "cell_type": "code",
   "execution_count": 6,
   "metadata": {},
   "outputs": [],
   "source": [
    "cheby_area_pm_3 = ...\n",
    "cheby_area_pm_3"
   ]
  },
  {
   "cell_type": "code",
   "execution_count": null,
   "metadata": {
    "deletable": false,
    "editable": false
   },
   "outputs": [],
   "source": [
    "grader.check(\"q23\")"
   ]
  },
  {
   "cell_type": "markdown",
   "metadata": {},
   "source": [
    "## Example : Normal Distribution\n",
    "\n",
    "In the case of a normal distribution the area under the curve does increase much more due to certain properties of the normal distribution. \n",
    "Let us explore what the same bounds look like under normal distributions with the help of scipy.stats. \n",
    "\n",
    "We will use the stats.norm.cdf function which gives us the cumulative distribution function till a certain point. So if I say stats.norm.cdf(1) it will give me the area of everything left of 1 positive standard deviation above the mean.\n",
    "\n",
    "![](data/normal_curve.png)"
   ]
  },
  {
   "cell_type": "markdown",
   "metadata": {},
   "source": [
    "To find the area between $[a.b]$ (where a & b are standard deviations) do: ```stats.norm.cdf(b) - stats.norm.cdf(a)```"
   ]
  },
  {
   "cell_type": "markdown",
   "metadata": {},
   "source": [
    "### Question 2.4"
   ]
  },
  {
   "cell_type": "markdown",
   "metadata": {},
   "source": [
    "What is the proportion of entries that are in the range average $\\pm 1$ SD under the normal curve"
   ]
  },
  {
   "cell_type": "code",
   "execution_count": 8,
   "metadata": {
    "scrolled": true
   },
   "outputs": [],
   "source": [
    "normal_area_pm_1 = ...\n",
    "normal_area_pm_1"
   ]
  },
  {
   "cell_type": "code",
   "execution_count": null,
   "metadata": {
    "deletable": false,
    "editable": false
   },
   "outputs": [],
   "source": [
    "grader.check(\"q24\")"
   ]
  },
  {
   "cell_type": "markdown",
   "metadata": {},
   "source": [
    "### Question 2.5"
   ]
  },
  {
   "cell_type": "markdown",
   "metadata": {},
   "source": [
    "What is the proportion of entries that are in the range average $\\pm 2$ SD under the normal curve"
   ]
  },
  {
   "cell_type": "code",
   "execution_count": 10,
   "metadata": {},
   "outputs": [],
   "source": [
    "normal_area_pm_2 = ...\n",
    "normal_area_pm_2"
   ]
  },
  {
   "cell_type": "code",
   "execution_count": null,
   "metadata": {
    "deletable": false,
    "editable": false
   },
   "outputs": [],
   "source": [
    "grader.check(\"q25\")"
   ]
  },
  {
   "cell_type": "markdown",
   "metadata": {},
   "source": [
    "### Question 2.6"
   ]
  },
  {
   "cell_type": "markdown",
   "metadata": {},
   "source": [
    "What is the proportion of entries that are in the range average $\\pm 3$ SD under the normal curve"
   ]
  },
  {
   "cell_type": "code",
   "execution_count": 12,
   "metadata": {},
   "outputs": [],
   "source": [
    "normal_area_pm_3 = ...\n",
    "normal_area_pm_3"
   ]
  },
  {
   "cell_type": "code",
   "execution_count": null,
   "metadata": {
    "deletable": false,
    "editable": false
   },
   "outputs": [],
   "source": [
    "grader.check(\"q26\")"
   ]
  },
  {
   "cell_type": "code",
   "execution_count": 14,
   "metadata": {},
   "outputs": [],
   "source": [
    "# comparing AUC results\n",
    "\n",
    "print(f\"For ±1 SD --> Cheby. : {round(cheby_area_pm_1,3)}\\t Normal : {round(normal_area_pm_1,3)}\")\n",
    "print(f\"For ±2 SD --> Cheby. : {round(cheby_area_pm_2,3)}\\t Normal : {round(normal_area_pm_2,3)}\")\n",
    "print(f\"For ±3 SD --> Cheby. : {round(cheby_area_pm_3,3)}\\t Normal : {round(normal_area_pm_3,3)}\")"
   ]
  },
  {
   "cell_type": "markdown",
   "metadata": {},
   "source": [
    "Although it is valid, Chebyshev's inequality provides a much weaker lower bound to the proportion of data that lies within $z$ standard deviations from the mean."
   ]
  },
  {
   "cell_type": "markdown",
   "metadata": {},
   "source": [
    "# 3. Central Limit Theorem"
   ]
  },
  {
   "cell_type": "markdown",
   "metadata": {},
   "source": [
    "The Central Limit Theorem says that the probability distribution of the **sum** or **average** of a large random sample drawn with replacement will be roughly normal, regardless of the distribution of the population from which the sample is drawn."
   ]
  },
  {
   "cell_type": "markdown",
   "metadata": {},
   "source": [
    "This is really useful since it can allow us to work with normal curves in most problems. \n",
    "\n",
    "Until now you have used this fact when computing the p value. When we say p value <= 0.05 we actually mean that our statistic is at least $\\pm 2$ SDs away from the normal mean which is pretty rare under a normal curve. In any other curve under the Chebychev bounds falling outside $\\pm 2$ SDs is much more common (at least 75% data lies within 2 SDs, so up to 25% of data lies outside 2 SDs)."
   ]
  },
  {
   "cell_type": "code",
   "execution_count": 15,
   "metadata": {},
   "outputs": [],
   "source": [
    "# Let us introduce a random uniformly distributed dataset\n",
    "\n",
    "data = np.random.uniform(0, 20, 200)\n",
    "plt.hist(data)\n",
    "plt.show()"
   ]
  },
  {
   "cell_type": "markdown",
   "metadata": {},
   "source": [
    "As you can see above we have a dataset that is clearly not normal. Let's try bootstrapping this and computing the mean."
   ]
  },
  {
   "cell_type": "code",
   "execution_count": 16,
   "metadata": {},
   "outputs": [],
   "source": [
    "num_simulations = ...\n",
    "sample_means = ...\n",
    "\n",
    "plt.hist(sample_means, ec = 'w', bins = 24)\n",
    "plt.show()"
   ]
  },
  {
   "cell_type": "markdown",
   "metadata": {},
   "source": [
    "This may be surprising, but our statistics are normally distributed!\n",
    "\n",
    "This is extremely useful since we can compute the p-value even with non-normal data as the distribution of the statistics are normal (as a result of the CLT)."
   ]
  },
  {
   "cell_type": "markdown",
   "metadata": {},
   "source": [
    "### Question 3.1"
   ]
  },
  {
   "cell_type": "markdown",
   "metadata": {},
   "source": [
    "What is the probability of observing the simulated statistics smaller than or equal to 9?"
   ]
  },
  {
   "cell_type": "code",
   "execution_count": 17,
   "metadata": {},
   "outputs": [],
   "source": [
    "p_value_with_obs_9 = ...\n",
    "p_value_with_obs_9"
   ]
  },
  {
   "cell_type": "markdown",
   "metadata": {},
   "source": [
    "### Question 3.2"
   ]
  },
  {
   "cell_type": "markdown",
   "metadata": {},
   "source": [
    "What is the probability of observing the simulated statistics smaller than or equal to 10?"
   ]
  },
  {
   "cell_type": "code",
   "execution_count": 18,
   "metadata": {},
   "outputs": [],
   "source": [
    "p_value_with_obs_10 = ...\n",
    "p_value_with_obs_10"
   ]
  },
  {
   "cell_type": "markdown",
   "metadata": {},
   "source": [
    "## Example: Starbucks Snacks\n",
    "\n",
    "\n",
    "This data gives us nutrition facts for all different food and snacks Starbucks sells. You can read more about the data [here](https://www.kaggle.com/starbucks/starbucks-menu?select=starbucks-menu-nutrition-food.csv).\n",
    "\n",
    "Let's assume that this data contains all menu items for starbucks foods. Therefore, we're considering this to be our population."
   ]
  },
  {
   "cell_type": "code",
   "execution_count": 19,
   "metadata": {
    "scrolled": false
   },
   "outputs": [],
   "source": [
    "# load in all the data\n",
    "starbucks_snacks = bpd.read_csv(\"data/starbucks-menu-food-nutrition.csv\")\n",
    "\n",
    "starbucks_snacks"
   ]
  },
  {
   "cell_type": "markdown",
   "metadata": {},
   "source": [
    "# 4. Starbucks Snacks Data"
   ]
  },
  {
   "cell_type": "code",
   "execution_count": 20,
   "metadata": {},
   "outputs": [],
   "source": [
    "pop_data = starbucks_snacks.get('Calories')\n",
    "pop_mean = pop_data.mean()\n",
    "pop_mean"
   ]
  },
  {
   "cell_type": "markdown",
   "metadata": {},
   "source": [
    "## 4.1 Distribution of Population"
   ]
  },
  {
   "cell_type": "code",
   "execution_count": 21,
   "metadata": {},
   "outputs": [],
   "source": [
    "# Visualization help\n",
    "def get_bins(array, bin_size=1):\n",
    "    smallestNum = int(array.min())\n",
    "    \n",
    "    largestNum = int(array.max())\n",
    "    upperLimit = largestNum + bin_size + 1\n",
    "    \n",
    "    return np.arange(smallestNum, upperLimit, bin_size)\n",
    "\n",
    "plt.title(\"Population Distribution\")\n",
    "plt.xlabel(\"Calories\")\n",
    "ax = plt.hist(pop_data, bins=get_bins(pop_data,20))"
   ]
  },
  {
   "cell_type": "markdown",
   "metadata": {},
   "source": [
    "The population distribution is clearly not a normal distribution"
   ]
  },
  {
   "cell_type": "markdown",
   "metadata": {},
   "source": [
    "## 4.2 Distribution of Sample Means"
   ]
  },
  {
   "cell_type": "code",
   "execution_count": 22,
   "metadata": {
    "scrolled": true
   },
   "outputs": [],
   "source": [
    "# Get a sample\n",
    "num_samples = 60\n",
    "collected = starbucks_snacks.sample(n=num_samples, replace=False)\n",
    "\n",
    "# Bootstrap\n",
    "sample_means = np.array([])\n",
    "\n",
    "for i in range(2000):\n",
    "    bootstrapped = collected.sample(num_samples,replace=True)\n",
    "    boot_mean = bootstrapped.get('Calories').mean()\n",
    "    sample_means = np.append(sample_means, boot_mean)\n",
    "    \n",
    "plt.title(\"Distribution of Sample Means (with Population Mean)\")\n",
    "plt.hist(sample_means, bins=get_bins(sample_means, 5))\n",
    "plt.scatter(pop_mean, 0, color='red', s=80).set_zorder(2)\n",
    "\n",
    "# However, the distribution of sample means is a normal distribution -- Thanks Central Limit Theorem!"
   ]
  },
  {
   "cell_type": "markdown",
   "metadata": {},
   "source": [
    "## 4.3 Confidence Intervals"
   ]
  },
  {
   "cell_type": "code",
   "execution_count": 23,
   "metadata": {
    "scrolled": true
   },
   "outputs": [],
   "source": [
    "# compute the lower percentile given a confidence interval\n",
    "def compute_lower_percentile(perc_conf):\n",
    "    \n",
    "    lower_perc = (100-perc_conf)/2\n",
    "    \n",
    "    return lower_perc\n",
    "\n",
    "# compute the upper percentile given a confidence interval\n",
    "def compute_upper_percentile(perc_conf):\n",
    "    \n",
    "    upper_perc = 100 - (100-perc_conf)/2 \n",
    "    \n",
    "    return upper_perc\n",
    "\n",
    "def compute_ci(confidence_level, sample_means):\n",
    "\n",
    "    # What is the mean we're estimating?\n",
    "    mean = np.mean(sample_means) \n",
    "\n",
    "    # What are the percentiles?\n",
    "    # Use the functions we made above\n",
    "    lower_perc = compute_lower_percentile(confidence_level)\n",
    "    upper_perc = compute_upper_percentile(confidence_level)\n",
    "\n",
    "    # And then our lower and upper bounds?\n",
    "    lower_bound = np.percentile(sample_means, lower_perc) \n",
    "    upper_bound = np.percentile(sample_means, upper_perc) \n",
    "\n",
    "    # Printing it out so we can easily see our results.\n",
    "    print(\"\"\"\n",
    "    Sample Mean:\\t{}\n",
    "\n",
    "    Lower Percentile:\\t{}\n",
    "    Upper Percentile:\\t{}\n",
    "\n",
    "    Lower Bound:\\t{}\n",
    "    Upper Bound:\\t{}\n",
    "\n",
    "    Confidence Level:\\t{}%\n",
    "    \"\"\".format(mean, lower_perc, upper_perc, lower_bound, upper_bound, confidence_level))\n",
    "    \n",
    "    return lower_bound, upper_bound\n",
    "\n",
    "def plot_ci(ci, lower_bound, upper_bound, sample_means, pop_mean):\n",
    "    plt.title(f\"{ci}% confidence interval\")\n",
    "    plt.hist(sample_means, bins=get_bins(sample_means, 5), density=True)\n",
    "    plt.scatter(pop_mean, 0, color='red', s=80).set_zorder(3)\n",
    "    plt.plot([lower_bound, upper_bound], [0,0], color='lime', linewidth=4, zorder=2)\n",
    "    "
   ]
  },
  {
   "cell_type": "code",
   "execution_count": 24,
   "metadata": {},
   "outputs": [],
   "source": [
    "lower_bound, upper_bound = compute_ci(95, sample_means)\n",
    "plot_ci(95, lower_bound, upper_bound, sample_means, pop_mean)"
   ]
  },
  {
   "cell_type": "markdown",
   "metadata": {},
   "source": [
    "## 4.4 Terminologies\n",
    "\n",
    "- **Population Distribution** is unknown, and can be any shape.\n",
    "- **Sample Distribution** should have a shape roughly similar to the population distribution. (provided that the sample was large enough and was properly randomized).\n",
    "- **Sample Mean** is just the mean of that sample distribution. This is just a single value. We can collect a handful of sample means (or fake it by bootstrapping).\n",
    "- The **Distribution of Sample Means** will resemble a normal distribution as the number of sample means increases. (CLT)\n",
    "- The **Center/Mean** of the distribution of sample means should be similar to the true population mean.  \n",
    "(provided that our original sample was proper)\n"
   ]
  },
  {
   "cell_type": "markdown",
   "metadata": {},
   "source": [
    "# 5. Parameterize a normal curve\n",
    "\n",
    "Lets compute the **mean** and **standard deviation** of our **Distribution Of Sample Means** and parameterize a normal curve!\n"
   ]
  },
  {
   "cell_type": "code",
   "execution_count": 25,
   "metadata": {},
   "outputs": [],
   "source": [
    "from scipy.stats import norm\n",
    "\n",
    "# compute the mean\n",
    "sample_dist_mean = ...\n",
    "sample_dist_std = ...\n",
    "\n",
    "# set limits for plot\n",
    "start = sample_dist_mean-5*sample_dist_std\n",
    "stop = sample_dist_mean+5*sample_dist_std\n",
    "x = np.linspace(start, stop, 100)\n",
    "\n",
    "plt.title(\"Distribution of Sample Means (and Normal Curve)\")\n",
    "\n",
    "# plot histogram\n",
    "plt.hist(sample_means, bins=get_bins(sample_means, 5), density=True)\n",
    "\n",
    "# plot normal curve\n",
    "plt.plot(x, norm.pdf(x, sample_dist_mean, sample_dist_std), c='r')\n",
    "\n",
    "print(f\"Center (mean) : {round(sample_dist_mean,3)}\")\n",
    "print(f\"Spread (std) : {round(sample_dist_std,3)}\")"
   ]
  },
  {
   "cell_type": "markdown",
   "metadata": {},
   "source": [
    "We now know the Mean and Standard Deviation of the normal curve associated with the distribution of sample means\n",
    "\n",
    "- As you can see above, this normal curve is centered at our sample mean (367.515 calories) \n",
    "- and has a standard deviation of 16.346 calories.\n",
    "\n",
    "However, we often want to standardize this distribution to be centered at 0 and have a standard deviation of 1. Standardizing distributions make it very easy to compare multiple normal distributions that originally had vastly different centers and spreads. It also makes it really easy to compute different statistics about the distribution.\n",
    "\n",
    "Let's take a look at how to do that now."
   ]
  },
  {
   "cell_type": "markdown",
   "metadata": {},
   "source": [
    "## 5.1 Centering at mean = 0"
   ]
  },
  {
   "cell_type": "code",
   "execution_count": 26,
   "metadata": {},
   "outputs": [],
   "source": [
    "# recall our sample of means\n",
    "print(f\"First 5 sample means : \\t\\t{[round(x,4) for x in sample_means[:5]]}\")\n",
    "print(f\"Center of sample distribution : \\t{round(sample_dist_mean,3)}\")\n",
    "print(f\"Std of sample distribution : \\t\\t{round(sample_dist_std,3)}\")"
   ]
  },
  {
   "cell_type": "code",
   "execution_count": 27,
   "metadata": {},
   "outputs": [],
   "source": [
    "# center the data to have mean = 0\n",
    "centered_sample_means = ...\n",
    "centered_sample_dist_mean = ...\n",
    "centered_sample_dist_std = ...\n",
    "\n",
    "print(f\"First 5 centered sample means : \\t{[round(x, 4) for x in centered_sample_means[:5]]}\")\n",
    "print(f\"Center of centered sample distribution : \\t{round(centered_sample_dist_mean,3)}\")\n",
    "print(f\"Std of centered sample distribution : \\t\\t{round(centered_sample_dist_std,3)}\")"
   ]
  },
  {
   "cell_type": "code",
   "execution_count": 28,
   "metadata": {},
   "outputs": [],
   "source": [
    "# visualize \n",
    "plt.title(\"Distribution of Sample Means (Centered)\")\n",
    "plt.xlabel(\"Centered Sample Mean Calories\")\n",
    "ax = plt.hist(centered_sample_means, bins=get_bins(centered_sample_means, 5), density=True)"
   ]
  },
  {
   "cell_type": "markdown",
   "metadata": {},
   "source": [
    "## 5.2 Scaling by STD = 1"
   ]
  },
  {
   "cell_type": "code",
   "execution_count": 29,
   "metadata": {},
   "outputs": [],
   "source": [
    "# scale the data to have std = 1\n",
    "centered_and_scaled_means = ...\n",
    "centered_and_scaled_sample_dist_mean = ...\n",
    "centered_and_scaled_sample_dist_std = ...\n",
    "\n",
    "print(f\"First 5 centered and scaled sample means : {[round(x,4) for x in centered_and_scaled_means[:5]]}\")\n",
    "print(f\"Center of centered and scaled sample distribution : \\t{round(centered_and_scaled_sample_dist_mean,3)}\")\n",
    "print(f\"Std of centered and scaled sample distribution : \\t{round(centered_and_scaled_sample_dist_std,3)}\")"
   ]
  },
  {
   "cell_type": "code",
   "execution_count": 30,
   "metadata": {},
   "outputs": [],
   "source": [
    "# visualize \n",
    "plt.title(\"Distribution of Standardized Sample Means\")\n",
    "plt.xlabel(\"Standardized Sample Mean Calories\")\n",
    "ax = plt.hist(centered_and_scaled_means, bins=get_bins(centered_and_scaled_means, 0.5), density=True)"
   ]
  },
  {
   "cell_type": "markdown",
   "metadata": {},
   "source": [
    "## 5.3 Plot the normal curve"
   ]
  },
  {
   "cell_type": "code",
   "execution_count": 31,
   "metadata": {},
   "outputs": [],
   "source": [
    "# get the mean and std\n",
    "centered_and_scaled_sample_dist_mean = ...\n",
    "centered_and_scaled_sample_dist_std = ...\n",
    "\n",
    "# set limits for plot\n",
    "start = centered_and_scaled_sample_dist_mean-5*centered_and_scaled_sample_dist_std\n",
    "stop = centered_and_scaled_sample_dist_mean+5*centered_and_scaled_sample_dist_std\n",
    "x = np.linspace(start, stop, 100)\n",
    "\n",
    "plt.title(\"Distribution of Sample Means (and Normal Curve)\")\n",
    "\n",
    "# plot histogram\n",
    "plt.hist(centered_and_scaled_means, bins=get_bins(centered_and_scaled_means, 0.5), density=True)\n",
    "\n",
    "# plot normal curve\n",
    "plt.plot(x, norm.pdf(x, centered_and_scaled_sample_dist_mean, centered_and_scaled_sample_dist_std), c='r')\n",
    "\n",
    "print(f\"Center (mean) : {round(centered_and_scaled_sample_dist_mean,3)}\")\n",
    "print(f\"Spread (std) : {round(centered_and_scaled_sample_dist_std,3)}\")"
   ]
  },
  {
   "cell_type": "markdown",
   "metadata": {},
   "source": [
    "Now that we are looking at a normal distribution, let's talk about standard units and area.\n",
    "\n",
    "## 5.4 Standard Units and Area\n",
    "- Define $z(x) = \\frac{x-\\text{mean}}{\\text{std}}$\n",
    "- $z(x)$ maps $x$ to standard units \n",
    "    - If a distribution is roughly normal, then the area between $a$ and $b$ is approx. equal to the area between $z(a)$ and $z(b)$"
   ]
  },
  {
   "cell_type": "markdown",
   "metadata": {},
   "source": [
    "### Question 5.5 \n",
    "What proportion of menu items have calories between 315 and 350 using standard units?"
   ]
  },
  {
   "cell_type": "code",
   "execution_count": 32,
   "metadata": {},
   "outputs": [],
   "source": [
    "# define z(x)\n",
    "def z(x):\n",
    "    ..."
   ]
  },
  {
   "cell_type": "code",
   "execution_count": 33,
   "metadata": {},
   "outputs": [],
   "source": [
    "# define calorie bounds\n",
    "lower_calories = 315\n",
    "upper_calories = 350\n",
    "\n",
    "# comute standard units\n",
    "lower_standard = ...\n",
    "upper_standard = ...\n",
    "\n",
    "# don't change these lines\n",
    "print(f\"Mean Calories: {round(sample_dist_mean,2)}\")\n",
    "print(f\"LOWER : {lower_calories} calories --> {round(lower_standard,2)} standard units --> {round(lower_standard,2)} stdev's above the mean\")\n",
    "print(f\"UPPER : {upper_calories} calories --> {round(upper_standard,2)} standard units --> {round(upper_standard,2)} stdev's above the mean\")"
   ]
  },
  {
   "cell_type": "code",
   "execution_count": 34,
   "metadata": {},
   "outputs": [],
   "source": [
    "# compute the area under the curve between\n",
    "approx_prop_standard = ...\n",
    "approx_prop_standard"
   ]
  },
  {
   "cell_type": "code",
   "execution_count": 35,
   "metadata": {},
   "outputs": [],
   "source": [
    "# plot area under curve\n",
    "\n",
    "plt.title(\"Area Under Curve (Standard)\")\n",
    "\n",
    "start = centered_and_scaled_sample_dist_mean-5*centered_and_scaled_sample_dist_std\n",
    "stop = centered_and_scaled_sample_dist_mean+5*centered_and_scaled_sample_dist_std\n",
    "x = np.linspace(start, stop, 100)\n",
    "y = norm.pdf(x, centered_and_scaled_sample_dist_mean, centered_and_scaled_sample_dist_std)\n",
    "\n",
    "# plot normal curve\n",
    "plt.plot(x, y, c='r')\n",
    "\n",
    "ix = (x>=lower_standard) & (x<=upper_standard)\n",
    "plt.fill_between(x[ix],y[ix],alpha=0.5)\n",
    "\n",
    "plt.axvline(lower_standard,color='C1')\n",
    "ax = plt.axvline(upper_standard,color='C1')"
   ]
  },
  {
   "cell_type": "markdown",
   "metadata": {},
   "source": [
    "### Question 5.6\n",
    "What proportion of menu items have calories between 315 and 350 using sample distribution?"
   ]
  },
  {
   "cell_type": "code",
   "execution_count": 36,
   "metadata": {},
   "outputs": [],
   "source": [
    "# compute proportion using distribution\n",
    "approx_prop_dist = ...\n",
    "approx_prop_dist"
   ]
  },
  {
   "cell_type": "code",
   "execution_count": 37,
   "metadata": {},
   "outputs": [],
   "source": [
    "# plot area under curve\n",
    "\n",
    "plt.title(\"Area Under Curve (Distribution)\")\n",
    "\n",
    "# plot histogram\n",
    "plt.hist(sample_means, bins=get_bins(sample_means, 5), density=True)\n",
    "\n",
    "ix = (x>=lower_calories) & (x<=upper_calories)\n",
    "plt.fill_between(x[ix],y[ix],alpha=0.5)\n",
    "\n",
    "plt.axvline(lower_calories,color='C1')\n",
    "plt.axvline(upper_calories,color='C1')"
   ]
  }
 ],
 "metadata": {
  "kernelspec": {
   "display_name": "Python 3",
   "language": "python",
   "name": "python3"
  },
  "language_info": {
   "codemirror_mode": {
    "name": "ipython",
    "version": 3
   },
   "file_extension": ".py",
   "mimetype": "text/x-python",
   "name": "python",
   "nbconvert_exporter": "python",
   "pygments_lexer": "ipython3",
   "version": "3.7.0"
  }
 },
 "nbformat": 4,
 "nbformat_minor": 2
}
