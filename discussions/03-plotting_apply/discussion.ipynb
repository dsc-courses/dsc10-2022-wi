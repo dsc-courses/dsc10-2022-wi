{
 "cells": [
  {
   "cell_type": "markdown",
   "metadata": {
    "slideshow": {
     "slide_type": "slide"
    }
   },
   "source": [
    "# Discussion 03: Plotting and Functions\n",
    "\n",
    "Welcome to Discussion 03! \n",
    "\n",
    "This week, we will go over plotting, writing functions, and utilizing the ```.apply()``` function to modify DataFrames.\n",
    "\n",
    "You can find additional help on these topics in the ['Visualization' (section 3)](https://notes.dsc10.com/03-visualization/intro.html) and the ['Definining and Applying Functions' (section 2.12)](https://notes.dsc10.com/02-data_sets/apply.html) of the course notes.\n",
    "\n",
    "[Here](https://babypandas.readthedocs.io/en/latest/) is a pointer to that reference sheet we saw last time.\n",
    "\n",
    "<img src=\"data/panda_lounging.jpeg\" width=\"1000\">"
   ]
  },
  {
   "cell_type": "code",
   "execution_count": 1,
   "metadata": {},
   "outputs": [],
   "source": [
    "import babypandas as bpd\n",
    "import numpy as np\n",
    "\n",
    "import otter\n",
    "grader = otter.Notebook()\n",
    "\n",
    "calfire = bpd.read_csv('data/calfire-full.csv')\n",
    "calfire"
   ]
  },
  {
   "cell_type": "markdown",
   "metadata": {
    "slideshow": {
     "slide_type": "slide"
    }
   },
   "source": [
    "# Plotting\n",
    "\n",
    "We can visualize and plot our data directly from DataFrames! \n",
    "This can be very beneficial to help us draw conclusions that would be difficult to come up with otherwise.\n",
    "\n",
    "`df.plot(kind='...', x=..., y=...)`\n",
    "- `kind= ` \"scatter\", \"line\", \"bar\", \"barh\", \"hist\"\n",
    "\n",
    "`df.get(col_name).plot(kind='hist', bins=n_bins, density=True)`"
   ]
  },
  {
   "cell_type": "markdown",
   "metadata": {},
   "source": [
    "## Tips and steps to answering plotting questions\n",
    "- Get the data to the right aggregated level (if needed) with the required columns\n",
    "- Have a mental plot - based on, which plot will answer the question? How it should look like?\n",
    "- Code\n",
    "- Generate insights, validate the plot, and answer the question\n"
   ]
  },
  {
   "cell_type": "markdown",
   "metadata": {
    "deletable": false,
    "editable": false,
    "slideshow": {
     "slide_type": "slide"
    }
   },
   "source": [
    "### Question 1: Is the number of fires increasing with time(year)?\n",
    "\n",
    "*set ```count_is_increasing``` to True if the the number of fires is increasing*\n",
    "\n",
    "- What kind of plot will best answer this question?\n",
    "- Is there more than one appropriate plot?\n",
    "\n",
    "<!--\n",
    "BEGIN QUESTION\n",
    "name: q11\n",
    "-->"
   ]
  },
  {
   "cell_type": "code",
   "execution_count": 2,
   "metadata": {},
   "outputs": [],
   "source": [
    "count_is_increasing = ...\n",
    "count_is_increasing\n",
    "\n",
    "# Agregate data to the right level - What should we groupby with? And what is the right aggregation metric? \n",
    "\n",
    "# Plot the data"
   ]
  },
  {
   "cell_type": "code",
   "execution_count": null,
   "metadata": {
    "deletable": false,
    "editable": false
   },
   "outputs": [],
   "source": [
    "grader.check(\"q11\")"
   ]
  },
  {
   "cell_type": "markdown",
   "metadata": {
    "deletable": false,
    "editable": false,
    "slideshow": {
     "slide_type": "slide"
    }
   },
   "source": [
    "### Question 2: What about the median size of a fire? (is it also increasing?)\n",
    "*set ```median_is_increasing``` to True if the the median fire size is increasing*\n",
    "\n",
    "<!--\n",
    "BEGIN QUESTION\n",
    "name: q12\n",
    "-->"
   ]
  },
  {
   "cell_type": "code",
   "execution_count": 4,
   "metadata": {},
   "outputs": [],
   "source": [
    "median_is_increasing = ...\n",
    "median_is_increasing\n",
    "\n"
   ]
  },
  {
   "cell_type": "code",
   "execution_count": null,
   "metadata": {
    "deletable": false,
    "editable": false
   },
   "outputs": [],
   "source": [
    "grader.check(\"q12\")"
   ]
  },
  {
   "cell_type": "markdown",
   "metadata": {
    "deletable": false,
    "editable": false,
    "slideshow": {
     "slide_type": "slide"
    }
   },
   "source": [
    "### Question 3: Is the largest fire per year increasing?\n",
    "*set ```max_fire_is_increasing``` to True if the the largest fire per year is increasing*\n",
    "\n",
    "<!--\n",
    "BEGIN QUESTION\n",
    "name: q13\n",
    "-->"
   ]
  },
  {
   "cell_type": "code",
   "execution_count": 6,
   "metadata": {},
   "outputs": [],
   "source": [
    "max_is_increasing = ...\n",
    "max_is_increasing\n",
    "\n",
    "\n"
   ]
  },
  {
   "cell_type": "code",
   "execution_count": null,
   "metadata": {
    "deletable": false,
    "editable": false
   },
   "outputs": [],
   "source": [
    "grader.check(\"q13\")"
   ]
  },
  {
   "cell_type": "markdown",
   "metadata": {
    "deletable": false,
    "editable": false,
    "slideshow": {
     "slide_type": "slide"
    }
   },
   "source": [
    "### Question 4: Is there an association between latitude and fire size?\n",
    "*set ```latitude_size_association``` to True if there is an association between latitude and fire size*\n",
    "\n",
    "<!--\n",
    "BEGIN QUESTION\n",
    "name: q14\n",
    "-->"
   ]
  },
  {
   "cell_type": "code",
   "execution_count": 8,
   "metadata": {},
   "outputs": [],
   "source": [
    "latitude_size_association = ...\n",
    "latitude_size_association \n",
    "\n",
    "# Do we need to aggregate (groupby) data to answer this question? Why or why not?\n",
    "\n",
    "# Plot the data"
   ]
  },
  {
   "cell_type": "code",
   "execution_count": null,
   "metadata": {
    "deletable": false,
    "editable": false
   },
   "outputs": [],
   "source": [
    "grader.check(\"q14\")"
   ]
  },
  {
   "cell_type": "markdown",
   "metadata": {
    "slideshow": {
     "slide_type": "slide"
    }
   },
   "source": [
    "### Question 5: What is the distribution of fire sizes?"
   ]
  },
  {
   "cell_type": "code",
   "execution_count": 10,
   "metadata": {},
   "outputs": [],
   "source": [
    "# What plot is used to identify the distribution of a numerical variable?"
   ]
  },
  {
   "cell_type": "code",
   "execution_count": 11,
   "metadata": {},
   "outputs": [],
   "source": [
    "# Why do you see almost no bars on the right side? What does that indicate?\n",
    "# Let's plot histogram for small fires (for acres<100). What difference did you notice?"
   ]
  },
  {
   "cell_type": "markdown",
   "metadata": {
    "slideshow": {
     "slide_type": "slide"
    }
   },
   "source": [
    "### Question 6: Plot the number of fires due to each cause."
   ]
  },
  {
   "cell_type": "code",
   "execution_count": 12,
   "metadata": {},
   "outputs": [],
   "source": [
    "# What is the right plot? Does sorting the data before plotting helps? When is `bar` vs `barh` useful?"
   ]
  },
  {
   "cell_type": "markdown",
   "metadata": {
    "slideshow": {
     "slide_type": "slide"
    }
   },
   "source": [
    "### Question 7a: In what times of the year (month) are fires most common?"
   ]
  },
  {
   "cell_type": "code",
   "execution_count": 13,
   "metadata": {},
   "outputs": [],
   "source": [
    "# What plot is appropriate? Even though 'month' variable is involved in the graph, would a bar chart be more useful?"
   ]
  },
  {
   "cell_type": "markdown",
   "metadata": {
    "slideshow": {
     "slide_type": "slide"
    }
   },
   "source": [
    "### Question 7b: In what times of the year are *large* fires most common in *Southern California*?\n",
    "\n",
    "By large, say over 5,000 acres. By SoCal, we mean latitude < 37."
   ]
  },
  {
   "cell_type": "code",
   "execution_count": 14,
   "metadata": {},
   "outputs": [],
   "source": [
    "..."
   ]
  },
  {
   "cell_type": "markdown",
   "metadata": {
    "slideshow": {
     "slide_type": "slide"
    }
   },
   "source": [
    "### Question 8: On the same plot, show natural vs. human-caused over time.\n",
    "\n",
    "- That is, have one line for the number of fires caused by lightning over time.\n",
    "- Another line for all other causes over time."
   ]
  },
  {
   "cell_type": "code",
   "execution_count": 15,
   "metadata": {},
   "outputs": [],
   "source": [
    "\n",
    "# Get the count of natural caused fires across years\n",
    "\n",
    "# Get the count of human caused fires across years\n",
    "\n",
    "# What happens if you plot two plots in the same cell? Is that what you expected?"
   ]
  },
  {
   "cell_type": "code",
   "execution_count": 16,
   "metadata": {},
   "outputs": [],
   "source": []
  },
  {
   "cell_type": "markdown",
   "metadata": {
    "slideshow": {
     "slide_type": "slide"
    }
   },
   "source": [
    "# Functions and Apply\n",
    "\n",
    "Now lets take a look at writing our own functions and then applying these functions to DataFrames."
   ]
  },
  {
   "cell_type": "markdown",
   "metadata": {
    "slideshow": {
     "slide_type": "slide"
    }
   },
   "source": [
    "### Question 9: Cause Codes\n",
    "\n",
    "- Currently, the causes are written as `<code> - <name>`. Like: `7 - Arson`.\n",
    "- Write a function which takes in the cause and outputs only the name."
   ]
  },
  {
   "cell_type": "code",
   "execution_count": 17,
   "metadata": {},
   "outputs": [],
   "source": [
    "causes_old = ...\n",
    "causes_old"
   ]
  },
  {
   "cell_type": "code",
   "execution_count": 18,
   "metadata": {},
   "outputs": [],
   "source": [
    "def convert_cause(cause):\n",
    "    ..."
   ]
  },
  {
   "cell_type": "code",
   "execution_count": 19,
   "metadata": {},
   "outputs": [],
   "source": [
    "# print out causes before and after (Don't worry if you don't know for loops - they will be covered in a week)\n",
    "for cause in causes_old:\n",
    "    print(f\"{cause} --> {convert_cause(cause)}\")"
   ]
  },
  {
   "cell_type": "markdown",
   "metadata": {
    "slideshow": {
     "slide_type": "slide"
    }
   },
   "source": [
    "### Question 10:  Replace the `cause` column with one containing only the names"
   ]
  },
  {
   "cell_type": "code",
   "execution_count": 20,
   "metadata": {},
   "outputs": [],
   "source": [
    "# Create a new series using apply function\n",
    "# Assign this new series to the dataframe"
   ]
  },
  {
   "cell_type": "markdown",
   "metadata": {
    "slideshow": {
     "slide_type": "slide"
    }
   },
   "source": [
    "### Question 11:  Convert months numbers to names.\n",
    "\n",
    "- Write a function that converts a month's number (1, 2, 3, ..., 12) to the word (January, ..., December)."
   ]
  },
  {
   "cell_type": "code",
   "execution_count": 21,
   "metadata": {},
   "outputs": [],
   "source": [
    "import calendar\n",
    "calendar.month_name[1]"
   ]
  },
  {
   "cell_type": "code",
   "execution_count": 22,
   "metadata": {},
   "outputs": [],
   "source": [
    "def month_number_to_name(month_number):\n",
    "    import calendar\n",
    "    month_name = calendar.month_name[month_number]\n",
    "    return month_name"
   ]
  },
  {
   "cell_type": "code",
   "execution_count": 23,
   "metadata": {},
   "outputs": [],
   "source": [
    "months = ...\n",
    "months"
   ]
  },
  {
   "cell_type": "code",
   "execution_count": 24,
   "metadata": {},
   "outputs": [],
   "source": [
    "# print out months before and after \n",
    "for month in months:\n",
    "    print(f\"{month} --> {month_number_to_name(month)}\")"
   ]
  },
  {
   "cell_type": "code",
   "execution_count": 25,
   "metadata": {},
   "outputs": [],
   "source": [
    "# Create a new series using apply function\n",
    "# Assign this new series to the dataframe"
   ]
  },
  {
   "cell_type": "markdown",
   "metadata": {
    "slideshow": {
     "slide_type": "slide"
    }
   },
   "source": [
    "### Question 12:  Closest fire\n",
    "\n",
    "- Write a function that accepts a latitude/longitude pair and returns the name of the closest fire.\n",
    "\n",
    "\n",
    "- We will use one specific way to answer this question and here are some hints -\n",
    "    - We will use the function [`haversine_distances`](https://scikit-learn.org/stable/modules/generated/sklearn.metrics.pairwise.haversine_distances.html) from `sklearn` module which takes in `array_like` inputs and returns distance between each pair of the two collections of inputs\n",
    "    - You may need to install `sklearn` module by running `!pip install sklearn` in a jupyter cell\n",
    "    - Note that the [Haversine formula](https://en.wikipedia.org/wiki/Haversine_formula) is the closest approximation to finding the distance between two points on a sphere given their latitude and longitude. In this case, the function from `sklearn` will take care of the calculation. If you are interested, you can try creating that formula as a function yourselves.\n",
    "    - To the `haversine_distances` function, provide the first pair of lat/long coordinates as the first input, and the numpy array of all `calfire` lat/longs as the second input\n",
    "    - Check how `argmin()` from `numpy` can be used to find the index of the minimum value"
   ]
  },
  {
   "cell_type": "code",
   "execution_count": 26,
   "metadata": {},
   "outputs": [],
   "source": [
    "# !pip install sklearn"
   ]
  },
  {
   "cell_type": "code",
   "execution_count": 27,
   "metadata": {},
   "outputs": [],
   "source": [
    "from sklearn.metrics.pairwise import haversine_distances\n",
    "def get_closest_fire(latitude, longitude):\n",
    "    \n",
    "    # target point - as a list\n",
    "    target = ...\n",
    "    \n",
    "    # get fire coords - as a numpy matrix\n",
    "    fire_coords = ...\n",
    "    \n",
    "    # get distances\n",
    "    distances = ...\n",
    "    \n",
    "    # get index of closest fire\n",
    "    closest_fire_index = ...\n",
    "    \n",
    "    # get the name of the fire\n",
    "    closest_fire = ...\n",
    "\n",
    "    return closest_fire"
   ]
  },
  {
   "cell_type": "code",
   "execution_count": 28,
   "metadata": {},
   "outputs": [],
   "source": [
    "# Let's find out what's the closest fire incident to geisel library\n",
    "geisel = [32.881158, -117.237566]\n",
    "closest_fire = get_closest_fire(geisel[0], geisel[1])\n",
    "closest_fire"
   ]
  },
  {
   "cell_type": "code",
   "execution_count": 29,
   "metadata": {},
   "outputs": [],
   "source": [
    "grader.check_all()"
   ]
  },
  {
   "cell_type": "code",
   "execution_count": null,
   "metadata": {},
   "outputs": [],
   "source": []
  }
 ],
 "metadata": {
  "kernelspec": {
   "display_name": "Python 3",
   "language": "python",
   "name": "python3"
  },
  "language_info": {
   "codemirror_mode": {
    "name": "ipython",
    "version": 3
   },
   "file_extension": ".py",
   "mimetype": "text/x-python",
   "name": "python",
   "nbconvert_exporter": "python",
   "pygments_lexer": "ipython3",
   "version": "3.8.8"
  },
  "toc": {
   "base_numbering": 1,
   "nav_menu": {},
   "number_sections": true,
   "sideBar": true,
   "skip_h1_title": false,
   "title_cell": "Table of Contents",
   "title_sidebar": "Contents",
   "toc_cell": false,
   "toc_position": {},
   "toc_section_display": true,
   "toc_window_display": false
  }
 },
 "nbformat": 4,
 "nbformat_minor": 4
}
