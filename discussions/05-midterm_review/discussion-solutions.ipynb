{
 "cells": [
  {
   "cell_type": "markdown",
   "metadata": {},
   "source": [
    "# MIDTERM REVIEW\n",
    "\n",
    "## Midterm : Wednesday, February 9th during lecture\n",
    "\n",
    "**Exam Timing and Logistics:** \n",
    "\n",
    "You must take the midterm during your assigned lecture slot.\n",
    "\n",
    "- A00: 1-1:50PM\n",
    "- B00: 2-2:50PM\n",
    "\n",
    "\n",
    "The exam format will be a combination  of multiple choice, true/false, filling in a numerical answer, and other short answer questions. The exam will be administered through Gradescope.\n",
    "\n",
    "The midterm project assesses your coding ability, and the midterm exam will focus more on the conceptual aspects of the course. Questions will be more theoretical, designed to test your understanding of concepts and not so much your implementation in code.\n",
    "\n",
    "- Lectures 01-13 will be covered\n",
    "- Open-book, open-notes, open-Google (BUT NO STUDENT COLLABORATION)\n",
    "\n",
    "\n",
    "**Best way to study:**\n",
    "- do the project! (great for studying, plus it's due Feb 12th)\n",
    "- Old homeworks, labs, discussions, review lectures (the exam covers lectures 1-13)\n",
    "- two practice exams [linked here](https://dsc10.com/resources/)\n",
    "- this discussion!\n",
    "\n",
    "*Check out the [post on campuswire](https://campuswire.com/c/G6950E967/feed/529) for more details!*\n",
    "\n",
    "Here are links to the course [notes](https://notes.dsc10.com/front.html) or the helpful [reference sheet](https://drive.google.com/file/d/1mQApk9Ovdi-QVqMgnNcq5dZcWucUKoG-/view) we often use.\n",
    "\n",
    "<img src=\"data/panda_relax.jpg\" width=\"500\">"
   ]
  },
  {
   "cell_type": "markdown",
   "metadata": {},
   "source": [
    "## Some Topics to study for the exam \n",
    "#### (this list is not exhuastive)\n",
    "\n",
    "- News articles and randomized controlled trials (similar to HW1)\n",
    "- Understanding and working with the index of a DataFrame\n",
    "- Strategies for extracting information from a DataFrame (knowing how to combine different DataFrame methods to get out the desired information)\n",
    "- Interpreting the output of code, including DataFrame manipulations\n",
    "- Knowing when to use different types of visualizations\n",
    "- Interpreting data visualizations\n",
    "- Density histograms (calculating height, area, count, and percent)\n",
    "- Probability questions (similar to Lecture 12)"
   ]
  },
  {
   "cell_type": "code",
   "execution_count": null,
   "metadata": {},
   "outputs": [],
   "source": [
    "import babypandas as bpd\n",
    "import numpy as np\n",
    "\n",
    "import otter\n",
    "grader = otter.Notebook()\n",
    "\n",
    "from notebook.services.config import ConfigManager\n",
    "\n",
    "cm = ConfigManager()\n",
    "cm.update(\n",
    "    \"livereveal\", {\n",
    "        'width': 1500,\n",
    "        'height': 700,\n",
    "        \"scroll\": True,\n",
    "})"
   ]
  },
  {
   "cell_type": "markdown",
   "metadata": {},
   "source": [
    "## 1. Estimating Probabilities\n",
    "\n",
    "#### Rolling a die $N$ times"
   ]
  },
  {
   "cell_type": "markdown",
   "metadata": {},
   "source": [
    "#### Discussion Question\n",
    "\n",
    "If you roll a die 4 times. What's P(at least one 6)?\n",
    "\n",
    "|Option|Answer|\n",
    "|---|---|\n",
    "|A| $5/6$|\n",
    "|B| $1-5/6$|\n",
    "|C| $1-(5/6)^4$|\n",
    "|D| $1-(1/6)^4$|\n",
    "|E| None of the above|"
   ]
  },
  {
   "cell_type": "markdown",
   "metadata": {},
   "source": [
    "#### Answer for 4 rolls:"
   ]
  },
  {
   "cell_type": "markdown",
   "metadata": {},
   "source": [
    "C) P(at least one 6) = 1 - P(no 6) = 1 - (5/6)\\**N"
   ]
  },
  {
   "cell_type": "markdown",
   "metadata": {},
   "source": [
    "#### Answer for N rolls\n",
    "* P(at least one 6) = 1 - P(no 6) = 1 - (5/6)\\**N"
   ]
  },
  {
   "cell_type": "markdown",
   "metadata": {},
   "source": [
    "#### Plot the true probability for each N"
   ]
  },
  {
   "cell_type": "code",
   "execution_count": null,
   "metadata": {},
   "outputs": [],
   "source": [
    "# chance of getting at least one six \n",
    "rolls = np.arange(1, 51)\n",
    "at_least_one = bpd.DataFrame().assign(n_rolls=rolls, chance=1-(5/6)**rolls)\n",
    "at_least_one"
   ]
  },
  {
   "cell_type": "code",
   "execution_count": null,
   "metadata": {},
   "outputs": [],
   "source": [
    "at_least_one.plot(kind='scatter', x='n_rolls', y='chance')"
   ]
  },
  {
   "cell_type": "markdown",
   "metadata": {},
   "source": [
    "#### Simulate the probability for N=20\n",
    "* What is the chance of getting at least one 6 in 20 rolls?"
   ]
  },
  {
   "cell_type": "code",
   "execution_count": null,
   "metadata": {},
   "outputs": [],
   "source": [
    "# SOLUTION\n",
    "faces = np.arange(1, 7)\n",
    "outcomes = np.random.choice(faces, 20) # pick random number from faces, 20 times\n",
    "outcomes"
   ]
  },
  {
   "cell_type": "code",
   "execution_count": null,
   "metadata": {},
   "outputs": [],
   "source": [
    "# number of positive outcomes\n",
    "np.count_nonzero(outcomes == 6) # SOLUTION"
   ]
  },
  {
   "cell_type": "markdown",
   "metadata": {},
   "source": [
    "#### Run this simulation 100,000 times"
   ]
  },
  {
   "cell_type": "code",
   "execution_count": null,
   "metadata": {},
   "outputs": [],
   "source": [
    "# SOLUTION\n",
    "trials = 100000\n",
    "\n",
    "rolled6 = 0\n",
    "for i in np.arange(trials):\n",
    "    outcomes = np.random.choice(faces, 20)\n",
    "    if np.count_nonzero(outcomes == 6) >= 1:\n",
    "        rolled6 = rolled6 + 1\n",
    "        \n",
    "#estimate the probability\n",
    "rolled6/trials"
   ]
  },
  {
   "cell_type": "markdown",
   "metadata": {},
   "source": [
    "#### Simulate the probability for a given N and number of trials\n",
    "* wrap the experiment in a function that takes the N and number of trials as the input\n",
    "* run the experiment many times"
   ]
  },
  {
   "cell_type": "code",
   "execution_count": null,
   "metadata": {},
   "outputs": [],
   "source": [
    "def roll_n(N, trials):\n",
    "    rolled6 = 0\n",
    "    for i in np.arange(trials):\n",
    "        outcomes = np.random.choice(faces, N)\n",
    "        if np.count_nonzero(outcomes == 6) >=1:\n",
    "            rolled6 = rolled6 + 1\n",
    "\n",
    "    return rolled6/trials\n",
    "\n",
    "# Simulating the probability of having 'atleast one 6' in 10 rolls with 1000 trails\n",
    "roll_n(10, 1000)"
   ]
  },
  {
   "cell_type": "markdown",
   "metadata": {},
   "source": [
    "---"
   ]
  },
  {
   "cell_type": "markdown",
   "metadata": {},
   "source": [
    "## MBA Player Data"
   ]
  },
  {
   "cell_type": "code",
   "execution_count": null,
   "metadata": {
    "scrolled": false
   },
   "outputs": [],
   "source": [
    "df = bpd.read_csv('data/player_data.csv')\n",
    "df"
   ]
  },
  {
   "cell_type": "markdown",
   "metadata": {},
   "source": [
    "## 2. Top Ten DataFrame Patterns and Their Variations"
   ]
  },
  {
   "cell_type": "markdown",
   "metadata": {},
   "source": [
    "Let's look at the most common patterns we have been using on DataFrames. They are quite simple when you have a computer. \n",
    "\n",
    "However, for the exam, you really need to get familiar with them.\n",
    "\n",
    "Best way to study: Study by writing code with pen and paper. Learn to check your code for logical and syntax errors, without the help of Python!"
   ]
  },
  {
   "cell_type": "markdown",
   "metadata": {},
   "source": [
    "### 2.1) Get and Drop Columns\n",
    "\n",
    "**Pattern**: `df.get(column_name)`\n",
    "\n",
    "**Pattern**: `df.drop(columns = column_name)`\n",
    "\n",
    "Where column_name is a string"
   ]
  },
  {
   "cell_type": "markdown",
   "metadata": {},
   "source": [
    "#### What is the output type of the following line of code?"
   ]
  },
  {
   "cell_type": "code",
   "execution_count": null,
   "metadata": {},
   "outputs": [],
   "source": [
    "df.get('Points')"
   ]
  },
  {
   "cell_type": "markdown",
   "metadata": {
    "slideshow": {
     "slide_type": "-"
    }
   },
   "source": [
    "**Answer:** Series"
   ]
  },
  {
   "cell_type": "code",
   "execution_count": null,
   "metadata": {},
   "outputs": [],
   "source": [
    "df.get(['Age', 'Points'])"
   ]
  },
  {
   "cell_type": "markdown",
   "metadata": {
    "slideshow": {
     "slide_type": "-"
    }
   },
   "source": [
    "**Answer:** DataFrame"
   ]
  },
  {
   "cell_type": "markdown",
   "metadata": {},
   "source": [
    "#### What will the variable df_modified contain after running the following line of code?"
   ]
  },
  {
   "cell_type": "markdown",
   "metadata": {},
   "source": [
    "#### Drop column \"Age\""
   ]
  },
  {
   "cell_type": "code",
   "execution_count": null,
   "metadata": {},
   "outputs": [],
   "source": [
    "df_modified = df.drop(\"Age\")"
   ]
  },
  {
   "cell_type": "markdown",
   "metadata": {},
   "source": [
    "**Answer:** This is a trick question: the line of code does not execute because you need to specify: columns = \"age\""
   ]
  },
  {
   "cell_type": "code",
   "execution_count": null,
   "metadata": {},
   "outputs": [],
   "source": [
    "help(bpd.DataFrame.drop)"
   ]
  },
  {
   "cell_type": "code",
   "execution_count": null,
   "metadata": {},
   "outputs": [],
   "source": [
    "df_modified = df.drop(columns = \"Age\")\n",
    "df_modified"
   ]
  },
  {
   "cell_type": "code",
   "execution_count": null,
   "metadata": {},
   "outputs": [],
   "source": [
    "df_modified = df.drop(columns = [\"Age\", \"Team\", \"Games\"])\n",
    "df_modified"
   ]
  },
  {
   "cell_type": "markdown",
   "metadata": {},
   "source": [
    "### 2.2) Get something by its label & index\n",
    "**Pattern**: `df.get(column_name).loc[row_label].`"
   ]
  },
  {
   "cell_type": "markdown",
   "metadata": {},
   "source": [
    "#### Getting data by its label"
   ]
  },
  {
   "cell_type": "code",
   "execution_count": null,
   "metadata": {},
   "outputs": [],
   "source": [
    "df = df.set_index('Name')\n",
    "df"
   ]
  },
  {
   "cell_type": "markdown",
   "metadata": {},
   "source": [
    "#### What does the following line of code return?"
   ]
  },
  {
   "cell_type": "code",
   "execution_count": null,
   "metadata": {},
   "outputs": [],
   "source": [
    "df.get('Points').loc['LeBron James']"
   ]
  },
  {
   "cell_type": "markdown",
   "metadata": {},
   "source": [
    "**Answer:** The number of points for LeBron James"
   ]
  },
  {
   "cell_type": "markdown",
   "metadata": {},
   "source": [
    "#### What does the following line of code return?"
   ]
  },
  {
   "cell_type": "code",
   "execution_count": null,
   "metadata": {},
   "outputs": [],
   "source": [
    "df.get('Games').loc['Chris Paul']"
   ]
  },
  {
   "cell_type": "markdown",
   "metadata": {},
   "source": [
    "**Answer:** The number of games for Chris Paul"
   ]
  },
  {
   "cell_type": "markdown",
   "metadata": {},
   "source": [
    "#### Getting Multiple datapoints by their labels"
   ]
  },
  {
   "cell_type": "markdown",
   "metadata": {},
   "source": [
    "Get the points of players James Harden, Stephen Curry, Adreian Payne"
   ]
  },
  {
   "cell_type": "markdown",
   "metadata": {},
   "source": [
    "#### What is the output type of the last line of code?"
   ]
  },
  {
   "cell_type": "code",
   "execution_count": null,
   "metadata": {},
   "outputs": [],
   "source": [
    "query_players = [\"James Harden\", \"Stephen Curry\", \"Adreian Payne\"]\n",
    "df.get('Points').loc[query_players]"
   ]
  },
  {
   "cell_type": "markdown",
   "metadata": {},
   "source": [
    "**Answer:** Series object"
   ]
  },
  {
   "cell_type": "markdown",
   "metadata": {},
   "source": [
    "### 2.3) Find the label with the largest/smallest value\n",
    "\n",
    "**Pattern**: `df.sort_values(by = \"Points\").iloc[-1]`\n",
    "\n",
    "**Pattern**: `df.sort_values(by = \"Points\", ascending = False).iloc[0]`"
   ]
  },
  {
   "cell_type": "markdown",
   "metadata": {},
   "source": [
    "#### What information does the following line of code give us?"
   ]
  },
  {
   "cell_type": "code",
   "execution_count": null,
   "metadata": {},
   "outputs": [],
   "source": [
    "df.sort_values(by='Points').iloc[0].get('Points')"
   ]
  },
  {
   "cell_type": "markdown",
   "metadata": {},
   "source": [
    "**Answer:** The number of points for the player with the least points"
   ]
  },
  {
   "cell_type": "markdown",
   "metadata": {},
   "source": [
    "#### According to score, get the point and name of best player"
   ]
  },
  {
   "cell_type": "code",
   "execution_count": null,
   "metadata": {},
   "outputs": [],
   "source": [
    "df.sort_values(by='Points').index[-1] # SOLUTION"
   ]
  },
  {
   "cell_type": "markdown",
   "metadata": {},
   "source": [
    "#### Current state of the dataframe"
   ]
  },
  {
   "cell_type": "code",
   "execution_count": null,
   "metadata": {},
   "outputs": [],
   "source": [
    "df"
   ]
  },
  {
   "cell_type": "markdown",
   "metadata": {},
   "source": [
    "#### What information is output below?"
   ]
  },
  {
   "cell_type": "code",
   "execution_count": null,
   "metadata": {},
   "outputs": [],
   "source": [
    "df = df.sort_values(by = \"Age\", ascending = False)\n",
    "df.get(\"Age\").iloc[4]"
   ]
  },
  {
   "cell_type": "code",
   "execution_count": null,
   "metadata": {},
   "outputs": [],
   "source": [
    "df.index[4]"
   ]
  },
  {
   "cell_type": "markdown",
   "metadata": {},
   "source": [
    "**Answer:** The age and name of the 5th oldest player"
   ]
  },
  {
   "cell_type": "markdown",
   "metadata": {},
   "source": [
    "#### What is the type of the following output, and what information does it contain?"
   ]
  },
  {
   "cell_type": "code",
   "execution_count": null,
   "metadata": {},
   "outputs": [],
   "source": [
    "query_range = np.arange(0, 6)\n",
    "\n",
    "df.get('Age').sort_values(ascending = True).iloc[query_range]"
   ]
  },
  {
   "cell_type": "markdown",
   "metadata": {},
   "source": [
    "**Answer:** The name and age of the 6 youngest players"
   ]
  },
  {
   "cell_type": "markdown",
   "metadata": {},
   "source": [
    "#### What is the output below?"
   ]
  },
  {
   "cell_type": "code",
   "execution_count": null,
   "metadata": {},
   "outputs": [],
   "source": [
    "df = df.sort_values(by = [\"Age\", \"Points\"]) \n",
    "df.index[-1]"
   ]
  },
  {
   "cell_type": "markdown",
   "metadata": {},
   "source": [
    "**Answer:** The name of the oldest player with the largest number of points"
   ]
  },
  {
   "cell_type": "markdown",
   "metadata": {},
   "source": [
    "#### Get the age and points of this player"
   ]
  },
  {
   "cell_type": "code",
   "execution_count": null,
   "metadata": {},
   "outputs": [],
   "source": [
    "df.get(\"Age\").iloc[-1]"
   ]
  },
  {
   "cell_type": "code",
   "execution_count": null,
   "metadata": {},
   "outputs": [],
   "source": [
    "df.get(\"Points\").iloc[-1]"
   ]
  },
  {
   "cell_type": "markdown",
   "metadata": {},
   "source": [
    "### 2.4) Compute a statistic for a subset. Filter to get the subset.\n",
    "\n",
    "**Example**: Players info for players with age >= 30\n",
    "\n",
    "**Pattern**:\n",
    "\n",
    "`\n",
    "bool_mask = df.get('Age') >= 30\n",
    "df[bool_mask]\n",
    "`"
   ]
  },
  {
   "cell_type": "markdown",
   "metadata": {},
   "source": [
    "#### Return a DataFrame containing entries for players with age >= 30"
   ]
  },
  {
   "cell_type": "code",
   "execution_count": null,
   "metadata": {},
   "outputs": [],
   "source": [
    "bool_mask = df.get('Age') >= 30\n",
    "df[bool_mask]"
   ]
  },
  {
   "cell_type": "markdown",
   "metadata": {},
   "source": [
    "#### What is the output of the last line of code below?"
   ]
  },
  {
   "cell_type": "code",
   "execution_count": null,
   "metadata": {},
   "outputs": [],
   "source": [
    "bool_mask = df.get('Age') >= 30\n",
    "df[bool_mask].get('Points').mean()"
   ]
  },
  {
   "cell_type": "markdown",
   "metadata": {},
   "source": [
    "**Answer:** The mean number of points for players that are 30 years or older"
   ]
  },
  {
   "cell_type": "markdown",
   "metadata": {},
   "source": [
    "#### What is the output of the last line of code below?"
   ]
  },
  {
   "cell_type": "code",
   "execution_count": null,
   "metadata": {},
   "outputs": [],
   "source": [
    "mean_points = df.get('Points').mean()\n",
    "bool_mask = df.get('Points') >= mean_points\n",
    "df[bool_mask].get('Age').mean()"
   ]
  },
  {
   "cell_type": "markdown",
   "metadata": {},
   "source": [
    "**Answer:** The mean age of the players, who have scored higher than or equal to the mean points for all players."
   ]
  },
  {
   "cell_type": "markdown",
   "metadata": {},
   "source": [
    "### 2.5) Combining Conditions, Filtering and Getting Statistics\n",
    "\n",
    "**Pattern**:\n",
    "\n",
    "`bool1 = df.get('col1') > num1\n",
    "bool2 = df.get('col2') == num2\n",
    "bool_condition = bool1 & bool2\n",
    "df[bool_condition]\n",
    "`\n",
    "\n",
    "**Pattern**: Don't forget the parantheses if you write it like below:\n",
    "\n",
    "`\n",
    "df[(...) & (...) & (...)]\n",
    "df[(df.get('col1') > num1) & (df.get('col2') == num2)]\n",
    "`"
   ]
  },
  {
   "cell_type": "markdown",
   "metadata": {},
   "source": [
    "#### Filter the DataFrame, players who have more than 600 assists and more than 100 steals"
   ]
  },
  {
   "cell_type": "code",
   "execution_count": null,
   "metadata": {},
   "outputs": [],
   "source": [
    "df[(df.get('Assists') > 600) & (df.get('Steals') > 100)]"
   ]
  },
  {
   "cell_type": "markdown",
   "metadata": {},
   "source": [
    "**Answer:** Filters the DataFrame to contain players who have more than 600 assists and more than 100 steals"
   ]
  },
  {
   "cell_type": "markdown",
   "metadata": {},
   "source": [
    "#### What information do we obtain from the following line of code?"
   ]
  },
  {
   "cell_type": "code",
   "execution_count": null,
   "metadata": {},
   "outputs": [],
   "source": [
    "df[(df.get('Rebounds') > 1000) & (df.get('Blocks') > 100)].shape[0]"
   ]
  },
  {
   "cell_type": "markdown",
   "metadata": {},
   "source": [
    "**Answer:** The number of  players have more than 300 rebounds and more than 20 blocks"
   ]
  },
  {
   "cell_type": "markdown",
   "metadata": {},
   "source": [
    "#### What information do we obtain from the following lines of code?"
   ]
  },
  {
   "cell_type": "code",
   "execution_count": null,
   "metadata": {},
   "outputs": [],
   "source": [
    "mean_points = df.get('Points').mean()\n",
    "cond1 = df.get('Points') >= mean_points\n",
    "cond2 = df.get('Games') > 40\n",
    "bool_cond = cond1 & cond2\n",
    "df[bool_mask].get('Age').median()"
   ]
  },
  {
   "cell_type": "markdown",
   "metadata": {},
   "source": [
    "**Answer:** The median age of players who scored higher than the mean points, and played more than 40 games."
   ]
  },
  {
   "cell_type": "markdown",
   "metadata": {},
   "source": [
    "### 2.6) Compute statistics for aggregated groups. \n",
    "\n",
    "**Pattern**:\n",
    "\n",
    "`df.groupby(column_name).func()\n",
    "`\n",
    "Where func is the aggrageting function"
   ]
  },
  {
   "cell_type": "code",
   "execution_count": null,
   "metadata": {},
   "outputs": [],
   "source": [
    "df = df.reset_index()"
   ]
  },
  {
   "cell_type": "code",
   "execution_count": null,
   "metadata": {},
   "outputs": [],
   "source": [
    "df.groupby('Team').min()"
   ]
  },
  {
   "cell_type": "markdown",
   "metadata": {},
   "source": [
    "#### AI Horford is the youngest player on ATL? True or False"
   ]
  },
  {
   "cell_type": "markdown",
   "metadata": {},
   "source": [
    "**Answer:** False, groupby just takes the minimum of each column for each group. Therefore, the minimum here is just the first name alphabetically on Atlanta's team, and the age column contains the age for the youngest player on Atlanta's team."
   ]
  },
  {
   "cell_type": "markdown",
   "metadata": {},
   "source": [
    "#### What does the following line of code return and what is its output type?"
   ]
  },
  {
   "cell_type": "code",
   "execution_count": null,
   "metadata": {},
   "outputs": [],
   "source": [
    "df.groupby('Team').count().get([\"Points\"])"
   ]
  },
  {
   "cell_type": "markdown",
   "metadata": {},
   "source": [
    "**Answer:** The total number of points for each team. The output type is a dataframe because the argument [\"Points\"] was passed in as a list into the \"get\" function"
   ]
  },
  {
   "cell_type": "markdown",
   "metadata": {},
   "source": [
    "#### What do the values contain in the new column that was created, and what is the name of that column?"
   ]
  },
  {
   "cell_type": "code",
   "execution_count": null,
   "metadata": {},
   "outputs": [],
   "source": [
    "new_col = df.get(\"Points\") / df.get(\"Games\")\n",
    "df_new = (df\n",
    "    .assign(Points_Per_Game = new_col)\n",
    "    .sort_values(by = \"Points_Per_Game\",ascending = False)\n",
    ")\n",
    "df_new"
   ]
  },
  {
   "cell_type": "markdown",
   "metadata": {},
   "source": [
    "**Answer:** the average points per game per Game for each player, column name - Points_Per_Game"
   ]
  },
  {
   "cell_type": "markdown",
   "metadata": {},
   "source": [
    "### 2.7) Apply function & Conditionals\n",
    "\n",
    "**Pattern**: `df.get(a_column).apply(a_function)`"
   ]
  },
  {
   "cell_type": "markdown",
   "metadata": {},
   "source": [
    "#### Given a full name, write a function that finds how many words it has"
   ]
  },
  {
   "cell_type": "code",
   "execution_count": null,
   "metadata": {},
   "outputs": [],
   "source": [
    "def find_name_len(string):\n",
    "    \"\"\" Finds how many words the name contains \"\"\"\n",
    "    return len(string.split())"
   ]
  },
  {
   "cell_type": "code",
   "execution_count": null,
   "metadata": {},
   "outputs": [],
   "source": [
    "find_name_len(\"Frank Lloyd Wright\")"
   ]
  },
  {
   "cell_type": "code",
   "execution_count": null,
   "metadata": {},
   "outputs": [],
   "source": [
    "find_name_len(\"Tony Montana\")"
   ]
  },
  {
   "cell_type": "markdown",
   "metadata": {},
   "source": [
    "#### What does the following line of code output?"
   ]
  },
  {
   "cell_type": "code",
   "execution_count": null,
   "metadata": {},
   "outputs": [],
   "source": [
    "df.get(\"Name\").apply(find_name_len)"
   ]
  },
  {
   "cell_type": "markdown",
   "metadata": {},
   "source": [
    "**Answer:** Series object containing the name length (in terms of number of words) for each player"
   ]
  },
  {
   "cell_type": "markdown",
   "metadata": {},
   "source": [
    "#### What information does this code output?"
   ]
  },
  {
   "cell_type": "code",
   "execution_count": null,
   "metadata": {},
   "outputs": [],
   "source": [
    "( df\n",
    " .reset_index()\n",
    " .get(\"Name\")\n",
    " .apply(find_name_len)\n",
    " .max()\n",
    ")"
   ]
  },
  {
   "cell_type": "markdown",
   "metadata": {},
   "source": [
    "**Answer:** maximum name length (in terms of number of words)"
   ]
  },
  {
   "cell_type": "markdown",
   "metadata": {},
   "source": [
    "#### Write a function to assign age groups"
   ]
  },
  {
   "cell_type": "code",
   "execution_count": null,
   "metadata": {},
   "outputs": [],
   "source": [
    "# [0, 21) -> 'young', [21, 31) -> 'mid', [31, ] -> 'old'\n",
    "def assign_age_group(age):\n",
    "    if age < 21:\n",
    "        return \"young\"\n",
    "    elif age < 31:\n",
    "        return \"mid\"\n",
    "    else:\n",
    "        return \"old\""
   ]
  },
  {
   "cell_type": "markdown",
   "metadata": {},
   "source": [
    "#### What will the line of code below output?"
   ]
  },
  {
   "cell_type": "code",
   "execution_count": null,
   "metadata": {},
   "outputs": [],
   "source": [
    "assign_age_group(21)"
   ]
  },
  {
   "cell_type": "code",
   "execution_count": null,
   "metadata": {},
   "outputs": [],
   "source": [
    "assign_age_group(35)"
   ]
  },
  {
   "cell_type": "markdown",
   "metadata": {},
   "source": [
    "#### Add a new column to the DataFrame, which shows the age group of each player"
   ]
  },
  {
   "cell_type": "code",
   "execution_count": null,
   "metadata": {},
   "outputs": [],
   "source": [
    "new_col = df.get(\"Age\").apply(assign_age_group)\n",
    "df_new = df.assign(Age_Group = new_col)\n",
    "df_new"
   ]
  },
  {
   "cell_type": "markdown",
   "metadata": {},
   "source": [
    "### 2.8) Groupby Multiple Columns and look at statistics\n",
    "\n",
    "\n",
    "**Pattern**:\n",
    "\n",
    "`df.groupby([column_name1, column_name2]).func()\n",
    "`\n",
    "Where func is the aggrageting function\n",
    "\n",
    "* There should always be an aggregating function. Otherwise we just get a groupby object."
   ]
  },
  {
   "cell_type": "markdown",
   "metadata": {},
   "source": [
    "#### What does the following line of code output?"
   ]
  },
  {
   "cell_type": "code",
   "execution_count": null,
   "metadata": {},
   "outputs": [],
   "source": [
    "df_new.groupby([\"Team\", \"Age_Group\"])"
   ]
  },
  {
   "cell_type": "markdown",
   "metadata": {},
   "source": [
    "**Answer:** a DataFrameGroupBy object because we haven't used any sort of aggregation yet like .max(), .count(), etc."
   ]
  },
  {
   "cell_type": "markdown",
   "metadata": {},
   "source": [
    "#### What does the following line of code output?"
   ]
  },
  {
   "cell_type": "code",
   "execution_count": null,
   "metadata": {},
   "outputs": [],
   "source": [
    "df_groups = (df_new\n",
    " .groupby([\"Team\", \"Age_Group\"]).count()\n",
    " .get([\"Team\", \"Age_Group\", \"Games\"])\n",
    ")"
   ]
  },
  {
   "cell_type": "markdown",
   "metadata": {},
   "source": [
    "**Answer:** an error because Team and Age_Group are the index, and you cant use .get to get the index"
   ]
  },
  {
   "cell_type": "code",
   "execution_count": null,
   "metadata": {
    "scrolled": true
   },
   "outputs": [],
   "source": [
    "df_groups = (df_new\n",
    " .groupby([\"Team\", \"Age_Group\"])\n",
    " .count()\n",
    " .reset_index() # critical change here bc Age_Group was the old index!\n",
    " .get([\"Team\", \"Age_Group\", \"Games\"])\n",
    ")\n",
    "df_groups"
   ]
  },
  {
   "cell_type": "markdown",
   "metadata": {},
   "source": [
    "### 2.9) Get all rows containing a string.\n",
    "\n",
    "**Pattern**\n",
    "\n",
    "`bool_mask = df.get(column_of_strings).str.contains('James')\n",
    "df[bool_mask]\n",
    "`"
   ]
  },
  {
   "cell_type": "markdown",
   "metadata": {},
   "source": [
    "#### What does the outputted dataframe contain?"
   ]
  },
  {
   "cell_type": "code",
   "execution_count": null,
   "metadata": {},
   "outputs": [],
   "source": [
    "bool_mask = df.get(\"Name\").str.contains(\"James\")\n",
    "df[bool_mask]"
   ]
  },
  {
   "cell_type": "markdown",
   "metadata": {},
   "source": [
    "**Answer:** All players who have the word \"James\" somewhere in their full name."
   ]
  },
  {
   "cell_type": "markdown",
   "metadata": {},
   "source": [
    "#### Only players with the substring \"Reg\" and substring \"ie\" in their full name remain."
   ]
  },
  {
   "cell_type": "code",
   "execution_count": null,
   "metadata": {},
   "outputs": [],
   "source": [
    "mask1 = df.get(\"Name\").str.contains(\"ie\")\n",
    "mask2 = df.get(\"Name\").str.contains(\"Reg\")\n",
    "df[mask1 & mask2]"
   ]
  },
  {
   "cell_type": "markdown",
   "metadata": {},
   "source": [
    "### 2.10) Density Histogram"
   ]
  },
  {
   "cell_type": "markdown",
   "metadata": {},
   "source": [
    "Here is the scatter plot we created earlier:\n",
    "<img src=\"data/scatter_plot_example.png\" width=\"500\">"
   ]
  },
  {
   "cell_type": "markdown",
   "metadata": {},
   "source": [
    "### What will the density histogram look like for the y-axis?"
   ]
  },
  {
   "cell_type": "markdown",
   "metadata": {},
   "source": [
    "**Answer:** Skewed to left (towards lower probabilities)"
   ]
  },
  {
   "cell_type": "markdown",
   "metadata": {},
   "source": [
    "### What will the density histogram look like for the x-axis?"
   ]
  },
  {
   "cell_type": "markdown",
   "metadata": {},
   "source": [
    "**Answer:** uniform, all bars should be the same height because there is one dot on the scatter plot for each number 1-50."
   ]
  },
  {
   "cell_type": "markdown",
   "metadata": {},
   "source": [
    "---"
   ]
  },
  {
   "cell_type": "markdown",
   "metadata": {},
   "source": [
    "## 3. Top Possible Pitfalls & Things to Keep in Mind"
   ]
  },
  {
   "cell_type": "markdown",
   "metadata": {},
   "source": [
    "### 3.1) Difference between `&` and `and`\n",
    "\n",
    "Always use `and` with conditionals, always use `&` with boolean arrays.\n",
    "\n",
    "Same goes for `or` with conditionals, and `|` with boolean arrays."
   ]
  },
  {
   "cell_type": "code",
   "execution_count": null,
   "metadata": {},
   "outputs": [],
   "source": [
    "True and False"
   ]
  },
  {
   "cell_type": "code",
   "execution_count": null,
   "metadata": {},
   "outputs": [],
   "source": [
    "np.array([True, False, True]) & np.array([False, False, False])"
   ]
  },
  {
   "cell_type": "code",
   "execution_count": null,
   "metadata": {},
   "outputs": [],
   "source": [
    "# don't do this!\n",
    "np.array([True, False, True]) and np.array([False, False, False])"
   ]
  },
  {
   "cell_type": "markdown",
   "metadata": {},
   "source": [
    "### 3.2) Parentheses when combining conditionals:"
   ]
  },
  {
   "cell_type": "code",
   "execution_count": null,
   "metadata": {},
   "outputs": [],
   "source": [
    "df[df.get(\"Age\") >= 25 & df.get(\"Points\") >= 2000]"
   ]
  },
  {
   "cell_type": "code",
   "execution_count": null,
   "metadata": {},
   "outputs": [],
   "source": [
    "df[(df.get(\"Age\") >= 25) & (df.get(\"Points\") >= 1800)]"
   ]
  },
  {
   "cell_type": "markdown",
   "metadata": {},
   "source": [
    "### 3.3) Column names are meaningless/re-considered after a `groupby` and aggregation"
   ]
  },
  {
   "cell_type": "code",
   "execution_count": null,
   "metadata": {
    "scrolled": true
   },
   "outputs": [],
   "source": [
    "df.groupby(\"Team\").count()"
   ]
  },
  {
   "cell_type": "code",
   "execution_count": null,
   "metadata": {},
   "outputs": [],
   "source": [
    "# Has no relation to the actual \"Steals\" and \"Blocks\" columns\n",
    "df.groupby(\"Team\").count().get([\"Steals\", \"Blocks\"])"
   ]
  },
  {
   "cell_type": "markdown",
   "metadata": {},
   "source": [
    "### 3.4) Reset index, especially after grouping with multiple columns."
   ]
  },
  {
   "cell_type": "code",
   "execution_count": null,
   "metadata": {},
   "outputs": [],
   "source": [
    "(df_new\n",
    " .groupby([\"Team\", \"Age_Group\"])\n",
    " .count()\n",
    " .reset_index()\n",
    ")"
   ]
  },
  {
   "cell_type": "markdown",
   "metadata": {},
   "source": [
    "### 3.5) `iloc[]` vs `loc[]` vs array indexing`[]`"
   ]
  },
  {
   "cell_type": "code",
   "execution_count": null,
   "metadata": {},
   "outputs": [],
   "source": [
    "# Before using loc, make sure of what type of index you have:\n",
    "df.index"
   ]
  },
  {
   "cell_type": "code",
   "execution_count": null,
   "metadata": {},
   "outputs": [],
   "source": [
    "df = df.set_index(\"Name\")"
   ]
  },
  {
   "cell_type": "code",
   "execution_count": null,
   "metadata": {},
   "outputs": [],
   "source": [
    "df"
   ]
  },
  {
   "cell_type": "code",
   "execution_count": null,
   "metadata": {},
   "outputs": [],
   "source": [
    "df.get(\"Age\").loc[\"Stephen Curry\"]"
   ]
  },
  {
   "cell_type": "code",
   "execution_count": null,
   "metadata": {},
   "outputs": [],
   "source": [
    "df.get(\"Age\").iloc[2]"
   ]
  },
  {
   "cell_type": "code",
   "execution_count": null,
   "metadata": {},
   "outputs": [],
   "source": [
    "df.index[2]"
   ]
  },
  {
   "cell_type": "markdown",
   "metadata": {},
   "source": [
    "### 3.6) Not specifying column while sorting DataFrame\n",
    "\n",
    "Wrong: `df = df.sort_values(ascending = False)` \n",
    "\n",
    "Correct: `df = df.sort_values(by = column_name, ascending = False)` "
   ]
  },
  {
   "cell_type": "markdown",
   "metadata": {},
   "source": [
    "### 3.7) Trying to get the index using .get() instead of .index"
   ]
  },
  {
   "cell_type": "code",
   "execution_count": null,
   "metadata": {
    "scrolled": true
   },
   "outputs": [],
   "source": [
    "# df.get(\"Name\")\n",
    "df.index"
   ]
  },
  {
   "cell_type": "markdown",
   "metadata": {},
   "source": [
    "### 3.8) Using df.drop with missing argument"
   ]
  },
  {
   "cell_type": "markdown",
   "metadata": {},
   "source": [
    "`df.drop(columns = column_name)` without `columns` argument, for example `df.drop(column_name)` is wrong."
   ]
  },
  {
   "cell_type": "code",
   "execution_count": null,
   "metadata": {},
   "outputs": [],
   "source": [
    "# df.drop(\"Points\")\n",
    "df.drop(columns = \"Points\")"
   ]
  },
  {
   "cell_type": "markdown",
   "metadata": {},
   "source": [
    "### 3.9) `np.arange` (and list slicing) includes the first value but excludes the last"
   ]
  },
  {
   "cell_type": "code",
   "execution_count": null,
   "metadata": {},
   "outputs": [],
   "source": [
    "np.arange(10, 20)"
   ]
  },
  {
   "cell_type": "markdown",
   "metadata": {},
   "source": [
    "### 3.10) Use of `counter = 0` before `for` loop and `counter = counter + 1` inside loop"
   ]
  },
  {
   "cell_type": "code",
   "execution_count": null,
   "metadata": {},
   "outputs": [],
   "source": [
    "# Example: Get the number of elements that are divisible by 3\n",
    "data = np.arange(28)\n",
    "\n",
    "counter = 0\n",
    "for i in data:\n",
    "    if i % 3 == 0:\n",
    "        counter += 1\n",
    "\n",
    "counter"
   ]
  },
  {
   "cell_type": "markdown",
   "metadata": {},
   "source": [
    "### 3.11) Variables defined inside the function cannot be used/called outside"
   ]
  },
  {
   "cell_type": "code",
   "execution_count": null,
   "metadata": {},
   "outputs": [],
   "source": [
    "# Example: Write a function to get all the elements that are divisible by 3\n",
    "# Input will be in the form of np.array\n",
    "\n",
    "def div_by_three(data):\n",
    "    result = np.array([])\n",
    "    \n",
    "    for i in data:\n",
    "        if i % 3 == 0:\n",
    "            result = np.append(result, i)\n",
    "    \n",
    "    return result\n",
    "\n",
    "div_by_three(np.arange(28))"
   ]
  },
  {
   "cell_type": "code",
   "execution_count": null,
   "metadata": {},
   "outputs": [],
   "source": [
    "result"
   ]
  },
  {
   "cell_type": "markdown",
   "metadata": {},
   "source": [
    "### 3.12) Take care of the indentations while using `for` loops, `if-else` statements, and functions"
   ]
  },
  {
   "cell_type": "code",
   "execution_count": null,
   "metadata": {},
   "outputs": [],
   "source": [
    "# Take a look at above two examples to see the various indentations"
   ]
  },
  {
   "cell_type": "code",
   "execution_count": null,
   "metadata": {},
   "outputs": [],
   "source": []
  }
 ],
 "metadata": {
  "kernelspec": {
   "display_name": "Python 3",
   "language": "python",
   "name": "python3"
  },
  "language_info": {
   "codemirror_mode": {
    "name": "ipython",
    "version": 3
   },
   "file_extension": ".py",
   "mimetype": "text/x-python",
   "name": "python",
   "nbconvert_exporter": "python",
   "pygments_lexer": "ipython3",
   "version": "3.8.8"
  }
 },
 "nbformat": 4,
 "nbformat_minor": 4
}
