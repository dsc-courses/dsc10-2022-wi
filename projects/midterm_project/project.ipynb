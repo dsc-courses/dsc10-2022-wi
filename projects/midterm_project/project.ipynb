{
 "cells": [
  {
   "cell_type": "markdown",
   "id": "96bf3204",
   "metadata": {},
   "source": [
    "# Midterm Project – UCSD Admissions 🎟\n",
    "\n",
    "## Due Saturday, February 12th at 11:59PM PST\n",
    "\n",
    "Welcome to the Midterm Project! Projects in DSC 10 are similar in format to homeworks, but are different in a few key ways. First, a project is comprehensive, meaning that it draws upon everything we've learned this quarter so far. Second, since problems can vary quite a bit in difficulty, some problems will be worth more points than others. Finally, in a project, the problems are more open-ended; they will usually ask for some result, but won't tell you what method should be used to get it. There might be several equally-valid approaches, and several steps might be necessary. This is closer to how data science is done in \"real life\".\n",
    "\n",
    "It is important that you **start early** on the project! It will take the place of a homework in the week that it is due, but you should also expect it to take longer than a homework. You are especially encouraged to **find a partner** to work through the project with. If you work in a pair, you must follow the [Pair Programming Guidelines](https://dsc10.com/pair-programming/) on the course website. In particular, you must work together at the same time, and you are not allowed to split up the problems and each work on certain problems. If working in a pair, you should submit one notebook to Gradescope for the both of you. Use [this sheet](https://docs.google.com/spreadsheets/d/1m5eDcFdYTQq5bu9VRYINZBFgckCyJEOXZFZGZ9bQqKY/edit?usp=sharing) to find someone else to work with.\n",
    "\n",
    "**Important:** The `otter` tests don't usually tell you that your answer is correct. More often, they help catch basic mistakes. It's up to you to ensure that your answer is correct. If you're not sure, ask someone (not for the answer, but for some guidance about your approach). Directly sharing answers between groups is not okay, but discussing problems with the course staff or with other students is encouraged.\n",
    "\n",
    "**Unless explicitly directed to, do not use for-loops or import any packages.** Loops in Python are slow, and looping over arrays and DataFrames should usually be avoided in favor of commands that are meant specifically for these objects. Please do not import any additional packages - you don't need them, and our autograder may not be able to run your code if you do.\n",
    "\n",
    "As you work through this project, there are a few resources you may want to have open:\n",
    "- [DSC 10 Course Notes](https://notes.dsc10.com/front.html)\n",
    "- [DSC 10 Reference Sheet](https://drive.google.com/file/d/1mQApk9Ovdi-QVqMgnNcq5dZcWucUKoG-/view)\n",
    "- [`babypandas` documentation](https://babypandas.readthedocs.io/en/latest/)\n",
    "- Other links in the [Resources](https://dsc10.com/resources/) and [Debugging](https://dsc10.com/debugging/) tabs of the course website\n",
    "\n",
    "Start early, good luck, and let's get started! 😎"
   ]
  },
  {
   "cell_type": "code",
   "execution_count": null,
   "id": "1135e2fa",
   "metadata": {},
   "outputs": [],
   "source": [
    "# Don't change this cell; just run it. \n",
    "import numpy as np\n",
    "import babypandas as bpd\n",
    "\n",
    "import matplotlib.pyplot as plt\n",
    "plt.style.use('fivethirtyeight')\n",
    "\n",
    "import otter\n",
    "grader = otter.Notebook()"
   ]
  },
  {
   "cell_type": "markdown",
   "id": "39f1530b",
   "metadata": {},
   "source": [
    "Use this outline to help you quickly navigate to the part of the project you're working on:\n",
    "\n",
    "- [The Data 🎓](#the-data)\n",
    "- [Question 1 – Basic Enrollment Statistics 📈](#q1)\n",
    "- [Question 2 – Digging Deeper 🕵️](#q2)\n",
    "- [Question 3 – California Counties 📍](#q3)\n",
    "- [Question 4 – The Bay vs. SoCal 🆚](#q4)\n",
    "- [Question 5 – Out-of-State ✈️](#q5)"
   ]
  },
  {
   "cell_type": "markdown",
   "id": "a98fcde3",
   "metadata": {},
   "source": [
    "<a name='the-data'></a>\n",
    "\n",
    "## The Data 🎓\n",
    "\n",
    "In this project, we'll take a look at UC San Diego's undergraduate admissions numbers for the class of first-years (i.e. not transfers) that entered in the Fall of 2020. The data we'll work with comes directly from the [University of California's Information Center](https://www.universityofcalifornia.edu/infocenter/admissions-source-school)."
   ]
  },
  {
   "cell_type": "markdown",
   "id": "b273e376",
   "metadata": {},
   "source": [
    "Run the cell below to load in our data as a DataFrame into the variable `ucsd_admissions_raw`."
   ]
  },
  {
   "cell_type": "code",
   "execution_count": null,
   "id": "d70761fe",
   "metadata": {},
   "outputs": [],
   "source": [
    "ucsd_admissions_raw = bpd.read_csv('data/ucsd-admissions-2020.csv')\n",
    "ucsd_admissions_raw"
   ]
  },
  {
   "cell_type": "markdown",
   "id": "00b9804e",
   "metadata": {},
   "source": [
    "Each row corresponds to a high school. For each high school, we have the following information:\n",
    "\n",
    "| Column | Description |\n",
    "|:---|:---|\n",
    "| `'Name'`| The name of the high school. Note, this is not unique – for instance, the top two rows of `ucsd_admissions_raw` correspond to two different high schools both with the name `'ABRAHAM LINCOLN HIGH SCHOOL'`; one is in San Francisco and one is in San Jose. |\n",
    "| `'City'` | The city in which the high school is located in. Note, only schools within the US have a valid `'City'` listed; international schools have a city of `NaN`. `NaN` means \"missing value\". See the code cell below. |\n",
    "| `'Region'` | The county (**not** country) in which the `'City'` is located if it is in California, or the state in which the `'City'` is located if it is not in California but is inside the US. If the high school is not within the US, `'Region'` is `NaN` (like `'City'`). |\n",
    "| `'Applied'` | The number of students who applied to UCSD from that high school for admission in Fall 2020. |\n",
    "| `'Admitted'` | The number of students who were admitted to UCSD from that high school for admission in Fall 2020. |\n",
    "| `'Enrolled'` | The number of students who actually chose to attend UCSD from that high school starting in Fall 2020. |"
   ]
  },
  {
   "cell_type": "markdown",
   "id": "611c8c6b",
   "metadata": {},
   "source": [
    "Run the cell below. There's nothing you need to change in it; it's just showing you one of the many international high schools in the dataset. Notice that its `'City'` and `'Region'` are both NaN (missing)."
   ]
  },
  {
   "cell_type": "code",
   "execution_count": null,
   "id": "17e55b09",
   "metadata": {},
   "outputs": [],
   "source": [
    "ucsd_admissions_raw[ucsd_admissions_raw.get('ID') == 'BEIJING NATIONAL DAY SCHOOL694342']"
   ]
  },
  {
   "cell_type": "markdown",
   "id": "da751975",
   "metadata": {},
   "source": [
    "<a name='q1'></a>\n",
    "\n",
    "## Question 1 – Basic Enrollment Statistics 📈"
   ]
  },
  {
   "cell_type": "markdown",
   "id": "dd8a59ba",
   "metadata": {},
   "source": [
    "Run the cell below to look at `ucsd_admissions_raw` again."
   ]
  },
  {
   "cell_type": "code",
   "execution_count": null,
   "id": "8e9d9a7f",
   "metadata": {},
   "outputs": [],
   "source": [
    "ucsd_admissions_raw"
   ]
  },
  {
   "cell_type": "markdown",
   "id": "b9c75579",
   "metadata": {},
   "source": [
    "It's a good idea to set the index of our DataFrame to something more meaningful than 0, 1, 2, 3, ... if possible. It turns out that we cannot use `'Name'` as the index here, because there are some high schools with the same name (and we'd like the index of our DataFrame to be unique). One such example is `'ABRAHAM LINCOLN HIGH SCHOOL'`, as was mentioned in the table that described each of the columns of our data.\n",
    "\n",
    "Instead, we'll have to use `'ID'` as our index, as it is unique for each school (note that the two `'ABRAHAM LINCOLN HIGH SCHOOL'`s have different `'ID'`s)."
   ]
  },
  {
   "cell_type": "markdown",
   "id": "0c179359",
   "metadata": {
    "deletable": false,
    "editable": false
   },
   "source": [
    "### Question 1.1 (1 point)\n",
    "\n",
    "Assign `ucsd` to the DataFrame that results from setting the index of `ucsd_admissions_raw` to `'ID'`.\n",
    "\n",
    "<!--\n",
    "BEGIN QUESTION\n",
    "name: q1_1\n",
    "points: 1\n",
    "-->"
   ]
  },
  {
   "cell_type": "code",
   "execution_count": null,
   "id": "a66e4b39",
   "metadata": {},
   "outputs": [],
   "source": [
    "ucsd = ...\n",
    "ucsd"
   ]
  },
  {
   "cell_type": "code",
   "execution_count": null,
   "id": "ed57b2b7",
   "metadata": {
    "deletable": false,
    "editable": false
   },
   "outputs": [],
   "source": [
    "grader.check(\"q1_1\")"
   ]
  },
  {
   "cell_type": "markdown",
   "id": "ce882bb1",
   "metadata": {},
   "source": [
    "Great – we'll use `ucsd` moving forward instead of `ucsd_admissions_raw`."
   ]
  },
  {
   "cell_type": "markdown",
   "id": "b1a9af65",
   "metadata": {
    "deletable": false,
    "editable": false
   },
   "source": [
    "### Question 1.2 (1 point)\n",
    "\n",
    "Acceptance rate is defined as $$\\text{Acceptance Rate} = \\frac{\\text{# Admitted}}{\\text{# Applied}}$$\n",
    "\n",
    "Amongst students in the dataset, what was the overall acceptance rate at UCSD? Compute the acceptance rate as a proportion, and save your answer to the name `overall_acceptance`.\n",
    "\n",
    "<!--\n",
    "BEGIN QUESTION\n",
    "name: q1_2\n",
    "points: 1\n",
    "-->"
   ]
  },
  {
   "cell_type": "code",
   "execution_count": null,
   "id": "4b243b67",
   "metadata": {},
   "outputs": [],
   "source": [
    "overall_acceptance = ...\n",
    "overall_acceptance"
   ]
  },
  {
   "cell_type": "code",
   "execution_count": null,
   "id": "2c3d024c",
   "metadata": {
    "deletable": false,
    "editable": false
   },
   "outputs": [],
   "source": [
    "grader.check(\"q1_2\")"
   ]
  },
  {
   "cell_type": "markdown",
   "id": "3b25e5e1",
   "metadata": {
    "deletable": false,
    "editable": false
   },
   "source": [
    "<!-- BEGIN QUESTION -->\n",
    "\n",
    "### Question 1.3 (1 point)\n",
    "\n",
    "The site [acceptancerate.com](https://www.acceptancerate.com/schools/university-of-california-san-diego) states the following:\n",
    "\n",
    "> The overall acceptance rate for University of California-San Diego was reported as 31.5% in Fall 2020 with over 99100 applications submitted to UCSD. Both in state and out of state applicants are included in these figures. We do not have data on transfer acceptance rates currently.\n",
    "\n",
    "31.5% is quite different than the acceptance rate you found in Question 1.2. Why is there a discrepancy between the number quoted above and the result you found?\n",
    "\n",
    "_**Hint:**_ The answer is **not** that the website [acceptancerate.com](https://www.acceptancerate.com/schools/university-of-california-san-diego) is not credible. Instead, to find the answer, you'll want to look at the fine print at the [site we downloaded the data from](https://www.universityofcalifornia.edu/infocenter/admissions-source-school).\n",
    "\n",
    "\n",
    "<!--\n",
    "BEGIN QUESTION\n",
    "name: q1_3\n",
    "points: 1\n",
    "manual: true\n",
    "-->"
   ]
  },
  {
   "cell_type": "markdown",
   "id": "740d6a12",
   "metadata": {},
   "source": [
    "_Type your answer here, replacing this text._"
   ]
  },
  {
   "cell_type": "markdown",
   "id": "72ec67dc",
   "metadata": {
    "deletable": false,
    "editable": false
   },
   "source": [
    "<!-- END QUESTION -->\n",
    "\n",
    "### Question 1.4 (1 point)\n",
    "\n",
    "Yield rate is defined as\n",
    "\n",
    "$$\\text{Yield Rate} = \\frac{\\text{# Enrolled}}{\\text{# Admitted}}$$\n",
    "\n",
    "Below, add two columns to `ucsd`: `'AcceptanceRate'`, describing the acceptance rate at each high school, and `'YieldRate'`, describing the yield rate of each high school. Sort the resulting DataFrame so that high schools with the highest acceptance rates are at the top. Assign the name `ucsd_admit` to the resulting DataFrame.\n",
    "\n",
    "<!--\n",
    "BEGIN QUESTION\n",
    "name: q1_4\n",
    "points: 1\n",
    "-->"
   ]
  },
  {
   "cell_type": "code",
   "execution_count": null,
   "id": "51fa6f1a",
   "metadata": {},
   "outputs": [],
   "source": [
    "ucsd_admit = ...\n",
    "ucsd_admit"
   ]
  },
  {
   "cell_type": "code",
   "execution_count": null,
   "id": "188fcd42",
   "metadata": {
    "deletable": false,
    "editable": false
   },
   "outputs": [],
   "source": [
    "grader.check(\"q1_4\")"
   ]
  },
  {
   "cell_type": "markdown",
   "id": "610b1364",
   "metadata": {
    "deletable": false,
    "editable": false
   },
   "source": [
    "<!-- BEGIN QUESTION -->\n",
    "\n",
    "### Question 1.5 (1 point)\n",
    "\n",
    "Let's see if there's a relationship between the acceptance rates and yield rates of high schools in `ucsd_admit`. To do this, create a scatter plot with `'AcceptanceRate'` on the $x$-axis and `'YieldRate'` on the $y$-axis.\n",
    "\n",
    "Does there seem to be any trend in the relationship between acceptance rates and yield rates? (You don't need to answer this interpretation question anywhere; all you need to do in this question is create a plot.)\n",
    "\n",
    "<!--\n",
    "BEGIN QUESTION\n",
    "name: q1_5\n",
    "points: 1\n",
    "manual: true\n",
    "-->"
   ]
  },
  {
   "cell_type": "code",
   "execution_count": null,
   "id": "79ac47e5",
   "metadata": {},
   "outputs": [],
   "source": [
    "..."
   ]
  },
  {
   "cell_type": "markdown",
   "id": "664ec311",
   "metadata": {
    "deletable": false,
    "editable": false
   },
   "source": [
    "<!-- END QUESTION -->\n",
    "\n",
    "### Question 1.6 (2 points)\n",
    "\n",
    "Let's try and identify the high schools with very low and very high acceptance rates. Assign `top_eight_acc` to an **array** of the **names** (not IDs) of the high schools with the 8 highest acceptance rates, and `bottom_eight_acc` to an **array** of the **names** of the high schools with the 8 lowest acceptance rates. The order of the names within your arrays does not matter.\n",
    "\n",
    "_**Note:**_ Do **not** explicitly type the names of any of the high schools. Instead, use a combination of DataFrame, Series, and array manipulation techniques to create both arrays using code.\n",
    "\n",
    "<!--\n",
    "BEGIN QUESTION\n",
    "name: q1_6\n",
    "points: 2\n",
    "-->"
   ]
  },
  {
   "cell_type": "code",
   "execution_count": null,
   "id": "f719c49a",
   "metadata": {},
   "outputs": [],
   "source": [
    "top_eight_acc = ...\n",
    "bottom_eight_acc = ...\n",
    "\n",
    "# Don't change the code below – it just shows you the two arrays you created.\n",
    "print('Schools with the 8 highest acceptance rates:')\n",
    "for school in top_eight_acc:\n",
    "    print(school)\n",
    "print('\\nSchools with the 8 lowest acceptance rates:')\n",
    "for school in bottom_eight_acc:\n",
    "    print(school)"
   ]
  },
  {
   "cell_type": "code",
   "execution_count": null,
   "id": "ec7b56c4",
   "metadata": {
    "deletable": false,
    "editable": false
   },
   "outputs": [],
   "source": [
    "grader.check(\"q1_6\")"
   ]
  },
  {
   "cell_type": "markdown",
   "id": "0f379890",
   "metadata": {
    "deletable": false,
    "editable": false
   },
   "source": [
    "<!-- BEGIN QUESTION -->\n",
    "\n",
    "### Question 1.7 (2 points)\n",
    "\n",
    "Below, complete the implementation of the function `plot_top_n`, which takes in an integer `n` and displays a horizontal overlaid bar chart with:\n",
    "- One label on the $y$-axis for each of the top `n` high schools that had the most applicants to UCSD. Labels should be the **names** of the high schools, not IDs.\n",
    "- For each of the aforementioned high schools, one bar displaying the number of students who applied to UCSD, and another bar displaying the number of students who were admitted to UCSD.\n",
    "- Labels should be sorted such that the school at the top had the most applicants.\n",
    "\n",
    "For example, `plot_top_n(10)` should show the plot below. Note that `plot_top_n` should not return anything, it should only display a chart.\n",
    "\n",
    "<img src='images/example-17.png' width=500>\n",
    "\n",
    "<!--\n",
    "BEGIN QUESTION\n",
    "name: q1_7\n",
    "points: 2\n",
    "manual: true\n",
    "-->"
   ]
  },
  {
   "cell_type": "code",
   "execution_count": null,
   "id": "5b3d8b10",
   "metadata": {},
   "outputs": [],
   "source": [
    "def plot_top_n(n):\n",
    "    ..."
   ]
  },
  {
   "cell_type": "markdown",
   "id": "fc5e4489",
   "metadata": {},
   "source": [
    "<!-- END QUESTION -->\n",
    "\n",
    "\n",
    "\n",
    "Now, run the cell below to call both `plot_top_n(10)` and `plot_top_n(15)`. This question isn't autograded; instead, we'll be manually verifying that both your code and your outputs below look correct."
   ]
  },
  {
   "cell_type": "code",
   "execution_count": null,
   "id": "c04132b4",
   "metadata": {},
   "outputs": [],
   "source": [
    "plot_top_n(10)\n",
    "plot_top_n(15)"
   ]
  },
  {
   "cell_type": "markdown",
   "id": "766f6c21",
   "metadata": {},
   "source": [
    "Do you see your high school above? There's a good chance you do, statistically speaking!"
   ]
  },
  {
   "cell_type": "markdown",
   "id": "1a574bf1",
   "metadata": {},
   "source": [
    "<a name='q2'></a>\n",
    "\n",
    "## Question 2 – Digging Deeper 🕵️\n",
    "\n",
    "Now that we've gotten a feel for the `ucsd_admit` dataset, let's perform some queries to learn a bit more about the nature of admissions at UCSD."
   ]
  },
  {
   "cell_type": "markdown",
   "id": "773426fd",
   "metadata": {},
   "source": [
    "### Question 2.1 (1 point)\n",
    "\n",
    "Let's first look at students from San Diego County. Set `sd_county` to a DataFrame of only the high schools in San Diego County. `sd_county` should have all of the columns that `ucsd_admit` has.\n",
    "\n",
    "_**Note:**_ We're referring to San Diego County, not the City of San Diego!"
   ]
  },
  {
   "cell_type": "code",
   "execution_count": null,
   "id": "572f0077",
   "metadata": {},
   "outputs": [],
   "source": [
    "sd_county = ...\n",
    "sd_county"
   ]
  },
  {
   "cell_type": "code",
   "execution_count": null,
   "id": "fef80023",
   "metadata": {
    "deletable": false,
    "editable": false
   },
   "outputs": [],
   "source": [
    "grader.check(\"q2_1\")"
   ]
  },
  {
   "cell_type": "markdown",
   "id": "e1d8d99b",
   "metadata": {},
   "source": [
    "### Question 2.2 (1 point)\n",
    "\n",
    "Compute the overall acceptance rate of students from the county of San Diego. Assign your answer to `sd_county_acceptance`.\n",
    "\n",
    "_**Hint:**_ If you find yourself computing the mean of a column in `sd_county`, you may want to reconsider your approach."
   ]
  },
  {
   "cell_type": "code",
   "execution_count": null,
   "id": "5f122bdc",
   "metadata": {},
   "outputs": [],
   "source": [
    "sd_county_acceptance = ...\n",
    "sd_county_acceptance"
   ]
  },
  {
   "cell_type": "code",
   "execution_count": null,
   "id": "47a4612c",
   "metadata": {
    "deletable": false,
    "editable": false
   },
   "outputs": [],
   "source": [
    "grader.check(\"q2_2\")"
   ]
  },
  {
   "cell_type": "markdown",
   "id": "a121b47c",
   "metadata": {},
   "source": [
    "### Question 2.3 (1 point)\n",
    "\n",
    "Run the following cell."
   ]
  },
  {
   "cell_type": "code",
   "execution_count": null,
   "id": "049982cc",
   "metadata": {
    "scrolled": true
   },
   "outputs": [],
   "source": [
    "print('Overall acceptance rate:', overall_acceptance)\n",
    "print('SD County acceptance rate:', sd_county_acceptance)"
   ]
  },
  {
   "cell_type": "markdown",
   "id": "f97c4c36",
   "metadata": {},
   "source": [
    "Compare the two acceptance rates. What do you notice? Just by looking at the results, we can't conclude exactly why this difference exists, but can you think of a possible reason?"
   ]
  },
  {
   "cell_type": "markdown",
   "id": "d95c65a6",
   "metadata": {
    "deletable": false,
    "editable": false
   },
   "source": [
    "<!-- BEGIN QUESTION -->\n",
    "\n",
    "<!--\n",
    "BEGIN QUESTION\n",
    "name: q2_3\n",
    "points: 1\n",
    "manual: true\n",
    "-->"
   ]
  },
  {
   "cell_type": "markdown",
   "id": "d727bc5a",
   "metadata": {},
   "source": [
    "_Type your answer here, replacing this text._"
   ]
  },
  {
   "cell_type": "markdown",
   "id": "8177a127",
   "metadata": {},
   "source": [
    "<!-- END QUESTION -->\n",
    "\n",
    "\n",
    "\n",
    "### Question 2.4 (1 point)\n",
    "\n",
    "How many high schools in the county of San Diego had at least 100 applicants and an acceptance rate of at least 40%? Assign your answer to the name `county_query_count`."
   ]
  },
  {
   "cell_type": "code",
   "execution_count": null,
   "id": "870f2590",
   "metadata": {
    "scrolled": true
   },
   "outputs": [],
   "source": [
    "county_query_count = ...\n",
    "county_query_count"
   ]
  },
  {
   "cell_type": "code",
   "execution_count": null,
   "id": "a4c341d8",
   "metadata": {
    "deletable": false,
    "editable": false
   },
   "outputs": [],
   "source": [
    "grader.check(\"q2_4\")"
   ]
  },
  {
   "cell_type": "markdown",
   "id": "d2ec67f8",
   "metadata": {},
   "source": [
    "### Question 2.5 (2 points)\n",
    "\n",
    "Assign the name `city_query` to a DataFrame containing all high schools from the **city** of San Diego with between 100 (inclusive) and 200 (inclusive) applicants and an acceptance rate between 25% (inclusive) and 35% (inclusive). `city_query` should have all of the columns that `ucsd_admit` has."
   ]
  },
  {
   "cell_type": "code",
   "execution_count": null,
   "id": "c7f804aa",
   "metadata": {},
   "outputs": [],
   "source": [
    "city_query = ...\n",
    "city_query"
   ]
  },
  {
   "cell_type": "code",
   "execution_count": null,
   "id": "6ae3f534",
   "metadata": {
    "deletable": false,
    "editable": false
   },
   "outputs": [],
   "source": [
    "grader.check(\"q2_5\")"
   ]
  },
  {
   "cell_type": "markdown",
   "id": "25a0cf2f",
   "metadata": {},
   "source": [
    "### Question 2.6 (2 points)\n",
    "\n",
    "Assign the name `burbs` to a DataFrame containing all high schools in Los Angeles County but not the City of Los Angeles, and all of the high schools in San Diego County but not the City of San Diego. `burbs` should have all of the columns that `ucsd_admit` has."
   ]
  },
  {
   "cell_type": "code",
   "execution_count": null,
   "id": "bbf104e6",
   "metadata": {},
   "outputs": [],
   "source": [
    "burbs = ...\n",
    "burbs"
   ]
  },
  {
   "cell_type": "code",
   "execution_count": null,
   "id": "8dd352d8",
   "metadata": {
    "deletable": false,
    "editable": false
   },
   "outputs": [],
   "source": [
    "grader.check(\"q2_6\")"
   ]
  },
  {
   "cell_type": "markdown",
   "id": "a1169caa",
   "metadata": {},
   "source": [
    "### Question 2.7 (2 points)\n",
    "\n",
    "If we wanted to learn about the admissions statistics of a particular high school, we'd need to write a query, which can get cumbersome. Here, we'll write a function to make this process a bit easier. \n",
    "\n",
    "Below, complete the implementation of the function `school_stats`, which takes in the **name** (not the ID) of a high school and returns an **array** with three values, containing the number of students who applied, were admitted, and enrolled at UCSD from that high school, in that order. If there is no school with the input name or there are multiple schools with the input name, return the array `np.array([0, 0, 0])`. You may assume the input name is in uppercase.\n",
    "\n",
    "Example behavior is shown below.\n",
    "\n",
    "```py\n",
    "# From CANYON CREST ACADEMY, 300 students applied, 150 were admitted, and 35 enrolled\n",
    ">>> school_stats('CANYON CREST ACADEMY')\n",
    "array([300, 150, 35])\n",
    "\n",
    "# There is no school named VINCENT MASSEY SECONDARY SCHOOL in ucsd_admit\n",
    ">>> school_stats('VINCENT MASSEY SECONDARY SCHOOL')\n",
    "array([0, 0, 0])\n",
    "```\n",
    "\n",
    "_**Note:**_ Once you've implemented the function, you should verify that it works as intended by trying a few examples yourself. Try it out on your high school! (Fun fact – `'VINCENT MASSEY SECONDARY SCHOOL'` is the high school that Suraj went to.)"
   ]
  },
  {
   "cell_type": "code",
   "execution_count": null,
   "id": "593109f3",
   "metadata": {},
   "outputs": [],
   "source": [
    "def school_stats(name):\n",
    "    ..."
   ]
  },
  {
   "cell_type": "code",
   "execution_count": null,
   "id": "ebf472b9",
   "metadata": {
    "deletable": false,
    "editable": false
   },
   "outputs": [],
   "source": [
    "grader.check(\"q2_7\")"
   ]
  },
  {
   "cell_type": "markdown",
   "id": "85dc0a52",
   "metadata": {},
   "source": [
    "### Question 2.8 (2 points)\n",
    "\n",
    "Now, complete the implementation of the function `school_stats_multiple`, which takes in a **list** of school names and returns an array of three values, containing the **total** number of students who applied, were admitted, and enrolled at UCSD from those high schools combined.\n",
    "\n",
    "If any of the names in `schools` are not valid schools or if there are multiple schools with a given name, `school_stats_multiple` again returns the array `np.array([0, 0, 0])`. Example behavior is shown below.\n",
    "\n",
    "```py\n",
    "# From these three high schools combined, 754 students applied, 326 were admitted, and 76 enrolled\n",
    ">>> school_stats_multiple(['CANYON CREST ACADEMY', 'TORREY PINES HIGH SCHOOL', 'BERKELEY HIGH SCHOOL'])\n",
    "array([754, 326, 76])\n",
    "\n",
    "# There is no school named VINCENT MASSEY SECONDARY SCHOOL in ucsd_admit\n",
    ">>> school_stats_multiple(['VINCENT MASSEY SECONDARY SCHOOL', 'CANYON CREST ACADEMY'])\n",
    "array([0, 0, 0])\n",
    "```\n",
    "\n",
    "_**Hint 1:**_ Don't reinvent the wheel – use the function `school_stats` in your implementation of `school_stats_multiple`.\n",
    "\n",
    "_**Hint 2:**_ You will need to use a for-loop."
   ]
  },
  {
   "cell_type": "code",
   "execution_count": null,
   "id": "5df852e9",
   "metadata": {},
   "outputs": [],
   "source": [
    "def school_stats_multiple(schools):\n",
    "    ..."
   ]
  },
  {
   "cell_type": "code",
   "execution_count": null,
   "id": "cf2b42f1",
   "metadata": {
    "deletable": false,
    "editable": false
   },
   "outputs": [],
   "source": [
    "grader.check(\"q2_8\")"
   ]
  },
  {
   "cell_type": "markdown",
   "id": "d5de5214",
   "metadata": {},
   "source": [
    "<a name='q3'></a>\n",
    "\n",
    "## Question 3 – California Counties 📍\n",
    "\n",
    "Let's switch our focus to studying the nature of admissions at UCSD for in-state high schools, based on county.\n",
    "\n",
    "Note that the `'Region'` column of `ucsd_admit` contains a variety of values. From the data description table at the start of the project, the `'Region'` column contains:\n",
    "\n",
    "> The county (**not** country) in which the `'City'` is located if it is in California, or the state in which the `'City'` is located if it is not in California but is inside the US. If the high school is not within the US, `'Region'` is `NaN` (`NaN` means \"missing value\")."
   ]
  },
  {
   "cell_type": "code",
   "execution_count": null,
   "id": "804ac1c6",
   "metadata": {},
   "outputs": [],
   "source": [
    "ucsd_admit"
   ]
  },
  {
   "cell_type": "markdown",
   "id": "8171b6b9",
   "metadata": {},
   "source": [
    "### Question 3.1 (2 points)\n",
    "\n",
    "Below, complete the implementation of the function `in_cali`, which takes in the name of a region and returns `True` if that region is a county in California and `False` otherwise. Example behavior is shown below.\n",
    "\n",
    "```py\n",
    ">>> in_cali('San Diego')\n",
    "True\n",
    "\n",
    ">>> in_cali('PA')\n",
    "False\n",
    "\n",
    ">>> in_cali(np.nan) # This is the region for international schools\n",
    "False\n",
    "\n",
    ">>> in_cali('Unknown')\n",
    "False\n",
    "```\n",
    "\n",
    "_**Notes:**_\n",
    "1. The line `region = str(region)` may seem redundant, since all of the regions are already strings. However, missing values (`NaN`) aren't technically stored as strings; this line converts the missing value to a string. This makes it easy to check if a region is missing; all you need to do is check if `region == 'nan'`.\n",
    "2. There is a single row in `ucsd_admit` with a region of `'Unknown'`. If you look at this row you'll see that it technically corresponds to a high school in California, but since we don't know the county that the school is in, we will treat it as being out-of-state. As such, `in_cali` should return `False` if `region` is `'Unknown'`."
   ]
  },
  {
   "cell_type": "code",
   "execution_count": null,
   "id": "d7d00136",
   "metadata": {},
   "outputs": [],
   "source": [
    "def in_cali(region):\n",
    "    region = str(region) # Don't change this\n",
    "    ..."
   ]
  },
  {
   "cell_type": "code",
   "execution_count": null,
   "id": "a1ee59ce",
   "metadata": {
    "deletable": false,
    "editable": false
   },
   "outputs": [],
   "source": [
    "grader.check(\"q3_1\")"
   ]
  },
  {
   "cell_type": "markdown",
   "id": "bfd5474a",
   "metadata": {},
   "source": [
    "### Question 3.2 (1 point)\n",
    "\n",
    "Below, create two DataFrames:\n",
    "- `ucsd_state`, which has all of the columns in `ucsd_admit` plus a new column, `'instate'`, which contains a Boolean value describing whether each high school is in-state or not (decided according to the function in 3.1), and\n",
    "- `instate_only`, which contains only the high schools that are in-state. `instate_only` should have the same columns as `ucsd_admit`; it should not have a column named `'instate'` since all schools in `instate_only` will be in-state."
   ]
  },
  {
   "cell_type": "code",
   "execution_count": null,
   "id": "228842a7",
   "metadata": {
    "scrolled": false
   },
   "outputs": [],
   "source": [
    "ucsd_state = ...\n",
    "instate_only = ...\n",
    "\n",
    "# Don't change the code below – it just shows you the two DataFrames you created.\n",
    "print('ucsd_state')\n",
    "display(ucsd_state)\n",
    "print('\\ninstate_only')\n",
    "display(instate_only)"
   ]
  },
  {
   "cell_type": "code",
   "execution_count": null,
   "id": "f2546539",
   "metadata": {
    "deletable": false,
    "editable": false
   },
   "outputs": [],
   "source": [
    "grader.check(\"q3_2\")"
   ]
  },
  {
   "cell_type": "markdown",
   "id": "c5dcb2c0",
   "metadata": {},
   "source": [
    "### Question 3.3 (1 point)\n",
    "\n",
    "Assign the name `california_counties` to a DataFrame indexed by county name that contains, for each California county, the total number of students who applied to, were admitted to, and enrolled at UCSD from each county. Sort by number of applicants in decreasing order.\n",
    "\n",
    "The first few rows of `california_counties` should look like this:\n",
    "\n",
    "<table border=\"1\" class=\"dataframe\">\n",
    "  <thead>\n",
    "    <tr style=\"text-align: right;\">\n",
    "      <th></th>\n",
    "      <th>Applied</th>\n",
    "      <th>Admitted</th>\n",
    "      <th>Enrolled</th>\n",
    "    </tr>\n",
    "    <tr>\n",
    "      <th>Region</th>\n",
    "      <th></th>\n",
    "      <th></th>\n",
    "      <th></th>\n",
    "    </tr>\n",
    "  </thead>\n",
    "  <tbody>\n",
    "    <tr>\n",
    "      <th>Los Angeles</th>\n",
    "      <td>11155</td>\n",
    "      <td>4043</td>\n",
    "      <td>957</td>\n",
    "    </tr>\n",
    "    <tr>\n",
    "      <th>San Diego</th>\n",
    "      <td>6677</td>\n",
    "      <td>2702</td>\n",
    "      <td>1141</td>\n",
    "    </tr>\n",
    "    <tr>\n",
    "      <th>Orange</th>\n",
    "      <td>6156</td>\n",
    "      <td>2010</td>\n",
    "      <td>440</td>\n",
    "    </tr>\n",
    "    <tr>\n",
    "      <th>Santa Clara</th>\n",
    "      <td>5610</td>\n",
    "      <td>1855</td>\n",
    "      <td>295</td>\n",
    "    </tr>\n",
    "    <tr>\n",
    "      <th>Alameda</th>\n",
    "      <td>3418</td>\n",
    "      <td>1147</td>\n",
    "      <td>263</td>\n",
    "    </tr>\n",
    "  </tbody>\n",
    "</table>\n",
    "\n",
    "**_Hint 1:_** Start with `instate_only`.\n",
    "\n",
    "**_Hint 2:_** In both this subpart and the rest of Question 3, expect to use `groupby` often."
   ]
  },
  {
   "cell_type": "code",
   "execution_count": null,
   "id": "dbae3792",
   "metadata": {},
   "outputs": [],
   "source": [
    "california_counties = ...\n",
    "california_counties"
   ]
  },
  {
   "cell_type": "code",
   "execution_count": null,
   "id": "a81156b0",
   "metadata": {
    "deletable": false,
    "editable": false
   },
   "outputs": [],
   "source": [
    "grader.check(\"q3_3\")"
   ]
  },
  {
   "cell_type": "markdown",
   "id": "576ee108",
   "metadata": {},
   "source": [
    "### Question 3.4 (1 point)\n",
    "\n",
    "**Task 1:** Below, complete the implementation of the function `add_rates`, which takes in a DataFrame that has columns named `'Applied'`, `'Admitted'`, and `'Enrolled'`, and returns the same DataFrame with two added columns, `'AcceptanceRate'` and `'YieldRate'`. \n",
    "\n",
    "These columns contain the values you'd expect – respectively, they contain the number of students who applied to, were admitted to, and enrolled at UCSD for each row, as well as the acceptance rate and yield rate at UCSD for each row. Each row of the input DataFrame may correspond to a school, or each row of the input DataFrame may correspond to a county – the way you implement `add_rates` should be the same in both cases. Sort the resulting DataFrame by `'AcceptanceRate'` in descending order.\n",
    "\n",
    "**Task 2:** After defining `add_rates`, define a new DataFrame named `california_counties_admit` that contains all of the columns in `california_counties` plus two new columns, `'AcceptanceRate'` and `'YieldRate'`, containing the overall acceptance rate and yield rate for each county. This will only take one line of code.\n",
    "\n",
    "_**Hint:**_ Note that the function `add_rates` is a generalization of the code you wrote in Question 1.4; we'd recommend starting by copying the code you wrote there."
   ]
  },
  {
   "cell_type": "code",
   "execution_count": null,
   "id": "e5b0e8bf",
   "metadata": {},
   "outputs": [],
   "source": [
    "def add_rates(df):\n",
    "    ...\n",
    "\n",
    "california_counties_admit = ...\n",
    "california_counties_admit"
   ]
  },
  {
   "cell_type": "code",
   "execution_count": null,
   "id": "67259c6d",
   "metadata": {
    "deletable": false,
    "editable": false
   },
   "outputs": [],
   "source": [
    "grader.check(\"q3_4\")"
   ]
  },
  {
   "cell_type": "markdown",
   "id": "f30c2179",
   "metadata": {},
   "source": [
    "### Question 3.5 (3 points)\n",
    "\n",
    "In the previous question, we determined the admissions rate and yield rate for each California county. Now, for each county, we want to know the following information:\n",
    "- `'num_schools'`: the number of high schools from that county in the dataset\n",
    "- `'max_enrolled'`: the largest number of students any high school in that county had enroll at UCSD\n",
    "- `'mean_enrolled'`: the average (mean) number of students enrolled at UCSD from high schools in that county\n",
    "- `'median_enrolled'`: the median number of students enrolled at UCSD from high schools in that county\n",
    "\n",
    "Below, assign `county_stats` to a DataFrame indexed by county name with four columns, `'num_schools'`, `'max_enrolled'`, `'mean_enrolled'`, and `'median_enrolled'`, corresponding to the statistics above. Keep only the counties that had at least 3 schools in the dataset. Sort `county_stats` by `'mean_enrolled'` in descending order. \n",
    "\n",
    "The first few rows of `county_stats` are shown below:\n",
    "\n",
    "<table border=\"1\" class=\"dataframe\">\n",
    "  <thead>\n",
    "    <tr style=\"text-align: right;\">\n",
    "      <th></th>\n",
    "      <th>num_schools</th>\n",
    "      <th>max_enrolled</th>\n",
    "      <th>mean_enrolled</th>\n",
    "      <th>median_enrolled</th>\n",
    "    </tr>\n",
    "    <tr>\n",
    "      <th>Region</th>\n",
    "      <th></th>\n",
    "      <th></th>\n",
    "      <th></th>\n",
    "      <th></th>\n",
    "    </tr>\n",
    "  </thead>\n",
    "  <tbody>\n",
    "    <tr>\n",
    "      <th>San Diego</th>\n",
    "      <td>87</td>\n",
    "      <td>44</td>\n",
    "      <td>13.114943</td>\n",
    "      <td>9.0</td>\n",
    "    </tr>\n",
    "    <tr>\n",
    "      <th>San Francisco</th>\n",
    "      <td>8</td>\n",
    "      <td>29</td>\n",
    "      <td>9.875000</td>\n",
    "      <td>7.5</td>\n",
    "    </tr>\n",
    "    <tr>\n",
    "      <th>Alameda</th>\n",
    "      <td>27</td>\n",
    "      <td>49</td>\n",
    "      <td>9.740741</td>\n",
    "      <td>5.0</td>\n",
    "    </tr>\n",
    "    <tr>\n",
    "      <th>Contra Costa</th>\n",
    "      <td>15</td>\n",
    "      <td>37</td>\n",
    "      <td>9.266667</td>\n",
    "      <td>6.0</td>\n",
    "    </tr>\n",
    "    <tr>\n",
    "      <th>Orange</th>\n",
    "      <td>55</td>\n",
    "      <td>23</td>\n",
    "      <td>8.000000</td>\n",
    "      <td>6.0</td>\n",
    "    </tr>\n",
    "  </tbody>\n",
    "</table>\n",
    "\n",
    "_**Hint 1:**_ Start with `instate_only`. \n",
    "\n",
    "_**Hint 2:**_ You will need to group multiple times, with different aggregation methods each time."
   ]
  },
  {
   "cell_type": "code",
   "execution_count": null,
   "id": "29b0fd73",
   "metadata": {},
   "outputs": [],
   "source": [
    "county_stats = ...\n",
    "county_stats"
   ]
  },
  {
   "cell_type": "code",
   "execution_count": null,
   "id": "603e9998",
   "metadata": {
    "deletable": false,
    "editable": false
   },
   "outputs": [],
   "source": [
    "grader.check(\"q3_5\")"
   ]
  },
  {
   "cell_type": "markdown",
   "id": "0d7c9e1e",
   "metadata": {},
   "source": [
    "### Question 3.6 (2 points)\n",
    "\n",
    "We define a large county as being a county that had over 1000 applicants to UCSD. What proportion of **in-state applications** came from students in large counties? Assign your answer to the name `large_county_proportion`.\n",
    "\n",
    "_**Hint 1:**_ Start with `california_counties`.\n",
    "\n",
    "_**Hint 2:**_ Note that we're not asking for the acceptance rate from large counties, we're asking for the proportion of applicants that came from large counties, amongst all in-state applicants."
   ]
  },
  {
   "cell_type": "code",
   "execution_count": null,
   "id": "ff436e7a",
   "metadata": {},
   "outputs": [],
   "source": [
    "large_county_proportion = ...\n",
    "large_county_proportion"
   ]
  },
  {
   "cell_type": "code",
   "execution_count": null,
   "id": "5e464b9a",
   "metadata": {
    "deletable": false,
    "editable": false
   },
   "outputs": [],
   "source": [
    "grader.check(\"q3_6\")"
   ]
  },
  {
   "cell_type": "markdown",
   "id": "f77e82d0",
   "metadata": {},
   "source": [
    "### Question 3.7 (2 points)\n",
    "\n",
    "Now, let's suppose we're interested in looking at the relationship between the population of a county and the number of students who applied to UCSD from that county.\n",
    "\n",
    "Below, we load in a dataset that contains the population of each county in California and save it in the DataFrame `county_populations_raw`. The dataset is taken from [here](https://worldpopulationreview.com/us-counties/states/ca)."
   ]
  },
  {
   "cell_type": "code",
   "execution_count": null,
   "id": "4d4a068e",
   "metadata": {},
   "outputs": [],
   "source": [
    "county_populations_raw = bpd.read_csv('data/county_populations.csv')\n",
    "county_populations_raw"
   ]
  },
  {
   "cell_type": "markdown",
   "id": "917649a7",
   "metadata": {},
   "source": [
    "Your job is to \"clean\" the `county_populations_raw` DataFrame. Specifically, create a new DataFrame named `county_populations`, that has\n",
    "- County names in the index, but without the word `' County'` in the name (i.e. `'San Diego'` rather than `'San Diego County'`)\n",
    "- A single column, `'Population'`, containing the population of each county in 2021\n",
    "\n",
    "The first 5 rows of `county_populations` are shown below.\n",
    "\n",
    "| | **Population** |\n",
    "|---------------|-------------|\n",
    "| **Los Angeles**    |  9969510 |\n",
    "| **San Diego**      |  3347270 |\n",
    "| **Orange**         |  3175130 |\n",
    "| **Riverside**      |  2520060 |\n",
    "| **San Bernardino** |  2206750 |\n",
    "\n",
    "_**Hint:**_ In order, the steps we used were `.assign`, `.assign`, `.set_index`, and `.get`. \n",
    "\n",
    "You'll have to create a column that contains the county names without the word `'County'` in them and then set that column to be the index. You should expect to see the name of that column above the index in your final DataFrame as well, though it doesn't matter what name you choose for that intermediate column."
   ]
  },
  {
   "cell_type": "code",
   "execution_count": null,
   "id": "b7ad0267",
   "metadata": {},
   "outputs": [],
   "source": [
    "county_populations = ...\n",
    "county_populations"
   ]
  },
  {
   "cell_type": "code",
   "execution_count": null,
   "id": "49edffcf",
   "metadata": {
    "deletable": false,
    "editable": false
   },
   "outputs": [],
   "source": [
    "grader.check(\"q3_7\")"
   ]
  },
  {
   "cell_type": "markdown",
   "id": "137ca228",
   "metadata": {},
   "source": [
    "### Question 3.8 (1 point)\n",
    "\n",
    "Assign `california_admit_pop` to a DataFrame that contains all of the information in `california_counties_admit`, plus a new column `'Population'`, that contains the population of each county. Sort by `'Population'` in descending order.\n",
    "\n",
    "_**Hint:**_ Use the `.merge` method."
   ]
  },
  {
   "cell_type": "code",
   "execution_count": null,
   "id": "780100e4",
   "metadata": {},
   "outputs": [],
   "source": [
    "california_admit_pop = ...\n",
    "california_admit_pop"
   ]
  },
  {
   "cell_type": "code",
   "execution_count": null,
   "id": "15cbfaa6",
   "metadata": {
    "deletable": false,
    "editable": false
   },
   "outputs": [],
   "source": [
    "grader.check(\"q3_8\")"
   ]
  },
  {
   "cell_type": "markdown",
   "id": "40dd824c",
   "metadata": {},
   "source": [
    "### Question 3.9 (3 points)\n",
    "\n",
    "You may have noticed that `california_admit_pop` – the DataFrame containing UCSD admissions data for all California counties – has 29 rows, while `county_populations` – the DataFrame containing population data for all California counties – has 58 rows. This means there are many counties that we don't have UCSD admissions data for. (This doesn't mean that nobody went to UCSD from these counties – see your answer to Question 1.3.)\n",
    "\n",
    "Below, assign `no_sent_students` to an **array** of the names of all of the counties that we do not have enrollment data for. The order of the names in the array does not matter.\n",
    "\n",
    "_**Hint:**_ There are multiple ways to solve this problem:\n",
    "\n",
    "- One method involves using the `.merge` method with the optional `how` argument. After merging, you may need the fact that the result of comparing a `NaN` value to any other number is always `False`. The [documentation for `.merge`](https://babypandas.readthedocs.io/en/latest/_autosummary/bpd.DataFrame.merge.html)  and [this image](https://datacomy.com/data_analysis/pandas/merge/pandas-merge-right-2.png) may be helpful if you go down this route. If you find yourself using the `~` symbol in your solution, change it to a `-` (both mean \"negate\" or \"not\").\n",
    "- Alternatively, you could use a for-loop.\n",
    "\n",
    "Regardless, a good strategy is to first figure **where** the information you need is stored."
   ]
  },
  {
   "cell_type": "code",
   "execution_count": null,
   "id": "97fb5038",
   "metadata": {},
   "outputs": [],
   "source": [
    "no_sent_students = ...\n",
    "no_sent_students"
   ]
  },
  {
   "cell_type": "code",
   "execution_count": null,
   "id": "2975b055",
   "metadata": {
    "deletable": false,
    "editable": false
   },
   "outputs": [],
   "source": [
    "grader.check(\"q3_9\")"
   ]
  },
  {
   "cell_type": "markdown",
   "id": "3f7ffdbb",
   "metadata": {},
   "source": [
    "### Question 3.10 (1 point)\n",
    "\n",
    "We've seen that Los Angeles County had the most applicants to UCSD. But we also know that Los Angeles County is the most populated county in California (and the US), and so they almost certainly have the most 12th-graders as well. Let's try and determine the number of applicants each county had to UCSD, per 12th-grader.\n",
    "\n",
    "Unfortunately, we don't have access to data that tells us the number of 12th-graders per county, so we'll need to do some estimation. According to [this site](https://www.infoplease.com/us/census/california/demographic-statistics), 15-19 year olds make up 7.2% of the population of California. Since you spend a year in 12th grade, let's assume 12th-graders make up one-fifth of the population of 15-19 year olds, or 1.44% of the population of California. We will further assume that this holds true for each county individually. For instance, since San Diego County has a population of 3347270, we will assume there were $3347270 \\cdot 0.0144 = 48200.688$ 12th-graders in San Diego County.\n",
    "\n",
    "Using the estimate that 1.44% of the population of each county is made up of 12th-graders, compute a Series indexed by county name containing the **proportion of 12th-graders in each county that applied to UCSD**. Sort the Series in decreasing order, and store the result in `apps_per_capita`."
   ]
  },
  {
   "cell_type": "code",
   "execution_count": null,
   "id": "60662aeb",
   "metadata": {},
   "outputs": [],
   "source": [
    "apps_per_capita = ...\n",
    "apps_per_capita"
   ]
  },
  {
   "cell_type": "code",
   "execution_count": null,
   "id": "eaf53cc9",
   "metadata": {
    "deletable": false,
    "editable": false
   },
   "outputs": [],
   "source": [
    "grader.check(\"q3_10\")"
   ]
  },
  {
   "cell_type": "markdown",
   "id": "dad3f54b",
   "metadata": {},
   "source": [
    "If you answered Question 3.10 correctly, you'll see that Santa Clara County had the most applicants to UCSD per 12th-grader in the county – roughly 20.3% of all 12th-graders in Santa Clara County applied for first-year admission to UCSD. Los Angeles isn't in the top 5."
   ]
  },
  {
   "cell_type": "markdown",
   "id": "e7f49e42",
   "metadata": {},
   "source": [
    "### Question 3.11 (1 point)\n",
    "\n",
    "Let's wrap up Question 3 by visualizing your work from 3.10. To do so, we'll use a new type of data visualization called a choropleth. Choropleths show the value of some variable (either numerical or categorical) for each region in a map. For example, the map you see [here](https://www.mayoclinic.org/coronavirus-covid-19/vaccine-tracker) is a choropleth.\n",
    "\n",
    "Here, we'll look at a choropleth that shows the proportion of 12th-graders in each California county that applied to UCSD. We've already created the visualization for you, and it can be found at the link below. Note that it is interactive! If you hover over a county, you will see the county's name. (Ignore the \"fips\" number that appears for each county.)\n",
    "\n",
    "<center><h4><a href=\"https://dsc10.com/resources/midterm_project/q3.11-map.html\">Click here to see the choropleth.</a></h4></center>"
   ]
  },
  {
   "cell_type": "markdown",
   "id": "4c761567",
   "metadata": {},
   "source": [
    "**Your Job:** Which of the following can we conclude solely based off the choropleth linked above (i.e. without knowing anything else about each county)? Assign `choropleth_q` to either 1, 2, 3, or 4.\n",
    "\n",
    "1. Santa Clara County had more applicants to UCSD than Alameda County.\n",
    "2. Santa Clara County had more applicants to UCSD than Los Angeles County.\n",
    "3. More students applied to UCSD from the Bay Area than from Southern California.\n",
    "4. None of the above."
   ]
  },
  {
   "cell_type": "code",
   "execution_count": null,
   "id": "c4258510",
   "metadata": {},
   "outputs": [],
   "source": [
    "choropleth_q = ..."
   ]
  },
  {
   "cell_type": "code",
   "execution_count": null,
   "id": "bdb7400f",
   "metadata": {
    "deletable": false,
    "editable": false
   },
   "outputs": [],
   "source": [
    "grader.check(\"q3_11\")"
   ]
  },
  {
   "cell_type": "markdown",
   "id": "802fd299",
   "metadata": {},
   "source": [
    "In the choropleth that we just looked at, it seems like there are two \"clusters\" of darker regions. Let's look a bit closer at those regions."
   ]
  },
  {
   "cell_type": "markdown",
   "id": "d2f7fcaf",
   "metadata": {},
   "source": [
    "<a name='q4'></a>\n",
    "\n",
    "## Question 4 – The Bay vs. SoCal 🆚"
   ]
  },
  {
   "cell_type": "markdown",
   "id": "0fed1562",
   "metadata": {},
   "source": [
    "When applying to the UCs, did you only apply to UCSD, or did you apply to other UCs as well? What factors did you consider? Competitiveness? Location?\n",
    "\n",
    "In this question, we will compare admissions data for UCSD to that of UC Berkeley 🐻. Run the cell below to load in the raw data for Berkeley's first-year Fall 2020 admissions and store it in the DataFrame `berkeley_admissions_raw`."
   ]
  },
  {
   "cell_type": "code",
   "execution_count": null,
   "id": "6bcd2db0",
   "metadata": {},
   "outputs": [],
   "source": [
    "berkeley_admissions_raw = bpd.read_csv('data/berkeley-admissions-2020.csv')\n",
    "berkeley_admissions_raw"
   ]
  },
  {
   "cell_type": "markdown",
   "id": "9c560be6",
   "metadata": {
    "deletable": false,
    "editable": false
   },
   "source": [
    "### Question 4.1 (1 point)\n",
    "\n",
    "Create a DataFrame called `berkeley_admit` that contains all of the information in `berkeley_admissions_raw`, but with columns for `'AcceptanceRate'` and `'YieldRate'` and with an index of `'ID'`. Note this should only take one line of code if you use your `add_rates` function from earlier.\n",
    "\n",
    "<!--\n",
    "BEGIN QUESTION\n",
    "name: q4_1\n",
    "points: 1\n",
    "-->"
   ]
  },
  {
   "cell_type": "code",
   "execution_count": null,
   "id": "3fa9ebae",
   "metadata": {},
   "outputs": [],
   "source": [
    "berkeley_admit = ...\n",
    "berkeley_admit"
   ]
  },
  {
   "cell_type": "code",
   "execution_count": null,
   "id": "36c0d011",
   "metadata": {
    "deletable": false,
    "editable": false
   },
   "outputs": [],
   "source": [
    "grader.check(\"q4_1\")"
   ]
  },
  {
   "cell_type": "markdown",
   "id": "7341c902",
   "metadata": {},
   "source": [
    "Now, since we have both the UCSD data and Berkeley data stored in a similar format, we can merge them into one DataFrame called `both_ucs_raw`. We have done this for you in the cell below. Run the cell below – make sure you understand the code in the cell, but do not change it."
   ]
  },
  {
   "cell_type": "code",
   "execution_count": null,
   "id": "5c11d72d",
   "metadata": {
    "scrolled": true
   },
   "outputs": [],
   "source": [
    "# Run this cell. DO NOT change it.\n",
    "both_ucs_raw = ucsd_admit.merge(berkeley_admit, left_index=True, right_index=True) \n",
    "both_ucs_raw"
   ]
  },
  {
   "cell_type": "markdown",
   "id": "8d772805",
   "metadata": {},
   "source": [
    "Notice that the column names in the merged DataFrame are messy – some contain a `'_x'` and some contain a `'_y'`. We want to clearly label which columns represent UCSD data and which ones represent Berkeley data. Run the following cell to transform all the column names into something meaningful. Don't worry about how this is done."
   ]
  },
  {
   "cell_type": "code",
   "execution_count": null,
   "id": "eb5e5f34",
   "metadata": {
    "scrolled": false
   },
   "outputs": [],
   "source": [
    "# Run this cell. DO NOT change it.\n",
    "column_mapping = {\n",
    "    'Name': both_ucs_raw.get('Name_x'),\n",
    "    'City': both_ucs_raw.get('City_x'),\n",
    "    'Region': both_ucs_raw.get('Region_x'),\n",
    "    'Applied_UCSD': both_ucs_raw.get('Applied_x'),\n",
    "    'Admitted_UCSD': both_ucs_raw.get('Admitted_x'),\n",
    "    'Enrolled_UCSD': both_ucs_raw.get('Enrolled_x'),\n",
    "    'AcceptanceRate_UCSD': both_ucs_raw.get('AcceptanceRate_x'),\n",
    "    'YieldRate_UCSD': both_ucs_raw.get('YieldRate_x'),\n",
    "    'Applied_Berkeley': both_ucs_raw.get('Applied_y'),\n",
    "    'Admitted_Berkeley': both_ucs_raw.get('Admitted_y'),\n",
    "    'Enrolled_Berkeley': both_ucs_raw.get('Enrolled_y'),\n",
    "    'AcceptanceRate_Berkeley': both_ucs_raw.get('AcceptanceRate_y'),\n",
    "    'YieldRate_Berkeley': both_ucs_raw.get('YieldRate_y')\n",
    "}\n",
    "\n",
    "both_ucs = both_ucs_raw.assign(**column_mapping).get(column_mapping.keys())\n",
    "both_ucs"
   ]
  },
  {
   "cell_type": "markdown",
   "id": "440d47e4",
   "metadata": {},
   "source": [
    "Notice that the column names in `both_ucs` are now descriptive."
   ]
  },
  {
   "cell_type": "markdown",
   "id": "988f65d4",
   "metadata": {},
   "source": [
    "### Question 4.2 (1 point)"
   ]
  },
  {
   "cell_type": "markdown",
   "id": "8555e764",
   "metadata": {},
   "source": [
    "Now, let's compare admissions statistics from UCSD and Berkeley with respect to the region of the high school. One way to do this would be to classify high schools being in the Bay Area or Southern California. \n",
    "\n",
    "The Bay Area (\"The Bay\") is made up of the following nine counties: Sonoma, Napa, Solano, Marin, Contra Costa, Alameda, San Mateo, San Francisco, and Santa Clara.\n",
    "\n",
    "<img src=\"./images/bay-area-map.png\"\n",
    "     width=300/>\n",
    "\n",
    "We will define Southern California (\"SoCal\") to constitute the following ten counties: San Luis Obispo, Kern, Santa Barbara, Ventura, Los Angeles, Orange, San Bernardino, Riverside, Imperial, and (of course) San Diego.\n",
    "\n",
    "<img src=\"./images/socal-map.png\"\n",
    "     width=300/>\n",
    "\n",
    "Below, complete the implementation of the function `bay_or_socal` that takes as input the name of a county and returns either `'bay_area'`, `'socal'`, or `'neither'` based on the definitions above.\n",
    "\n",
    "For your convenience, we've defined two lists, `bay_counties` and `socal_counties`. You will need to use them in your implementation of `bay_or_socal`.\n",
    "\n",
    "**_Hint:_** Use the `in` operator (see [here](https://www.askpython.com/python/examples/in-and-not-in-operators-in-python) for more details)."
   ]
  },
  {
   "cell_type": "code",
   "execution_count": null,
   "id": "428d270e",
   "metadata": {},
   "outputs": [],
   "source": [
    "# Don't change the following two lines!\n",
    "bay_counties = ['Sonoma', 'Napa', 'Solano', 'Marin', 'Contra Costa', 'Alameda', 'San Mateo', 'San Francisco', 'Santa Clara']\n",
    "socal_counties = ['Kern', 'San Bernardino', 'Los Angeles', 'Santa Barbara', 'San Diego', 'Imperial', 'Riverside', 'Orange', 'San Luis Obispo', 'Ventura']\n",
    "\n",
    "def bay_or_socal(county):\n",
    "    ...\n",
    "    \n",
    "# Once you've completed your function, uncomment the following line and make sure the outputs\n",
    "# are what you'd expect.\n",
    "# [bay_or_socal('Solano'), bay_or_socal('San Diego'), bay_or_socal('Santa Cruz')]"
   ]
  },
  {
   "cell_type": "code",
   "execution_count": null,
   "id": "3216ed83",
   "metadata": {
    "deletable": false,
    "editable": false
   },
   "outputs": [],
   "source": [
    "grader.check(\"q4_2\")"
   ]
  },
  {
   "cell_type": "markdown",
   "id": "3f630de4",
   "metadata": {},
   "source": [
    "### Question 4.3 (1 point)\n",
    "\n",
    "Now, create a new DataFrame named `both_ucs_region` with the same data as `both_ucs` but with an additional column called `'california_region'` that contains the California region (i.e. `'bay_area'` or `'socal'`) for each high school. Keep only the high schools located in either the Bay Area or Southern California."
   ]
  },
  {
   "cell_type": "code",
   "execution_count": null,
   "id": "39fdb819",
   "metadata": {
    "scrolled": true
   },
   "outputs": [],
   "source": [
    "both_ucs_region = ...\n",
    "both_ucs_region"
   ]
  },
  {
   "cell_type": "code",
   "execution_count": null,
   "id": "a894d190",
   "metadata": {
    "deletable": false,
    "editable": false
   },
   "outputs": [],
   "source": [
    "grader.check(\"q4_3\")"
   ]
  },
  {
   "cell_type": "markdown",
   "id": "f90364c1",
   "metadata": {},
   "source": [
    "### Question 4.4 (1 point)\n",
    "\n",
    "Assign the name `enrolled_counts` to a DataFrame that contains the number of students enrolled in each of UCSD and Berkeley from the Bay Area and Southern California, amongst the schools in `both_ucs_region`. `enrolled_counts` should have two columns, `'Enrolled_UCSD'` and `'Enrolled_Berkeley'`, and should have an index of `'california_region'`, meaning that it should only have two rows."
   ]
  },
  {
   "cell_type": "code",
   "execution_count": null,
   "id": "aa2c6106",
   "metadata": {
    "scrolled": true
   },
   "outputs": [],
   "source": [
    "enrolled_counts = ...\n",
    "enrolled_counts"
   ]
  },
  {
   "cell_type": "code",
   "execution_count": null,
   "id": "1ae2c8cf",
   "metadata": {
    "deletable": false,
    "editable": false
   },
   "outputs": [],
   "source": [
    "grader.check(\"q4_4\")"
   ]
  },
  {
   "cell_type": "markdown",
   "id": "a1d309e7",
   "metadata": {},
   "source": [
    "Note that `enrolled_counts`, the DataFrame that you just computed, does not contain the true number of students that enrolled at both of these universities from both of these regions in Fall 2020. All numbers in `enrolled_counts` are underestimates. This is because our original datasets for both universities don't account for every single high school (see Question 1.3), and because we merged the original datasets for both universities, meaning that `both_ucs_region` only contains information for high schools that had applicants to both.\n",
    "\n",
    "(To be clear, this doesn't mean your answer to `enrolled_counts` is wrong – we just wanted to provide context regarding the numbers you calculated.)\n",
    "\n",
    "For the remainder of Question 4, use `both_ucs`, not `both_ucs_region`."
   ]
  },
  {
   "cell_type": "markdown",
   "id": "c73046a7",
   "metadata": {},
   "source": [
    "### Question 4.5 (1 point)\n",
    "\n",
    "Assign the name `total_enrolled` to a Series containing the total number of students enrolled at UCSD and Berkeley from each high school contained in `both_ucs`. Sort the Series in descending order of total enrollments, and make sure it is indexed by high school `'ID'`."
   ]
  },
  {
   "cell_type": "code",
   "execution_count": null,
   "id": "ca8ca059",
   "metadata": {},
   "outputs": [],
   "source": [
    "total_enrolled = ...\n",
    "total_enrolled"
   ]
  },
  {
   "cell_type": "code",
   "execution_count": null,
   "id": "b8c6a4f3",
   "metadata": {
    "deletable": false,
    "editable": false
   },
   "outputs": [],
   "source": [
    "grader.check(\"q4_5\")"
   ]
  },
  {
   "cell_type": "markdown",
   "id": "9e5caef5",
   "metadata": {},
   "source": [
    "### Question 4.6 (1 point)\n",
    "\n",
    "In the DataFrame `both_ucs`, how many high schools had a higher acceptance rate at Berkeley than at UCSD? Assign this number to a variable `higher_rate_berkeley`."
   ]
  },
  {
   "cell_type": "code",
   "execution_count": null,
   "id": "57598ee2",
   "metadata": {},
   "outputs": [],
   "source": [
    "higher_rate_berkeley = ...\n",
    "higher_rate_berkeley"
   ]
  },
  {
   "cell_type": "code",
   "execution_count": null,
   "id": "38b6b887",
   "metadata": {
    "deletable": false,
    "editable": false
   },
   "outputs": [],
   "source": [
    "grader.check(\"q4_6\")"
   ]
  },
  {
   "cell_type": "markdown",
   "id": "a8ba5039",
   "metadata": {},
   "source": [
    "<a name='q5'></a>\n",
    "\n",
    "## Question 5 – Out-of-State ✈️\n",
    "\n",
    "For the final question on the project, we'll return to focusing on just UCSD admissions data. In this question you will do some data visualization and complete a \"fun\" challenge.\n",
    "\n",
    "Let's start by looking at the DataFrame `ucsd_state` again. Notice that it has a column `instate` that contains whether or not a high school is in-state."
   ]
  },
  {
   "cell_type": "code",
   "execution_count": null,
   "id": "8cae2464",
   "metadata": {},
   "outputs": [],
   "source": [
    "ucsd_state"
   ]
  },
  {
   "cell_type": "markdown",
   "id": "7537d215",
   "metadata": {},
   "source": [
    "### Question 5.1 (2 points)\n",
    "\n",
    "Create an **overlaid** histogram of UCSD `'AcceptanceRate'`s, with one histogram for in-state high schools and one histogram for out-of-state high schools.\n",
    "\n",
    "The histogram should have the following features:\n",
    "- The $x$-axis should be the acceptance rate in **percentage** (not proportion!).\n",
    "- The bins should range from 0 through 90 with a bin width of 10 (i.e. the first bin should be $[0, 10)$ and the last bin should be $[80, 90]$).\n",
    "- Set `density=True` (to make it a density histogram) and `figsize=(10, 5)` (to make it large).\n",
    "- Set `alpha=0.3` to make sure the overlapped region is visible.\n",
    "\n",
    "_**Note:**_ The method of creating an overlaid plot from class (calling `.plot` and not specifying a `y` argument) will not work here – since each school is either \"in-state\" or \"out-of-state\", we don't have separate \"in-state\" and \"out-of-state\" columns. \n",
    "\n",
    "As a result, you'll have to follow a slightly different approach:\n",
    "- **You'll need to call `.plot` twice**, once for in-state schools, and once for out-of-state schools. **Create the histogram for in-state schools first.**\n",
    "- You'll also need to assign your first plot to a variable, then when you create your second plot you'll need to pass in an additional argument `ax` which references that variable. See [Note 14](https://notes.dsc10.com/03-visualization/intro.html#overlaying-scatters-lines-and-histograms) for some examples.\n",
    "\n",
    "Here's what your plot should look like (though yours will look bigger):\n",
    "\n",
    "<img src='images/example-51.png' width=400>"
   ]
  },
  {
   "cell_type": "markdown",
   "id": "4a956796",
   "metadata": {
    "deletable": false,
    "editable": false
   },
   "source": [
    "<!-- BEGIN QUESTION -->\n",
    "\n",
    "\n",
    "<!--\n",
    "BEGIN QUESTION\n",
    "name: q5_1\n",
    "points: 2\n",
    "manual: true\n",
    "-->"
   ]
  },
  {
   "cell_type": "code",
   "execution_count": null,
   "id": "684a2570",
   "metadata": {},
   "outputs": [],
   "source": [
    "# Make your histogram here.\n",
    "\n",
    "\n",
    "# Don't change the following three lines\n",
    "plt.title('UCSD Fall 2020 First-Year Admissions Rates')\n",
    "plt.legend(['In-State', 'Out-of-State'])\n",
    "plt.xlabel('Acceptance Rate (%)');"
   ]
  },
  {
   "cell_type": "markdown",
   "id": "cf3c7a9d",
   "metadata": {},
   "source": [
    "<!-- END QUESTION -->\n",
    "\n",
    "\n",
    "\n",
    "### Question 5.2 (1 point)\n",
    "\n",
    "In your own words, describe the differences between these two histograms. How do the shapes of the distributions vary?"
   ]
  },
  {
   "cell_type": "markdown",
   "id": "4265d870",
   "metadata": {
    "deletable": false,
    "editable": false
   },
   "source": [
    "<!-- BEGIN QUESTION -->\n",
    "\n",
    "\n",
    "<!--\n",
    "BEGIN QUESTION\n",
    "name: q5_2\n",
    "points: 1\n",
    "manual: true\n",
    "-->"
   ]
  },
  {
   "cell_type": "markdown",
   "id": "78f1229c",
   "metadata": {},
   "source": [
    "_Type your answer here, replacing this text._"
   ]
  },
  {
   "cell_type": "markdown",
   "id": "9ced60c0",
   "metadata": {},
   "source": [
    "<!-- END QUESTION -->\n",
    "\n",
    "\n",
    "\n",
    "Additionally, why do you think the distributions are so different? (You don't need to answer this anywhere, it's just something to think about.)"
   ]
  },
  {
   "cell_type": "markdown",
   "id": "d6f07494",
   "metadata": {},
   "source": [
    "### Question 5.3 (3 points)\n",
    "\n",
    "Let's look at `ucsd_state` one last time."
   ]
  },
  {
   "cell_type": "code",
   "execution_count": null,
   "id": "3e3da83a",
   "metadata": {},
   "outputs": [],
   "source": [
    "ucsd_state"
   ]
  },
  {
   "cell_type": "markdown",
   "id": "67f5b242",
   "metadata": {},
   "source": [
    "It turns out that there is exactly one city whose name is repeated in different regions.\n",
    "\n",
    "Assign `repeated_city` to the name of this city, and assign `repeated_city_regions` to an array of the names of the unique repeated regions for this city (the order of the names in the array does not matter). **This is a very challenging problem!** We intend it to be a \"fun\" wrap-up exercise to the project. Since it's the last question, no other questions will depend on your answer to this question.\n",
    "\n",
    "_**Hint 1:**_ You will need to use `.groupby` twice.\n",
    "\n",
    "_**Hint 2:**_ You can use the `.reset_index` method if you want to convert the index of a DataFrame into a column.\n",
    "\n",
    "_**Hint 3:**_ Once you have a Series containing the regions corresponding to `repeated_city`, use the function `np.unique` on the Series to get an array of the unique region names."
   ]
  },
  {
   "cell_type": "code",
   "execution_count": null,
   "id": "d2553474",
   "metadata": {},
   "outputs": [],
   "source": [
    "repeated_city = ...\n",
    "repeated_city_regions = ...\n",
    "\n",
    "# Don't change the following two lines\n",
    "print('repeated city:', repeated_city)\n",
    "print('repeated regions:', repeated_city_regions)"
   ]
  },
  {
   "cell_type": "code",
   "execution_count": null,
   "id": "051d9015",
   "metadata": {
    "deletable": false,
    "editable": false
   },
   "outputs": [],
   "source": [
    "grader.check(\"q5_3\")"
   ]
  },
  {
   "cell_type": "markdown",
   "id": "707e4826",
   "metadata": {},
   "source": [
    "## Congratulations! You've completed the Midterm Project! 🏁\n",
    "\n",
    "All you need to do now is submit your assignment:\n",
    "\n",
    "1. Select Kernel -> Restart & Run All to ensure that you have executed all cells, including the test cells. **If you do not do this, we may not be able to grade your work!**\n",
    "2. Read through the notebook to make sure everything is fine and all tests passed.\n",
    "3. Run the cell below to run all tests, and make sure that they all pass.\n",
    "4. Download your notebook using File -> Download as -> Notebook (.ipynb), then upload your notebook to Gradescope. **Don't forget to add your partner to your group on Gradescope!**\n",
    "\n",
    "If running all the tests at once causes a test to fail that didn't fail when you ran the notebook in order, check to see if you changed a variable's value later in your code. Make sure to use new variable names instead of reusing ones that are used in the tests.\n",
    "\n",
    "Remember, the tests here and on Gradescope just check the format of your answers. We will run correctness tests after the assignment's due date has passed."
   ]
  },
  {
   "cell_type": "code",
   "execution_count": null,
   "id": "415636f6",
   "metadata": {},
   "outputs": [],
   "source": [
    "grader.check_all()"
   ]
  }
 ],
 "metadata": {
  "kernelspec": {
   "display_name": "Python 3 (ipykernel)",
   "language": "python",
   "name": "python3"
  },
  "language_info": {
   "codemirror_mode": {
    "name": "ipython",
    "version": 3
   },
   "file_extension": ".py",
   "mimetype": "text/x-python",
   "name": "python",
   "nbconvert_exporter": "python",
   "pygments_lexer": "ipython3",
   "version": "3.9.7"
  }
 },
 "nbformat": 4,
 "nbformat_minor": 5
}
