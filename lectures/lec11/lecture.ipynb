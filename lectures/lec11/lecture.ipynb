{
 "cells": [
  {
   "cell_type": "code",
   "execution_count": null,
   "metadata": {
    "slideshow": {
     "slide_type": "skip"
    }
   },
   "outputs": [],
   "source": [
    "# Imports\n",
    "import numpy as np\n",
    "import babypandas as bpd\n",
    "import time"
   ]
  },
  {
   "cell_type": "markdown",
   "metadata": {
    "slideshow": {
     "slide_type": "slide"
    }
   },
   "source": [
    "# Lecture 11 – Booleans and Conditionals, Iteration\n",
    "\n",
    "## DSC 10, Winter 2022"
   ]
  },
  {
   "cell_type": "markdown",
   "metadata": {
    "slideshow": {
     "slide_type": "slide"
    }
   },
   "source": [
    "### Announcements\n",
    "\n",
    "- Homework 3 is due **Saturday 1/29 at 11:59pm**.\n",
    "- Lab 4 is due **Tuesday 2/1 at 11:59pm**.\n",
    "- The Midterm Project is released, and is due **Saturday 2/12 at 11:59pm**.\n",
    "    - The project is about UCSD's Fall 2020 first-year admissions data.\n",
    "    - You can work with a partner; use [this sheet](https://docs.google.com/spreadsheets/d/1m5eDcFdYTQq5bu9VRYINZBFgckCyJEOXZFZGZ9bQqKY/edit#gid=0) to find one.\n",
    "    - If you work with a partner, you **must** follow these [pair programming guidelines](https://dsc10.com/pair-programming).\n",
    "    - **Start early!**"
   ]
  },
  {
   "cell_type": "markdown",
   "metadata": {
    "slideshow": {
     "slide_type": "slide"
    }
   },
   "source": [
    "### Logistics starting Monday\n",
    "\n",
    "You may have heard the news – in-person instruction on campus is starting on 1/31. Here's what will happen in DSC 10:\n",
    "\n",
    "- **Lectures** will be delivered **in-person** in Center Hall 214, but you can also **participate live via Zoom** (same link as before).\n",
    "    - Tutors will monitor the Zoom chat and let me know if there's anything to address.\n",
    "    - Lectures will still be recorded and posted online afterwards.\n",
    "- Same plan for **discussions** – **in-person** in Center Hall 105 but with a **Zoom** remote option, with recordings posted afterwards.\n",
    "- Most **office hours** will stay remote, but some will move in-person.\n",
    "    - The [Calendar](https://dsc10.com/calendar/) will be updated this weekend to specify which office hours are in-person and which are remote, and with instructions on how to access in-person office hours.\n",
    "- **Exams** will be remote."
   ]
  },
  {
   "cell_type": "markdown",
   "metadata": {
    "slideshow": {
     "slide_type": "slide"
    }
   },
   "source": [
    "### Agenda\n",
    "\n",
    "- Booleans.\n",
    "- Conditionals (i.e. `if`-statements).\n",
    "- Iteration (i.e. `for`-loops).\n",
    "\n",
    "**Note:** \n",
    "- We've finished introducing new DataFrame manipulation techniques. \n",
    "- The content we're covering today will become more relevant as we start to cover more ideas in statistics (next week)."
   ]
  },
  {
   "cell_type": "markdown",
   "metadata": {
    "slideshow": {
     "slide_type": "slide"
    }
   },
   "source": [
    "## Booleans"
   ]
  },
  {
   "cell_type": "markdown",
   "metadata": {
    "slideshow": {
     "slide_type": "slide"
    }
   },
   "source": [
    "## Booleans\n",
    "\n",
    "- `bool` is a data type in Python, just like `int`, `float`, and `str`. \n",
    "    - It stands for \"Boolean\", named after George Boole, an early mathematician.\n",
    "- There are only two possible Boolean values: `True` or `False`.\n",
    "    - Yes or no.\n",
    "    - On or off.\n",
    "    - 1 or 0.\n",
    "- There are three operators that allow us to perform arithmetic with Booleans – `not`, `and`, and `or`.\n",
    "- Comparisons result in Boolean values."
   ]
  },
  {
   "cell_type": "code",
   "execution_count": null,
   "metadata": {},
   "outputs": [],
   "source": [
    "x = True"
   ]
  },
  {
   "cell_type": "code",
   "execution_count": null,
   "metadata": {},
   "outputs": [],
   "source": [
    "type(x)"
   ]
  },
  {
   "cell_type": "code",
   "execution_count": null,
   "metadata": {},
   "outputs": [],
   "source": [
    "3 > 5"
   ]
  },
  {
   "cell_type": "markdown",
   "metadata": {
    "slideshow": {
     "slide_type": "slide"
    }
   },
   "source": [
    "### The `not` operator\n",
    "\n",
    "Flips a `True` to a `False`, and a `False` to a `True`."
   ]
  },
  {
   "cell_type": "code",
   "execution_count": null,
   "metadata": {},
   "outputs": [],
   "source": [
    "is_sunny = True\n",
    "\n",
    "not is_sunny"
   ]
  },
  {
   "cell_type": "markdown",
   "metadata": {
    "slideshow": {
     "slide_type": "slide"
    }
   },
   "source": [
    "### The `and` operator\n",
    "\n",
    "- Placed between two `bool`s.\n",
    "- `True` if **both** are true, otherwise `False`."
   ]
  },
  {
   "cell_type": "code",
   "execution_count": null,
   "metadata": {},
   "outputs": [],
   "source": [
    "is_sunny = True\n",
    "is_warm = False\n",
    "\n",
    "is_sunny and is_warm"
   ]
  },
  {
   "cell_type": "markdown",
   "metadata": {
    "slideshow": {
     "slide_type": "slide"
    }
   },
   "source": [
    "### The `or` operator\n",
    "\n",
    "- Placed between two `bool`s.\n",
    "- `True` if **at least one** of them is `True`, otherwise `False`."
   ]
  },
  {
   "cell_type": "code",
   "execution_count": null,
   "metadata": {},
   "outputs": [],
   "source": [
    "is_sunny = True\n",
    "is_warm = False\n",
    "\n",
    "is_sunny or is_warm"
   ]
  },
  {
   "cell_type": "code",
   "execution_count": null,
   "metadata": {},
   "outputs": [],
   "source": [
    "# Both can be True as well!\n",
    "True or True"
   ]
  },
  {
   "cell_type": "markdown",
   "metadata": {
    "slideshow": {
     "slide_type": "slide"
    }
   },
   "source": [
    "### Comparisons and Boolean operators\n",
    "\n",
    "- Remember, comparisons result in Boolean values.\n",
    "- As usual, use **(parentheses)** to make expressions more clear.\n",
    "    - By default, the order of operations is `not`, `and`, `or`."
   ]
  },
  {
   "cell_type": "code",
   "execution_count": null,
   "metadata": {},
   "outputs": [],
   "source": [
    "first_name = 'king'\n",
    "last_name = 'triton'\n",
    "age = 19\n",
    "\n",
    "first_name == 'triton' and age >= 21"
   ]
  },
  {
   "cell_type": "code",
   "execution_count": null,
   "metadata": {},
   "outputs": [],
   "source": [
    "last_name == 'triton' or (first_name == 'triton' and age >= 21)"
   ]
  },
  {
   "cell_type": "code",
   "execution_count": null,
   "metadata": {},
   "outputs": [],
   "source": [
    "# Different meaning!\n",
    "(last_name == 'triton' or first_name == 'triton') and age >= 21"
   ]
  },
  {
   "cell_type": "markdown",
   "metadata": {
    "slideshow": {
     "slide_type": "slide"
    }
   },
   "source": [
    "### Be careful!"
   ]
  },
  {
   "cell_type": "code",
   "execution_count": null,
   "metadata": {},
   "outputs": [],
   "source": [
    "a = True\n",
    "b = False\n",
    "\n",
    "not (a and b)"
   ]
  },
  {
   "cell_type": "code",
   "execution_count": null,
   "metadata": {},
   "outputs": [],
   "source": [
    "(not a) and (not b)"
   ]
  },
  {
   "cell_type": "markdown",
   "metadata": {
    "slideshow": {
     "slide_type": "slide"
    }
   },
   "source": [
    "### Note: `&` and `|` vs. `and` and `or`\n",
    "\n",
    "When performing Boolean arithmetic...\n",
    "- Use the `&` and `|` operators between two Series. Arithmetic will be done in an elementwise fashion (i.e. separately for each row).\n",
    "    - This is relevant when writing DataFrame queries, e.g. `df[(df.get('x') == 2) & (df.get('y') != 'ucsd')]`.\n",
    "- Use the `and` and `or` operators between two Booleans.\n",
    "    - e.g. `(x > 2) and (y != 'ucsd')`."
   ]
  },
  {
   "cell_type": "markdown",
   "metadata": {
    "slideshow": {
     "slide_type": "slide"
    }
   },
   "source": [
    "### Extra Practice\n",
    "\n",
    "  \n",
    "Suppose we define `a = True` and `b = True`. What does the following expression evaluate to?\n",
    "\n",
    "```py\n",
    "not (((not a) and b) or ((not b) or a))\n",
    "```\n",
    "\n",
    "A. `True`\n",
    "\n",
    "B. `False`\n",
    "\n",
    "C. Could be either one\n",
    "\n",
    "### Revisit this problem after lecture."
   ]
  },
  {
   "cell_type": "code",
   "execution_count": null,
   "metadata": {},
   "outputs": [],
   "source": []
  },
  {
   "cell_type": "markdown",
   "metadata": {
    "slideshow": {
     "slide_type": "slide"
    }
   },
   "source": [
    "## Conditionals"
   ]
  },
  {
   "cell_type": "markdown",
   "metadata": {
    "slideshow": {
     "slide_type": "slide"
    }
   },
   "source": [
    "### `if`-statements\n",
    "\n",
    "- Often, we'll want to run a block of code only if a particular conditional expression is `True`.\n",
    "- The syntax for this is as follows (don't forget the colon!):\n",
    "\n",
    "```py\n",
    "if <condition>:\n",
    "    <body>\n",
    "```\n",
    "            \n",
    "- Indentation matters!"
   ]
  },
  {
   "cell_type": "code",
   "execution_count": null,
   "metadata": {},
   "outputs": [],
   "source": [
    "is_sunny = True\n",
    "\n",
    "if is_sunny:\n",
    "    print('Wear sunglasses.')"
   ]
  },
  {
   "cell_type": "markdown",
   "metadata": {
    "slideshow": {
     "slide_type": "slide"
    }
   },
   "source": [
    "### `else`\n",
    "\n",
    "`else`: Do something else if the specified condition is `False`."
   ]
  },
  {
   "cell_type": "code",
   "execution_count": null,
   "metadata": {},
   "outputs": [],
   "source": [
    "is_sunny = False\n",
    "\n",
    "if is_sunny:\n",
    "    print('Wear sunglasses.')\n",
    "else:\n",
    "    print('Stay inside.')"
   ]
  },
  {
   "cell_type": "markdown",
   "metadata": {
    "slideshow": {
     "slide_type": "slide"
    }
   },
   "source": [
    "### `elif`\n",
    "\n",
    "- What if we want to check more than one condition? Use `elif`.\n",
    "- `elif`: if the specified condition is `False`, check the next condition.\n",
    "- If that condition is `False`, check the next condition, and so on, until we see a `True` condition.\n",
    "    - After seeing a `True` condition, it evaluates the indented code and stops.\n",
    "- If none of the conditions are `True`, the `else` body is run."
   ]
  },
  {
   "cell_type": "code",
   "execution_count": null,
   "metadata": {},
   "outputs": [],
   "source": [
    "is_raining = False\n",
    "is_warm = True\n",
    "is_sunny = True\n",
    "\n",
    "if is_raining:\n",
    "    print('Grab an umbrella.')\n",
    "elif is_warm:\n",
    "    print('Wear shorts.')\n",
    "elif is_sunny:\n",
    "    print('Wear sunglasses.')\n",
    "else:\n",
    "    print('All conditions are false!')"
   ]
  },
  {
   "cell_type": "markdown",
   "metadata": {
    "slideshow": {
     "slide_type": "slide"
    }
   },
   "source": [
    "### Example: sign function\n",
    "\n",
    "Below, complete the implementation of the function `sign`, which takes a single number (`x`) and returns `'positive'` if the number is positive, `'negative'` if the number is negative, and `'neither'` if it is neither."
   ]
  },
  {
   "cell_type": "code",
   "execution_count": null,
   "metadata": {},
   "outputs": [],
   "source": [
    "def sign(x):\n",
    "    if x > 0:\n",
    "        return 'positive'\n",
    "    elif x < 0:\n",
    "        return 'negative'\n",
    "    else:\n",
    "        return 'neither'"
   ]
  },
  {
   "cell_type": "code",
   "execution_count": null,
   "metadata": {},
   "outputs": [],
   "source": [
    "sign(7)"
   ]
  },
  {
   "cell_type": "code",
   "execution_count": null,
   "metadata": {},
   "outputs": [],
   "source": [
    "sign(-2)"
   ]
  },
  {
   "cell_type": "code",
   "execution_count": null,
   "metadata": {},
   "outputs": [],
   "source": [
    "sign(0)"
   ]
  },
  {
   "cell_type": "markdown",
   "metadata": {
    "slideshow": {
     "slide_type": "slide"
    }
   },
   "source": [
    "### Example: percentage to letter grade\n",
    "\n",
    "Below, complete the implementation of the function, `grade_converter`, which takes in a percentage grade (`grade`) and returns the corresponding letter grade, according to this table:\n",
    "\n",
    "| Letter | Range |\n",
    "| --- | --- |\n",
    "| A | [90, 100] |\n",
    "| B | [80, 90) |\n",
    "| C | [70, 80) |\n",
    "| D | [60, 70) |\n",
    "| F | [0, 60)"
   ]
  },
  {
   "cell_type": "code",
   "execution_count": null,
   "metadata": {},
   "outputs": [],
   "source": [
    "def grade_converter(grade):\n",
    "    if grade >= 90:\n",
    "        return 'A'\n",
    "    elif grade >= 80:\n",
    "        return 'B'\n",
    "    elif grade >= 70:\n",
    "        return 'C'\n",
    "    elif grade >= 60:\n",
    "        return 'D'\n",
    "    else:\n",
    "        return 'F'"
   ]
  },
  {
   "cell_type": "code",
   "execution_count": null,
   "metadata": {},
   "outputs": [],
   "source": [
    "grade_converter(84)"
   ]
  },
  {
   "cell_type": "code",
   "execution_count": null,
   "metadata": {},
   "outputs": [],
   "source": [
    "grade_converter(55)"
   ]
  },
  {
   "cell_type": "markdown",
   "metadata": {
    "slideshow": {
     "slide_type": "slide"
    }
   },
   "source": [
    "### Discussion Question\n",
    "\n",
    "```py\n",
    "\n",
    "def mystery(a, b):\n",
    "    if (a + b > 4) and (b > 0):\n",
    "        return 'bear'\n",
    "    elif (a * b >= 4) or (b < 0):\n",
    "        return 'triton'\n",
    "    else:\n",
    "        return 'bruin'\n",
    "```\n",
    "\n",
    "What is returned when `mystery(2, 2)` is called?\n",
    "\n",
    "A. `'bear'`\n",
    "\n",
    "B. `'triton'`\n",
    "\n",
    "C. `'bruin'`\n",
    "\n",
    "D. More than one of the above\n",
    "\n",
    "### To answer, go to [menti.com](https://menti.com) and enter the code 10 95 76 4."
   ]
  },
  {
   "cell_type": "code",
   "execution_count": null,
   "metadata": {
    "slideshow": {
     "slide_type": "slide"
    }
   },
   "outputs": [],
   "source": []
  },
  {
   "cell_type": "markdown",
   "metadata": {
    "slideshow": {
     "slide_type": "slide"
    }
   },
   "source": [
    "## Iteration"
   ]
  },
  {
   "cell_type": "markdown",
   "metadata": {
    "slideshow": {
     "slide_type": "slide"
    }
   },
   "source": [
    "### `for`-loops"
   ]
  },
  {
   "cell_type": "code",
   "execution_count": null,
   "metadata": {},
   "outputs": [],
   "source": [
    "print(\"Launching in...\")\n",
    "\n",
    "for x in [10, 9, 8, 7, 6, 5, 4, 3, 2, 1]:\n",
    "    print(\"t-minus\", x)\n",
    "    time.sleep(0.5) # Pauses for half a second\n",
    "    \n",
    "print(\"Blast off! 🚀\")"
   ]
  },
  {
   "cell_type": "markdown",
   "metadata": {
    "slideshow": {
     "slide_type": "slide"
    }
   },
   "source": [
    "### `for`-loops\n",
    "\n",
    "- `for`-loops repeat specified code for every value in a sequence.\n",
    "    - Lists and arrays are sequences.\n",
    "    - \"Iterate\" means \"repeat\".\n",
    "- `for`-loop syntax (don't forget the colon!):\n",
    "\n",
    "```py\n",
    "for <loop variable> in <sequence>:\n",
    "    <body>\n",
    "```\n",
    "\n",
    "- Indentation matters!\n"
   ]
  },
  {
   "cell_type": "markdown",
   "metadata": {
    "slideshow": {
     "slide_type": "slide"
    }
   },
   "source": [
    "### Example: squares"
   ]
  },
  {
   "cell_type": "code",
   "execution_count": null,
   "metadata": {
    "scrolled": true,
    "slideshow": {
     "slide_type": "-"
    }
   },
   "outputs": [],
   "source": [
    "# The loop variable can be anything\n",
    "list_of_numbers = [1, 9, 6, 3, 4]\n",
    "for num in list_of_numbers:\n",
    "    print(num, 'squared is', num ** 2)"
   ]
  },
  {
   "cell_type": "markdown",
   "metadata": {},
   "source": [
    "The line `print(num, 'squared is', num ** 2)` is run four times:\n",
    "- On the first iteration, `num` is 4.\n",
    "- On the second iteration, `num` is 2.\n",
    "- On the third iteration, `num` is 1.\n",
    "- On the fourth iteration, `num` is 3.\n",
    "\n",
    "This happens, even though there is no `num = ` anywhere."
   ]
  },
  {
   "cell_type": "markdown",
   "metadata": {
    "slideshow": {
     "slide_type": "slide"
    }
   },
   "source": [
    "### Example: colleges"
   ]
  },
  {
   "cell_type": "code",
   "execution_count": null,
   "metadata": {},
   "outputs": [],
   "source": [
    "colleges = np.array(['Revelle', 'John Muir', 'Thurgood Marshall', \n",
    "            'Earl Warren', 'Eleanor Roosevelt', 'Sixth', 'Seventh'])"
   ]
  },
  {
   "cell_type": "code",
   "execution_count": null,
   "metadata": {},
   "outputs": [],
   "source": [
    "for college in colleges:\n",
    "    print(college + ' College')"
   ]
  },
  {
   "cell_type": "markdown",
   "metadata": {
    "slideshow": {
     "slide_type": "slide"
    }
   },
   "source": [
    "### Ranges\n",
    "\n",
    "- Recall, each element of a list/array has a numerical position.\n",
    "    - The position of the first element is 0, the position of the second element is 1, etc.\n",
    "- We can write a `for`-loop that accesses each element in an array by using its position.\n",
    "- `np.arange` will come in handy."
   ]
  },
  {
   "cell_type": "code",
   "execution_count": null,
   "metadata": {},
   "outputs": [],
   "source": [
    "colleges"
   ]
  },
  {
   "cell_type": "code",
   "execution_count": null,
   "metadata": {},
   "outputs": [],
   "source": [
    "len(colleges)"
   ]
  },
  {
   "cell_type": "code",
   "execution_count": null,
   "metadata": {},
   "outputs": [],
   "source": [
    "np.arange(len(colleges))"
   ]
  },
  {
   "cell_type": "code",
   "execution_count": null,
   "metadata": {},
   "outputs": [],
   "source": [
    "for i in np.arange(len(colleges)):\n",
    "    print(i)"
   ]
  },
  {
   "cell_type": "code",
   "execution_count": null,
   "metadata": {},
   "outputs": [],
   "source": [
    "for i in np.arange(len(colleges)):\n",
    "    print(colleges[i])"
   ]
  },
  {
   "cell_type": "markdown",
   "metadata": {
    "slideshow": {
     "slide_type": "slide"
    }
   },
   "source": [
    "### Building an array by iterating\n",
    "\n",
    "- **Question: How many letters are in each college's name?**\n",
    "- We can figure it out one college at a time, but we want to save our results!\n",
    "- One idea:\n",
    "    - Create an empty array.\n",
    "    - For each college, figure out the length of its name, and store this length in the array that we created.\n",
    "        - Use `np.append`, which appends (adds) an element to the end of an array.\n",
    "    - At the end, the empty array we created will contain the lengths of each college's name.\n",
    "- We will follow this pattern **very often** when generating data and running experiments or simulations. \n",
    "    - It is called the **accumulator pattern**, because the empty array that we created \"accumulates\" the values we want."
   ]
  },
  {
   "cell_type": "code",
   "execution_count": null,
   "metadata": {
    "slideshow": {
     "slide_type": "slide"
    }
   },
   "outputs": [],
   "source": [
    "colleges"
   ]
  },
  {
   "cell_type": "code",
   "execution_count": null,
   "metadata": {},
   "outputs": [],
   "source": [
    "# Creating an empty array to store our results\n",
    "lengths = np.array([])\n",
    "\n",
    "for college in colleges:\n",
    "    # For each college, calculate the length of its name and add it to the lengths array\n",
    "    lengths = np.append(lengths, len(college))\n",
    "    \n",
    "lengths"
   ]
  },
  {
   "cell_type": "markdown",
   "metadata": {
    "slideshow": {
     "slide_type": "slide"
    }
   },
   "source": [
    "### Working with strings\n",
    "\n",
    "String are sequences, so we can iterate over them, too!"
   ]
  },
  {
   "cell_type": "code",
   "execution_count": null,
   "metadata": {},
   "outputs": [],
   "source": [
    "for letter in 'uc san diego':\n",
    "    print(letter.upper())"
   ]
  },
  {
   "cell_type": "code",
   "execution_count": null,
   "metadata": {},
   "outputs": [],
   "source": [
    "'california'.count('a')"
   ]
  },
  {
   "cell_type": "markdown",
   "metadata": {
    "slideshow": {
     "slide_type": "slide"
    }
   },
   "source": [
    "### Example: vowel count\n",
    "\n",
    "Below, complete the implementation of the function `vowel_count`, which returns the number of vowels in the input string `s` (including repeats). Example behavior is shown below.\n",
    "\n",
    "```py\n",
    ">>> vowel_count('king triton')\n",
    "3\n",
    "\n",
    ">>> vowel_count('i go to uc san diego')\n",
    "8\n",
    "```"
   ]
  },
  {
   "cell_type": "code",
   "execution_count": null,
   "metadata": {},
   "outputs": [],
   "source": [
    "def vowel_count(s):\n",
    "    # We need to keep track of the number of vowels seen so far somewhere\n",
    "    number = 0\n",
    "    # For each of the 5 vowels\n",
    "    for vowel in 'aeiou':\n",
    "        # Count the number of occurrences of this vowel in s\n",
    "        count_of_vowel = s.count(vowel)\n",
    "        \n",
    "        # Add this count to the variable number\n",
    "        number = number + count_of_vowel\n",
    "    \n",
    "    return number"
   ]
  },
  {
   "cell_type": "markdown",
   "metadata": {
    "slideshow": {
     "slide_type": "slide"
    }
   },
   "source": [
    "### Reflecting on the previous example\n",
    "\n",
    "- The implementation of `vowel_count` used the accumulator pattern.\n",
    "- More generally: if we want to keep track of the number of times something occurred, we can initialize a variable to be 0 and add to it in our `for`-loop.\n",
    "    - See Question 4 in Lab 4.\n",
    "- The vast majority of `for`-loops you write in DSC 10 will be similar to this one.\n",
    "    - Do **not** use `for`-loops to perform mathematical operations on every element of an array or Series; use built-in array/Series methods for that.\n",
    "    - We will see **lots** of `for`-loops in the second half of the quarter."
   ]
  },
  {
   "cell_type": "markdown",
   "metadata": {
    "slideshow": {
     "slide_type": "slide"
    }
   },
   "source": [
    "## Summary"
   ]
  },
  {
   "cell_type": "markdown",
   "metadata": {
    "slideshow": {
     "slide_type": "slide"
    }
   },
   "source": [
    "### Summary\n",
    "\n",
    "- The `bool` data type has two possible values: `True` and `False`.\n",
    "- The Boolean operators, `not`, `and`, and `or`, allow us to make expressions that involve multiple Booleans.\n",
    "- `if`-statements allow us to run pieces of code depending on whether certain conditions are `True`.\n",
    "- `for`-loops are used to repeat the execution of code for every element of a sequence.\n",
    "    - Lists, arrays, and strings are examples of sequences.\n",
    "- **Next time**: Probability."
   ]
  }
 ],
 "metadata": {
  "celltoolbar": "Slideshow",
  "kernelspec": {
   "display_name": "Python 3 (ipykernel)",
   "language": "python",
   "name": "python3"
  },
  "language_info": {
   "codemirror_mode": {
    "name": "ipython",
    "version": 3
   },
   "file_extension": ".py",
   "mimetype": "text/x-python",
   "name": "python",
   "nbconvert_exporter": "python",
   "pygments_lexer": "ipython3",
   "version": "3.9.7"
  },
  "livereveal": {
   "scroll": true,
   "transition": "none"
  }
 },
 "nbformat": 4,
 "nbformat_minor": 2
}
