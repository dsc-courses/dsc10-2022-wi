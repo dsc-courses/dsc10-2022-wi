{
 "cells": [
  {
   "cell_type": "code",
   "execution_count": null,
   "metadata": {
    "slideshow": {
     "slide_type": "skip"
    }
   },
   "outputs": [],
   "source": [
    "# Imports\n",
    "import babypandas as bpd\n",
    "import numpy as np\n",
    "from scipy import stats\n",
    "\n",
    "import matplotlib.pyplot as plt\n",
    "plt.style.use('fivethirtyeight')\n",
    "\n",
    "from IPython.display import display, IFrame\n",
    "\n",
    "def normal_curve(x, mu=0, sigma=1):\n",
    "    return 1 / np.sqrt(2*np.pi) * np.exp(-(x - mu)**2/(2 * sigma**2))\n",
    "\n",
    "def normal_area(a, b, bars=False):\n",
    "    x = np.linspace(-4, 4)\n",
    "    y = normal_curve(x)\n",
    "    ix = (x >= a) & (x <= b)\n",
    "    plt.plot(x, y, color='black')\n",
    "    plt.fill_between(x[ix], y[ix], color='gold')\n",
    "    if bars:\n",
    "        plt.axvline(a, color='red')\n",
    "        plt.axvline(b, color='red')\n",
    "    plt.title(f'Area between {np.round(a, 2)} and {np.round(b, 2)}')\n",
    "    \n",
    "def proportion_between(z):\n",
    "    '''Returns the proportion of values in a normal distribution that are within z SDs of the mean.'''\n",
    "    return stats.norm.cdf(z) - stats.norm.cdf(-z)\n",
    "\n",
    "def proportion_between_visual(z):\n",
    "    normal_area(-z, z)\n",
    "    prop = proportion_between(z)\n",
    "    plt.title(f'Proportion within {z} SDs: {np.round(prop, 3)}')\n",
    "\n",
    "def show_clt_slides():\n",
    "    src = \"https://docs.google.com/presentation/d/e/2PACX-1vTcJd3U1H1KoXqBFcWGKFUPjZbeW4oiNZZLCFY8jqvSDsl4L1rRTg7980nPs1TGCAecYKUZxH5MZIBh/embed?start=false&loop=false&delayms=3000\"\n",
    "    width = 960\n",
    "    height = 509\n",
    "    display(IFrame(src, width, height))"
   ]
  },
  {
   "cell_type": "markdown",
   "metadata": {
    "slideshow": {
     "slide_type": "slide"
    }
   },
   "source": [
    "# Lecture 23 – Experiment Design\n",
    "\n",
    "## DSC 10, Winter 2022"
   ]
  },
  {
   "cell_type": "markdown",
   "metadata": {
    "slideshow": {
     "slide_type": "slide"
    }
   },
   "source": [
    "### Announcements\n",
    "\n",
    "- Homework 7 is due on **Saturday 3/5 at 11:59pm**.\n",
    "- The Final Project is due on **Wednesday 3/9 at 11:59pm** ‼️\n",
    "    - Start if you haven't already!\n",
    "- Lab 8 (the final assignment of the quarter) will be released soon and will be due on **Thursday 3/10 at 11:59pm**.\n",
    "- **Important:** lecture today and Friday 3/4 will be Zoom-only."
   ]
  },
  {
   "cell_type": "markdown",
   "metadata": {
    "slideshow": {
     "slide_type": "slide"
    }
   },
   "source": [
    "### Agenda\n",
    "\n",
    "- Recap: using the CLT to create confidence intervals.\n",
    "- Hypothesis testing using confidence intervals, revisited.\n",
    "- Choosing sample sizes."
   ]
  },
  {
   "cell_type": "markdown",
   "metadata": {
    "slideshow": {
     "slide_type": "slide"
    }
   },
   "source": [
    "## Recap: CLT and confidence intervals"
   ]
  },
  {
   "cell_type": "code",
   "execution_count": null,
   "metadata": {
    "scrolled": false,
    "slideshow": {
     "slide_type": "slide"
    }
   },
   "outputs": [],
   "source": [
    "show_clt_slides()"
   ]
  },
  {
   "cell_type": "markdown",
   "metadata": {
    "slideshow": {
     "slide_type": "slide"
    }
   },
   "source": [
    "### Discussion Question\n",
    "\n",
    "Which one of these histograms corresponds to the distribution of the sample mean for samples of size 100 drawn from a population with mean 50 and SD 20?\n",
    "\n",
    "<center><img src='data/which-hist.png' width=900></center>\n",
    "\n",
    "### To answer, go to [menti.com](https://menti.com) and enter the code 5737 2050."
   ]
  },
  {
   "cell_type": "markdown",
   "metadata": {
    "slideshow": {
     "slide_type": "slide"
    }
   },
   "source": [
    "### Confidence intervals for population means\n",
    "\n",
    "An approximate 95% confidence interval for the population mean is given by\n",
    "\n",
    "$$\n",
    "\\left[\n",
    "\\text{sample mean} - 2\\cdot \\frac{\\text{sample SD}}{\\sqrt{n}},\n",
    "\\text{sample mean} + 2\\cdot \\frac{\\text{sample SD}}{\\sqrt{n}}\n",
    "\\right]\n",
    "$$\n",
    "\n",
    "- **Interpretation:** for about 95% of samples, the population mean and sample mean are within 2 SDs of one another.\n",
    "\n",
    "- This result uses the CLT, which states that the distribution of the sample mean is roughly normal and is centered at the population mean.\n",
    "    - The CLT also tells us that $$ \\text{SD of Distribution of Possible Sample Means} = \\frac{\\text{Population SD}}{\\sqrt{\\text{sample size}}}$$\n",
    "    - We don't know the population SD, so we can use the sample SD as an estimate."
   ]
  },
  {
   "cell_type": "markdown",
   "metadata": {
    "slideshow": {
     "slide_type": "slide"
    }
   },
   "source": [
    "### What about other widths?\n",
    "\n",
    "Consider the following confidence interval:\n",
    "$$\n",
    "\\left[\n",
    "\\text{sample mean} - z\\cdot \\frac{\\text{sample SD}}{\\sqrt{n}},\n",
    "\\text{sample mean} + z\\cdot \\frac{\\text{sample SD}}{\\sqrt{n}}\n",
    "\\right]\n",
    "$$\n",
    "\n",
    "When $z = 2$, this is roughly a 95% confidence interval.\n",
    "\n",
    "What should the value of $z$ be so that this is a 90% confidence interval? "
   ]
  },
  {
   "cell_type": "code",
   "execution_count": null,
   "metadata": {},
   "outputs": [],
   "source": [
    "def proportion_between(z):\n",
    "    '''Returns the proportion of values in a normal distribution that are within z SDs of the mean.'''\n",
    "    return stats.norm.cdf(z) - stats.norm.cdf(-z)"
   ]
  },
  {
   "cell_type": "code",
   "execution_count": null,
   "metadata": {},
   "outputs": [],
   "source": [
    "proportion_between(2)"
   ]
  },
  {
   "cell_type": "code",
   "execution_count": null,
   "metadata": {
    "slideshow": {
     "slide_type": "slide"
    }
   },
   "outputs": [],
   "source": [
    "for z in np.arange(0, 3, 0.25):\n",
    "    proportion_between_visual(z)\n",
    "    plt.show()"
   ]
  },
  {
   "cell_type": "markdown",
   "metadata": {
    "slideshow": {
     "slide_type": "slide"
    }
   },
   "source": [
    "### So... why do we ever need to bootstrap?\n",
    "\n",
    "- We can use the CLT to make CIs using sample means (and, as a result, sample proportions).\n",
    "- But the CLT doesn't apply to, for example, the median.\n",
    "- As a result, we have to bootstrap to find a CI for the median."
   ]
  },
  {
   "cell_type": "markdown",
   "metadata": {
    "slideshow": {
     "slide_type": "slide"
    }
   },
   "source": [
    "## Hypothesis testing"
   ]
  },
  {
   "cell_type": "markdown",
   "metadata": {
    "slideshow": {
     "slide_type": "slide"
    }
   },
   "source": [
    "### Hypothesis testing for the mean\n",
    "\n",
    "- Before, we used the bootstrap to create confidence intervals, which we could use for hypothesis tests.\n",
    "- We can do the same thing with our CLT-based confidence intervals, as well."
   ]
  },
  {
   "cell_type": "markdown",
   "metadata": {
    "slideshow": {
     "slide_type": "slide"
    }
   },
   "source": [
    "### Using a confidence interval for hypothesis testing\n",
    "\n",
    "- **Null hypothesis**: The population parameter is equal to some value, $x$.\n",
    "- **Alternative hypothesis**: The population parameter is not equal to $x$.\n",
    "- Cutoff for p-value: p%.\n",
    "- Strategy:\n",
    "    - Construct a (100-p)% confidence interval for the population parameter.\n",
    "    - If $x$ is not in the interval, reject the null hypothesis.\n",
    "    - If $x$ is in the interval, our results are consistent with the null (fail to reject it)."
   ]
  },
  {
   "cell_type": "markdown",
   "metadata": {
    "slideshow": {
     "slide_type": "slide"
    }
   },
   "source": [
    "### Example: Body temperature 🌡\n",
    "\n",
    "- It is widely accepted that the average body temperature is 98.6 ºF (or 37 ºC).\n",
    "- We have a dataset of body temperatures, and want to see if our dataset is consistent with that belief."
   ]
  },
  {
   "cell_type": "code",
   "execution_count": null,
   "metadata": {},
   "outputs": [],
   "source": [
    "temperatures = bpd.read_csv('data/temp.csv')\n",
    "temperatures"
   ]
  },
  {
   "cell_type": "code",
   "execution_count": null,
   "metadata": {},
   "outputs": [],
   "source": [
    "temperatures.get('temperature').mean()"
   ]
  },
  {
   "cell_type": "markdown",
   "metadata": {
    "slideshow": {
     "slide_type": "slide"
    }
   },
   "source": [
    "### The hypotheses\n",
    "\n",
    "- **Null hypothesis**: The population mean is 98.6 ºF.\n",
    "- **Alternative hypothesis**: The population mean is not 98.6 ºF."
   ]
  },
  {
   "cell_type": "markdown",
   "metadata": {
    "slideshow": {
     "slide_type": "slide"
    }
   },
   "source": [
    "### CI for mean body temperature\n",
    "\n",
    " - To compute a 95% confidence interval for population mean using the CLT:\n",
    "\n",
    "$$\n",
    "\\left[\n",
    "\\text{sample mean} - 2\\cdot \\frac{\\text{sample SD}}{\\sqrt{n}}, \\\n",
    "\\text{sample mean} + 2\\cdot \\frac{\\text{sample SD}}{\\sqrt{n}}\n",
    "\\right]\n",
    "$$\n",
    "\n",
    "- This does **not** assume that temperatures are distributed normally!"
   ]
  },
  {
   "cell_type": "code",
   "execution_count": null,
   "metadata": {},
   "outputs": [],
   "source": [
    "sample_mean = temperatures.get('temperature').mean()\n",
    "sample_mean"
   ]
  },
  {
   "cell_type": "code",
   "execution_count": null,
   "metadata": {},
   "outputs": [],
   "source": [
    "sample_mean_sd = np.std(temperatures.get('temperature')) / np.sqrt(temperatures.shape[0])\n",
    "sample_mean_sd"
   ]
  },
  {
   "cell_type": "code",
   "execution_count": null,
   "metadata": {},
   "outputs": [],
   "source": [
    "# 95% confidence interval\n",
    "[sample_mean - 2 * sample_mean_sd, sample_mean + 2 * sample_mean_sd]"
   ]
  },
  {
   "cell_type": "markdown",
   "metadata": {
    "slideshow": {
     "slide_type": "slide"
    }
   },
   "source": [
    "**Careful!** This doesn't mean that 95% of temperatures fall in this range!"
   ]
  },
  {
   "cell_type": "code",
   "execution_count": null,
   "metadata": {
    "scrolled": false
   },
   "outputs": [],
   "source": [
    "plt.figure(figsize=(10, 5))\n",
    "plt.hist(temperatures.get('temperature'), density=True, bins=20, ec='w');\n",
    "plt.title('Sample Distribution of Body Temperature (ºF)');\n",
    "plt.plot([sample_mean - 2*sample_mean_sd, sample_mean + 2*sample_mean_sd], [0, 0], color='darkgreen', linewidth=20);"
   ]
  },
  {
   "cell_type": "markdown",
   "metadata": {
    "slideshow": {
     "slide_type": "slide"
    }
   },
   "source": [
    "### Conclusion"
   ]
  },
  {
   "cell_type": "code",
   "execution_count": null,
   "metadata": {},
   "outputs": [],
   "source": [
    "# 95% confidence interval\n",
    "[sample_mean - 2 * sample_mean_sd, sample_mean + 2 * sample_mean_sd]"
   ]
  },
  {
   "cell_type": "markdown",
   "metadata": {
    "slideshow": {
     "slide_type": "-"
    }
   },
   "source": [
    "- We reject the null hypothesis at the 0.05 significance level because 98.6 ºF is not in the 95% confidence interval for mean body temperature.\n",
    "- What happened?\n",
    "    - 98.6 ºF is due to Carl Reinhold August Wunderlich, a 19th century physician, who conducted a study when thermometers were new.\n",
    "    - [This article](https://www.latimes.com/archives/la-xpm-2007-nov-26-he-esoterica26-story.html) states that it's likely that Wunderlich's thermometer was miscalibrated.\n",
    "    - [A recent article by the Yale School of Medicine](https://www.yalemedicine.org/news/temperature-checks-covid) states that the average body temperature has declined slightly over the last 150 years by 1.5 ºF, and that body temperature depends on the time of day, age, and sex, among other things."
   ]
  },
  {
   "cell_type": "markdown",
   "metadata": {
    "slideshow": {
     "slide_type": "slide"
    }
   },
   "source": [
    "## Experiment design"
   ]
  },
  {
   "cell_type": "markdown",
   "metadata": {
    "slideshow": {
     "slide_type": "slide"
    }
   },
   "source": [
    "### Example: Polling\n",
    "\n",
    "- You are conducting a campus poll:\n",
    "    - Yes or No: Do you use TikTok? 👯\n",
    "- You want to estimate the proportion in the population who say \"Yes\".\n",
    "- You want to be accurate to within $\\pm$ 0.03, with 95% confidence.\n",
    "- In other words, you want a 95\\% confidence interval whose width is at most 0.06."
   ]
  },
  {
   "cell_type": "markdown",
   "metadata": {
    "slideshow": {
     "slide_type": "fragment"
    }
   },
   "source": [
    "### **Question:** How big of a sample do you need? 🤔"
   ]
  },
  {
   "cell_type": "markdown",
   "metadata": {
    "slideshow": {
     "slide_type": "slide"
    }
   },
   "source": [
    "### Proportions are just means\n",
    "\n",
    "- When polling, we'll write 1 if a person answers \"Yes\", and 0 otherwise.\n",
    "- We're interested in the proportion of people who answer \"Yes\", i.e. the proportion of 1s.\n",
    "- The proportion of 1s is equal to the sample mean (remember, the sample only consists of 0s and 1s).\n",
    "- Thus, the CLT applies."
   ]
  },
  {
   "cell_type": "markdown",
   "metadata": {
    "slideshow": {
     "slide_type": "slide"
    }
   },
   "source": [
    "### Our strategy\n",
    "\n",
    "1. We will poll a random sample of $n$ people.\n",
    "2. Compute the sample mean (i.e., the proportion of people who say \"Yes\").\n",
    "3. Compute the sample standard deviation.\n",
    "4. Construct a 95% confidence interval:\n",
    "\n",
    "$$\n",
    "\\left[\n",
    "\\text{sample mean} - 2\\cdot \\frac{\\text{sample SD}}{\\sqrt{n}}, \\\n",
    "\\text{sample mean} + 2\\cdot \\frac{\\text{sample SD}}{\\sqrt{n}}\n",
    "\\right]\n",
    "$$\n",
    "\n",
    "Note that the width of our 95% CI is\n",
    "\n",
    "$$\n",
    "4 \\cdot \\frac{\\text{sample SD}}{\\sqrt{n}}\n",
    "$$"
   ]
  },
  {
   "cell_type": "markdown",
   "metadata": {
    "slideshow": {
     "slide_type": "slide"
    }
   },
   "source": [
    "### Our strategy\n",
    "\n",
    "- We want a CI whose width is 0.06 or less.\n",
    "- The width of our confidence interval depends on two things:\n",
    "    - The sample SD.\n",
    "    - $\\sqrt{n}$.\n",
    "- If we know the sample SD, we can pick $n$ to make the CI the right size by solving\n",
    "\n",
    "$$4 \\cdot \\frac{\\text{sample SD}}{\\sqrt{n}} \\leq 0.06$$"
   ]
  },
  {
   "cell_type": "markdown",
   "metadata": {
    "slideshow": {
     "slide_type": "fragment"
    }
   },
   "source": [
    "- Rearranging for $n$ yields\n",
    "\n",
    "$$\\sqrt{n} \\geq 4 \\cdot \\frac{\\text{sample SD}}{0.06} \\implies n \\geq \\left( 4 \\cdot \\frac{\\text{sample SD}}{0.06} \\right)^2$$"
   ]
  },
  {
   "cell_type": "markdown",
   "metadata": {
    "slideshow": {
     "slide_type": "fragment"
    }
   },
   "source": [
    "- **Problem**: Before polling, we don't know the sample SD, because we don't have a sample!"
   ]
  },
  {
   "cell_type": "markdown",
   "metadata": {
    "slideshow": {
     "slide_type": "fragment"
    }
   },
   "source": [
    "- **Solution**: Find an upper bound for the sample SD and use that."
   ]
  },
  {
   "cell_type": "markdown",
   "metadata": {
    "slideshow": {
     "slide_type": "slide"
    }
   },
   "source": [
    "### Bounding the sample SD\n",
    "\n",
    "- How big can the sample SD be, for a sample that consists only of 0s and 1s?\n",
    "- This can be calculated with algebra, but let's try to get the answer from a plot."
   ]
  },
  {
   "cell_type": "markdown",
   "metadata": {
    "slideshow": {
     "slide_type": "slide"
    }
   },
   "source": [
    "### Creating an example sample of 0s and 1s"
   ]
  },
  {
   "cell_type": "code",
   "execution_count": null,
   "metadata": {},
   "outputs": [],
   "source": [
    "def polling_sample(size, number_of_ones):\n",
    "    '''Returns an array of size `size`. The first `number_of_ones` elements are 1, the rest are 0.'''\n",
    "    count = np.arange(size)\n",
    "    return np.where(count < number_of_ones, 1, 0)"
   ]
  },
  {
   "cell_type": "code",
   "execution_count": null,
   "metadata": {},
   "outputs": [],
   "source": [
    "polling_sample(100, 4)"
   ]
  },
  {
   "cell_type": "markdown",
   "metadata": {
    "slideshow": {
     "slide_type": "slide"
    }
   },
   "source": [
    "### Computing standard deviations\n",
    "\n",
    "Below, we'll compute the standard deviation of a sample of size 100 that consists of $k$ 1s and $100-k$ 0s, for all values of $k$ between 0 and 100, inclusive."
   ]
  },
  {
   "cell_type": "code",
   "execution_count": null,
   "metadata": {},
   "outputs": [],
   "source": [
    "size = 100\n",
    "proportions = np.arange(size+1)\n",
    "sds = np.array([])\n",
    "\n",
    "for proportion in proportions:\n",
    "    sample = polling_sample(size, proportion)\n",
    "    sd = np.std(sample)\n",
    "    sds = np.append(sds, sd)"
   ]
  },
  {
   "cell_type": "code",
   "execution_count": null,
   "metadata": {},
   "outputs": [],
   "source": [
    "bpd.DataFrame().assign(\n",
    "    NumOnes=proportions,\n",
    "    SD=sds\n",
    ").plot(kind='scatter', x='NumOnes', y='SD', title='SD vs. Number of Ones', figsize=(10, 5));"
   ]
  },
  {
   "cell_type": "markdown",
   "metadata": {
    "slideshow": {
     "slide_type": "fragment"
    }
   },
   "source": [
    "What do you notice? 🤔"
   ]
  },
  {
   "cell_type": "markdown",
   "metadata": {
    "slideshow": {
     "slide_type": "slide"
    }
   },
   "source": [
    "### Bounding the sample SD\n",
    "\n",
    "- For any data set of 0s and 1s (sample or population), the most the SD can be is 0.5.\n",
    "    - This happens when half of the values are 0 and half are 1.\n",
    "- Using 0.5 in place of the sample SD results in a \"conservative\" confidence interval.\n",
    "    - We may get a larger sample size than needed, depending on the actual sample SD."
   ]
  },
  {
   "cell_type": "markdown",
   "metadata": {
    "slideshow": {
     "slide_type": "slide"
    }
   },
   "source": [
    "### Computing a 95% confidence interval\n",
    "\n",
    "- The interval is:\n",
    "\n",
    "$$\n",
    "\\left[\n",
    "\\text{sample mean} - 2\\cdot \\frac{\\text{sample SD}}{\\sqrt{n}},\n",
    "\\text{sample mean} + 2\\cdot \\frac{\\text{sample SD}}{\\sqrt{n}}\n",
    "\\right]\n",
    "$$\n",
    "\n",
    "- The width, **which we want to be less than or equal to 0.06**, is:\n",
    "\n",
    "$$\n",
    "4 \\cdot \\frac{\\text{sample SD}}{\\sqrt{n}}\n",
    "$$\n",
    "\n",
    "- From before, rearranging gives\n",
    "\n",
    "$$n \\geq \\left( 4 \\cdot \\frac{\\text{sample SD}}{0.06} \\right)^2$$\n",
    "\n",
    "- We know that the **largest possible sample SD** is 0.5. So by substituting 0.5 for the sample SD above, we will get the **the largest possible sample size that we'd need to guarantee a width of at most 0.06**."
   ]
  },
  {
   "cell_type": "markdown",
   "metadata": {
    "slideshow": {
     "slide_type": "slide"
    }
   },
   "source": [
    "### Computing a 95% confidence interval\n",
    "\n",
    "$$n \\geq \\left( 4 \\cdot \\frac{\\text{sample SD}}{0.06} \\right)^2$$\n",
    "\n",
    "$$n \\geq \\left( 4 \\cdot \\frac{0.5}{0.06} \\right)^2$$\n",
    "\n",
    "So, the sample size we pick is the smallest $n$ that satisfies the above inequality."
   ]
  },
  {
   "cell_type": "code",
   "execution_count": null,
   "metadata": {},
   "outputs": [],
   "source": [
    "(4 * 0.5 / 0.06) ** 2"
   ]
  },
  {
   "cell_type": "markdown",
   "metadata": {
    "slideshow": {
     "slide_type": "slide"
    }
   },
   "source": [
    "### Question: How big of a sample do you need? 🤔"
   ]
  },
  {
   "cell_type": "markdown",
   "metadata": {
    "slideshow": {
     "slide_type": "fragment"
    }
   },
   "source": [
    "### Answer: We must poll at least 1112 people to get a 95% CI that is at most 0.06 wide."
   ]
  },
  {
   "cell_type": "markdown",
   "metadata": {
    "slideshow": {
     "slide_type": "slide"
    }
   },
   "source": [
    "### Experiment\n",
    "\n",
    "- The CLT is telling us that if we repeatedly:\n",
    "    - take a sample of 1112 people directly from the population, and\n",
    "    - compute the proportion of people that say \"Yes\"\n",
    "- Then roughly 95% of those sample proportions will be within 0.03 of the true proportion.\n",
    "- Let's run a simulation to verify this!"
   ]
  },
  {
   "cell_type": "code",
   "execution_count": null,
   "metadata": {},
   "outputs": [],
   "source": [
    "# Don't look at population_proportion!\n",
    "population_proportion = np.random.choice(np.arange(0.3, 0.7, 0.01))"
   ]
  },
  {
   "cell_type": "markdown",
   "metadata": {
    "slideshow": {
     "slide_type": "slide"
    }
   },
   "source": [
    "### Conduct a poll\n",
    "\n",
    "First, let's determine how to conduct a single sample."
   ]
  },
  {
   "cell_type": "code",
   "execution_count": null,
   "metadata": {
    "scrolled": true
   },
   "outputs": [],
   "source": [
    "poll_results = np.random.multinomial(1112, [population_proportion, 1 - population_proportion]) / 1112\n",
    "poll_results"
   ]
  },
  {
   "cell_type": "markdown",
   "metadata": {
    "slideshow": {
     "slide_type": "slide"
    }
   },
   "source": [
    "### Repeat the poll 5000 times\n",
    "\n",
    "Let's now collect 5000 such samples, giving us 5000 sample proportions."
   ]
  },
  {
   "cell_type": "code",
   "execution_count": null,
   "metadata": {},
   "outputs": [],
   "source": [
    "distribution = np.array([])\n",
    "\n",
    "for i in np.arange(5000):\n",
    "    poll_results = np.random.multinomial(1112, [population_proportion, 1 - population_proportion]) / 1112\n",
    "    distribution = np.append(distribution, poll_results[0])"
   ]
  },
  {
   "cell_type": "code",
   "execution_count": null,
   "metadata": {},
   "outputs": [],
   "source": [
    "distribution"
   ]
  },
  {
   "cell_type": "markdown",
   "metadata": {
    "slideshow": {
     "slide_type": "slide"
    }
   },
   "source": [
    "### Visualizing the distribution of sample proportions"
   ]
  },
  {
   "cell_type": "code",
   "execution_count": null,
   "metadata": {},
   "outputs": [],
   "source": [
    "bpd.DataFrame().assign(SampledProportions=distribution).plot(kind='hist', y='SampledProportions', bins=30, figsize=(10, 5), ec='w');\n",
    "plt.scatter(population_proportion, 0, marker='^', zorder=3, color='red', s=1000, label='Population Proportion')\n",
    "plt.plot([population_proportion - 0.03, population_proportion + 0.03], [0, 0], color='darkgreen', linewidth=20, label='Population proportion +/- 0.03');"
   ]
  },
  {
   "cell_type": "markdown",
   "metadata": {},
   "source": [
    "- The triangle in red corresponds to the population proportion, **which we didn't know when deciding the sample size**.\n",
    "- The interval in green extends 0.03 on both sides of the population proportion."
   ]
  },
  {
   "cell_type": "code",
   "execution_count": null,
   "metadata": {
    "scrolled": true
   },
   "outputs": [],
   "source": [
    "np.count_nonzero((population_proportion - 0.03 <= distribution) & (distribution <= population_proportion + 0.03)) / 5000"
   ]
  },
  {
   "cell_type": "markdown",
   "metadata": {
    "slideshow": {
     "slide_type": "fragment"
    }
   },
   "source": [
    "- This is showing us that **roughly 95% of the time, the population proportion and the sample proportion are within 0.03 of one another**. \n",
    "- This means that we chose the right sample size! If we chose a smaller sample size, the interval would be too narrow."
   ]
  },
  {
   "cell_type": "markdown",
   "metadata": {
    "slideshow": {
     "slide_type": "slide"
    }
   },
   "source": [
    "### Discussion Question\n",
    "\n",
    "Recall, we found that we must poll 1112 people to get a 95% CI that is at most 0.06 wide, by solving for $n$ below:\n",
    "\n",
    "$$n \\geq \\left( 4 \\cdot \\frac{0.5}{0.06} \\right)^2$$\n",
    "\n",
    "Suppose we instead want a 95% CI that is 0.03 wide. How many people do we need to poll?\n",
    "\n",
    "- A. 556\n",
    "- B. 2223\n",
    "- C. 4445\n",
    "- D. 8889\n",
    "- E. None of the above\n",
    "\n",
    "### To answer, go to [menti.com](https://menti.com) and enter the code 5737 2050."
   ]
  },
  {
   "cell_type": "markdown",
   "metadata": {
    "slideshow": {
     "slide_type": "slide"
    }
   },
   "source": [
    "## Summary"
   ]
  },
  {
   "cell_type": "markdown",
   "metadata": {
    "slideshow": {
     "slide_type": "slide"
    }
   },
   "source": [
    "> I have collected some data. What can I learn about how my data was generated?"
   ]
  },
  {
   "cell_type": "markdown",
   "metadata": {
    "slideshow": {
     "slide_type": "fragment"
    }
   },
   "source": [
    "At a high level, the second half of this class has been about understanding where data comes from."
   ]
  },
  {
   "cell_type": "markdown",
   "metadata": {
    "slideshow": {
     "slide_type": "slide"
    }
   },
   "source": [
    "### Populations and samples\n",
    "\n",
    "Sometimes, our observed data is in the form of a sample, and we want to use our sample to infer something about the population from which it was drawn. Some example questions:\n",
    "- What is the value of this population parameter, e.g. the population mean?\n",
    "    - **Strategy:** Create a confidence interval for the population parameter, using either the bootstrap or CLT (if it applies).\n",
    "- Is the value of this population parameter equal to $x$?\n",
    "    - **Strategy:** For a p% significance level, compute a (100-p)% confidence interval. Reject the null (that the parameter is equal to $x$) if $x$ is not in the interval."
   ]
  },
  {
   "cell_type": "markdown",
   "metadata": {
    "slideshow": {
     "slide_type": "slide"
    }
   },
   "source": [
    "### Models\n",
    "\n",
    "Other times, we want to test the validity of a **model**, which is a set of assumptions about how data were generated.\n",
    "Some example questions:\n",
    "\n",
    "- Is the data in this sample consistent with what was expected?\n",
    "    - **Strategy:** Perform a hypothesis test, with a mean, proportion, or absolute difference as a test statistic.\n",
    "- Was this sample drawn from this specific categorical distribution?\n",
    "    - **Strategy:** Perform a hypothesis test, with the total variation distance as a test statistic.\n",
    "- Are these two samples from the same population?\n",
    "    - **Strategy:** Perform a permutation test."
   ]
  },
  {
   "cell_type": "markdown",
   "metadata": {
    "slideshow": {
     "slide_type": "slide"
    }
   },
   "source": [
    "### What's next?\n",
    "\n",
    "- So far, we've given you an introduction to statistical inference.\n",
    "- However, we have not yet spoken much about **prediction** – given a sample, what can I predict about data not in that sample?\n",
    "    - Example from earlier in the quarter: Galton's method for predicting the heights of children given their parents' heights.\n",
    "- In the next 2 lectures, we'll focus on **linear regression**, a prediction technique that tries to find the best \"linear relationship\" between two numeric variables.\n",
    "    - Along the way, we'll address another idea – **correlation**.\n",
    "    - You will see linear regression several more times throughout your time at UCSD – it is one of the most important tools to have in your data science toolkit."
   ]
  }
 ],
 "metadata": {
  "celltoolbar": "Slideshow",
  "kernelspec": {
   "display_name": "Python 3 (ipykernel)",
   "language": "python",
   "name": "python3"
  },
  "language_info": {
   "codemirror_mode": {
    "name": "ipython",
    "version": 3
   },
   "file_extension": ".py",
   "mimetype": "text/x-python",
   "name": "python",
   "nbconvert_exporter": "python",
   "pygments_lexer": "ipython3",
   "version": "3.9.7"
  },
  "livereveal": {
   "scroll": true,
   "transition": "none"
  },
  "rise": {
   "height": "90%",
   "width": "90%"
  }
 },
 "nbformat": 4,
 "nbformat_minor": 2
}
