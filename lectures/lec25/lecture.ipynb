{
 "cells": [
  {
   "cell_type": "code",
   "execution_count": null,
   "metadata": {
    "slideshow": {
     "slide_type": "skip"
    }
   },
   "outputs": [],
   "source": [
    "# Imports\n",
    "import babypandas as bpd\n",
    "import numpy as np\n",
    "\n",
    "import matplotlib.pyplot as plt\n",
    "plt.style.use('fivethirtyeight')\n",
    "\n",
    "from ipywidgets import widgets\n",
    "from IPython.display import clear_output, display\n",
    "\n",
    "def standard_units(any_numbers):\n",
    "    \"Convert a sequence of numbers to standard units.\"\n",
    "    return (any_numbers - any_numbers.mean()) / np.std(any_numbers)\n",
    "\n",
    "# All of the following code is for visualization.\n",
    "def plot_regression_line(df, x, y, margin=.02):\n",
    "    '''Computes the slope and intercept of the regression line between columns x and y in df (in original units) and plots it.'''\n",
    "    m = slope(df, x, y)\n",
    "    b = intercept(df, x, y)\n",
    "    \n",
    "    df.plot(kind='scatter', x=x, y=y, s=100, figsize=(10, 5), label='original data')\n",
    "    left = df.get(x).min()*(1 - margin)\n",
    "    right = df.get(x).max()*(1 + margin)\n",
    "    domain = np.linspace(left, right, 10)\n",
    "    plt.plot(domain, m*domain + b, color='purple', label='regression line')\n",
    "    plt.suptitle(format_equation(m, b), fontsize=18)\n",
    "    plt.legend();\n",
    "    \n",
    "# Just for visual purposes\n",
    "def format_equation(m, b):\n",
    "    if b > 0:\n",
    "        return r'$y = %.2fx + %.2f$' % (m, b)\n",
    "    elif b == 0:\n",
    "        return r'$y = %.2fx' % m\n",
    "    else:\n",
    "        return r'$y = %.2fx %.2f$' % (m, b)\n",
    "    \n",
    "# Don't worry about how this function works.\n",
    "def plot_errors(df, m, b):\n",
    "    x = df.get('x')\n",
    "    y = m*x + b\n",
    "    df.plot(kind='scatter', x='x', y='y', s=100, figsize=(10, 5), label='original data')\n",
    "    plt.plot(x, y, color='purple', label='regression line')\n",
    "    for k in np.arange(df.shape[0]):\n",
    "        xk = df.get('x').iloc[k]\n",
    "        yk = np.asarray(y)[k]\n",
    "        if k == df.shape[0] - 1:\n",
    "            plt.plot([xk, xk], [yk, df.get('y').iloc[k]], '--', c='r', linewidth=2, label='errors')\n",
    "        else:\n",
    "            plt.plot([xk, xk], [yk, df.get('y').iloc[k]], '--', c='r', linewidth=2)\n",
    "    \n",
    "    plt.suptitle(format_equation(m, b), fontsize=18)\n",
    "    plt.xlim(50, 90)\n",
    "    plt.ylim(40, 100)\n",
    "    plt.legend();\n",
    "    \n",
    "def update_plot(w):\n",
    "    m = slope_widget.value\n",
    "    b = without_outlier.get('y').mean() - m * without_outlier.get('x').mean()\n",
    "    with out:\n",
    "        out.clear_output(wait=True)\n",
    "        plot_errors(without_outlier, m, b)\n",
    "        plt.show()"
   ]
  },
  {
   "cell_type": "markdown",
   "metadata": {
    "slideshow": {
     "slide_type": "slide"
    }
   },
   "source": [
    "# Lecture 25 – Regression and Least Squares\n",
    "## DSC 10, Winter 2022"
   ]
  },
  {
   "cell_type": "markdown",
   "metadata": {
    "slideshow": {
     "slide_type": "slide"
    }
   },
   "source": [
    "### Announcements\n",
    "\n",
    "- The Final Project is due on **Wednesday 3/9 at 11:59pm** ‼️\n",
    "- Lab 8 is due on **Thursday 3/10 at 11:59pm**.\n",
    "- The **Final Exam** is on **Saturday 3/12 from 3-6PM**.\n",
    "    - Administered remotely via Gradescope in the same format as Midterm Exam (multiple choice, short answer, fill-in-the-blank code).\n",
    "    - Work on the practice exams posted on the [Resources tab of the course website](https://dsc10.com/resources/) and come to office hours with any questions.\n",
    "    - See [this post](https://campuswire.com/c/G6950E967/feed/1403) on Campuswire for more details.\n",
    "- If at least 85% of the class fills out **both** [CAPEs](https://cape.usd.edu) and the [additional survey](https://forms.gle/pt9HZ4RJzBrz1Vz98), then everyone will receive an extra 0.5% added to their overall course grade.\n",
    "- There will be just one discussion section today, from **6-7:30PM**. It will be entirely review. Come!\n",
    "- Look at the [Calendar](https://dsc10.com/calendar/) for the updated office hours schedule.\n",
    "    - Come to the in-person Study Jam on Wednesday from 3-7pm in the SDSC Auditorium!"
   ]
  },
  {
   "cell_type": "markdown",
   "metadata": {
    "slideshow": {
     "slide_type": "slide"
    }
   },
   "source": [
    "### Agenda\n",
    "\n",
    "- Prediction.\n",
    "- The regression line.\n",
    "- Outliers.\n",
    "- Errors in prediction."
   ]
  },
  {
   "cell_type": "markdown",
   "metadata": {
    "slideshow": {
     "slide_type": "slide"
    }
   },
   "source": [
    "## Prediction"
   ]
  },
  {
   "cell_type": "markdown",
   "metadata": {
    "slideshow": {
     "slide_type": "slide"
    }
   },
   "source": [
    "### Correlation\n",
    "\n",
    "Recall, the correlation coefficient $r$ of two variables $x$ and $y$ is the \n",
    "- **average** value of the \n",
    "- **product** of $x$ and $y$\n",
    "- when both are measured in **standard units**."
   ]
  },
  {
   "cell_type": "markdown",
   "metadata": {
    "slideshow": {
     "slide_type": "slide"
    }
   },
   "source": [
    "### The regression line\n",
    "\n",
    "Suppose **$x$ and $y$ are in standard units**, and $r$ is the correlation coefficient between $x$ and $y$. Then, the regression line is defined as follows:\n",
    "\n",
    "<center><img src='data/regression-line.png' width=400></center>\n",
    "\n",
    "- The regression line is the line through $(0,0)$ with slope $r$.\n",
    "- If $x$ and $y$ are linearly associated, then the graph of averages will be very similar to the regression line.\n",
    "- If the regression line is given by $f(x) = mx + b$, then the prediction for $x$ is given by $f(x)$."
   ]
  },
  {
   "cell_type": "markdown",
   "metadata": {
    "slideshow": {
     "slide_type": "slide"
    }
   },
   "source": [
    "### Discussion Question\n",
    "\n",
    "A course has a midterm (mean 80, standard deviation 15) and a really hard final (mean 50, standard deviation 12).\n",
    "\n",
    "If the scatter diagram comparing midterm & final scores for students looks linearly associated with correlation 0.75, then what is the predicted final exam score for a student who received a 90 on the midterm?\n",
    "\n",
    "- A. 54\n",
    "- B. 56\n",
    "- C. 58\n",
    "- D. 60\n",
    "- E. 62\n",
    "\n",
    "### To answer, go to [menti.com](https://menti.com) and enter the code 1728 4068."
   ]
  },
  {
   "cell_type": "markdown",
   "metadata": {
    "slideshow": {
     "slide_type": "slide"
    }
   },
   "source": [
    "## The regression line"
   ]
  },
  {
   "attachments": {
    "image.png": {
     "image/png": "[encoded data removed]"
    }
   },
   "cell_type": "markdown",
   "metadata": {
    "slideshow": {
     "slide_type": "slide"
    }
   },
   "source": [
    "### The regression line in standard units\n",
    "\n",
    "When $x$ and $y$ are in standard units, the regression line is given by\n",
    "\n",
    "$$y_{\\text{su}} = r \\cdot x_{\\text{su}}$$\n",
    "\n",
    "What is the regression line when $x$ and $y$ are in their original units?\n",
    "\n",
    "![image.png](attachment:image.png)"
   ]
  },
  {
   "cell_type": "markdown",
   "metadata": {
    "slideshow": {
     "slide_type": "slide"
    }
   },
   "source": [
    "### The regression line in original units\n",
    "\n",
    "- We can work backwards from the relationship $y_{\\text{su}} = r \\cdot x_{\\text{su}}$ to find the line in original units.\n",
    "\n",
    "$$y_{\\text{su}} = r \\cdot x_{\\text{su}}$$"
   ]
  },
  {
   "cell_type": "markdown",
   "metadata": {
    "slideshow": {
     "slide_type": "fragment"
    }
   },
   "source": [
    "$$\\frac{y - \\text{mean of }y}{\\text{SD of }y} = r \\cdot \\frac{x - \\text{mean of } x}{\\text{SD of }x}$$"
   ]
  },
  {
   "cell_type": "markdown",
   "metadata": {
    "slideshow": {
     "slide_type": "fragment"
    }
   },
   "source": [
    "- Note that $\\text{mean of } x$, $\\text{mean of } y$, $\\text{SD of } x$, and $\\text{SD of } y$ are constants.\n",
    "- Re-arranging the above equation into the form $y = mx + b$ yields the formulas"
   ]
  },
  {
   "cell_type": "markdown",
   "metadata": {
    "slideshow": {
     "slide_type": "fragment"
    }
   },
   "source": [
    "$$m = r \\cdot \\frac{\\text{SD of } y}{\\text{SD of }x}, \\: \\: b = \\text{mean of } y - m \\cdot \\text{mean of } x$$"
   ]
  },
  {
   "cell_type": "markdown",
   "metadata": {
    "slideshow": {
     "slide_type": "fragment"
    }
   },
   "source": [
    "- $m$ is the slope of the regression line and $b$ is the intercept."
   ]
  },
  {
   "cell_type": "markdown",
   "metadata": {
    "slideshow": {
     "slide_type": "slide"
    }
   },
   "source": [
    "Let's implement these formulas in code and try them out."
   ]
  },
  {
   "cell_type": "code",
   "execution_count": null,
   "metadata": {
    "slideshow": {
     "slide_type": "-"
    }
   },
   "outputs": [],
   "source": [
    "def correlation(df, x, y):\n",
    "    '''Computes the correlation between column x and column y of df.'''\n",
    "    return (standard_units(df.get(x)) * standard_units(df.get(y))).mean()\n",
    "\n",
    "def slope(df, x, y):\n",
    "    '''Returns the slope of the regression line between columns x and y in df (in original units).'''\n",
    "    r = correlation(df, x, y)\n",
    "    return r * np.std(df.get(y)) / np.std(df.get(x))\n",
    "\n",
    "def intercept(df, x, y):\n",
    "    '''Returns the intercept of the regression line between columns x and y in df (in original units).'''\n",
    "    return df.get(y).mean() - slope(df, x, y) * df.get(x).mean()"
   ]
  },
  {
   "cell_type": "markdown",
   "metadata": {
    "slideshow": {
     "slide_type": "slide"
    }
   },
   "source": [
    "### Example: heights"
   ]
  },
  {
   "cell_type": "code",
   "execution_count": null,
   "metadata": {},
   "outputs": [],
   "source": [
    "galton = bpd.read_csv('data/galton.csv')\n",
    "galton"
   ]
  },
  {
   "cell_type": "code",
   "execution_count": null,
   "metadata": {},
   "outputs": [],
   "source": [
    "m_heights = slope(galton, 'midparentHeight', 'childHeight')\n",
    "m_heights"
   ]
  },
  {
   "cell_type": "code",
   "execution_count": null,
   "metadata": {},
   "outputs": [],
   "source": [
    "b_heights = intercept(galton, 'midparentHeight', 'childHeight')\n",
    "b_heights"
   ]
  },
  {
   "cell_type": "markdown",
   "metadata": {
    "slideshow": {
     "slide_type": "slide"
    }
   },
   "source": [
    "### Making predictions"
   ]
  },
  {
   "cell_type": "code",
   "execution_count": null,
   "metadata": {
    "slideshow": {
     "slide_type": "-"
    }
   },
   "outputs": [],
   "source": [
    "def predict_child_height(midparent):\n",
    "    return m_heights * midparent + b_heights"
   ]
  },
  {
   "cell_type": "markdown",
   "metadata": {},
   "source": [
    "What's the predicted height of a child whose midparent height is 62 inches?"
   ]
  },
  {
   "cell_type": "code",
   "execution_count": null,
   "metadata": {},
   "outputs": [],
   "source": [
    "predict_child_height(62)"
   ]
  },
  {
   "cell_type": "markdown",
   "metadata": {},
   "source": [
    "What about for a child whose midparent height is 55 inches? 73 inches?"
   ]
  },
  {
   "cell_type": "code",
   "execution_count": null,
   "metadata": {},
   "outputs": [],
   "source": [
    "predict_child_height(55)"
   ]
  },
  {
   "cell_type": "code",
   "execution_count": null,
   "metadata": {},
   "outputs": [],
   "source": [
    "predict_child_height(73)"
   ]
  },
  {
   "cell_type": "markdown",
   "metadata": {
    "slideshow": {
     "slide_type": "slide"
    }
   },
   "source": [
    "## Outliers"
   ]
  },
  {
   "cell_type": "markdown",
   "metadata": {
    "slideshow": {
     "slide_type": "slide"
    }
   },
   "source": [
    "### The effect of outliers on correlation\n",
    "\n",
    "Consider the dataset below. What is the correlation between $x$ and $y$?"
   ]
  },
  {
   "cell_type": "code",
   "execution_count": null,
   "metadata": {},
   "outputs": [],
   "source": [
    "outlier = bpd.read_csv('data/outlier.csv')\n",
    "outlier.plot(kind='scatter', x='x', y='y', s=100, figsize=(10, 5));"
   ]
  },
  {
   "cell_type": "code",
   "execution_count": null,
   "metadata": {
    "slideshow": {
     "slide_type": "slide"
    }
   },
   "outputs": [],
   "source": [
    "correlation(outlier, 'x', 'y')"
   ]
  },
  {
   "cell_type": "code",
   "execution_count": null,
   "metadata": {},
   "outputs": [],
   "source": [
    "plot_regression_line(outlier, 'x', 'y')"
   ]
  },
  {
   "cell_type": "markdown",
   "metadata": {
    "slideshow": {
     "slide_type": "slide"
    }
   },
   "source": [
    "### Removing the outlier"
   ]
  },
  {
   "cell_type": "code",
   "execution_count": null,
   "metadata": {},
   "outputs": [],
   "source": [
    "without_outlier = outlier[outlier.get('y') > 40]"
   ]
  },
  {
   "cell_type": "code",
   "execution_count": null,
   "metadata": {
    "slideshow": {
     "slide_type": "-"
    }
   },
   "outputs": [],
   "source": [
    "correlation(without_outlier, 'x', 'y')"
   ]
  },
  {
   "cell_type": "code",
   "execution_count": null,
   "metadata": {},
   "outputs": [],
   "source": [
    "plot_regression_line(without_outlier, 'x', 'y')"
   ]
  },
  {
   "cell_type": "markdown",
   "metadata": {
    "slideshow": {
     "slide_type": "fragment"
    }
   },
   "source": [
    "**Takeaway:** Even a single outlier can have a massive impact on the correlation, and hence the regression line. Look for these before performing regression."
   ]
  },
  {
   "cell_type": "markdown",
   "metadata": {
    "slideshow": {
     "slide_type": "slide"
    }
   },
   "source": [
    "## Errors in prediction"
   ]
  },
  {
   "cell_type": "markdown",
   "metadata": {
    "slideshow": {
     "slide_type": "slide"
    }
   },
   "source": [
    "### Errors in prediction\n",
    "\n",
    "- We stated that the regression line in standard units is $y_{\\text{su}} = r \\cdot x_{\\text{su}}$, and used that to find a formula for the regression line in original units.\n",
    "- The regression lines we've seen so far seem like they fit our data well, but how well? What makes them good?"
   ]
  },
  {
   "cell_type": "markdown",
   "metadata": {
    "slideshow": {
     "slide_type": "slide"
    }
   },
   "source": [
    "### Without the outlier"
   ]
  },
  {
   "cell_type": "code",
   "execution_count": null,
   "metadata": {},
   "outputs": [],
   "source": [
    "m_no_outlier = slope(without_outlier, 'x', 'y')\n",
    "b_no_outlier = intercept(without_outlier, 'x', 'y')\n",
    "\n",
    "m_no_outlier, b_no_outlier"
   ]
  },
  {
   "cell_type": "code",
   "execution_count": null,
   "metadata": {},
   "outputs": [],
   "source": [
    "plot_errors(without_outlier, m_no_outlier, b_no_outlier)"
   ]
  },
  {
   "cell_type": "markdown",
   "metadata": {
    "slideshow": {
     "slide_type": "slide"
    }
   },
   "source": [
    "### Measuring the error in prediction\n",
    "\n",
    "$$\\text{error} = \\text{actual value} - \\text{prediction}$$\n",
    "\n",
    "- Typically, some errors are positive and some negative.\n",
    "    - What does a positive error mean? What about a negative error?"
   ]
  },
  {
   "cell_type": "markdown",
   "metadata": {
    "slideshow": {
     "slide_type": "fragment"
    }
   },
   "source": [
    "- To measure the rough size of the errors:\n",
    "    1. Square the errors so that they don't cancel each other out.\n",
    "    2. Take the mean of the squared errors.\n",
    "    3. Take the square root to fix the units.\n",
    "    \n",
    "- This is called **root mean square error** (RMSE)."
   ]
  },
  {
   "cell_type": "markdown",
   "metadata": {
    "slideshow": {
     "slide_type": "slide"
    }
   },
   "source": [
    "### Root mean squared error (RMSE)"
   ]
  },
  {
   "cell_type": "code",
   "execution_count": null,
   "metadata": {
    "scrolled": true
   },
   "outputs": [],
   "source": [
    "predictions = without_outlier.assign(pred=m_no_outlier * without_outlier.get('x') + b_no_outlier)\n",
    "predictions = predictions.assign(diffs=predictions.get('y') - predictions.get('pred'))\n",
    "predictions = predictions.assign(sq_diffs=predictions.get('diffs') ** 2)\n",
    "predictions"
   ]
  },
  {
   "cell_type": "code",
   "execution_count": null,
   "metadata": {},
   "outputs": [],
   "source": [
    "np.sqrt(predictions.get('sq_diffs').mean())"
   ]
  },
  {
   "cell_type": "markdown",
   "metadata": {
    "slideshow": {
     "slide_type": "slide"
    }
   },
   "source": [
    "### Root mean squared error (RMSE)"
   ]
  },
  {
   "cell_type": "code",
   "execution_count": null,
   "metadata": {},
   "outputs": [],
   "source": [
    "def rmse(true, pred):\n",
    "    '''Calculates the RMSE for two sequences:\n",
    "    true: the true values of the predicted attribute (i.e. y)\n",
    "    pred: the predicted values\n",
    "    '''\n",
    "    return np.sqrt(((true - pred) ** 2).mean())"
   ]
  },
  {
   "cell_type": "code",
   "execution_count": null,
   "metadata": {},
   "outputs": [],
   "source": [
    "rmse(predictions.get('y'), m_no_outlier * predictions.get('x') + b_no_outlier)"
   ]
  },
  {
   "cell_type": "markdown",
   "metadata": {
    "slideshow": {
     "slide_type": "slide"
    }
   },
   "source": [
    "### How good are the predictions made by a given line?\n",
    "\n",
    "- We're using the regression line to make predictions. But could we use a different line?\n",
    "- How do we compare different lines used for prediction?\n",
    "    - Low RMSE = better fit to the data.\n",
    "- The best line is the one with the lowest RMSE.\n",
    "- Let's try to find this best line."
   ]
  },
  {
   "cell_type": "code",
   "execution_count": null,
   "metadata": {
    "slideshow": {
     "slide_type": "slide"
    }
   },
   "outputs": [],
   "source": [
    "out = widgets.Output(layout=widgets.Layout(height='400px', width='800px'))\n",
    "slope_widget = widgets.FloatSlider(min=m_no_outlier-5, max=m_no_outlier+5, step=0.2, value=m_no_outlier)\n",
    "update_plot([])\n",
    "slope_widget.observe(update_plot)\n",
    "display(slope_widget, out)"
   ]
  },
  {
   "cell_type": "markdown",
   "metadata": {
    "slideshow": {
     "slide_type": "slide"
    }
   },
   "source": [
    "### Finding the best line\n",
    "\n",
    "Here's one approach:\n",
    "\n",
    "1. Look at a large number of possible lines (i.e. pairs of slopes/intercepts).\n",
    "2. Calculate the RMSE of each line.\n",
    "3. Take the slope/intercept pair with the smallest RMSE."
   ]
  },
  {
   "cell_type": "markdown",
   "metadata": {
    "slideshow": {
     "slide_type": "slide"
    }
   },
   "source": [
    "This may take a while to run!"
   ]
  },
  {
   "cell_type": "code",
   "execution_count": null,
   "metadata": {
    "slideshow": {
     "slide_type": "-"
    }
   },
   "outputs": [],
   "source": [
    "errors = np.array([])\n",
    "slopes = np.array([])\n",
    "intercepts = np.array([])\n",
    "\n",
    "# For many different slopes:\n",
    "for m in np.arange(-1, 1, 0.01):\n",
    "    # For many different intercepts:\n",
    "    for b in np.arange(-50, 50, 0.5):\n",
    "        # Compute the RMSE of a line with a given slope and intercept\n",
    "        pred = m * without_outlier.get('x') + b\n",
    "        error = rmse(pred, without_outlier.get('y'))\n",
    "\n",
    "        # Store that RMSE in an array\n",
    "        errors = np.append(errors, error)\n",
    "        slopes = np.append(slopes, m)\n",
    "        intercepts = np.append(intercepts, b)"
   ]
  },
  {
   "cell_type": "markdown",
   "metadata": {
    "slideshow": {
     "slide_type": "-"
    }
   },
   "source": [
    "What's the lowest RMSE we saw?"
   ]
  },
  {
   "cell_type": "code",
   "execution_count": null,
   "metadata": {},
   "outputs": [],
   "source": [
    "errors.min()"
   ]
  },
  {
   "cell_type": "markdown",
   "metadata": {
    "slideshow": {
     "slide_type": "-"
    }
   },
   "source": [
    "Which slope/intercept pair had the lowest RMSE?"
   ]
  },
  {
   "cell_type": "code",
   "execution_count": null,
   "metadata": {},
   "outputs": [],
   "source": [
    "# Find the slope corresponding to the smallest error. Don't worry about the code.\n",
    "m_smallest_rmse = slopes[errors.argmin()]\n",
    "m_smallest_rmse"
   ]
  },
  {
   "cell_type": "code",
   "execution_count": null,
   "metadata": {},
   "outputs": [],
   "source": [
    "# Find the intercept corresponding to the smallest error. Don't worry about the code.\n",
    "b_smallest_rmse = intercepts[errors.argmin()]\n",
    "b_smallest_rmse"
   ]
  },
  {
   "cell_type": "markdown",
   "metadata": {
    "slideshow": {
     "slide_type": "slide"
    }
   },
   "source": [
    "### Coincidence?"
   ]
  },
  {
   "cell_type": "code",
   "execution_count": null,
   "metadata": {},
   "outputs": [],
   "source": [
    "# The slope and intercept with the smallest RMSE\n",
    "m_smallest_rmse, b_smallest_rmse"
   ]
  },
  {
   "cell_type": "code",
   "execution_count": null,
   "metadata": {},
   "outputs": [],
   "source": [
    "# The slope and intercept according to our regression line formulas\n",
    "slope(without_outlier, 'x', 'y'), intercept(without_outlier, 'x', 'y')"
   ]
  },
  {
   "cell_type": "markdown",
   "metadata": {},
   "source": [
    "The slopes and intercepts we got using both approaches look pretty similar... 👀"
   ]
  },
  {
   "cell_type": "markdown",
   "metadata": {
    "slideshow": {
     "slide_type": "slide"
    }
   },
   "source": [
    "### The regression line\n",
    "\n",
    "- It turns out that the regression line we defined before before minimizes the root mean squared error (RMSE) among all lines.\n",
    "\n",
    "$$m = r \\cdot \\frac{\\text{SD of } y}{\\text{SD of }x}$$\n",
    "\n",
    "$$b = \\text{mean of } y - m \\cdot \\text{mean of } x$$\n",
    "  \n",
    "- It is the **best** line, regardless of what our data looks like!\n",
    "- All equivalent names:\n",
    "    - Line of “best fit”.\n",
    "    - Least squares line.\n",
    "    - Regression line.\n",
    "- The technique of finding the slope and intercept that have the lowest RMSE is called the **method of least squares**."
   ]
  },
  {
   "cell_type": "markdown",
   "metadata": {
    "slideshow": {
     "slide_type": "slide"
    }
   },
   "source": [
    "### Quality of fit\n",
    "\n",
    "- The regression line describes the \"best linear fit\" for a given dataset.\n",
    "- The formulas for the slope and intercept work no matter what the shape of the data is.\n",
    "- But the line is only meaningful if the relationship between $x$ and $y$ is roughly linear."
   ]
  },
  {
   "cell_type": "markdown",
   "metadata": {
    "slideshow": {
     "slide_type": "slide"
    }
   },
   "source": [
    "### Example: non-linear data\n",
    "\n",
    "What's the regression line for this dataset?"
   ]
  },
  {
   "cell_type": "code",
   "execution_count": null,
   "metadata": {},
   "outputs": [],
   "source": [
    "np.random.seed(23)\n",
    "x2 = bpd.DataFrame().assign(\n",
    "    x=np.arange(-6, 6.1, 0.5) + np.random.normal(size=25), \n",
    "    y=np.arange(-6, 6.1, 0.5)**2 + np.random.normal(size=25)\n",
    ")\n",
    "x2.plot(kind='scatter', x='x', y='y', s=100, figsize=(10, 5));"
   ]
  },
  {
   "cell_type": "code",
   "execution_count": null,
   "metadata": {},
   "outputs": [],
   "source": [
    "plot_regression_line(x2, 'x', 'y')"
   ]
  },
  {
   "cell_type": "markdown",
   "metadata": {},
   "source": [
    "Would it be a good idea to use this line to predict a $y$ given an $x$?"
   ]
  },
  {
   "cell_type": "markdown",
   "metadata": {
    "slideshow": {
     "slide_type": "slide"
    }
   },
   "source": [
    "## Summary"
   ]
  },
  {
   "cell_type": "markdown",
   "metadata": {
    "slideshow": {
     "slide_type": "slide"
    }
   },
   "source": [
    "### Summary, next time\n",
    "\n",
    "- The regression line in original units is\n",
    "\n",
    "$$m = r \\cdot \\frac{\\text{SD of } y}{\\text{SD of }x}$$\n",
    "\n",
    "$$b = \\text{mean of } y - m \\cdot \\text{mean of } x$$\n",
    "- This line is very sensitive to outliers.\n",
    "- This line has the lowest root mean squared error (RMSE) of all possible lines.\n",
    "    - It is the \"line of best fit\".\n",
    "- **Next time:** Review."
   ]
  }
 ],
 "metadata": {
  "celltoolbar": "Slideshow",
  "kernelspec": {
   "display_name": "Python 3 (ipykernel)",
   "language": "python",
   "name": "python3"
  },
  "language_info": {
   "codemirror_mode": {
    "name": "ipython",
    "version": 3
   },
   "file_extension": ".py",
   "mimetype": "text/x-python",
   "name": "python",
   "nbconvert_exporter": "python",
   "pygments_lexer": "ipython3",
   "version": "3.9.7"
  },
  "livereveal": {
   "scroll": true,
   "transition": "none"
  }
 },
 "nbformat": 4,
 "nbformat_minor": 2
}
