{
 "cells": [
  {
   "cell_type": "code",
   "execution_count": null,
   "metadata": {
    "slideshow": {
     "slide_type": "skip"
    }
   },
   "outputs": [],
   "source": [
    "# If you're following along, run this cell.\n",
    "import babypandas as bpd\n",
    "import numpy as np\n",
    "\n",
    "import matplotlib.pyplot as plt\n",
    "plt.style.use('fivethirtyeight')\n",
    "\n",
    "from IPython.display import display, IFrame\n",
    "\n",
    "def binning_animation():\n",
    "    src=\"https://docs.google.com/presentation/d/e/2PACX-1vTnRGwEnKP2V-Z82DlxW1b1nMb2F0zWyrXIzFSpQx_8Wd3MFaf56y2_u3JrLwZ5SjWmfapL5BJLfsDG/embed?start=false&loop=false&delayms=60000\"\n",
    "    width=900\n",
    "    height=307\n",
    "    display(IFrame(src, width, height))"
   ]
  },
  {
   "cell_type": "markdown",
   "metadata": {
    "slideshow": {
     "slide_type": "slide"
    }
   },
   "source": [
    "# Lecture 8 – Histograms and Overlaid Plots\n",
    "\n",
    "## DSC 10, Winter 2022"
   ]
  },
  {
   "cell_type": "markdown",
   "metadata": {
    "slideshow": {
     "slide_type": "slide"
    }
   },
   "source": [
    "### Announcements\n",
    "\n",
    "- Homework 2 is due on **Saturday 1/22 at 11:59pm**.\n",
    "- Lab 3 is due on **Tuesday, 1/25 at 11:59pm**.\n",
    "- Supplemental videos 🎥 to be aware of:\n",
    "    - [Lecture 7 supplement](https://www.youtube.com/watch?v=OVTroiHby3g) (more examples of bar charts).\n",
    "    - [Lecture 6 supplement](https://www.youtube.com/watch?v=xg7rnjWnZ48).\n",
    "    - [Discussion 2 video](https://www.youtube.com/watch?v=Q3mww8m3iIQ).\n",
    "    - All are linked on the course homepage."
   ]
  },
  {
   "cell_type": "markdown",
   "metadata": {
    "slideshow": {
     "slide_type": "slide"
    }
   },
   "source": [
    "### Agenda\n",
    "\n",
    "- Motivating histograms.\n",
    "- Density histograms.\n",
    "- Overlaid plots."
   ]
  },
  {
   "cell_type": "markdown",
   "metadata": {
    "slideshow": {
     "slide_type": "slide"
    }
   },
   "source": [
    "### Review: types of visualizations\n",
    "\n",
    "The type of visualization we create depends on the kinds of variables we're visualizing.\n",
    "\n",
    "- **Scatter plot**: numerical vs. numerical.\n",
    "    - Example: weight vs. height.\n",
    "- **Line plot**: sequential numerical (time) vs. numerical.\n",
    "    - Example: height vs. time.\n",
    "- **Bar chart**: categorical vs. numerical.\n",
    "    - Example: heights of all family members.\n",
    "- **Histogram**: distribution of numerical.\n",
    "    \n",
    "**Note:** We may interchange the words \"plot\", \"chart\", and \"graph\"; they all mean the same thing."
   ]
  },
  {
   "cell_type": "markdown",
   "metadata": {
    "slideshow": {
     "slide_type": "slide"
    }
   },
   "source": [
    "## Motivating histograms"
   ]
  },
  {
   "cell_type": "markdown",
   "metadata": {
    "slideshow": {
     "slide_type": "slide"
    }
   },
   "source": [
    "Below, we load in a dataset of the Top 200 songs on the Spotify Charts as of Wednesday, January 19th."
   ]
  },
  {
   "cell_type": "code",
   "execution_count": null,
   "metadata": {
    "slideshow": {
     "slide_type": "-"
    }
   },
   "outputs": [],
   "source": [
    "charts = bpd.read_csv('data/spotify-wednesday-jan-19.csv').set_index('Position')\n",
    "charts"
   ]
  },
  {
   "cell_type": "code",
   "execution_count": null,
   "metadata": {
    "slideshow": {
     "slide_type": "slide"
    }
   },
   "outputs": [],
   "source": [
    "charts.take(np.arange(15)) \\\n",
    "      .sort_values('Streams') \\\n",
    "      .plot(kind='barh', x='Track Name', y='Streams', title='Number of Streams for Top 15 Songs', color='red');"
   ]
  },
  {
   "cell_type": "markdown",
   "metadata": {},
   "source": [
    "Note the optional `title` and `color` arguments."
   ]
  },
  {
   "cell_type": "markdown",
   "metadata": {
    "slideshow": {
     "slide_type": "slide"
    }
   },
   "source": [
    "### How do we visualize the distribution of the number of streams?"
   ]
  },
  {
   "cell_type": "markdown",
   "metadata": {
    "slideshow": {
     "slide_type": "fragment"
    }
   },
   "source": [
    "- **Question:** Can we use a bar chart? 🧐"
   ]
  },
  {
   "cell_type": "markdown",
   "metadata": {
    "slideshow": {
     "slide_type": "fragment"
    }
   },
   "source": [
    "- **Answer:** No! 🙅‍♀️\n",
    "    - Bar charts visualize the relationship between a categorical variable (e.g. song name) and numerical variable (e.g. streams).\n",
    "    - In all of the bar charts we created, we had to pick a category for our labels.\n",
    "        - With a bar chart, we can visualize the number of streams **per song**. \n",
    "    - If we're looking at just the number of streams, and ignoring all other columns, there's no \"category\"."
   ]
  },
  {
   "cell_type": "markdown",
   "metadata": {
    "slideshow": {
     "slide_type": "slide"
    }
   },
   "source": [
    "### New idea: binning\n",
    "\n",
    "- Binning is the act of counting the number of numerical values that fall within ranges, called “bins”.\n",
    "- A bin is defined by a left endpoint (lower bound) and right endpoint (upper bound).\n",
    "- A value falls in a bin if it is greater than or equal to the left endpoint and less than the right endpoint.\n",
    "    - [a, b): a is included, b is not.\n",
    "- The width of a bin is its right endpoint minus its left endpoint.\n"
   ]
  },
  {
   "cell_type": "code",
   "execution_count": null,
   "metadata": {
    "scrolled": true,
    "slideshow": {
     "slide_type": "-"
    }
   },
   "outputs": [],
   "source": [
    "binning_animation()"
   ]
  },
  {
   "cell_type": "markdown",
   "metadata": {
    "slideshow": {
     "slide_type": "slide"
    }
   },
   "source": [
    "### Distribution of streams\n",
    "\n",
    "- $x$-axis: streams (numerical).\n",
    "- $y$-axis: a bar whose height encodes the number of songs that had about that many streams."
   ]
  },
  {
   "cell_type": "code",
   "execution_count": null,
   "metadata": {},
   "outputs": [],
   "source": [
    "charts.plot(kind='hist', y='Streams');"
   ]
  },
  {
   "cell_type": "markdown",
   "metadata": {
    "slideshow": {
     "slide_type": "fragment"
    }
   },
   "source": [
    "- 👀 It seems like the vast majority of songs on the charts have under 2 million streams, but some songs have as many as 4 million streams.\n",
    "    - The `1e6` in the bottom right means \"multiply this axis by a million\", since $10^{6} = 1{,}000{,}000$."
   ]
  },
  {
   "cell_type": "markdown",
   "metadata": {
    "slideshow": {
     "slide_type": "slide"
    }
   },
   "source": [
    "### Plotting histograms\n",
    "\n",
    "- **Histograms** (not bar charts!) visualize the distribution of a single numerical variable by placing numbers into bins.\n",
    "- To create one from a DataFrame `df`, use\n",
    "```py\n",
    "df.plot(\n",
    "    kind='hist', \n",
    "    y=column_name\n",
    ")\n",
    "```\n",
    "- ⚠️ By default, the height of a bar is the *number* of values in the corresponding *bin*.\n",
    "- Optional: specify the number of bins with `bins=`. Use `ec='w'` to see where bins start and end more clearly."
   ]
  },
  {
   "cell_type": "code",
   "execution_count": null,
   "metadata": {},
   "outputs": [],
   "source": [
    "charts.plot(kind='hist', y='Streams', bins=20, ec='w');"
   ]
  },
  {
   "cell_type": "markdown",
   "metadata": {
    "slideshow": {
     "slide_type": "slide"
    }
   },
   "source": [
    "### Example: Number of songs per artist"
   ]
  },
  {
   "cell_type": "code",
   "execution_count": null,
   "metadata": {},
   "outputs": [],
   "source": [
    "songs_per_artist = charts.groupby('Artist').count().get(['Streams'])\n",
    "songs_per_artist = songs_per_artist.assign(Count=songs_per_artist.get('Streams')).drop(columns=['Streams'])\n",
    "songs_per_artist.plot(kind='hist', y='Count', ec='w');"
   ]
  },
  {
   "cell_type": "markdown",
   "metadata": {
    "slideshow": {
     "slide_type": "fragment"
    }
   },
   "source": [
    "- Note: No more \"1e6\" in the bottom right!\n",
    "     - We're now plotting number of songs, not number of streams."
   ]
  },
  {
   "cell_type": "markdown",
   "metadata": {
    "slideshow": {
     "slide_type": "slide"
    }
   },
   "source": [
    "### Custom bins\n",
    "\n",
    "- We can specify our own bins with an array or list.\n",
    "    - It's good to do this, so that we know where the bins start and end.\n",
    "- `bins=np.arange(1, 9)` creates the bins [1, 2), [2, 3), [3, 4), [4, 5), [5, 6), [6, 7), and [7, 8].\n",
    "    - **Important**: in a histogram, only the last bin is inclusive of the right endpoint!\n",
    "- **Warning**: Data points not in any bin will not be included in the histogram."
   ]
  },
  {
   "cell_type": "code",
   "execution_count": null,
   "metadata": {
    "slideshow": {
     "slide_type": "-"
    }
   },
   "outputs": [],
   "source": [
    "song_bins = np.arange(1, 9)\n",
    "songs_per_artist.plot(kind='hist', y='Count', ec='w', bins=song_bins);"
   ]
  },
  {
   "cell_type": "markdown",
   "metadata": {
    "slideshow": {
     "slide_type": "fragment"
    }
   },
   "source": [
    "- 👀 The vast majority of artists had only 1 or 2 songs on the charts, but someone had as many as 7.\n",
    "- We'd say this distribution is **right-skewed** or **right-tailed**."
   ]
  },
  {
   "cell_type": "markdown",
   "metadata": {
    "slideshow": {
     "slide_type": "slide"
    }
   },
   "source": [
    "### Bin widths don't have to be uniform!\n",
    "\n",
    "- When we set `bins=np.arange(1, 9)`, each bin has the same width (1).\n",
    "- But we could make bins of varying widths.\n",
    "- `bins=[1, 2, 3, 4, 6, 8]` creates the bins [1, 2), [2, 3), [3, 4), [4, 6), and [6, 8]."
   ]
  },
  {
   "cell_type": "code",
   "execution_count": null,
   "metadata": {
    "slideshow": {
     "slide_type": "-"
    }
   },
   "outputs": [],
   "source": [
    "weird_bins = [1, 2, 3, 4, 6, 8]\n",
    "songs_per_artist.plot(kind='hist', y='Count', ec='w', bins=weird_bins);"
   ]
  },
  {
   "cell_type": "markdown",
   "metadata": {
    "slideshow": {
     "slide_type": "slide"
    }
   },
   "source": [
    "### Discussion Question\n",
    "\n",
    "Intuitively, what should happen to our histogram if we combine the two bins [1, 2) and [2, 3) into one large bin [1, 3)?\n",
    "\n",
    "A. The height of the bar for bin [1, 3) should be the sum of the heights of the bars for bins [1, 2) and [2, 3).\n",
    "\n",
    "B. The height of the bar for bin [1, 3) should be the average of the heights of the bars for bins [1, 2) and [2, 3).\n",
    "\n",
    "C. The area of the bar for bin [1, 3) should be the sum of the areas of the bars for bins [1, 2) and [2, 3).\n",
    "\n",
    "D. More than one of the above.\n",
    "\n",
    "\n",
    "### To answer, go to **[menti.com](https://menti.com)** and enter the code **6723 8967**."
   ]
  },
  {
   "cell_type": "code",
   "execution_count": null,
   "metadata": {
    "slideshow": {
     "slide_type": "slide"
    }
   },
   "outputs": [],
   "source": [
    "weirder_bins = [1, 3, 4, 6, 8]\n",
    "songs_per_artist.plot(kind='hist', y='Count', ec='w', bins=weirder_bins);"
   ]
  },
  {
   "cell_type": "markdown",
   "metadata": {
    "slideshow": {
     "slide_type": "fragment"
    }
   },
   "source": [
    "### There's a problem... 🤔\n",
    "\n",
    "- We know that there are ~90 artists with 1 song and ~20 artists with 2 songs.\n",
    "- But with these new bins, it looks like there are ~110 artists with 1 song and ~110 artists with 2 songs.\n",
    "- **Takeaway:** Using bins with different widths is **misleading** if the $y$-axis is frequency (which is the default)."
   ]
  },
  {
   "cell_type": "markdown",
   "metadata": {
    "slideshow": {
     "slide_type": "slide"
    }
   },
   "source": [
    "## Density histograms"
   ]
  },
  {
   "cell_type": "markdown",
   "metadata": {
    "slideshow": {
     "slide_type": "slide"
    }
   },
   "source": [
    "### Solution: normalize bars by their width\n",
    "\n",
    "- Use the `density=True` keyword argument to make a **density histogram**.\n",
    "    - **Important:** We will **always** do this moving forward."
   ]
  },
  {
   "cell_type": "code",
   "execution_count": null,
   "metadata": {
    "scrolled": true
   },
   "outputs": [],
   "source": [
    "songs_per_artist.plot(kind='hist', y='Count', ec='w', bins=weirder_bins, density=True);"
   ]
  },
  {
   "cell_type": "markdown",
   "metadata": {
    "slideshow": {
     "slide_type": "fragment"
    }
   },
   "source": [
    "What do you notice about this new histogram?"
   ]
  },
  {
   "cell_type": "markdown",
   "metadata": {
    "slideshow": {
     "slide_type": "fragment"
    }
   },
   "source": [
    "- The y-axis is now in decimals."
   ]
  },
  {
   "cell_type": "markdown",
   "metadata": {
    "slideshow": {
     "slide_type": "fragment"
    }
   },
   "source": [
    "- The relative heights of the bins are now different."
   ]
  },
  {
   "cell_type": "markdown",
   "metadata": {
    "slideshow": {
     "slide_type": "slide"
    }
   },
   "source": [
    "### Areas are proportions!\n",
    "\n",
    "- The **area** of a bar in a density histogram is equal to the proportion (percentage) of all data points that fall into that bin.\n",
    "- **The total area of a density histogram is always 1 (100%)**.\n",
    "- Proportions and percentages represent the same thing.\n",
    "    - A proportion is a decimal between 0 and 1, a percentage is between 0\\% and 100\\%.\n",
    "    - 0.34 means 34\\%."
   ]
  },
  {
   "cell_type": "code",
   "execution_count": null,
   "metadata": {},
   "outputs": [],
   "source": [
    "songs_per_artist.plot(kind='hist', y='Count', ec='w', bins=weirder_bins, density=True);"
   ]
  },
  {
   "cell_type": "markdown",
   "metadata": {
    "slideshow": {
     "slide_type": "slide"
    }
   },
   "source": [
    "### How to calculate heights in a density histogram\n",
    "\n",
    "$$\\text{Area} = \\text{Height} \\times \\text{Width}$$\n",
    "\n",
    "That means\n",
    "\n",
    "$$\\text{Height} = \\frac{\\text{Area}}{\\text{Width}} = \\frac{\\text{Proportion (or Percentage)}}{\\text{Width}}$$\n",
    "\n",
    "- Note that this means the units for height are \"proportion per ($x$-axis unit)\"."
   ]
  },
  {
   "cell_type": "markdown",
   "metadata": {
    "slideshow": {
     "slide_type": "slide"
    }
   },
   "source": [
    "### Example calculation"
   ]
  },
  {
   "cell_type": "code",
   "execution_count": null,
   "metadata": {
    "scrolled": false
   },
   "outputs": [],
   "source": [
    "songs_per_artist.plot(kind='hist', y='Count', ec='w', bins=weirder_bins, density=True);"
   ]
  },
  {
   "cell_type": "markdown",
   "metadata": {
    "slideshow": {
     "slide_type": "fragment"
    }
   },
   "source": [
    "- The $y$-axis units here are \"proportion per song\", since the $x$-axis represents number of songs.\n",
    "    - Unfortunately, the $y$-axis units on the histogram still display as \"Frequency\". **This is wrong!**\n",
    "- Based on this histogram, what proportion of artists had either 1 or 2 songs in the top 200?"
   ]
  },
  {
   "cell_type": "markdown",
   "metadata": {
    "slideshow": {
     "slide_type": "slide"
    }
   },
   "source": [
    "### Example calculation\n",
    "\n",
    "- The height of the [1, 3) bar is roughly 0.43.\n",
    "    - Interpretation: 0.43 per song, or 43% per song.\n",
    "- The width of the bin is 3 - 1 = 2 songs.\n",
    "\n",
    "- Hence,\n",
    "\n",
    "$$\\text{Area} = \\text{Height} \\times \\text{Width} = 0.43 \\times 2 = 0.86$$\n",
    "\n",
    "- Since areas = proportions, this means that the proportion of artists with 1 or 2 songs on the charts was roughly 0.86 (86\\%)."
   ]
  },
  {
   "cell_type": "code",
   "execution_count": null,
   "metadata": {
    "slideshow": {
     "slide_type": "slide"
    }
   },
   "outputs": [],
   "source": [
    "# Proof\n",
    "between_1_3 = songs_per_artist[(songs_per_artist.get('Count') >= 1) & (songs_per_artist.get('Count') < 3)].shape[0]\n",
    "between_1_3"
   ]
  },
  {
   "cell_type": "code",
   "execution_count": null,
   "metadata": {},
   "outputs": [],
   "source": [
    "total = songs_per_artist.shape[0]\n",
    "total"
   ]
  },
  {
   "cell_type": "code",
   "execution_count": null,
   "metadata": {},
   "outputs": [],
   "source": [
    "between_1_3 / total"
   ]
  },
  {
   "cell_type": "markdown",
   "metadata": {
    "slideshow": {
     "slide_type": "fragment"
    }
   },
   "source": [
    "This matches the result we got. (Not exactly, since we made a rough guess for the height.)"
   ]
  },
  {
   "cell_type": "markdown",
   "metadata": {
    "slideshow": {
     "slide_type": "slide"
    }
   },
   "source": [
    "### Important\n",
    "\n",
    "**In this class, \"histogram\" will always mean \"density histogram\".** We will **only** use density histograms moving forward."
   ]
  },
  {
   "cell_type": "markdown",
   "metadata": {
    "slideshow": {
     "slide_type": "slide"
    }
   },
   "source": [
    "### Discussion Question\n",
    "\n",
    "Suppose we created a density histogram of people's shoe sizes. Below are the bins we chose along with their heights.\n",
    "\n",
    "| Bin | Height of Bar |\n",
    "| --- | --- |\n",
    "| [3, 7) | 0.05 |\n",
    "| [7, 10) | 0.1 |\n",
    "| [10, 12) | 0.15 |\n",
    "| [12, 16] | $X$ |\n",
    "\n",
    "\n",
    "What should the value of $X$ be so that this is a valid histogram?\n",
    "\n",
    "A. 0.02\n",
    "\n",
    "B. 0.05\n",
    "\n",
    "C. 0.2\n",
    "\n",
    "D. 0.5\n",
    "\n",
    "E. 0.7\n",
    "\n",
    "### To answer, go to **[menti.com](https://menti.com)** and enter the code **6723 8967**."
   ]
  },
  {
   "cell_type": "markdown",
   "metadata": {
    "slideshow": {
     "slide_type": "slide"
    }
   },
   "source": [
    "### Bar charts vs. histograms\n",
    "\n",
    "Bar Chart | Histogram\n",
    "---|---\n",
    "1 categorical axis,  1 numerical axis | 2 numerical axes\n",
    "Bars have arbitrary, but equal, widths and spacing | Horizontal axis is numerical and to scale\n",
    "Lengths of bars are proportional to the numerical quantity of interest | Height measures density; areas are proportional to the proportion (percent) of individuals"
   ]
  },
  {
   "cell_type": "markdown",
   "metadata": {
    "slideshow": {
     "slide_type": "slide"
    }
   },
   "source": [
    "## Overlaid plots"
   ]
  },
  {
   "cell_type": "markdown",
   "metadata": {
    "slideshow": {
     "slide_type": "slide"
    }
   },
   "source": [
    "### New dataset: populations of San Diego and San Jose over time\n",
    "\n",
    "The data for both cities was downloaded from [macrotrends.net](https://www.macrotrends.net/cities/23129/san-diego/population)."
   ]
  },
  {
   "cell_type": "code",
   "execution_count": null,
   "metadata": {},
   "outputs": [],
   "source": [
    "population = bpd.read_csv('data/sd-sj-2022.csv').set_index('date')\n",
    "population"
   ]
  },
  {
   "cell_type": "markdown",
   "metadata": {
    "slideshow": {
     "slide_type": "slide"
    }
   },
   "source": [
    "### Recall: line plots"
   ]
  },
  {
   "cell_type": "code",
   "execution_count": null,
   "metadata": {},
   "outputs": [],
   "source": [
    "population.plot(kind='line', y='Growth SD');"
   ]
  },
  {
   "cell_type": "code",
   "execution_count": null,
   "metadata": {},
   "outputs": [],
   "source": [
    "population.plot(kind='line', y='Growth SJ');"
   ]
  },
  {
   "cell_type": "markdown",
   "metadata": {
    "slideshow": {
     "slide_type": "slide"
    }
   },
   "source": [
    "### Overlaying plots\n",
    "\n",
    "- If `y=column_name` is omitted, all columns are plotted!"
   ]
  },
  {
   "cell_type": "code",
   "execution_count": null,
   "metadata": {},
   "outputs": [],
   "source": [
    "population.plot(kind='line');"
   ]
  },
  {
   "cell_type": "markdown",
   "metadata": {
    "slideshow": {
     "slide_type": "slide"
    }
   },
   "source": [
    "### Selecting multiple columns at once\n",
    "- To get multiple columns, use `.get([column_1, ..., column_k])`.\n",
    "- Passing a list of column labels to `.get` returns a DataFrame.\n",
    "    - `.get([column_name])` will return a DataFrame with just one column!"
   ]
  },
  {
   "cell_type": "code",
   "execution_count": null,
   "metadata": {},
   "outputs": [],
   "source": [
    "growths = population.get(['Growth SD', 'Growth SJ'])\n",
    "growths"
   ]
  },
  {
   "cell_type": "code",
   "execution_count": null,
   "metadata": {},
   "outputs": [],
   "source": [
    "growths.plot(kind='line');"
   ]
  },
  {
   "cell_type": "markdown",
   "metadata": {
    "slideshow": {
     "slide_type": "slide"
    }
   },
   "source": [
    "### To plot multiple graphs at once:\n",
    "* Drop all extraneous columns from your DataFrame.\n",
    "    * Equivalently, select only the columns that contain information relevant to your plot.\n",
    "* Specify the column for the $x$-axis (if not the index) in `.plot(x=column_name)`.\n",
    "* `plot` will plot **all** other columns on a shared $y$-axis.\n",
    "\n",
    "The same thing works for `barh`, `bar`, and `hist`, but not `scatter`."
   ]
  },
  {
   "cell_type": "markdown",
   "metadata": {
    "slideshow": {
     "slide_type": "slide"
    }
   },
   "source": [
    "## Example: Overlaid histograms"
   ]
  },
  {
   "cell_type": "markdown",
   "metadata": {
    "slideshow": {
     "slide_type": "slide"
    }
   },
   "source": [
    "### New dataset: heights of children and their parents\n",
    "\n",
    "- This data was collected by Francis Galton, a eugenicist and the creator of linear regression.\n",
    "    - We will revisit this dataset later on in the course.\n",
    "- We only need the `'father'`, `'mother'`, and `'childHeight'` columns for now."
   ]
  },
  {
   "cell_type": "code",
   "execution_count": null,
   "metadata": {
    "scrolled": false,
    "slideshow": {
     "slide_type": "-"
    }
   },
   "outputs": [],
   "source": [
    "heights = bpd.read_csv('data/galton.csv')\n",
    "heights"
   ]
  },
  {
   "cell_type": "code",
   "execution_count": null,
   "metadata": {},
   "outputs": [],
   "source": [
    "heights = heights.get(['father', 'mother', 'childHeight'])\n",
    "heights"
   ]
  },
  {
   "cell_type": "markdown",
   "metadata": {
    "slideshow": {
     "slide_type": "slide"
    }
   },
   "source": [
    "### Plotting overlaid histograms\n",
    "\n",
    "- `alpha` controls how transparent the bars are (`alpha=1` is opaque, `alpha=0` is transparent)."
   ]
  },
  {
   "cell_type": "code",
   "execution_count": null,
   "metadata": {
    "scrolled": true
   },
   "outputs": [],
   "source": [
    "heights.plot(kind='hist', density=True, ec='w', alpha=0.65, bins=np.arange(55, 80, 2.5));"
   ]
  },
  {
   "cell_type": "markdown",
   "metadata": {
    "slideshow": {
     "slide_type": "slide"
    }
   },
   "source": [
    "### There's too much going on...\n",
    "\n",
    "It's too hard to read any of the individual histograms here. Let's instead just draw two, one for `'childHeight'` and one for `'mother'`."
   ]
  },
  {
   "cell_type": "code",
   "execution_count": null,
   "metadata": {},
   "outputs": [],
   "source": [
    "heights.get(['mother', 'childHeight']) \\\n",
    "       .plot(kind='hist', density=True, ec='w', alpha=0.65, bins=np.arange(55, 80, 2.5));"
   ]
  },
  {
   "cell_type": "markdown",
   "metadata": {
    "slideshow": {
     "slide_type": "-"
    }
   },
   "source": [
    "### Discussion Questions\n",
    "\n",
    "Try to answer these questions; you don't have to submit your answers to Menti.\n",
    "\n",
    "1. What proportion of children were between 70 and 75 inches tall?\n",
    "\n",
    "2. What proportion of mothers were between 60 and 63 inches tall?"
   ]
  },
  {
   "cell_type": "markdown",
   "metadata": {
    "slideshow": {
     "slide_type": "slide"
    }
   },
   "source": [
    "<h3>Answers</h3>\n",
    "<details>\n",
    "<summary>Click here to show.</summary>\n",
    "    \n",
    "<b>Question 1</b>\n",
    "    \n",
    "The height of the $[70, 72.5)$ bar is around $0.08$, meaning that $0.08 \\cdot 2.5 = 0.2$ of children had heights in that interval. The height of the $[72.5, 75)$ bar is around $0.02$, meaning $0.02 \\cdot 2.5 = 0.05$ of children had heights in that interval. Thus, the overall proportion of children who were between $70$ and $75$ inches tall was around $0.20 + 0.05 = 0.25$, or $25\\%$.\n",
    "    \n",
    "To verify our answer, we can run\n",
    "\n",
    "<code>heights[(heights.get('childHeight') >= 70) & (heights.get('childHeight') < 75)].shape[0] / heights.shape[0]</code>\n",
    "    \n",
    "<b>Question 2</b>\n",
    "    \n",
    "We can't tell. We could try and breaking it up into the proportion of mothers in $[60, 62.5)$ and $[62.5, 63)$, but we don't know the latter. In the absence of any additional information, we can't infer about the distribution of values within a bin. For example, it could be that everyone in the interval $[62.5, 65)$ actually falls in the interval  $[62.5, 63)$ - or it could be that no one does!\n",
    "\n",
    "</details>"
   ]
  },
  {
   "cell_type": "markdown",
   "metadata": {
    "slideshow": {
     "slide_type": "slide"
    }
   },
   "source": [
    "## Summary"
   ]
  },
  {
   "cell_type": "markdown",
   "metadata": {
    "slideshow": {
     "slide_type": "slide"
    }
   },
   "source": [
    "### Summary\n",
    "\n",
    "- Histograms (not bar charts!) are used to display the distribution of a numerical variable.\n",
    "- We will always use density histograms.\n",
    "    - In density histograms, the area of a bar represents the proportion (percentage) of values within its bin.\n",
    "    - The total area of all bars is 1 (100%).\n",
    "- We can overlay multiple line plots, bar charts, and histograms on top of one another to look at multiple relationships or distributions.\n",
    "- **Next time**: More DataFrame manipulation.\n",
    "    - Writing our own functions (Lab 3)."
   ]
  }
 ],
 "metadata": {
  "celltoolbar": "Slideshow",
  "kernelspec": {
   "display_name": "Python 3 (ipykernel)",
   "language": "python",
   "name": "python3"
  },
  "language_info": {
   "codemirror_mode": {
    "name": "ipython",
    "version": 3
   },
   "file_extension": ".py",
   "mimetype": "text/x-python",
   "name": "python",
   "nbconvert_exporter": "python",
   "pygments_lexer": "ipython3",
   "version": "3.9.7"
  },
  "livereveal": {
   "scroll": true
  }
 },
 "nbformat": 4,
 "nbformat_minor": 2
}
