{
 "cells": [
  {
   "cell_type": "code",
   "execution_count": null,
   "metadata": {
    "slideshow": {
     "slide_type": "skip"
    }
   },
   "outputs": [],
   "source": [
    "# Imports\n",
    "import babypandas as bpd\n",
    "import numpy as np\n",
    "\n",
    "import matplotlib.pyplot as plt\n",
    "plt.style.use('fivethirtyeight')\n",
    "\n",
    "# Demonstration code\n",
    "def r_scatter(r):\n",
    "    \"Generate a scatter plot with a correlation approximately r\"\n",
    "    x = np.random.normal(0, 1, 1000)\n",
    "    z = np.random.normal(0, 1, 1000)\n",
    "    y = r * x + (np.sqrt(1 - r ** 2)) * z\n",
    "    plt.scatter(x, y)\n",
    "    plt.xlim(-4, 4)\n",
    "    plt.ylim(-4, 4)\n",
    "    \n",
    "def show_scatter_grid():\n",
    "    plt.subplots(1, 4, figsize=(16, 4))\n",
    "    for i, r in enumerate([-1, -2/3, -1/3, 0]):\n",
    "        plt.subplot(1, 4, i+1)\n",
    "        r_scatter(r)\n",
    "        plt.title(f'r = {np.round(r, 2)}')\n",
    "    plt.show()\n",
    "    plt.subplots(1, 4, figsize=(16, 4))\n",
    "    for i, r in enumerate([1, 2/3, 1/3]):\n",
    "        plt.subplot(1, 4, i+1)\n",
    "        r_scatter(r)\n",
    "        plt.title(f'r = {np.round(r, 2)}')\n",
    "    plt.subplot(1, 4, 4)\n",
    "    plt.axis('off')\n",
    "    plt.show()"
   ]
  },
  {
   "cell_type": "markdown",
   "metadata": {
    "slideshow": {
     "slide_type": "slide"
    }
   },
   "source": [
    "# Lecture 24 – Prediction and Correlation\n",
    "\n",
    "## DSC 10, Winter 2022"
   ]
  },
  {
   "cell_type": "markdown",
   "metadata": {
    "slideshow": {
     "slide_type": "slide"
    }
   },
   "source": [
    "### Announcements\n",
    "\n",
    "- Homework 7 is due **tomorrow at 11:59pm**.\n",
    "- The Final Project is due on **Wednesday 3/9 at 11:59pm** ‼️\n",
    "    - Start if you haven't already!\n",
    "- Lab 8 is due on **Thursday 3/10 at 11:59pm**.\n",
    "- The **Final Exam** is on **Saturday 3/12 from 3-6PM**.\n",
    "    - Same format as the Midterm Exam (remote via Gradescope; mix of MC, short-answer, and code; open internet but no collaboration).\n",
    "    - You will be receiving an email from Suraj this weekend if you asked to take an alternate.\n",
    "    - Refer to the past exams on the [Resources](https://dsc10.com/resources) tab of the course website.\n",
    "    - More logistics to come.\n",
    "- **Important:** lecture today will be Zoom-only, but lectures next week will be back to in-person + Zoom."
   ]
  },
  {
   "cell_type": "markdown",
   "metadata": {
    "slideshow": {
     "slide_type": "slide"
    }
   },
   "source": [
    "### Agenda\n",
    "\n",
    "- High-level overview of statistical inference.\n",
    "- Prediction.\n",
    "- Correlation.\n",
    "- Regression."
   ]
  },
  {
   "cell_type": "markdown",
   "metadata": {
    "slideshow": {
     "slide_type": "slide"
    }
   },
   "source": [
    "## Overview of statistical inference"
   ]
  },
  {
   "cell_type": "markdown",
   "metadata": {
    "slideshow": {
     "slide_type": "slide"
    }
   },
   "source": [
    "> I have collected some data. What can I learn about how my data was generated?"
   ]
  },
  {
   "cell_type": "markdown",
   "metadata": {
    "slideshow": {
     "slide_type": "fragment"
    }
   },
   "source": [
    "At a high level, the second half of this class has been about understanding where data comes from."
   ]
  },
  {
   "cell_type": "markdown",
   "metadata": {
    "slideshow": {
     "slide_type": "slide"
    }
   },
   "source": [
    "### Populations and samples\n",
    "\n",
    "Sometimes, our observed data is in the form of a sample, and we want to use our sample to infer something about the population from which it was drawn. Some example questions:\n",
    "- What is the value of this population parameter, e.g. the population mean?\n",
    "    - **Strategy:** Create a confidence interval for the population parameter, using either the bootstrap or CLT (if it applies).\n",
    "- Is the value of this population parameter equal to $x$?\n",
    "    - **Strategy:** For a p% significance level, compute a (100-p)% confidence interval. Reject the null (that the parameter is equal to $x$) if $x$ is not in the interval."
   ]
  },
  {
   "cell_type": "markdown",
   "metadata": {
    "slideshow": {
     "slide_type": "slide"
    }
   },
   "source": [
    "### Models\n",
    "\n",
    "Other times, we want to test the validity of a **model**, which is a set of assumptions about how data were generated.\n",
    "Some example questions:\n",
    "\n",
    "- Is the data in this sample consistent with what was expected?\n",
    "    - **Strategy:** Perform a hypothesis test, with a mean, proportion, or absolute difference as a test statistic.\n",
    "- Was this sample drawn from this specific categorical distribution?\n",
    "    - **Strategy:** Perform a hypothesis test, with the total variation distance as a test statistic.\n",
    "- Are these two samples from the same population?\n",
    "    - **Strategy:** Perform a permutation test."
   ]
  },
  {
   "cell_type": "markdown",
   "metadata": {
    "slideshow": {
     "slide_type": "slide"
    }
   },
   "source": [
    "### Now what?\n",
    "\n",
    "- So far, we've given you an introduction to statistical inference.\n",
    "- However, we have not yet spoken much about **prediction** – given a sample, what can I predict about data not in that sample?\n",
    "    - Example from earlier in the quarter: Galton's method for predicting the heights of children given their parents' heights.\n",
    "- Starting today, we'll focus on **linear regression**, a prediction technique that tries to find the best \"linear relationship\" between two numeric variables.\n",
    "    - Along the way, we'll address another idea – **correlation**.\n",
    "    - You will see linear regression several more times throughout your time at UCSD – it is one of the most important tools to have in your data science toolkit."
   ]
  },
  {
   "cell_type": "markdown",
   "metadata": {
    "slideshow": {
     "slide_type": "slide"
    }
   },
   "source": [
    "## Prediction"
   ]
  },
  {
   "cell_type": "markdown",
   "metadata": {
    "slideshow": {
     "slide_type": "slide"
    }
   },
   "source": [
    "### Prediction\n",
    "\n",
    "- Suppose we have a dataset with at least two variables, e.g. education level and income.\n",
    "- We're interested in **predicting** the future – predicting one variable based on another:\n",
    "    - Given my education level, what is my income?\n",
    "    - Given my height, how tall will my kid be as an adult?\n",
    "    - Given my income, how much does my car cost?\n",
    "- To do this, we need to first observe a pattern between the two variables."
   ]
  },
  {
   "cell_type": "markdown",
   "metadata": {
    "slideshow": {
     "slide_type": "slide"
    }
   },
   "source": [
    "### Association\n",
    "\n",
    "- An **association** is any link or relationship between two variables in a scatter plot.\n",
    "- Associations can be linear or non-linear.\n",
    "- If two variables have a positive association, then as one variable increases, the other tends to increase.\n",
    "- If two variables have a negative association, then as one variable increases, the other tends to decrease.\n",
    "- As we saw earlier in the quarter, association $\\neq$ causation!"
   ]
  },
  {
   "cell_type": "markdown",
   "metadata": {
    "slideshow": {
     "slide_type": "slide"
    }
   },
   "source": [
    "### Example: hybrid cars"
   ]
  },
  {
   "cell_type": "code",
   "execution_count": null,
   "metadata": {},
   "outputs": [],
   "source": [
    "hybrid = bpd.read_csv('data/hybrid.csv')\n",
    "hybrid"
   ]
  },
  {
   "cell_type": "markdown",
   "metadata": {
    "slideshow": {
     "slide_type": "slide"
    }
   },
   "source": [
    "### `'acceleration'` and `'msrp'`\n",
    "- Is there an association?\n",
    "- What kind of association?"
   ]
  },
  {
   "cell_type": "code",
   "execution_count": null,
   "metadata": {},
   "outputs": [],
   "source": [
    "hybrid.plot(kind='scatter', x='acceleration', y='msrp', figsize=(10, 5));"
   ]
  },
  {
   "cell_type": "markdown",
   "metadata": {
    "slideshow": {
     "slide_type": "slide"
    }
   },
   "source": [
    "### `'mpg'` and `'msrp'`\n",
    "\n",
    "- Is there an association?\n",
    "- What kind of association?"
   ]
  },
  {
   "cell_type": "code",
   "execution_count": null,
   "metadata": {},
   "outputs": [],
   "source": [
    "hybrid.plot(kind='scatter', x='mpg', y='msrp', figsize=(10, 5));"
   ]
  },
  {
   "cell_type": "markdown",
   "metadata": {
    "slideshow": {
     "slide_type": "fragment"
    }
   },
   "source": [
    "**Observations:**\n",
    "- There is an association – cars with better fuel economy tended to be cheaper.\n",
    "    - Why is that? 🤔\n",
    "- The association looks more curved than linear. \n",
    "    - It may roughly follow $y \\approx \\frac{1}{x}$.\n",
    "   "
   ]
  },
  {
   "cell_type": "markdown",
   "metadata": {
    "slideshow": {
     "slide_type": "slide"
    }
   },
   "source": [
    "### Understanding units\n",
    "- A linear change in units doesn't change the shape of the plot, it only changes the scale of the plot.\n",
    "    - Linear change means adding or subtracting a constant, and multiplying or dividing by a constant.\n",
    "- In other words, instead of plotting price in _dollars_ and fuel economy in _MPG_, we can plot price in _Euros_ and fuel economy in _kilometers per liter_ and the plot would look the same, just with different axes:"
   ]
  },
  {
   "cell_type": "code",
   "execution_count": null,
   "metadata": {
    "slideshow": {
     "slide_type": "-"
    }
   },
   "outputs": [],
   "source": [
    "hybrid.assign(\n",
    "        km_per_liter=hybrid.get('mpg') * 0.425144,\n",
    "        eur=hybrid.get('msrp') * 0.84 \n",
    ").plot(kind='scatter', x='km_per_liter', y='eur', figsize=(10, 5));"
   ]
  },
  {
   "cell_type": "markdown",
   "metadata": {
    "slideshow": {
     "slide_type": "slide"
    }
   },
   "source": [
    "### Converting columns to standard units\n",
    "- Recall: to convert $x$ to standard units, we compute\n",
    "\n",
    "$$z(x) = \\frac{x - \\text{mean of all $x$s}}{\\text{SD of all $x$s}}$$\n",
    "\n",
    "- Converting columns to standard units makes different scatter plots comparable, by making the $x$ and $y$ axes \"similarly scaled.\"\n",
    "    - Both axes measure the number of standard deviations a data point is above or below its mean.\n",
    "- Converting columns to standard units doesn't change shape of the scatter plot (the conversion is linear)."
   ]
  },
  {
   "cell_type": "code",
   "execution_count": null,
   "metadata": {},
   "outputs": [],
   "source": [
    "def standard_units(any_numbers):\n",
    "    \"Convert any array of numbers to standard units.\"\n",
    "    any_numbers = np.array(any_numbers)\n",
    "    return (any_numbers - any_numbers.mean()) / np.std(any_numbers)"
   ]
  },
  {
   "cell_type": "code",
   "execution_count": null,
   "metadata": {},
   "outputs": [],
   "source": [
    "def standardize(df):\n",
    "    \"\"\"Return a DataFrame in which all columns of df are converted to standard units.\"\"\"\n",
    "    df_su = bpd.DataFrame()\n",
    "    for column in df.columns:\n",
    "        df_su = df_su.assign(**{column + ' (su)': standard_units(df.get(column))})\n",
    "    return df_su"
   ]
  },
  {
   "cell_type": "markdown",
   "metadata": {
    "slideshow": {
     "slide_type": "slide"
    }
   },
   "source": [
    "### Standard units for hybrid cars\n",
    "For a given pair of variables:\n",
    "- Which cars are average from both perspectives?\n",
    "- Which cars are both well above/below average?"
   ]
  },
  {
   "cell_type": "code",
   "execution_count": null,
   "metadata": {
    "scrolled": false
   },
   "outputs": [],
   "source": [
    "hybrid_su = standardize(hybrid.get(['msrp', 'acceleration', 'mpg'])).assign(vehicle=hybrid.get('vehicle'))\n",
    "hybrid_su"
   ]
  },
  {
   "cell_type": "markdown",
   "metadata": {
    "slideshow": {
     "slide_type": "slide"
    }
   },
   "source": [
    "### `'acceleration'` and `'msrp'`"
   ]
  },
  {
   "cell_type": "code",
   "execution_count": null,
   "metadata": {
    "scrolled": true,
    "slideshow": {
     "slide_type": "-"
    }
   },
   "outputs": [],
   "source": [
    "hybrid_su.plot(kind='scatter', x='acceleration (su)', y='msrp (su)', figsize=(10, 5));"
   ]
  },
  {
   "cell_type": "markdown",
   "metadata": {},
   "source": [
    "Which cars have `'acceleration'`s and `'msrp'`s that are more than 2 SDs above average?"
   ]
  },
  {
   "cell_type": "code",
   "execution_count": null,
   "metadata": {
    "slideshow": {
     "slide_type": "-"
    }
   },
   "outputs": [],
   "source": [
    "hybrid_su[(hybrid_su.get('acceleration (su)') > 2) &\n",
    "          (hybrid_su.get('msrp (su)') > 2)]"
   ]
  },
  {
   "cell_type": "markdown",
   "metadata": {
    "slideshow": {
     "slide_type": "slide"
    }
   },
   "source": [
    "### `'mpg'` and `'msrp'`"
   ]
  },
  {
   "cell_type": "code",
   "execution_count": null,
   "metadata": {
    "scrolled": true,
    "slideshow": {
     "slide_type": "-"
    }
   },
   "outputs": [],
   "source": [
    "hybrid_su.plot(kind='scatter', x='mpg (su)', y='msrp (su)', figsize=(10, 5));"
   ]
  },
  {
   "cell_type": "markdown",
   "metadata": {
    "slideshow": {
     "slide_type": "-"
    }
   },
   "source": [
    "Which cars have close to average `'mpg'`s and close to average `'msrp'`s?"
   ]
  },
  {
   "cell_type": "code",
   "execution_count": null,
   "metadata": {},
   "outputs": [],
   "source": [
    "hybrid_su[(hybrid_su.get('mpg (su)') <= 0.3) &\n",
    "          (hybrid_su.get('mpg (su)') >= -0.3) &\n",
    "          (hybrid_su.get('msrp (su)') <= 0.3) &\n",
    "          (hybrid_su.get('msrp (su)') >= -0.3)]"
   ]
  },
  {
   "cell_type": "markdown",
   "metadata": {
    "slideshow": {
     "slide_type": "slide"
    }
   },
   "source": [
    "### Observation on associations in standard units\n",
    "- If two variables are positively associated,\n",
    "    - their high, positive values in standard units are typically seen together, and\n",
    "    - their low, negative values are seen together as well.\n",
    "- If two variables are negatively associated,\n",
    "    - high, positive values of one are typically coupled with low, negative values of the other.\n",
    "- If two variables aren't associated, there should be no such pattern."
   ]
  },
  {
   "cell_type": "code",
   "execution_count": null,
   "metadata": {},
   "outputs": [],
   "source": [
    "hybrid_su.plot(kind='scatter', x='acceleration (su)', y='msrp (su)', figsize=(10, 5))\n",
    "plt.axvline(0, color='black');\n",
    "plt.axhline(0, color='black');"
   ]
  },
  {
   "cell_type": "code",
   "execution_count": null,
   "metadata": {},
   "outputs": [],
   "source": [
    "hybrid_su.plot(kind='scatter', x='mpg (su)', y='msrp (su)', figsize=(10, 5))\n",
    "plt.axvline(0, color='black');\n",
    "plt.axhline(0, color='black');"
   ]
  },
  {
   "cell_type": "markdown",
   "metadata": {
    "slideshow": {
     "slide_type": "slide"
    }
   },
   "source": [
    "## Correlation"
   ]
  },
  {
   "cell_type": "markdown",
   "metadata": {
    "slideshow": {
     "slide_type": "slide"
    }
   },
   "source": [
    "### Definition: correlation coefficient\n",
    "\n",
    "**Definition**: The correlation coefficient $r$ of two variables $x$ and $y$ is the \n",
    "- **average** value of the \n",
    "- **product** of $x$ and $y$\n",
    "- when both are measured in **standard units**.\n",
    "\n",
    "If `x` and `y` are two Series or arrays, \n",
    "```py\n",
    "r = (x_su * y_su).mean()\n",
    "```\n",
    "where `x_su` and `y_su` are `x` and `y` converted to standard units."
   ]
  },
  {
   "cell_type": "markdown",
   "metadata": {
    "slideshow": {
     "slide_type": "slide"
    }
   },
   "source": [
    "Let's calculate $r$ for `'acceleration'` and `'msrp'`."
   ]
  },
  {
   "cell_type": "code",
   "execution_count": null,
   "metadata": {
    "slideshow": {
     "slide_type": "-"
    }
   },
   "outputs": [],
   "source": [
    "hybrid_su"
   ]
  },
  {
   "cell_type": "code",
   "execution_count": null,
   "metadata": {
    "slideshow": {
     "slide_type": "-"
    }
   },
   "outputs": [],
   "source": [
    "r_acc_price = (hybrid_su.get('acceleration (su)') * hybrid_su.get('msrp (su)')).mean()\n",
    "r_acc_price"
   ]
  },
  {
   "cell_type": "code",
   "execution_count": null,
   "metadata": {},
   "outputs": [],
   "source": [
    "hybrid_su.plot(kind='scatter', x='acceleration (su)', y='msrp (su)', figsize=(10, 5))\n",
    "plt.axvline(0, color='black');\n",
    "plt.axhline(0, color='black');"
   ]
  },
  {
   "cell_type": "markdown",
   "metadata": {
    "slideshow": {
     "slide_type": "slide"
    }
   },
   "source": [
    "### The correlation coefficient: $r$\n",
    "\n",
    "- $r$ measures how clustered points are around a straight line – **it measures linear association**.\n",
    "    - If two variables are correlated, it means they are linearly associated.\n",
    "- $r$ is always between $-1$ and $1$.\n",
    "    - If $r = 1$, the scatter plot is a line of slope 1.\n",
    "    - If $r = -1$, the scatter plot is a line of slope -1.\n",
    "    - If $r = 0$, there is no linear association (_uncorrelated_).\n",
    "- $r$ is computed based on standard units.\n",
    "    - The correlation between price in _dollars_ and fuel economy in _MPG_ is the same as the correlation between price in _Euros_ and fuel economy in _kilometers per liter_."
   ]
  },
  {
   "cell_type": "markdown",
   "metadata": {
    "slideshow": {
     "slide_type": "slide"
    }
   },
   "source": [
    "Let's now calculate $r$ for `'mpg'` and `'msrp'`."
   ]
  },
  {
   "cell_type": "code",
   "execution_count": null,
   "metadata": {
    "scrolled": false
   },
   "outputs": [],
   "source": [
    "hybrid_su"
   ]
  },
  {
   "cell_type": "code",
   "execution_count": null,
   "metadata": {
    "slideshow": {
     "slide_type": "-"
    }
   },
   "outputs": [],
   "source": [
    "r_mpg_price = (hybrid_su.get('mpg (su)') * hybrid_su.get('msrp (su)')).mean()\n",
    "r_mpg_price"
   ]
  },
  {
   "cell_type": "code",
   "execution_count": null,
   "metadata": {},
   "outputs": [],
   "source": [
    "hybrid_su.plot(kind='scatter', x='mpg (su)', y='msrp (su)', figsize=(10, 5));\n",
    "plt.axvline(0, color='black');\n",
    "plt.axhline(0, color='black');"
   ]
  },
  {
   "cell_type": "markdown",
   "metadata": {
    "slideshow": {
     "slide_type": "slide"
    }
   },
   "source": [
    "### Scatter plots with different correlation coefficients"
   ]
  },
  {
   "cell_type": "code",
   "execution_count": null,
   "metadata": {},
   "outputs": [],
   "source": [
    "show_scatter_grid()"
   ]
  },
  {
   "cell_type": "markdown",
   "metadata": {
    "slideshow": {
     "slide_type": "slide"
    }
   },
   "source": [
    "### Discussion Question"
   ]
  },
  {
   "cell_type": "code",
   "execution_count": null,
   "metadata": {},
   "outputs": [],
   "source": [
    "x2 = bpd.DataFrame().assign(\n",
    "    x=np.arange(-6, 6.1, 0.5), \n",
    "    y=np.arange(-6, 6.1, 0.5) ** 2\n",
    ")\n",
    "x2.plot(kind='scatter', x='x', y='y', figsize=(10, 5));"
   ]
  },
  {
   "cell_type": "markdown",
   "metadata": {},
   "source": [
    "Does the above scatter plot show:\n",
    "\n",
    "- A. Association and correlation?\n",
    "- B. Association but not correlation?\n",
    "- C. Correlation but not association?\n",
    "- D. Neither association nor correlation?\n",
    "\n",
    "### To answer, go to [menti.com](https://menti.com) and enter the code 6382 7990."
   ]
  },
  {
   "cell_type": "markdown",
   "metadata": {
    "slideshow": {
     "slide_type": "slide"
    }
   },
   "source": [
    "### Answer"
   ]
  },
  {
   "cell_type": "code",
   "execution_count": null,
   "metadata": {},
   "outputs": [],
   "source": [
    "products = standard_units(x2.get('x')) * standard_units(x2.get('y'))\n",
    "products"
   ]
  },
  {
   "cell_type": "code",
   "execution_count": null,
   "metadata": {},
   "outputs": [],
   "source": [
    "np.mean(products)"
   ]
  },
  {
   "cell_type": "code",
   "execution_count": null,
   "metadata": {},
   "outputs": [],
   "source": [
    "plt.figure(figsize=(10, 5))\n",
    "plt.hist(products, bins=np.arange(-3.5, 3.6), ec='w');"
   ]
  },
  {
   "cell_type": "markdown",
   "metadata": {
    "slideshow": {
     "slide_type": "slide"
    }
   },
   "source": [
    "## Regression"
   ]
  },
  {
   "cell_type": "markdown",
   "metadata": {
    "slideshow": {
     "slide_type": "slide"
    }
   },
   "source": [
    "### Goal: predict a child's height from the height of their parents\n",
    "\n",
    "- Earlier in the quarter, we looked at Galton's method of predicting heights.\n",
    "    - A child's \"midparent\" height is a weighted average of the height of their parents.\n",
    "- Observation: Children of shorter parents tend to be shorter!"
   ]
  },
  {
   "cell_type": "code",
   "execution_count": null,
   "metadata": {},
   "outputs": [],
   "source": [
    "galton = bpd.read_csv('data/galton.csv')\n",
    "galton.plot(kind='scatter', x='midparentHeight', y='childHeight', figsize=(10, 5));"
   ]
  },
  {
   "cell_type": "markdown",
   "metadata": {
    "slideshow": {
     "slide_type": "slide"
    }
   },
   "source": [
    "### Goal: predict a child's height from the height of their parents\n",
    "Galton's method involved predicting a child's height by\n",
    "- looking at all midparents within $\\pm 0.5$ inches of the child's midparent height and\n",
    "- averaging the heights of all children of those midparents."
   ]
  },
  {
   "cell_type": "code",
   "execution_count": null,
   "metadata": {},
   "outputs": [],
   "source": [
    "def predict_child(parent_height):\n",
    "    \"\"\"Return a prediction of the height of a child \n",
    "    whose parents have a midparent height of parent_height.\n",
    "    \"\"\"\n",
    "    close_points = galton[(galton.get('midparentHeight') <= parent_height + 0.5) & \n",
    "                          (galton.get('midparentHeight') >= parent_height - 0.5)]\n",
    "    return close_points.get('childHeight').mean()\n",
    "\n",
    "with_predictions = galton.assign(\n",
    "    Prediction=galton.get('midparentHeight').apply(predict_child)\n",
    ")\n",
    "with_predictions"
   ]
  },
  {
   "cell_type": "code",
   "execution_count": null,
   "metadata": {
    "slideshow": {
     "slide_type": "slide"
    }
   },
   "outputs": [],
   "source": [
    "ax = with_predictions.plot(kind='scatter', x='midparentHeight', y='childHeight')\n",
    "with_predictions.plot(kind='scatter', x='midparentHeight', y='Prediction', ax=ax, color='C2', label=\"graph of averages\", figsize=(10, 5));\n",
    "plt.legend();"
   ]
  },
  {
   "cell_type": "markdown",
   "metadata": {
    "slideshow": {
     "slide_type": "fragment"
    }
   },
   "source": [
    "- This is a **graph of averages**.\n",
    "- We grouped each $x$ value with nearby $x$ values, and averaged the corresponding $y$ values for each group.\n",
    "- Each gold point corresponds to the predicted $y$ value for each group.\n",
    "- Notice: the graph of averages looks like a straight line! **Let's try and find that line.**"
   ]
  },
  {
   "cell_type": "markdown",
   "metadata": {
    "slideshow": {
     "slide_type": "slide"
    }
   },
   "source": [
    "### Correlation\n",
    "\n",
    "Let's calculate the correlation between `'midparentHeight'` and `'childHeight'`."
   ]
  },
  {
   "cell_type": "code",
   "execution_count": null,
   "metadata": {},
   "outputs": [],
   "source": [
    "heights_su = standardize(galton.get(['midparentHeight', 'childHeight']))\n",
    "heights_su"
   ]
  },
  {
   "cell_type": "code",
   "execution_count": null,
   "metadata": {
    "scrolled": true
   },
   "outputs": [],
   "source": [
    "r_mid_child = (heights_su.get('midparentHeight (su)') * heights_su.get('childHeight (su)')).mean()\n",
    "r_mid_child"
   ]
  },
  {
   "cell_type": "markdown",
   "metadata": {
    "slideshow": {
     "slide_type": "slide"
    }
   },
   "source": [
    "### The regression line\n",
    "\n",
    "Suppose **$x$ and $y$ are in standard units**, and $r$ is the correlation coefficient between $x$ and $y$. Then, the regression line is defined as follows:\n",
    "\n",
    "<center><img src='data/regression-line.png' width=400></center>\n",
    "\n",
    "- The regression line is the line through $(0,0)$ with slope $r$.\n",
    "- If $x$ and $y$ are linearly associated, then the graph of averages will be very similar to the regression line.\n",
    "- If the regression line is given by $f(x) = mx + b$, then the prediction for $x$ is given by $f(x)$."
   ]
  },
  {
   "cell_type": "code",
   "execution_count": null,
   "metadata": {
    "slideshow": {
     "slide_type": "slide"
    }
   },
   "outputs": [],
   "source": [
    "heights_su.plot(kind='scatter', x='midparentHeight (su)', y='childHeight (su)', figsize=(10, 5))\n",
    "plt.plot(np.arange(-3, 3, 0.1), np.arange(-3, 3, 0.1) * r_mid_child, color='purple', label='regression line');\n",
    "plt.legend();"
   ]
  },
  {
   "cell_type": "markdown",
   "metadata": {
    "slideshow": {
     "slide_type": "slide"
    }
   },
   "source": [
    "### Making predictions in standard units\n",
    "\n",
    "- If $r = 0.32$, and the given $x$ is 2 in standard units, then:\n",
    "    - The prediction for $y$ is 0.64 standard units.\n",
    "    - The regression line predicts that parents whose midparent height is 2 SDs above average have children with whose heights are 0.64 SDs above average."
   ]
  },
  {
   "cell_type": "markdown",
   "metadata": {
    "slideshow": {
     "slide_type": "fragment"
    }
   },
   "source": [
    "- **Note:** We predict that a child will be somewhat closer to average than their parents.\n",
    "    - This is a consequence of the slope ($r$, in this case) having magnitude less than 1.\n",
    "    - This effect is called **regression to the mean**."
   ]
  },
  {
   "cell_type": "markdown",
   "metadata": {
    "slideshow": {
     "slide_type": "slide"
    }
   },
   "source": [
    "### Making predictions in original units\n",
    "\n",
    "Of course, we'd like to be able to predict a child's height in original units, not just in standard units. Here's how we'll approach this problem:\n",
    "1. Convert `'midparentHeight'` to standard units.\n",
    "2. Use the correlation coefficient to predict `'childHeight'` in standard units.\n",
    "3. Scale the  predicted `'childHeight'` from standard units back to inches."
   ]
  },
  {
   "cell_type": "code",
   "execution_count": null,
   "metadata": {},
   "outputs": [],
   "source": [
    "parent_mean = galton.get('midparentHeight').mean()\n",
    "parent_sd = np.std(galton.get('midparentHeight'))\n",
    "child_mean = galton.get('childHeight').mean()\n",
    "child_sd = np.std(galton.get('childHeight'))"
   ]
  },
  {
   "cell_type": "code",
   "execution_count": null,
   "metadata": {
    "slideshow": {
     "slide_type": "slide"
    }
   },
   "outputs": [],
   "source": [
    "def predict_with_r(parent):\n",
    "    \"\"\"Return a prediction of the height of a child \n",
    "    whose parents have a midparent height of parent, \n",
    "    using linear regression.\n",
    "    \"\"\"\n",
    "    parent_su = (parent - parent_mean) / parent_sd\n",
    "    child_su = r_mid_child * parent_su\n",
    "    return child_su * child_sd + child_mean"
   ]
  },
  {
   "cell_type": "code",
   "execution_count": null,
   "metadata": {},
   "outputs": [],
   "source": [
    "predict_with_r(56)"
   ]
  },
  {
   "cell_type": "code",
   "execution_count": null,
   "metadata": {
    "slideshow": {
     "slide_type": "slide"
    }
   },
   "outputs": [],
   "source": [
    "preds = with_predictions.assign(\n",
    "    Prediction_r=galton.get('midparentHeight').apply(predict_with_r)\n",
    ")\n",
    "ax = preds.plot(kind='scatter', x='midparentHeight', y='childHeight', figsize=(10, 5))\n",
    "preds.plot(kind='scatter', x='midparentHeight', y='Prediction', ax=ax, color='C2', label='graph of averages')\n",
    "preds.plot(kind='line', x='midparentHeight', y='Prediction_r', ax=ax, color='purple', label='regression line');\n",
    "plt.legend();"
   ]
  },
  {
   "cell_type": "markdown",
   "metadata": {},
   "source": [
    "As you can see, the graph of averages and the regression line are pretty similar!"
   ]
  },
  {
   "cell_type": "markdown",
   "metadata": {
    "slideshow": {
     "slide_type": "slide"
    }
   },
   "source": [
    "### Discussion Question\n",
    "\n",
    "A course has a midterm (mean 80, standard deviation 15) and a really hard final (mean 50, standard deviation 12).\n",
    "\n",
    "If the scatter diagram comparing midterm & final scores for students looks linearly associated with correlation 0.75, then what is the predicted final exam score for a student who received a 90 on the midterm?\n",
    "\n",
    "- A. 54\n",
    "- B. 56\n",
    "- C. 58\n",
    "- D. 60\n",
    "- E. 62\n",
    "\n",
    "### To answer, go to [menti.com](https://menti.com) and enter the code 6382 7990."
   ]
  },
  {
   "cell_type": "markdown",
   "metadata": {
    "slideshow": {
     "slide_type": "slide"
    }
   },
   "source": [
    "## Summary"
   ]
  },
  {
   "cell_type": "markdown",
   "metadata": {
    "slideshow": {
     "slide_type": "slide"
    }
   },
   "source": [
    "### Summary\n",
    "\n",
    "- The correlation coefficient, $r$, measures the linear association between two variables $x$ and $y$.\n",
    "    - It ranges between -1 and 1.\n",
    "- The regression line is the straight line passing through $(0, 0)$ with slope $r$. We can use it to make predictions for a $y$ value (e.g. child's height) given an $x$ value (e.g. midparent's height).\n",
    "- **Next time:** more on regression."
   ]
  }
 ],
 "metadata": {
  "celltoolbar": "Slideshow",
  "kernelspec": {
   "display_name": "Python 3 (ipykernel)",
   "language": "python",
   "name": "python3"
  },
  "language_info": {
   "codemirror_mode": {
    "name": "ipython",
    "version": 3
   },
   "file_extension": ".py",
   "mimetype": "text/x-python",
   "name": "python",
   "nbconvert_exporter": "python",
   "pygments_lexer": "ipython3",
   "version": "3.9.7"
  },
  "livereveal": {
   "scroll": true,
   "transition": "none"
  }
 },
 "nbformat": 4,
 "nbformat_minor": 2
}
