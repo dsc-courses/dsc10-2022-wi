{
 "cells": [
  {
   "cell_type": "code",
   "execution_count": null,
   "metadata": {
    "slideshow": {
     "slide_type": "skip"
    }
   },
   "outputs": [],
   "source": [
    "# Imports\n",
    "import numpy as np\n",
    "from IPython.display import YouTubeVideo"
   ]
  },
  {
   "cell_type": "markdown",
   "metadata": {
    "slideshow": {
     "slide_type": "slide"
    }
   },
   "source": [
    "# Lecture 12 – Probability\n",
    "\n",
    "## DSC 10, Winter 2022"
   ]
  },
  {
   "cell_type": "markdown",
   "metadata": {
    "slideshow": {
     "slide_type": "slide"
    }
   },
   "source": [
    "### Announcements\n",
    "\n",
    "- Lab 4 is due **tomorrow 2/1 at 11:59pm**.\n",
    "- Homework 4 is due on **Saturday 2/5 at 11:59pm**.\n",
    "- The Midterm Project is due on **Saturday 2/12 at 11:59pm**.\n",
    "    - Start early ‼️\n",
    "- The Midterm Exam is **next Wednesday 2/9 during lecture**.\n",
    "    - You will take it remotely on Gradescope.\n",
    "    - More details to come.\n",
    "- As of today (1/31), lectures and discussions are offered in-person, though you can join via Zoom as well.\n",
    "    - In addition, some office are now in-person. See the [Calendar](https://dsc10.com/calendar) for details."
   ]
  },
  {
   "cell_type": "markdown",
   "metadata": {
    "slideshow": {
     "slide_type": "slide"
    }
   },
   "source": [
    "### Agenda\n",
    "\n",
    "- Review problem (video): conditional statements and iteration.\n",
    "- Motivation for probability.\n",
    "- Probability theory."
   ]
  },
  {
   "cell_type": "markdown",
   "metadata": {
    "slideshow": {
     "slide_type": "slide"
    }
   },
   "source": [
    "### Probability resources\n",
    "\n",
    "Probability is a tricky subject. If it doesn't click during lecture or on the assignments, take a look at the following resources:\n",
    "- [Note 18 in the course notes](https://notes.dsc10.com/04-probability_and_simulation/probability_and_simulation.html).\n",
    "- [Computational and Inferential Thinking, Chapter 9.5](https://inferentialthinking.com/chapters/09/5/Finding_Probabilities.html).\n",
    "- [Theory Meets Data, Chapters 1 and 2](http://stat88.org/textbook/notebooks/Chapter_01/00_The_Basics.html).\n",
    "- [Khan Academy's unit on Probability](https://www.khanacademy.org/math/probability/xa88397b6:probability).\n",
    "- [Suraj's DSC 40A slides on probability from last quarter](https://dsc-courses.github.io/dsc40a-2021-fa/resources/lecture/lec12-filled.pdf).\n",
    "    - More in-depth than what you need to know for this course, but still may be helpful."
   ]
  },
  {
   "cell_type": "markdown",
   "metadata": {
    "slideshow": {
     "slide_type": "slide"
    }
   },
   "source": [
    "## Conditional statements and iteration"
   ]
  },
  {
   "cell_type": "markdown",
   "metadata": {
    "slideshow": {
     "slide_type": "slide"
    }
   },
   "source": [
    "### Walkthrough video\n",
    "\n",
    "Note: we will not get a chance to cover this problem in class. However, it's excellent practice for Lab 4, Homework 4, and the Midterm Project, so we recommend you work through it on your own. The solution to it can be found in the video below."
   ]
  },
  {
   "cell_type": "code",
   "execution_count": null,
   "metadata": {},
   "outputs": [],
   "source": [
    "YouTubeVideo('6HOAk0GAqKU')"
   ]
  },
  {
   "cell_type": "markdown",
   "metadata": {
    "slideshow": {
     "slide_type": "slide"
    }
   },
   "source": [
    "### Example: number of days in between two dates\n",
    "\n",
    "Below, complete the implementation of the function `days_between`, which takes in two (month, day) pairs in the same year and returns the number of days in between those two dates. Example behavior is shown below.\n",
    "\n",
    "```py\n",
    ">>> days_between(3, 12, 3, 31)\n",
    "19 # Number of days between March 12th and March 31st\n",
    "\n",
    ">>> days_between(6, 5, 11, 2)\n",
    "150 # Number of days between June 5th and November 2nd\n",
    "```"
   ]
  },
  {
   "cell_type": "code",
   "execution_count": null,
   "metadata": {
    "slideshow": {
     "slide_type": "slide"
    }
   },
   "outputs": [],
   "source": [
    "# Your solution here\n",
    "\n",
    "days_per_month = [0, 31, 28, 31, 30, 31, 30, 31, 31, 30, 31, 30, 31]\n",
    "\n",
    "def days_between(month1, day1, month2, day2):\n",
    "    ..."
   ]
  },
  {
   "cell_type": "code",
   "execution_count": null,
   "metadata": {
    "slideshow": {
     "slide_type": "slide"
    }
   },
   "outputs": [],
   "source": [
    "days_between(3, 12, 3, 31)"
   ]
  },
  {
   "cell_type": "code",
   "execution_count": null,
   "metadata": {},
   "outputs": [],
   "source": [
    "days_between(6, 5, 11, 2)"
   ]
  },
  {
   "cell_type": "code",
   "execution_count": null,
   "metadata": {},
   "outputs": [],
   "source": [
    "days_between(1, 31, 12, 25)"
   ]
  },
  {
   "cell_type": "code",
   "execution_count": null,
   "metadata": {
    "slideshow": {
     "slide_type": "slide"
    }
   },
   "outputs": [],
   "source": [
    "# SOLUTION\n",
    "\n",
    "days_per_month = [0, 31, 28, 31, 30, 31, 30, 31, 31, 30, 31, 30, 31] # We can use this in our implementation\n",
    "\n",
    "def days_between(month1, day1, month2, day2):\n",
    "    # If the two dates are from the same month, return the difference in the days\n",
    "    if month1 == month2:\n",
    "        return day2 - day1\n",
    "    else:\n",
    "        # Create a variable to keep track of the total number of days\n",
    "        total_days = 0\n",
    "        \n",
    "        # Add the number of days remaining in month1\n",
    "        total_days = total_days + days_per_month[month1] - day1\n",
    "        \n",
    "        # Add the number of days in every full month between month1 and month2\n",
    "        for full_month in np.arange(month1 + 1, month2):\n",
    "            total_days = total_days + days_per_month[full_month]\n",
    "            \n",
    "        # Add the number of days in month2\n",
    "        total_days = total_days + day2\n",
    "        \n",
    "        return total_days"
   ]
  },
  {
   "cell_type": "markdown",
   "metadata": {
    "slideshow": {
     "slide_type": "slide"
    }
   },
   "source": [
    "## Motivation for probability"
   ]
  },
  {
   "cell_type": "markdown",
   "metadata": {
    "slideshow": {
     "slide_type": "slide"
    }
   },
   "source": [
    "### Swain vs. Alabama, 1965\n",
    "- Robert Swain was a black man convicted of crime in Talladega County, Alabama.\n",
    "- He appealed the jury's decision all the way to the Supreme Court, on the grounds that Talladega County systematically excluded Black people from juries.\n",
    "- At the time, only men 21 years or older were allowed to serve on juries. 26% of this population was Black.\n",
    "- But of the 100 men on Robert Swain's jury panel, only 8 were Black."
   ]
  },
  {
   "cell_type": "markdown",
   "metadata": {
    "slideshow": {
     "slide_type": "slide"
    }
   },
   "source": [
    "### The Supreme Court's ruling\n",
    "\n",
    "- About disparities between the percentages in the eligible population and the jury panel, the Supreme Court wrote:\n",
    "\n",
    "> \"... the overall percentage disparity has been small...”\n",
    "\n",
    "- The Supreme Court denied Robert Swain’s appeal and he was sentenced.\n",
    "- The fact that the jury panel had far fewer Black men proportionally than Talladega County is an example of racial bias.\n",
    "- Over the next few weeks, we will give you tools to quantitatively highlight this bias.\n",
    "    - We will try to answer the question, \"what are the chances that this disparity was due to random chance?\"\n",
    "    - If this chance is small, we know something is wrong.\n",
    "    - But first: we need to formalize what **probability** is."
   ]
  },
  {
   "cell_type": "markdown",
   "metadata": {
    "slideshow": {
     "slide_type": "slide"
    }
   },
   "source": [
    "## Probability theory"
   ]
  },
  {
   "cell_type": "markdown",
   "metadata": {
    "slideshow": {
     "slide_type": "slide"
    }
   },
   "source": [
    "### Probability theory\n",
    "\n",
    "- Some things in life *seem* random.\n",
    "    - e.g. flipping a coin 🪙 or rolling a die 🎲.\n",
    "- The **probability** of seeing \"heads\" when flipping a fair coin is 50%.\n",
    "- One interpretation of probability says that if we flipped a coin infinitely many times, then 50% of outcomes would be heads."
   ]
  },
  {
   "cell_type": "markdown",
   "metadata": {
    "slideshow": {
     "slide_type": "slide"
    }
   },
   "source": [
    "### Terminology\n",
    "\n",
    "- **Experiment**: A process or action whose result is random.\n",
    "    - e.g., rolling a die.\n",
    "    - e.g., flipping a coin twice.\n",
    "- **Outcome**: The result of an experiment.\n",
    "    - e.g., the possible outcomes of rolling a six-sided die are 1, 2, 3, 4, 5, and 6.\n",
    "    - e.g., the possible outcomes of flipping a coin twice are HH, HT, TH, and TT.\n",
    "- **Event**: A set of outcomes.\n",
    "    - e.g., the event that the die lands on a even number is the set of outcomes {2, 4, 6}.\n",
    "    - e.g., the event that the die lands on a 5 is the set of outcomes {5}.\n",
    "    - e.g., the event that there is at least 1 head in 2 flips is the set of outcomes {HH, HT, TH}."
   ]
  },
  {
   "cell_type": "markdown",
   "metadata": {
    "slideshow": {
     "slide_type": "slide"
    }
   },
   "source": [
    "### Terminology\n",
    "\n",
    "- **Probability**: A number between 0 and 1 (equivalently, between 0% and 100%) which describes the likelihood of an event.\n",
    "    - 0: the event never happens.\n",
    "    - 1: the event always happens.\n",
    "- Notation: if $A$ is an event, $P(A)$ is the probability of that event."
   ]
  },
  {
   "cell_type": "markdown",
   "metadata": {
    "slideshow": {
     "slide_type": "slide"
    }
   },
   "source": [
    "### Equally-likely outcomes\n",
    "\n",
    "- If all outcomes in event $A$ are equally likely, then the probability of $A$ is\n",
    "\n",
    "$$\n",
    "P(A) = \\frac{\n",
    "    \\text{# of outcomes satisfying $A$}\n",
    "}{\n",
    "    \\text{total # of outcomes}\n",
    "}\n",
    "$$\n",
    "\n",
    "- **Example 1:** Suppose we flip a fair coin 3 times. What is the probability we see exactly 2 heads?"
   ]
  },
  {
   "cell_type": "markdown",
   "metadata": {
    "slideshow": {
     "slide_type": "slide"
    }
   },
   "source": [
    "### Example 1 solved\n",
    "\n",
    "- When we flip a fair coin 3 times, there are 8 possible outcomes: HHH, HHT, HTH, HTT, THH, THT, TTH, and TTT.\n",
    "- These outcomes are all equally likely.\n",
    "- 3 of these outcomes have exactly 2 heads: HHT, HTH, and THH.\n",
    "- So, the probability of seeing exactly 2 heads in 3 flips of a fair coin is $\\frac{3}{8}$."
   ]
  },
  {
   "cell_type": "markdown",
   "metadata": {
    "slideshow": {
     "slide_type": "slide"
    }
   },
   "source": [
    "### Discussion Question\n",
    "\n",
    "I have three cards: red, blue, and green. What is the chance that I choose a card at random, and it is green, then – **without putting it back** – I choose another card at random and it is red?\n",
    "\n",
    "- A) $\\frac{1}{9}$\n",
    "- B) $\\frac{1}{6}$\n",
    "- C) $\\frac{1}{3}$\n",
    "- D) $\\frac{2}{3}$\n",
    "- E) None of the above.\n",
    "\n",
    "### To answer, go to [menti.com](https://menti.com) and enter the code 1918 2877."
   ]
  },
  {
   "cell_type": "markdown",
   "metadata": {
    "slideshow": {
     "slide_type": "slide"
    }
   },
   "source": [
    "### Discussion Question solved\n",
    "\n",
    "- There are 6 possible outcomes: RG, RB, GR, GB, BR, and BG.\n",
    "- These outcomes are equally likely.\n",
    "- There is only 1 outcome which makes the event happen: GR.\n",
    "- Hence the probability is $\\frac{1}{6}$."
   ]
  },
  {
   "cell_type": "markdown",
   "metadata": {
    "slideshow": {
     "slide_type": "slide"
    }
   },
   "source": [
    "### Conditional probabilities\n",
    "\n",
    "- Two events $A$ and $B$ can both happen. Suppose that we know $A$ has happened, but we don't know if $B$ has.\n",
    "- If all outcomes are equally likely, then the conditional probability of $B$ given $A$ is:\n",
    "\n",
    "$$\n",
    "P(B \\text{ given } A)\n",
    "= \\frac{\n",
    "    \\text{# of outcomes satisfying both $A$ and $B$}\n",
    "}{\n",
    "    \\text{# of outcomes satisfying $A$}\n",
    "}\n",
    "$$\n",
    "- Intuitively, this is similar to the definition of the regular probability of $B$, $P(B) = \\frac{\n",
    "    \\text{# of outcomes satisfying $B$}\n",
    "}{\n",
    "    \\text{total # of outcomes}\n",
    "}$, if you restrict the set of possible outcomes to be just those in event $A$.\n",
    "- **Example 2:** Suppose I roll a fair six-sided die, and suppose $A$ is the event \"roll is 3 or less\" and $B$ is the event \"roll is even\". What is $P(B \\text{ given } A)$?"
   ]
  },
  {
   "cell_type": "markdown",
   "metadata": {
    "slideshow": {
     "slide_type": "slide"
    }
   },
   "source": [
    "### Example 2 solved\n",
    "\n",
    "$$\n",
    "P(B \\text{ given } A)\n",
    "= \\frac{\n",
    "    \\text{# of outcomes satisfying both $A$ and $B$}\n",
    "}{\n",
    "    \\text{# of outcomes satisfying $A$}\n",
    "}\n",
    "$$\n",
    "\n",
    "Another way of phrasing the problem: I roll a fair six-sided die and don't tell you what the result is, but I tell you that it is 3 or less. What is the probability that the result is even?\n",
    "\n",
    "- There are three outcomes where the roll is 3 or less: 1, 2, and 3.\n",
    "- There is only one outcome where the roll is 3 or less and even: 2.\n",
    "- So the probability that the roll is even given that it is 3 or less is $P(B \\text{ given } A) = \\frac{1}{3}$."
   ]
  },
  {
   "cell_type": "markdown",
   "metadata": {
    "slideshow": {
     "slide_type": "slide"
    }
   },
   "source": [
    "### Probability that two events both happen\n",
    "\n",
    "- Suppose again that $A$ and $B$ are two events, and that all outcomes are equally likely. Then, the probability that both $A$ and $B$ occur is\n",
    "\n",
    "$$\n",
    "P(A \\text{ and } B) = \\frac{\n",
    "    \\text{# of outcomes satisfying both $A$ and $B$}\n",
    "}{\n",
    "    \\text{total # of outcomes}\n",
    "}\n",
    "$$\n",
    "\n",
    "- **Example 3:** I roll a fair six-sided die. What is the probability that the roll is 3 or less and even?"
   ]
  },
  {
   "cell_type": "markdown",
   "metadata": {
    "slideshow": {
     "slide_type": "slide"
    }
   },
   "source": [
    "### Example 3 solved\n",
    "\n",
    "I roll a fair six-sided die. What is the probability that the roll is 3 or less and even?\n",
    "\n",
    "- Only one outcome is both 3 or less and even: 2.\n",
    "- There are 6 total outcomes.\n",
    "- Thus, $P(A \\text{ and } B) = \\frac{1}{6}$."
   ]
  },
  {
   "cell_type": "markdown",
   "metadata": {
    "slideshow": {
     "slide_type": "slide"
    }
   },
   "source": [
    "### The multiplication rule\n",
    "\n",
    "- The multiplication rule specifies how to compute the probability of both $A$ and $B$ happening, even if all outcomes are not equally likely.\n",
    "\n",
    "$$\n",
    "    P(A \\text{ and } B)\n",
    "    =\n",
    "    P(A) \\cdot P(B \\text{ given } A)\n",
    "$$\n",
    "\n",
    "- **Example 3, again:** I roll a fair six-sided die. What is the probability that the roll is 3 or less and even?"
   ]
  },
  {
   "cell_type": "markdown",
   "metadata": {
    "slideshow": {
     "slide_type": "slide"
    }
   },
   "source": [
    "### Example 3 solved, again\n",
    "\n",
    "I roll a fair six-sided die. What is the probability that the roll is 3 or less and even?\n",
    "\n",
    "- The probability that the roll is 3 or less is $P(A) = \\frac{1}{2}$.\n",
    "- From before, the probability that the roll is even given that the roll is 3 or less is $P(B \\text{ given } A) = \\frac{1}{3}$.\n",
    "- Thus, the probability the roll is both 3 or less and even is $P(A \\text{ and } B) = \\frac{1}{2} \\cdot \\frac{1}{3} = \\frac{1}{6}$.\n",
    "- Note that an equivalent formula is $P(A \\text{ and } B) = P(B) \\cdot P (A \\text{ given } B)$.\n",
    "\n",
    "### Generally, situations involving an \"and\" involve multiplication."
   ]
  },
  {
   "cell_type": "markdown",
   "metadata": {
    "slideshow": {
     "slide_type": "slide"
    }
   },
   "source": [
    "### What if $A$ isn't affected by $B$? 🤔\n",
    "\n",
    "- The multiplication rule states that, for any two events $A$ and $B$, $$P(A \\text{ and } B) = P(A) \\cdot P(B \\text{ given } A)$$\n",
    "- What if knowing that $A$ happens doesn't tell you anything about the likelihood of $B$ happening?\n",
    "    - Suppose we flip a fair coin three times.\n",
    "    - The probability that the second flip is heads doesn't depend on the result of the first flip.\n",
    "- Then, what is $P(A \\text{ and } B)$?"
   ]
  },
  {
   "cell_type": "markdown",
   "metadata": {
    "slideshow": {
     "slide_type": "slide"
    }
   },
   "source": [
    "### Independent events\n",
    "\n",
    "- Two events $A$ and $B$ are independent if $P(B \\text{ given } A) = P(B) \\:$, or equivalently if $$P(A \\text{ and } B) = P(A) \\cdot P(B)$$\n",
    "- **Example 4:** Suppose we have a coin that is **biased**, and flips heads with probability 0.7. Each flip is independent of all other flips. We flip it 5 times. What's the probability we see 5 heads in a row?"
   ]
  },
  {
   "cell_type": "markdown",
   "metadata": {
    "slideshow": {
     "slide_type": "slide"
    }
   },
   "source": [
    "### Example 4 solved\n",
    "\n",
    "Suppose we have a coin that is **biased**, and flips heads with probability 0.7. Each flip is independent of all other flips. We flip it 5 times. What's the probability we see 5 heads in a row?\n",
    "\n",
    "- The probability of seeing heads on a single flip is 0.7.\n",
    "- Each flip is independent.\n",
    "- So, the probability of seeing 5 heads in a row is\n",
    "\n",
    "$$0.7 \\cdot 0.7 \\cdot 0.7 \\cdot 0.7 \\cdot 0.7 = 0.7^5$$"
   ]
  },
  {
   "cell_type": "markdown",
   "metadata": {
    "slideshow": {
     "slide_type": "slide"
    }
   },
   "source": [
    "### Probability that an event *doesn't* happen\n",
    "\n",
    "- The probability that $A$ **doesn't** happen is $1 - P(A) \\:$.\n",
    "- For example, if the probability it is sunny tomorrow is 0.85, then the probability it is not sunny tomorrow is 0.15."
   ]
  },
  {
   "cell_type": "markdown",
   "metadata": {
    "slideshow": {
     "slide_type": "slide"
    }
   },
   "source": [
    "### Discussion Question\n",
    "\n",
    "Every time I call my grandma 👵, the probability that she answers her phone is $\\frac{1}{3}$. If I call my grandma three times today, what is the chance that I will talk to her at least once?\n",
    "\n",
    "- A) $\\frac{1}{3}$\n",
    "- B) $\\frac{2}{3}$\n",
    "- C) $\\frac{1}{2}$\n",
    "- D) $1$\n",
    "- E) None of the above.\n",
    "\n",
    "### To answer, go to [menti.com](https://menti.com) and enter the code 1918 2877."
   ]
  },
  {
   "cell_type": "markdown",
   "metadata": {
    "slideshow": {
     "slide_type": "slide"
    }
   },
   "source": [
    "### Discussion Question solved\n",
    "\n",
    "- Let's first calculate the probability that she **doesn't** answer her phone in three tries.\n",
    "    - The probability she doesn't answer her phone on any one attempt is $\\frac{2}{3}$.\n",
    "    - So the probability she doesn't answer her phone in three tries is $\\frac{2}{3} \\cdot \\frac{2}{3} \\cdot \\frac{2}{3} = \\frac{8}{27}$.\n",
    "- But we want the probability of her answering **at least** once. So we subtract the above result from 1.\n",
    "    - $1 - \\frac{8}{27} = \\frac{19}{27}$; none of the above!"
   ]
  },
  {
   "cell_type": "markdown",
   "metadata": {
    "slideshow": {
     "slide_type": "slide"
    }
   },
   "source": [
    "### Probability of either of two events happening\n",
    "\n",
    "- Suppose again that $A$ and $B$ are two events, and that all outcomes are equally likely. Then, the probability that either $A$ or $B$ occur is\n",
    "\n",
    "$$\n",
    "P(A \\text{ or } B) = \\frac{\n",
    "    \\text{# of outcomes satisfying either $A$ or $B$}\n",
    "    }{\n",
    "    \\text{total # of outcomes}\n",
    "    }\n",
    "$$\n",
    "\n",
    "- **Example 5:** I roll a fair six-sided die. What is the probability that the roll is even or more than 5?"
   ]
  },
  {
   "cell_type": "markdown",
   "metadata": {
    "slideshow": {
     "slide_type": "slide"
    }
   },
   "source": [
    "### Example 5 solved\n",
    "\n",
    "I roll a fair six-sided die. What is the probability that the roll is even or at least 5?\n",
    "- There are three outcomes that are even: 2, 4, 6.\n",
    "- There are two outcomes that are at least 5: 5, 6.\n",
    "- There are four total outcomes that satisfy at least one of the two conditions: 2, 4, 5, 6.\n",
    "- Thus, the probability that the roll is even or at least 5 is $\\frac{4}{6} = \\frac{2}{3}$.\n",
    "    - Note that this is not $P(A) + P(B) \\:$, which would be $\\frac{3}{6} + \\frac{2}{6} = \\frac{5}{6}$, because there is **overlap** between events $A$ and $B$."
   ]
  },
  {
   "cell_type": "markdown",
   "metadata": {
    "slideshow": {
     "slide_type": "slide"
    }
   },
   "source": [
    "### The addition rule\n",
    "\n",
    "- Suppose that if $A$ happens, then $B$ doesn't, and if $B$ happens, then $A$ doesn't.\n",
    "    - Such events are called **mutually exclusive** – they have **no overlap**.\n",
    "- If $A$ and $B$ are any two mutually exclusive events, then\n",
    "\n",
    "$$P(A \\text{ or } B) = P(A) + P(B)$$\n",
    "\n",
    "- **Example 6:** Suppose I have two biased coins, coin $A$ and coin $B$. Coin $A$ flips heads with probability 0.6, and coin $B$ flips heads with probability 0.3. I flip both coins once. What's the probability I see two different faces?"
   ]
  },
  {
   "cell_type": "code",
   "execution_count": null,
   "metadata": {
    "slideshow": {
     "slide_type": "slide"
    }
   },
   "outputs": [],
   "source": []
  },
  {
   "cell_type": "markdown",
   "metadata": {
    "slideshow": {
     "slide_type": "slide"
    }
   },
   "source": [
    "### Example 6 solved\n",
    "\n",
    "Suppose I have two biased coins, coin $A$ and coin $B$. Coin $A$ flips heads with probability 0.6, and coin $B$ flips heads with probability 0.3. The two coins are independent of one another. I flip both coins once. What's the probability I see two different faces?\n",
    "\n",
    "- The event we see two different faces corresponds to either seeing a head then a tail, **or** a tail then a head (i.e. not both heads and not both tails).\n",
    "- The probability of seeing a head then a tail is $0.6 \\cdot (1 - 0.3)$, because the two coins are independent of one another.\n",
    "- The probability of seeing a tail then a head is $(1 - 0.6) \\cdot 0.3$.\n",
    "- So, the probability of seeing two different faces is\n",
    "\n",
    "$$0.6 \\cdot (1 - 0.3) + (1 - 0.6) \\cdot 0.3 = 0.54$$\n",
    "\n",
    "### Generally, situations involving an \"or\" involve addition."
   ]
  },
  {
   "cell_type": "markdown",
   "metadata": {
    "slideshow": {
     "slide_type": "slide"
    }
   },
   "source": [
    "### Aside: proof of the addition rule for equally-likely events\n",
    "\n",
    "You are not required to know how to \"prove\" anything in this course; you may just find this interesting.\n",
    "\n",
    "If $A$ and $B$ are events consisting of equally likely outcomes, and furthermore $A$ and $B$ are mutually exclusive (meaning they have no overlap), then\n",
    "\n",
    "$$\n",
    "\\begin{align*}\n",
    "    P(A \\text{ or } B) \n",
    "    &= \\frac{\n",
    "        \\text{# of outcomes satisfying either $A$ or $B$}\n",
    "        }{\n",
    "        \\text{total # of outcomes}\n",
    "        }\n",
    "        \\\\[1em]\n",
    "    &= \\frac{\n",
    "            (\\text{# of outcomes satisfying $A$})\n",
    "            +\n",
    "            (\\text{# of outcomes satisfying $B$})\n",
    "        }{\n",
    "        \\text{total # of outcomes}\n",
    "        }\n",
    "        \\\\[1em]\n",
    "    &= \\frac{\n",
    "            (\\text{# of outcomes satisfying $A$})\n",
    "        }{\n",
    "        \\text{total # of outcomes}\n",
    "        }\n",
    "        +\n",
    "        \\frac{\n",
    "            (\\text{# of outcomes satisfying $B$})\n",
    "        }{\n",
    "        \\text{total # of outcomes}\n",
    "        }\n",
    "    \\\\[1em]\n",
    "    &= P(A) + P(B)\n",
    "\\end{align*}\n",
    "$$"
   ]
  },
  {
   "cell_type": "markdown",
   "metadata": {
    "slideshow": {
     "slide_type": "slide"
    }
   },
   "source": [
    "## Summary"
   ]
  },
  {
   "cell_type": "markdown",
   "metadata": {
    "slideshow": {
     "slide_type": "slide"
    }
   },
   "source": [
    "### Summary\n",
    "\n",
    "- Probability describes the likelihood of an event occurring.\n",
    "- There are several rules for computing probabilities. We looked at many special cases that involved equally-likely events.\n",
    "- There are two general rules to be aware of:\n",
    "    - The **multiplication rule**, which states that for any two events, $P(A \\text{ and } B) = P(B \\text{ given } A) \\cdot P(A) \\:$.\n",
    "    - The **addition rule**, which states that for any two **mutually exclusive** events, $P(A \\text{ or } B) = P(A) + P(B)$.\n",
    "- **Next time:** simulations."
   ]
  }
 ],
 "metadata": {
  "celltoolbar": "Slideshow",
  "kernelspec": {
   "display_name": "Python 3 (ipykernel)",
   "language": "python",
   "name": "python3"
  },
  "language_info": {
   "codemirror_mode": {
    "name": "ipython",
    "version": 3
   },
   "file_extension": ".py",
   "mimetype": "text/x-python",
   "name": "python",
   "nbconvert_exporter": "python",
   "pygments_lexer": "ipython3",
   "version": "3.9.7"
  },
  "livereveal": {
   "scroll": true,
   "transition": "none"
  }
 },
 "nbformat": 4,
 "nbformat_minor": 2
}
