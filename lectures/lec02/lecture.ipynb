{
 "cells": [
  {
   "cell_type": "markdown",
   "metadata": {
    "slideshow": {
     "slide_type": "slide"
    }
   },
   "source": [
    "# Lecture 2 – Association and Causality\n",
    "\n",
    "## DSC 10, Winter 2022"
   ]
  },
  {
   "cell_type": "markdown",
   "metadata": {
    "slideshow": {
     "slide_type": "slide"
    }
   },
   "source": [
    "### Announcements\n",
    "\n",
    "- Lab 1 is released and is due **Tuesday 1/11 at 11:59pm**.\n",
    "    - Don't worry if it looks foreign – we'll cover the material in class on Friday.\n",
    "    - Post on Campuswire or come to office hours for help!\n",
    "- Make sure you've logged into [Campuswire](https://campuswire.com/c/G6950E967/feed) and have read the [Syllabus](https://dsc10.com/syllabus) on the course website, https://dsc10.com.\n",
    "    - **Reminder:** We're not using Canvas for anything.\n",
    "    - **Pro tip:** to open links in a new tab, hold down control (Windows) or command (Mac) when clicking a link.\n",
    "- Click the 🎥 button next to a lecture to see the recording for that lecture."
   ]
  },
  {
   "cell_type": "markdown",
   "metadata": {
    "slideshow": {
     "slide_type": "slide"
    }
   },
   "source": [
    "### Agenda\n",
    "\n",
    "- Association and causation.\n",
    "- Case study: London in 1854.\n",
    "- Confounding factors and randomized control experiments."
   ]
  },
  {
   "cell_type": "markdown",
   "metadata": {
    "slideshow": {
     "slide_type": "slide"
    }
   },
   "source": [
    "## Association"
   ]
  },
  {
   "cell_type": "markdown",
   "metadata": {
    "slideshow": {
     "slide_type": "slide"
    }
   },
   "source": [
    "### Really?\n",
    "\n",
    "<div align=center>\n",
    "<img src='images/chocolate.png' width=800>\n",
    "</div>\n",
    "\n",
    "Source: [npr.org](https://www.npr.org/sections/thesalt/2015/06/19/415527652/chocolate-chocolate-its-good-for-your-heart-study-finds) (report on a study in [heart.bmj.com](https://heart.bmj.com), the British Medical Journal)"
   ]
  },
  {
   "cell_type": "markdown",
   "metadata": {
    "slideshow": {
     "slide_type": "slide"
    }
   },
   "source": [
    "### Observation\n",
    "\n",
    "Some terminology:"
   ]
  },
  {
   "cell_type": "markdown",
   "metadata": {
    "slideshow": {
     "slide_type": "fragment"
    }
   },
   "source": [
    "- **individuals**, study subjects, participants, units.\n",
    "    - _British adults_."
   ]
  },
  {
   "cell_type": "markdown",
   "metadata": {
    "slideshow": {
     "slide_type": "fragment"
    }
   },
   "source": [
    "- **treatment**.\n",
    "    - _chocolate consumption_."
   ]
  },
  {
   "cell_type": "markdown",
   "metadata": {
    "slideshow": {
     "slide_type": "fragment"
    }
   },
   "source": [
    "- **outcome**.\n",
    "    - _heart disease_."
   ]
  },
  {
   "cell_type": "markdown",
   "metadata": {
    "slideshow": {
     "slide_type": "slide"
    }
   },
   "source": [
    "### The first question\n",
    "\n",
    "Is there **any relation** between chocolate consumption and heart disease?\n",
    "\n",
    "**Association** is another term for \"any relation\" or \"link\"."
   ]
  },
  {
   "cell_type": "markdown",
   "metadata": {
    "slideshow": {
     "slide_type": "slide"
    }
   },
   "source": [
    "### Some Data\n",
    "\n",
    "> “Among those in the top tier of chocolate consumption, 12 percent developed or died of cardiovascular disease during the study, compared to 17.4 percent of those who didn’t eat chocolate.” - Howard LeWine of Harvard Health Blog, reported by [npr.org](https://npr.org)"
   ]
  },
  {
   "cell_type": "markdown",
   "metadata": {
    "slideshow": {
     "slide_type": "fragment"
    }
   },
   "source": [
    "**Question:** Is there an association (any relation) between chocolate consumption and heart disease?\n",
    "\n",
    "A. Yes, I think so\n",
    "\n",
    "B. No, I don't think so\n",
    "\n",
    "### To answer, go to **[menti.com](https://menti.com)** and enter the code **2739 4302**."
   ]
  },
  {
   "cell_type": "markdown",
   "metadata": {
    "slideshow": {
     "slide_type": "slide"
    }
   },
   "source": [
    "### The next question\n",
    "\n",
    "Does chocolate consumption **lead to** a reduction in heart disease?\n",
    "\n",
    "This question introduces the idea of **causality**."
   ]
  },
  {
   "cell_type": "markdown",
   "metadata": {
    "slideshow": {
     "slide_type": "fragment"
    }
   },
   "source": [
    "**Question**: Does chocolate consumption lead to (cause) a reduction in heart disease?\n",
    "\n",
    "A. Yes, I think so\n",
    "\n",
    "B. No, I don't think so\n",
    "\n",
    "C. Maybe, I can't tell\n",
    "\n",
    "### To answer, go to **[menti.com](https://menti.com)** and enter the code **2739 4302**."
   ]
  },
  {
   "cell_type": "markdown",
   "metadata": {
    "slideshow": {
     "slide_type": "slide"
    }
   },
   "source": [
    "Does chocolate consumption **lead to** a reduction in heart disease?\n",
    "\n",
    "This question is often harder to answer.\n",
    "\n",
    "> “[The study] doesn’t prove a cause-and-effect relationship between chocolate and reduced risk of heart disease and stroke.” - JoAnn Manson, chief of Preventive Medicine at Brigham and Women’s Hospital, Boston"
   ]
  },
  {
   "cell_type": "markdown",
   "metadata": {
    "slideshow": {
     "slide_type": "slide"
    }
   },
   "source": [
    "## Case study: London in 1854"
   ]
  },
  {
   "cell_type": "markdown",
   "metadata": {
    "slideshow": {
     "slide_type": "slide"
    }
   },
   "source": [
    "### Miasmas, miasmatism, miasmatists"
   ]
  },
  {
   "cell_type": "markdown",
   "metadata": {
    "slideshow": {
     "slide_type": "fragment"
    }
   },
   "source": [
    "- **Miasma** is a term for bad smells 👃 given off by waste and rotting matter."
   ]
  },
  {
   "cell_type": "markdown",
   "metadata": {
    "slideshow": {
     "slide_type": "fragment"
    }
   },
   "source": [
    "- At one point, miasmas were thought to be the main source of disease. Those who believed that miasmas caused disease were called **miasmatists**."
   ]
  },
  {
   "cell_type": "markdown",
   "metadata": {
    "slideshow": {
     "slide_type": "fragment"
    }
   },
   "source": [
    "- Suggested remedies for disease:\n",
    "    - “fly to clene air”.\n",
    "    - “a pocket full o’posies”.\n",
    "    - “fire off barrels of gunpowder”."
   ]
  },
  {
   "cell_type": "markdown",
   "metadata": {
    "slideshow": {
     "slide_type": "fragment"
    }
   },
   "source": [
    "- Staunch believers in miasmatism:\n",
    "    - Florence Nightingale, founder of modern nursing.\n",
    "    - Edwin Chadwick, Commissioner of General Board of Health."
   ]
  },
  {
   "cell_type": "markdown",
   "metadata": {
    "slideshow": {
     "slide_type": "slide"
    }
   },
   "source": [
    "### John Snow, 1813-1858\n",
    "\n",
    "<div align=center>\n",
    "<img src=\"images\\snow.jpg\" width=400>\n",
    "</div>"
   ]
  },
  {
   "cell_type": "markdown",
   "metadata": {
    "slideshow": {
     "slide_type": "fragment"
    }
   },
   "source": [
    "Not this Jon Snow...\n",
    "\n",
    "<div align=center>\n",
    "<img src=\"images/got.jpg\" width=400>\n",
    "</div>"
   ]
  },
  {
   "cell_type": "markdown",
   "metadata": {
    "slideshow": {
     "slide_type": "slide"
    }
   },
   "source": [
    "### Map of SoHo, London\n",
    "\n",
    "Each bar represents a death by cholera. What do you notice?\n",
    "\n",
    "<div align=center>\n",
    "<img src=\"images/map.jpg\" width=750>\n",
    "</div>"
   ]
  },
  {
   "cell_type": "markdown",
   "metadata": {
    "slideshow": {
     "slide_type": "slide"
    }
   },
   "source": [
    "### Map of SoHo, London\n",
    "\n",
    "Each bar represents a death by cholera. What do you notice?\n",
    "\n",
    "<div align=center>\n",
    "<img src=\"images/inked.jpg\" width=750>\n",
    "</div>"
   ]
  },
  {
   "cell_type": "markdown",
   "metadata": {
    "slideshow": {
     "slide_type": "slide"
    }
   },
   "source": [
    "### Broad Street Pump\n",
    "\n",
    "<div align=center>\n",
    "<img src=\"images/pump.png\" width=900>\n",
    "</div>\n",
    "\n",
    "Now the site of a pub."
   ]
  },
  {
   "cell_type": "markdown",
   "metadata": {
    "slideshow": {
     "slide_type": "slide"
    }
   },
   "source": [
    "## Establishing causation"
   ]
  },
  {
   "cell_type": "markdown",
   "metadata": {
    "slideshow": {
     "slide_type": "slide"
    }
   },
   "source": [
    "<div align=center>\n",
    "<img src=\"images/watersupplymap.png\">\n",
    "</div>\n",
    "\n",
    "S&V: dirty water.<br>\n",
    "Lambeth: clean water."
   ]
  },
  {
   "cell_type": "markdown",
   "metadata": {
    "slideshow": {
     "slide_type": "slide"
    }
   },
   "source": [
    "<center><img src='images/river-diagram.png'</center>"
   ]
  },
  {
   "cell_type": "markdown",
   "metadata": {
    "slideshow": {
     "slide_type": "slide"
    }
   },
   "source": [
    "### Comparision\n",
    "\n",
    "- **treatment group**: does receive the treatment.\n",
    "- **control group**: does not receive the treatment."
   ]
  },
  {
   "cell_type": "markdown",
   "metadata": {
    "slideshow": {
     "slide_type": "fragment"
    }
   },
   "source": [
    " **Question:** Which houses were part of the treatment group?\n",
    "\n",
    "A. All houses in the region of overlap\n",
    "\n",
    "B. Houses served by S&V (dirty water) in the region of overlap\n",
    "\n",
    "C. Houses served by Lambeth (clean water) in the region of overlap\n",
    "\n",
    "### To answer, go to **[menti.com](https://menti.com)** and enter the code **2739 4302**."
   ]
  },
  {
   "cell_type": "markdown",
   "metadata": {
    "slideshow": {
     "slide_type": "slide"
    }
   },
   "source": [
    "### Snow's \"Grand Experiment\"\n",
    "\n",
    "> “… there is no difference whatever in the houses or the people receiving the supply of the two Water Companies, or in any of the physical conditions with which they are surrounded …”\n",
    "\n",
    "In other words, the two groups were _similar except for the treatment_."
   ]
  },
  {
   "cell_type": "markdown",
   "metadata": {
    "slideshow": {
     "slide_type": "slide"
    }
   },
   "source": [
    "### Snow's table\n",
    "\n",
    "<div align=center>\n",
    "<img src=\"images/table.png\" width=1000>\n",
    "</div>"
   ]
  },
  {
   "cell_type": "markdown",
   "metadata": {
    "slideshow": {
     "slide_type": "fragment"
    }
   },
   "source": [
    "**Question:** Does dirty water cause cholera?\n",
    "\n",
    "A. Yes, I think so\n",
    "\n",
    "B. No, I don't think so\n",
    "\n",
    "C. Maybe, I can't tell\n",
    "\n",
    "### To answer, go to **[menti.com](https://menti.com)** and enter the code **2739 4302**."
   ]
  },
  {
   "cell_type": "markdown",
   "metadata": {
    "slideshow": {
     "slide_type": "slide"
    }
   },
   "source": [
    "### Key to establishing causality\n",
    "\n",
    "If the treatment and control groups are _similar apart from the treatment_, then the differences between the outcomes in the two groups can be ascribed to the treatment."
   ]
  },
  {
   "cell_type": "markdown",
   "metadata": {
    "slideshow": {
     "slide_type": "slide"
    }
   },
   "source": [
    "## Confounding factors"
   ]
  },
  {
   "cell_type": "markdown",
   "metadata": {
    "slideshow": {
     "slide_type": "slide"
    }
   },
   "source": [
    "### Trouble\n",
    "\n",
    "If the treatment and control groups have _systematic differences other than the treatment_, then it might be difficult to identify causality."
   ]
  },
  {
   "cell_type": "markdown",
   "metadata": {
    "slideshow": {
     "slide_type": "fragment"
    }
   },
   "source": [
    "- Such differences are often present in **observational studies**."
   ]
  },
  {
   "cell_type": "markdown",
   "metadata": {
    "slideshow": {
     "slide_type": "fragment"
    }
   },
   "source": [
    "- When they lead researchers astray, they are called _confounding factors_."
   ]
  },
  {
   "cell_type": "markdown",
   "metadata": {
    "slideshow": {
     "slide_type": "fragment"
    }
   },
   "source": [
    "- Example: previously, it was widely accepted that coffee caused lung cancer. Why?"
   ]
  },
  {
   "cell_type": "markdown",
   "metadata": {
    "slideshow": {
     "slide_type": "slide"
    }
   },
   "source": [
    "### Randomize!\n",
    "\n",
    "- If you assign individuals to treatment and control **at random**, then the two groups are likely to be similar apart from the treatment."
   ]
  },
  {
   "cell_type": "markdown",
   "metadata": {
    "slideshow": {
     "slide_type": "fragment"
    }
   },
   "source": [
    "- You can account – mathematically – for variability in the assignment."
   ]
  },
  {
   "cell_type": "markdown",
   "metadata": {
    "slideshow": {
     "slide_type": "fragment"
    }
   },
   "source": [
    "- Such an experiment is known as a **randomized controlled experiment** (or \"randomized controlled trial\")."
   ]
  },
  {
   "cell_type": "markdown",
   "metadata": {
    "slideshow": {
     "slide_type": "slide"
    }
   },
   "source": [
    "### Randomized controlled experiments\n",
    "\n",
    "We want to assign individuals to treatment and control **at random**."
   ]
  },
  {
   "cell_type": "markdown",
   "metadata": {
    "slideshow": {
     "slide_type": "fragment"
    }
   },
   "source": [
    "**Question:** Which of these questions cannot be answered by running a randomized controlled experiment?\n",
    "\n",
    "A. Does daily meditation reduce anxiety?\n",
    "\n",
    "B. Does playing video games increase aggressive behavior?\n",
    "\n",
    "C. Does smoking cigarettes cause weight loss?\n",
    "\n",
    "D. Does early exposure to classical music increase a child’s IQ?\n",
    "\n",
    "### To answer, go to **[menti.com](https://menti.com)** and enter the code **2739 4302**."
   ]
  },
  {
   "cell_type": "markdown",
   "metadata": {
    "slideshow": {
     "slide_type": "slide"
    }
   },
   "source": [
    "<center><img src='images/rct-covid.png' width=800>\n",
    "    <a href=\"https://www.cnn.com/2022/01/03/health/covid-weight-loss-wellness/index.html\">source</a>\n",
    "</center>"
   ]
  },
  {
   "cell_type": "markdown",
   "metadata": {
    "slideshow": {
     "slide_type": "slide"
    }
   },
   "source": [
    "### Careful...\n",
    "\n",
    "Regardless of what the dictionary says..."
   ]
  },
  {
   "cell_type": "markdown",
   "metadata": {
    "slideshow": {
     "slide_type": "fragment"
    }
   },
   "source": [
    "<center><h3> In probability theory, random ≠ haphazard! </h3></center>"
   ]
  },
  {
   "cell_type": "markdown",
   "metadata": {
    "slideshow": {
     "slide_type": "slide"
    }
   },
   "source": [
    "## Summary: cause and effect"
   ]
  },
  {
   "cell_type": "markdown",
   "metadata": {
    "slideshow": {
     "slide_type": "slide"
    }
   },
   "source": [
    "### Comparison"
   ]
  },
  {
   "cell_type": "markdown",
   "metadata": {
    "slideshow": {
     "slide_type": "fragment"
    }
   },
   "source": [
    "- Group by some **treatment** and measure some **outcome**."
   ]
  },
  {
   "cell_type": "markdown",
   "metadata": {
    "slideshow": {
     "slide_type": "fragment"
    }
   },
   "source": [
    "- Simplest setting: a **treatment group** and a **control group**."
   ]
  },
  {
   "cell_type": "markdown",
   "metadata": {
    "slideshow": {
     "slide_type": "fragment"
    }
   },
   "source": [
    "- If the outcome differs between these two groups, that's evidence of an **association** (or **relation**).\n",
    "    - E.g., the top-tier chocolate eaters died of heart disease at a lower rate (12%) than chocolate abstainers (17%)."
   ]
  },
  {
   "cell_type": "markdown",
   "metadata": {
    "slideshow": {
     "slide_type": "fragment"
    }
   },
   "source": [
    "- If the two groups are similar in all ways but the treatment, a difference in the **outcome** is also evidence of **causality**."
   ]
  },
  {
   "cell_type": "markdown",
   "metadata": {
    "slideshow": {
     "slide_type": "slide"
    }
   },
   "source": [
    "### Confounding"
   ]
  },
  {
   "cell_type": "markdown",
   "metadata": {
    "slideshow": {
     "slide_type": "fragment"
    }
   },
   "source": [
    "- If the treatment and control groups have systematic differences other than the treatment itself, then it might be difficult to identify a causal link."
   ]
  },
  {
   "cell_type": "markdown",
   "metadata": {
    "slideshow": {
     "slide_type": "fragment"
    }
   },
   "source": [
    "- When these systematic differences lead researchers astray, they are called **confounding factors**."
   ]
  },
  {
   "cell_type": "markdown",
   "metadata": {
    "slideshow": {
     "slide_type": "fragment"
    }
   },
   "source": [
    "- Such differences are often present in observational studies.\n",
    "    - **Observational study**: the researcher does not choose which subjects receive the treatment.\n",
    "    - **Controlled experiment**: the researcher designs a procedure for selecting the treatment and control groups."
   ]
  },
  {
   "cell_type": "markdown",
   "metadata": {
    "slideshow": {
     "slide_type": "slide"
    }
   },
   "source": [
    "### Randomize!"
   ]
  },
  {
   "cell_type": "markdown",
   "metadata": {
    "slideshow": {
     "slide_type": "fragment"
    }
   },
   "source": [
    "- When subjects are split up **randomly**, it's unlikely that there will be systematic differences between the groups."
   ]
  },
  {
   "cell_type": "markdown",
   "metadata": {
    "slideshow": {
     "slide_type": "fragment"
    }
   },
   "source": [
    "- And it's possible to account for the chance of a difference."
   ]
  },
  {
   "cell_type": "markdown",
   "metadata": {
    "slideshow": {
     "slide_type": "fragment"
    }
   },
   "source": [
    "- Therefore, **randomized controlled experiments** are the most reliable way to establish causal relations."
   ]
  },
  {
   "cell_type": "markdown",
   "metadata": {
    "slideshow": {
     "slide_type": "slide"
    }
   },
   "source": [
    "### Next time\n",
    "\n",
    "On Friday, we'll switch gears and start programming in Python."
   ]
  },
  {
   "cell_type": "markdown",
   "metadata": {
    "slideshow": {
     "slide_type": "slide"
    }
   },
   "source": [
    "### Field trip ✈️\n",
    "\n",
    "<div align=center>\n",
    "<img src=\"images/pump-suraj.png\" width=600>\n",
    "</div>\n",
    "\n",
    "Further reading: [The Medical Detective: John Snow, Cholera and the Mystery of the Broad Street Pump](https://www.amazon.com/gp/product/1862079374/ref=dbs_a_def_rwt_hsch_vapi_taft_p1_i2)"
   ]
  }
 ],
 "metadata": {
  "celltoolbar": "Slideshow",
  "kernelspec": {
   "display_name": "Python 3 (ipykernel)",
   "language": "python",
   "name": "python3"
  },
  "language_info": {
   "codemirror_mode": {
    "name": "ipython",
    "version": 3
   },
   "file_extension": ".py",
   "mimetype": "text/x-python",
   "name": "python",
   "nbconvert_exporter": "python",
   "pygments_lexer": "ipython3",
   "version": "3.9.7"
  }
 },
 "nbformat": 4,
 "nbformat_minor": 4
}
