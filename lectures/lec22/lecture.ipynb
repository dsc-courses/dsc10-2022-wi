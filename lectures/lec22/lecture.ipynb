{
 "cells": [
  {
   "cell_type": "code",
   "execution_count": null,
   "metadata": {
    "slideshow": {
     "slide_type": "skip"
    }
   },
   "outputs": [],
   "source": [
    "# Imports\n",
    "import babypandas as bpd\n",
    "import numpy as np\n",
    "\n",
    "import matplotlib.pyplot as plt\n",
    "plt.style.use('fivethirtyeight')\n",
    "\n",
    "# Animations\n",
    "from IPython.display import display, IFrame\n",
    "\n",
    "def normal_curve(x, mu=0, sigma=1):\n",
    "    return 1 / np.sqrt(2*np.pi) * np.exp(-(x - mu)**2/(2 * sigma**2))\n",
    "\n",
    "def normal_area(a, b, bars=False):\n",
    "    x = np.linspace(-4, 4)\n",
    "    y = normal_curve(x)\n",
    "    ix = (x >= a) & (x <= b)\n",
    "    plt.plot(x, y, color='black')\n",
    "    plt.fill_between(x[ix], y[ix], color='gold')\n",
    "    if bars:\n",
    "        plt.axvline(a, color='red')\n",
    "        plt.axvline(b, color='red')\n",
    "    plt.title(f'Area between {np.round(a, 2)} and {np.round(b, 2)}')\n",
    "\n",
    "def show_clt_slides():\n",
    "    src = \"https://docs.google.com/presentation/d/e/2PACX-1vTcJd3U1H1KoXqBFcWGKFUPjZbeW4oiNZZLCFY8jqvSDsl4L1rRTg7980nPs1TGCAecYKUZxH5MZIBh/embed?start=false&loop=false&delayms=3000\"\n",
    "    width = 960\n",
    "    height = 509\n",
    "    display(IFrame(src, width, height))"
   ]
  },
  {
   "cell_type": "markdown",
   "metadata": {
    "slideshow": {
     "slide_type": "slide"
    }
   },
   "source": [
    "# Lecture 22 – The Central Limit Theorem \n",
    "## DSC 10, Winter 2022"
   ]
  },
  {
   "cell_type": "markdown",
   "metadata": {
    "slideshow": {
     "slide_type": "slide"
    }
   },
   "source": [
    "### Announcements\n",
    "\n",
    "- Lab 7 is due **tomorrow 3/1 at 11:59pm**.\n",
    "- Homework 7 is due on **Saturday 3/5 at 11:59pm**.\n",
    "- The Final Project is due on **Wednesday 3/9 at 11:59pm** ‼️\n",
    "    - Start if you haven't already!\n",
    "- Lab 8 (the final assignment of the quarter) will be released soon and will be due on **Thursday 3/10 at 11:59pm**.\n",
    "- **Important:** lecture on Wednesday 3/2 and Friday 3/4 will be Zoom-only."
   ]
  },
  {
   "cell_type": "markdown",
   "metadata": {
    "slideshow": {
     "slide_type": "slide"
    }
   },
   "source": [
    "### Agenda\n",
    "\n",
    "- The Central Limit Theorem (CLT).\n",
    "- Using the CLT to make confidence intervals."
   ]
  },
  {
   "cell_type": "markdown",
   "metadata": {
    "slideshow": {
     "slide_type": "slide"
    }
   },
   "source": [
    "### Discussion Question\n",
    "\n",
    "SAT scores range from 0 to 1600. They are normally distributed with a mean of 950 and a standard deviation of 300. Your friend tells you that their SAT score, in standard units, is 2.5. What do you conclude?\n",
    "\n",
    "- A. Your friend is really smart.\n",
    "- B. Your friend is lying.\n",
    "\n",
    "### To answer, go to [menti.com](https://menti.com) and enter the code 9623 5175."
   ]
  },
  {
   "cell_type": "markdown",
   "metadata": {
    "slideshow": {
     "slide_type": "slide"
    }
   },
   "source": [
    "## The Central Limit Theorem"
   ]
  },
  {
   "cell_type": "markdown",
   "metadata": {
    "slideshow": {
     "slide_type": "slide"
    }
   },
   "source": [
    "### Something to think about...\n",
    "\n",
    "- When looking at the empirical distribution of a statistic, we've often seen a bell curve – even when the original population did not resemble a bell curve.\n",
    "- Why is that? 🤔"
   ]
  },
  {
   "cell_type": "markdown",
   "metadata": {
    "slideshow": {
     "slide_type": "slide"
    }
   },
   "source": [
    "### The Central Limit Theorem\n",
    "\n",
    "> The Central Limit Theorem (CLT) says that the probability distribution of the **sum or average** of a large random sample drawn with replacement will be roughly normal, regardless of the distribution of the population from which the sample is drawn."
   ]
  },
  {
   "cell_type": "markdown",
   "metadata": {
    "slideshow": {
     "slide_type": "slide"
    }
   },
   "source": [
    "### Example: Scratch-off lottery tickets\n",
    "\n",
    "The DataFrame below shows the probability of each prize amount for a lottery ticket."
   ]
  },
  {
   "cell_type": "code",
   "execution_count": null,
   "metadata": {},
   "outputs": [],
   "source": [
    "lottery = bpd.DataFrame().assign(\n",
    "    Prize=[0, 1, 5, 20, 50],\n",
    "    Probability=[0.4, 0.3, 0.2, 0.05, 0.05]\n",
    ")\n",
    "lottery"
   ]
  },
  {
   "cell_type": "markdown",
   "metadata": {
    "slideshow": {
     "slide_type": "slide"
    }
   },
   "source": [
    "### Calculating gain or loss\n",
    "\n",
    "- Each ticket costs $5, no matter how much you win. Let's subtract this from the prize.\n",
    "- The distribution of payout is not at all normal."
   ]
  },
  {
   "cell_type": "code",
   "execution_count": null,
   "metadata": {},
   "outputs": [],
   "source": [
    "lottery = lottery.assign(Payout=lottery.get('Prize') - 5)\n",
    "lottery"
   ]
  },
  {
   "cell_type": "code",
   "execution_count": null,
   "metadata": {},
   "outputs": [],
   "source": [
    "plt.figure(figsize=(10, 5))\n",
    "plt.bar([-5, -4, 0, 15, 45], [0.4, 0.3, 0.2, 0.05, 0.05], width=1, ec='w')\n",
    "plt.xticks(np.arange(-5, 50, 5))\n",
    "plt.title('Distribution of Payout for a Single Ticket');"
   ]
  },
  {
   "cell_type": "markdown",
   "metadata": {},
   "source": [
    "Note that using math you will learn in future courses, you can show that the amount you should \"expect\" to win each time you buy a ticket is -\\\\$0.20."
   ]
  },
  {
   "cell_type": "markdown",
   "metadata": {
    "slideshow": {
     "slide_type": "slide"
    }
   },
   "source": [
    "### Simulating one lottery ticket\n",
    "\n",
    "- Choose a payout according to the probability distribution.\n",
    "    - Payout \\\\$45 with probability 0.05, \\\\$15 with probability 0.05, etc.\n",
    "- `np.random.choice` accepts an array of probabilities."
   ]
  },
  {
   "cell_type": "code",
   "execution_count": null,
   "metadata": {},
   "outputs": [],
   "source": [
    "np.random.choice(lottery.get('Payout'), p=lottery.get('Probability'))"
   ]
  },
  {
   "cell_type": "markdown",
   "metadata": {
    "slideshow": {
     "slide_type": "slide"
    }
   },
   "source": [
    "### Simulating 100 tickets\n",
    "\n",
    "- How much do you win/lose after buying 100 tickets?\n",
    "- In other words, what are your total winnings?"
   ]
  },
  {
   "cell_type": "code",
   "execution_count": null,
   "metadata": {},
   "outputs": [],
   "source": [
    "payouts = np.array(lottery.get('Payout'))\n",
    "probs = np.array(lottery.get('Probability'))\n",
    "\n",
    "def buy_k_tickets(k):\n",
    "    winnings = np.array([])\n",
    "    \n",
    "    for i in np.arange(k):\n",
    "        won = np.random.choice(payouts, p=probs)\n",
    "        winnings = np.append(winnings, won)\n",
    "        \n",
    "    return winnings"
   ]
  },
  {
   "cell_type": "code",
   "execution_count": null,
   "metadata": {},
   "outputs": [],
   "source": [
    "buy_k_tickets(100).sum() # A sample sum"
   ]
  },
  {
   "cell_type": "markdown",
   "metadata": {
    "slideshow": {
     "slide_type": "slide"
    }
   },
   "source": [
    "### Repeating the experiment\n",
    "\n",
    "- After purchasing 100 tickets, your total winnings are a number.\n",
    "- But each payout was random, and so total winnings are also random, and hence could have been different...\n",
    "- Total winnings come from some distribution.\n",
    "    - If we had access to this distribution, we could determine exactly the probability that our total winnings after buying 100 tickets is $X$, for any value of $X$.\n",
    "- We can approximate this distribution through simulation."
   ]
  },
  {
   "cell_type": "markdown",
   "metadata": {
    "slideshow": {
     "slide_type": "slide"
    }
   },
   "source": [
    "### Repeating the experiment"
   ]
  },
  {
   "cell_type": "code",
   "execution_count": null,
   "metadata": {
    "slideshow": {
     "slide_type": "-"
    }
   },
   "outputs": [],
   "source": [
    "distribution = np.array([])\n",
    "n_repetitions = 1000\n",
    "\n",
    "for i in np.arange(n_repetitions):\n",
    "    winnings = buy_k_tickets(100).sum()\n",
    "    distribution = np.append(distribution, winnings)"
   ]
  },
  {
   "cell_type": "code",
   "execution_count": null,
   "metadata": {},
   "outputs": [],
   "source": [
    "distribution"
   ]
  },
  {
   "cell_type": "markdown",
   "metadata": {
    "slideshow": {
     "slide_type": "slide"
    }
   },
   "source": [
    "### Visualizing"
   ]
  },
  {
   "cell_type": "code",
   "execution_count": null,
   "metadata": {
    "slideshow": {
     "slide_type": ""
    }
   },
   "outputs": [],
   "source": [
    "bpd.DataFrame().assign(TotalWinnings=distribution).plot(kind='hist', density=True, bins=20, ec='w',\n",
    "                                                        title='Distribution of Total Winnings for 100 tickets',\n",
    "                                                        figsize=(10, 5));"
   ]
  },
  {
   "cell_type": "markdown",
   "metadata": {
    "slideshow": {
     "slide_type": "fragment"
    }
   },
   "source": [
    "- This looks somewhat normal!\n",
    "- Note that this distribution is centered near -20, which is -0.2 (the amount we expect to win each time individually) * 100 (the number of tickets we purchased)."
   ]
  },
  {
   "cell_type": "code",
   "execution_count": null,
   "metadata": {},
   "outputs": [],
   "source": [
    "np.mean(distribution)"
   ]
  },
  {
   "cell_type": "markdown",
   "metadata": {
    "slideshow": {
     "slide_type": "slide"
    }
   },
   "source": [
    "### Discussion Question\n",
    "\n",
    "Is the shape of this distribution explained by the Central Limit Theorem?\n",
    "\n",
    "- A. Yes, because it is the distribution of a sample mean.\n",
    "- B. Yes, because it is the distribution of a sample sum.\n",
    "- C. No, because it is the distribution of money won.\n",
    "- D. No, because we're not sampling from a population.\n",
    "\n",
    "### To answer, go to [menti.com](https://menti.com) and enter the code 9623 5175."
   ]
  },
  {
   "cell_type": "markdown",
   "metadata": {
    "slideshow": {
     "slide_type": "slide"
    }
   },
   "source": [
    "### Discussion Question\n",
    "\n",
    "How will the distribution change if the experiment were repeated, but with 400 tickets instead of 100?\n",
    "\n",
    "- A. It will get narrower but stay centered in the same position on the $x$-axis.\n",
    "- B. It will get narrower and shift to the left.\n",
    "- C. It will get wider but stay centered in the same position on the $x$-axis.\n",
    "- D. It will get wider and shift to the left.\n",
    "\n",
    "### To answer, go to [menti.com](https://menti.com) and enter the code 9623 5175."
   ]
  },
  {
   "cell_type": "markdown",
   "metadata": {
    "slideshow": {
     "slide_type": "slide"
    }
   },
   "source": [
    "### Answer (don't run this before answering the question 😡)"
   ]
  },
  {
   "cell_type": "code",
   "execution_count": null,
   "metadata": {
    "slideshow": {
     "slide_type": ""
    }
   },
   "outputs": [],
   "source": [
    "distribution_400 = np.array([])\n",
    "n_repetitions = 1000\n",
    "\n",
    "for i in np.arange(n_repetitions):\n",
    "    winnings = buy_k_tickets(400).sum()\n",
    "    distribution_400 = np.append(distribution_400, winnings)"
   ]
  },
  {
   "cell_type": "code",
   "execution_count": null,
   "metadata": {},
   "outputs": [],
   "source": [
    "distribution_400"
   ]
  },
  {
   "cell_type": "markdown",
   "metadata": {
    "slideshow": {
     "slide_type": "slide"
    }
   },
   "source": [
    "### Answer"
   ]
  },
  {
   "cell_type": "code",
   "execution_count": null,
   "metadata": {
    "scrolled": true
   },
   "outputs": [],
   "source": [
    "bins = np.arange(-800, 800, 50)\n",
    "plt.figure(figsize=(10, 5))\n",
    "plt.hist(distribution_400, color='C1', bins=bins, density=True, ec='w', label='400');\n",
    "plt.hist(distribution, bins=bins, density=True, alpha=.75, ec='w', label='100');\n",
    "plt.title('Distribution of Total Winnings for 100 and 400 tickets')\n",
    "plt.legend();"
   ]
  },
  {
   "cell_type": "markdown",
   "metadata": {
    "slideshow": {
     "slide_type": "fragment"
    }
   },
   "source": [
    "- Note that we're looking at the distribution of sample sums, not sample means.\n",
    "- When buying 400 tickets, we can win more AND lose more than we could when just buying 100 tickets."
   ]
  },
  {
   "cell_type": "code",
   "execution_count": null,
   "metadata": {},
   "outputs": [],
   "source": [
    "# Close to -0.2 * 400\n",
    "np.mean(distribution_400)"
   ]
  },
  {
   "cell_type": "markdown",
   "metadata": {
    "slideshow": {
     "slide_type": "slide"
    }
   },
   "source": [
    "### Example: flight delays"
   ]
  },
  {
   "cell_type": "code",
   "execution_count": null,
   "metadata": {
    "scrolled": true
   },
   "outputs": [],
   "source": [
    "flights = bpd.read_csv('data/united_summer2015.csv').get(['Delay'])"
   ]
  },
  {
   "cell_type": "code",
   "execution_count": null,
   "metadata": {},
   "outputs": [],
   "source": [
    "flights.plot(kind='hist', y='Delay', bins=np.arange(-20, 200, 5), density=True, ec='w', figsize=(10, 5), title='Population Distribution of Flight Delays');"
   ]
  },
  {
   "cell_type": "markdown",
   "metadata": {
    "slideshow": {
     "slide_type": "slide"
    }
   },
   "source": [
    "Note that the population mean is around 16.66."
   ]
  },
  {
   "cell_type": "code",
   "execution_count": null,
   "metadata": {},
   "outputs": [],
   "source": [
    "pop_mean = flights.get('Delay').mean()\n",
    "pop_mean"
   ]
  },
  {
   "cell_type": "markdown",
   "metadata": {},
   "source": [
    "What happens if we repeatedly sample from the population and compute the mean?"
   ]
  },
  {
   "cell_type": "code",
   "execution_count": null,
   "metadata": {},
   "outputs": [],
   "source": [
    "n_samples = 1000\n",
    "\n",
    "sample_means = np.array([])\n",
    "\n",
    "for i in np.arange(n_samples):\n",
    "    sample = flights.sample(2000, replace=True)\n",
    "    sample_mean = sample.get('Delay').mean()\n",
    "    sample_means = np.append(sample_means, sample_mean)\n",
    "    \n",
    "bpd.DataFrame().assign(SampleMeans=sample_means).plot(kind='hist', bins=20, density=True, \n",
    "                                                      ec='w', figsize=(10, 5), title='Distribution of Flight Delay Sample Means');\n",
    "plt.xlabel('Average Delay Time in a Sample of Flights')\n",
    "plt.axvline(pop_mean, color='red', label='Population Mean')\n",
    "plt.legend();"
   ]
  },
  {
   "cell_type": "markdown",
   "metadata": {
    "slideshow": {
     "slide_type": "slide"
    }
   },
   "source": [
    "### Shape, center, and spread of the distribution of sample mean\n",
    "\n",
    "- The CLT says that the distribution of the means of random samples is roughly normal, no matter what the population looks like.\n",
    "- This distribution is centered at the population mean.\n",
    "- What is the spread of the distribution of the sample mean?"
   ]
  },
  {
   "cell_type": "markdown",
   "metadata": {
    "slideshow": {
     "slide_type": "slide"
    }
   },
   "source": [
    "The function `sample_mean_delays` takes a sample of size `sample_size`, computes the mean of that sample, and repeats this process `n_samples` times."
   ]
  },
  {
   "cell_type": "code",
   "execution_count": null,
   "metadata": {
    "slideshow": {
     "slide_type": "-"
    }
   },
   "outputs": [],
   "source": [
    "def sample_mean_delays(sample_size, n_samples=2000):\n",
    "    sample_means = np.array([])\n",
    "    for i in np.arange(n_samples):\n",
    "        sample = flights.sample(sample_size)\n",
    "        sample_mean = sample.get('Delay').mean()\n",
    "        sample_means = np.append(sample_means, sample_mean)\n",
    "    return sample_means"
   ]
  },
  {
   "cell_type": "markdown",
   "metadata": {
    "slideshow": {
     "slide_type": "slide"
    }
   },
   "source": [
    "Let's repeat our experiment using many different sample sizes."
   ]
  },
  {
   "cell_type": "code",
   "execution_count": null,
   "metadata": {
    "slideshow": {
     "slide_type": "-"
    }
   },
   "outputs": [],
   "source": [
    "sample_means = {}\n",
    "sample_sizes = [100, 200, 400, 800, 1600]\n",
    "\n",
    "for size in sample_sizes:\n",
    "    sample_means[size] = sample_mean_delays(size)"
   ]
  },
  {
   "cell_type": "code",
   "execution_count": null,
   "metadata": {
    "slideshow": {
     "slide_type": "slide"
    }
   },
   "outputs": [],
   "source": [
    "# Plot the resulting distributions\n",
    "bins = np.arange(5, 30)\n",
    "for size in sample_sizes:\n",
    "    columns = {f'Sample Mean, \\nsize = {size}': sample_means[size]}\n",
    "    bpd.DataFrame().assign(**columns).plot(kind='hist', bins=bins, density=True, ec='w');"
   ]
  },
  {
   "cell_type": "markdown",
   "metadata": {},
   "source": [
    "What do you notice? 🤔"
   ]
  },
  {
   "cell_type": "markdown",
   "metadata": {
    "slideshow": {
     "slide_type": "slide"
    }
   },
   "source": [
    "### Spread of the sample mean's distribution\n",
    "\n",
    "- As we increase our sample size, the spread of the sample mean's distribution decreases.\n",
    "- Can we determine exactly how much it decreases by?"
   ]
  },
  {
   "cell_type": "code",
   "execution_count": null,
   "metadata": {
    "slideshow": {
     "slide_type": "-"
    }
   },
   "outputs": [],
   "source": [
    "# Compute the standard deviation of each distribution\n",
    "sds = np.array([])\n",
    "for size in sample_sizes:\n",
    "    sd = np.std(sample_means[size])\n",
    "    sds = np.append(sds, sd)\n",
    "    \n",
    "sds"
   ]
  },
  {
   "cell_type": "code",
   "execution_count": null,
   "metadata": {
    "slideshow": {
     "slide_type": "slide"
    }
   },
   "outputs": [],
   "source": [
    "observed = bpd.DataFrame().assign(\n",
    "    SampleSize=sample_sizes,\n",
    "    StandardDeviation=sds\n",
    ")\n",
    "\n",
    "observed.plot(kind='scatter', x='SampleSize', y='StandardDeviation', s=70, title='Standard Deviation vs. Sample Size', figsize=(10, 5));"
   ]
  },
  {
   "cell_type": "markdown",
   "metadata": {
    "slideshow": {
     "slide_type": "slide"
    }
   },
   "source": [
    "### CLT for the sample mean\n",
    "\n",
    "- The distribution of the sample mean of random samples is roughly normal.\n",
    "- It is centered at the population mean.\n",
    "- Its standard deviation is:\n",
    "$$\\text{SD of Distribution of Possible Sample Means} = \\frac{\\text{Population SD}}{\\sqrt{\\text{sample size}}}$$\n",
    "\n",
    "- This is sometimes called the **square root law**.\n",
    "\n",
    "- **Note:** this is **not** saying anything about the standard deviation of a sample itself! It is a statement about the distribution of all possible sample means."
   ]
  },
  {
   "cell_type": "markdown",
   "metadata": {
    "slideshow": {
     "slide_type": "slide"
    }
   },
   "source": [
    "Let's see how well this formula works in action. `clt_standard_deviation` computes the SD of the sample mean distribution for any sample size."
   ]
  },
  {
   "cell_type": "code",
   "execution_count": null,
   "metadata": {
    "slideshow": {
     "slide_type": "-"
    }
   },
   "outputs": [],
   "source": [
    "def clt_standard_deviation(n):\n",
    "    pop_sd = np.std(flights.get('Delay'))\n",
    "    return pop_sd / np.sqrt(n)"
   ]
  },
  {
   "cell_type": "code",
   "execution_count": null,
   "metadata": {
    "slideshow": {
     "slide_type": "slide"
    }
   },
   "outputs": [],
   "source": [
    "observed.plot(kind='scatter', x='SampleSize', y='StandardDeviation', s=70, zorder=10, title='Standard Deviation vs. Sample Size', figsize=(10, 5), label='Observed SDs');\n",
    "x = np.linspace(100, 1600)\n",
    "y = clt_standard_deviation(x)\n",
    "plt.plot(x, y, color='C1', label='Square root law')\n",
    "plt.legend();"
   ]
  },
  {
   "cell_type": "markdown",
   "metadata": {
    "slideshow": {
     "slide_type": "slide"
    }
   },
   "source": [
    "### Recap: The Central Limit Theorem\n",
    "\n",
    "Suppose we draw a sample of 500 flights and find the mean flight delay.\n",
    "\n",
    "There are three distributions involved:\n",
    "\n",
    "- The population (we don't see this).\n",
    "- The sample (we see this).\n",
    "- Distribution of the sample mean (we don't see this directly, because we only collected one sample).\n",
    "    - a.k.a, sampling distribution of the mean.\n",
    "    - a.k.a, empirical distribution of the sample mean.\n",
    "    - So far, we've used the bootstrap to approximate this."
   ]
  },
  {
   "cell_type": "code",
   "execution_count": null,
   "metadata": {
    "slideshow": {
     "slide_type": "slide"
    }
   },
   "outputs": [],
   "source": [
    "show_clt_slides()"
   ]
  },
  {
   "cell_type": "markdown",
   "metadata": {
    "slideshow": {
     "slide_type": "slide"
    }
   },
   "source": [
    "### The population (we don't see this)"
   ]
  },
  {
   "cell_type": "code",
   "execution_count": null,
   "metadata": {},
   "outputs": [],
   "source": [
    "flights.plot(kind='hist', y='Delay', bins=np.arange(-20, 200, 5), density=True, ec='w', figsize=(10, 5), title='Population Distribution of Flight Delays');"
   ]
  },
  {
   "cell_type": "markdown",
   "metadata": {
    "slideshow": {
     "slide_type": "slide"
    }
   },
   "source": [
    "### The population\n",
    "\n",
    "- We don't see:\n",
    "    - the population distribution,\n",
    "    - the population mean (fixed!),\n",
    "    - the population standard deviation (fixed!).\n",
    "- CLT doesn't say anything about this distribution."
   ]
  },
  {
   "cell_type": "markdown",
   "metadata": {
    "slideshow": {
     "slide_type": "slide"
    }
   },
   "source": [
    "### The sample"
   ]
  },
  {
   "cell_type": "code",
   "execution_count": null,
   "metadata": {},
   "outputs": [],
   "source": [
    "flights.sample(200).plot(kind='hist', y='Delay', bins=np.arange(-20, 200, 5), density=True, ec='w', figsize=(10, 5), title='Sample Distribution of Flight Delays');"
   ]
  },
  {
   "cell_type": "markdown",
   "metadata": {
    "slideshow": {
     "slide_type": "slide"
    }
   },
   "source": [
    "### The sample\n",
    "\n",
    "- We *do* see (or can calculate):\n",
    "    - the sample itself (random!),\n",
    "    - the sample's mean (random!),\n",
    "    - the sample's standard deviation (random!).\n",
    "- CLT doesn't say anything about this distribution, either."
   ]
  },
  {
   "cell_type": "markdown",
   "metadata": {
    "slideshow": {
     "slide_type": "slide"
    }
   },
   "source": [
    "### Distribution of the sample mean"
   ]
  },
  {
   "cell_type": "code",
   "execution_count": null,
   "metadata": {},
   "outputs": [],
   "source": [
    "bins = np.arange(5, 30)\n",
    "columns = {f'Sample Mean, \\nsize = {200}': sample_means[200]}\n",
    "bpd.DataFrame().assign(**columns).plot(kind='hist', bins=bins, density=True, ec='w', figsize=(10, 5), title='Distribution of Sample Mean');"
   ]
  },
  {
   "cell_type": "markdown",
   "metadata": {
    "slideshow": {
     "slide_type": "slide"
    }
   },
   "source": [
    "### Distribution of the sample mean\n",
    "\n",
    "- The distribution of the sample mean is roughly normal.\n",
    "- It is centered at population mean (fixed, unobserved).\n",
    "- Its standard deviation (fixed, unobserved):\n",
    "$$ \\text{SD of Distribution of Possible Sample Means} = \\frac{\\text{Population SD}}{\\sqrt{\\text{sample size}}}$$\n",
    "- **This** is the distribution that the CLT is talking about."
   ]
  },
  {
   "cell_type": "markdown",
   "metadata": {
    "slideshow": {
     "slide_type": "slide"
    }
   },
   "source": [
    "## Confidence intervals"
   ]
  },
  {
   "cell_type": "markdown",
   "metadata": {
    "slideshow": {
     "slide_type": "slide"
    }
   },
   "source": [
    "### Confidence intervals\n",
    "\n",
    "- Previously, we bootstrapped to construct confidence intervals.\n",
    "    - Strategy: collect one sample, repeatedly resample from it, calculate the statistic on each resample, and look at middle 95% of resampled statistics.\n",
    "- But, **if our statistic is the mean**, we can use the CLT.\n",
    "    - Computationally cheaper - no simulation required!\n",
    "- In both cases, we use just a single sample to construct our confidence interval."
   ]
  },
  {
   "cell_type": "markdown",
   "metadata": {
    "slideshow": {
     "slide_type": "slide"
    }
   },
   "source": [
    "### Collect a single sample and run the bootstrap"
   ]
  },
  {
   "cell_type": "code",
   "execution_count": null,
   "metadata": {},
   "outputs": [],
   "source": [
    "np.random.seed(23) # Ignore\n",
    "\n",
    "my_sample = flights.sample(400) # Only collecting one sample!\n",
    "my_sample_mean = my_sample.get('Delay').mean()\n",
    "my_sample_mean"
   ]
  },
  {
   "cell_type": "code",
   "execution_count": null,
   "metadata": {
    "slideshow": {
     "slide_type": "-"
    }
   },
   "outputs": [],
   "source": [
    "n_boot = 5000\n",
    "np.random.seed(4)\n",
    "boot_means = np.array([])\n",
    "\n",
    "for i in np.arange(n_boot):\n",
    "    resample = my_sample.sample(my_sample.shape[0], replace=True)\n",
    "    boot_mean = resample.get('Delay').mean()\n",
    "    boot_means = np.append(boot_means, boot_mean)"
   ]
  },
  {
   "cell_type": "code",
   "execution_count": null,
   "metadata": {},
   "outputs": [],
   "source": [
    "boot_means"
   ]
  },
  {
   "cell_type": "markdown",
   "metadata": {
    "slideshow": {
     "slide_type": "slide"
    }
   },
   "source": [
    "### Visualize the bootstrap"
   ]
  },
  {
   "cell_type": "code",
   "execution_count": null,
   "metadata": {
    "scrolled": true
   },
   "outputs": [],
   "source": [
    "bpd.DataFrame().assign(BootMeans=boot_means).plot(kind='hist', y='BootMeans', bins=30, density=True, ec='w', figsize=(10, 5), title='Distribution of Bootstrapped Sample Means');"
   ]
  },
  {
   "cell_type": "markdown",
   "metadata": {},
   "source": [
    "- Note that this distribution is centered on the sample mean, not the population mean.\n",
    "    - Remember, we repeatedly resampled from the original sample, not the population."
   ]
  },
  {
   "cell_type": "code",
   "execution_count": null,
   "metadata": {},
   "outputs": [],
   "source": [
    "pop_mean"
   ]
  },
  {
   "cell_type": "code",
   "execution_count": null,
   "metadata": {},
   "outputs": [],
   "source": [
    "my_sample_mean"
   ]
  },
  {
   "cell_type": "markdown",
   "metadata": {
    "slideshow": {
     "slide_type": "slide"
    }
   },
   "source": [
    "### Construct a 95% confidence interval"
   ]
  },
  {
   "cell_type": "code",
   "execution_count": null,
   "metadata": {},
   "outputs": [],
   "source": [
    "left_boot = np.percentile(boot_means, 2.5)\n",
    "right_boot = np.percentile(boot_means, 97.5)\n",
    "[left_boot, right_boot]"
   ]
  },
  {
   "cell_type": "code",
   "execution_count": null,
   "metadata": {},
   "outputs": [],
   "source": [
    "bpd.DataFrame().assign(BootMeans=boot_means).plot(kind='hist', y='BootMeans', bins=30, density=True, ec='w', figsize=(10, 5), title='Distribution of Bootstrapped Sample Means');\n",
    "plt.plot([left_boot, right_boot], [0, 0], color='lime', linewidth=10, label='95% confidence interval');\n",
    "plt.legend();"
   ]
  },
  {
   "cell_type": "markdown",
   "metadata": {
    "slideshow": {
     "slide_type": "slide"
    }
   },
   "source": [
    "### What was the point of bootstrapping?\n",
    "\n",
    "- We bootstrapped to approximate the distribution of the sample mean.\n",
    "    - *How might the sample mean have been different if we'd collected a different sample?*\n",
    "- But the CLT tells us it is approximately normal!\n",
    "- We can use the CLT directly to construct CIs."
   ]
  },
  {
   "cell_type": "markdown",
   "metadata": {
    "slideshow": {
     "slide_type": "slide"
    }
   },
   "source": [
    "### A new approach to confidence intervals for population means\n",
    "\n",
    "- We know that the distribution of the sample mean is roughly normal.\n",
    "- This distribution is centered at the population mean.\n",
    "- The SD of the sample mean's distribution is\n",
    "$$\\text{SD of Distribution of Possible Sample Means} = \\frac{\\text{Population SD}}{\\sqrt{\\text{sample size}}}$$\n",
    "- Another issue is that we don't know the population's SD. Instead, we can use the sample's SD:\n",
    "$$\\text{SD of Distribution of Possible Sample Means} \\approx \\frac{\\text{Sample SD}}{\\sqrt{\\text{sample size}}}$$"
   ]
  },
  {
   "cell_type": "markdown",
   "metadata": {
    "slideshow": {
     "slide_type": "slide"
    }
   },
   "source": [
    "### The normal curve"
   ]
  },
  {
   "cell_type": "code",
   "execution_count": null,
   "metadata": {
    "slideshow": {
     "slide_type": ""
    }
   },
   "outputs": [],
   "source": [
    "# Draw the normal curve\n",
    "from scipy import stats\n",
    "my_sample_std = np.std(my_sample.get('Delay'))\n",
    "x = np.linspace(my_sample_mean - 3 * my_sample_std / 20, my_sample_mean + 3 * my_sample_std / 20, 1000)\n",
    "y = stats.norm.pdf(x, my_sample_mean, my_sample_std / 20)\n",
    "\n",
    "plt.figure(figsize=(10, 5))\n",
    "plt.plot(x, y, color='black', linestyle='-', label='normal curve')\n",
    "plt.scatter(my_sample_mean, 0, marker='^', color='C1', s=500, label='Sample mean', zorder=2)\n",
    "plt.legend(loc='upper right')\n",
    "plt.hist(boot_means, density=True, bins=30, ec='w');"
   ]
  },
  {
   "cell_type": "markdown",
   "metadata": {},
   "source": [
    "- Note that this normal curve isn't the \"standard normal\".\n",
    "     - It has a mean other than 0 and standard deviation other than 1.\n",
    "- But most of the properties we looked at before still apply."
   ]
  },
  {
   "cell_type": "markdown",
   "metadata": {
    "slideshow": {
     "slide_type": "slide"
    }
   },
   "source": [
    "### Recall: proportion within $z$ SDs of the mean\n",
    "\n",
    "|Percent in Range | All Distributions (via Chebyshev's Inequality) | Normal Distributions|\n",
    "|---|---|---|\n",
    "|$\\text{average} \\pm 1 \\ \\text{SD}$ | $\\geq 0\\%$ | $\\approx 68\\%$ |\n",
    "|$\\text{average} \\pm 2\\text{SDs}$ | $\\geq 75\\%$ | $\\approx 95\\%$ |\n",
    "|$\\text{average} \\pm 3\\text{SDs}$ | $\\geq 88\\%$ | $\\approx 99.73\\%$ |"
   ]
  },
  {
   "cell_type": "code",
   "execution_count": null,
   "metadata": {},
   "outputs": [],
   "source": [
    "normal_area(-2, 2, bars=True)"
   ]
  },
  {
   "cell_type": "markdown",
   "metadata": {
    "slideshow": {
     "slide_type": "slide"
    }
   },
   "source": [
    "### Computing a 95% confidence interval\n",
    "\n",
    "- Recall: Approximately 95% of the normal curve's area falls within $\\pm$ 2 SDs of the mean.\n",
    "- Don't confuse the **sample SD** with the **SD of the sample mean's distribution**!\n",
    "\n",
    "$$\\text{SD of Distribution of Possible Sample Means} \\approx \\frac{\\text{Sample SD}}{\\sqrt{\\text{sample size}}}$$"
   ]
  },
  {
   "cell_type": "code",
   "execution_count": null,
   "metadata": {},
   "outputs": [],
   "source": [
    "left_normal = my_sample_mean - 2 * my_sample_std / np.sqrt(400)\n",
    "right_normal = my_sample_mean + 2 * my_sample_std / np.sqrt(400)\n",
    "[left_normal, right_normal]"
   ]
  },
  {
   "cell_type": "markdown",
   "metadata": {
    "slideshow": {
     "slide_type": "slide"
    }
   },
   "source": [
    "### Visualizing this confidence interval"
   ]
  },
  {
   "cell_type": "code",
   "execution_count": null,
   "metadata": {},
   "outputs": [],
   "source": [
    "plt.figure(figsize=(10, 5))\n",
    "plt.plot(x, y, color='black', linestyle='--')\n",
    "plt.plot([left_normal, right_normal], [0, 0], color='darkgreen', zorder=1)\n",
    "plt.scatter(my_sample_mean, 0, marker='^', color='C1', zorder=2, s=80);"
   ]
  },
  {
   "cell_type": "markdown",
   "metadata": {
    "slideshow": {
     "slide_type": "slide"
    }
   },
   "source": [
    "### CLT-based confidence interval vs. bootstrap-based confidence interval"
   ]
  },
  {
   "cell_type": "code",
   "execution_count": null,
   "metadata": {},
   "outputs": [],
   "source": [
    "plt.figure(figsize=(10, 5))\n",
    "plt.plot(x, y, color='black', linestyle='--')\n",
    "plt.plot([left_normal, right_normal], [0, 0], color='darkgreen', zorder=1, label='Normal')\n",
    "plt.plot([left_boot, right_boot], [-.01, -.01], color='lime', label='Boot')\n",
    "plt.scatter(my_sample_mean, 0, marker='^', color='C1', zorder=2, s=80)\n",
    "plt.legend();"
   ]
  },
  {
   "cell_type": "markdown",
   "metadata": {},
   "source": [
    "- They're pretty similar!\n",
    "- But the only information the CLT-based confidence interval used was the sample mean (1 number), sample standard deviation (1 number), and sample size (1 number)."
   ]
  },
  {
   "cell_type": "markdown",
   "metadata": {
    "slideshow": {
     "slide_type": "slide"
    }
   },
   "source": [
    "### Recap: confidence intervals for population means\n",
    "\n",
    "An approximate 95% confidence interval for the population mean is given by\n",
    "\n",
    "$$\n",
    "\\left[\n",
    "\\text{sample mean} - 2\\cdot \\frac{\\text{sample SD}}{\\sqrt{n}},\n",
    "\\text{sample mean} + 2\\cdot \\frac{\\text{sample SD}}{\\sqrt{n}}\n",
    "\\right]\n",
    "$$"
   ]
  },
  {
   "cell_type": "markdown",
   "metadata": {
    "slideshow": {
     "slide_type": "slide"
    }
   },
   "source": [
    "### So... why do we ever need to bootstrap?\n",
    "\n",
    "- We can use the CLT to make CIs using sample means (and, as a result, sample proportions).\n",
    "- But the CLT doesn't apply to, for example, the median.\n",
    "- As a result, we have to bootstrap to find a CI for the median."
   ]
  },
  {
   "cell_type": "markdown",
   "metadata": {
    "slideshow": {
     "slide_type": "slide"
    }
   },
   "source": [
    "## Summary"
   ]
  },
  {
   "cell_type": "markdown",
   "metadata": {
    "slideshow": {
     "slide_type": "slide"
    }
   },
   "source": [
    "### Summary\n",
    "\n",
    "- The Central Limit Theorem (CLT) says that the probability distribution of the **sum or average** of a large random sample drawn with replacement will be roughly normal, regardless of the distribution of the population from which the sample is drawn.\n",
    "- Facts about the distribution of the sample mean:\n",
    "    - It is centered at the population mean.\n",
    "    - Its standard deviation is given by \n",
    "    \n",
    "    $$\\text{SD of Distribution of Possible Sample Means} = \\frac{\\text{Population SD}}{\\sqrt{\\text{sample size}}}$$\n",
    "    \n",
    "- If the population parameter we are interested in is the mean, we can create a confidence interval based on the CLT, using one sample.\n",
    "    - No bootstrapping needed!\n",
    "- **Next time:** experiment design.\n",
    "    - How large of a sample should we collect? 🤔"
   ]
  }
 ],
 "metadata": {
  "celltoolbar": "Slideshow",
  "kernelspec": {
   "display_name": "Python 3 (ipykernel)",
   "language": "python",
   "name": "python3"
  },
  "language_info": {
   "codemirror_mode": {
    "name": "ipython",
    "version": 3
   },
   "file_extension": ".py",
   "mimetype": "text/x-python",
   "name": "python",
   "nbconvert_exporter": "python",
   "pygments_lexer": "ipython3",
   "version": "3.9.7"
  },
  "livereveal": {
   "scroll": true,
   "transition": "none"
  }
 },
 "nbformat": 4,
 "nbformat_minor": 2
}
