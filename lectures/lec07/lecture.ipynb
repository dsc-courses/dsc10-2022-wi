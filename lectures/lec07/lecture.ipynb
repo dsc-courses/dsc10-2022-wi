{
 "cells": [
  {
   "cell_type": "markdown",
   "metadata": {
    "slideshow": {
     "slide_type": "slide"
    }
   },
   "source": [
    "# Lecture 7 –  Data Visualization 📈\n",
    "## DSC 10, Winter 2022"
   ]
  },
  {
   "cell_type": "markdown",
   "metadata": {
    "slideshow": {
     "slide_type": "slide"
    }
   },
   "source": [
    "### Announcements\n",
    "\n",
    "- Homework 2 is due on **Saturday 1/22 at 11:59pm**.\n",
    "- Lab 3 is due on **Tuesday, 1/25 at 11:59pm**.\n",
    "- Watch the [supplemental video](https://youtu.be/xg7rnjWnZ48) for Lecture 6 with answers to the challenge problems.\n",
    "    - Or look at [this post](https://campuswire.com/c/G6950E967/feed/78).\n",
    "- There was a [discussion walkthrough video](https://youtu.be/Q3mww8m3iIQ) posted yesterday. Watch it!"
   ]
  },
  {
   "cell_type": "markdown",
   "metadata": {
    "slideshow": {
     "slide_type": "slide"
    }
   },
   "source": [
    "### Agenda\n",
    "\n",
    "- Why visualize?\n",
    "- Terminology.\n",
    "- Scatter plots.\n",
    "- Line plots.\n",
    "- Bar charts.\n",
    "\n",
    "**Note:** Don't forget about the [resources](https://dsc10.com/resources) tab of the course website!"
   ]
  },
  {
   "cell_type": "markdown",
   "metadata": {
    "slideshow": {
     "slide_type": "skip"
    }
   },
   "source": [
    "Run the next 3 cells, don't worry about their content."
   ]
  },
  {
   "cell_type": "code",
   "execution_count": null,
   "metadata": {
    "slideshow": {
     "slide_type": "skip"
    }
   },
   "outputs": [],
   "source": [
    "# Run this cell.\n",
    "import babypandas as bpd\n",
    "import numpy as np\n",
    "import matplotlib.pyplot as plt\n",
    "import matplotlib as mpl\n",
    "\n",
    "plt.style.use('fivethirtyeight')\n",
    "\n",
    "from IPython.display import HTML, display, IFrame"
   ]
  },
  {
   "cell_type": "code",
   "execution_count": null,
   "metadata": {
    "slideshow": {
     "slide_type": "skip"
    }
   },
   "outputs": [],
   "source": [
    "chapters = open('data/lw.txt').read().split('CHAPTER ')[1:]"
   ]
  },
  {
   "cell_type": "code",
   "execution_count": null,
   "metadata": {
    "slideshow": {
     "slide_type": "skip"
    }
   },
   "outputs": [],
   "source": [
    "# Counts of names in the chapters of Little Women\n",
    "\n",
    "counts = bpd.DataFrame().assign(\n",
    "    Amy=np.char.count(chapters, 'Amy'),\n",
    "    Beth=np.char.count(chapters, 'Beth'),\n",
    "    Jo=np.char.count(chapters, 'Jo'),\n",
    "    Meg=np.char.count(chapters, 'Meg'),\n",
    "    Laurie=np.char.count(chapters, 'Laurie'),\n",
    ")\n",
    "counts\n",
    "\n",
    "# cumulative number of times each name appears\n",
    "\n",
    "lw_counts = bpd.DataFrame().assign(\n",
    "    Amy=np.cumsum(counts.get('Amy')),\n",
    "    Beth=np.cumsum(counts.get('Beth')),\n",
    "    Jo=np.cumsum(counts.get('Jo')),\n",
    "    Meg=np.cumsum(counts.get('Meg')),\n",
    "    Laurie=np.cumsum(counts.get('Laurie')),\n",
    "    Chapter=np.arange(1, 48, 1)\n",
    ")"
   ]
  },
  {
   "cell_type": "markdown",
   "metadata": {
    "slideshow": {
     "slide_type": "slide"
    }
   },
   "source": [
    "## Why visualize?"
   ]
  },
  {
   "cell_type": "markdown",
   "metadata": {
    "slideshow": {
     "slide_type": "slide"
    }
   },
   "source": [
    "### Little Women\n",
    "\n",
    "- Who is the main character?\n",
    "- Which pair of characters gets married in Chapter 35?"
   ]
  },
  {
   "cell_type": "code",
   "execution_count": null,
   "metadata": {
    "scrolled": true
   },
   "outputs": [],
   "source": [
    "lw_counts.plot(x='Chapter');"
   ]
  },
  {
   "cell_type": "markdown",
   "metadata": {
    "slideshow": {
     "slide_type": "slide"
    }
   },
   "source": [
    "### Napoleon's March"
   ]
  },
  {
   "cell_type": "markdown",
   "metadata": {},
   "source": [
    "<center><img src=\"./data/minard.jpg\"/></center>"
   ]
  },
  {
   "cell_type": "markdown",
   "metadata": {
    "slideshow": {
     "slide_type": "slide"
    }
   },
   "source": [
    "### John Snow"
   ]
  },
  {
   "cell_type": "markdown",
   "metadata": {},
   "source": [
    "<center><img src='data/map.jpg'></center>"
   ]
  },
  {
   "cell_type": "markdown",
   "metadata": {
    "slideshow": {
     "slide_type": "slide"
    }
   },
   "source": [
    "### Why visualize?\n",
    "\n",
    "- Information in DataFrames can be hard to interpret.\n",
    "- Visualizations make it easier to spot trends, gather insight, and communicate our results to others.\n",
    "- There are many types of visualizations: scatter plots, line plot, bar charts, etc.\n",
    "    - The right choice depends on the type of data."
   ]
  },
  {
   "cell_type": "markdown",
   "metadata": {
    "slideshow": {
     "slide_type": "slide"
    }
   },
   "source": [
    "## Terminology"
   ]
  },
  {
   "cell_type": "markdown",
   "metadata": {
    "slideshow": {
     "slide_type": "slide"
    }
   },
   "source": [
    "### Individuals and variables\n",
    "\n",
    "<center><img src='data/individuals-variables.png' width=800/></center>\n",
    "\n",
    "- **Individual (row)**: Person/place/thing for which data is recorded.\n",
    "- **Variable (column)**: Something that is recorded for each individual, a.k.a. a \"feature\"."
   ]
  },
  {
   "cell_type": "markdown",
   "metadata": {
    "slideshow": {
     "slide_type": "slide"
    }
   },
   "source": [
    "### Types of variables\n",
    "\n",
    "There are two main types of variables:\n",
    "\n",
    "- **Numerical**: It makes sense to do arithmetic with the values.\n",
    "- **Categorical**: Values fall into categories."
   ]
  },
  {
   "cell_type": "markdown",
   "metadata": {
    "slideshow": {
     "slide_type": "slide"
    }
   },
   "source": [
    "### Examples of numerical variables\n",
    "\n",
    "- Salaries of NBA players 🏀.\n",
    "    - An individual is an NBA player; the variable is salary.\n",
    "- Gross earnings of movies 💰.\n",
    "    - An individual is a movie; the variable is gross earnings.\n",
    "- Booster doses administered per day 💉.\n",
    "    - An individual is a date; the variable is number of booster doses administered that day."
   ]
  },
  {
   "cell_type": "markdown",
   "metadata": {
    "slideshow": {
     "slide_type": "slide"
    }
   },
   "source": [
    "### Examples of categorical variables\n",
    "\n",
    "- High schools of all students in DSC 10 🧑‍🎓.\n",
    "    - An individual is a student; the variable is high school.\n",
    "- Zip codes 🏠.\n",
    "    - An individual is a US resident; the variable is zip code.\n",
    "        - Even though they look like numbers, zip codes are categorical (arithmetic doesn't make sense).\n",
    "- Movie genres 🎬.\n",
    "    - An individual is a movie; the variable is genre."
   ]
  },
  {
   "cell_type": "markdown",
   "metadata": {
    "slideshow": {
     "slide_type": "slide"
    }
   },
   "source": [
    "### Types of visualizations\n",
    "\n",
    "The type of visualization we create depends on the kinds of variables we're visualizing.\n",
    "\n",
    "- **Scatter plot**: numerical vs. numerical.\n",
    "- **Line plot**: sequential numerical (time) vs. numerical.\n",
    "- **Bar chart**: categorical vs. numerical.\n",
    "- **Histogram**: distribution of numerical.\n",
    "    - Will cover next time.\n",
    "    \n",
    "**Note:** We may interchange the words \"plot\", \"chart\", and \"graph\"; they all mean the same thing."
   ]
  },
  {
   "cell_type": "markdown",
   "metadata": {
    "slideshow": {
     "slide_type": "slide"
    }
   },
   "source": [
    "### Discussion Question\n",
    "\n",
    "Which of these is **not** a numerical variable?\n",
    "\n",
    "A. Fuel economy in miles per gallon.\n",
    "\n",
    "B. Number of quarters at UCSD.\n",
    "\n",
    "C. College at UCSD (Sixth, Seventh, etc).\n",
    "\n",
    "D. Bank account number.\n",
    "\n",
    "E. More than one of these are not numerical variables.\n",
    "\n",
    "\n",
    "### To answer, go to **[menti.com](https://menti.com)** and enter the code **7882 3531**."
   ]
  },
  {
   "cell_type": "markdown",
   "metadata": {
    "slideshow": {
     "slide_type": "slide"
    }
   },
   "source": [
    "## Scatter plots"
   ]
  },
  {
   "cell_type": "markdown",
   "metadata": {
    "slideshow": {
     "slide_type": "slide"
    }
   },
   "source": [
    "### Dataset of 50 top-grossing actors"
   ]
  },
  {
   "cell_type": "markdown",
   "metadata": {
    "slideshow": {
     "slide_type": "-"
    }
   },
   "source": [
    "|Column |Contents|\n",
    "|----------|------------|\n",
    "Actor|Name of actor\n",
    "Total Gross|\tTotal gross domestic box office receipt, in millions of dollars, of all of the actor’s movies\n",
    "Number of Movies|\tThe number of movies the actor has been in\n",
    "Average per Movie|\tTotal gross divided by number of movies\n",
    "#1 Movie|\tThe highest grossing movie the actor has been in\n",
    "Gross|\tGross domestic box office receipt, in millions of dollars, of the actor’s #1 Movie"
   ]
  },
  {
   "cell_type": "code",
   "execution_count": null,
   "metadata": {
    "slideshow": {
     "slide_type": "slide"
    }
   },
   "outputs": [],
   "source": [
    "actors = bpd.read_csv('data/actors.csv').set_index('Actor')\n",
    "actors"
   ]
  },
  {
   "cell_type": "markdown",
   "metadata": {
    "slideshow": {
     "slide_type": "slide"
    }
   },
   "source": [
    "### Scatter plots\n",
    "\n",
    "What is the relationship between `'Number of Movies'` and `'Total Gross'`?"
   ]
  },
  {
   "cell_type": "code",
   "execution_count": null,
   "metadata": {},
   "outputs": [],
   "source": [
    "actors.plot(kind='scatter', x='Number of Movies', y='Total Gross');"
   ]
  },
  {
   "cell_type": "markdown",
   "metadata": {
    "slideshow": {
     "slide_type": "slide"
    }
   },
   "source": [
    "### Scatter plots\n",
    "\n",
    "- Scatter plots visualize the relationship between two numerical variables.\n",
    "- To create one from a DataFrame `df`, use\n",
    "```\n",
    "df.plot(\n",
    "    kind='scatter', \n",
    "    x=x_column_for_horizontal, \n",
    "    y=y_column_for_horizontal\n",
    ")\n",
    "```\n",
    "- The resulting scatter plot has one point per row of `df`.\n",
    "- If you put a semicolon after a call to `.plot`, it will hide the weird text output that displays."
   ]
  },
  {
   "cell_type": "markdown",
   "metadata": {
    "slideshow": {
     "slide_type": "slide"
    }
   },
   "source": [
    "### Scatter plots\n",
    "\n",
    "What is the relationship between `'Number of Movies'` and `'Average per Movie'`?"
   ]
  },
  {
   "cell_type": "code",
   "execution_count": null,
   "metadata": {},
   "outputs": [],
   "source": [
    "actors.plot(kind='scatter', x='Number of Movies', y='Average per Movie');"
   ]
  },
  {
   "cell_type": "markdown",
   "metadata": {
    "slideshow": {
     "slide_type": "fragment"
    }
   },
   "source": [
    "**What do you notice about the above plot?**"
   ]
  },
  {
   "cell_type": "markdown",
   "metadata": {
    "slideshow": {
     "slide_type": "fragment"
    }
   },
   "source": [
    "- There's a _negative_ association."
   ]
  },
  {
   "cell_type": "markdown",
   "metadata": {
    "slideshow": {
     "slide_type": "fragment"
    }
   },
   "source": [
    "- There's an outlier."
   ]
  },
  {
   "cell_type": "markdown",
   "metadata": {
    "slideshow": {
     "slide_type": "slide"
    }
   },
   "source": [
    "### Who was in 60 or more movies?"
   ]
  },
  {
   "cell_type": "code",
   "execution_count": null,
   "metadata": {},
   "outputs": [],
   "source": [
    "actors[actors.get('Number of Movies') >= 60]"
   ]
  },
  {
   "cell_type": "markdown",
   "metadata": {
    "slideshow": {
     "slide_type": "slide"
    }
   },
   "source": [
    "### Who is the outlier?\n",
    "\n",
    "Whoever they are, they made very few, high grossing movies."
   ]
  },
  {
   "cell_type": "code",
   "execution_count": null,
   "metadata": {},
   "outputs": [],
   "source": [
    "actors[actors.get('Number of Movies') < 10]"
   ]
  },
  {
   "cell_type": "markdown",
   "metadata": {
    "slideshow": {
     "slide_type": "slide"
    }
   },
   "source": [
    "<center><img src='data/c3po.png' width=200></center>"
   ]
  },
  {
   "cell_type": "markdown",
   "metadata": {
    "slideshow": {
     "slide_type": "slide"
    }
   },
   "source": [
    "## Line plots 📉"
   ]
  },
  {
   "cell_type": "markdown",
   "metadata": {
    "slideshow": {
     "slide_type": "slide"
    }
   },
   "source": [
    "### New dataset aggregating movies by year"
   ]
  },
  {
   "cell_type": "markdown",
   "metadata": {
    "slideshow": {
     "slide_type": "-"
    }
   },
   "source": [
    "|Column|\tContent|\n",
    "|------|-----------|\n",
    "Year|\tYear\n",
    "Total Gross|\tTotal domestic box office gross, in millions of dollars, of all movies released\n",
    "Number of Movies|\tNumber of movies released\n",
    "#1 Movie|\tHighest grossing movie"
   ]
  },
  {
   "cell_type": "code",
   "execution_count": null,
   "metadata": {
    "slideshow": {
     "slide_type": "slide"
    }
   },
   "outputs": [],
   "source": [
    "# Load in movies_by_year.csv\n",
    "movies_by_year = bpd.read_csv('data/movies_by_year.csv').set_index('Year')\n",
    "movies_by_year"
   ]
  },
  {
   "cell_type": "markdown",
   "metadata": {
    "slideshow": {
     "slide_type": "slide"
    }
   },
   "source": [
    "### Line plots\n",
    "\n",
    "- How has the number of movies changed over time? 🤔"
   ]
  },
  {
   "cell_type": "code",
   "execution_count": null,
   "metadata": {},
   "outputs": [],
   "source": [
    "movies_by_year.plot(kind='line', y='Number of Movies');"
   ]
  },
  {
   "cell_type": "markdown",
   "metadata": {
    "slideshow": {
     "slide_type": "slide"
    }
   },
   "source": [
    "### Line plots\n",
    "\n",
    "- Line plots show trends in numerical variables over time.\n",
    "- To create one from a DataFrame `df`, use\n",
    "```\n",
    "df.plot(\n",
    "    kind='line', \n",
    "    x=x_column_for_horizontal, \n",
    "    y=y_column_for_vertical\n",
    ")\n",
    "```"
   ]
  },
  {
   "cell_type": "markdown",
   "metadata": {
    "slideshow": {
     "slide_type": "slide"
    }
   },
   "source": [
    "### Plotting tip\n",
    "\n",
    "- **Tip**: if you want the x-axis to be the index, omit the `x=` argument!\n",
    "- Doesn't work for scatter plots, but works for most other plot types."
   ]
  },
  {
   "cell_type": "code",
   "execution_count": null,
   "metadata": {},
   "outputs": [],
   "source": [
    "movies_by_year.plot(kind='line', y='Number of Movies');"
   ]
  },
  {
   "cell_type": "markdown",
   "metadata": {
    "slideshow": {
     "slide_type": "slide"
    }
   },
   "source": [
    "### Focus on 2000-2015\n",
    "\n",
    "We can create a line plot of just 2000 to 2015 by querying `movies_by_year` before calling `.plot`."
   ]
  },
  {
   "cell_type": "code",
   "execution_count": null,
   "metadata": {
    "scrolled": true,
    "slideshow": {
     "slide_type": "-"
    }
   },
   "outputs": [],
   "source": [
    "movies_by_year[movies_by_year.index >= 2000].plot(kind='line', y='Number of Movies');"
   ]
  },
  {
   "cell_type": "markdown",
   "metadata": {},
   "source": [
    "Why is there a big drop between 2007 and 2009?"
   ]
  },
  {
   "cell_type": "markdown",
   "metadata": {
    "slideshow": {
     "slide_type": "slide"
    }
   },
   "source": [
    "### How did this affect total gross?"
   ]
  },
  {
   "cell_type": "code",
   "execution_count": null,
   "metadata": {},
   "outputs": [],
   "source": [
    "movies_by_year[movies_by_year.index >= 2000].plot(kind='line', y='Total Gross');"
   ]
  },
  {
   "cell_type": "markdown",
   "metadata": {
    "slideshow": {
     "slide_type": "slide"
    }
   },
   "source": [
    "### Trivia: what was the top grossing movie of 2009?\n",
    "\n",
    "A. Avatar\n",
    "\n",
    "B. Harry Potter and the Half-Blood Prince\n",
    "\n",
    "C. The Hangover\n",
    "\n",
    "D. Up\n",
    "\n",
    "### To answer, go to **[menti.com](https://menti.com)** and enter the code **7882 3531**."
   ]
  },
  {
   "cell_type": "markdown",
   "metadata": {
    "slideshow": {
     "slide_type": "slide"
    }
   },
   "source": [
    "### Answer"
   ]
  },
  {
   "cell_type": "code",
   "execution_count": null,
   "metadata": {
    "scrolled": true
   },
   "outputs": [],
   "source": [
    "..."
   ]
  },
  {
   "cell_type": "markdown",
   "metadata": {
    "slideshow": {
     "slide_type": "slide"
    }
   },
   "source": [
    "## Bar charts 📊"
   ]
  },
  {
   "cell_type": "markdown",
   "metadata": {
    "slideshow": {
     "slide_type": "slide"
    }
   },
   "source": [
    "### Dataset of the top 200 songs on Spotify as of Monday (1/17)\n",
    "\n",
    "[Downloaded from here – check it out!](https://spotifycharts.com/regional)"
   ]
  },
  {
   "cell_type": "code",
   "execution_count": null,
   "metadata": {},
   "outputs": [],
   "source": [
    "charts = bpd.read_csv('data/regional-global-daily-latest.csv').set_index('Position')\n",
    "charts"
   ]
  },
  {
   "cell_type": "markdown",
   "metadata": {
    "slideshow": {
     "slide_type": "slide"
    }
   },
   "source": [
    "### Bar charts\n",
    "\n",
    "How many streams do the top 15 songs have?"
   ]
  },
  {
   "cell_type": "code",
   "execution_count": null,
   "metadata": {},
   "outputs": [],
   "source": [
    "charts.take(np.arange(15))"
   ]
  },
  {
   "cell_type": "code",
   "execution_count": null,
   "metadata": {},
   "outputs": [],
   "source": [
    "charts.take(np.arange(15)).plot(kind='barh', x='Track Name', y='Streams');"
   ]
  },
  {
   "cell_type": "markdown",
   "metadata": {
    "slideshow": {
     "slide_type": "slide"
    }
   },
   "source": [
    "### Bar charts\n",
    "\n",
    "- Bar charts visualize the relationship between a categorical variable and a numerical variable.\n",
    "- In a bar chart...\n",
    "    - The thickness and spacing of bars is arbitrary.\n",
    "    - The order of the categorical labels doesn't matter.\n",
    "- To create one from a DataFrame `df`, use\n",
    "```\n",
    "df.plot(\n",
    "    kind='barh', \n",
    "    x=categorical_column_name, \n",
    "    y=numerical_column_name\n",
    ")\n",
    "```\n",
    "- The **\"h\"** in `'barh'` stands for **\"horizontal\"**.\n",
    "    - It's easier to read labels this way.\n",
    "- In the previous chart, we set `y='Streams'` even though streams are measured by x-axis length."
   ]
  },
  {
   "cell_type": "code",
   "execution_count": null,
   "metadata": {
    "slideshow": {
     "slide_type": "slide"
    }
   },
   "outputs": [],
   "source": [
    "# The bars appear in the opposite order relative to the DataFrame\n",
    "charts.take(np.arange(15)).sort_values(by='Streams').plot(kind='barh', x='Track Name', y='Streams');"
   ]
  },
  {
   "cell_type": "markdown",
   "metadata": {
    "slideshow": {
     "slide_type": "slide"
    }
   },
   "source": [
    "### How many songs do the top 15 artists have in the top 200?"
   ]
  },
  {
   "cell_type": "code",
   "execution_count": null,
   "metadata": {},
   "outputs": [],
   "source": [
    "# Create a DataFrame with a single column that describes the number of songs in the top 200 per artist.\n",
    "# Keep only the top 15 artists.\n",
    "\n",
    "top_15_artists = charts.groupby('Artist') \\\n",
    "                       .count() \\\n",
    "                       .sort_values(by='Streams', ascending=False) \\\n",
    "                       .take(np.arange(15)) \\\n",
    "                       .get(['Streams'])\n",
    "top_15_artists"
   ]
  },
  {
   "cell_type": "code",
   "execution_count": null,
   "metadata": {},
   "outputs": [],
   "source": [
    "# Relabel the column in top_15_artists to be Count.\n",
    "\n",
    "top_15_artists = top_15_artists.assign(Count=top_15_artists.get('Streams')).drop(columns=['Streams'])\n",
    "top_15_artists"
   ]
  },
  {
   "cell_type": "code",
   "execution_count": null,
   "metadata": {},
   "outputs": [],
   "source": [
    "# Again, weirdly, we have to sort in **ascending** order because\n",
    "# Python reverses the order of the rows before creating bars\n",
    "# (Only applies to horizontal bar charts)\n",
    "\n",
    "top_15_artists.sort_values(by='Count').plot(kind='barh', y='Count');"
   ]
  },
  {
   "cell_type": "markdown",
   "metadata": {
    "slideshow": {
     "slide_type": "slide"
    }
   },
   "source": [
    "### Vertical bar charts\n",
    "\n",
    "- Use `kind='bar'` instead of `kind='barh'`."
   ]
  },
  {
   "cell_type": "code",
   "execution_count": null,
   "metadata": {},
   "outputs": [],
   "source": [
    "top_15_artists.plot(kind='bar', y='Count');"
   ]
  },
  {
   "cell_type": "markdown",
   "metadata": {
    "slideshow": {
     "slide_type": "slide"
    }
   },
   "source": [
    "### Discussion Question\n",
    "\n",
    "Suppose we run the following block of code. What does the resulting bar chart tell us?\n",
    "\n",
    "```py\n",
    "mystery = charts.columns[1]\n",
    "charts.groupby(mystery).sum() \\\n",
    "      .sort_values(by='Streams', ascending=False) \\\n",
    "      .take(np.arange(10)) \\\n",
    "      .sort_values(by='Streams') \\\n",
    "      .plot(kind='barh', y='Streams');\n",
    "```\n",
    "\n",
    "A. The number of total streams for the top 10 artists in the charts.\n",
    "\n",
    "B. The number of total streams for the bottom 10 artists in the charts.\n",
    "\n",
    "C. The number of total streams for the top 10 songs in the charts.\n",
    "\n",
    "D. The number of total streams for the bottom 10 songs in the charts.\n",
    "\n",
    "E. Something else entirely.\n",
    "\n",
    "### To answer, go to **[menti.com](https://menti.com)** and enter the code **7882 3531**."
   ]
  },
  {
   "cell_type": "code",
   "execution_count": null,
   "metadata": {},
   "outputs": [],
   "source": [
    "..."
   ]
  },
  {
   "cell_type": "markdown",
   "metadata": {
    "slideshow": {
     "slide_type": "slide"
    }
   },
   "source": [
    "### How many streams did Justin Bieber's songs on the chart receive?"
   ]
  },
  {
   "cell_type": "code",
   "execution_count": null,
   "metadata": {},
   "outputs": [],
   "source": [
    "charts[charts.get('Artist') == 'Justin Bieber'].sort_values('Streams').plot(kind='barh', x='Track Name', y='Streams');"
   ]
  },
  {
   "cell_type": "markdown",
   "metadata": {},
   "source": [
    "It seems like we're forgetting a very popular song."
   ]
  },
  {
   "cell_type": "code",
   "execution_count": null,
   "metadata": {},
   "outputs": [],
   "source": [
    "charts"
   ]
  },
  {
   "cell_type": "markdown",
   "metadata": {
    "slideshow": {
     "slide_type": "slide"
    }
   },
   "source": [
    "### How do we include featured songs, as well?\n",
    "\n",
    "Answer: Using `.str.contains`."
   ]
  },
  {
   "cell_type": "code",
   "execution_count": null,
   "metadata": {},
   "outputs": [],
   "source": [
    "charts[charts.get('Track Name').str.contains('Justin Bieber')]"
   ]
  },
  {
   "cell_type": "code",
   "execution_count": null,
   "metadata": {},
   "outputs": [],
   "source": [
    "bieber = charts[(charts.get('Artist') == 'Justin Bieber') | (charts.get('Track Name').str.contains('Justin Bieber'))]\n",
    "bieber"
   ]
  },
  {
   "cell_type": "code",
   "execution_count": null,
   "metadata": {},
   "outputs": [],
   "source": [
    "bieber.sort_values('Streams').plot(kind='barh', x='Track Name', y='Streams');"
   ]
  },
  {
   "cell_type": "markdown",
   "metadata": {
    "slideshow": {
     "slide_type": "slide"
    }
   },
   "source": [
    "## Fun demo"
   ]
  },
  {
   "cell_type": "code",
   "execution_count": null,
   "metadata": {
    "slideshow": {
     "slide_type": "slide"
    }
   },
   "outputs": [],
   "source": [
    "# Run this cell, don't worry about what it does\n",
    "def show_spotify(url):\n",
    "    code = url[url.rfind('/')+1:]\n",
    "    src = f\"https://open.spotify.com/embed/track/{code}\"\n",
    "    width = 400\n",
    "    height = 75\n",
    "    display(IFrame(src, width, height))"
   ]
  },
  {
   "cell_type": "markdown",
   "metadata": {
    "slideshow": {
     "slide_type": "slide"
    }
   },
   "source": [
    "#### Let's find the URL of a song we care about."
   ]
  },
  {
   "cell_type": "code",
   "execution_count": null,
   "metadata": {
    "slideshow": {
     "slide_type": "-"
    }
   },
   "outputs": [],
   "source": [
    "charts"
   ]
  },
  {
   "cell_type": "code",
   "execution_count": null,
   "metadata": {},
   "outputs": [],
   "source": [
    "favorite_song = \"STAY (with Justin Bieber)\""
   ]
  },
  {
   "cell_type": "code",
   "execution_count": null,
   "metadata": {},
   "outputs": [],
   "source": [
    "song_url = charts[charts.get('Track Name') == favorite_song].get('URL').iloc[0]\n",
    "song_url"
   ]
  },
  {
   "cell_type": "markdown",
   "metadata": {
    "slideshow": {
     "slide_type": "slide"
    }
   },
   "source": [
    "Watch what happens! 🎶"
   ]
  },
  {
   "cell_type": "code",
   "execution_count": null,
   "metadata": {
    "scrolled": true,
    "slideshow": {
     "slide_type": "-"
    }
   },
   "outputs": [],
   "source": [
    "show_spotify(song_url);"
   ]
  },
  {
   "cell_type": "markdown",
   "metadata": {},
   "source": [
    "Try it out yourself!"
   ]
  },
  {
   "cell_type": "markdown",
   "metadata": {
    "slideshow": {
     "slide_type": "slide"
    }
   },
   "source": [
    "## Summary"
   ]
  },
  {
   "cell_type": "markdown",
   "metadata": {
    "slideshow": {
     "slide_type": "slide"
    }
   },
   "source": [
    "### Summary\n",
    "\n",
    "- Visualizations make it easy to extract patterns from datasets.\n",
    "- There are two main types of variables, categorical and numerical.\n",
    "- The types of the variables we're visualizing inform our choice of which type of visualization to use.\n",
    "- Today, we looked at scatter plots, line plots, and bar charts.\n",
    "- **Next time:** Histograms and overlaid plots."
   ]
  }
 ],
 "metadata": {
  "celltoolbar": "Slideshow",
  "kernelspec": {
   "display_name": "Python 3 (ipykernel)",
   "language": "python",
   "name": "python3"
  },
  "language_info": {
   "codemirror_mode": {
    "name": "ipython",
    "version": 3
   },
   "file_extension": ".py",
   "mimetype": "text/x-python",
   "name": "python",
   "nbconvert_exporter": "python",
   "pygments_lexer": "ipython3",
   "version": "3.9.7"
  },
  "livereveal": {
   "scroll": true
  }
 },
 "nbformat": 4,
 "nbformat_minor": 2
}
