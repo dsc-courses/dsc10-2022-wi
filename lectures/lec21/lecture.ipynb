{
 "cells": [
  {
   "cell_type": "code",
   "execution_count": null,
   "metadata": {
    "slideshow": {
     "slide_type": "skip"
    }
   },
   "outputs": [],
   "source": [
    "# Imports\n",
    "import babypandas as bpd\n",
    "import numpy as np\n",
    "\n",
    "import matplotlib.pyplot as plt\n",
    "plt.style.use('fivethirtyeight')\n",
    "\n",
    "# Animations\n",
    "from ipywidgets import interact"
   ]
  },
  {
   "cell_type": "markdown",
   "metadata": {
    "slideshow": {
     "slide_type": "slide"
    }
   },
   "source": [
    "# Lecture 21 – The Normal Curve\n",
    "\n",
    "## DSC 10, Winter 2022"
   ]
  },
  {
   "cell_type": "markdown",
   "metadata": {
    "slideshow": {
     "slide_type": "slide"
    }
   },
   "source": [
    "### Announcements\n",
    "\n",
    "- Homework 6 is due **tomorrow 2/26 at 11:59pm**.\n",
    "- Lab 7 is due **Tuesday 3/1 at 11:59pm**.\n",
    "- The Final Project is released, and is due on **Wednesday 3/9 at 11:59pm** ‼️\n",
    "    - Start early and come to office hours.\n",
    "    - You can work with a partner – use [this sheet](https://docs.google.com/spreadsheets/d/1m5eDcFdYTQq5bu9VRYINZBFgckCyJEOXZFZGZ9bQqKY/edit#gid=00) to find one, and follow the [pair programming guidelines](https://dsc10.com/pair-programming) if you do work with one.\n",
    "- The Grade Report on Gradescope has been updated to include Labs 1-6, Homeworks 1-5, the Midterm Exam, and the Midterm Project.\n",
    "    - The maximum current grade is 62.02%.\n",
    "- Check out this cool [permutation test visualization](https://www.jwilber.me/permutationtest/).\n",
    "- Consider taking Suraj's [History of Data Science](https://dsc-courses.github.io/dsc90-2022-wi/) seminar next quarter!"
   ]
  },
  {
   "cell_type": "markdown",
   "metadata": {
    "slideshow": {
     "slide_type": "slide"
    }
   },
   "source": [
    "### Agenda\n",
    "\n",
    "- The normal curve and its many properties.\n",
    "- Standard units and normal approximation.\n",
    "- Revisit center and spread in the context of the normal curve.\n",
    "- Introduction to the Central Limit Theorem."
   ]
  },
  {
   "cell_type": "markdown",
   "metadata": {
    "slideshow": {
     "slide_type": "slide"
    }
   },
   "source": [
    "### Review Question\n",
    "\n",
    "> For a particular set of data points, Chebyshev's inequality states that at least $\\frac{8}{9}$ of the data points are between -20 and 40. What is the standard deviation of the data?"
   ]
  },
  {
   "cell_type": "markdown",
   "metadata": {
    "slideshow": {
     "slide_type": "slide"
    }
   },
   "source": [
    "### Review Question, solved\n",
    "\n",
    "> For a particular set of data points, Chebyshev's inequality states that at least $\\frac{8}{9}$ of the data points are between -20 and 40. What is the standard deviation of the data?\n",
    "\n",
    "- Chebyshev's inequality states that at least $1 - \\frac{1}{z^2}$ of values are within $z$ standard deviations of the mean.\n",
    "- When $z = 3$, $1 - \\frac{1}{z^2} = \\frac{8}{9}$.\n",
    "- So, -20 is 3 standard deviations below the mean, and 40 is 3 standard deviations above the mean.\n",
    "- 10 is in the middle of -20 and 40, so the mean is 10.\n",
    "- 3 standard deviations are between 10 and 40, so 1 standard deviation is 30 / 3 = 10."
   ]
  },
  {
   "cell_type": "markdown",
   "metadata": {
    "slideshow": {
     "slide_type": "slide"
    }
   },
   "source": [
    "## The normal curve"
   ]
  },
  {
   "cell_type": "markdown",
   "metadata": {
    "slideshow": {
     "slide_type": "slide"
    }
   },
   "source": [
    "### The data\n",
    "\n",
    "We'll work with a dataset containing the heights and weights of 5000 adult males."
   ]
  },
  {
   "cell_type": "code",
   "execution_count": null,
   "metadata": {
    "slideshow": {
     "slide_type": "-"
    }
   },
   "outputs": [],
   "source": [
    "height_and_weight = bpd.read_csv('data/height_and_weight.csv')\n",
    "height_and_weight"
   ]
  },
  {
   "cell_type": "markdown",
   "metadata": {
    "slideshow": {
     "slide_type": "slide"
    }
   },
   "source": [
    "### Distribution of heights"
   ]
  },
  {
   "cell_type": "code",
   "execution_count": null,
   "metadata": {},
   "outputs": [],
   "source": [
    "height_and_weight.plot(kind='hist', y='Height', density=True, ec='w', bins=20, alpha=0.8, figsize=(10, 5));"
   ]
  },
  {
   "cell_type": "markdown",
   "metadata": {
    "slideshow": {
     "slide_type": "slide"
    }
   },
   "source": [
    "### Distribution of weights"
   ]
  },
  {
   "cell_type": "code",
   "execution_count": null,
   "metadata": {},
   "outputs": [],
   "source": [
    "height_and_weight.plot(kind='hist', y='Weight', density=True, ec='w', bins=20, alpha=0.8, color='C1', figsize=(10, 5));"
   ]
  },
  {
   "cell_type": "markdown",
   "metadata": {
    "slideshow": {
     "slide_type": "slide"
    }
   },
   "source": [
    "### A familiar shape\n",
    "\n",
    "- We've seen this bell-like shape before.\n",
    "- These bells are different in two key aspects: center and spread."
   ]
  },
  {
   "cell_type": "code",
   "execution_count": null,
   "metadata": {},
   "outputs": [],
   "source": [
    "# Overlaid histogram\n",
    "height_and_weight.plot(kind='hist', density=True, ec='w', bins=120, alpha=0.8, figsize=(10, 5));"
   ]
  },
  {
   "cell_type": "markdown",
   "metadata": {
    "slideshow": {
     "slide_type": "fragment"
    }
   },
   "source": [
    "Let's see if we can **transform** these distributions so that they look the same. 👀"
   ]
  },
  {
   "cell_type": "markdown",
   "metadata": {
    "slideshow": {
     "slide_type": "slide"
    }
   },
   "source": [
    "### Centering\n",
    "\n",
    "To **center** a distribution, subtract the mean from each value."
   ]
  },
  {
   "cell_type": "code",
   "execution_count": null,
   "metadata": {},
   "outputs": [],
   "source": [
    "mean_height = height_and_weight.get('Height').mean()\n",
    "mean_height"
   ]
  },
  {
   "cell_type": "code",
   "execution_count": null,
   "metadata": {},
   "outputs": [],
   "source": [
    "centered_height = height_and_weight.get('Height') - mean_height\n",
    "centered_height"
   ]
  },
  {
   "cell_type": "code",
   "execution_count": null,
   "metadata": {},
   "outputs": [],
   "source": [
    "mean_weight = height_and_weight.get('Weight').mean()\n",
    "mean_weight"
   ]
  },
  {
   "cell_type": "code",
   "execution_count": null,
   "metadata": {},
   "outputs": [],
   "source": [
    "centered_weight = height_and_weight.get('Weight') - mean_weight\n",
    "centered_weight"
   ]
  },
  {
   "cell_type": "code",
   "execution_count": null,
   "metadata": {
    "slideshow": {
     "slide_type": "slide"
    }
   },
   "outputs": [],
   "source": [
    "centered_height_and_weight = height_and_weight.assign(\n",
    "    Height=centered_height,\n",
    "    Weight=centered_weight\n",
    ")\n",
    "centered_height_and_weight"
   ]
  },
  {
   "cell_type": "markdown",
   "metadata": {
    "slideshow": {
     "slide_type": "slide"
    }
   },
   "source": [
    "### Centering\n",
    "\n",
    "Let's plot these distributions now that they're centered."
   ]
  },
  {
   "cell_type": "code",
   "execution_count": null,
   "metadata": {},
   "outputs": [],
   "source": [
    "centered_height_and_weight.plot(kind='hist', density=True, ec='w', bins=120, alpha=0.8, figsize=(10, 5));"
   ]
  },
  {
   "cell_type": "markdown",
   "metadata": {
    "slideshow": {
     "slide_type": "slide"
    }
   },
   "source": [
    "### Scaling\n",
    "\n",
    "- Remember, our current goal is to transform the two distributions so that they look very similar.\n",
    "- Right now they are both centered, but have different widths.\n",
    "- To give them the same width, we **divide by the standard deviation**.\n",
    "- Data that is centered and scaled is **standardized**."
   ]
  },
  {
   "cell_type": "code",
   "execution_count": null,
   "metadata": {},
   "outputs": [],
   "source": [
    "std_height = np.std(height_and_weight.get('Height'))\n",
    "std_height"
   ]
  },
  {
   "cell_type": "code",
   "execution_count": null,
   "metadata": {},
   "outputs": [],
   "source": [
    "std_weight = np.std(height_and_weight.get('Weight'))\n",
    "std_weight"
   ]
  },
  {
   "cell_type": "code",
   "execution_count": null,
   "metadata": {},
   "outputs": [],
   "source": [
    "standardized_height_and_weight = centered_height_and_weight.assign(\n",
    "    Height=centered_height_and_weight.get('Height') / std_height,\n",
    "    Weight=centered_height_and_weight.get('Weight') / std_weight\n",
    ")"
   ]
  },
  {
   "cell_type": "markdown",
   "metadata": {},
   "source": [
    "Note that the mean of any standardized distribution is 0, and the standard deviation of any standardized distribution is 1. (Remember, `e-14` means \"$10^{-14}$\", which is a very small number.)"
   ]
  },
  {
   "cell_type": "code",
   "execution_count": null,
   "metadata": {
    "scrolled": true
   },
   "outputs": [],
   "source": [
    "standardized_height_and_weight.get('Height').mean(), np.std(standardized_height_and_weight.get('Height'))"
   ]
  },
  {
   "cell_type": "code",
   "execution_count": null,
   "metadata": {},
   "outputs": [],
   "source": [
    "standardized_height_and_weight.get('Weight').mean(), np.std(standardized_height_and_weight.get('Weight'))"
   ]
  },
  {
   "cell_type": "markdown",
   "metadata": {
    "slideshow": {
     "slide_type": "slide"
    }
   },
   "source": [
    "### Standardized histograms\n",
    "\n",
    "Now that we've both centered and scaled the two distributions, let's see how they look."
   ]
  },
  {
   "cell_type": "code",
   "execution_count": null,
   "metadata": {},
   "outputs": [],
   "source": [
    "standardized_height_and_weight.plot(kind='hist', density=True, ec='w',bins=120, alpha=0.8, figsize=(10, 5));"
   ]
  },
  {
   "cell_type": "markdown",
   "metadata": {},
   "source": [
    "These both look pretty similar!"
   ]
  },
  {
   "cell_type": "markdown",
   "metadata": {
    "slideshow": {
     "slide_type": "slide"
    }
   },
   "source": [
    "### The standard normal curve\n",
    "\n",
    "- The distributions we've seen look essentially the same once standardized.\n",
    "- This shape is called the **standard normal curve** / distribution.\n",
    "\n",
    "$$\n",
    "\\phi(z) = \\frac{1}{\\sqrt{2 \\pi}} e^{-\\frac{1}{2}z^2}\n",
    "$$\n"
   ]
  },
  {
   "cell_type": "markdown",
   "metadata": {
    "slideshow": {
     "slide_type": "fragment"
    }
   },
   "source": [
    "- You don't need to know the formula – just the shape!"
   ]
  },
  {
   "cell_type": "markdown",
   "metadata": {
    "slideshow": {
     "slide_type": "slide"
    }
   },
   "source": [
    "### The standard normal curve"
   ]
  },
  {
   "cell_type": "code",
   "execution_count": null,
   "metadata": {},
   "outputs": [],
   "source": [
    "def normal_curve(z):\n",
    "    return 1 / np.sqrt(2*np.pi) * np.exp((-z**2)/2)"
   ]
  },
  {
   "cell_type": "code",
   "execution_count": null,
   "metadata": {},
   "outputs": [],
   "source": [
    "x = np.linspace(-4, 4, 1000)\n",
    "y = normal_curve(x)\n",
    "\n",
    "plt.figure(figsize=(10, 5))\n",
    "plt.plot(x, y, color='black');\n",
    "plt.xlabel('$z$');\n",
    "plt.title(r'$\\phi(z) = \\frac{1}{\\sqrt{2 \\pi}} e^{-\\frac{1}{2}z^2}$');"
   ]
  },
  {
   "cell_type": "markdown",
   "metadata": {
    "slideshow": {
     "slide_type": "slide"
    }
   },
   "source": [
    "### Heights/weights are approximately normal\n",
    "\n",
    "If a distribution follows this shape, we say it is roughly \"normal\"."
   ]
  },
  {
   "cell_type": "code",
   "execution_count": null,
   "metadata": {},
   "outputs": [],
   "source": [
    "standardized_height_and_weight.plot(kind='hist', density=True, ec='w', bins=120, alpha=0.8, figsize=(10, 5));\n",
    "plt.plot(x, y, color='black', linestyle='--', label='Normal')\n",
    "plt.legend(loc='upper right');"
   ]
  },
  {
   "cell_type": "markdown",
   "metadata": {
    "slideshow": {
     "slide_type": "slide"
    }
   },
   "source": [
    "### The standard normal distribution\n",
    "\n",
    "- Think of the normal curve as a \"continuous histogram\".\n",
    "- Its mean and median are both 0 – it is symmetric.\n",
    "- It has inflection points at $\\pm 1$.\n",
    "    - More on this later.\n",
    "- Like a histogram:\n",
    "    - The total area underneath the normal curve is 1.\n",
    "    - The area between $a$ and $b$ is proportion of values between $a$ and $b$."
   ]
  },
  {
   "cell_type": "code",
   "execution_count": null,
   "metadata": {
    "slideshow": {
     "slide_type": "slide"
    }
   },
   "outputs": [],
   "source": [
    "def normal_area(a, b, bars=False):\n",
    "    ix = (x >= a) & (x <= b)\n",
    "    plt.figure(figsize=(10, 5))\n",
    "    plt.plot(x, y, color='black')\n",
    "    plt.fill_between(x[ix], y[ix], color='gold')\n",
    "    if bars:\n",
    "        plt.axvline(a, color='red')\n",
    "        plt.axvline(b, color='red')\n",
    "    plt.title(f'Area between {np.round(a, 2)} and {np.round(b, 2)}')"
   ]
  },
  {
   "cell_type": "code",
   "execution_count": null,
   "metadata": {},
   "outputs": [],
   "source": [
    "interact(normal_area, a=(-4, 3, 0.25), b=(-4, 4, 0.25), bars=False);"
   ]
  },
  {
   "cell_type": "markdown",
   "metadata": {
    "slideshow": {
     "slide_type": "slide"
    }
   },
   "source": [
    "### The standard normal \"CDF\"\n",
    "\n",
    "- Areas under curves are typically found via integration.\n",
    "- However, there is no closed-form indefinite integral for the normal curve.\n",
    "- Instead, we approximate through computation.\n",
    "- The function `scipy.stats.norm.cdf(z)` computes the area under the standard normal curve to the left of `z`. In other words,\n",
    "\n",
    "$$\n",
    "\\texttt{scipy.stats.norm.cdf(z)} = \\int_{- \\infty}^z \\phi(x) \\, dx\n",
    "$$\n",
    "- cdf stands for \"cumulative density function\"."
   ]
  },
  {
   "cell_type": "markdown",
   "metadata": {
    "slideshow": {
     "slide_type": "slide"
    }
   },
   "source": [
    "### Discussion Question\n",
    "\n",
    "What will `scipy.stats.norm.cdf(0)` evaluate to?\n",
    "\n",
    "- A) $\\pi$\n",
    "- B) 0\n",
    "- C) 1\n",
    "- D) 0.5\n",
    "- E) 0.95\n",
    "\n",
    "### To answer, go to [menti.com](https://menti.com) and enter the code 4318 0373."
   ]
  },
  {
   "cell_type": "markdown",
   "metadata": {
    "slideshow": {
     "slide_type": "slide"
    }
   },
   "source": [
    "### Answer"
   ]
  },
  {
   "cell_type": "code",
   "execution_count": null,
   "metadata": {},
   "outputs": [],
   "source": [
    "from scipy import stats\n",
    "stats.norm.cdf(0)"
   ]
  },
  {
   "cell_type": "code",
   "execution_count": null,
   "metadata": {},
   "outputs": [],
   "source": [
    "normal_area(-np.inf, 0)"
   ]
  },
  {
   "cell_type": "markdown",
   "metadata": {
    "slideshow": {
     "slide_type": "slide"
    }
   },
   "source": [
    "### Example: area to the right of 2\n",
    "\n",
    "The area to the left of 2 can be computed using `stats.norm.cdf(2)`."
   ]
  },
  {
   "cell_type": "code",
   "execution_count": null,
   "metadata": {},
   "outputs": [],
   "source": [
    "normal_area(-np.inf, 2)"
   ]
  },
  {
   "cell_type": "code",
   "execution_count": null,
   "metadata": {},
   "outputs": [],
   "source": [
    "stats.norm.cdf(2)"
   ]
  },
  {
   "cell_type": "markdown",
   "metadata": {},
   "source": [
    "Then, the area to the right of 2 is 1 minus the area to the left of 2."
   ]
  },
  {
   "cell_type": "code",
   "execution_count": null,
   "metadata": {},
   "outputs": [],
   "source": [
    "normal_area(2, np.inf)"
   ]
  },
  {
   "cell_type": "code",
   "execution_count": null,
   "metadata": {},
   "outputs": [],
   "source": [
    "1 - stats.norm.cdf(2)"
   ]
  },
  {
   "cell_type": "markdown",
   "metadata": {
    "slideshow": {
     "slide_type": "slide"
    }
   },
   "source": [
    "### Example: area between [-1, 0]\n",
    "\n",
    "How would we compute the area between -1 and 0?"
   ]
  },
  {
   "cell_type": "code",
   "execution_count": null,
   "metadata": {},
   "outputs": [],
   "source": [
    "normal_area(-1, 0)"
   ]
  },
  {
   "cell_type": "markdown",
   "metadata": {
    "slideshow": {
     "slide_type": "fragment"
    }
   },
   "source": [
    "Strategy:\n",
    "\n",
    "$$(\\text{area from $-1$ to $0$}) = (\\text{area left of $0$}) - (\\text{area left of $-1$})$$"
   ]
  },
  {
   "cell_type": "code",
   "execution_count": null,
   "metadata": {
    "slideshow": {
     "slide_type": "slide"
    }
   },
   "outputs": [],
   "source": [
    "normal_area(-1, 0)"
   ]
  },
  {
   "cell_type": "code",
   "execution_count": null,
   "metadata": {},
   "outputs": [],
   "source": [
    "stats.norm.cdf(0) - stats.norm.cdf(-1)"
   ]
  },
  {
   "cell_type": "markdown",
   "metadata": {
    "slideshow": {
     "slide_type": "slide"
    }
   },
   "source": [
    "### General strategy for finding area\n",
    "\n",
    "The area under a standard normal curve in the interval $[a, b]$ is \n",
    "\n",
    "```py\n",
    "stats.norm.cdf(b) - stats.norm.cdf(a)\n",
    "```"
   ]
  },
  {
   "cell_type": "markdown",
   "metadata": {
    "slideshow": {
     "slide_type": "slide"
    }
   },
   "source": [
    "## Standard units and normal approximation"
   ]
  },
  {
   "cell_type": "markdown",
   "metadata": {
    "slideshow": {
     "slide_type": "slide"
    }
   },
   "source": [
    "### Standard units\n",
    "\n",
    "**Question:** What proportion of weights are between 200 and 225?"
   ]
  },
  {
   "cell_type": "markdown",
   "metadata": {
    "slideshow": {
     "slide_type": "fragment"
    }
   },
   "source": [
    "- We can determine the answer exactly, because we have access to all of the data.\n",
    "- But, let's use fact that weights are roughly normal.\n",
    "    - This is done often in settings where you don't have all of the data, just the mean and standard deviation."
   ]
  },
  {
   "cell_type": "markdown",
   "metadata": {
    "slideshow": {
     "slide_type": "slide"
    }
   },
   "source": [
    "### Histogram area within [200, 225]"
   ]
  },
  {
   "cell_type": "code",
   "execution_count": null,
   "metadata": {},
   "outputs": [],
   "source": [
    "height_and_weight.plot(kind='hist', y='Weight', density=True, ec='w', bins=20, alpha=0.8, color='C1', figsize=(10, 5));\n",
    "plt.axvline(200, color='black')\n",
    "plt.axvline(225, color='black');"
   ]
  },
  {
   "cell_type": "markdown",
   "metadata": {
    "slideshow": {
     "slide_type": "slide"
    }
   },
   "source": [
    "### Normal curve area within [?, ?]...\n",
    "\n",
    "The question becomes, what two endpoints should we look for the area between on the standard normal curve?"
   ]
  },
  {
   "cell_type": "code",
   "execution_count": null,
   "metadata": {},
   "outputs": [],
   "source": [
    "normal_area(0, 0)\n",
    "plt.title('');"
   ]
  },
  {
   "cell_type": "markdown",
   "metadata": {
    "slideshow": {
     "slide_type": "slide"
    }
   },
   "source": [
    "### Aside: standard units\n",
    "\n",
    "- Define $$z(x) = \\frac{x - \\text{mean of all $x$s}}{\\text{SD of all $x$s}}$$\n",
    "\n",
    "- $z(x)$ converts $x$ to **standard units**, which represents the number of standard deviation $x$ is above the mean.\n",
    "- Converting a variable to standard units is the same as **standardizing** it, which is what we did earlier in the lecture."
   ]
  },
  {
   "cell_type": "markdown",
   "metadata": {
    "slideshow": {
     "slide_type": "slide"
    }
   },
   "source": [
    "### Standard units\n",
    "\n",
    "What does a weight of 225 become after standardization?\n",
    "\n",
    "$$z(225) = \\frac{225 - \\text{mean weight}}{\\text{SD of weight}}$$"
   ]
  },
  {
   "cell_type": "code",
   "execution_count": null,
   "metadata": {},
   "outputs": [],
   "source": [
    "225 - mean_weight"
   ]
  },
  {
   "cell_type": "code",
   "execution_count": null,
   "metadata": {},
   "outputs": [],
   "source": [
    "(225 - mean_weight) / std_weight"
   ]
  },
  {
   "cell_type": "markdown",
   "metadata": {
    "slideshow": {
     "slide_type": "fragment"
    }
   },
   "source": [
    "- Interpretation: 225 is 1.92 standard deviations above the mean weight.\n",
    "- 225 becomes 1.92 in **standard units**."
   ]
  },
  {
   "cell_type": "markdown",
   "metadata": {
    "slideshow": {
     "slide_type": "slide"
    }
   },
   "source": [
    "### Standard units and area\n",
    "\n",
    "- **Key idea: The $x$-axis in a plot of the standard normal curve is in standard units.**\n",
    "    - e.g. the area between -1 and 1 is the proportion of values within 1 standard deviation of the mean.\n",
    "- Suppose a distribution is (roughly) normal. Then, these are two are approximately equal:\n",
    "    - The area between $a$ and $b$ in the histogram.\n",
    "    - The area between $z(a)$ and $z(b)$ under a standard normal curve."
   ]
  },
  {
   "cell_type": "code",
   "execution_count": null,
   "metadata": {},
   "outputs": [],
   "source": [
    "normal_area(0, 0)\n",
    "plt.title('');"
   ]
  },
  {
   "cell_type": "markdown",
   "metadata": {
    "slideshow": {
     "slide_type": "slide"
    }
   },
   "source": [
    "### Standard units and area"
   ]
  },
  {
   "cell_type": "code",
   "execution_count": null,
   "metadata": {},
   "outputs": [],
   "source": [
    "left = (200 - mean_weight) / std_weight\n",
    "left"
   ]
  },
  {
   "cell_type": "code",
   "execution_count": null,
   "metadata": {},
   "outputs": [],
   "source": [
    "right = (225 - mean_weight) / std_weight\n",
    "right"
   ]
  },
  {
   "cell_type": "code",
   "execution_count": null,
   "metadata": {},
   "outputs": [],
   "source": [
    "# Area between left and right in the standard normal curve\n",
    "approximation = stats.norm.cdf(right) - stats.norm.cdf(left)\n",
    "approximation"
   ]
  },
  {
   "cell_type": "markdown",
   "metadata": {
    "slideshow": {
     "slide_type": "fragment"
    }
   },
   "source": [
    "**Interpretation:** approximately 22.8% of weights are between 200 and 225 (inclusive).\n",
    "\n",
    "**Note that we only needed the mean and standard deviation of the weights to calculate this!**"
   ]
  },
  {
   "cell_type": "markdown",
   "metadata": {
    "slideshow": {
     "slide_type": "slide"
    }
   },
   "source": [
    "### Normal curve area between $z(200)$ and $z(225)$"
   ]
  },
  {
   "cell_type": "code",
   "execution_count": null,
   "metadata": {},
   "outputs": [],
   "source": [
    "normal_area(left, right, bars=True)\n",
    "plt.axvline(0.656, color='C1')\n",
    "plt.axvline(1.92, color='C1')\n",
    "plt.text(0.656, 0.45, '$z(200)$', ha='center')\n",
    "plt.text(1.92, 0.45, '$z(225)$', ha='center')\n",
    "plt.title('');"
   ]
  },
  {
   "cell_type": "markdown",
   "metadata": {
    "slideshow": {
     "slide_type": "slide"
    }
   },
   "source": [
    "### Checking the approximation"
   ]
  },
  {
   "cell_type": "code",
   "execution_count": null,
   "metadata": {},
   "outputs": [],
   "source": [
    "# True proportion of values between 200 and 225\n",
    "height_and_weight[\n",
    "    (height_and_weight.get('Weight') >= 200) &\n",
    "    (height_and_weight.get('Weight') <= 225)\n",
    "].shape[0] / height_and_weight.shape[0]"
   ]
  },
  {
   "cell_type": "code",
   "execution_count": null,
   "metadata": {},
   "outputs": [],
   "source": [
    "# Approximation using the standard normal curve\n",
    "approximation"
   ]
  },
  {
   "cell_type": "markdown",
   "metadata": {},
   "source": [
    "Pretty good for an approximation! 🤩"
   ]
  },
  {
   "cell_type": "markdown",
   "metadata": {
    "slideshow": {
     "slide_type": "slide"
    }
   },
   "source": [
    "### Summary: normal approximations\n",
    "\n",
    "- Suppose we know the following about a distribution:\n",
    "    - it is approximately normal,\n",
    "    - its mean and standard deviation,\n",
    "- Then, we can use the standard normal curve to compute the proportion of values in a given range without needing all of the data."
   ]
  },
  {
   "cell_type": "markdown",
   "metadata": {
    "slideshow": {
     "slide_type": "slide"
    }
   },
   "source": [
    "### Warning: standardization doesn't make a distribution normal!\n",
    "\n",
    "- Consider the distribution of this quarter's Midterm Exam scores."
   ]
  },
  {
   "cell_type": "code",
   "execution_count": null,
   "metadata": {},
   "outputs": [],
   "source": [
    "scores = bpd.read_csv('data/wi22_midterm_scores.csv').get(['Score'])\n",
    "scores.plot(kind='hist', y='Score', bins=20, density=True, ec='w', figsize=(10, 5));"
   ]
  },
  {
   "cell_type": "markdown",
   "metadata": {},
   "source": [
    "- The distribution above does not look normal.\n",
    "- If we standardize the distribution above, it still won't look normal."
   ]
  },
  {
   "cell_type": "code",
   "execution_count": null,
   "metadata": {},
   "outputs": [],
   "source": [
    "scores_standardized = (scores.get('Score') - scores.get('Score').mean()) / np.std(scores.get('Score'))\n",
    "scores_standardized.plot(kind='hist', bins=20, density=True, ec='w', figsize=(10, 5));"
   ]
  },
  {
   "cell_type": "markdown",
   "metadata": {
    "slideshow": {
     "slide_type": "slide"
    }
   },
   "source": [
    "## Center and spread, revisited"
   ]
  },
  {
   "cell_type": "markdown",
   "metadata": {
    "slideshow": {
     "slide_type": "slide"
    }
   },
   "source": [
    "### Special cases\n",
    "\n",
    "- As we just discovered, the $x$-axis in the standard normal curve represents standard units.\n",
    "- Often times, we want to know the area within $z$ standard deviations of the mean.\n",
    "\n",
    "|Percent in Range | Normal Distributions|\n",
    "|---|---|\n",
    "|$\\text{average} \\pm 1 \\ \\text{SD}$ | $\\approx 68\\%$ |\n",
    "|$\\text{average} \\pm 2 \\text{SDs}$ | $\\approx 95\\%$ |\n",
    "|$\\text{average} \\pm 3\\text{SDs}$ | $\\approx 99.73\\%$ |"
   ]
  },
  {
   "cell_type": "markdown",
   "metadata": {
    "slideshow": {
     "slide_type": "slide"
    }
   },
   "source": [
    "### 68% of values are in [-1, 1]"
   ]
  },
  {
   "cell_type": "code",
   "execution_count": null,
   "metadata": {
    "scrolled": true
   },
   "outputs": [],
   "source": [
    "normal_area(-1, 1, bars=True)"
   ]
  },
  {
   "cell_type": "code",
   "execution_count": null,
   "metadata": {},
   "outputs": [],
   "source": [
    "stats.norm.cdf(1) - stats.norm.cdf(-1)"
   ]
  },
  {
   "cell_type": "markdown",
   "metadata": {},
   "source": [
    "This means that if a variable follows the standard normal distribution, approximately 68% of values will be within 1 SD of the mean."
   ]
  },
  {
   "cell_type": "markdown",
   "metadata": {
    "slideshow": {
     "slide_type": "slide"
    }
   },
   "source": [
    "### 95% of values are in [-2, 2]"
   ]
  },
  {
   "cell_type": "code",
   "execution_count": null,
   "metadata": {},
   "outputs": [],
   "source": [
    "normal_area(-2, 2, bars=True)"
   ]
  },
  {
   "cell_type": "code",
   "execution_count": null,
   "metadata": {},
   "outputs": [],
   "source": [
    "stats.norm.cdf(2) - stats.norm.cdf(-2)"
   ]
  },
  {
   "cell_type": "markdown",
   "metadata": {},
   "source": [
    "This means that if a variable follows the standard normal distribution, approximately 95% of values will be within 2 SDs of the mean."
   ]
  },
  {
   "cell_type": "markdown",
   "metadata": {
    "slideshow": {
     "slide_type": "fragment"
    }
   },
   "source": [
    "- This also means that 5% of values will be outside of 2 SDs from the mean.\n",
    "- Since the normal curve is symmetric, it also means that 2.5% of values will be more than 2 SDs above the mean, and 2.5% of values will be more than 2 SDs below the mean."
   ]
  },
  {
   "cell_type": "markdown",
   "metadata": {
    "slideshow": {
     "slide_type": "slide"
    }
   },
   "source": [
    "### Chebyshev's inequality and the normal curve\n",
    "\n",
    "- Last class, we looked at Chebyshev's inequality, which stated that the proportion of data within $z$ SDs of the mean is **at least** $1-\\frac{1}{z^2}$.\n",
    "    - This works for any distribution, and is a lower bound.\n",
    "- If we know that the distribution is normal, we can be even more specific:\n",
    "\n",
    "\n",
    "| Range | All Distributions (via Chebyshev's Inequality) | Normal Distributions|\n",
    "|---|---|---|\n",
    "| average $\\pm \\ 1$ SD | $\\geq 0\\%$ |$\\approx 68\\%$ |\n",
    "| average $\\pm \\ 2$ SDs | $\\geq 75\\%$ | $\\approx 95\\%$ |\n",
    "| average $\\pm \\ 3$ SDs | $\\geq 88.8\\%$ | $\\approx 99.73\\%$ |\n",
    "\n",
    "- The percentages you see for normal distributions above are approximate, but are not lower bounds."
   ]
  },
  {
   "cell_type": "markdown",
   "metadata": {
    "slideshow": {
     "slide_type": "slide"
    }
   },
   "source": [
    "### Points of inflection\n",
    "\n",
    "- Earlier, we mentioned that the standard normal curve has points of inflection at $z = \\pm 1$.\n",
    "    - Inflection point: where the curve goes from \"opening down\" to \"opening up.\"\n",
    "- We know that the $x$-axis of the standard normal curve represents standard units, so this means the points of inflection are at 1 standard deviation above and below the mean.\n",
    "- This means that if a distribution is roughly normal, we can determine its standard deviation by looking for how far its point of inflection is from its center."
   ]
  },
  {
   "cell_type": "markdown",
   "metadata": {
    "slideshow": {
     "slide_type": "slide"
    }
   },
   "source": [
    "### Points of inflection: example"
   ]
  },
  {
   "cell_type": "code",
   "execution_count": null,
   "metadata": {},
   "outputs": [],
   "source": [
    "height_and_weight.plot(kind='hist', y='Height', density=True, ec='w', bins=40, alpha=0.8, figsize=(10, 5));\n",
    "plt.xticks(np.arange(60, 78, 2));"
   ]
  },
  {
   "cell_type": "markdown",
   "metadata": {
    "slideshow": {
     "slide_type": "fragment"
    }
   },
   "source": [
    "- The center appears to be around 69.\n",
    "- The points of inflection appear to be around 66 and 72.\n",
    "- So, the standard deviation is roughly 72 - 69 = 3."
   ]
  },
  {
   "cell_type": "code",
   "execution_count": null,
   "metadata": {},
   "outputs": [],
   "source": [
    "np.std(height_and_weight.get('Height'))"
   ]
  },
  {
   "cell_type": "markdown",
   "metadata": {
    "slideshow": {
     "slide_type": "slide"
    }
   },
   "source": [
    "## Central Limit Theorem"
   ]
  },
  {
   "cell_type": "markdown",
   "metadata": {
    "slideshow": {
     "slide_type": "slide"
    }
   },
   "source": [
    "### Something to think about...\n",
    "\n",
    "When looking at the empirical distribution of a statistic, we've often seen a bell curve. Why is that? 🤔"
   ]
  },
  {
   "cell_type": "markdown",
   "metadata": {
    "slideshow": {
     "slide_type": "slide"
    }
   },
   "source": [
    "### Bell-shaped data\n",
    "\n",
    "- In real life, data is sometimes bell-shaped.\n",
    "- We've seen this to be true for height and weight.\n",
    "- There are many more examples..."
   ]
  },
  {
   "cell_type": "markdown",
   "metadata": {
    "slideshow": {
     "slide_type": "slide"
    }
   },
   "source": [
    "### Example: Natural sleep duration 😴"
   ]
  },
  {
   "cell_type": "code",
   "execution_count": null,
   "metadata": {},
   "outputs": [],
   "source": [
    "sleep = bpd.read_csv('data/sleep.csv').get(['Sleep Duration'])\n",
    "sleep.plot(kind='hist', y='Sleep Duration', bins=30, density=True, ec='w', figsize=(10, 5));"
   ]
  },
  {
   "cell_type": "markdown",
   "metadata": {
    "slideshow": {
     "slide_type": "slide"
    }
   },
   "source": [
    "### But...\n",
    "\n",
    "- **...most data isn't bell-shaped!**\n",
    "- Bell-shaped distributions are symmetric and only have one peak.\n",
    "- But in reality, distributions are often skewed to one side and have multiple peaks."
   ]
  },
  {
   "cell_type": "markdown",
   "metadata": {
    "slideshow": {
     "slide_type": "slide"
    }
   },
   "source": [
    "### Example: Midterm Exam scores 💯"
   ]
  },
  {
   "cell_type": "code",
   "execution_count": null,
   "metadata": {},
   "outputs": [],
   "source": [
    "scores.plot(kind='hist', y='Score', bins=20, density=True, ec='w', figsize=(10, 5));"
   ]
  },
  {
   "cell_type": "markdown",
   "metadata": {
    "slideshow": {
     "slide_type": "slide"
    }
   },
   "source": [
    "### Example: Flight delays ✈️"
   ]
  },
  {
   "cell_type": "code",
   "execution_count": null,
   "metadata": {},
   "outputs": [],
   "source": [
    "flights = bpd.read_csv('data/united_summer2015.csv').get(['Delay'])\n",
    "flights.plot(kind='hist', y='Delay', bins=np.arange(-25, 200, 5), density=True, ec='w', figsize=(10, 5));"
   ]
  },
  {
   "cell_type": "markdown",
   "metadata": {
    "slideshow": {
     "slide_type": "slide"
    }
   },
   "source": [
    "### But...\n",
    "\n",
    "- It turns out that **even when the population distribution isn't bell-shaped, the empirical distribution of sample statistics often are**.\n",
    "- Let's consider the distribution of the sample mean."
   ]
  },
  {
   "cell_type": "markdown",
   "metadata": {
    "slideshow": {
     "slide_type": "slide"
    }
   },
   "source": [
    "### Example: Flight delays ✈️\n",
    "\n",
    "- We want to know the average flight delay.\n",
    "- To do this, we take a random sample of flights and compute the sample mean.\n",
    "- The sample mean could have been different, so we'd like some sense of how much the sample mean could vary – we'd like to know the distribution of the sample mean.\n",
    "- We now know that we can use the bootstrap to estimate this distribution through just a single sample.\n",
    "    - But in this case, since we have the population, we'll just repeatedly sample from it."
   ]
  },
  {
   "cell_type": "code",
   "execution_count": null,
   "metadata": {
    "slideshow": {
     "slide_type": "slide"
    }
   },
   "outputs": [],
   "source": [
    "n_samples = 1000\n",
    "\n",
    "sample_means = np.array([])\n",
    "\n",
    "for i in np.arange(n_samples):\n",
    "    sample = flights.sample(2000, replace=True) # Sampling directly from the population, with replacement\n",
    "    sample_mean = sample.get('Delay').mean()\n",
    "    sample_means = np.append(sample_means, sample_mean)\n",
    "    \n",
    "# Look at just the first 10 sample means\n",
    "sample_means[:10]"
   ]
  },
  {
   "cell_type": "code",
   "execution_count": null,
   "metadata": {
    "slideshow": {
     "slide_type": "slide"
    }
   },
   "outputs": [],
   "source": [
    "bpd.DataFrame().assign(SampleMeans=sample_means).plot(kind='hist', bins=20, density=True, ec='w', figsize=(10, 5))\n",
    "plt.xlabel('Mean Delay')\n",
    "plt.title('Distribution of the Sample Mean');"
   ]
  },
  {
   "cell_type": "markdown",
   "metadata": {
    "slideshow": {
     "slide_type": "slide"
    }
   },
   "source": [
    "### What just happened ⁉️\n",
    "\n",
    "- The population was not bell-shaped – it was extremely skewed.\n",
    "- But distribution of sample mean **is** roughly bell-shaped.\n",
    "- Many of the bootstrapped distributions we've seen in this class were bell-shaped.\n",
    "- This appears to be a deep fact about randomness."
   ]
  },
  {
   "cell_type": "markdown",
   "metadata": {
    "slideshow": {
     "slide_type": "slide"
    }
   },
   "source": [
    "### Central Limit Theorem\n",
    "\n",
    "> The Central Limit Theorem (CLT) says that the probability distribution of the **sum or average** of a large random sample drawn with replacement will be roughly normal, regardless of the distribution of the population from which the sample is drawn."
   ]
  },
  {
   "cell_type": "markdown",
   "metadata": {
    "slideshow": {
     "slide_type": "fragment"
    }
   },
   "source": [
    "More on this next time."
   ]
  },
  {
   "cell_type": "markdown",
   "metadata": {
    "slideshow": {
     "slide_type": "slide"
    }
   },
   "source": [
    "## Summary"
   ]
  },
  {
   "cell_type": "markdown",
   "metadata": {
    "slideshow": {
     "slide_type": "slide"
    }
   },
   "source": [
    "### Summary, next time\n",
    "\n",
    "- The standard normal curve is a symmetric, bell-shaped distribution.\n",
    "- If a distribution is roughly normal, we know that roughly 68% of the data lies within 1 SD of the mean, 95% of the data lies within 2 SDs of the mean, and 99.73% of the data lies within 3 SDs of the mean.\n",
    "    - These are more specific percentages than Chebyshev's inequality gave us; Chebyshev's inequality is more general, as it applies to all distributions.\n",
    "- Many distributions in practice resemble the standard normal curve.\n",
    "    - To convert a variable to standard units (i.e. to standardize a variable), we subtract each value by its mean and divide by its standard deviation.\n",
    "    - If a variable is standardized **and** roughly bell-shaped, we can use the normal curve to approximate the proportion of values in an interval.\n",
    "    - The $x$-axis of the normal curve is in standard units.\n",
    "- The Central Limit Theorem says that distributions of sums and averages of large random samples will be bell-shaped.\n",
    "- **Next time:** more on CLT."
   ]
  }
 ],
 "metadata": {
  "celltoolbar": "Slideshow",
  "kernelspec": {
   "display_name": "Python 3 (ipykernel)",
   "language": "python",
   "name": "python3"
  },
  "language_info": {
   "codemirror_mode": {
    "name": "ipython",
    "version": 3
   },
   "file_extension": ".py",
   "mimetype": "text/x-python",
   "name": "python",
   "nbconvert_exporter": "python",
   "pygments_lexer": "ipython3",
   "version": "3.9.7"
  },
  "livereveal": {
   "scroll": true,
   "transition": "none"
  }
 },
 "nbformat": 4,
 "nbformat_minor": 2
}
