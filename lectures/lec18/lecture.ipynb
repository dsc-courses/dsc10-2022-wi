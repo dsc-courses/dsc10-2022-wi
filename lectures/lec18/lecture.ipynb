{
 "cells": [
  {
   "cell_type": "code",
   "execution_count": null,
   "metadata": {
    "slideshow": {
     "slide_type": "skip"
    }
   },
   "outputs": [],
   "source": [
    "# Imports\n",
    "import babypandas as bpd\n",
    "import numpy as np\n",
    "\n",
    "import matplotlib.pyplot as plt\n",
    "plt.style.use('fivethirtyeight')\n",
    "\n",
    "# Imports for animation\n",
    "from lec18 import sampling_animation\n",
    "\n",
    "from IPython.display import display, IFrame, HTML, YouTubeVideo\n",
    "\n",
    "def show_permutation_testing_slides():\n",
    "    src = \"https://docs.google.com/presentation/d/e/2PACX-1vSovXDonR6EmjrT45h4pY1mwmcKFMWVSdgpbKHC5HNTm9sbG7dojvvCDEQCjuk2dk1oA4gmwMogr8ZL/embed?start=false&loop=false&delayms=3000\"\n",
    "    width = 960\n",
    "    height = 569\n",
    "    display(IFrame(src, width, height))\n",
    "    \n",
    "def show_bootstrapping_slides():\n",
    "    src = \"https://docs.google.com/presentation/d/e/2PACX-1vS_iYHJYXSVMMZ-YQVFwMEFR6EFN3FDSAvaMyUm-YJfLQgRMTHm3vI-wWJJ5999eFJq70nWp2hyItZg/embed?start=false&loop=false&delayms=3000\"\n",
    "    width = 960\n",
    "    height = 509\n",
    "    display(IFrame(src, width, height))"
   ]
  },
  {
   "cell_type": "markdown",
   "metadata": {
    "slideshow": {
     "slide_type": "slide"
    }
   },
   "source": [
    "# Lecture 18 – Causality and Bootstrapping\n",
    "\n",
    "## DSC 10, Winter 2022"
   ]
  },
  {
   "cell_type": "markdown",
   "metadata": {
    "slideshow": {
     "slide_type": "slide"
    }
   },
   "source": [
    "### Announcements\n",
    "\n",
    "- Lab 5 is due **tomorrow 2/17 at 11:59pm**.\n",
    "- Homework 5 is due **Saturday 2/19 at 11:59pm**.\n",
    "- Lab 6 is due **Tuesday 2/22 at 11:59pm**.\n",
    "- We recorded a [video](https://youtu.be/BlczSBT80fU) on `for`-loops and when **not** to use them.\n",
    "    - It is also linked in Lab 6, and on the website on the [Resources](https://dsc10.com/resources) page.\n",
    "- Make sure to look at the Grade Report on Gradescope."
   ]
  },
  {
   "cell_type": "markdown",
   "metadata": {
    "slideshow": {
     "slide_type": "slide"
    }
   },
   "source": [
    "### Agenda\n",
    "\n",
    "- Review of permutation testing.\n",
    "- Using permutation tests to show causality.\n",
    "- Bootstrapping."
   ]
  },
  {
   "cell_type": "markdown",
   "metadata": {
    "slideshow": {
     "slide_type": "slide"
    }
   },
   "source": [
    "## Review: Permutation testing"
   ]
  },
  {
   "cell_type": "markdown",
   "metadata": {
    "slideshow": {
     "slide_type": "slide"
    }
   },
   "source": [
    "### Another example: Deflategate 🏈\n",
    "\n",
    "- We didn't get a chance to finish the Deflategate example in lecture last class.\n",
    "- Run the cell below to watch a [walkthrough video](http://youtu.be/f3yg29kmKgI) of the example (also linked in the Lecture 17 and 18 playlists).\n",
    "    - There is no \"new\" content in it, but it is a helpful and interesting example of a permutation test.\n",
    "    - The code for the example is in the Lecture 17 notebook.\n",
    "    - [CIT 12.3](https://inferentialthinking.com/chapters/12/3/Deflategate.html) also discusses this same example."
   ]
  },
  {
   "cell_type": "code",
   "execution_count": null,
   "metadata": {},
   "outputs": [],
   "source": [
    "YouTubeVideo('f3yg29kmKgI')"
   ]
  },
  {
   "cell_type": "markdown",
   "metadata": {
    "slideshow": {
     "slide_type": "slide"
    }
   },
   "source": [
    "### Permutation testing (a.k.a. A/B testing)\n",
    "- Given two samples, are they drawn from the same population?\n",
    "- We've used permutation tests to answer questions like:\n",
    "    - \"Do smoking moms and nonsmoking moms have babies that weigh the same?\"\n",
    "    - \"Did the Colts' footballs and Patriots' footballs have the same pressure drop?\" (See supplemental video.)\n",
    "    - **More generally:** are *these things* like *those things*?"
   ]
  },
  {
   "cell_type": "code",
   "execution_count": null,
   "metadata": {
    "scrolled": false,
    "slideshow": {
     "slide_type": "slide"
    }
   },
   "outputs": [],
   "source": [
    "show_permutation_testing_slides()"
   ]
  },
  {
   "cell_type": "markdown",
   "metadata": {
    "slideshow": {
     "slide_type": "slide"
    }
   },
   "source": [
    "## Causality example: chronic back pain"
   ]
  },
  {
   "cell_type": "markdown",
   "metadata": {
    "slideshow": {
     "slide_type": "slide"
    }
   },
   "source": [
    "### Causality and permutation tests\n",
    "\n",
    "- Permutation tests can be used to establish **causality** in a randomized control trial!\n",
    "- If the only difference between two groups is that one was given the treatment, and there is a statistically significant difference between the two groups, then we can conclude the treatment had some effect."
   ]
  },
  {
   "cell_type": "markdown",
   "metadata": {
    "slideshow": {
     "slide_type": "slide"
    }
   },
   "source": [
    "### Using Botulinum toxin A (Botox) to treat lower back pain\n",
    "\n",
    "\n",
    "> [Botulinum neurotoxins (BoNTs) are the most potent toxins known.](https://febs.onlinelibrary.wiley.com/doi/10.1002/1873-3468.13446)\n",
    "\n",
    "- Botox is commonly used for treating muscle disorders, migraines, and for cosmetic purposes.\n",
    "- A randomized controlled trial examined the use of Botox in the treatment of lower back pain.\n",
    "    - 31 patients with pain were randomly assigned to control and treatment groups.\n",
    "    - The control group received a placebo (saline injection).\n",
    "        - Placebos are used when we don't want individuals to know which group they are in.\n",
    "    - The treatment group received Botox.\n",
    "    - After eight weeks, the number of people who experienced relief in both groups was counted."
   ]
  },
  {
   "cell_type": "markdown",
   "metadata": {
    "slideshow": {
     "slide_type": "slide"
    }
   },
   "source": [
    "### The data\n",
    "\n",
    "- 1 means \"experienced relief\".\n",
    "- 0 means \"no relief\"."
   ]
  },
  {
   "cell_type": "code",
   "execution_count": null,
   "metadata": {},
   "outputs": [],
   "source": [
    "back = bpd.read_csv('data/bta.csv')\n",
    "back"
   ]
  },
  {
   "cell_type": "code",
   "execution_count": null,
   "metadata": {},
   "outputs": [],
   "source": [
    "back.groupby('Group').count()"
   ]
  },
  {
   "cell_type": "markdown",
   "metadata": {
    "slideshow": {
     "slide_type": "slide"
    }
   },
   "source": [
    "### The results"
   ]
  },
  {
   "cell_type": "code",
   "execution_count": null,
   "metadata": {},
   "outputs": [],
   "source": [
    "# This evaluates to the proportion experiencing relief in each group\n",
    "back.groupby('Group').mean()"
   ]
  },
  {
   "cell_type": "markdown",
   "metadata": {},
   "source": [
    "- 60% of the treatment group experienced relief, compared to 12.5% of the control group.\n",
    "- But what if the people in the treatment group would have gotten better without the treatment, by chance?\n",
    "    - If this were the case, then the treatment would look like it had an impact even if it didn't.\n",
    "    - To account for this possibility, we should conduct a hypothesis test."
   ]
  },
  {
   "cell_type": "markdown",
   "metadata": {
    "slideshow": {
     "slide_type": "slide"
    }
   },
   "source": [
    "### A permutation test\n",
    "\n",
    "- Here, we have two numerical samples – the results for the control group, and the results for the treatment group.\n",
    "- **Null hypothesis**: Results for both groups come from the same distribution. \n",
    "    - In other words, Botox does not do anything different than saline, and the results we saw are due to chance. \n",
    "- **Alternative hypothesis**: More people in the treatment group experience relief.\n",
    "    - In other words, Botox helped with relief more than saline.\n",
    "- **Test statistic**: difference in proportion experiencing relief."
   ]
  },
  {
   "cell_type": "code",
   "execution_count": null,
   "metadata": {},
   "outputs": [],
   "source": [
    "# This will work whether the column is 'Result' or 'ShuffledResult'\n",
    "def difference_in_relief(df, column):\n",
    "    grouped = df.groupby('Group').mean().get(column)\n",
    "    return grouped.loc['Treatment'] - grouped.loc['Control']"
   ]
  },
  {
   "cell_type": "code",
   "execution_count": null,
   "metadata": {},
   "outputs": [],
   "source": [
    "observed_difference = difference_in_relief(back, 'Result')\n",
    "observed_difference"
   ]
  },
  {
   "cell_type": "markdown",
   "metadata": {
    "slideshow": {
     "slide_type": "slide"
    }
   },
   "source": [
    "### Shuffling"
   ]
  },
  {
   "cell_type": "code",
   "execution_count": null,
   "metadata": {},
   "outputs": [],
   "source": [
    "shuffled_results = np.random.permutation(back.get('Result'))\n",
    "shuffled = back.assign(ShuffledResult=shuffled_results)\n",
    "shuffled"
   ]
  },
  {
   "cell_type": "markdown",
   "metadata": {},
   "source": [
    "- The above DataFrame contains the results of one \"shuffling\" of the data.\n",
    "- This is equivalent to taking all participants in the trial and randomly assigning 16 to the control group and 15 to the treatment group.\n",
    "    - The same effect could be achieved by shuffling the `'Group'` column instead."
   ]
  },
  {
   "cell_type": "markdown",
   "metadata": {
    "slideshow": {
     "slide_type": "slide"
    }
   },
   "source": [
    "### The simulation"
   ]
  },
  {
   "cell_type": "code",
   "execution_count": null,
   "metadata": {},
   "outputs": [],
   "source": [
    "np.random.seed(4242) # Magic to ensure that we get the same results every time this code is run\n",
    "\n",
    "n_repetitions = 500\n",
    "differences = np.array([])\n",
    "\n",
    "for i in np.arange(n_repetitions):\n",
    "    # Step 1: Shuffle the results\n",
    "    shuffled_results = np.random.permutation(back.get('Result'))\n",
    "    \n",
    "    # Step 2: Put the shuffled results in a DataFrame\n",
    "    shuffled = back.assign(ShuffledResult=shuffled_results)\n",
    "    \n",
    "    # Step 3: Compute the difference in group proportions and add the result to the differences array\n",
    "    difference = difference_in_relief(shuffled, 'ShuffledResult')\n",
    "    \n",
    "    differences = np.append(differences, difference)"
   ]
  },
  {
   "cell_type": "code",
   "execution_count": null,
   "metadata": {},
   "outputs": [],
   "source": [
    "differences"
   ]
  },
  {
   "cell_type": "markdown",
   "metadata": {
    "slideshow": {
     "slide_type": "slide"
    }
   },
   "source": [
    "### Visualization"
   ]
  },
  {
   "cell_type": "code",
   "execution_count": null,
   "metadata": {
    "scrolled": true
   },
   "outputs": [],
   "source": [
    "bpd.DataFrame().assign(DifferenceInMeans=differences).plot(kind='hist', bins=9, density=True, ec='w', figsize=(10, 5));\n",
    "plt.axvline(observed_difference, color='red', label='observed difference')\n",
    "plt.legend();"
   ]
  },
  {
   "cell_type": "markdown",
   "metadata": {},
   "source": [
    "The p-value is the probability of seeing a test statistic equal to the observed test statistic or more extreme in the direction of the alternative hypothesis, under the null hypothesis."
   ]
  },
  {
   "cell_type": "code",
   "execution_count": null,
   "metadata": {},
   "outputs": [],
   "source": [
    "# p-value\n",
    "np.count_nonzero(differences >= observed_difference) / n_repetitions"
   ]
  },
  {
   "cell_type": "markdown",
   "metadata": {},
   "source": [
    "This is saying that the probability of seeing results this different in the two groups due to chance alone is vanishingly small (close to 0)."
   ]
  },
  {
   "cell_type": "markdown",
   "metadata": {
    "slideshow": {
     "slide_type": "slide"
    }
   },
   "source": [
    "### Conclusion\n",
    "\n",
    "- We reject the null hypothesis with a high degree of confidence.\n",
    "- This is evidence that the treatment **caused** improvement.\n",
    "    - **Only because** this was a **randomized controlled trial**.\n",
    "    - In earlier examples (e.g. birth weights of babies from smoking moms and nonsmoking moms), we could not establish causality because there could have been other differences between the two groups.\n",
    "- Read more about this example in [CIT 12.2](https://inferentialthinking.com/chapters/12/2/Causality.html?highlight=randomized%20control#potential-outcomes)."
   ]
  },
  {
   "cell_type": "markdown",
   "metadata": {
    "slideshow": {
     "slide_type": "slide"
    }
   },
   "source": [
    "## Bootstrapping 🥾"
   ]
  },
  {
   "cell_type": "markdown",
   "metadata": {
    "slideshow": {
     "slide_type": "slide"
    }
   },
   "source": [
    "### City of San Diego employee salary data\n",
    "\n",
    "All City of San Diego employee salary data [is public](https://publicpay.ca.gov/Reports/Cities/City.aspx?entityid=405&year=2020&rpt=1). We are using the latest available data."
   ]
  },
  {
   "cell_type": "code",
   "execution_count": null,
   "metadata": {},
   "outputs": [],
   "source": [
    "population = bpd.read_csv('data/2020_salaries.csv')\n",
    "population"
   ]
  },
  {
   "cell_type": "markdown",
   "metadata": {
    "slideshow": {
     "slide_type": "slide"
    }
   },
   "source": [
    "When you load in a dataset that has so many columns that you can't see them all, it's a good idea to look at the column names."
   ]
  },
  {
   "cell_type": "code",
   "execution_count": null,
   "metadata": {},
   "outputs": [],
   "source": [
    "population.columns"
   ]
  },
  {
   "cell_type": "markdown",
   "metadata": {
    "slideshow": {
     "slide_type": "slide"
    }
   },
   "source": [
    "### We only need the total wages..."
   ]
  },
  {
   "cell_type": "code",
   "execution_count": null,
   "metadata": {},
   "outputs": [],
   "source": [
    "population = population.get(['TotalWages'])\n",
    "population"
   ]
  },
  {
   "cell_type": "code",
   "execution_count": null,
   "metadata": {
    "scrolled": false
   },
   "outputs": [],
   "source": [
    "population.plot(kind='hist', bins=np.arange(0, 325000, 10000), density=True, ec='w', figsize=(10, 5));"
   ]
  },
  {
   "cell_type": "markdown",
   "metadata": {
    "slideshow": {
     "slide_type": "slide"
    }
   },
   "source": [
    "### Discussion Question\n",
    "\n",
    "Consider the question\n",
    "\n",
    "> What is the median salary of all San Diego city employees?\n",
    "\n",
    "What is the right tool to answer this question?\n",
    "\n",
    "- A. Standard hypothesis testing\n",
    "- B. Permutation testing\n",
    "- C. Either of the above\n",
    "- D. None of the above\n",
    "\n",
    "### To answer, go to [menti.com](https://menti.com) and enter the code 9199 2833."
   ]
  },
  {
   "cell_type": "markdown",
   "metadata": {
    "slideshow": {
     "slide_type": "slide"
    }
   },
   "source": [
    "### The median salary\n",
    "\n",
    "- We can use `.median()` to find the median salary of all city employees.\n",
    "- This is **not** a random quantity."
   ]
  },
  {
   "cell_type": "code",
   "execution_count": null,
   "metadata": {},
   "outputs": [],
   "source": [
    "population_median = population.get('TotalWages').median()\n",
    "population_median"
   ]
  },
  {
   "cell_type": "markdown",
   "metadata": {
    "slideshow": {
     "slide_type": "slide"
    }
   },
   "source": [
    "### But now...\n",
    "\n",
    "- ...suppose we don't have access to this entire dataset.\n",
    "- In practice, it is costly and time-consuming to survey **all** 12,000+ employees.\n",
    "    - More generally, we can't expect to survey all members of the population we care about.\n",
    "- Instead, we gather salaries for a random sample of, say, 500 people.\n",
    "- Hopefully, the median of the sample is close to the median of the population."
   ]
  },
  {
   "cell_type": "markdown",
   "metadata": {
    "slideshow": {
     "slide_type": "slide"
    }
   },
   "source": [
    "### In the language of statistics...\n",
    "\n",
    "- The full DataFrame of salaries is the **population**.\n",
    "- We observe a **sample** of 500 salaries from the population.\n",
    "- We want to determine the **population median (a parameter)**, but we don't have the whole population, so instead we use the **sample median (a statistic) as an estimate**.\n",
    "- Hopefully the sample median is close to the population median."
   ]
  },
  {
   "cell_type": "markdown",
   "metadata": {
    "slideshow": {
     "slide_type": "slide"
    }
   },
   "source": [
    "### The sample median\n",
    "\n",
    "- Let's survey 500 employees at random.\n",
    "- We can use `.sample()`:"
   ]
  },
  {
   "cell_type": "code",
   "execution_count": null,
   "metadata": {},
   "outputs": [],
   "source": [
    "np.random.seed(23) # Magic to ensure that we get the same results every time this code is run\n",
    "\n",
    "# Take a sample of size 500\n",
    "my_sample = population.sample(500)\n",
    "my_sample"
   ]
  },
  {
   "cell_type": "markdown",
   "metadata": {},
   "source": [
    "We won't reassign `my_sample` at any point in this notebook, so it will always refer to this particular sample."
   ]
  },
  {
   "cell_type": "code",
   "execution_count": null,
   "metadata": {},
   "outputs": [],
   "source": [
    "# Compute the sample median\n",
    "sample_median = my_sample.get('TotalWages').median()\n",
    "sample_median"
   ]
  },
  {
   "cell_type": "markdown",
   "metadata": {
    "slideshow": {
     "slide_type": "slide"
    }
   },
   "source": [
    "### How confident are we that this is a good estimate?\n",
    "\n",
    "- Our estimate depended on a random sample.\n",
    "- If our sample was different, our estimate may have been different, too.\n",
    "- **How different could our estimate have been?**\n",
    "- Our confidence in the estimate depends on the answer to this question."
   ]
  },
  {
   "cell_type": "markdown",
   "metadata": {
    "slideshow": {
     "slide_type": "slide"
    }
   },
   "source": [
    "### The sample median is random\n",
    "\n",
    "- The sample median is a random number.\n",
    "- It comes from some distribution, which we don't know.\n",
    "- How different could our estimate have been, if we drew a different sample?\n",
    "    - \"Narrow\" distribution $\\Rightarrow$ not too different.\n",
    "    - \"Wide\" distribution $\\Rightarrow$ quite different.\n",
    "- **What is the distribution of the sample median?**"
   ]
  },
  {
   "cell_type": "markdown",
   "metadata": {
    "slideshow": {
     "slide_type": "slide"
    }
   },
   "source": [
    "### An impractical approach\n",
    "\n",
    "- One idea: repeatedly collect random samples of 500 **from the population** and compute its median.\n",
    "    - This is what we did in Lecture 14 to compute an empirical distribution of the sample mean of flight delays.\n",
    "- The next two cells visualize the process of repeatedly collecting a sample and computing its median."
   ]
  },
  {
   "cell_type": "code",
   "execution_count": null,
   "metadata": {},
   "outputs": [],
   "source": [
    "%%capture\n",
    "anim, sample_medians = sampling_animation(population);"
   ]
  },
  {
   "cell_type": "code",
   "execution_count": null,
   "metadata": {
    "scrolled": false
   },
   "outputs": [],
   "source": [
    "HTML(anim.to_jshtml())"
   ]
  },
  {
   "cell_type": "markdown",
   "metadata": {
    "slideshow": {
     "slide_type": "slide"
    }
   },
   "source": [
    "### Visualize the empirical distribution\n",
    "\n",
    "- We can plot the empirical distribution of the sample median with a histogram.\n",
    "- This is an approximation of the true distribution of the sample median, using 246 samples."
   ]
  },
  {
   "cell_type": "code",
   "execution_count": null,
   "metadata": {},
   "outputs": [],
   "source": [
    "bpd.DataFrame().assign(SampleMedians=sample_medians) \\\n",
    "               .plot(kind='hist', density=True, bins=np.arange(60000, 85000, 1000), ec='w', figsize=(10, 5));"
   ]
  },
  {
   "cell_type": "markdown",
   "metadata": {
    "slideshow": {
     "slide_type": "slide"
    }
   },
   "source": [
    "### The problem\n",
    "\n",
    "- Drawing new samples like this is impractical.\n",
    "    - If we were able to do this, why not just collect more data in the first place?\n",
    "- Often, we can't ask for new samples from the population.\n",
    "- **Key insight:** our original sample, `my_sample`, looks a lot like the population.\n",
    "    - Their distributions are similar."
   ]
  },
  {
   "cell_type": "code",
   "execution_count": null,
   "metadata": {},
   "outputs": [],
   "source": [
    "fig, ax = plt.subplots(figsize=(10, 5))\n",
    "bins=np.arange(10_000, 300_000, 10_000)\n",
    "population.plot(kind='hist', y='TotalWages', ax=ax, density=True, alpha=.75, bins=bins, ec='w')\n",
    "my_sample.plot(kind='hist', y='TotalWages', ax=ax, density=True, alpha=.75, bins=bins, ec='w')\n",
    "plt.legend(['Population', 'My Sample']);"
   ]
  },
  {
   "cell_type": "markdown",
   "metadata": {},
   "source": [
    "Note that unlike the previous histogram we saw, this is depicting the distribution of the population and of one particular sample (`my_sample`), **not** the distribution of sample medians for 246 samples."
   ]
  },
  {
   "cell_type": "markdown",
   "metadata": {
    "slideshow": {
     "slide_type": "slide"
    }
   },
   "source": [
    "### The bootstrap\n",
    "\n",
    "- **Radical new idea:** What about sampling from the sample?\n",
    "    - The sample itself looks like the population.\n",
    "    - So, resampling from the sample is like sampling from the population.\n",
    "    - The act of resampling from a sample is called **bootstrapping** or \"**the bootstrap**\" method."
   ]
  },
  {
   "cell_type": "markdown",
   "metadata": {
    "slideshow": {
     "slide_type": "fragment"
    }
   },
   "source": [
    "- In our case specifically:\n",
    "    - We have a sample of 500 salaries.\n",
    "    - We want another sample of 500 salaries, but we can't draw from the population.\n",
    "    - However, the original sample looks like the population.\n",
    "    - So, let's just **resample from the sample!**"
   ]
  },
  {
   "cell_type": "code",
   "execution_count": null,
   "metadata": {
    "slideshow": {
     "slide_type": "slide"
    }
   },
   "outputs": [],
   "source": [
    "show_bootstrapping_slides()"
   ]
  },
  {
   "cell_type": "markdown",
   "metadata": {
    "slideshow": {
     "slide_type": "slide"
    }
   },
   "source": [
    "### Resampling with replacement\n",
    "\n",
    "When bootstrapping, we resample **with** replacement. Why? 🤔"
   ]
  },
  {
   "cell_type": "markdown",
   "metadata": {
    "slideshow": {
     "slide_type": "slide"
    }
   },
   "source": [
    "### Resampling with replacement\n",
    "\n",
    "- Our goal when bootstrapping is to create a sample of the same size as our original sample.\n",
    "- If we were to resample without replacement $n$ times from an original sample of size $n$, our resample would look exactly the same as the original sample.\n",
    "    - For instance, if we sample 5 elements without replacement from `['A', 'B', 'C', 'D', 'E']`, our sample will contain the same 5 characters, just in a different order.\n",
    "- So, we need to sample **with replacement** to ensure that our resamples can be different from the original sample."
   ]
  },
  {
   "cell_type": "markdown",
   "metadata": {
    "slideshow": {
     "slide_type": "slide"
    }
   },
   "source": [
    "### Running the bootstrap\n",
    "\n",
    "- We can simulate the act of collecting new samples by **sampling with replacement from our original sample, `my_sample`**."
   ]
  },
  {
   "cell_type": "code",
   "execution_count": null,
   "metadata": {},
   "outputs": [],
   "source": [
    "# Note that the population DataFrame doesn't appear anywhere here!\n",
    "\n",
    "n_resamples = 5000\n",
    "boot_medians = np.array([])\n",
    "\n",
    "for i in range(n_resamples):\n",
    "    \n",
    "    # Resample from my_sample WITH REPLACEMENT\n",
    "    resample = my_sample.sample(500, replace=True)\n",
    "    \n",
    "    # Compute the median\n",
    "    median = resample.get('TotalWages').median()\n",
    "    \n",
    "    # Store it in our array of medians\n",
    "    boot_medians = np.append(boot_medians, median)"
   ]
  },
  {
   "cell_type": "code",
   "execution_count": null,
   "metadata": {},
   "outputs": [],
   "source": [
    "boot_medians"
   ]
  },
  {
   "cell_type": "markdown",
   "metadata": {
    "slideshow": {
     "slide_type": "slide"
    }
   },
   "source": [
    "### Bootstrap distribution of the sample median"
   ]
  },
  {
   "cell_type": "code",
   "execution_count": null,
   "metadata": {
    "scrolled": false
   },
   "outputs": [],
   "source": [
    "bpd.DataFrame().assign(BootstrapMedians=boot_medians).plot(kind='hist', density=True, bins=np.arange(60000, 85000, 1000), ec='w', figsize=(10, 5))\n",
    "plt.scatter(population_median, 0.000004, color='orange', s=100, label='population median').set_zorder(2)\n",
    "plt.legend();"
   ]
  },
  {
   "cell_type": "markdown",
   "metadata": {
    "slideshow": {
     "slide_type": "fragment"
    }
   },
   "source": [
    "- The population median (orange dot) is near the middle.\n",
    "    - **In reality, we'd never get to see this!**"
   ]
  },
  {
   "cell_type": "markdown",
   "metadata": {
    "slideshow": {
     "slide_type": "slide"
    }
   },
   "source": [
    "### Bootstrap rules of thumb\n",
    "\n",
    "- The bootstrap is an awesome tool:\n",
    "    - We only had to collect a single sample from the population to get the (approximate) distribution of the sample median.\n",
    "- But it has limitations:\n",
    "    - It is not good for sensitive statistics, like the max or min.\n",
    "    - It requires the sample to be a good approximation of population.\n",
    "        - If our original sample was not representative of the population, the resulting bootstrapped samples will also not be representative of the population."
   ]
  },
  {
   "cell_type": "markdown",
   "metadata": {
    "slideshow": {
     "slide_type": "slide"
    }
   },
   "source": [
    "### Example: estimating the max of a population\n",
    "\n",
    "Suppose we want to estimate the maximum salary of all San Diego city employees, given just a single sample `my_sample`."
   ]
  },
  {
   "cell_type": "code",
   "execution_count": null,
   "metadata": {},
   "outputs": [],
   "source": [
    "# The true maximum salary in the population\n",
    "population_max = population.get('TotalWages').max()\n",
    "population_max"
   ]
  },
  {
   "cell_type": "markdown",
   "metadata": {
    "slideshow": {
     "slide_type": "slide"
    }
   },
   "source": [
    "### Running the bootstrap\n",
    "\n",
    "- We want to estimate the maximum number in the population.\n",
    "- Our estimate will be the max in the sample.\n",
    "- We run the bootstrap:"
   ]
  },
  {
   "cell_type": "code",
   "execution_count": null,
   "metadata": {},
   "outputs": [],
   "source": [
    "n_resamples = 5000\n",
    "boot_maxes = np.array([])\n",
    "\n",
    "for i in range(n_resamples):\n",
    "\n",
    "    resample = my_sample.sample(my_sample.shape[0], replace=True)\n",
    "    \n",
    "    boot_max = resample.get('TotalWages').max()\n",
    "    \n",
    "    boot_maxes = np.append(boot_maxes, boot_max)"
   ]
  },
  {
   "cell_type": "code",
   "execution_count": null,
   "metadata": {},
   "outputs": [],
   "source": [
    "boot_maxes"
   ]
  },
  {
   "cell_type": "markdown",
   "metadata": {
    "slideshow": {
     "slide_type": "slide"
    }
   },
   "source": [
    "### Visualize\n",
    "\n",
    "The bootstrap distribution doesn't surround the population maximum (orange dot) of 320699. Why not? 🤔"
   ]
  },
  {
   "cell_type": "code",
   "execution_count": null,
   "metadata": {
    "scrolled": false
   },
   "outputs": [],
   "source": [
    "bpd.DataFrame().assign(BootstrapMax=boot_maxes).plot(kind='hist', \n",
    "                                                     density=True, \n",
    "                                                     bins=np.arange(180000, 325000, 20000), \n",
    "                                                     ec='w',\n",
    "                                                     figsize=(10, 5))\n",
    "plt.scatter(population_max, 0.0000008, color='orange', s=100, label='population max')\n",
    "plt.legend();"
   ]
  },
  {
   "cell_type": "markdown",
   "metadata": {
    "slideshow": {
     "slide_type": "slide"
    }
   },
   "source": [
    "### The answer\n",
    "\n",
    "- The largest value in our original sample was 257062. \n",
    "- Therefore, the largest value in any bootstrapped sample is at most 257062.\n",
    "- Generally, the bootstrap works better for measures of central tendency or variation (means, medians, variances) than it does for extremas (maxes and mins).\n",
    "    - If we instead repeatedly sampled from the population directly, there would be more possibilities for the largest possible value in each sample, and so the distribution of the sample max would not have the \"gaps\" in it that the distribution on the previous slide does."
   ]
  },
  {
   "cell_type": "code",
   "execution_count": null,
   "metadata": {},
   "outputs": [],
   "source": [
    "my_sample.get('TotalWages').max()"
   ]
  },
  {
   "cell_type": "markdown",
   "metadata": {
    "slideshow": {
     "slide_type": "slide"
    }
   },
   "source": [
    "## Summary"
   ]
  },
  {
   "cell_type": "markdown",
   "metadata": {
    "slideshow": {
     "slide_type": "slide"
    }
   },
   "source": [
    "### Goal\n",
    "\n",
    "- Given a single sample, we want to estimate population parameter (e.g. the population median). \n",
    "- To do this, we compute a relevant statistic on our sample (e.g. the population statistic).\n",
    "- However, this estimate is random, because our sample is random, and so it could have looked different.\n",
    "- In order to know whether our estimate is reliable, we'd like to look at its distribution.\n",
    "- Unfortunately, determining the distribution of our estimate would require us to collect more samples from our population, which we can't do in practice."
   ]
  },
  {
   "cell_type": "markdown",
   "metadata": {
    "slideshow": {
     "slide_type": "slide"
    }
   },
   "source": [
    "### Key idea\n",
    "\n",
    "- **The distribution of a sample looks a lot like the distribution of the population it was drawn from.**\n",
    "- So, we can repeatedly **resample** from our original sample, and compute the estimate (e.g. median) on each of these resamples to create a **bootstrapped** distribution of our estimate.\n",
    "    - Resampling from a sample is called **bootstrapping**.\n",
    "- This bootstrapped distribution will look a lot like the true distribution of the estimate."
   ]
  },
  {
   "cell_type": "markdown",
   "metadata": {
    "slideshow": {
     "slide_type": "slide"
    }
   },
   "source": [
    "### Next steps\n",
    "\n",
    "- We just learned how to approximate the distribution of a sample statistic.\n",
    "- This means that we now have a sense of how much our estimates can vary.\n",
    "- But if someone asks, \"what's your best guess of the population parameter?\" we're not going to give them our bootstrapped distribution. Instead, we may want to give them a range, or **interval**, of likely values.\n",
    "- In Friday's lecture we'll formalize the notion of a confidence interval, and will talk about the idea of percentiles along the way."
   ]
  }
 ],
 "metadata": {
  "celltoolbar": "Slideshow",
  "kernelspec": {
   "display_name": "Python 3 (ipykernel)",
   "language": "python",
   "name": "python3"
  },
  "language_info": {
   "codemirror_mode": {
    "name": "ipython",
    "version": 3
   },
   "file_extension": ".py",
   "mimetype": "text/x-python",
   "name": "python",
   "nbconvert_exporter": "python",
   "pygments_lexer": "ipython3",
   "version": "3.9.7"
  },
  "livereveal": {
   "scroll": true,
   "transition": "none"
  }
 },
 "nbformat": 4,
 "nbformat_minor": 2
}
