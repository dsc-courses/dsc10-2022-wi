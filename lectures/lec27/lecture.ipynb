{
 "cells": [
  {
   "cell_type": "code",
   "execution_count": null,
   "id": "61ca88b5",
   "metadata": {
    "slideshow": {
     "slide_type": "skip"
    }
   },
   "outputs": [],
   "source": [
    "# Imports\n",
    "import babypandas as bpd\n",
    "import numpy as np\n",
    "\n",
    "import matplotlib.pyplot as plt\n",
    "plt.style.use('fivethirtyeight')\n",
    "\n",
    "# Setup to start where we left off in Lecture 26\n",
    "keep_cols = ['business_name', 'inspection_date', 'inspection_score', 'risk_category', 'Neighborhoods', 'Zip Codes']\n",
    "restaurants_full = bpd.read_csv('data/restaurants.csv').get(keep_cols)\n",
    "bakeries = restaurants_full[restaurants_full.get('business_name').str.lower().str.contains('bake')]\n",
    "bakeries = bakeries[bakeries.get('inspection_score') >= 0] # Keeping only the rows where we know the inspection score"
   ]
  },
  {
   "cell_type": "markdown",
   "id": "61a2a8dc",
   "metadata": {
    "slideshow": {
     "slide_type": "slide"
    }
   },
   "source": [
    "# Lecture 27 – Review, Conclusion\n",
    "\n",
    "## DSC 10, Winter 2022"
   ]
  },
  {
   "cell_type": "markdown",
   "id": "d8d73652",
   "metadata": {
    "slideshow": {
     "slide_type": "slide"
    }
   },
   "source": [
    "### Announcements\n",
    "\n",
    "- The **Final Exam** is **tomorrow from 3-6PM** ‼️.\n",
    "    - See [this post](https://campuswire.com/c/G6950E967/feed/1403) on Campuswire for more details.\n",
    "- If at least 85% of the class fills out **both** [CAPEs](https://cape.usd.edu) and the [additional survey](https://forms.gle/pt9HZ4RJzBrz1Vz98), then everyone will receive an extra 0.5% added to their overall course grade.\n",
    "    - Currently at 69% for CAPEs and 57% for the additional survey – make sure to fill out both!\n",
    "    - The deadline for both is tomorrow at **8AM**.\n",
    "- There are office hours all day today.\n",
    "    - Post questions on Campuswire too, but please search before asking a question about a past exam – chances are, it was already answered!"
   ]
  },
  {
   "cell_type": "markdown",
   "id": "0dcd77c9",
   "metadata": {
    "slideshow": {
     "slide_type": "slide"
    }
   },
   "source": [
    "### Agenda\n",
    "\n",
    "- Finish the review from Wednesday.\n",
    "- Personal projects. \n",
    "- Demo of cool plotting.\n",
    "- Parting thoughts."
   ]
  },
  {
   "cell_type": "markdown",
   "id": "067364c9",
   "metadata": {
    "slideshow": {
     "slide_type": "slide"
    }
   },
   "source": [
    "## Bakeries 🧁"
   ]
  },
  {
   "cell_type": "code",
   "execution_count": null,
   "id": "4368f115",
   "metadata": {
    "slideshow": {
     "slide_type": "slide"
    }
   },
   "outputs": [],
   "source": [
    "bakeries"
   ]
  },
  {
   "cell_type": "markdown",
   "id": "b55ec526",
   "metadata": {},
   "source": [
    "In this case we happen to have the inspection scores for all members of the **population** – i.e. **all bakeries in San Francisco** – but in reality we won't. So let's instead consider a random **sample** of the population."
   ]
  },
  {
   "cell_type": "code",
   "execution_count": null,
   "id": "7d73fa5a",
   "metadata": {},
   "outputs": [],
   "source": [
    "np.random.seed(23) # Ignore this\n",
    "\n",
    "sample_of_bakeries = bakeries.sample(200, replace=False)\n",
    "sample_of_bakeries"
   ]
  },
  {
   "cell_type": "markdown",
   "id": "2635d049",
   "metadata": {
    "slideshow": {
     "slide_type": "slide"
    }
   },
   "source": [
    "We're interested in inferring what the population **median** is given our single sample. There is no CLT for sample medians, so instead we'll have to resort to bootstrapping to estimate the distribution of the sample median.\n",
    "\n",
    "Recall, bootstrapping is the act of **sampling from the original sample, with replacement**. This is also called **resampling**."
   ]
  },
  {
   "cell_type": "code",
   "execution_count": null,
   "id": "ae98c08f",
   "metadata": {},
   "outputs": [],
   "source": [
    "# The median of our original sample – this is just one number\n",
    "sample_of_bakeries.get('inspection_score').median()"
   ]
  },
  {
   "cell_type": "code",
   "execution_count": null,
   "id": "bb9f07d5",
   "metadata": {},
   "outputs": [],
   "source": [
    "# The median of a single bootstrap resample – this is just one number\n",
    "sample_of_bakeries.sample(200, replace=True).get('inspection_score').median()"
   ]
  },
  {
   "cell_type": "markdown",
   "id": "6acefecd",
   "metadata": {
    "slideshow": {
     "slide_type": "slide"
    }
   },
   "source": [
    "Let's resample repeatedly."
   ]
  },
  {
   "cell_type": "code",
   "execution_count": null,
   "id": "91950d2e",
   "metadata": {},
   "outputs": [],
   "source": [
    "np.random.seed(23) # Ignore this\n",
    "\n",
    "boot_medians = np.array([])\n",
    "\n",
    "for i in np.arange(5000):\n",
    "    boot_median = sample_of_bakeries.sample(sample_of_bakeries.shape[0], replace=True).get('inspection_score').median()\n",
    "    boot_medians = np.append(boot_medians, boot_median)"
   ]
  },
  {
   "cell_type": "code",
   "execution_count": null,
   "id": "a2fbae8e",
   "metadata": {},
   "outputs": [],
   "source": [
    "boot_medians"
   ]
  },
  {
   "cell_type": "code",
   "execution_count": null,
   "id": "0536fd1f",
   "metadata": {
    "slideshow": {
     "slide_type": "slide"
    }
   },
   "outputs": [],
   "source": [
    "bpd.DataFrame().assign(boot_medians=boot_medians).plot(kind='hist', density=True, ec='w', bins=10, figsize=(10, 5));"
   ]
  },
  {
   "cell_type": "markdown",
   "id": "69c3c3c0",
   "metadata": {},
   "source": [
    "Note that this distribution is not at all normal.\n",
    "\n",
    "To compute a 95% confidence interval, we take the middle 95% of the bootstrapped medians."
   ]
  },
  {
   "cell_type": "code",
   "execution_count": null,
   "id": "296efb35",
   "metadata": {},
   "outputs": [],
   "source": [
    "left = np.percentile(boot_medians, 2.5)\n",
    "right = np.percentile(boot_medians, 97.5)\n",
    "\n",
    "[left, right]"
   ]
  },
  {
   "cell_type": "markdown",
   "id": "a2922f85",
   "metadata": {
    "slideshow": {
     "slide_type": "slide"
    }
   },
   "source": [
    "### Discussion Question\n",
    "\n",
    "Which of the following interpretations of this confidence interval are valid?\n",
    "\n",
    "1. 95% of SF bakeries have an inspection score between 85 and 88.  \n",
    "2. 95% of the resamples have a median inspection score between 85 and 88.  \n",
    "3. There is a 95% chance that our sample has a median inspection score between 85 and 88.  \n",
    "4. There is a 95% chance that the median inspection score of all SF bakeries is between 85 and 88.  \n",
    "5. If we had taken 100 samples from the same population, about 95 of these samples would have a median inspection score between 85 and 88.  \n",
    "6.  If we had taken 100 samples from the same population, about 95 of the confidence intervals created would contain the median inspection score of all SF bakeries.  "
   ]
  },
  {
   "cell_type": "markdown",
   "id": "6f74300f",
   "metadata": {},
   "source": [
    "<details>\n",
    "<summary>Click for the answer <b>after</b> you've entered your guess above. <b>Don't scroll any further.</b></summary>\n",
    "    \n",
    "The correct answers are Option 2 and Option 6.\n",
    "\n",
    "</details>"
   ]
  },
  {
   "cell_type": "markdown",
   "id": "e386d6b9",
   "metadata": {
    "slideshow": {
     "slide_type": "slide"
    }
   },
   "source": [
    "## Physicians 🩺"
   ]
  },
  {
   "cell_type": "markdown",
   "id": "ff413ebe",
   "metadata": {
    "slideshow": {
     "slide_type": "slide"
    }
   },
   "source": [
    "### The setup\n",
    "\n",
    "You work as a family physician. You collect data and you find that in 6354 patients, 3115 were children and 3239 were adults.\n",
    "\n",
    "You want to test the following hypotheses:\n",
    "\n",
    "- **Null Hypothesis:** Family physicians see an equal number of children and adults.\n",
    "- **Alternative Hypothesis:** Family physicians see more adults than they see children."
   ]
  },
  {
   "cell_type": "markdown",
   "id": "f7e43ea6",
   "metadata": {
    "slideshow": {
     "slide_type": "slide"
    }
   },
   "source": [
    "### Discussion Question\n",
    "\n",
    "Which test statistic(s) could be used for this hypothesis test? Which values of the test statistic point towards the alternative?\n",
    "\n",
    "A. proportion of children seen   \n",
    "B. number of children seen  \n",
    "C. number of children minus number of adults seen  \n",
    "D. absolute value of number of children minus number of adults seen\n",
    "\n",
    "**There may be multiple correct answers.**"
   ]
  },
  {
   "cell_type": "markdown",
   "id": "8bb0fc81",
   "metadata": {},
   "source": [
    "<details>\n",
    "<summary>Click for the answer <b>after</b> you've entered your guess above. <b>Don't scroll any further.</b></summary>\n",
    "    \n",
    "All of these but the last one would work for this alternative. Small values of these statistics would favor the alternative.\n",
    "    \n",
    "If the alternative was instead \"Family physicians see a different number of children and adults\", the last option would work while the first three wouldn't.\n",
    "\n",
    "</details>"
   ]
  },
  {
   "cell_type": "markdown",
   "id": "d3a521e9",
   "metadata": {
    "slideshow": {
     "slide_type": "slide"
    }
   },
   "source": [
    "Let's use option B, the number of children seen, as a test statistic. Small values of this statistic favor the alternative hypothesis.\n",
    "\n",
    "How do we generate a single value of the test statistic?"
   ]
  },
  {
   "cell_type": "code",
   "execution_count": null,
   "id": "7537376f",
   "metadata": {},
   "outputs": [],
   "source": [
    "np.random.multinomial(6354, [0.5, 0.5])[0]"
   ]
  },
  {
   "cell_type": "markdown",
   "id": "7a5c91dc",
   "metadata": {},
   "source": [
    "As usual, let's simulate the test statistic many, many times."
   ]
  },
  {
   "cell_type": "code",
   "execution_count": null,
   "id": "250087cd",
   "metadata": {},
   "outputs": [],
   "source": [
    "test_stats = np.array([])\n",
    "\n",
    "for i in np.arange(10000):\n",
    "    stat = np.random.multinomial(6354, [0.5, 0.5])[0]\n",
    "    test_stats = np.append(test_stats, stat)"
   ]
  },
  {
   "cell_type": "code",
   "execution_count": null,
   "id": "970cbea9",
   "metadata": {},
   "outputs": [],
   "source": [
    "test_stats"
   ]
  },
  {
   "cell_type": "code",
   "execution_count": null,
   "id": "8174e629",
   "metadata": {
    "slideshow": {
     "slide_type": "slide"
    }
   },
   "outputs": [],
   "source": [
    "bpd.DataFrame().assign(test_stats=test_stats) \\\n",
    "               .plot(kind='hist', density=True, ec='w', figsize=(10, 5), bins=20);\n",
    "plt.axvline(3115, color='red', label='observed statistic')\n",
    "plt.legend();"
   ]
  },
  {
   "cell_type": "markdown",
   "id": "b4320d99",
   "metadata": {},
   "source": [
    "Recall that you collected data and found that in 6354 patients, 3115 were children and 3239 were adults."
   ]
  },
  {
   "cell_type": "markdown",
   "id": "24ecc464",
   "metadata": {
    "slideshow": {
     "slide_type": "slide"
    }
   },
   "source": [
    "### Discussion Question\n",
    "\n",
    "What goes in blank (a)?\n",
    "\n",
    "```py\n",
    "p_value = np.count_nonzero(test_stats __(a)__ 3115) / 10000\n",
    "```\n",
    "\n",
    "A. `>=`\n",
    "\n",
    "B. `>`\n",
    "\n",
    "C. `<=`\n",
    "\n",
    "D. `<`\n",
    "\n",
    "### To answer, go to [menti.com](https://menti.com) and enter the code 3437 4946."
   ]
  },
  {
   "cell_type": "markdown",
   "id": "9a6c71bb",
   "metadata": {},
   "source": [
    "<details>\n",
    "<summary>Click for the answer <b>after</b> you've entered your guess above. <b>Don't scroll any further.</b></summary>\n",
    "    <=\n",
    "\n",
    "</details>"
   ]
  },
  {
   "cell_type": "code",
   "execution_count": null,
   "id": "2d8451c7",
   "metadata": {
    "slideshow": {
     "slide_type": "slide"
    }
   },
   "outputs": [],
   "source": [
    "# Calculate the p-value"
   ]
  },
  {
   "cell_type": "markdown",
   "id": "a49fedf9",
   "metadata": {
    "slideshow": {
     "slide_type": "slide"
    }
   },
   "source": [
    "### Discussion Question\n",
    "\n",
    "What do we do, assuming that we're using a 5% p-value cutoff?\n",
    "\n",
    "A. reject the null  \n",
    "\n",
    "B. fail to reject the null \n",
    "\n",
    "C. not sure\n",
    "\n",
    "### To answer, go to [menti.com](https://menti.com) and enter the code 3437 4946."
   ]
  },
  {
   "cell_type": "markdown",
   "id": "bb054c0f",
   "metadata": {},
   "source": [
    "<details>\n",
    "<summary>Click for the answer <b>after</b> you've entered your guess above. <b>Don't scroll any further.</b></summary>\n",
    "    Fail to reject the null, since the p-value is above 0.05.\n",
    "\n",
    "</details>"
   ]
  },
  {
   "cell_type": "markdown",
   "id": "1cdad2e4",
   "metadata": {
    "slideshow": {
     "slide_type": "slide"
    }
   },
   "source": [
    "Note that while we used `np.random.permutation` to simulate the test statistic, we could have used `np.random.choice`, too:"
   ]
  },
  {
   "cell_type": "code",
   "execution_count": null,
   "id": "7615bf92",
   "metadata": {},
   "outputs": [],
   "source": [
    "choices = np.random.choice(['adult', 'child'], p=[0.5, 0.5], size=6354, replace=True)\n",
    "choices"
   ]
  },
  {
   "cell_type": "code",
   "execution_count": null,
   "id": "73eb8865",
   "metadata": {},
   "outputs": [],
   "source": [
    "np.count_nonzero(choices == 'child')"
   ]
  },
  {
   "cell_type": "markdown",
   "id": "b0d50796",
   "metadata": {},
   "source": [
    "### Discussion Question\n",
    "\n",
    "Is this an example of bootstrapping?\n",
    "\n",
    "A. Yes, because we are sampling with replacement.\n",
    "\n",
    "B. No, this is not bootstrapping.\n",
    "\n",
    "### To answer, go to [menti.com](https://menti.com) and enter the code 3437 4946."
   ]
  },
  {
   "cell_type": "markdown",
   "id": "b7f2d181",
   "metadata": {},
   "source": [
    "<details>\n",
    "<summary>Click for the answer <b>after</b> you've entered your guess above. <b>Don't scroll any further.</b></summary>\n",
    "    \n",
    "No, this is not bootstrapping. Bootstrapping is when we resample from a single sample; here we're simulating data under the assumptions of a model.\n",
    "\n",
    "</details>"
   ]
  },
  {
   "cell_type": "markdown",
   "id": "116bb9bf",
   "metadata": {
    "slideshow": {
     "slide_type": "slide"
    }
   },
   "source": [
    "## Personal projects"
   ]
  },
  {
   "cell_type": "markdown",
   "id": "1096e857",
   "metadata": {
    "slideshow": {
     "slide_type": "slide"
    }
   },
   "source": [
    "### Using Jupyter Notebooks after DSC 10\n",
    "\n",
    "- You may be interested in working on data science projects of your own.\n",
    "- In [this video](https://www.youtube.com/watch?v=Hq8VaNirDRQ), we show you how to make blank notebooks and upload datasets of your own to DataHub.\n",
    "- Depending on the classes you're in, you may not have access to DataHub. Eventually, you'll want to install Jupyter Notebooks on your computer.\n",
    "    - [Anaconda](https://docs.anaconda.com/anaconda/install/index.html) is a great way to do that, as it also installs many commonly used packages.\n",
    "    - You may want to download your work from DataHub so you can refer to it after the course ends.\n",
    "    - Remember, all `babypandas` code is regular `pandas` code, too!"
   ]
  },
  {
   "cell_type": "markdown",
   "id": "11dcf19d",
   "metadata": {
    "slideshow": {
     "slide_type": "slide"
    }
   },
   "source": [
    "### Finding data\n",
    "\n",
    "These sites allow you to search for datasets (in CSV format) from a variety of different domains. Some may require you to sign up for an account; these are generally reputable sources.\n",
    "\n",
    "Note that all of these links are also available at https://rampure.org/find-datasets.\n",
    "\n",
    "- [Kaggle Datasets](https://www.kaggle.com/datasets).\n",
    "- [Google’s dataset search](http://toolbox.google.com/datasetsearch).\n",
    "- [FiveThirtyEight](https://data.fivethirtyeight.com/).\n",
    "- [DataHub.io](https://datahub.io/collections).\n",
    "- [Data.world.](https://data.world/)\n",
    "- [CORGIS](https://corgis-edu.github.io/corgis/csv/).\n",
    "- [R datasets](https://vincentarelbundock.github.io/Rdatasets/articles/data.html).\n",
    "- Wikipedia. (use [this site](https://wikitable2csv.ggor.de/) to extract and download tables as CSVs)\n",
    "- [Awesome Public Datasets GitHub repo](https://github.com/awesomedata/awesome-public-datasets).\n",
    "- [Links to even more sources](https://rockcontent.com/blog/data-sources/)"
   ]
  },
  {
   "cell_type": "markdown",
   "id": "4d072278",
   "metadata": {
    "slideshow": {
     "slide_type": "slide"
    }
   },
   "source": [
    "### Domain-specific sources of data\n",
    "\n",
    "- Sports: [Basketball Reference](https://www.basketball-reference.com/), [Baseball Reference](https://www.baseball-reference.com/), etc.\n",
    "- US Government Sources: [census.gov](https://www.census.gov/data/tables.html), [data.gov](https://www.data.gov/), [data.ca.gov](https://data.ca.gov/), [data.sfgov.org](https://data.sfgov.org/browse?), [FBI’s Crime Data Explorer](https://crime-data-explorer.fr.cloud.gov/), [Centers for Disease Control and Prevention](https://data.cdc.gov/browse?category=NCHS).\n",
    "- Global Development: [data.worldbank.org](https://data.worldbank.org/), [databank.worldbank.org](https://databank.worldbank.org/home.aspx), [WHO](https://apps.who.int/gho/data/node.home).\n",
    "- Transportation: [New York Taxi trips](https://www1.nyc.gov/site/tlc/about/tlc-trip-record-data.page), [Bureau of Transportation Statistics](https://www.transtats.bts.gov/DataIndex.asp), [SFO Air Traffic Statistics](https://www.flysfo.com/media/facts-statistics/air-traffic-statistics).\n",
    "- Music: [Spotify Charts](https://spotifycharts.com/regional).\n",
    "- COVID: [Johns Hopkins](https://github.com/CSSEGISandData/COVID-19).\n",
    "- Any Google Forms survey you’ve administered! (Go to the results spreadsheet, then go to “File > Download > Comma-separated values”.)\n",
    "\n",
    "Tip: if a site only allows you to download a file as an Excel file, not a CSV file, you can download it, open it in a spreadsheet viewer (Excel, Numbers, Google Sheets), and export it to a CSV."
   ]
  },
  {
   "cell_type": "markdown",
   "id": "245a71d0",
   "metadata": {
    "slideshow": {
     "slide_type": "slide"
    }
   },
   "source": [
    "## Demo: Gapminder 🌎"
   ]
  },
  {
   "cell_type": "markdown",
   "id": "87466e3c",
   "metadata": {
    "slideshow": {
     "slide_type": "slide"
    }
   },
   "source": [
    "### plotly\n",
    "\n",
    "- All of the visualizations (scatter plots, histograms, etc.) in this course were created using a library called `matplotlib`.\n",
    "    - This library was called under-the-hood everytime we wrote `df.plot`.\n",
    "- `plotly` is a visualization library that allows us to create **interactive** visualizations.\n",
    "- You may learn about it in a future course, but we'll briefly show you some cool visualizations you can make with it."
   ]
  },
  {
   "cell_type": "code",
   "execution_count": null,
   "id": "c44a828c",
   "metadata": {},
   "outputs": [],
   "source": [
    "import plotly.express as px"
   ]
  },
  {
   "cell_type": "markdown",
   "id": "fb785dbd",
   "metadata": {
    "slideshow": {
     "slide_type": "slide"
    }
   },
   "source": [
    "### Gapminder dataset\n",
    "\n",
    "> Gapminder Foundation is a non-profit venture registered in Stockholm, Sweden, that promotes sustainable global development and achievement of the United Nations Millennium Development Goals by increased use and understanding of statistics and other information about social, economic and environmental development at local, national and global levels. - [Gapminder Wikipedia](https://en.wikipedia.org/wiki/Gapminder_Foundation)"
   ]
  },
  {
   "cell_type": "code",
   "execution_count": null,
   "id": "f10fab42",
   "metadata": {},
   "outputs": [],
   "source": [
    "gapminder = px.data.gapminder()\n",
    "gapminder"
   ]
  },
  {
   "cell_type": "markdown",
   "id": "9bbda49a",
   "metadata": {},
   "source": [
    "The dataset contains information for each country for several different years."
   ]
  },
  {
   "cell_type": "code",
   "execution_count": null,
   "id": "61dc0d5e",
   "metadata": {},
   "outputs": [],
   "source": [
    "np.unique(gapminder.get('year'))"
   ]
  },
  {
   "cell_type": "markdown",
   "id": "6b232020",
   "metadata": {
    "slideshow": {
     "slide_type": "slide"
    }
   },
   "source": [
    "Let's start by just looking at 2007 data (the most recent year in the dataset)."
   ]
  },
  {
   "cell_type": "code",
   "execution_count": null,
   "id": "39143d66",
   "metadata": {},
   "outputs": [],
   "source": [
    "gapminder_2007 = gapminder[gapminder.get('year') == 2007]\n",
    "gapminder_2007"
   ]
  },
  {
   "cell_type": "markdown",
   "id": "6056f0b5",
   "metadata": {
    "slideshow": {
     "slide_type": "slide"
    }
   },
   "source": [
    "### Scatter plot\n",
    "\n",
    "We can plot life expectancy vs. GDP per capita. If you hover over a point, it'll tell you the name of the country."
   ]
  },
  {
   "cell_type": "code",
   "execution_count": null,
   "id": "3a3eb5e6",
   "metadata": {},
   "outputs": [],
   "source": [
    "px.scatter(gapminder_2007, x='gdpPercap', y='lifeExp', hover_name='country')"
   ]
  },
  {
   "cell_type": "markdown",
   "id": "67725db4",
   "metadata": {
    "slideshow": {
     "slide_type": "slide"
    }
   },
   "source": [
    "In future courses, you'll learn about transformations. Here, we'll apply a log transformation to the x-axis to make the plot look a little more linear."
   ]
  },
  {
   "cell_type": "code",
   "execution_count": null,
   "id": "7013549a",
   "metadata": {},
   "outputs": [],
   "source": [
    "px.scatter(gapminder_2007, x='gdpPercap', y='lifeExp', log_x=True, hover_name='country')"
   ]
  },
  {
   "cell_type": "markdown",
   "id": "b45de5a7",
   "metadata": {
    "slideshow": {
     "slide_type": "slide"
    }
   },
   "source": [
    "### Animated scatter plot\n",
    "\n",
    "We can take things one step further."
   ]
  },
  {
   "cell_type": "code",
   "execution_count": null,
   "id": "8cd8be7c",
   "metadata": {},
   "outputs": [],
   "source": [
    "px.scatter(gapminder,\n",
    "           x = 'gdpPercap',\n",
    "           y = 'lifeExp', \n",
    "           hover_name = 'country',\n",
    "           color = 'continent',\n",
    "           size = 'pop',\n",
    "           size_max = 60,\n",
    "           log_x = True,\n",
    "           range_y = [30, 90],\n",
    "           animation_frame = 'year',\n",
    "           title = 'Life Expectancy, GDP Per Capita, and Population over Time'\n",
    "          )"
   ]
  },
  {
   "cell_type": "markdown",
   "id": "49a1f26d",
   "metadata": {},
   "source": [
    "Watch [this video](https://www.youtube.com/watch?v=jbkSRLYSojo) if you want to see an even-more-animated version of this plot."
   ]
  },
  {
   "cell_type": "markdown",
   "id": "59dfb87a",
   "metadata": {
    "slideshow": {
     "slide_type": "slide"
    }
   },
   "source": [
    "### Animated histogram"
   ]
  },
  {
   "cell_type": "code",
   "execution_count": null,
   "id": "d5cc2b32",
   "metadata": {},
   "outputs": [],
   "source": [
    "px.histogram(gapminder,\n",
    "            x = 'lifeExp',\n",
    "            animation_frame = 'year',\n",
    "            range_x = [20, 90],\n",
    "            range_y = [0, 50],\n",
    "            title = 'Distribution of Life Expectancy over Time')"
   ]
  },
  {
   "cell_type": "markdown",
   "id": "ad53b2ea",
   "metadata": {
    "slideshow": {
     "slide_type": "slide"
    }
   },
   "source": [
    "### Choropleth"
   ]
  },
  {
   "cell_type": "code",
   "execution_count": null,
   "id": "2476bcf0",
   "metadata": {},
   "outputs": [],
   "source": [
    "px.choropleth(gapminder,\n",
    "              locations = 'iso_alpha',\n",
    "              color = 'lifeExp',\n",
    "              hover_name = 'country',\n",
    "              hover_data = {'iso_alpha': False},\n",
    "              title = 'Life Expectancy Per Country',\n",
    "              color_continuous_scale = px.colors.sequential.tempo\n",
    ")"
   ]
  },
  {
   "cell_type": "markdown",
   "id": "696860e3",
   "metadata": {
    "slideshow": {
     "slide_type": "slide"
    }
   },
   "source": [
    "## Parting thoughts"
   ]
  },
  {
   "cell_type": "markdown",
   "id": "009d9662",
   "metadata": {
    "slideshow": {
     "slide_type": "slide"
    }
   },
   "source": [
    "### From Lecture 1: what is data science?\n",
    "\n",
    "Drawing useful conclusions from data using computation.\n",
    "\n",
    "- **Exploration**\n",
    "    - Identifying patterns in information\n",
    "    - Uses visualizations\n",
    "- **Prediction**\n",
    "    - Making informed guesses\n",
    "    - Uses machine learning and optimization\n",
    "- **Inference**\n",
    "    - Quantifying whether those predictions are reliable\n",
    "    - Uses randomization\n",
    "    \n",
    "Throughout the quarter, you were exposed to all three of these facets. In future courses, you'll continue to learn more."
   ]
  },
  {
   "cell_type": "markdown",
   "id": "977d6dc0",
   "metadata": {
    "slideshow": {
     "slide_type": "slide"
    }
   },
   "source": [
    "### Note on grades\n",
    "\n",
    "<center><img src='data/transcript.png' width=700> Suraj's freshman year transcript. </center>\n",
    "\n",
    "Don't let your grades define you, they don't tell the full story."
   ]
  },
  {
   "cell_type": "markdown",
   "id": "cf8963a2",
   "metadata": {
    "slideshow": {
     "slide_type": "slide"
    }
   },
   "source": [
    "### Thank you!\n",
    "\n",
    "This course would not have been possible without...\n",
    "- Our 2 TAs: Murali and Yifei.\n",
    "- Our 14 tutors: John Driscoll, Judy Feng, Jessica Guzman, Yujian (Ken) He, Aven Huang, Dylan Lee, Teresa Lee, Karthikeya Manchala, Yash Potdar, Shiv Sakthivel, Ethan Shapiro, Du Xiang, Guantong Zhang, and Xuzhe (Alina) Zhi.\n",
    "- Keep in touch! [dsc10.com/staff](https://dsc10.com/staff)"
   ]
  },
  {
   "cell_type": "markdown",
   "id": "28c20d5d",
   "metadata": {
    "slideshow": {
     "slide_type": "slide"
    }
   },
   "source": [
    "## Good luck on the final! 🎉"
   ]
  }
 ],
 "metadata": {
  "celltoolbar": "Slideshow",
  "kernelspec": {
   "display_name": "Python 3 (ipykernel)",
   "language": "python",
   "name": "python3"
  },
  "language_info": {
   "codemirror_mode": {
    "name": "ipython",
    "version": 3
   },
   "file_extension": ".py",
   "mimetype": "text/x-python",
   "name": "python",
   "nbconvert_exporter": "python",
   "pygments_lexer": "ipython3",
   "version": "3.9.7"
  }
 },
 "nbformat": 4,
 "nbformat_minor": 5
}
