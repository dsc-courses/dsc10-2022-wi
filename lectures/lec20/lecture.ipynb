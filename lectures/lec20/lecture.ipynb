{
 "cells": [
  {
   "cell_type": "code",
   "execution_count": null,
   "metadata": {
    "slideshow": {
     "slide_type": "skip"
    }
   },
   "outputs": [],
   "source": [
    "# Imports\n",
    "import babypandas as bpd\n",
    "import numpy as np\n",
    "\n",
    "import matplotlib.pyplot as plt\n",
    "plt.style.use('fivethirtyeight')\n",
    "\n",
    "# Animations\n",
    "from IPython.display import display, IFrame\n",
    "\n",
    "def show_confidence_interval_slides():\n",
    "    src=\"https://docs.google.com/presentation/d/e/2PACX-1vTaPZsueXI6fey_5cj2Y1TevkR1joBvpwaWVsZNvgBlnJSrw1EiBLHJywkFH_QNLU5Tdr6JZgDrhFxG/embed?start=false&loop=false&delayms=3000\"\n",
    "    width = 960\n",
    "    height = 989\n",
    "    display(IFrame(src, width, height))"
   ]
  },
  {
   "cell_type": "markdown",
   "metadata": {
    "slideshow": {
     "slide_type": "slide"
    }
   },
   "source": [
    "# Lecture 20 – Confidence Intervals, Center and Spread\n",
    "\n",
    "## DSC 10, Winter 2022"
   ]
  },
  {
   "cell_type": "markdown",
   "metadata": {
    "slideshow": {
     "slide_type": "slide"
    }
   },
   "source": [
    "### Announcements\n",
    "\n",
    "- Homework 6 is due on **Saturday 2/26 at 11:59pm**.\n",
    "- Lab 6 is due on **Tuesday 3/1 at 11:59pm**.\n",
    "- The Final Project is released, and is due on **Wednesday 3/9 at 11:59pm** ‼️\n",
    "    - Start early and come to office hours.\n",
    "    - You can work with a partner – use [this sheet](https://docs.google.com/spreadsheets/d/1m5eDcFdYTQq5bu9VRYINZBFgckCyJEOXZFZGZ9bQqKY/edit#gid=00) to find one, and follow the [pair programming guidelines](https://dsc10.com/pair-programming) if you do work with one.\n",
    "- Consider taking Suraj's [History of Data Science](https://dsc-courses.github.io/dsc90-2022-wi/) seminar next quarter!"
   ]
  },
  {
   "cell_type": "markdown",
   "metadata": {
    "slideshow": {
     "slide_type": "slide"
    }
   },
   "source": [
    "### Agenda\n",
    "\n",
    "- Confidence intervals for hypothesis testing.\n",
    "- Mean and median.\n",
    "- Standard deviation."
   ]
  },
  {
   "cell_type": "markdown",
   "metadata": {
    "slideshow": {
     "slide_type": "slide"
    }
   },
   "source": [
    "## Confidence intervals and hypothesis testing"
   ]
  },
  {
   "cell_type": "code",
   "execution_count": null,
   "metadata": {
    "scrolled": false,
    "slideshow": {
     "slide_type": "slide"
    }
   },
   "outputs": [],
   "source": [
    "show_confidence_interval_slides()"
   ]
  },
  {
   "cell_type": "markdown",
   "metadata": {
    "slideshow": {
     "slide_type": "slide"
    }
   },
   "source": [
    "### Using a confidence interval for hypothesis testing\n",
    "\n",
    "It turns out that we can use bootstrapped confidence intervals for hypothesis testing!\n",
    "\n",
    "- **Null hypothesis**: The population parameter is equal to some value, $x$.\n",
    "- **Alternative hypothesis**: The population parameter is not equal to $x$.\n",
    "- Cutoff for p-value: p%.\n",
    "- Strategy:\n",
    "    - Construct a (100-p)% confidence interval for the population parameter.\n",
    "    - If $x$ is not in the interval, reject the null hypothesis.\n",
    "    - If $x$ is in the interval, our results are consistent with the null (fail to reject it)."
   ]
  },
  {
   "cell_type": "markdown",
   "metadata": {
    "slideshow": {
     "slide_type": "slide"
    }
   },
   "source": [
    "### Example: Fire-Rescue Department 🚒"
   ]
  },
  {
   "cell_type": "code",
   "execution_count": null,
   "metadata": {
    "scrolled": false
   },
   "outputs": [],
   "source": [
    "population = bpd.read_csv('data/2020_salaries.csv')\n",
    "fire_rescue_population = population[population.get('DepartmentOrSubdivision') == 'Fire-Rescue']\n",
    "fire_rescue_population"
   ]
  },
  {
   "cell_type": "markdown",
   "metadata": {
    "slideshow": {
     "slide_type": "slide"
    }
   },
   "source": [
    "### Just a sample\n",
    "- Suppose we only have access to a sample of 300 Fire-Rescue Department workers.\n",
    "- We want to understand the median salary of *all* Fire-Rescue Department workers.\n",
    "- **Null hypothesis**: The median salary of Fire-Rescue Department workers is the same as the median of all San Diego city employee salaries, \\$71,354.50.\n",
    "- **Alternative hypothesis**: The median salary of Fire-Rescue Department workers is not the same as the median of all San Diego city employee salaries.\n",
    "- We'll use a significance level (i.e. p-value cutoff) of 0.01, to be *really* sure."
   ]
  },
  {
   "cell_type": "code",
   "execution_count": null,
   "metadata": {},
   "outputs": [],
   "source": [
    "# The median salary of all City of SD employees, in all departments\n",
    "population_median = population.get('TotalWages').median()\n",
    "population_median"
   ]
  },
  {
   "cell_type": "code",
   "execution_count": null,
   "metadata": {
    "scrolled": true
   },
   "outputs": [],
   "source": [
    "fire_rescue_sample = fire_rescue_population.sample(300, replace=False)\n",
    "fire_rescue_sample"
   ]
  },
  {
   "cell_type": "markdown",
   "metadata": {
    "slideshow": {
     "slide_type": "slide"
    }
   },
   "source": [
    "### Testing the hypotheses\n",
    "- Since we're using a significance level of 0.01 = 1%, we need a 99% confidence interval for the median salary of Fire-Rescue Department workers.\n",
    "- To construct a confidence interval, we'll bootstrap to compute many sample medians, and we'll find the middle 99% of the distribution of bootstrapped medians using `np.percentile`."
   ]
  },
  {
   "cell_type": "code",
   "execution_count": null,
   "metadata": {},
   "outputs": [],
   "source": [
    "n_resamples = 500\n",
    "fire_rescue_medians = np.array([])\n",
    "for i in range(n_resamples):\n",
    "    # Resample from fire_rescue_sample\n",
    "    resample = fire_rescue_sample.sample(300, replace=True)\n",
    "    \n",
    "    # Compute the median\n",
    "    median = resample.get('TotalWages').median()\n",
    "    \n",
    "    # Add it to our array of bootstrapped medians\n",
    "    fire_rescue_medians = np.append(fire_rescue_medians, median)"
   ]
  },
  {
   "cell_type": "code",
   "execution_count": null,
   "metadata": {},
   "outputs": [],
   "source": [
    "fire_rescue_medians"
   ]
  },
  {
   "cell_type": "markdown",
   "metadata": {
    "slideshow": {
     "slide_type": "slide"
    }
   },
   "source": [
    "### Finding the interval"
   ]
  },
  {
   "cell_type": "code",
   "execution_count": null,
   "metadata": {},
   "outputs": [],
   "source": [
    "fire_left = np.percentile(fire_rescue_medians, 0.5)\n",
    "fire_left"
   ]
  },
  {
   "cell_type": "code",
   "execution_count": null,
   "metadata": {},
   "outputs": [],
   "source": [
    "fire_right = np.percentile(fire_rescue_medians, 99.5)\n",
    "fire_right"
   ]
  },
  {
   "cell_type": "code",
   "execution_count": null,
   "metadata": {},
   "outputs": [],
   "source": [
    "# Resulting interval\n",
    "[fire_left, fire_right]"
   ]
  },
  {
   "cell_type": "markdown",
   "metadata": {
    "slideshow": {
     "slide_type": "fragment"
    }
   },
   "source": [
    "Is \\$71,354.50 in this interval? ❌"
   ]
  },
  {
   "cell_type": "markdown",
   "metadata": {
    "slideshow": {
     "slide_type": "slide"
    }
   },
   "source": [
    "### Conclusion of the hypothesis test\n",
    "- Since our 99% confidence interval did not contain the median of all San Diego city employee salaries, \\$71,354.50, we reject the null.\n",
    "- Fire-Rescue Department workers do not have the same median salary as other city employees.\n",
    "- We can't say why."
   ]
  },
  {
   "cell_type": "code",
   "execution_count": null,
   "metadata": {},
   "outputs": [],
   "source": [
    "bpd.DataFrame().assign(FireRescueBootstrapMedians=fire_rescue_medians).plot(kind='hist', density=True, bins=np.arange(75000, 125000, 1000), ec='w', figsize=(10, 5))\n",
    "plt.plot([fire_left, fire_right], [0, 0], color='lime', linewidth=12, label='99% confidence interval');\n",
    "plt.legend();"
   ]
  },
  {
   "cell_type": "code",
   "execution_count": null,
   "metadata": {},
   "outputs": [],
   "source": [
    "# Actual population median of Fire-Rescue Department salaries\n",
    "fire_rescue_population.get('TotalWages').median()"
   ]
  },
  {
   "cell_type": "markdown",
   "metadata": {
    "slideshow": {
     "slide_type": "slide"
    }
   },
   "source": [
    "## Mean and median"
   ]
  },
  {
   "cell_type": "markdown",
   "metadata": {
    "slideshow": {
     "slide_type": "slide"
    }
   },
   "source": [
    "<center><h3>What is the \"center\" of a distribution?</h3></center>"
   ]
  },
  {
   "cell_type": "markdown",
   "metadata": {
    "slideshow": {
     "slide_type": "slide"
    }
   },
   "source": [
    "### The mean (i.e. average)\n",
    "\n",
    "The mean of the data\n",
    "\n",
    "$$2, 3, 3, 9$$\n",
    "\n",
    "is\n",
    "\n",
    "$$\\rm{mean} = \\frac{2 + 3 + 3 + 9}{4} = 4.25$$"
   ]
  },
  {
   "cell_type": "markdown",
   "metadata": {
    "slideshow": {
     "slide_type": "slide"
    }
   },
   "source": [
    "### The mean (i.e. average)\n",
    "\n",
    "The mean of a set of data points can be thought of as a \"one-number summary\". It... \n",
    "\n",
    "- doesn't have to be equal to one of the data points.\n",
    "- doesn't have to be an integer, even if all of the data points are integers.\n",
    "- will be somewhere between the min and max, but not necessarily halfway in between.\n",
    "- has the same units as the data."
   ]
  },
  {
   "cell_type": "markdown",
   "metadata": {
    "slideshow": {
     "slide_type": "slide"
    }
   },
   "source": [
    "### The median\n",
    "\n",
    "- Like the mean, the median is a \"one-number summary\" of a set of data points.\n",
    "- The median is a number in the \"middle\" of the data.\n",
    "- To calculate it, **sort the data points and pick the number in the middle**.\n",
    "    - If there are two middle numbers, we usually pick the number halfway between (i.e. the mean of the middle two)."
   ]
  },
  {
   "cell_type": "markdown",
   "metadata": {
    "slideshow": {
     "slide_type": "fragment"
    }
   },
   "source": [
    "- **Example:** $\\text{Median}(1, 4, 7, 12, 32) = 7$"
   ]
  },
  {
   "cell_type": "markdown",
   "metadata": {
    "slideshow": {
     "slide_type": "fragment"
    }
   },
   "source": [
    "- **Example:** $\\text{Median}(1, 4, 7, 12) = 5.5$"
   ]
  },
  {
   "cell_type": "markdown",
   "metadata": {
    "slideshow": {
     "slide_type": "slide"
    }
   },
   "source": [
    "### Example\n",
    "\n",
    "Create a data set that has this histogram. (You can do it with a short list of whole numbers.)\n",
    "\n",
    "<br>\n",
    "<center><img src='data/df_A.png' width=450></center>\n",
    "<br>\n",
    "\n",
    "What are its mean and median?"
   ]
  },
  {
   "cell_type": "code",
   "execution_count": null,
   "metadata": {
    "slideshow": {
     "slide_type": "slide"
    }
   },
   "outputs": [],
   "source": [
    "numbers = ...\n",
    "bpd.DataFrame().assign(data=numbers).plot(kind='hist', bins=np.arange(0.5, 12.5), density=True, ec='w');"
   ]
  },
  {
   "cell_type": "code",
   "execution_count": null,
   "metadata": {},
   "outputs": [],
   "source": [
    "np.mean(numbers)"
   ]
  },
  {
   "cell_type": "code",
   "execution_count": null,
   "metadata": {},
   "outputs": [],
   "source": [
    "np.median(numbers)"
   ]
  },
  {
   "cell_type": "markdown",
   "metadata": {
    "slideshow": {
     "slide_type": "slide"
    }
   },
   "source": [
    "### Discussion Question\n",
    "\n",
    "<br>\n",
    "<center>\n",
    "    <img src='data/df_A.png' width=300>\n",
    "    <img src='data/df_B.png' width=300>\n",
    "</center>\n",
    "<br>\n",
    "\n",
    "Are the means of these two distributions the same or different? What about the medians?\n",
    "\n",
    "- A. Both are the same\n",
    "- B. Means are different, medians are same\n",
    "- C. Means are same, medians are different\n",
    "- D. Both are different\n",
    "\n",
    "### To answer, go to [menti.com](https://menti.com) and enter the code 6968 5594."
   ]
  },
  {
   "cell_type": "markdown",
   "metadata": {
    "slideshow": {
     "slide_type": "slide"
    }
   },
   "source": [
    "### Answer"
   ]
  },
  {
   "cell_type": "code",
   "execution_count": null,
   "metadata": {
    "slideshow": {
     "slide_type": "-"
    }
   },
   "outputs": [],
   "source": [
    "df_A = bpd.DataFrame().assign(data=...)\n",
    "df_B = bpd.DataFrame().assign(data=...)"
   ]
  },
  {
   "cell_type": "code",
   "execution_count": null,
   "metadata": {},
   "outputs": [],
   "source": [
    "print(\n",
    "    'median #1:\\t%f' % df_A.get('data').median(),\n",
    "    'median #2:\\t%f' % df_B.get('data').median(),\n",
    "    'mean #1:\\t%f' % df_A.get('data').mean(),\n",
    "    'mean #2:\\t%f' % df_B.get('data').mean(),\n",
    "    sep='\\n'\n",
    ")"
   ]
  },
  {
   "cell_type": "markdown",
   "metadata": {
    "slideshow": {
     "slide_type": "slide"
    }
   },
   "source": [
    "### Example: flight delays"
   ]
  },
  {
   "cell_type": "code",
   "execution_count": null,
   "metadata": {},
   "outputs": [],
   "source": [
    "delays = bpd.read_csv('data/delays.csv')\n",
    "delays.plot(kind='hist', y='Delay', bins=np.arange(-20.5, 210, 5), density=True, ec='w', figsize=(10, 5))\n",
    "plt.title('Flight Delays')\n",
    "plt.xlabel('Delay (minutes)');"
   ]
  },
  {
   "cell_type": "markdown",
   "metadata": {},
   "source": [
    "**Question:** Which is larger – the mean or the median?"
   ]
  },
  {
   "cell_type": "code",
   "execution_count": null,
   "metadata": {
    "slideshow": {
     "slide_type": "slide"
    }
   },
   "outputs": [],
   "source": [
    "delays.get('Delay').mean()"
   ]
  },
  {
   "cell_type": "code",
   "execution_count": null,
   "metadata": {},
   "outputs": [],
   "source": [
    "delays.get('Delay').median()"
   ]
  },
  {
   "cell_type": "code",
   "execution_count": null,
   "metadata": {
    "scrolled": false,
    "slideshow": {
     "slide_type": "slide"
    }
   },
   "outputs": [],
   "source": [
    "delays.plot(kind='hist', y='Delay', bins=np.arange(-20.5, 210, 5), density=True, ec='w', alpha=0.65, figsize=(10, 5))\n",
    "plt.plot([delays.get('Delay').mean(), delays.get('Delay').mean()], [0, 1], color='green', label='Mean')\n",
    "plt.scatter([delays.get('Delay').mean()], [-0.0017], color='green', marker='^', s=250)\n",
    "plt.plot([delays.get('Delay').median(), delays.get('Delay').median()], [0, 1], color='purple', label='Median')\n",
    "plt.title('Flight Delays')\n",
    "plt.xlabel('Delay (minutes)')\n",
    "plt.ylim(-0.005, 0.065)\n",
    "plt.legend();"
   ]
  },
  {
   "cell_type": "markdown",
   "metadata": {
    "slideshow": {
     "slide_type": "slide"
    }
   },
   "source": [
    "### Comparing the mean and median\n",
    "- **Mean:** Balance point of the histogram.\n",
    "    - Numerically: the sum of the differences between all data points and the mean is 0.\n",
    "    - Physically: Think of a see-saw.\n",
    "- **Median:** Half-way point of the data.\n",
    "    - Half of the area of a histogram is to the left of the median, and half is to the right.\n",
    "- If the distribution is symmetric about a value, then that value is both the mean and the median.\n",
    "- If the distribution is **skewed**, then the mean is pulled away from the median in the direction of the tail."
   ]
  },
  {
   "cell_type": "markdown",
   "metadata": {
    "slideshow": {
     "slide_type": "fragment"
    }
   },
   "source": [
    "- **Key property:** The median is more **robust** (less **sensitive**) to **outliers**."
   ]
  },
  {
   "cell_type": "markdown",
   "metadata": {
    "slideshow": {
     "slide_type": "slide"
    }
   },
   "source": [
    "### Example: net worths\n",
    "\n",
    "Suppose we have the net worth of all UCSD students."
   ]
  },
  {
   "cell_type": "code",
   "execution_count": null,
   "metadata": {},
   "outputs": [],
   "source": [
    "worths = np.random.lognormal(5.5, 1.25, 20_000)\n",
    "plt.hist(worths, bins=np.arange(0, 2_000, 100), density=True, ec='w');"
   ]
  },
  {
   "cell_type": "code",
   "execution_count": null,
   "metadata": {},
   "outputs": [],
   "source": [
    "np.mean(worths)"
   ]
  },
  {
   "cell_type": "code",
   "execution_count": null,
   "metadata": {},
   "outputs": [],
   "source": [
    "np.median(worths)"
   ]
  },
  {
   "cell_type": "markdown",
   "metadata": {
    "slideshow": {
     "slide_type": "slide"
    }
   },
   "source": [
    "Suppose that LeBron James enrolls at UCSD as a Data Science major. Per [Forbes](https://bleacherreport.com/articles/10014995-forbes-lebron-james-net-worth-close-to-1b-to-break-nba-earnings-record-this-year), his net worth is close to one billion dollars."
   ]
  },
  {
   "cell_type": "code",
   "execution_count": null,
   "metadata": {},
   "outputs": [],
   "source": [
    "new_worths = np.append(worths, 10 ** 9)"
   ]
  },
  {
   "cell_type": "code",
   "execution_count": null,
   "metadata": {},
   "outputs": [],
   "source": [
    "np.mean(new_worths)"
   ]
  },
  {
   "cell_type": "code",
   "execution_count": null,
   "metadata": {},
   "outputs": [],
   "source": [
    "np.median(new_worths)"
   ]
  },
  {
   "cell_type": "markdown",
   "metadata": {
    "slideshow": {
     "slide_type": "fragment"
    }
   },
   "source": [
    "The mean net worth is now over 50 thousand dollars, while the median is unchanged!"
   ]
  },
  {
   "cell_type": "markdown",
   "metadata": {
    "slideshow": {
     "slide_type": "slide"
    }
   },
   "source": [
    "## Standard deviation"
   ]
  },
  {
   "cell_type": "markdown",
   "metadata": {
    "slideshow": {
     "slide_type": "slide"
    }
   },
   "source": [
    "### Question: How \"wide\" is a distribution? "
   ]
  },
  {
   "cell_type": "markdown",
   "metadata": {
    "slideshow": {
     "slide_type": "fragment"
    }
   },
   "source": [
    "- **One idea:** “biggest value - smallest value” (known as the **range**).\n",
    "    - Issue: this doesn’t tell us much about the shape of the distribution."
   ]
  },
  {
   "cell_type": "markdown",
   "metadata": {
    "slideshow": {
     "slide_type": "fragment"
    }
   },
   "source": [
    "- **Another idea:** \"standard deviation\".\n",
    "    - The mean is at the center. \n",
    "    - The standard deviation quantifies how far the data points typically are from the center."
   ]
  },
  {
   "cell_type": "markdown",
   "metadata": {
    "slideshow": {
     "slide_type": "slide"
    }
   },
   "source": [
    "### Deviations from the mean"
   ]
  },
  {
   "cell_type": "code",
   "execution_count": null,
   "metadata": {},
   "outputs": [],
   "source": [
    "data = np.array([2, 3, 3, 9])"
   ]
  },
  {
   "cell_type": "code",
   "execution_count": null,
   "metadata": {},
   "outputs": [],
   "source": [
    "np.mean(data)"
   ]
  },
  {
   "cell_type": "code",
   "execution_count": null,
   "metadata": {
    "slideshow": {
     "slide_type": "-"
    }
   },
   "outputs": [],
   "source": [
    "deviations = data - np.mean(data)\n",
    "deviations"
   ]
  },
  {
   "cell_type": "markdown",
   "metadata": {
    "slideshow": {
     "slide_type": "slide"
    }
   },
   "source": [
    "### What is the average deviation?"
   ]
  },
  {
   "cell_type": "code",
   "execution_count": null,
   "metadata": {},
   "outputs": [],
   "source": [
    "deviations"
   ]
  },
  {
   "cell_type": "code",
   "execution_count": null,
   "metadata": {},
   "outputs": [],
   "source": [
    "np.mean(deviations)"
   ]
  },
  {
   "cell_type": "markdown",
   "metadata": {
    "slideshow": {
     "slide_type": "fragment"
    }
   },
   "source": [
    "- As was mentioned before, this is true of any dataset – the average deviation from the mean is 0.\n",
    "- This implies that the average deviation itself is not useful in measuring the spread of data."
   ]
  },
  {
   "cell_type": "markdown",
   "metadata": {
    "slideshow": {
     "slide_type": "slide"
    }
   },
   "source": [
    "### Average **squared** deviation"
   ]
  },
  {
   "cell_type": "code",
   "execution_count": null,
   "metadata": {
    "slideshow": {
     "slide_type": "-"
    }
   },
   "outputs": [],
   "source": [
    "# Square all the deviations\n",
    "deviations ** 2"
   ]
  },
  {
   "cell_type": "code",
   "execution_count": null,
   "metadata": {},
   "outputs": [],
   "source": [
    "variance = np.mean(deviations ** 2)\n",
    "variance"
   ]
  },
  {
   "cell_type": "markdown",
   "metadata": {
    "slideshow": {
     "slide_type": "fragment"
    }
   },
   "source": [
    "This quantity, the average squared deviation from the mean, is called the **variance**."
   ]
  },
  {
   "cell_type": "markdown",
   "metadata": {
    "slideshow": {
     "slide_type": "slide"
    }
   },
   "source": [
    "### Standard deviation\n",
    "\n",
    "- Our data usually has units, e.g. dollars.\n",
    "- The variance is in \"squared\" units, e.g. $\\text{dollars}^2$.\n",
    "- To account for this, we can take the square root of the variance, and the result is called the **standard deviation**."
   ]
  },
  {
   "cell_type": "code",
   "execution_count": null,
   "metadata": {
    "scrolled": true
   },
   "outputs": [],
   "source": [
    "# Standard Deviation (SD) is the square root of the variance\n",
    "sd = variance ** 0.5\n",
    "sd"
   ]
  },
  {
   "cell_type": "markdown",
   "metadata": {
    "slideshow": {
     "slide_type": "slide"
    }
   },
   "source": [
    "### Standard deviation\n",
    "\n",
    "- The standard deviation (SD) measures roughly how far the data are from their average.\n",
    "    - Larger SD = more spread out.\n",
    "- Standard deviation has the same units as the original data.\n",
    "- `numpy` has a function, `np.std`, that calculates the standard deviation for us."
   ]
  },
  {
   "cell_type": "code",
   "execution_count": null,
   "metadata": {},
   "outputs": [],
   "source": [
    "np.std(data)"
   ]
  },
  {
   "cell_type": "markdown",
   "metadata": {
    "slideshow": {
     "slide_type": "slide"
    }
   },
   "source": [
    "### Variance and standard deviation\n",
    "\n",
    "To summarize:\n",
    "\n",
    "$$\\text{variance} = \\text{average squared deviation from the mean} = \\frac{(\\text{value}_1 - \\text{average})^2 + (\\text{value}_2 - \\text{average})^2 + ... + (\\text{value}_n - \\text{average})^2}{n}$$\n",
    "\n",
    "$$\\text{standard deviation} = \\sqrt{\\text{variance}}$$\n",
    "\n",
    "where $n$ is the number of observations."
   ]
  },
  {
   "cell_type": "markdown",
   "metadata": {
    "slideshow": {
     "slide_type": "slide"
    }
   },
   "source": [
    "### What can we do with the standard deviation?\n",
    "\n",
    "It turns out, no matter what the shape of the distribution is, the bulk of the data are in the range “average ± a few SDs”."
   ]
  },
  {
   "cell_type": "markdown",
   "metadata": {
    "slideshow": {
     "slide_type": "slide"
    }
   },
   "source": [
    "### Chebyshev’s inequality\n",
    "\n",
    "**Fact:** No matter what the shape of the distribution is, the proportion of values in the range “average ± z SDs” is at least \n",
    "\n",
    "$$1 - \\frac{1}{z^2}$$"
   ]
  },
  {
   "cell_type": "markdown",
   "metadata": {
    "slideshow": {
     "slide_type": "slide"
    }
   },
   "source": [
    "### Chebyshev's inequality\n",
    "\n",
    "|Range|Proportion|\n",
    "|---|---|\n",
    "|average ± 2 SDs|\tat least $1 - \\frac{1}{4}$   (75%)|\n",
    "|average ± 3 SDs|\tat least $1 - \\frac{1}{9}$   (88.888…%)|\n",
    "|average ± 4 SDs|\tat least $1 - \\frac{1}{16}$ (93.75%)|\n",
    "|average ± 5 SDs|\tat least $1 - \\frac{1}{25}$  (96%)|\n",
    "\n",
    "No matter what the distribution is! 🤯"
   ]
  },
  {
   "cell_type": "markdown",
   "metadata": {
    "slideshow": {
     "slide_type": "slide"
    }
   },
   "source": [
    "### Example: NBA data"
   ]
  },
  {
   "cell_type": "code",
   "execution_count": null,
   "metadata": {
    "scrolled": false
   },
   "outputs": [],
   "source": [
    "nba = bpd.read_csv('data/nba.csv')\n",
    "nba.plot(kind='hist', y='Height', density=True, bins=np.arange(69.5, 90, 1), ec='w', figsize=(10, 5), alpha=0.65);"
   ]
  },
  {
   "cell_type": "code",
   "execution_count": null,
   "metadata": {},
   "outputs": [],
   "source": [
    "mean = nba.get('Height').mean()\n",
    "sd = np.std(nba.get('Height'))\n",
    "print('mean:\\t\\t\\t%f' % mean, \n",
    "      '\\nstandard deviation:\\t%f' % sd)"
   ]
  },
  {
   "cell_type": "markdown",
   "metadata": {
    "slideshow": {
     "slide_type": "slide"
    }
   },
   "source": [
    "### Mean and standard deviation\n",
    "\n",
    "For this data, mean is about 79 and the SD is about 3.5. By Chebyshev's inequality...\n",
    "\n",
    "- **At least** 75% of the data is in $$[\\text{Mean} - 2 \\cdot \\text{SD}, \\text{Mean} + 2 \\cdot \\text{SD}] = [79 - 2\\cdot 3.5,\\, 79 + 2\\cdot 3.5] = [72, 86]$$\n",
    "- **At least** 88% of the data is in $$[\\text{Mean} - 3 \\cdot \\text{SD}, \\text{Mean} + 3 \\cdot \\text{SD}] = [79 - 3\\cdot 3.5,\\, 79 +3\\cdot 3.5] = [68.5, 89.5]$$"
   ]
  },
  {
   "cell_type": "code",
   "execution_count": null,
   "metadata": {},
   "outputs": [],
   "source": [
    "nba.plot(kind='hist', y='Height', density=True, bins=np.arange(69.5, 90, 1), ec='w', figsize=(10, 5), alpha=0.25);\n",
    "plt.plot([mean-2*sd, mean-2*sd], [0, 0.13], color='maroon', label=\"± 2SD\")\n",
    "plt.plot([mean+2*sd, mean+2*sd], [0, 0.13], color='maroon')\n",
    "plt.plot([mean-3*sd, mean-3*sd], [0, 0.13], color='blue', label=\"± 3SD\")\n",
    "plt.plot([mean+3*sd, mean+3*sd], [0, 0.13], color='blue')\n",
    "plt.plot([mean, mean], [0, 1], color='green', label='Mean')\n",
    "plt.scatter([mean], [-0.003], color='green', marker='^', s=250)\n",
    "plt.ylim(-0.005, 0.13)\n",
    "plt.legend();"
   ]
  },
  {
   "cell_type": "markdown",
   "metadata": {
    "slideshow": {
     "slide_type": "slide"
    }
   },
   "source": [
    "### Chebyshev's inequality\n",
    "\n",
    "- Chebyshev's inequality works for **any** distribution.\n",
    "- But if we know the type of the distribution (e.g., normal), we can say more!\n",
    "    - More on this next time."
   ]
  },
  {
   "cell_type": "markdown",
   "metadata": {
    "slideshow": {
     "slide_type": "slide"
    }
   },
   "source": [
    "### Discussion Question\n",
    "\n",
    "For a particular set of data points, Chebyshev's inequality states that at least $\\frac{3}{4}$ of the data points are between 30 and 90. What is the standard deviation of the data?\n",
    "\n",
    "- A. 10\n",
    "- B. 15\n",
    "- C. 30\n",
    "- D. 60\n",
    "- E. Impossible to tell\n",
    "\n",
    "\n",
    "### To answer, go to [menti.com](https://menti.com) and enter the code 6968 5594."
   ]
  },
  {
   "cell_type": "markdown",
   "metadata": {
    "slideshow": {
     "slide_type": "slide"
    }
   },
   "source": [
    "## Summary"
   ]
  },
  {
   "cell_type": "markdown",
   "metadata": {
    "slideshow": {
     "slide_type": "slide"
    }
   },
   "source": [
    "### Summary: confidence intervals and hypothesis testing\n",
    "\n",
    "- **Null hypothesis**: The population parameter is equal to some value, $x$.\n",
    "- **Alternative hypothesis**: The population parameter is not equal to $x$.\n",
    "- Cutoff for p-value: p%.\n",
    "- Strategy:\n",
    "    - Construct a (100-p)% confidence interval for the population parameter.\n",
    "    - If $x$ is not in the interval, reject the null hypothesis.\n",
    "    - If $x$ is in the interval, our results are consistent with the null (can't reject it)."
   ]
  },
  {
   "cell_type": "markdown",
   "metadata": {
    "slideshow": {
     "slide_type": "slide"
    }
   },
   "source": [
    "### Summary: center and spread\n",
    "\n",
    "- The mean and median are both ways to quantify the \"center\" of a set of data points.\n",
    "    - The mean is less robust to outliers than the median.\n",
    "- Standard deviation is a way of quantifying how spread out data points are.\n",
    "    - Roughly speaking, it measures how far data points are from their mean, on average.\n",
    "    - $\\text{standard deviation} = \\sqrt{\\frac{(\\text{value}_1 - \\text{average})^2 + (\\text{value}_2 - \\text{average})^2 + ... + (\\text{value}_n - \\text{average})^2}{n}}$, where $n$ is the number of observations.\n",
    "- Chebyshev's inequality states that regardless of the distribution, the proportion of values in the range “average ± z SDs” is at least \n",
    "\n",
    "$$1 - \\frac{1}{z^2}$$\n",
    "\n",
    "- **Next time:** the \"normal\" distribution, and how it relates to some of the distributions we've already seen."
   ]
  }
 ],
 "metadata": {
  "celltoolbar": "Slideshow",
  "kernelspec": {
   "display_name": "Python 3 (ipykernel)",
   "language": "python",
   "name": "python3"
  },
  "language_info": {
   "codemirror_mode": {
    "name": "ipython",
    "version": 3
   },
   "file_extension": ".py",
   "mimetype": "text/x-python",
   "name": "python",
   "nbconvert_exporter": "python",
   "pygments_lexer": "ipython3",
   "version": "3.9.7"
  },
  "livereveal": {
   "scroll": true,
   "transition": "none"
  }
 },
 "nbformat": 4,
 "nbformat_minor": 2
}
