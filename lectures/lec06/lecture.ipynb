{
 "cells": [
  {
   "cell_type": "code",
   "execution_count": null,
   "metadata": {
    "slideshow": {
     "slide_type": "skip"
    }
   },
   "outputs": [],
   "source": [
    "import babypandas as bpd\n",
    "import numpy as np"
   ]
  },
  {
   "cell_type": "markdown",
   "metadata": {
    "slideshow": {
     "slide_type": "slide"
    }
   },
   "source": [
    "# Lecture 6 –  More Querying and GroupBy\n",
    "## DSC 10, Winter 2022"
   ]
  },
  {
   "cell_type": "markdown",
   "metadata": {
    "slideshow": {
     "slide_type": "slide"
    }
   },
   "source": [
    "### Announcements\n",
    "\n",
    "- Homework 1 is due on **Saturday 1/15 at 11:59pm**.\n",
    "- Lab 2 is due on **Tuesday 1/18 at 11:59pm**."
   ]
  },
  {
   "cell_type": "markdown",
   "metadata": {
    "slideshow": {
     "slide_type": "slide"
    }
   },
   "source": [
    "### Agenda\n",
    "\n",
    "- Recap: queries.\n",
    "- Writing queries with multiple conditions.\n",
    "- GroupBy.\n",
    "- Challenge problems.\n",
    "\n",
    "**Resources**: \n",
    "- [Resources tab of the course website](https://dsc10.com/resources/)\n",
    "- [DSC 10 Reference Sheet](https://drive.google.com/file/d/1mQApk9Ovdi-QVqMgnNcq5dZcWucUKoG-/view)\n",
    "- [BabyPandas Documentation](https://babypandas.readthedocs.io/en/latest/index.html)"
   ]
  },
  {
   "cell_type": "markdown",
   "metadata": {
    "slideshow": {
     "slide_type": "slide"
    }
   },
   "source": [
    "## Recap: queries"
   ]
  },
  {
   "cell_type": "markdown",
   "metadata": {
    "slideshow": {
     "slide_type": "slide"
    }
   },
   "source": [
    "### Recap: queries\n",
    "\n",
    "- A \"query\" is code that extracts rows from a table for which certain condition(s) are true.\n",
    "- Below we load in our NBA salaries 🏀 dataset from last time."
   ]
  },
  {
   "cell_type": "code",
   "execution_count": null,
   "metadata": {},
   "outputs": [],
   "source": [
    "salaries = bpd.read_csv('data/nba-2022.csv').set_index('Player')\n",
    "salaries"
   ]
  },
  {
   "cell_type": "markdown",
   "metadata": {
    "slideshow": {
     "slide_type": "slide"
    }
   },
   "source": [
    "### Question: Who was the highest paid center (C)?"
   ]
  },
  {
   "cell_type": "code",
   "execution_count": null,
   "metadata": {},
   "outputs": [],
   "source": [
    "salaries"
   ]
  },
  {
   "cell_type": "code",
   "execution_count": null,
   "metadata": {},
   "outputs": [],
   "source": [
    "salaries.get('Position') == 'C'"
   ]
  },
  {
   "cell_type": "code",
   "execution_count": null,
   "metadata": {},
   "outputs": [],
   "source": [
    "centers_only = salaries[salaries.get('Position') == 'C']\n",
    "centers_only"
   ]
  },
  {
   "cell_type": "code",
   "execution_count": null,
   "metadata": {},
   "outputs": [],
   "source": [
    "centers_only.sort_values(by='Salary', ascending=False).index[0]"
   ]
  },
  {
   "cell_type": "markdown",
   "metadata": {
    "slideshow": {
     "slide_type": "slide"
    }
   },
   "source": [
    "### Boolean indexing\n",
    "\n",
    "To select only some rows of `salaries`:\n",
    "\n",
    "1. Make a sequence (list/array/Series) of `True`s (keep) and `False`s (toss).\n",
    "    - The values `True` and `False` are of the _Boolean_ data type.\n",
    "2. Then pass it into `salaries[sequence_goes_here]`.\n",
    "\n",
    "Rather than making the sequence by hand, we usually generate it by making a comparison."
   ]
  },
  {
   "cell_type": "markdown",
   "metadata": {
    "slideshow": {
     "slide_type": "slide"
    }
   },
   "source": [
    "### Elementwise comparisons\n",
    "\n",
    "There are several types of comparisons we can make.\n",
    "\n",
    "|symbol|meaning|\n",
    "|--------|--------|\n",
    "|`==` |equal to |\n",
    "|`!=` |not equal to |\n",
    "|`<`|less than|\n",
    "|`<=`|less than or equal to|\n",
    "|`>`|greater than|\n",
    "|`>=`|greater than or equal to|"
   ]
  },
  {
   "cell_type": "code",
   "execution_count": null,
   "metadata": {},
   "outputs": [],
   "source": [
    "# Find all players whose salary is at least 20 million\n",
    "salaries[salaries.get('Salary') > 20000000]"
   ]
  },
  {
   "cell_type": "markdown",
   "metadata": {
    "slideshow": {
     "slide_type": "slide"
    }
   },
   "source": [
    "## Queries with multiple conditions"
   ]
  },
  {
   "cell_type": "markdown",
   "metadata": {
    "slideshow": {
     "slide_type": "slide"
    }
   },
   "source": [
    "### Multiple conditions\n",
    "\n",
    "- To do a query with multiple conditions, use `&` for \"and\" and `|` for \"or\".\n",
    "- **Must use parentheses around each query.**\n",
    "- Note: Don't use the Python keywords `and` and `or` here! They do not behave as you'd want.\n",
    "    - Read the course notes for an explanation."
   ]
  },
  {
   "cell_type": "code",
   "execution_count": null,
   "metadata": {
    "scrolled": false
   },
   "outputs": [],
   "source": [
    "# Find all players who are guards (point guards or shooting guards)\n",
    "salaries[(salaries.get('Position') == 'PG') | (salaries.get('Position') == 'SG')]"
   ]
  },
  {
   "cell_type": "markdown",
   "metadata": {
    "slideshow": {
     "slide_type": "slide"
    }
   },
   "source": [
    "### The `&` and `|` operators work element-wise"
   ]
  },
  {
   "cell_type": "code",
   "execution_count": null,
   "metadata": {},
   "outputs": [],
   "source": [
    "(salaries.get('Position') == 'PG')"
   ]
  },
  {
   "cell_type": "code",
   "execution_count": null,
   "metadata": {},
   "outputs": [],
   "source": [
    "(salaries.get('Position') == 'SG')"
   ]
  },
  {
   "cell_type": "code",
   "execution_count": null,
   "metadata": {},
   "outputs": [],
   "source": [
    "(salaries.get('Position') == 'PG') | (salaries.get('Position') == 'SG')"
   ]
  },
  {
   "cell_type": "markdown",
   "metadata": {
    "slideshow": {
     "slide_type": "slide"
    }
   },
   "source": [
    "### Another example\n",
    "\n",
    "Which Power Forwards (PF) on the Sacramento Kings have a salary of over 8 million?"
   ]
  },
  {
   "cell_type": "code",
   "execution_count": null,
   "metadata": {},
   "outputs": [],
   "source": [
    "salaries[(salaries.get('Position') == 'PF') & \n",
    "         (salaries.get('Team') == 'Sacramento Kings') & \n",
    "         (salaries.get('Salary') > 8000000)]"
   ]
  },
  {
   "cell_type": "markdown",
   "metadata": {
    "slideshow": {
     "slide_type": "slide"
    }
   },
   "source": [
    "### Discussion Question\n",
    "\n",
    "Which of these queries evaluates to the number of centers **not** named Dwight Howard?\n",
    "\n",
    "A. `salaries[(salaries.get('Position') == 'C') & (salaries.get('Player') != 'Dwight Howard')].shape[0]`\n",
    "\n",
    "B. `salaries[(salaries.get('Position') == 'C') and (salaries.index != 'Dwight Howard')].shape[0]`\n",
    "\n",
    "C. `salaries[(salaries.get('Position') == 'C') & (salaries.index != 'Dwight Howard')].shape[0]`\n",
    "\n",
    "D. `salaries[(salaries.get('Position') == 'C') & (salaries.index != 'Dwight Howard')].shape[1]`\n",
    "\n",
    "### To answer, go to **[menti.com](https://menti.com)** and enter the code **2745 1232**."
   ]
  },
  {
   "cell_type": "code",
   "execution_count": null,
   "metadata": {
    "slideshow": {
     "slide_type": "slide"
    }
   },
   "outputs": [],
   "source": []
  },
  {
   "cell_type": "markdown",
   "metadata": {
    "slideshow": {
     "slide_type": "slide"
    }
   },
   "source": [
    "## GroupBy: Split, aggregate, combine"
   ]
  },
  {
   "cell_type": "markdown",
   "metadata": {
    "slideshow": {
     "slide_type": "slide"
    }
   },
   "source": [
    "### Motivating Question: Which team had the highest payroll?\n",
    "\n",
    "- We can find the payroll for any one team.\n",
    "    - For the Warriors, `salaries[salaries.get('Team') == 'Golden State Warriors'].get('Salary').sum()`.\n",
    "- But how can we find the payroll for **all** teams at once?"
   ]
  },
  {
   "cell_type": "code",
   "execution_count": null,
   "metadata": {
    "scrolled": true,
    "slideshow": {
     "slide_type": "slide"
    }
   },
   "outputs": [],
   "source": [
    "salaries"
   ]
  },
  {
   "cell_type": "code",
   "execution_count": null,
   "metadata": {
    "slideshow": {
     "slide_type": "-"
    }
   },
   "outputs": [],
   "source": [
    "salaries[salaries.get('Team') == 'Golden State Warriors'].get('Salary').sum()"
   ]
  },
  {
   "cell_type": "code",
   "execution_count": null,
   "metadata": {
    "slideshow": {
     "slide_type": "-"
    }
   },
   "outputs": [],
   "source": [
    "salaries[salaries.get('Team') == 'Los Angeles Lakers'].get('Salary').sum()"
   ]
  },
  {
   "cell_type": "code",
   "execution_count": null,
   "metadata": {
    "slideshow": {
     "slide_type": "-"
    }
   },
   "outputs": [],
   "source": [
    "salaries[salaries.get('Team') == 'Brooklyn Nets'].get('Salary').sum()"
   ]
  },
  {
   "cell_type": "markdown",
   "metadata": {
    "slideshow": {
     "slide_type": "fragment"
    }
   },
   "source": [
    "It seems like there has to be a better way. And there is!"
   ]
  },
  {
   "cell_type": "markdown",
   "metadata": {
    "slideshow": {
     "slide_type": "slide"
    }
   },
   "source": [
    "### `.groupby`\n",
    "\n",
    "Observe what happens when we use the `.groupby` method on `salaries` with the argument `'Team'`:"
   ]
  },
  {
   "cell_type": "code",
   "execution_count": null,
   "metadata": {
    "slideshow": {
     "slide_type": "-"
    }
   },
   "outputs": [],
   "source": [
    "salaries.groupby('Team').sum()"
   ]
  },
  {
   "cell_type": "markdown",
   "metadata": {
    "slideshow": {
     "slide_type": "slide"
    }
   },
   "source": [
    "### An illustrative example\n",
    "\n",
    "Consider the DataFrame `pets` containing pet species, colors, and weights.\n",
    "\n",
    "<div align=center>\n",
    "<img src='images/pets.png' width=300>\n",
    "</div>"
   ]
  },
  {
   "cell_type": "markdown",
   "metadata": {
    "slideshow": {
     "slide_type": "slide"
    }
   },
   "source": [
    "### Step 1: Split\n",
    "\n",
    "When we run `pets.groupby('Species').mean()`, `babypandas` internally creates three mini-DataFrames, one for each unique value of `'Species'`.\n",
    "\n",
    "<div align=center>\n",
    "<img src='images/dogs.png' width=300><img src='images/cats.png' width=300><img src='images/hamsters.png' width=300>\n",
    "</div>"
   ]
  },
  {
   "cell_type": "markdown",
   "metadata": {
    "slideshow": {
     "slide_type": "slide"
    }
   },
   "source": [
    "### Step 2: Aggregate\n",
    "\n",
    "It then takes the `mean` of every column (other than `Species` itself) that it can:\n",
    "\n",
    "| | **Species** | **Color** | **Weight** |\n",
    "| --- | --- | --- | --- |\n",
    "| **0** | dog | black | 40 |\n",
    "| **3** | dog | white | 80 |\n",
    "| **4** | dog | golden | 25 |\n",
    "\n",
    "<center>Mean Weight: (40 + 80 + 25) / 3 = 48.333</center>\n",
    "\n",
    "---\n",
    "\n",
    "| | **Species** | **Color** | **Weight** |\n",
    "| --- | --- | --- | --- |\n",
    "| **1** | cat | golden | 15 |\n",
    "| **2** | cat | black | 20 |\n",
    "\n",
    "<center>Mean Weight: (15 + 20) / 2 = 17.5</center>\n",
    "\n",
    "---\n",
    "\n",
    "| | **Species** | **Color** | **Weight** |\n",
    "| --- | --- | --- | --- |\n",
    "| **5** | hamster | golden | 1 |\n",
    "\n",
    "<center>Mean Weight: (1) / 1 = 1</center>"
   ]
  },
  {
   "cell_type": "markdown",
   "metadata": {
    "slideshow": {
     "slide_type": "slide"
    }
   },
   "source": [
    "### Step 3: Combine\n",
    "\n",
    "Finally, it combines these means back into a single table, whose labels are equal to the unique values from the `Species` column, listed in alphabetical order.\n",
    "\n",
    "<div align=center>\n",
    "<img src='images/grouped.png' width=200>\n",
    "</div>\n",
    "\n",
    "These steps are split, aggregate, and combine."
   ]
  },
  {
   "cell_type": "markdown",
   "metadata": {
    "slideshow": {
     "slide_type": "slide"
    }
   },
   "source": [
    "### Let's try it out!"
   ]
  },
  {
   "cell_type": "code",
   "execution_count": null,
   "metadata": {},
   "outputs": [],
   "source": [
    "pets = bpd.DataFrame().assign(\n",
    "    Species=['dog', 'cat', 'cat', 'dog', 'dog', 'hamster'],\n",
    "    Color=['black', 'golden', 'black', 'white', 'golden', 'golden'],\n",
    "    Weight=[40, 15, 20, 80, 25, 1]\n",
    ")\n",
    "\n",
    "pets"
   ]
  },
  {
   "cell_type": "code",
   "execution_count": null,
   "metadata": {},
   "outputs": [],
   "source": [
    "pets.groupby('Species').mean()"
   ]
  },
  {
   "cell_type": "markdown",
   "metadata": {
    "slideshow": {
     "slide_type": "slide"
    }
   },
   "source": [
    "### Back to the NBA..."
   ]
  },
  {
   "cell_type": "code",
   "execution_count": null,
   "metadata": {},
   "outputs": [],
   "source": [
    "salaries"
   ]
  },
  {
   "cell_type": "code",
   "execution_count": null,
   "metadata": {},
   "outputs": [],
   "source": [
    "salaries.groupby('Team').sum()"
   ]
  },
  {
   "cell_type": "markdown",
   "metadata": {
    "slideshow": {
     "slide_type": "slide"
    }
   },
   "source": [
    "### `.groupby` in general\n",
    "\n",
    "1. Use `.groupby(column_name)` to gather rows which have the same value in the specified column (`column_name`).\n",
    "    - In the previous example, we grouped by `'Team'`.\n",
    "    - In the resulting DataFrame, there will be one row for every unique value of `'Team'`.\n",
    "2. Apply an **aggregation** method **within** each group.\n",
    "    - In the previous example, we applied the `sum` method to every `'Team'`.\n",
    "    - The aggregation method is applied individually to each column.\n",
    "\n",
    "Some aggregation method: `.count()`, `.sum()`, `.mean()`, `.median()`, `.max()`, `.min()`."
   ]
  },
  {
   "cell_type": "markdown",
   "metadata": {
    "slideshow": {
     "slide_type": "slide"
    }
   },
   "source": [
    "### Observation #1\n",
    "\n",
    "- The index has changed to team names.\n",
    "- In general, the new row labels are the *group labels* (the thing that is used to determine if two rows were in same group)."
   ]
  },
  {
   "cell_type": "code",
   "execution_count": null,
   "metadata": {},
   "outputs": [],
   "source": [
    "salaries"
   ]
  },
  {
   "cell_type": "code",
   "execution_count": null,
   "metadata": {},
   "outputs": [],
   "source": [
    "salaries.groupby('Team').sum()"
   ]
  },
  {
   "cell_type": "markdown",
   "metadata": {
    "slideshow": {
     "slide_type": "slide"
    }
   },
   "source": [
    "### Observation #2\n",
    "\n",
    "- The `'Position'` and `'Team'` columns have disappeared. Why?"
   ]
  },
  {
   "cell_type": "code",
   "execution_count": null,
   "metadata": {},
   "outputs": [],
   "source": [
    "salaries.groupby('Team').sum()"
   ]
  },
  {
   "cell_type": "markdown",
   "metadata": {
    "slideshow": {
     "slide_type": "slide"
    }
   },
   "source": [
    "### Disappearing columns\n",
    "\n",
    "- The aggregation method is applied to each column.\n",
    "- If it doesn't make sense to apply it to a particular column, that column will disappear.\n",
    "- Example: We can't sum strings, like in the `'Position'` column.\n",
    "- Surprising example: we *can* `max()` strings. How?"
   ]
  },
  {
   "cell_type": "code",
   "execution_count": null,
   "metadata": {},
   "outputs": [],
   "source": [
    "salaries.groupby('Team').max() # Can you guess how the max position is determined?"
   ]
  },
  {
   "cell_type": "markdown",
   "metadata": {
    "slideshow": {
     "slide_type": "slide"
    }
   },
   "source": [
    "### Other aggregation methods\n",
    "\n",
    "- Aggregation methods work on arrays/lists/Series and return a single number.\n",
    "- The most common ones are `.count()`, `.sum()`, `.mean()`, `.median()`, `.max()`, and `.min()`.\n"
   ]
  },
  {
   "cell_type": "code",
   "execution_count": null,
   "metadata": {},
   "outputs": [],
   "source": [
    "salaries.groupby('Team').count()"
   ]
  },
  {
   "cell_type": "code",
   "execution_count": null,
   "metadata": {},
   "outputs": [],
   "source": [
    "salaries.groupby('Team').mean()"
   ]
  },
  {
   "cell_type": "code",
   "execution_count": null,
   "metadata": {},
   "outputs": [],
   "source": [
    "salaries.groupby('Team').max()"
   ]
  },
  {
   "cell_type": "markdown",
   "metadata": {
    "slideshow": {
     "slide_type": "slide"
    }
   },
   "source": [
    "### Question: Which team had the highest payroll?\n",
    "\n",
    "Strategy:\n",
    "1. Group by `'Team'`.\n",
    "2. Within each group, compute the total salary.\n",
    "3. Sort by salary in descending order.\n",
    "4. Take the name of the first team."
   ]
  },
  {
   "cell_type": "code",
   "execution_count": null,
   "metadata": {},
   "outputs": [],
   "source": [
    "salaries.groupby('Team').sum().sort_values(by='Salary', ascending=False).index[0]"
   ]
  },
  {
   "cell_type": "markdown",
   "metadata": {
    "slideshow": {
     "slide_type": "slide"
    }
   },
   "source": [
    "### Question: How many players play each position?"
   ]
  },
  {
   "cell_type": "code",
   "execution_count": null,
   "metadata": {},
   "outputs": [],
   "source": [
    "salaries.groupby('Position').count()"
   ]
  },
  {
   "cell_type": "markdown",
   "metadata": {
    "slideshow": {
     "slide_type": "slide"
    }
   },
   "source": [
    "### Aside: Better column names?\n",
    "\n",
    "To rename a column:\n",
    "\n",
    "1. Add a new column with `.assign` containing the same values as the old column(s).\n",
    "2. Drop the old column(s) with `.drop(columns=list_of_column_labels)`."
   ]
  },
  {
   "cell_type": "code",
   "execution_count": null,
   "metadata": {},
   "outputs": [],
   "source": [
    "pos_counts = salaries.groupby('Position').count()\n",
    "pos_counts"
   ]
  },
  {
   "cell_type": "code",
   "execution_count": null,
   "metadata": {},
   "outputs": [],
   "source": [
    "pos_counts.assign(Count=pos_counts.get('Team')).drop(columns=['Team', 'Salary'])"
   ]
  },
  {
   "cell_type": "markdown",
   "metadata": {
    "slideshow": {
     "slide_type": "slide"
    }
   },
   "source": [
    "## Example: IMDB Dataset"
   ]
  },
  {
   "cell_type": "markdown",
   "metadata": {
    "slideshow": {
     "slide_type": "slide"
    }
   },
   "source": [
    "### Note: walkthrough video\n",
    "\n",
    "Note, we're likely not going to cover this entire section during lecture. Instead, we've recorded a video walkthrough of the remainder of lecture, and encourage you to watch it for extra practice on GroupBy. This section will be very helpful in preparing for Homework 2 and 3!"
   ]
  },
  {
   "cell_type": "code",
   "execution_count": null,
   "metadata": {},
   "outputs": [],
   "source": [
    "from IPython.display import YouTubeVideo\n",
    "YouTubeVideo('xg7rnjWnZ48')"
   ]
  },
  {
   "cell_type": "code",
   "execution_count": null,
   "metadata": {
    "slideshow": {
     "slide_type": "slide"
    }
   },
   "outputs": [],
   "source": [
    "imdb = bpd.read_csv('data/imdb.csv').set_index('Title')\n",
    "imdb"
   ]
  },
  {
   "cell_type": "markdown",
   "metadata": {
    "slideshow": {
     "slide_type": "slide"
    }
   },
   "source": [
    "### Question: How many movies appear from each decade?"
   ]
  },
  {
   "cell_type": "code",
   "execution_count": null,
   "metadata": {},
   "outputs": [],
   "source": [
    "imdb.groupby('Decade').count()"
   ]
  },
  {
   "cell_type": "code",
   "execution_count": null,
   "metadata": {
    "scrolled": true
   },
   "outputs": [],
   "source": [
    "imdb.groupby('Decade').count().plot(y='Year');"
   ]
  },
  {
   "cell_type": "markdown",
   "metadata": {
    "slideshow": {
     "slide_type": "slide"
    }
   },
   "source": [
    "### Question: What was the highest rated movie of the 1990's?\n",
    "\n",
    "Let's try and do this two different ways."
   ]
  },
  {
   "cell_type": "markdown",
   "metadata": {
    "slideshow": {
     "slide_type": "slide"
    }
   },
   "source": [
    "#### Without grouping"
   ]
  },
  {
   "cell_type": "code",
   "execution_count": null,
   "metadata": {},
   "outputs": [],
   "source": [
    "imdb[imdb.get('Decade') == 1990].sort_values('Rating', ascending=False).index[0]"
   ]
  },
  {
   "cell_type": "markdown",
   "metadata": {
    "slideshow": {
     "slide_type": "slide"
    }
   },
   "source": [
    "#### With grouping"
   ]
  },
  {
   "cell_type": "code",
   "execution_count": null,
   "metadata": {},
   "outputs": [],
   "source": [
    "imdb.reset_index().groupby('Decade').max()"
   ]
  },
  {
   "cell_type": "markdown",
   "metadata": {
    "slideshow": {
     "slide_type": "fragment"
    }
   },
   "source": [
    "- It turns out that this method **does not** yield the correct answer. \n",
    "- When we use an aggregation function (e.g. `.max`), aggregation is done to each column individually. \n",
    "- While it's true that the highest rated movie from the 1990s has a rating of 9.2, that movie is **not** Unforgiven – instead, Unforgiven is the movie that's the latest in the alphabet among all movies from the 1990s.\n",
    "- Grouping is not helpful here."
   ]
  },
  {
   "cell_type": "markdown",
   "metadata": {
    "slideshow": {
     "slide_type": "slide"
    }
   },
   "source": [
    "## Combining queries and groupby\n",
    "\n",
    "### In other words, more challenging problems!\n",
    "\n",
    "We won't cover these problems in class, and we won't provide the solutions to these problems in the lecture notebook. To access the solutions, you'll either need to\n",
    "1. Watch [the video](https://www.youtube.com/watch?v=xg7rnjWnZ48) embedded at the start of this section, or\n",
    "2. Check [this Campuswire post](https://campuswire.com/c/G6950E967/feed/78) on Monday\n",
    "\n",
    "**Before accessing the solutions, make sure to try these problems on your own – they're great prep for homeworks and projects!**"
   ]
  },
  {
   "cell_type": "markdown",
   "metadata": {
    "slideshow": {
     "slide_type": "slide"
    }
   },
   "source": [
    "### Question: How many years have more than 3 movies rated above 8.5?"
   ]
  },
  {
   "cell_type": "code",
   "execution_count": null,
   "metadata": {},
   "outputs": [],
   "source": [
    "..."
   ]
  },
  {
   "cell_type": "markdown",
   "metadata": {
    "slideshow": {
     "slide_type": "slide"
    }
   },
   "source": [
    "#### Aside: Using `.sum()` on a boolean array"
   ]
  },
  {
   "cell_type": "code",
   "execution_count": null,
   "metadata": {
    "slideshow": {
     "slide_type": "-"
    }
   },
   "outputs": [],
   "source": [
    "(good_movies_per_year.get('Votes') > 3).sum() # Gives count of how many trues"
   ]
  },
  {
   "cell_type": "markdown",
   "metadata": {
    "slideshow": {
     "slide_type": "slide"
    }
   },
   "source": [
    "### Question: Out of the years with more than 3 movies, which had the highest average rating?"
   ]
  },
  {
   "cell_type": "code",
   "execution_count": null,
   "metadata": {},
   "outputs": [],
   "source": [
    "..."
   ]
  },
  {
   "cell_type": "markdown",
   "metadata": {
    "slideshow": {
     "slide_type": "slide"
    }
   },
   "source": [
    "### Question: Which year had the longest movie titles, on average?\n",
    "\n",
    "**Hint:** Use `.str.len()` on the column or index that contains the names of the movies."
   ]
  },
  {
   "cell_type": "code",
   "execution_count": null,
   "metadata": {},
   "outputs": [],
   "source": [
    "..."
   ]
  },
  {
   "cell_type": "markdown",
   "metadata": {
    "slideshow": {
     "slide_type": "slide"
    }
   },
   "source": [
    "### Question: What is the average rating of movies from years that had at least 3 movies in the list?"
   ]
  },
  {
   "cell_type": "code",
   "execution_count": null,
   "metadata": {},
   "outputs": [],
   "source": [
    "..."
   ]
  },
  {
   "cell_type": "markdown",
   "metadata": {
    "slideshow": {
     "slide_type": "slide"
    }
   },
   "source": [
    "## Summary"
   ]
  },
  {
   "cell_type": "markdown",
   "metadata": {
    "slideshow": {
     "slide_type": "slide"
    }
   },
   "source": [
    "### Summary\n",
    "\n",
    "- We can write queries that involve multiple conditions, as long as we:\n",
    "    - Put parentheses around all conditions.\n",
    "    - Separate conditions using `&` if you require all to be true, or `|` if you require at least one to be true.\n",
    "- The method call `df.groupby(column_name).name_of_method()` **aggregates** all rows with the same value for `column_name` into a single row in the resulting table, according to the aggregation method `name_of_method`.\n",
    "    - Aggregation methods we've seen include `.count()`, `.sum()`, `.mean()`, `.median()`, `.max()`, and `.min()`.\n",
    "- **Next time:** A picture is worth a 1000 words – it's time to visualize!"
   ]
  }
 ],
 "metadata": {
  "celltoolbar": "Slideshow",
  "kernelspec": {
   "display_name": "Python 3 (ipykernel)",
   "language": "python",
   "name": "python3"
  },
  "language_info": {
   "codemirror_mode": {
    "name": "ipython",
    "version": 3
   },
   "file_extension": ".py",
   "mimetype": "text/x-python",
   "name": "python",
   "nbconvert_exporter": "python",
   "pygments_lexer": "ipython3",
   "version": "3.9.7"
  }
 },
 "nbformat": 4,
 "nbformat_minor": 2
}
