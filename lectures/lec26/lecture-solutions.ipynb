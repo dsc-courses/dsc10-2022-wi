{
 "cells": [
  {
   "cell_type": "code",
   "execution_count": null,
   "metadata": {
    "slideshow": {
     "slide_type": "skip"
    }
   },
   "outputs": [],
   "source": [
    "# Imports\n",
    "import babypandas as bpd\n",
    "import numpy as np\n",
    "\n",
    "import matplotlib.pyplot as plt\n",
    "plt.style.use('fivethirtyeight')\n",
    "\n",
    "# Animation\n",
    "from IPython.display import IFrame, display\n",
    "\n",
    "def show_clt_slides():\n",
    "    src = \"https://docs.google.com/presentation/d/e/2PACX-1vTcJd3U1H1KoXqBFcWGKFUPjZbeW4oiNZZLCFY8jqvSDsl4L1rRTg7980nPs1TGCAecYKUZxH5MZIBh/embed?start=false&loop=false&delayms=3000\"\n",
    "    width = 960\n",
    "    height = 509\n",
    "    display(IFrame(src, width, height))"
   ]
  },
  {
   "cell_type": "markdown",
   "metadata": {
    "slideshow": {
     "slide_type": "slide"
    }
   },
   "source": [
    "# Lecture 26 – Review\n",
    "## DSC 10, Winter 2022"
   ]
  },
  {
   "cell_type": "markdown",
   "metadata": {
    "slideshow": {
     "slide_type": "slide"
    }
   },
   "source": [
    "### Announcements\n",
    "\n",
    "- The Final Project is due **tonight** ‼️\n",
    "- Lab 8 is due **tomorrow at 11:59pm**.\n",
    "- The **Final Exam** is on **Saturday 3/12 from 3-6PM**.\n",
    "    - Administered remotely via Gradescope in the same format as Midterm Exam (multiple choice, short answer, fill-in-the-blank code).\n",
    "    - Work on the practice exams posted on the [Resources tab of the course website](https://dsc10.com/resources/) and come to office hours with any questions.\n",
    "    - See [this post](https://campuswire.com/c/G6950E967/feed/1403) on Campuswire for more details.\n",
    "- If at least 85% of the class fills out **both** [CAPEs](https://cape.usd.edu) and the [additional survey](https://forms.gle/pt9HZ4RJzBrz1Vz98), then everyone will receive an extra 0.5% added to their overall course grade.\n",
    "- Watch the review discussion [recording](https://youtu.be/FnsJ9xZPG2s), and look at the [statistics cheat sheet](https://campuspro-uploads.s3.us-west-2.amazonaws.com/6950e967-6500-4eae-8010-f961cccc4b93/a5fc93e3-9ece-4a48-9ba3-5653d571b5d8/dsc10%20stat%20cheat%20sheet.pdf).\n",
    "- Look at the [Calendar](https://dsc10.com/calendar/) for the updated office hours schedule.\n",
    "    - Come to the in-person Study Jam **tonight** from 3-7pm in the SDSC Auditorium!"
   ]
  },
  {
   "cell_type": "markdown",
   "metadata": {
    "slideshow": {
     "slide_type": "slide"
    }
   },
   "source": [
    "### Agenda\n",
    "\n",
    "- No new material – just review!"
   ]
  },
  {
   "cell_type": "markdown",
   "metadata": {
    "slideshow": {
     "slide_type": "slide"
    }
   },
   "source": [
    "## The data: restaurants 🍟"
   ]
  },
  {
   "cell_type": "markdown",
   "metadata": {
    "slideshow": {
     "slide_type": "slide"
    }
   },
   "source": [
    "Our data comes from [data.sfgov.org](https://data.sfgov.org/Health-and-Social-Services/Restaurant-Scores-LIVES-Standard/pyih-qa8i/data)."
   ]
  },
  {
   "cell_type": "code",
   "execution_count": null,
   "metadata": {
    "scrolled": false,
    "slideshow": {
     "slide_type": "-"
    }
   },
   "outputs": [],
   "source": [
    "restaurants = bpd.read_csv('data/restaurants_no_null.csv')\n",
    "restaurants"
   ]
  },
  {
   "cell_type": "markdown",
   "metadata": {
    "slideshow": {
     "slide_type": "slide"
    }
   },
   "source": [
    "It seems like the city for every row is `'San Francisco'`. We can confirm this using `np.unique`:"
   ]
  },
  {
   "cell_type": "code",
   "execution_count": null,
   "metadata": {},
   "outputs": [],
   "source": [
    "np.unique(restaurants.get('business_city'))"
   ]
  },
  {
   "cell_type": "markdown",
   "metadata": {
    "slideshow": {
     "slide_type": "-"
    }
   },
   "source": [
    "As a result, the `'business_city'` column isn't telling us much. We won't look at many of the columns in our DataFrame, so let's just `get` the ones we're interested in."
   ]
  },
  {
   "cell_type": "code",
   "execution_count": null,
   "metadata": {},
   "outputs": [],
   "source": [
    "keep_cols = ['business_name', 'inspection_date', 'inspection_score', 'risk_category', 'Neighborhoods', 'Zip Codes']\n",
    "restaurants = restaurants.get(keep_cols)\n",
    "restaurants"
   ]
  },
  {
   "cell_type": "markdown",
   "metadata": {
    "slideshow": {
     "slide_type": "slide"
    }
   },
   "source": [
    "## At-risk restaurants ⚠️"
   ]
  },
  {
   "cell_type": "markdown",
   "metadata": {
    "slideshow": {
     "slide_type": "slide"
    }
   },
   "source": [
    "For each restaurant, we have an inspection score."
   ]
  },
  {
   "cell_type": "code",
   "execution_count": null,
   "metadata": {},
   "outputs": [],
   "source": [
    "restaurants"
   ]
  },
  {
   "cell_type": "markdown",
   "metadata": {},
   "source": [
    "In the preview above, we see...\n",
    "- A restaurant with an inspection score of 92 being classified as `'Low Risk'`,\n",
    "- A restaurant with an inspection score of 91 being classified as `'High Risk'`\n",
    "- A restaurant with an inspection score of 90 being classified as `'Low Risk'`\n",
    "\n",
    "This means that inspection scores don't directly translate to risk categories. Let's investigate the difference between the inspection scores of low risk and high risk restaurants."
   ]
  },
  {
   "cell_type": "markdown",
   "metadata": {
    "slideshow": {
     "slide_type": "slide"
    }
   },
   "source": [
    "Let's start by visualizing the distribution of inspection scores for low risk and high risk restaurants."
   ]
  },
  {
   "cell_type": "code",
   "execution_count": null,
   "metadata": {},
   "outputs": [],
   "source": [
    "fig, ax = plt.subplots()\n",
    "score_bins = np.arange(50, 102, 2)\n",
    "restaurants[restaurants.get('risk_category') == 'Low Risk'].plot(\n",
    "    kind='hist', y='inspection_score', density=True, ec='w', bins=score_bins, ax=ax,\n",
    "    figsize=(10, 5), title='Inspection Scores for Low Risk vs. High Risk Restaurants', alpha=0.65, label='Low Risk'\n",
    ");\n",
    "\n",
    "restaurants[restaurants.get('risk_category') == 'High Risk'].plot(\n",
    "    kind='hist', y='inspection_score', density=True, ec='w', bins=score_bins, ax=ax,\n",
    "    figsize=(10, 5), alpha=0.65, label='High Risk'\n",
    ");"
   ]
  },
  {
   "cell_type": "markdown",
   "metadata": {
    "slideshow": {
     "slide_type": "slide"
    }
   },
   "source": [
    "### Discussion Question\n",
    "\n",
    "We want to compare high risk restaurants to low risk restaurants and see if their inspection scores are significantly different. What technique should we use?\n",
    "\n",
    "A. Standard hypothesis testing\n",
    "\n",
    "B. Permutation testing  \n",
    "\n",
    "C. Bootstrapping\n",
    "\n",
    "D. The Central Limit Theorem\n",
    "\n",
    "### To answer, go to [menti.com](https://menti.com) and enter the code 4857 5944."
   ]
  },
  {
   "cell_type": "markdown",
   "metadata": {},
   "source": [
    "<details>\n",
    "<summary>Click for the answer <b>after</b> you've entered your guess above. <b>Don't scroll any further.</b></summary>\n",
    "    \n",
    "Permutation testing.\n",
    "\n",
    "</details>"
   ]
  },
  {
   "cell_type": "markdown",
   "metadata": {
    "slideshow": {
     "slide_type": "slide"
    }
   },
   "source": [
    "Let's keep only the relevant information."
   ]
  },
  {
   "cell_type": "code",
   "execution_count": null,
   "metadata": {
    "slideshow": {
     "slide_type": "-"
    }
   },
   "outputs": [],
   "source": [
    "high_low = restaurants[(restaurants.get('risk_category') == 'Low Risk') | (restaurants.get('risk_category') == 'High Risk')]\n",
    "high_low = high_low.get(['inspection_score', 'risk_category'])\n",
    "high_low"
   ]
  },
  {
   "cell_type": "markdown",
   "metadata": {},
   "source": [
    "Now, let's try shuffling a single one of the columns above. (Does it matter which one?)"
   ]
  },
  {
   "cell_type": "code",
   "execution_count": null,
   "metadata": {},
   "outputs": [],
   "source": [
    "np.random.permutation(high_low.get('risk_category'))"
   ]
  },
  {
   "cell_type": "markdown",
   "metadata": {},
   "source": [
    "Let's assign this shuffled column back into our original DataFrame. The resulting DataFrame is called `original_and_shuffled`."
   ]
  },
  {
   "cell_type": "code",
   "execution_count": null,
   "metadata": {},
   "outputs": [],
   "source": [
    "shuffled_labels = np.random.permutation(high_low.get('risk_category'))\n",
    "original_and_shuffled = high_low.assign(shuffled_label=shuffled_labels)\n",
    "original_and_shuffled"
   ]
  },
  {
   "cell_type": "markdown",
   "metadata": {
    "slideshow": {
     "slide_type": "slide"
    }
   },
   "source": [
    "Let's now visualize the distribution of inspection scores for low risk and high risk restaurants, in both our original dataset and after shuffling the labels."
   ]
  },
  {
   "cell_type": "code",
   "execution_count": null,
   "metadata": {},
   "outputs": [],
   "source": [
    "fig, ax = plt.subplots()\n",
    "score_bins = np.arange(50, 102, 2)\n",
    "original_and_shuffled[original_and_shuffled.get('shuffled_label') == 'Low Risk'].plot(\n",
    "    kind='hist', y='inspection_score', density=True, ec='w', bins=score_bins, ax=ax,\n",
    "    figsize=(10, 5), title='Inspection Scores for Low Risk vs. High Risk Restaurants After Shuffling', alpha=0.65, label='Low Risk'\n",
    ");\n",
    "\n",
    "original_and_shuffled[original_and_shuffled.get('shuffled_label') == 'High Risk'].plot(\n",
    "    kind='hist', y='inspection_score', density=True, ec='w', bins=score_bins, ax=ax,\n",
    "    figsize=(10, 5), alpha=0.65, label='High Risk'\n",
    ");"
   ]
  },
  {
   "cell_type": "code",
   "execution_count": null,
   "metadata": {},
   "outputs": [],
   "source": [
    "fig, ax = plt.subplots()\n",
    "score_bins = np.arange(50, 102, 2)\n",
    "restaurants[restaurants.get('risk_category') == 'Low Risk'].plot(\n",
    "    kind='hist', y='inspection_score', density=True, ec='w', bins=score_bins, ax=ax,\n",
    "    figsize=(10, 5), title='Inspection Scores for Low Risk vs. High Risk Restaurants Before Shuffling', alpha=0.65, label='Low Risk'\n",
    ");\n",
    "\n",
    "restaurants[restaurants.get('risk_category') == 'High Risk'].plot(\n",
    "    kind='hist', y='inspection_score', density=True, ec='w', bins=score_bins, ax=ax,\n",
    "    figsize=(10, 5), alpha=0.65, label='High Risk'\n",
    ");"
   ]
  },
  {
   "cell_type": "markdown",
   "metadata": {
    "slideshow": {
     "slide_type": "slide"
    }
   },
   "source": [
    "### Discussion Question\n",
    "\n",
    "It looks like the two groups in the second histogram are susbstantially more different than the two groups in the first histogram. \n",
    "\n",
    "What test statistic(s) can we use to quantify the difference between the two groups displayed in a given histogram?\n",
    "\n",
    "A. Total Variation Distance  \n",
    "B. Difference in group means  \n",
    "C. Either of the above\n",
    "\n",
    "### To answer, go to [menti.com](https://menti.com) and enter the code 4857 5944."
   ]
  },
  {
   "cell_type": "markdown",
   "metadata": {},
   "source": [
    "<details>\n",
    "<summary>Click for the answer <b>after</b> you've entered your guess above. <b>Don't scroll any further.</b></summary>\n",
    "    \n",
    "Difference in group means. TVD helps compare two categorical distributions, but we're dealing with two numerical distributions.\n",
    "\n",
    "</details>"
   ]
  },
  {
   "cell_type": "code",
   "execution_count": null,
   "metadata": {
    "slideshow": {
     "slide_type": "slide"
    }
   },
   "outputs": [],
   "source": [
    "original_and_shuffled.groupby('risk_category').mean()"
   ]
  },
  {
   "cell_type": "markdown",
   "metadata": {},
   "source": [
    "Let's compute the difference in mean inspection scores for the low risk group and high risk group (low minus high).\n",
    "\n",
    "First, for our observed data:"
   ]
  },
  {
   "cell_type": "code",
   "execution_count": null,
   "metadata": {},
   "outputs": [],
   "source": [
    "grouped = original_and_shuffled.groupby('risk_category').mean()\n",
    "observed_difference = grouped.get('inspection_score').loc['Low Risk'] - grouped.get('inspection_score').loc['High Risk']\n",
    "observed_difference"
   ]
  },
  {
   "cell_type": "markdown",
   "metadata": {},
   "source": [
    "Then, for our shuffled data:"
   ]
  },
  {
   "cell_type": "code",
   "execution_count": null,
   "metadata": {},
   "outputs": [],
   "source": [
    "original_and_shuffled.groupby('shuffled_label').mean()"
   ]
  },
  {
   "cell_type": "code",
   "execution_count": null,
   "metadata": {},
   "outputs": [],
   "source": [
    "shuffled_and_grouped = original_and_shuffled.groupby('shuffled_label').mean()\n",
    "simulated_difference = shuffled_and_grouped.get('inspection_score').loc['Low Risk'] - shuffled_and_grouped.get('inspection_score').loc['High Risk']\n",
    "simulated_difference"
   ]
  },
  {
   "cell_type": "markdown",
   "metadata": {
    "slideshow": {
     "slide_type": "slide"
    }
   },
   "source": [
    "We're going to need to shuffle the `'risk_category'` column many, many times, and compute this difference in group means each time.\n",
    "\n",
    "Let's put some of our code in a function to make it easier to repeat."
   ]
  },
  {
   "cell_type": "code",
   "execution_count": null,
   "metadata": {},
   "outputs": [],
   "source": [
    "def calculate_test_statistic():\n",
    "    shuffled_labels = np.random.permutation(high_low.get('risk_category'))\n",
    "    original_and_shuffled = high_low.assign(shuffled_label=shuffled_labels)\n",
    "    shuffled_and_grouped = original_and_shuffled.groupby('shuffled_label').mean()\n",
    "    simulated_difference = shuffled_and_grouped.get('inspection_score').loc['Low Risk'] - shuffled_and_grouped.get('inspection_score').loc['High Risk']\n",
    "    return simulated_difference"
   ]
  },
  {
   "cell_type": "markdown",
   "metadata": {},
   "source": [
    "Each time we call this function, it shuffles the `'risk_category'` column and returns the difference in group means (again, by taking low minus high)."
   ]
  },
  {
   "cell_type": "code",
   "execution_count": null,
   "metadata": {},
   "outputs": [],
   "source": [
    "calculate_test_statistic()"
   ]
  },
  {
   "cell_type": "markdown",
   "metadata": {
    "slideshow": {
     "slide_type": "slide"
    }
   },
   "source": [
    "We need to simulate this difference in group means many, many times. Let's call our function many, many times and keep track of its result in an array."
   ]
  },
  {
   "cell_type": "code",
   "execution_count": null,
   "metadata": {},
   "outputs": [],
   "source": [
    "simulated_stats = np.array([])\n",
    "\n",
    "n_reps = 100 # We're using a small number of reps to keep the runtime low\n",
    "\n",
    "for i in np.arange(n_reps):\n",
    "    sim_stat = calculate_test_statistic()\n",
    "    simulated_stats = np.append(simulated_stats, sim_stat)"
   ]
  },
  {
   "cell_type": "markdown",
   "metadata": {},
   "source": [
    "Now that we've done that, let's visualize the distribution of the simulated test statistics, and also see where the observed statistic lies:"
   ]
  },
  {
   "cell_type": "code",
   "execution_count": null,
   "metadata": {},
   "outputs": [],
   "source": [
    "bpd.DataFrame().assign(simulated_stats=simulated_stats) \\\n",
    "               .plot(kind='hist', density=True, ec='w', figsize=(10, 5), bins=20, label='difference in group means');\n",
    "plt.axvline(observed_difference, color='red', label='observed statistic')\n",
    "plt.legend();"
   ]
  },
  {
   "cell_type": "markdown",
   "metadata": {
    "slideshow": {
     "slide_type": "slide"
    }
   },
   "source": [
    "What's the p-value? Well, it depends on what our alternative hypothesis is.\n",
    "\n",
    "Here, our alternative hypothesis is that low risk restaurants have higher inspection scores on average than high risk restaurants. Since our test statistic was calculated by taking the low mean minus the high mean, larger values of the test statistic favor the alternative."
   ]
  },
  {
   "cell_type": "code",
   "execution_count": null,
   "metadata": {},
   "outputs": [],
   "source": [
    "np.count_nonzero(simulated_stats >= observed_difference) / n_reps"
   ]
  },
  {
   "cell_type": "markdown",
   "metadata": {},
   "source": [
    "This is lower than any cutoff we'd consider, so we'd reject the null hypothesis that the two groups of restaurants have similar inspection scores."
   ]
  },
  {
   "cell_type": "markdown",
   "metadata": {
    "slideshow": {
     "slide_type": "slide"
    }
   },
   "source": [
    "## Bakeries 🧁\n",
    "\n",
    "<center><img src='data/cupcake.png' width=600></center>\n",
    "<center>by Chef Janine</center>"
   ]
  },
  {
   "cell_type": "markdown",
   "metadata": {
    "slideshow": {
     "slide_type": "slide"
    }
   },
   "source": [
    "### The Central Limit Theorem\n",
    "\n",
    "> The Central Limit Theorem (CLT) says that the probability distribution of the **sum or average** of a large random sample drawn with replacement will be roughly normal, regardless of the distribution of the population from which the sample is drawn."
   ]
  },
  {
   "cell_type": "code",
   "execution_count": null,
   "metadata": {
    "slideshow": {
     "slide_type": "slide"
    }
   },
   "outputs": [],
   "source": [
    "show_clt_slides()"
   ]
  },
  {
   "cell_type": "markdown",
   "metadata": {
    "slideshow": {
     "slide_type": "slide"
    }
   },
   "source": [
    "We'll load in a version of the restaurants dataset that has many more rows, some of which contain null values."
   ]
  },
  {
   "cell_type": "code",
   "execution_count": null,
   "metadata": {
    "slideshow": {
     "slide_type": "-"
    }
   },
   "outputs": [],
   "source": [
    "restaurants_full = bpd.read_csv('data/restaurants.csv').get(keep_cols)\n",
    "restaurants_full"
   ]
  },
  {
   "cell_type": "markdown",
   "metadata": {
    "slideshow": {
     "slide_type": "slide"
    }
   },
   "source": [
    "Let's look at just the restaurants with `'Bake'` in the name that we know the inspection score for.\n",
    "\n",
    "`.str.contains` can help us here."
   ]
  },
  {
   "cell_type": "code",
   "execution_count": null,
   "metadata": {},
   "outputs": [],
   "source": [
    "restaurants_full.get('business_name').str.contains('Bake')"
   ]
  },
  {
   "cell_type": "markdown",
   "metadata": {},
   "source": [
    "Some bakeries may have `'bake'` in their name, rather than `'Bake'`. To account for this, we can convert the entire Series to lowercase using `.str.lower()`, and then use `.str.contains('bake')`."
   ]
  },
  {
   "cell_type": "code",
   "execution_count": null,
   "metadata": {},
   "outputs": [],
   "source": [
    "restaurants_full.get('business_name').str.lower().str.contains('bake')"
   ]
  },
  {
   "cell_type": "code",
   "execution_count": null,
   "metadata": {
    "slideshow": {
     "slide_type": "slide"
    }
   },
   "outputs": [],
   "source": [
    "bakeries = restaurants_full[restaurants_full.get('business_name').str.lower().str.contains('bake')]\n",
    "bakeries = bakeries[bakeries.get('inspection_score') >= 0] # Keeping only the rows where we know the inspection score\n",
    "bakeries"
   ]
  },
  {
   "cell_type": "markdown",
   "metadata": {
    "slideshow": {
     "slide_type": "slide"
    }
   },
   "source": [
    "We can plot the **population** distribution, i.e. the distribution of inspection scores for **all bakeries in San Francisco**."
   ]
  },
  {
   "cell_type": "code",
   "execution_count": null,
   "metadata": {
    "slideshow": {
     "slide_type": "-"
    }
   },
   "outputs": [],
   "source": [
    "bakeries.plot(kind='hist', y='inspection_score', density=True, bins=score_bins, ec='w', figsize=(10, 5),\n",
    "              title='Population Distribution');"
   ]
  },
  {
   "cell_type": "markdown",
   "metadata": {},
   "source": [
    "For reference, the mean and standard deviation of the population distribution are calculated below."
   ]
  },
  {
   "cell_type": "code",
   "execution_count": null,
   "metadata": {},
   "outputs": [],
   "source": [
    "bakeries.get('inspection_score').mean()"
   ]
  },
  {
   "cell_type": "code",
   "execution_count": null,
   "metadata": {},
   "outputs": [],
   "source": [
    "np.std(bakeries.get('inspection_score'))"
   ]
  },
  {
   "cell_type": "markdown",
   "metadata": {
    "slideshow": {
     "slide_type": "slide"
    }
   },
   "source": [
    "In this case we happen to have the inspection scores for all members of the population, but in reality we won't. So let's instead consider a random **sample** of the population."
   ]
  },
  {
   "cell_type": "code",
   "execution_count": null,
   "metadata": {
    "scrolled": true
   },
   "outputs": [],
   "source": [
    "np.random.seed(23) # Ignore this\n",
    "\n",
    "sample_of_bakeries = bakeries.sample(200, replace=False)\n",
    "sample_of_bakeries"
   ]
  },
  {
   "cell_type": "markdown",
   "metadata": {
    "slideshow": {
     "slide_type": "slide"
    }
   },
   "source": [
    "We can plot the sample distribution:"
   ]
  },
  {
   "cell_type": "code",
   "execution_count": null,
   "metadata": {},
   "outputs": [],
   "source": [
    "sample_of_bakeries.plot(kind='hist', y='inspection_score', density=True, bins=score_bins, ec='w', figsize=(10, 5),\n",
    "                        title='Sample Distribution');"
   ]
  },
  {
   "cell_type": "markdown",
   "metadata": {
    "slideshow": {
     "slide_type": "-"
    }
   },
   "source": [
    "Note that since we took a large, random sample of the population, we expect that our sample looks similiar to the population and has a similar mean and SD."
   ]
  },
  {
   "cell_type": "code",
   "execution_count": null,
   "metadata": {},
   "outputs": [],
   "source": [
    "sample_of_bakeries.get('inspection_score').mean()"
   ]
  },
  {
   "cell_type": "code",
   "execution_count": null,
   "metadata": {},
   "outputs": [],
   "source": [
    "np.std(sample_of_bakeries.get('inspection_score'))"
   ]
  },
  {
   "cell_type": "markdown",
   "metadata": {},
   "source": [
    "Indeed, the sample mean is quite close to the population mean, and the sample standard deviation is quite close to the population standard deviation."
   ]
  },
  {
   "cell_type": "markdown",
   "metadata": {
    "slideshow": {
     "slide_type": "slide"
    }
   },
   "source": [
    "Let's suppose we want to estimate the population mean (that is, the mean inspection score of all bakeries in SF).\n",
    "\n",
    "One estimate of the population mean is the mean of our sample."
   ]
  },
  {
   "cell_type": "code",
   "execution_count": null,
   "metadata": {},
   "outputs": [],
   "source": [
    "sample_of_bakeries.get('inspection_score').mean()"
   ]
  },
  {
   "cell_type": "markdown",
   "metadata": {},
   "source": [
    "However, our sample was random and could have been different, meaning our sample mean could also have been different.\n",
    "\n",
    "**Question:** What's a reasonable range of possible values for the sample mean? **What is the distribution of the sample mean?**"
   ]
  },
  {
   "cell_type": "markdown",
   "metadata": {
    "slideshow": {
     "slide_type": "slide"
    }
   },
   "source": [
    "**The Central Limit Theorem tells us what the distribution of the sample mean is.** To see the distribution of the sample mean visually, let's take a large number of samples directly from the population and compute the mean of each one."
   ]
  },
  {
   "cell_type": "code",
   "execution_count": null,
   "metadata": {},
   "outputs": [],
   "source": [
    "sample_means = np.array([])\n",
    "\n",
    "for i in np.arange(5000):\n",
    "    sample_mean = bakeries.sample(200, replace=False).get('inspection_score').mean()\n",
    "    sample_means = np.append(sample_means, sample_mean)"
   ]
  },
  {
   "cell_type": "code",
   "execution_count": null,
   "metadata": {},
   "outputs": [],
   "source": [
    "sample_means"
   ]
  },
  {
   "cell_type": "code",
   "execution_count": null,
   "metadata": {
    "slideshow": {
     "slide_type": "slide"
    }
   },
   "outputs": [],
   "source": [
    "bpd.DataFrame().assign(sample_means=sample_means).plot(kind='hist', density=True, ec='w', bins=25, figsize=(10, 5));"
   ]
  },
  {
   "cell_type": "markdown",
   "metadata": {},
   "source": [
    "Unsurprisingly, the distribution of the sample mean is bell-shaped. The CLT told us that!"
   ]
  },
  {
   "cell_type": "markdown",
   "metadata": {
    "slideshow": {
     "slide_type": "slide"
    }
   },
   "source": [
    "The CLT also tells us that\n",
    "\n",
    "$$\\text{SD of Distribution of Possible Sample Means} = \\frac{\\text{Population SD}}{\\sqrt{\\text{sample size}}}$$\n",
    "\n"
   ]
  },
  {
   "cell_type": "markdown",
   "metadata": {},
   "source": [
    "Let's try this out."
   ]
  },
  {
   "cell_type": "code",
   "execution_count": null,
   "metadata": {},
   "outputs": [],
   "source": [
    "np.std(bakeries.get('inspection_score')) / np.sqrt(200)"
   ]
  },
  {
   "cell_type": "code",
   "execution_count": null,
   "metadata": {},
   "outputs": [],
   "source": [
    "np.std(sample_means)"
   ]
  },
  {
   "cell_type": "markdown",
   "metadata": {},
   "source": [
    "Pretty close! Remember that `sample_means` is an array of simulated sample means; the more samples we simulate, the closer that `np.std(sample_means)` will get to the SD described by the CLT.\n",
    "\n",
    "Note that in practice, we won't have the SD of the population, since we'll usually just have a single sample. In such cases, we can use the SD of the sample as an estimate of the SD of the population:"
   ]
  },
  {
   "cell_type": "code",
   "execution_count": null,
   "metadata": {},
   "outputs": [],
   "source": [
    "np.std(sample_of_bakeries.get('inspection_score')) / np.sqrt(200)"
   ]
  },
  {
   "cell_type": "markdown",
   "metadata": {
    "slideshow": {
     "slide_type": "slide"
    }
   },
   "source": [
    "Using the CLT, we have that the distribution of the sample mean:\n",
    "- is roughly normal,\n",
    "- is centered at the population mean (for which the sample mean is an estimate), and\n",
    "- has a standard deviation of $\\frac{\\text{Population SD}}{\\sqrt{\\text{sample size}}}$ (which can be estimated using $\\frac{\\text{Sample SD}}{\\sqrt{\\text{sample size}}}$).\n",
    "\n",
    "Using this information, we can build confidence intervals for where we think the population mean might be. For instance, a 95% confidence interval for the population mean is given by\n",
    "\n",
    "$$\n",
    "\\left[\n",
    "\\text{sample mean} - 2\\cdot \\frac{\\text{sample SD}}{\\sqrt{n}}, \\\n",
    "\\text{sample mean} + 2\\cdot \\frac{\\text{sample SD}}{\\sqrt{n}}\n",
    "\\right]\n",
    "$$"
   ]
  },
  {
   "cell_type": "code",
   "execution_count": null,
   "metadata": {},
   "outputs": [],
   "source": [
    "sample_mean = sample_of_bakeries.get('inspection_score').mean()\n",
    "sample_std = np.std(sample_of_bakeries.get('inspection_score'))"
   ]
  },
  {
   "cell_type": "code",
   "execution_count": null,
   "metadata": {},
   "outputs": [],
   "source": [
    "[sample_mean - 2 * sample_std / np.sqrt(200), sample_mean + 2 * sample_std / np.sqrt(200)]"
   ]
  },
  {
   "cell_type": "markdown",
   "metadata": {
    "slideshow": {
     "slide_type": "slide"
    }
   },
   "source": [
    "### Discussion Question\n",
    "\n",
    "Using a single sample of 200 bakeries, how can we estimate the **median** inspection score of all bakeries in San Francisco with an inspection score? What technique should we use?\n",
    "\n",
    "A. Standard hypothesis testing\n",
    "\n",
    "B. Permutation testing  \n",
    "\n",
    "C. Bootstrapping\n",
    "\n",
    "D. The Central Limit Theorem\n",
    "\n",
    "### To answer, go to [menti.com](https://menti.com) and enter the code 4857 5944."
   ]
  },
  {
   "cell_type": "markdown",
   "metadata": {},
   "source": [
    "<details>\n",
    "<summary>Click for the answer <b>after</b> you've entered your guess above. <b>Don't scroll any further.</b></summary>\n",
    "    \n",
    "Bootstrapping. The CLT only applies to sample means (and sums), not to any other statistics.\n",
    "\n",
    "</details>"
   ]
  },
  {
   "cell_type": "markdown",
   "metadata": {
    "slideshow": {
     "slide_type": "slide"
    }
   },
   "source": [
    "There is no CLT for sample medians, so instead we'll have to resort to bootstrapping to estimate the distribution of the sample median.\n",
    "\n",
    "Recall, bootstrapping is the act of **sampling from the original sample, with replacement**. This is also called **resampling**."
   ]
  },
  {
   "cell_type": "code",
   "execution_count": null,
   "metadata": {},
   "outputs": [],
   "source": [
    "# The median of our original sample – this is just one number\n",
    "sample_of_bakeries.get('inspection_score').median()"
   ]
  },
  {
   "cell_type": "code",
   "execution_count": null,
   "metadata": {},
   "outputs": [],
   "source": [
    "# The median of a single bootstrap resample – this is just one number\n",
    "sample_of_bakeries.sample(200, replace=True).get('inspection_score').median()"
   ]
  },
  {
   "cell_type": "markdown",
   "metadata": {
    "slideshow": {
     "slide_type": "slide"
    }
   },
   "source": [
    "Let's resample repeatedly."
   ]
  },
  {
   "cell_type": "code",
   "execution_count": null,
   "metadata": {},
   "outputs": [],
   "source": [
    "np.random.seed(23) # Ignore this\n",
    "\n",
    "boot_medians = np.array([])\n",
    "\n",
    "for i in np.arange(5000):\n",
    "    boot_median = sample_of_bakeries.sample(200, replace=True).get('inspection_score').median()\n",
    "    boot_medians = np.append(boot_medians, boot_median)"
   ]
  },
  {
   "cell_type": "code",
   "execution_count": null,
   "metadata": {},
   "outputs": [],
   "source": [
    "boot_medians"
   ]
  },
  {
   "cell_type": "code",
   "execution_count": null,
   "metadata": {
    "slideshow": {
     "slide_type": "slide"
    }
   },
   "outputs": [],
   "source": [
    "bpd.DataFrame().assign(boot_medians=boot_medians).plot(kind='hist', density=True, ec='w', bins=10, figsize=(10, 5));"
   ]
  },
  {
   "cell_type": "markdown",
   "metadata": {},
   "source": [
    "Note that this distribution is not at all normal.\n",
    "\n",
    "To compute a 95% confidence interval, we take the middle 95% of the bootstrapped medians."
   ]
  },
  {
   "cell_type": "code",
   "execution_count": null,
   "metadata": {},
   "outputs": [],
   "source": [
    "left = np.percentile(boot_medians, 2.5)\n",
    "right = np.percentile(boot_medians, 97.5)\n",
    "\n",
    "[left, right]"
   ]
  },
  {
   "cell_type": "markdown",
   "metadata": {
    "slideshow": {
     "slide_type": "slide"
    }
   },
   "source": [
    "### Discussion Question\n",
    "\n",
    "Which of the following interpretations of this confidence interval are valid?\n",
    "\n",
    "1. 95% of SF bakeries have an inspection score between 85 and 88.  \n",
    "2. 95% of the resamples have a median inspection score between 85 and 88.  \n",
    "3. There is a 95% chance that our sample has a median inspection score between 85 and 88.  \n",
    "4. There is a 95% chance that the median inspection score of all SF bakeries is between 85 and 88.  \n",
    "5. If we had taken 100 samples from the same population, about 95 of these samples would have a median inspection score between 85 and 88.  \n",
    "6.  If we had taken 100 samples from the same population, about 95 of the confidence intervals created would contain the median inspection score of all SF bakeries.  "
   ]
  },
  {
   "cell_type": "markdown",
   "metadata": {},
   "source": [
    "<details>\n",
    "<summary>Click for the answer <b>after</b> you've entered your guess above. <b>Don't scroll any further.</b></summary>\n",
    "    \n",
    "The correct answers are Option 2 and Option 6.\n",
    "\n",
    "</details>"
   ]
  },
  {
   "cell_type": "markdown",
   "metadata": {
    "slideshow": {
     "slide_type": "slide"
    }
   },
   "source": [
    "## Physicians 🩺"
   ]
  },
  {
   "cell_type": "markdown",
   "metadata": {
    "slideshow": {
     "slide_type": "slide"
    }
   },
   "source": [
    "### The setup\n",
    "\n",
    "You work as a family physician. You collect data and you find that in 6354 patients, 3115 were children and 3239 were adults.\n",
    "\n",
    "You want to test the following hypotheses:\n",
    "\n",
    "- **Null Hypothesis:** Family physicians see an equal number of children and adults.\n",
    "- **Alternative Hypothesis:** Family physicians see more adults than they see children."
   ]
  },
  {
   "cell_type": "markdown",
   "metadata": {
    "slideshow": {
     "slide_type": "slide"
    }
   },
   "source": [
    "### Discussion Question\n",
    "\n",
    "Which test statistic(s) could be used for this hypothesis test? Which values of the test statistic point towards the alternative?\n",
    "\n",
    "A. proportion of children seen   \n",
    "B. number of children seen  \n",
    "C. number of children minus number of adults seen  \n",
    "D. absolute value of number of children minus number of adults seen\n",
    "\n",
    "**There may be multiple correct answers.**"
   ]
  },
  {
   "cell_type": "markdown",
   "metadata": {},
   "source": [
    "<details>\n",
    "<summary>Click for the answer <b>after</b> you've entered your guess above. <b>Don't scroll any further.</b></summary>\n",
    "    \n",
    "All of these but the last one would work for this alternative. Small values of these statistics would favor the alternative.\n",
    "    \n",
    "If the alternative was instead \"Family physicians see a different number of children and adults\", the last option would work while the first three wouldn't.\n",
    "\n",
    "</details>"
   ]
  },
  {
   "cell_type": "markdown",
   "metadata": {
    "slideshow": {
     "slide_type": "slide"
    }
   },
   "source": [
    "Let's use option B, the number of children seen, as a test statistic. Small values of this statistic favor the alternative hypothesis.\n",
    "\n",
    "How do we generate a single value of the test statistic?"
   ]
  },
  {
   "cell_type": "code",
   "execution_count": null,
   "metadata": {},
   "outputs": [],
   "source": [
    "np.random.multinomial(6354, [0.5, 0.5])[0]"
   ]
  },
  {
   "cell_type": "markdown",
   "metadata": {},
   "source": [
    "As per usual, let's simulate the test statistic many, many times."
   ]
  },
  {
   "cell_type": "code",
   "execution_count": null,
   "metadata": {},
   "outputs": [],
   "source": [
    "test_stats = np.array([])\n",
    "\n",
    "for i in np.arange(10000):\n",
    "    stat = np.random.multinomial(6354, [0.5, 0.5])[0]\n",
    "    test_stats = np.append(test_stats, stat)"
   ]
  },
  {
   "cell_type": "code",
   "execution_count": null,
   "metadata": {},
   "outputs": [],
   "source": [
    "test_stats"
   ]
  },
  {
   "cell_type": "code",
   "execution_count": null,
   "metadata": {
    "slideshow": {
     "slide_type": "slide"
    }
   },
   "outputs": [],
   "source": [
    "bpd.DataFrame().assign(test_stats=test_stats) \\\n",
    "               .plot(kind='hist', density=True, ec='w', figsize=(10, 5), bins=20);\n",
    "plt.axvline(3115, color='red', label='observed statistic')\n",
    "plt.legend();"
   ]
  },
  {
   "cell_type": "markdown",
   "metadata": {},
   "source": [
    "Recall that you collected data and found that in 6354 patients, 3115 were children and 3239 were adults."
   ]
  },
  {
   "cell_type": "markdown",
   "metadata": {
    "slideshow": {
     "slide_type": "slide"
    }
   },
   "source": [
    "### Discussion Question\n",
    "\n",
    "What goes in blank (a)?\n",
    "\n",
    "```py\n",
    "p_value = np.count_nonzero(test_stats __(a)__ 3115) / 10000\n",
    "```\n",
    "\n",
    "A. `>=`\n",
    "\n",
    "B. `>`\n",
    "\n",
    "C. `<=`\n",
    "\n",
    "D. `<`\n",
    "\n",
    "### To answer, go to [menti.com](https://menti.com) and enter the code 4857 5944."
   ]
  },
  {
   "cell_type": "markdown",
   "metadata": {},
   "source": [
    "<details>\n",
    "<summary>Click for the answer <b>after</b> you've entered your guess above. <b>Don't scroll any further.</b></summary>\n",
    "    <=\n",
    "\n",
    "</details>"
   ]
  },
  {
   "cell_type": "code",
   "execution_count": null,
   "metadata": {
    "slideshow": {
     "slide_type": "slide"
    }
   },
   "outputs": [],
   "source": [
    "# Calculate the p-value"
   ]
  },
  {
   "cell_type": "markdown",
   "metadata": {
    "slideshow": {
     "slide_type": "slide"
    }
   },
   "source": [
    "### Discussion Question\n",
    "\n",
    "What do we do, assuming that we're using a 5% p-value cutoff?\n",
    "\n",
    "A. reject the null  \n",
    "\n",
    "B. fail to reject the null \n",
    "\n",
    "C. not sure\n",
    "\n",
    "### To answer, go to [menti.com](https://menti.com) and enter the code 4857 5944."
   ]
  },
  {
   "cell_type": "markdown",
   "metadata": {},
   "source": [
    "<details>\n",
    "<summary>Click for the answer <b>after</b> you've entered your guess above. <b>Don't scroll any further.</b></summary>\n",
    "    Fail to reject the null, since the p-value is above 0.05.\n",
    "\n",
    "</details>"
   ]
  },
  {
   "cell_type": "markdown",
   "metadata": {
    "slideshow": {
     "slide_type": "slide"
    }
   },
   "source": [
    "Note that while we used `np.random.permutation` to simulate the test statistic, we could have used `np.random.choice`, too:"
   ]
  },
  {
   "cell_type": "code",
   "execution_count": null,
   "metadata": {},
   "outputs": [],
   "source": [
    "choices = np.random.choice(['adult', 'child'], p=[0.5, 0.5], size=6354, replace=True)\n",
    "choices"
   ]
  },
  {
   "cell_type": "code",
   "execution_count": null,
   "metadata": {},
   "outputs": [],
   "source": [
    "np.count_nonzero(choices == 'child')"
   ]
  },
  {
   "cell_type": "markdown",
   "metadata": {},
   "source": [
    "### Discussion Question\n",
    "\n",
    "Is this an example of bootstrapping?\n",
    "\n",
    "A. Yes, because we are sampling with replacement.\n",
    "\n",
    "B. No, this is not bootstrapping.\n",
    "\n",
    "### To answer, go to [menti.com](https://menti.com) and enter the code 4857 5944."
   ]
  },
  {
   "cell_type": "markdown",
   "metadata": {},
   "source": [
    "<details>\n",
    "<summary>Click for the answer <b>after</b> you've entered your guess above. <b>Don't scroll any further.</b></summary>\n",
    "    No, this is not bootstrapping. Bootstrapping is when we resample from a single sample; here we're simulating data under the assumptions of a model.\n",
    "\n",
    "</details>"
   ]
  },
  {
   "cell_type": "markdown",
   "metadata": {
    "slideshow": {
     "slide_type": "slide"
    }
   },
   "source": [
    "## Summary"
   ]
  },
  {
   "cell_type": "markdown",
   "metadata": {
    "slideshow": {
     "slide_type": "slide"
    }
   },
   "source": [
    "### Next time\n",
    "\n",
    "- Class on Friday will be a high-level overview of the quarter + a few cool demos on things you'll learn in later DSC courses."
   ]
  }
 ],
 "metadata": {
  "celltoolbar": "Slideshow",
  "kernelspec": {
   "display_name": "Python 3 (ipykernel)",
   "language": "python",
   "name": "python3"
  },
  "language_info": {
   "codemirror_mode": {
    "name": "ipython",
    "version": 3
   },
   "file_extension": ".py",
   "mimetype": "text/x-python",
   "name": "python",
   "nbconvert_exporter": "python",
   "pygments_lexer": "ipython3",
   "version": "3.9.7"
  },
  "livereveal": {
   "scroll": true,
   "transition": "none"
  }
 },
 "nbformat": 4,
 "nbformat_minor": 2
}
