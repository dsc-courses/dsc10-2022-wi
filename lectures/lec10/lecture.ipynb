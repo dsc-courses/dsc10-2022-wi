{
 "cells": [
  {
   "cell_type": "code",
   "execution_count": null,
   "metadata": {
    "slideshow": {
     "slide_type": "skip"
    }
   },
   "outputs": [],
   "source": [
    "import numpy as np\n",
    "import babypandas as bpd\n",
    "\n",
    "import matplotlib.pyplot as plt\n",
    "plt.style.use('fivethirtyeight')\n",
    "\n",
    "from IPython.display import display, IFrame\n",
    "\n",
    "def merging_animation():\n",
    "    src=\"https://docs.google.com/presentation/d/e/2PACX-1vSk2FfJ4K_An_CQwcN_Yu5unpJckOZjVQDFqZ78ZTTMmowUsCQKKVnum0_m6TaiGquQ44E3FiS9g2Y4/embed?start=false&loop=false&delayms=60000\"\n",
    "    width=825\n",
    "    height=500\n",
    "    display(IFrame(src, width, height))"
   ]
  },
  {
   "cell_type": "markdown",
   "metadata": {
    "slideshow": {
     "slide_type": "slide"
    }
   },
   "source": [
    "# Lecture 10 – Grouping with Subgroups, Merge\n",
    "\n",
    "## DSC 10, Winter 2022"
   ]
  },
  {
   "cell_type": "markdown",
   "metadata": {
    "slideshow": {
     "slide_type": "slide"
    }
   },
   "source": [
    "### Announcements\n",
    "\n",
    "- Homework 3 is due **Saturday 1/29 at 11:59pm.**\n",
    "- Lab 4 is due **Tuesday 2/1 at 11:59pm**.\n",
    "- Project 1 will be released tomorrow and will be due **Saturday 2/12 at 11:59pm**.\n",
    "- Logistics regarding in-person instruction are on the next slide."
   ]
  },
  {
   "cell_type": "markdown",
   "metadata": {
    "slideshow": {
     "slide_type": "slide"
    }
   },
   "source": [
    "### Logistics starting January 31st\n",
    "\n",
    "You may have heard the news – in-person instruction on campus is starting on 1/31. Here's what will happen in DSC 10:\n",
    "\n",
    "- **Lectures** will be delivered **in-person** in Center Hall 214, but you can also **participate live via Zoom** (same link as before).\n",
    "    - Tutors will monitor the Zoom chat and let me know if there's anything to address.\n",
    "    - Lectures will still be recorded and posted online afterwards.\n",
    "- Same plan for **discussions** – **in-person** in Center Hall 105 but with a **Zoom** remote option, with recordings posted afterwards.\n",
    "- Most **office hours** will stay remote, but some will move in-person.\n",
    "    - The [Calendar](https://dsc10.com/calendar/) will be updated this weekend to specify which office hours are in-person and which are remote, and with instructions on how to access in-person office hours.\n",
    "- **Exams** will be remote."
   ]
  },
  {
   "cell_type": "markdown",
   "metadata": {
    "slideshow": {
     "slide_type": "slide"
    }
   },
   "source": [
    "### Agenda\n",
    "\n",
    "- Grouping with subgroups.\n",
    "- Merging."
   ]
  },
  {
   "cell_type": "markdown",
   "metadata": {
    "slideshow": {
     "slide_type": "slide"
    }
   },
   "source": [
    "## Grouping with subgroups"
   ]
  },
  {
   "cell_type": "markdown",
   "metadata": {
    "slideshow": {
     "slide_type": "slide"
    }
   },
   "source": [
    "### Our familiar NBA dataset 🏀"
   ]
  },
  {
   "cell_type": "code",
   "execution_count": null,
   "metadata": {},
   "outputs": [],
   "source": [
    "nba = bpd.read_csv('data/nba-2022.csv')\n",
    "nba"
   ]
  },
  {
   "cell_type": "markdown",
   "metadata": {
    "slideshow": {
     "slide_type": "slide"
    }
   },
   "source": [
    "### How many players are on each team?\n",
    "\n",
    "- We know how to answer this: `.groupby('Team')` with `.count()`.\n",
    "- **Notice**: `'Team'` becomes the index."
   ]
  },
  {
   "cell_type": "code",
   "execution_count": null,
   "metadata": {},
   "outputs": [],
   "source": [
    "nba.groupby('Team').count()"
   ]
  },
  {
   "cell_type": "markdown",
   "metadata": {
    "slideshow": {
     "slide_type": "slide"
    }
   },
   "source": [
    "### How many players at each position does each team have?\n",
    "\n",
    "- It seems like grouping would be helpful here, but currently we only know how to group by a single column.\n",
    "    - Right now, we can count the number of players on each team.\n",
    "    - Separately, we can count the number of players at each position."
   ]
  },
  {
   "cell_type": "markdown",
   "metadata": {
    "slideshow": {
     "slide_type": "fragment"
    }
   },
   "source": [
    "- Here, we want to somehow group by multiple columns. \n",
    "    - Specifically, we want the number of players at each position on each team.\n",
    "    - e.g. the number of centers on the Los Angeles Lakers, the number of power forwards on the Atlanta Hawks.\n",
    "- There's a way!"
   ]
  },
  {
   "cell_type": "code",
   "execution_count": null,
   "metadata": {
    "slideshow": {
     "slide_type": "slide"
    }
   },
   "outputs": [],
   "source": [
    "nba.groupby(['Team', 'Position']).count()"
   ]
  },
  {
   "cell_type": "markdown",
   "metadata": {
    "slideshow": {
     "slide_type": "slide"
    }
   },
   "source": [
    "### `.groupby` with subgroups\n",
    "\n",
    "- To make groups within groups, pass a list of column names to `.groupby`:\n",
    "\n",
    "```py\n",
    "df.groupby([col_1, col_2, ..., col_k])\n",
    "```\n",
    "- Group by `col_1` first.\n",
    "- Within each group, group by `col_2`, and so on.\n",
    "- The resulting DataFrame has one row per unique combination of entries in the specified columns."
   ]
  },
  {
   "cell_type": "markdown",
   "metadata": {
    "slideshow": {
     "slide_type": "slide"
    }
   },
   "source": [
    "### Notice the index... 🤔\n",
    "\n",
    "- This is called a \"[MultiIndex](https://pandas.pydata.org/pandas-docs/stable/user_guide/advanced.html)\".\n",
    "- We won't worry about the details of MultiIndexes.\n",
    "- We can use `.reset_index()` to \"flatten\" our DataFrame back to normal."
   ]
  },
  {
   "cell_type": "code",
   "execution_count": null,
   "metadata": {
    "scrolled": false
   },
   "outputs": [],
   "source": [
    "nba.groupby(['Team', 'Position']).count().reset_index()"
   ]
  },
  {
   "cell_type": "markdown",
   "metadata": {
    "slideshow": {
     "slide_type": "slide"
    }
   },
   "source": [
    "### Does order matter?"
   ]
  },
  {
   "cell_type": "code",
   "execution_count": null,
   "metadata": {
    "scrolled": false
   },
   "outputs": [],
   "source": [
    "nba.groupby(['Position', 'Team']).count()"
   ]
  },
  {
   "cell_type": "markdown",
   "metadata": {
    "slideshow": {
     "slide_type": "fragment"
    }
   },
   "source": [
    "**Answer:** Kind of. The order of the indexes will be different, but the resulting DataFrame will contain the same information."
   ]
  },
  {
   "cell_type": "markdown",
   "metadata": {
    "slideshow": {
     "slide_type": "slide"
    }
   },
   "source": [
    "### Which team has the most centers?"
   ]
  },
  {
   "cell_type": "code",
   "execution_count": null,
   "metadata": {},
   "outputs": [],
   "source": [
    "position_counts = nba.groupby(['Team', 'Position']).count().reset_index()\n",
    "position_counts"
   ]
  },
  {
   "cell_type": "code",
   "execution_count": null,
   "metadata": {},
   "outputs": [],
   "source": [
    "position_counts[position_counts.get('Position') == 'C'] \\\n",
    ".sort_values('Salary', ascending=False)"
   ]
  },
  {
   "cell_type": "markdown",
   "metadata": {
    "slideshow": {
     "slide_type": "slide"
    }
   },
   "source": [
    "In this case, we could've done this without subgroups, too:"
   ]
  },
  {
   "cell_type": "code",
   "execution_count": null,
   "metadata": {},
   "outputs": [],
   "source": [
    "nba[nba.get('Position') == 'C'].groupby('Team').count().sort_values('Position', ascending=False)"
   ]
  },
  {
   "cell_type": "markdown",
   "metadata": {
    "slideshow": {
     "slide_type": "slide"
    }
   },
   "source": [
    "### Other aggregation methods work, too!"
   ]
  },
  {
   "cell_type": "code",
   "execution_count": null,
   "metadata": {},
   "outputs": [],
   "source": [
    "nba.groupby(['Team', 'Position']).max().reset_index()"
   ]
  },
  {
   "cell_type": "markdown",
   "metadata": {
    "slideshow": {
     "slide_type": "fragment"
    }
   },
   "source": [
    "- Remember, the aggregation method is applied to each column individually.\n",
    "- For instance, Gorgui Dieng does not make a salary of 17,103,448 – his name is just the last (`max`) name alphabetically amongst all centers on the Atlanta Hawks."
   ]
  },
  {
   "cell_type": "code",
   "execution_count": null,
   "metadata": {},
   "outputs": [],
   "source": [
    "nba[(nba.get('Team') == 'Atlanta Hawks') & (nba.get('Position') == 'C')]"
   ]
  },
  {
   "cell_type": "markdown",
   "metadata": {
    "slideshow": {
     "slide_type": "slide"
    }
   },
   "source": [
    "### Example: Sea temperatures 🌊\n",
    "\n",
    "This dataset contains the sea surface temperature in La Jolla, on many days ranging from August 22, 1916 to May 31, 2019."
   ]
  },
  {
   "cell_type": "code",
   "execution_count": null,
   "metadata": {},
   "outputs": [],
   "source": [
    "sea_temp = bpd.read_csv('data/sea_temp.csv')\n",
    "sea_temp"
   ]
  },
  {
   "cell_type": "markdown",
   "metadata": {
    "slideshow": {
     "slide_type": "slide"
    }
   },
   "source": [
    "### Discussion Question: Our dataset contains information on 1,234 different months. How do we find the month (e.g. November 1998) with the highest average temperature?\n",
    "\n",
    "What kind of grouping should we do here?\n",
    "\n",
    "- A) `sea_temp.groupby('SURFACE_TEMP')`\n",
    "- B) `sea_temp.groupby('MONTH')`\n",
    "- C) `sea_temp.groupby(['YEAR', 'MONTH'])`\n",
    "- D) `sea_temp.groupby(['MONTH', 'DAY'])`\n",
    "- E) `sea_temp.groupby(['MONTH', 'SURFACE_TEMP'])`\n",
    "\n",
    "### To answer, go to [menti.com](https://menti.com) and enter the code 9142 6449."
   ]
  },
  {
   "cell_type": "code",
   "execution_count": null,
   "metadata": {
    "slideshow": {
     "slide_type": "slide"
    }
   },
   "outputs": [],
   "source": [
    "..."
   ]
  },
  {
   "cell_type": "markdown",
   "metadata": {
    "slideshow": {
     "slide_type": "slide"
    }
   },
   "source": [
    "### Plot of yearly average surface temperature 📈"
   ]
  },
  {
   "cell_type": "code",
   "execution_count": null,
   "metadata": {},
   "outputs": [],
   "source": [
    "sea_temp.groupby('YEAR') \\\n",
    "        .mean() \\\n",
    "        .plot(kind='line', y='SURFACE_TEMP');"
   ]
  },
  {
   "cell_type": "markdown",
   "metadata": {
    "slideshow": {
     "slide_type": "slide"
    }
   },
   "source": [
    "### Summary: `.groupby` with subgroups\n",
    "\n",
    "- Pass a list of columns to `.groupby` to make subgroups.\n",
    "- **Always** use `.reset_index()` after grouping with subgroups, to move the MultiIndex back to the columns."
   ]
  },
  {
   "cell_type": "markdown",
   "metadata": {
    "slideshow": {
     "slide_type": "slide"
    }
   },
   "source": [
    "## Merging 🚗"
   ]
  },
  {
   "cell_type": "code",
   "execution_count": null,
   "metadata": {
    "slideshow": {
     "slide_type": "slide"
    }
   },
   "outputs": [],
   "source": [
    "phones = bpd.DataFrame().assign(\n",
    "    Model=['iPhone 13', 'iPhone 13 Pro Max', 'Samsung Galaxy Z Flip', 'Pixel 5a'],\n",
    "    Price=[799, 1099, 999, 449],\n",
    "    Screen=[6.1, 6.7, 6.7, 6.3]\n",
    ")\n",
    "\n",
    "inventory = bpd.DataFrame().assign(\n",
    "    Handset=['iPhone 13 Pro Max', 'iPhone 13', 'Pixel 5a', 'iPhone 13'],\n",
    "    Units=[50, 40, 10, 100],\n",
    "    Store=['Westfield UTC', 'Westfield UTC', 'Fashion Valley', 'Downtown']\n",
    ")"
   ]
  },
  {
   "cell_type": "code",
   "execution_count": null,
   "metadata": {
    "slideshow": {
     "slide_type": "slide"
    }
   },
   "outputs": [],
   "source": [
    "# Phones on the market right now\n",
    "phones"
   ]
  },
  {
   "cell_type": "code",
   "execution_count": null,
   "metadata": {},
   "outputs": [],
   "source": [
    "# Which phones my stores have in stock in the area\n",
    "inventory"
   ]
  },
  {
   "cell_type": "markdown",
   "metadata": {
    "slideshow": {
     "slide_type": "fragment"
    }
   },
   "source": [
    "**Question:** If I sell all of the phones in my inventory, how much will I make in revenue?"
   ]
  },
  {
   "cell_type": "markdown",
   "metadata": {
    "slideshow": {
     "slide_type": "slide"
    }
   },
   "source": [
    "### If I sell all of the phones in my inventory, how much will I make in revenue?"
   ]
  },
  {
   "cell_type": "code",
   "execution_count": null,
   "metadata": {},
   "outputs": [],
   "source": [
    "phones.merge(inventory, left_on='Model', right_on='Handset')"
   ]
  },
  {
   "cell_type": "markdown",
   "metadata": {
    "slideshow": {
     "slide_type": "slide"
    }
   },
   "source": [
    "### What just happened!? 🤯"
   ]
  },
  {
   "cell_type": "code",
   "execution_count": null,
   "metadata": {},
   "outputs": [],
   "source": [
    "# Click through the presentation that appears\n",
    "merging_animation()"
   ]
  },
  {
   "cell_type": "markdown",
   "metadata": {
    "slideshow": {
     "slide_type": "slide"
    }
   },
   "source": [
    "### `.merge`\n",
    "\n",
    "- Pick a \"left\" and \"right\" DataFrame.\n",
    "- Choose a column from each to \"merge on\".\n",
    "```python\n",
    "left_df.merge(\n",
    "    right_df, \n",
    "    left_on=left_column_name,\n",
    "    right_on=right_column_name\n",
    ")\n",
    "```\n",
    "- `left_on` and `right_on` should be column names (they don't have to be the same).\n",
    "- The resulting DataFrame contains a single row for every match between the two columns.\n",
    "- Rows in either DataFrame without a match disappear!"
   ]
  },
  {
   "cell_type": "markdown",
   "metadata": {
    "slideshow": {
     "slide_type": "slide"
    }
   },
   "source": [
    "### If I sell all of the phones in my inventory, how much will I make in revenue?"
   ]
  },
  {
   "cell_type": "code",
   "execution_count": null,
   "metadata": {},
   "outputs": [],
   "source": [
    "phones"
   ]
  },
  {
   "cell_type": "code",
   "execution_count": null,
   "metadata": {},
   "outputs": [],
   "source": [
    "inventory"
   ]
  },
  {
   "cell_type": "code",
   "execution_count": null,
   "metadata": {},
   "outputs": [],
   "source": [
    "# Notice there's no Samsung Galaxy Z Flip in phones_merged\n",
    "phones_merged = phones.merge(inventory, left_on='Model', right_on='Handset')\n",
    "phones_merged"
   ]
  },
  {
   "cell_type": "code",
   "execution_count": null,
   "metadata": {},
   "outputs": [],
   "source": [
    "(phones_merged.get('Price') * phones_merged.get('Units')).sum()"
   ]
  },
  {
   "cell_type": "markdown",
   "metadata": {
    "slideshow": {
     "slide_type": "slide"
    }
   },
   "source": [
    "### Shortcut if column names are the same: `on`"
   ]
  },
  {
   "cell_type": "code",
   "execution_count": null,
   "metadata": {},
   "outputs": [],
   "source": [
    "phones"
   ]
  },
  {
   "cell_type": "code",
   "execution_count": null,
   "metadata": {},
   "outputs": [],
   "source": [
    "inventory_relabeled = inventory.assign(Model=inventory.get('Handset')).drop(columns=['Handset'])\n",
    "inventory_relabeled"
   ]
  },
  {
   "cell_type": "code",
   "execution_count": null,
   "metadata": {},
   "outputs": [],
   "source": [
    "phones.merge(inventory_relabeled, on='Model')"
   ]
  },
  {
   "cell_type": "markdown",
   "metadata": {
    "slideshow": {
     "slide_type": "fragment"
    }
   },
   "source": [
    "**Notice**: There's only one column containing phone names now."
   ]
  },
  {
   "cell_type": "markdown",
   "metadata": {
    "slideshow": {
     "slide_type": "slide"
    }
   },
   "source": [
    "### Does order matter? 🤔"
   ]
  },
  {
   "cell_type": "code",
   "execution_count": null,
   "metadata": {},
   "outputs": [],
   "source": [
    "phones"
   ]
  },
  {
   "cell_type": "code",
   "execution_count": null,
   "metadata": {},
   "outputs": [],
   "source": [
    "inventory"
   ]
  },
  {
   "cell_type": "code",
   "execution_count": null,
   "metadata": {},
   "outputs": [],
   "source": [
    "inventory.merge(phones, left_on='Handset', right_on='Model')"
   ]
  },
  {
   "cell_type": "markdown",
   "metadata": {
    "slideshow": {
     "slide_type": "fragment"
    }
   },
   "source": [
    "**Answer:** The order of the rows and columns will be different, but the content will be the same."
   ]
  },
  {
   "cell_type": "markdown",
   "metadata": {
    "slideshow": {
     "slide_type": "slide"
    }
   },
   "source": [
    "### What if we want to \"merge on\" an index?\n",
    "\n",
    "Instead of using `left_on` or `right_on`, use `left_index=True` or `right_index=True`."
   ]
  },
  {
   "cell_type": "code",
   "execution_count": null,
   "metadata": {},
   "outputs": [],
   "source": [
    "phones"
   ]
  },
  {
   "cell_type": "code",
   "execution_count": null,
   "metadata": {},
   "outputs": [],
   "source": [
    "inventory_by_handset = inventory.set_index('Handset')\n",
    "inventory_by_handset"
   ]
  },
  {
   "cell_type": "code",
   "execution_count": null,
   "metadata": {},
   "outputs": [],
   "source": [
    "phones.merge(inventory_by_handset, left_on='Model', right_index=True)"
   ]
  },
  {
   "cell_type": "markdown",
   "metadata": {
    "slideshow": {
     "slide_type": "slide"
    }
   },
   "source": [
    "### Discussion Question Setup"
   ]
  },
  {
   "cell_type": "code",
   "execution_count": null,
   "metadata": {},
   "outputs": [],
   "source": [
    "nice_weather_cities = bpd.DataFrame().assign(\n",
    "    city=['La Jolla', 'San Diego', 'Austin', 'Los Angeles'],\n",
    "    state=['California', 'California', 'Texas', 'California'],\n",
    "    today_high_temp=['79', '83', '87', '87']\n",
    "    \n",
    ")\n",
    "\n",
    "schools = bpd.DataFrame().assign(\n",
    "    name=['UCSD', 'University of Chicago', 'University of San Diego','Johns Hopkins University', 'UT Austin', 'SDSU', 'UCLA'], \n",
    "    city=['La Jolla', 'Chicago', 'San Diego', 'Baltimore', 'Austin', 'San Diego', 'Los Angeles'],\n",
    "    state=['California', 'Illinois', 'California', 'Maryland', 'Texas', 'California', 'California'],\n",
    "    graduation_rate=[0.87, 0.94, 0.78, 0.92, 0.81, 0.83, 0.91 ]\n",
    ")"
   ]
  },
  {
   "cell_type": "markdown",
   "metadata": {
    "slideshow": {
     "slide_type": "slide"
    }
   },
   "source": [
    "### Discussion Question"
   ]
  },
  {
   "cell_type": "code",
   "execution_count": null,
   "metadata": {},
   "outputs": [],
   "source": [
    "nice_weather_cities"
   ]
  },
  {
   "cell_type": "code",
   "execution_count": null,
   "metadata": {},
   "outputs": [],
   "source": [
    "schools"
   ]
  },
  {
   "cell_type": "markdown",
   "metadata": {
    "slideshow": {
     "slide_type": "-"
    }
   },
   "source": [
    "**How many rows will be in the output of `nice_weather_cities.merge(schools, on='city')`?**\n",
    "\n",
    "<center>\n",
    "<pre>\n",
    "A. 4      B. 5      C. 6       D. 7       E. 8\n",
    "</pre>\n",
    "</center>\n",
    "\n",
    "### To answer, go to [menti.com](https://menti.com) and enter the code 9142 6449."
   ]
  },
  {
   "cell_type": "code",
   "execution_count": null,
   "metadata": {},
   "outputs": [],
   "source": []
  },
  {
   "cell_type": "markdown",
   "metadata": {
    "slideshow": {
     "slide_type": "slide"
    }
   },
   "source": [
    "### Followup: How many rows will be in the output of `nice_weather_cities.merge(schools, on='state')`?"
   ]
  },
  {
   "cell_type": "code",
   "execution_count": null,
   "metadata": {},
   "outputs": [],
   "source": []
  },
  {
   "cell_type": "markdown",
   "metadata": {
    "slideshow": {
     "slide_type": "slide"
    }
   },
   "source": [
    "## Summary"
   ]
  },
  {
   "cell_type": "markdown",
   "metadata": {
    "slideshow": {
     "slide_type": "slide"
    }
   },
   "source": [
    "### Summary\n",
    "\n",
    "- To create groups within a group, pass a list to `.groupby`.\n",
    "    - The result has one row for every unique combination of elements in the specified columns.\n",
    "- To combine information from multiple DataFrames, use `.merge`.\n",
    "    - When using `.merge`, Python searches for a match between a specified column in each DataFrame and combines the rows with a match.\n",
    "    - No matches = row disappears!\n",
    "- **Next time**: if-statements and loops."
   ]
  }
 ],
 "metadata": {
  "celltoolbar": "Slideshow",
  "kernelspec": {
   "display_name": "Python 3 (ipykernel)",
   "language": "python",
   "name": "python3"
  },
  "language_info": {
   "codemirror_mode": {
    "name": "ipython",
    "version": 3
   },
   "file_extension": ".py",
   "mimetype": "text/x-python",
   "name": "python",
   "nbconvert_exporter": "python",
   "pygments_lexer": "ipython3",
   "version": "3.9.7"
  },
  "livereveal": {
   "scroll": true,
   "transition": "none"
  }
 },
 "nbformat": 4,
 "nbformat_minor": 2
}
