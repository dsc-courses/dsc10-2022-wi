{
 "cells": [
  {
   "cell_type": "code",
   "execution_count": null,
   "metadata": {
    "slideshow": {
     "slide_type": "skip"
    }
   },
   "outputs": [],
   "source": [
    "# Imports\n",
    "import babypandas as bpd\n",
    "import numpy as np\n",
    "\n",
    "import matplotlib.pyplot as plt\n",
    "\n",
    "plt.style.use('fivethirtyeight')"
   ]
  },
  {
   "cell_type": "markdown",
   "metadata": {
    "slideshow": {
     "slide_type": "slide"
    }
   },
   "source": [
    "# Lecture 17 – Permutation Testing\n",
    "\n",
    "## DSC 10, Winter 2022"
   ]
  },
  {
   "cell_type": "markdown",
   "metadata": {
    "slideshow": {
     "slide_type": "slide"
    }
   },
   "source": [
    "### Announcements\n",
    "\n",
    "- Lab 5 is due **Thursday 2/17 at 11:59pm**.\n",
    "- Homework 5 is due **Saturday 2/19 at 11:59pm**.\n",
    "- Take a look at the \"Grade Report\" on Gradescope."
   ]
  },
  {
   "cell_type": "markdown",
   "metadata": {
    "slideshow": {
     "slide_type": "slide"
    }
   },
   "source": [
    "### Agenda\n",
    "\n",
    "- Recap: Total Variation Distance.\n",
    "    - A test statistic that allows us to compare how \"different\" two categorical distributions are.\n",
    "- A new type of hypothesis test.\n",
    "    - So far, we've been assessing models given a single random sample.\n",
    "        - We flip a coin 400 times. Are the flips consistent with the coin being fair?\n",
    "        - Did the jury panel in the Swain case look like a random sample from the eligible population?\n",
    "        - Are the test scores for the TA's section a random sample from the class's scores?\n",
    "    - But we often have **two** random samples we wish to compare.\n",
    "        - Example: birth weights of babies born to smoking mothers vs. non-smoking mothers 👶.\n",
    "        - Example: drops in pressure for footballs from two different teams (Deflategate) 🏈.\n",
    "    - **Permutation testing** (i.e. **A/B testing**) will help us decide whether two random samples come from the same distribution."
   ]
  },
  {
   "cell_type": "markdown",
   "metadata": {
    "slideshow": {
     "slide_type": "slide"
    }
   },
   "source": [
    "## Comparing distributions"
   ]
  },
  {
   "cell_type": "markdown",
   "metadata": {
    "slideshow": {
     "slide_type": "slide"
    }
   },
   "source": [
    "### ACLU study\n",
    "- The ACLU (American Civil Liberties Union) of Northern California studied the ethnic composition of jury panels in 11 felony trials in Alameda County between 2009 and 2010.\n",
    "    - [Here's a link](https://www.aclunc.org/sites/default/files/racial_and_ethnic_disparities_in_alameda_county_jury_pools.pdf) to the study.\n",
    "- 1453 people reported for jury duty in total (we will call them \"panelists\").\n",
    "- The following DataFrame shows the distribution of ethnicities for both the eligible population and for the panelists who were studied."
   ]
  },
  {
   "cell_type": "code",
   "execution_count": null,
   "metadata": {},
   "outputs": [],
   "source": [
    "jury = bpd.DataFrame().assign(\n",
    "    Ethnicity=['Asian', 'Black', 'Latino', 'White', 'Other'],\n",
    "    Eligible=[0.15, 0.18, 0.12, 0.54, 0.01],\n",
    "    Panels=[0.26, 0.08, 0.08, 0.54, 0.04]\n",
    ")\n",
    "jury"
   ]
  },
  {
   "cell_type": "markdown",
   "metadata": {
    "slideshow": {
     "slide_type": "slide"
    }
   },
   "source": [
    "### Are the differences in representation meaningful?\n",
    "- Model: Panelists were selected at random from the eligible population.\n",
    "    - Alternative viewpoint: no, they weren't.\n",
    "- Observation: 1453 panelists and the distribution of their ethnicities.\n",
    "- Test statistic: ???\n",
    "    - How do we deal with multiple categories?"
   ]
  },
  {
   "cell_type": "code",
   "execution_count": null,
   "metadata": {
    "slideshow": {
     "slide_type": "-"
    }
   },
   "outputs": [],
   "source": [
    "jury.plot(kind='barh', x='Ethnicity');"
   ]
  },
  {
   "cell_type": "markdown",
   "metadata": {
    "slideshow": {
     "slide_type": "slide"
    }
   },
   "source": [
    "### The distance between two distributions\n",
    "- Panelists are categorized into one of 5 ethnicities.\n",
    "- The distribution of ethnicities is **categorical**.\n",
    "- To see whether the the distribution of ethnicities for the panelists is similar to that of the eligible population, we have to measure the distance between two categorical distributions."
   ]
  },
  {
   "cell_type": "markdown",
   "metadata": {
    "slideshow": {
     "slide_type": "slide"
    }
   },
   "source": [
    "### Statistic: Total Variation Distance\n",
    "- The **Total Variation Distance (TVD)** of two categorical distributions is **the sum of the absolute differences of their proportions, all divided by 2**.\n",
    "    - We divide by 2 so that, for example, the distribution [0.51, 0.49] is 0.01 off from [0.50, 0.50].\n",
    "    - This way, TVD quantifies the **total overrepresentation** across all categories.\n",
    "    - It would also be valid not to divide by 2. We just wouldn't call that statistic TVD anymore."
   ]
  },
  {
   "cell_type": "code",
   "execution_count": null,
   "metadata": {},
   "outputs": [],
   "source": [
    "def total_variation_distance(dist1, dist2):\n",
    "    '''Computes the TVD between two categorical distributions, \n",
    "       assuming the categories appear in the same order.'''\n",
    "    return np.abs((dist1 - dist2)).sum() / 2"
   ]
  },
  {
   "cell_type": "code",
   "execution_count": null,
   "metadata": {},
   "outputs": [],
   "source": [
    "total_variation_distance(jury.get('Eligible'), jury.get('Panels'))"
   ]
  },
  {
   "cell_type": "markdown",
   "metadata": {
    "slideshow": {
     "slide_type": "slide"
    }
   },
   "source": [
    "### Discussion Question\n",
    "\n",
    "What is the TVD between the distributions of class standing in DSC 10 and DSC 40A?\n",
    "\n",
    "| **Class Standing** | **DSC 10** | **DSC 40A** |\n",
    "| --- | --- | --- |\n",
    "| Freshman | 0.45 | 0.15 |\n",
    "| Sophomore | 0.35 | 0.35 |\n",
    "| Junior | 0.15 | 0.35 |\n",
    "| Senior+ | 0.05 | 0.15 |\n",
    "\n",
    "- A. 0.2\n",
    "- B. 0.3\n",
    "- C. 0.5\n",
    "- D. 0.6\n",
    "- E. None of the above\n",
    "\n",
    "### To answer, go to [menti.com](https://menti.com) and enter the code 3290 1539."
   ]
  },
  {
   "cell_type": "markdown",
   "metadata": {
    "slideshow": {
     "slide_type": "slide"
    }
   },
   "source": [
    "### TVD as a test statistic"
   ]
  },
  {
   "cell_type": "code",
   "execution_count": null,
   "metadata": {
    "slideshow": {
     "slide_type": "-"
    }
   },
   "outputs": [],
   "source": [
    "# Calculate the TVD between the distribution of ethnicities in the eligible population\n",
    "# and the distribution of ethnicities in the observed panelists\n",
    "\n",
    "total_variation_distance(jury.get('Eligible'), jury.get('Panels'))"
   ]
  },
  {
   "cell_type": "markdown",
   "metadata": {
    "slideshow": {
     "slide_type": "fragment"
    }
   },
   "source": [
    "- The closer the TVD is to 0, the closer the two distributions are to one another.\n",
    "- But is 0.14 a very small value? A typical value? A very large value?"
   ]
  },
  {
   "cell_type": "markdown",
   "metadata": {
    "slideshow": {
     "slide_type": "slide"
    }
   },
   "source": [
    "### Simulate drawing jury panels\n",
    "- Model: Panels are drawn at random from the eligible population.\n",
    "- Statistic: TVD between the random panel's ethnicity distribution and the eligible population's ethnicity distribution.\n",
    "- Repeat many times to generate many TVDs, and see where the TVD of the observed panelists lies.\n",
    "\n",
    "_Note: `np.random.multinomial` creates samples drawn with replacement, even though real jury panels would be drawn without replacement. However, when the sample size is small relative to the population, the resulting distributions will be roughly the same whether we sample with or without replacement._"
   ]
  },
  {
   "cell_type": "markdown",
   "metadata": {
    "slideshow": {
     "slide_type": "slide"
    }
   },
   "source": [
    "### The simulation\n",
    "\n",
    "Let's start by simulating one jury panel and computing the TVD between the simulated panel's ethnic distribution and Alameda County's ethnic distribution."
   ]
  },
  {
   "cell_type": "code",
   "execution_count": null,
   "metadata": {
    "slideshow": {
     "slide_type": "-"
    }
   },
   "outputs": [],
   "source": [
    "eligible = jury.get('Eligible')\n",
    "simulated_distribution = np.random.multinomial(1453, eligible) / 1453 \n",
    "simulated_distribution"
   ]
  },
  {
   "cell_type": "code",
   "execution_count": null,
   "metadata": {},
   "outputs": [],
   "source": [
    "panels_and_sample = jury.assign(RandomSample=simulated_distribution) \n",
    "panels_and_sample"
   ]
  },
  {
   "cell_type": "code",
   "execution_count": null,
   "metadata": {},
   "outputs": [],
   "source": [
    "panels_and_sample.plot(kind='barh', x='Ethnicity');"
   ]
  },
  {
   "cell_type": "code",
   "execution_count": null,
   "metadata": {},
   "outputs": [],
   "source": [
    "total_variation_distance(panels_and_sample.get('RandomSample'), eligible)"
   ]
  },
  {
   "cell_type": "markdown",
   "metadata": {
    "slideshow": {
     "slide_type": "slide"
    }
   },
   "source": [
    "### Repeating the experiment"
   ]
  },
  {
   "cell_type": "code",
   "execution_count": null,
   "metadata": {},
   "outputs": [],
   "source": [
    "tvds = np.array([])\n",
    "repetitions = 10000\n",
    "for i in np.arange(repetitions):\n",
    "    simulated_distribution = np.random.multinomial(1453, eligible) / 1453\n",
    "    new_tvd = total_variation_distance(simulated_distribution, eligible)\n",
    "    tvds = np.append(tvds, new_tvd)\n",
    "    \n",
    "tvds"
   ]
  },
  {
   "cell_type": "code",
   "execution_count": null,
   "metadata": {},
   "outputs": [],
   "source": [
    "observed_tvd = total_variation_distance(jury.get('Panels'), eligible)\n",
    "\n",
    "bpd.DataFrame().assign(tvds=tvds).plot(kind='hist', density=True, bins=20, ec='w', figsize=(10, 5))\n",
    "plt.axvline(observed_tvd, color='red', label='observed TVD')\n",
    "plt.legend();"
   ]
  },
  {
   "cell_type": "markdown",
   "metadata": {
    "slideshow": {
     "slide_type": "slide"
    }
   },
   "source": [
    "### Calculating the p-value\n",
    "\n",
    "Recall:\n",
    "- The p-value is **the probability, under the null hypothesis, that the test statistic is equal to the value that was observed in the data or is even further in the direction of the alternative**.\n",
    "- Its formal name is the _observed significance level_.\n",
    "- In the previous visualization, it is the area to the right of the red line (i.e. the area in the right tail, starting at the observed statistic)."
   ]
  },
  {
   "cell_type": "code",
   "execution_count": null,
   "metadata": {},
   "outputs": [],
   "source": [
    "np.count_nonzero(tvds >= observed_tvd) / repetitions"
   ]
  },
  {
   "cell_type": "markdown",
   "metadata": {
    "slideshow": {
     "slide_type": "slide"
    }
   },
   "source": [
    "### Are the jury panels representative?\n",
    "- Likely not! The distributions of ethnicities in our random samples are not like the distribution of ethnicities in our observed panelists.\n",
    "- This doesn't say *why* the distributions are different!\n",
    "    - Juries are drawn from voter registration lists and DMV records. Certain populations are less likely to be registered to vote or have a driver's license due to historical biases.\n",
    "    - The county rarely enacts penalties for those who don't appear for jury duty; certain populations are less likely to be able to miss work to appear for jury duty.\n",
    "    - [See the report](https://www.aclunc.org/sites/default/files/racial_and_ethnic_disparities_in_alameda_county_jury_pools.pdf) for more reasons."
   ]
  },
  {
   "cell_type": "markdown",
   "metadata": {
    "slideshow": {
     "slide_type": "slide"
    }
   },
   "source": [
    "### Summary of the method\n",
    "\n",
    "To assess whether a sample was drawn randomly from a known categorical distribution:\n",
    "- Use TVD as the test statistic because it measures the distance between categorical distributions.\n",
    "- Sample at random from the population and compute the TVD between the random sample and the population; repeat numerous times.\n",
    "- Compare:\n",
    "    - The empirical distribution of simulated TVDs, and\n",
    "    - The actual TVD from the sample in the study.\n",
    "- See Question 6 on Homework 5 for an example."
   ]
  },
  {
   "cell_type": "markdown",
   "metadata": {
    "slideshow": {
     "slide_type": "slide"
    }
   },
   "source": [
    "## Motivating A/B testing"
   ]
  },
  {
   "attachments": {},
   "cell_type": "markdown",
   "metadata": {
    "slideshow": {
     "slide_type": "slide"
    }
   },
   "source": [
    "### 2008 Obama Campaign\n",
    "\n",
    "<center><img src='data/obama.png' width=600>\n",
    "\n",
    "- In 2008, the Obama campaign tested several different versions of a pop-up box on their website. Each visitor to the site would view a random version of the site, with different buttons and images.\n",
    "- For each version, they recorded the number of people who signed up to be a donor.\n",
    "- Read more at [this blog post](https://blog.optimizely.com/2010/11/29/how-obama-raised-60-million-by-running-a-simple-experiment/)."
   ]
  },
  {
   "attachments": {},
   "cell_type": "markdown",
   "metadata": {
    "slideshow": {
     "slide_type": "slide"
    }
   },
   "source": [
    "### Button choices\n",
    "\n",
    "- Here are the four different buttons they used.\n",
    "- Intuitively, which one do you think would lead to the most signups?\n",
    "\n",
    "<center><img src='data/buttons.png' width=400>"
   ]
  },
  {
   "attachments": {},
   "cell_type": "markdown",
   "metadata": {
    "slideshow": {
     "slide_type": "slide"
    }
   },
   "source": [
    "### The winner\n",
    "\n",
    "<center><img src='data/winner.png' width=600>\n",
    "\n",
    "It is estimated that this combination of image and button brought in an **additional 60 million dollars** in donations versus the original version of the site."
   ]
  },
  {
   "cell_type": "markdown",
   "metadata": {
    "slideshow": {
     "slide_type": "slide"
    }
   },
   "source": [
    "## Example 1: Smoking and birth weight 👶"
   ]
  },
  {
   "cell_type": "markdown",
   "metadata": {
    "slideshow": {
     "slide_type": "slide"
    }
   },
   "source": [
    "### Smoking and birth weight\n",
    "\n",
    "- **Question:** Is there a significant difference in the weight of babies born to mothers who smoked vs. babies born to mothers who didn't smoke?\n",
    "- We'll load in data from an **observational study**.\n",
    "    - Each row corresponds to a baby.\n",
    "    - There are two groups of babies: those whose mothers smoked, and those whose mothers didn't smoke."
   ]
  },
  {
   "cell_type": "code",
   "execution_count": null,
   "metadata": {
    "scrolled": true,
    "slideshow": {
     "slide_type": "-"
    }
   },
   "outputs": [],
   "source": [
    "baby = bpd.read_csv('data/baby.csv')\n",
    "baby"
   ]
  },
  {
   "cell_type": "code",
   "execution_count": null,
   "metadata": {
    "slideshow": {
     "slide_type": "slide"
    }
   },
   "outputs": [],
   "source": [
    "# Selecting only the columns that are relevant\n",
    "smoking_and_birthweight = baby.get(['Maternal Smoker', 'Birth Weight'])\n",
    "smoking_and_birthweight"
   ]
  },
  {
   "cell_type": "markdown",
   "metadata": {
    "slideshow": {
     "slide_type": "slide"
    }
   },
   "source": [
    "### Visualizing the distribution of each group"
   ]
  },
  {
   "cell_type": "code",
   "execution_count": null,
   "metadata": {},
   "outputs": [],
   "source": [
    "smokers = smoking_and_birthweight[smoking_and_birthweight.get('Maternal Smoker')]\n",
    "non_smokers = smoking_and_birthweight[-smoking_and_birthweight.get('Maternal Smoker')]"
   ]
  },
  {
   "cell_type": "code",
   "execution_count": null,
   "metadata": {
    "scrolled": true,
    "slideshow": {
     "slide_type": "-"
    }
   },
   "outputs": [],
   "source": [
    "fig, ax = plt.subplots()\n",
    "baby_bins = np.arange(50, 200, 5)\n",
    "non_smokers.plot(kind='hist', density=True, ax=ax, alpha=0.75, bins=baby_bins, ec='w', figsize=(10, 5))\n",
    "smokers.plot(kind='hist', density=True, ax=ax, alpha=0.75, bins=baby_bins, ec='w')\n",
    "plt.legend(['Maternal Smoker = False', 'Maternal Smoker = True'])\n",
    "plt.xlabel('Birth Weight');"
   ]
  },
  {
   "cell_type": "markdown",
   "metadata": {
    "slideshow": {
     "slide_type": "slide"
    }
   },
   "source": [
    "### The question\n",
    "\n",
    "- It appears that babies born to smokers typically have lower birth weights than babies born to non-smokers.\n",
    "- Does the difference we see reflect a real difference in the population?\n",
    "- Or is it just due to random chance?"
   ]
  },
  {
   "cell_type": "markdown",
   "metadata": {
    "slideshow": {
     "slide_type": "slide"
    }
   },
   "source": [
    "### Testing hypotheses\n",
    "\n",
    "- **Null hypothesis**: In the population, birth weights of babies born to smokers and non-smokers have the same distribution.\n",
    "    - In other words, the difference we saw was to random chance.\n",
    "- **Alternative hypothesis**: In the population, babies born to smokers have lower birth weights than babies born to non-smokers, on average.\n",
    "    - In other words, what we saw cannot be explained by random chance alone, and there is instead a meaningful difference in these distributions."
   ]
  },
  {
   "cell_type": "markdown",
   "metadata": {
    "slideshow": {
     "slide_type": "slide"
    }
   },
   "source": [
    "### Discussion Question\n",
    "\n",
    "Recall, last time we introduced the Total Variation Distance (TVD) as a test statistic. Why **can't** we use the TVD as our test statistic here? Any ideas for a test statistic that we could use?\n",
    "\n",
    "Discuss with your peers."
   ]
  },
  {
   "cell_type": "markdown",
   "metadata": {
    "slideshow": {
     "slide_type": "slide"
    }
   },
   "source": [
    "### Test statistic: the difference between means\n",
    "\n",
    "The test statistic we'll use is\n",
    "\n",
    "$$\\text{mean birth weight of babies born to non-smokers} - \\text{mean birth weight of babies born to smokers}$$\n",
    "\n",
    "Note that **large values of this test statistic favor the alternative hypothesis**."
   ]
  },
  {
   "cell_type": "code",
   "execution_count": null,
   "metadata": {},
   "outputs": [],
   "source": [
    "means_table = smoking_and_birthweight.groupby('Maternal Smoker').mean()\n",
    "means_table"
   ]
  },
  {
   "cell_type": "code",
   "execution_count": null,
   "metadata": {},
   "outputs": [],
   "source": [
    "# The difference between the mean birth weight for non-smokers and smokers\n",
    "means = means_table.get('Birth Weight')\n",
    "observed_difference = means.loc[False] - means.loc[True]\n",
    "observed_difference"
   ]
  },
  {
   "cell_type": "markdown",
   "metadata": {
    "slideshow": {
     "slide_type": "slide"
    }
   },
   "source": [
    "### Hypothesis testing through simulation\n",
    "\n",
    "- **Null hypothesis**: The two groups are sampled from the same distribution.\n",
    "- **Test statistic**: The difference between the mean non-smoker weight and the mean smoker weight.\n",
    "- Note that the null hypothesis doesn't say *what* the distribution is.\n",
    "    - This is different from earlier examples (jury panels, fair coins, etc.) where we specified exactly what the distribution under the null is.\n",
    "    - We can't draw directly from the distribution!\n",
    "- We have to do something a bit more clever."
   ]
  },
  {
   "cell_type": "markdown",
   "metadata": {
    "slideshow": {
     "slide_type": "slide"
    }
   },
   "source": [
    "### Implications of the null hypothesis\n",
    "\n",
    "- Under the null hypothesis, both groups are sampled from the same population distribution.\n",
    "- If that's true, then whether `'Maternal Smoker'` is `True` or `False` should have no impact on the `'Birth Weight'` variable.\n",
    "- **Idea:** the distribution of birth weights for smokers and non-smokers should remain the same if we shuffle one of the two columns in our DataFrame."
   ]
  },
  {
   "cell_type": "code",
   "execution_count": null,
   "metadata": {},
   "outputs": [],
   "source": [
    "# What if we shuffle one of these columns?\n",
    "smoking_and_birthweight"
   ]
  },
  {
   "cell_type": "markdown",
   "metadata": {
    "slideshow": {
     "slide_type": "slide"
    }
   },
   "source": [
    "### Permutation tests\n",
    "\n",
    "- Perhaps the difference in means we saw is due to random chance in assignment.\n",
    "- **The key idea behind permutation tests**: Shuffle the group labels (i.e. `True`s and `False`s) many, many times, and compute the difference in the group means each time. \n",
    "    - **How often do we see a difference in means this extreme?**\n",
    "    - If we **rarely** see a difference in means as extreme as the one in our observed samples, then the null hypothesis doesn't look likely.\n",
    "- Randomly permuting labels is equivalent to randomly assigning birth weights to groups, without changing group sizes.\n"
   ]
  },
  {
   "cell_type": "markdown",
   "metadata": {
    "slideshow": {
     "slide_type": "slide"
    }
   },
   "source": [
    "### Permutation tests with DataFrames\n",
    "\n",
    "- We want to randomly shuffle one of the columns in our DataFrame.\n",
    "- `df.sample` returns a random sample of the rows in a DataFrame, but we want to shuffle one column independently.\n",
    "- **Solution:** Use `np.random.permutation`, which takes in an array and returns a shuffled version of it."
   ]
  },
  {
   "cell_type": "code",
   "execution_count": null,
   "metadata": {},
   "outputs": [],
   "source": [
    "data = bpd.DataFrame().assign(x=['a', 'b', 'c', 'd'], y=[1, 2, 3, 4])\n",
    "data"
   ]
  },
  {
   "cell_type": "code",
   "execution_count": null,
   "metadata": {},
   "outputs": [],
   "source": [
    "# Random!\n",
    "np.random.permutation(data.get('y'))"
   ]
  },
  {
   "cell_type": "code",
   "execution_count": null,
   "metadata": {},
   "outputs": [],
   "source": [
    "data.assign(shuffled_y=np.random.permutation(data.get('y')))"
   ]
  },
  {
   "cell_type": "markdown",
   "metadata": {
    "slideshow": {
     "slide_type": "slide"
    }
   },
   "source": [
    "### Shuffling one column\n",
    "\n",
    "- Note that it doesn't matter which of the two columns we shuffle; the end result will be a random pairing of labels (`True` and `False`) and weights.\n",
    "- We've chosen to shuffle `'Birth Weight'`, but we could be shuffling `'Maternal Smoker'`."
   ]
  },
  {
   "cell_type": "code",
   "execution_count": null,
   "metadata": {},
   "outputs": [],
   "source": [
    "original_and_shuffled = smoking_and_birthweight.assign(\n",
    "    ShuffledBirthWeight=np.random.permutation(smoking_and_birthweight.get('Birth Weight'))\n",
    ")\n",
    "original_and_shuffled"
   ]
  },
  {
   "cell_type": "code",
   "execution_count": null,
   "metadata": {},
   "outputs": [],
   "source": [
    "fig, ax = plt.subplots()\n",
    "smokers = original_and_shuffled[original_and_shuffled.get('Maternal Smoker')]\n",
    "non_smokers = original_and_shuffled[original_and_shuffled.get('Maternal Smoker') == False]\n",
    "non_smokers.plot(kind='hist', y='ShuffledBirthWeight', density=True, ax=ax, alpha=0.75, bins=baby_bins, ec='w', figsize=(10, 5))\n",
    "smokers.plot(kind='hist',y='ShuffledBirthWeight', density=True, ax=ax, alpha=0.75, bins=baby_bins)\n",
    "plt.legend(['Maternal Smoker = False', 'Maternal Smoker = True'])\n",
    "plt.xlabel('Birth Weight');"
   ]
  },
  {
   "cell_type": "markdown",
   "metadata": {
    "slideshow": {
     "slide_type": "slide"
    }
   },
   "source": [
    "### How close are the means of the shuffled groups?"
   ]
  },
  {
   "cell_type": "code",
   "execution_count": null,
   "metadata": {},
   "outputs": [],
   "source": [
    "original_and_shuffled.groupby('Maternal Smoker').mean()"
   ]
  },
  {
   "cell_type": "code",
   "execution_count": null,
   "metadata": {},
   "outputs": [],
   "source": [
    "group_means = original_and_shuffled.groupby('Maternal Smoker').mean().get('ShuffledBirthWeight')\n",
    "\n",
    "group_means.loc[False] - group_means.loc[True]"
   ]
  },
  {
   "cell_type": "markdown",
   "metadata": {
    "slideshow": {
     "slide_type": "-"
    }
   },
   "source": [
    "- This is the test statistic for one experiment (one \"shuffle\").\n",
    "- Let's write a function that can compute this test statistic for any shuffle."
   ]
  },
  {
   "cell_type": "code",
   "execution_count": null,
   "metadata": {},
   "outputs": [],
   "source": [
    "def difference_in_mean_weights(weights_df):\n",
    "    group_means = weights_df.groupby('Maternal Smoker').mean().get('ShuffledBirthWeight')\n",
    "    return group_means.loc[False] - group_means.loc[True]\n",
    "\n",
    "difference_in_mean_weights(original_and_shuffled)"
   ]
  },
  {
   "cell_type": "markdown",
   "metadata": {
    "slideshow": {
     "slide_type": "slide"
    }
   },
   "source": [
    "### Simulation\n",
    "\n",
    "- This was just one random shuffle.\n",
    "- How likely is it that a random shuffle results in a 9+ ounce difference in means?\n",
    "- We have to repeat the shuffling a bunch of times. On each iteration:\n",
    "    1. Shuffle the weights.\n",
    "    2. Put them in a DataFrame.\n",
    "    3. Compute the difference in group means."
   ]
  },
  {
   "cell_type": "code",
   "execution_count": null,
   "metadata": {
    "slideshow": {
     "slide_type": "slide"
    }
   },
   "outputs": [],
   "source": [
    "n_repetitions = 500 # The dataset is large, so it takes too long to run if we use 5000 or 10000\n",
    "\n",
    "differences = np.array([])\n",
    "for i in np.arange(n_repetitions):\n",
    "    # Step 1: Shuffle the weights\n",
    "    shuffled_weights = np.random.permutation(\n",
    "        smoking_and_birthweight.get('Birth Weight')\n",
    "    )\n",
    "    \n",
    "    # Step 2: Put them in a DataFrame\n",
    "    shuffled = smoking_and_birthweight.assign(\n",
    "        ShuffledBirthWeight=shuffled_weights\n",
    "    )\n",
    "    \n",
    "    # Step 3: Compute the difference in group means and add the result to the differences array\n",
    "    difference = difference_in_mean_weights(shuffled)\n",
    "    \n",
    "    differences = np.append(differences, difference)"
   ]
  },
  {
   "cell_type": "code",
   "execution_count": null,
   "metadata": {},
   "outputs": [],
   "source": [
    "bpd.DataFrame().assign(DifferenceInMeans=differences).plot(kind='hist', bins=20, density=True, ec='w', figsize=(10, 5));"
   ]
  },
  {
   "cell_type": "markdown",
   "metadata": {},
   "source": [
    "- Note that the empirical distribution of the test statistic (difference in means) is centered around 0.\n",
    "- This matches our intuition – if the null hypothesis is true, there should be no difference in the group means on average."
   ]
  },
  {
   "cell_type": "markdown",
   "metadata": {
    "slideshow": {
     "slide_type": "slide"
    }
   },
   "source": [
    "### Conclusion of the test\n",
    "\n",
    "Where does our observed statistic lie?"
   ]
  },
  {
   "cell_type": "code",
   "execution_count": null,
   "metadata": {},
   "outputs": [],
   "source": [
    "bpd.DataFrame().assign(SimulatedDifferenceInMeans=differences).plot(kind='hist', bins=20, density=True, ec='w', figsize=(10, 5))\n",
    "plt.axvline(observed_difference, color='red', label='observed difference in means')\n",
    "plt.legend();"
   ]
  },
  {
   "cell_type": "code",
   "execution_count": null,
   "metadata": {},
   "outputs": [],
   "source": [
    "smoker_p_value = np.count_nonzero(differences >= observed_difference) / 500\n",
    "smoker_p_value"
   ]
  },
  {
   "cell_type": "markdown",
   "metadata": {
    "slideshow": {
     "slide_type": "slide"
    }
   },
   "source": [
    "### Conclusion\n",
    "\n",
    "- Under the null hypothesis, we rarely see differences as large as this.\n",
    "- Therefore, we reject the null hypothesis: the two groups do not come from the same distribution."
   ]
  },
  {
   "cell_type": "markdown",
   "metadata": {
    "slideshow": {
     "slide_type": "slide"
    }
   },
   "source": [
    "### Caution! ⚠️\n",
    "\n",
    "- We **cannot** conclude that smoking *causes* lower birth weight!\n",
    "- This was an observational study; there may be confounding factors.\n",
    "    - Maybe smokers are more likely to drink caffeine, and caffeine causes lower birth weight.\n",
    "- But it suggests that it may be causal."
   ]
  },
  {
   "cell_type": "markdown",
   "metadata": {
    "slideshow": {
     "slide_type": "slide"
    }
   },
   "source": [
    "## Example 2: Deflategate 🏈"
   ]
  },
  {
   "cell_type": "markdown",
   "metadata": {
    "slideshow": {
     "slide_type": "slide"
    }
   },
   "source": [
    "### Did the New England Patriots cheat?\n",
    "\n",
    "<center><img width=\"40%\" src=\"./data/deflate.jpg\"></center>\n",
    "\n",
    "- On January 18, 2015, the New England Patriots played the Indianapolis Colts for a spot in the Super Bowl.\n",
    "- The Patriots won, 45-7. They went on to win the Super Bowl.\n",
    "- After the game, it was alleged that the Patriots intentionally deflated footballs, making them easier to catch."
   ]
  },
  {
   "cell_type": "markdown",
   "metadata": {
    "slideshow": {
     "slide_type": "slide"
    }
   },
   "source": [
    "### Background\n",
    "\n",
    "- Each team brings 12 footballs to the game. Teams use their own footballs while on offense.\n",
    "- NFL rules stipulate that **each ball must be inflated to between 12.5 and 13.5 pounds per square inch (psi)**.\n",
    "- Before the game, officials found that all of the Patriots' footballs were at about 12.5 psi, and that all of the Colts' footballs were at about 13.0 psi.\n",
    "    - This pre-game data was not written down.\n",
    "- In the second quarter, the Colts intercepted a Patriots ball and notified officials that it felt under-inflated.\n",
    "- At halftime, two officials (Clete Blakeman and Dyrol Prioleau) independently measured the pressures of as many of the 24 footballs as they could.\n",
    "    - They ran out of time before they could finish."
   ]
  },
  {
   "cell_type": "markdown",
   "metadata": {
    "slideshow": {
     "slide_type": "slide"
    }
   },
   "source": [
    "### The measurements"
   ]
  },
  {
   "cell_type": "code",
   "execution_count": null,
   "metadata": {},
   "outputs": [],
   "source": [
    "footballs = bpd.read_csv('data/deflategate.csv')\n",
    "footballs"
   ]
  },
  {
   "cell_type": "markdown",
   "metadata": {},
   "source": [
    "There are only 15 rows (11 for Patriots footballs, 4 for Colts footballs) since the officials weren't able to record the pressures of every ball."
   ]
  },
  {
   "cell_type": "markdown",
   "metadata": {
    "slideshow": {
     "slide_type": "slide"
    }
   },
   "source": [
    "### Combining the measurements\n",
    "\n",
    "- Both officials measured each ball.\n",
    "- Their measurements are slightly different, so we'll average them to get a combined pressure for each ball."
   ]
  },
  {
   "cell_type": "code",
   "execution_count": null,
   "metadata": {},
   "outputs": [],
   "source": [
    "footballs = footballs.assign(\n",
    "    Pressure=(footballs.get('Blakeman') + footballs.get('Prioleau')) / 2\n",
    ").drop(columns=['Blakeman', 'Prioleau'])\n",
    "footballs"
   ]
  },
  {
   "cell_type": "markdown",
   "metadata": {
    "slideshow": {
     "slide_type": "slide"
    }
   },
   "source": [
    "### Differences in average pressure\n",
    "\n",
    "- At first glance, it looks as though the Patriots' footballs are at a lower pressure.\n",
    "- We could do a permutation test for the difference in mean pressure, but that wouldn't point towards cheating.\n",
    "    - The Patriot's balls *started* at a lower psi (which is not an issue on its own).\n",
    "- The allegations were that the Patriots **deflated** their balls, during the game.\n",
    "    - We want to check to see if the Patriots' footballs lost more pressure than the Colts' footballs from the start of the game to halftime, when these measurements were taken."
   ]
  },
  {
   "cell_type": "code",
   "execution_count": null,
   "metadata": {
    "slideshow": {
     "slide_type": ""
    }
   },
   "outputs": [],
   "source": [
    "# Mean pressure for each team's footballs\n",
    "footballs.groupby('Team').mean()"
   ]
  },
  {
   "cell_type": "markdown",
   "metadata": {
    "slideshow": {
     "slide_type": "slide"
    }
   },
   "source": [
    "### Calculating the pressure drop\n",
    "\n",
    "- Let's calculate the drop in pressure for each ball in `footballs`.\n",
    "- The Patriots' footballs started at around 12.5 psi, while the Colts' footballs started at around 13 psi.\n",
    "- **Strategy**: we'll make an array with starting pressure for each ball, and from that subtract the halftime pressure of each ball.\n",
    "    - Note that the first 11 rows correspond to Patriots balls and the last 4 rows correspond to Colts balls.\n",
    "    - Thus, we need an array with 11 `12.5`s followed by 4 `13`s.\n",
    "    - We can use `np.ones` to help us."
   ]
  },
  {
   "cell_type": "code",
   "execution_count": null,
   "metadata": {},
   "outputs": [],
   "source": [
    "footballs"
   ]
  },
  {
   "cell_type": "code",
   "execution_count": null,
   "metadata": {},
   "outputs": [],
   "source": [
    "# np.ones(n) returns an array of n 1s\n",
    "np.ones(11)"
   ]
  },
  {
   "cell_type": "code",
   "execution_count": null,
   "metadata": {},
   "outputs": [],
   "source": [
    "starting_pressure = np.ones(11) * 12.5\n",
    "starting_pressure = np.append(starting_pressure, np.ones(4) * 13)\n",
    "starting_pressure"
   ]
  },
  {
   "cell_type": "markdown",
   "metadata": {
    "slideshow": {
     "slide_type": "slide"
    }
   },
   "source": [
    "### Calculating the pressure drop"
   ]
  },
  {
   "cell_type": "code",
   "execution_count": null,
   "metadata": {},
   "outputs": [],
   "source": [
    "footballs = footballs.assign(\n",
    "    PressureDrop=(starting_pressure - footballs.get('Pressure'))\n",
    ")\n",
    "footballs"
   ]
  },
  {
   "cell_type": "markdown",
   "metadata": {
    "slideshow": {
     "slide_type": "slide"
    }
   },
   "source": [
    "### The question\n",
    "\n",
    "- Did the Patriots' footballs drop in pressure more than the Colts'?\n",
    "    - We want to test whether two samples came from the same distribution – this calls for a permutation test.\n",
    "- **Null hypothesis**: The drop in pressures for both teams came from the same distribution.\n",
    "    - By chance, the Patriots' footballs deflated more.\n",
    "- **Alternative hypothesis**: No, the Patriots' footballs deflated more than one would expect due to random chance alone."
   ]
  },
  {
   "cell_type": "markdown",
   "metadata": {
    "slideshow": {
     "slide_type": "slide"
    }
   },
   "source": [
    "### The test statistic\n",
    "\n",
    "Similar to in the baby weights example, our test statistic will be the difference between the teams' average pressure drops."
   ]
  },
  {
   "cell_type": "code",
   "execution_count": null,
   "metadata": {},
   "outputs": [],
   "source": [
    "means = footballs.groupby('Team').mean().get('PressureDrop')\n",
    "means"
   ]
  },
  {
   "cell_type": "code",
   "execution_count": null,
   "metadata": {},
   "outputs": [],
   "source": [
    "# The observed statistic\n",
    "observed_difference = means.loc['Patriots'] - means.loc['Colts']\n",
    "observed_difference"
   ]
  },
  {
   "cell_type": "markdown",
   "metadata": {},
   "source": [
    "The average pressure drop for the Patriots was 0.73 psi more than the Colts."
   ]
  },
  {
   "cell_type": "markdown",
   "metadata": {
    "slideshow": {
     "slide_type": "slide"
    }
   },
   "source": [
    "### Permutation test\n",
    "\n",
    "- We run a permutation test to see if this is a significant difference.\n",
    "- Permute the drop in pressure many, many times, and compute the difference in the mean pressure drops for the two teams.\n",
    "    - Instead, we could permute the team names."
   ]
  },
  {
   "cell_type": "code",
   "execution_count": null,
   "metadata": {},
   "outputs": [],
   "source": [
    "def difference_in_mean_pressure_drops(pressures_df):\n",
    "    team_means = pressures_df.groupby('Team').mean().get('ShuffledPressureDrop')\n",
    "    return team_means.loc['Patriots'] - team_means.loc['Colts']"
   ]
  },
  {
   "cell_type": "code",
   "execution_count": null,
   "metadata": {},
   "outputs": [],
   "source": [
    "n_repetitions = 5000 # The dataset is much smaller than in the baby weights example, so a larger number of repetitions will still run quickly\n",
    "\n",
    "differences = np.array([])\n",
    "for i in np.arange(n_repetitions):\n",
    "    # Step 1: Shuffle the pressure drops\n",
    "    shuffled_drops = np.random.permutation(footballs.get('PressureDrop'))\n",
    "    \n",
    "    # Step 2: Put them in a DataFrame\n",
    "    shuffled = footballs.assign(\n",
    "        ShuffledPressureDrop=shuffled_drops\n",
    "    )\n",
    "    \n",
    "    # Step 3: Compute the difference in group means and add the result to the differences array\n",
    "    difference = difference_in_mean_pressure_drops(shuffled)\n",
    "\n",
    "    differences = np.append(differences, difference)"
   ]
  },
  {
   "cell_type": "markdown",
   "metadata": {
    "slideshow": {
     "slide_type": "slide"
    }
   },
   "source": [
    "### Conclusion"
   ]
  },
  {
   "cell_type": "code",
   "execution_count": null,
   "metadata": {},
   "outputs": [],
   "source": [
    "bpd.DataFrame().assign(SimulatedDifferenceInMeans=differences).plot(kind='hist', bins=20, density=True, ec='w', figsize=(10, 5))\n",
    "plt.axvline(observed_difference, color='red', label='observed difference in means')\n",
    "plt.legend();"
   ]
  },
  {
   "cell_type": "markdown",
   "metadata": {},
   "source": [
    "- It doesn't look good for the Patriots. What is the p-value?\n",
    "    - Recall, the p-value is the **probability of seeing a result as or more extreme than the observation under the null hypothesis**.\n",
    "    - In this case, that's the probability of the difference in mean pressure drops being greater than or equal to 0.7335."
   ]
  },
  {
   "cell_type": "code",
   "execution_count": null,
   "metadata": {},
   "outputs": [],
   "source": [
    "observed_difference"
   ]
  },
  {
   "cell_type": "code",
   "execution_count": null,
   "metadata": {},
   "outputs": [],
   "source": [
    "# Calculating the p-value\n",
    "np.count_nonzero(differences >= observed_difference) / n_repetitions"
   ]
  },
  {
   "cell_type": "markdown",
   "metadata": {},
   "source": [
    "This p-value is low enough to consider this result to be highly statistically significant ($p<0.01$)."
   ]
  },
  {
   "cell_type": "markdown",
   "metadata": {
    "slideshow": {
     "slide_type": "slide"
    }
   },
   "source": [
    "### Caution! ⚠️\n",
    "\n",
    "- We conclude that it is unlikely that the difference in mean pressure drop is due to chance alone.\n",
    "- But this doesn't establish *causation*.\n",
    "- That is, we can't conclude that the Patriots **intentionally** deflated their footballs.\n",
    "- This was an *observational* study; to establish causation, we'd need an RCT (Randomized Controlled Trial)."
   ]
  },
  {
   "cell_type": "markdown",
   "metadata": {
    "slideshow": {
     "slide_type": "slide"
    }
   },
   "source": [
    "### Aftermath\n",
    "\n",
    "- Quote from an investigative report commissioned by the NFL:\n",
    "\n",
    "> “[T]he average pressure drop of the Patriots game balls exceeded the average pressure drop of the Colts balls by 0.45 to 1.02 psi, depending on various possible assumptions regarding the gauges used, and assuming an initial pressure of 12.5 psi for the Patriots balls and 13.0 for the Colts balls.”\n",
    "\n",
    "- Many different methods were used to determine whether the drop in pressures were due to chance, including physics. \n",
    "    - We computed an observed difference of 0.7335, which is in line with the findings of the report. \n",
    "- In the end, Tom Brady (quarterback for the Patriots at the time) was suspended 4 games and the team was fined $1 million dollars.\n",
    "- The [Deflategate Wikipedia article](https://en.wikipedia.org/wiki/Deflategate) is extremely thorough, give it a read if you're curious!"
   ]
  },
  {
   "cell_type": "markdown",
   "metadata": {
    "slideshow": {
     "slide_type": "slide"
    }
   },
   "source": [
    "## Summary"
   ]
  },
  {
   "cell_type": "markdown",
   "metadata": {
    "slideshow": {
     "slide_type": "slide"
    }
   },
   "source": [
    "### Summary\n",
    "\n",
    "- The total variation distance is a test statistic that measures the difference between two categorical distributions.\n",
    "    - Note: the TVD is **not** used for permutation tests!\n",
    "- Permutation tests help us determine if two numerical samples came from the sample population.\n",
    "- We can answers questions like:\n",
    "    - \"Do smoking moms and nonsmoking moms have babies that weigh the same?\"\n",
    "    - \"Did the Colts' footballs and Patriots' footballs have the same amount of pressure drop?\"\n",
    "    - More generally: are *these things* like *those things*?"
   ]
  },
  {
   "cell_type": "markdown",
   "metadata": {
    "slideshow": {
     "slide_type": "slide"
    }
   },
   "source": [
    "### A/B testing\n",
    "\n",
    "- Permutation tests are one way to perform **A/B tests**.\n",
    "    - These are both also hypothesis tests.\n",
    "- An A/B test aims to determine if two samples are from the same population (the name comes from giving names to the samples – sample A and sample B).\n",
    "- We implemented A/B tests by using permutations. Butside of this class, permutation tests can be used for other purposes, and A/B tests can be done without permutations. \n",
    "- **For us, they mean the same thing, so if you see A/B test anywhere in the class, that is referring to a permutation test.**"
   ]
  },
  {
   "cell_type": "markdown",
   "metadata": {
    "slideshow": {
     "slide_type": "slide"
    }
   },
   "source": [
    "### Next time\n",
    "\n",
    "- On Wednesday, we'll see how we can use permutation tests to try and establish causality.\n",
    "- We'll also introduce bootstrapping, a procedure that will allow us to quantify the variation in parameter estimates by using just a single sample."
   ]
  }
 ],
 "metadata": {
  "celltoolbar": "Slideshow",
  "kernelspec": {
   "display_name": "Python 3 (ipykernel)",
   "language": "python",
   "name": "python3"
  },
  "language_info": {
   "codemirror_mode": {
    "name": "ipython",
    "version": 3
   },
   "file_extension": ".py",
   "mimetype": "text/x-python",
   "name": "python",
   "nbconvert_exporter": "python",
   "pygments_lexer": "ipython3",
   "version": "3.9.7"
  },
  "livereveal": {
   "scroll": true,
   "transition": "none"
  }
 },
 "nbformat": 4,
 "nbformat_minor": 2
}
