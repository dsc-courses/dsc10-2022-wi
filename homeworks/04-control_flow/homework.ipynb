{
 "cells": [
  {
   "cell_type": "markdown",
   "metadata": {},
   "source": [
    "# Homework 4: DataFrames, Control Flow, and Probability\n",
    "\n",
    "## Due Saturday, February 5th at 11:59pm PST\n",
    "\n",
    "Welcome to Homework 4! This homework will cover lots of different topics:\n",
    "- Grouping with subgroups (see [Note 11.4](https://notes.dsc10.com/02-data_sets/groupby.html#subgroups))\n",
    "- Merging DataFrames (see [Note 13](https://notes.dsc10.com/02-data_sets/merging.html))\n",
    "- Conditional statements (see [CIT 9.1](https://inferentialthinking.com/chapters/09/1/Conditional_Statements.html))\n",
    "- Iteration (see [CIT 9.2](https://inferentialthinking.com/chapters/09/2/Iteration.html))\n",
    "- Probability (see [Note 18](https://notes.dsc10.com/04-probability_and_simulation/probability_and_simulation.html))"
   ]
  },
  {
   "cell_type": "markdown",
   "metadata": {},
   "source": [
    "### Instructions\n",
    "\n",
    "This assignment is due on Saturday, February 5th at 11:59pm. You are given six slip days throughout the quarter to extend deadlines. See the syllabus for more details. With the exception of using slip days, late work will not be accepted unless you have made special arrangements with your instructor.\n",
    "\n",
    "**Important**: For homeworks, the `otter` tests don't usually tell you that your answer is correct. More often, they help catch careless mistakes. It's up to you to ensure that your answer is correct. If you're not sure, ask someone (not for the answer, but for some guidance about your approach). These are great questions for office hours (see the schedule on the [Calendar](https://dsc10.com/calendar)) or Campuswire. Directly sharing answers is not okay, but discussing problems with the course staff or with other students is encouraged."
   ]
  },
  {
   "cell_type": "code",
   "execution_count": null,
   "metadata": {},
   "outputs": [],
   "source": [
    "# Please don't change this cell, but do make sure to run it.\n",
    "import babypandas as bpd\n",
    "import matplotlib.pyplot as plt\n",
    "plt.style.use('fivethirtyeight')\n",
    "import numpy as np\n",
    "import otter\n",
    "grader = otter.Notebook()\n",
    "\n",
    "# We need to import some extra packages for some fun demonstrations.\n",
    "import json\n",
    "from ipywidgets import interact, widgets\n",
    "from IPython.display import YouTubeVideo, HTML, display, clear_output, Image\n",
    "\n",
    "# Don't worry about this.\n",
    "def read_json(path):\n",
    "    f = open(path, 'r')\n",
    "    return json.load(f)"
   ]
  },
  {
   "cell_type": "markdown",
   "metadata": {},
   "source": [
    "### Supplemental Video on DataHub and Jupyter Notebooks\n",
    "\n",
    "In Lab 1 we linked you to a video that walks you through key ideas you should be aware of when working on DataHub and in Jupyter Notebooks, including\n",
    "- how files are organized on DataHub\n",
    "- what it means to \"restart the kernel\"\n",
    "- how to use keyboard shortcuts (most important: use `SHIFT + ENTER` to run a cell!)\n",
    "\n",
    "We're linking it here again for your convenience. If you feel a little shaky on how to work your way around a notebook or troubleshoot issues, we recommend you give it another watch. (When troubleshooting, make sure to always check the [Debugging](https://dsc10.com/debugging/) tab on the course website as well.)\n",
    "\n",
    "The video is quite long, but if you open the video directly on YouTube (which you can do by clicking the video's title after it loads in the next cell) you'll see timestamps in the description which you can use to jump to different parts of the video depending on what you'd like to learn more about."
   ]
  },
  {
   "cell_type": "code",
   "execution_count": null,
   "metadata": {},
   "outputs": [],
   "source": [
    "# Run this cell.\n",
    "YouTubeVideo('Hq8VaNirDRQ')"
   ]
  },
  {
   "cell_type": "markdown",
   "metadata": {},
   "source": [
    "## 0. DSC Student Rep Survey 🙏🏼\n",
    "\n",
    "The Data Science Student Representatives created a survey for you to voice your opinion about what you love in DSC 10, and how we can improve your class and the department!\n",
    "\n",
    "Feel free to talk about the topics covered in this course, the lectures and staff, resources, course structure, or anything else you feel is relevant and constructive.\n",
    "\n",
    "Please\n",
    "**[click here](https://docs.google.com/forms/d/1GjiCSA7NnbpTRiKOzd3oAh2K2ff4SZm1Mv2BqAM2lVo/edit)** to complete the survey. If you aren't able to access it, make sure you're logged into your UCSD Google account."
   ]
  },
  {
   "cell_type": "markdown",
   "metadata": {},
   "source": [
    "Set the variable below to True after you've completed the survey. Thanks for your feedback!"
   ]
  },
  {
   "cell_type": "code",
   "execution_count": null,
   "metadata": {},
   "outputs": [],
   "source": [
    "completed_survey = ..."
   ]
  },
  {
   "cell_type": "code",
   "execution_count": null,
   "metadata": {
    "deletable": false,
    "editable": false
   },
   "outputs": [],
   "source": [
    "grader.check(\"q0\")"
   ]
  },
  {
   "cell_type": "markdown",
   "metadata": {},
   "source": [
    "## 1. DSC 40A Homeworks 📝"
   ]
  },
  {
   "cell_type": "markdown",
   "metadata": {},
   "source": [
    "In this problem, we'll look at a dataset consisting of the point breakdowns of all homework assignments in the Fall 2021 offering of DSC 40A, another DSC course which Suraj taught last quarter. The homework assignments in DSC 40A consist of long-answer open-ended questions that are often broken into several parts. Each part is worth a different amount of points, depending on the difficulty.\n",
    "\n",
    "Run the cell below to load this dataset as a DataFrame and store it in the `hw` variable, and answer the questions that follow."
   ]
  },
  {
   "cell_type": "code",
   "execution_count": null,
   "metadata": {},
   "outputs": [],
   "source": [
    "hw = bpd.read_csv('data/dsc40a-fa21-hw.csv')\n",
    "hw"
   ]
  },
  {
   "cell_type": "markdown",
   "metadata": {},
   "source": [
    "**Question 1.1.** How many homework questions were assigned in DSC 40A throughout the quarter? Store the result in the variable `num_questions`.\n",
    "\n",
    "**_Note:_** We are asking for the number of homework questions, not the number of parts."
   ]
  },
  {
   "cell_type": "code",
   "execution_count": null,
   "metadata": {},
   "outputs": [],
   "source": [
    "num_questions = ...\n",
    "num_questions"
   ]
  },
  {
   "cell_type": "code",
   "execution_count": null,
   "metadata": {
    "deletable": false,
    "editable": false
   },
   "outputs": [],
   "source": [
    "grader.check(\"q1_1\")"
   ]
  },
  {
   "cell_type": "markdown",
   "metadata": {},
   "source": [
    "**Question 1.2.** How many parts were there in each homework question? Create a DataFrame named `num_parts` with one row for each homework question and columns `'Homework'`, `'Question'`, and `'Num_Parts'`, which describes the total number of parts that homework question had. The first few rows of `num_parts` are shown below.\n",
    "\n",
    "<table border=\"1\" class=\"dataframe\">\n",
    "  <thead>\n",
    "    <tr style=\"text-align: right;\">\n",
    "      <th></th>\n",
    "      <th>Homework</th>\n",
    "      <th>Question</th>\n",
    "      <th>Num_Parts</th>\n",
    "    </tr>\n",
    "  </thead>\n",
    "  <tbody>\n",
    "    <tr>\n",
    "      <th>0</th>\n",
    "      <td>1</td>\n",
    "      <td>1</td>\n",
    "      <td>4</td>\n",
    "    </tr>\n",
    "    <tr>\n",
    "      <th>1</th>\n",
    "      <td>1</td>\n",
    "      <td>2</td>\n",
    "      <td>12</td>\n",
    "    </tr>\n",
    "    <tr>\n",
    "      <th>2</th>\n",
    "      <td>1</td>\n",
    "      <td>3</td>\n",
    "      <td>3</td>\n",
    "    </tr>\n",
    "    <tr>\n",
    "      <th>3</th>\n",
    "      <td>1</td>\n",
    "      <td>4</td>\n",
    "      <td>2</td>\n",
    "    </tr>\n",
    "    <tr>\n",
    "      <th>4</th>\n",
    "      <td>1</td>\n",
    "      <td>5</td>\n",
    "      <td>5</td>\n",
    "    </tr>\n",
    "  </tbody>\n",
    "</table>\n",
    "\n",
    "**_Hint:_** Use `.reset_index()`."
   ]
  },
  {
   "cell_type": "code",
   "execution_count": null,
   "metadata": {},
   "outputs": [],
   "source": [
    "num_parts = ...\n",
    "num_parts"
   ]
  },
  {
   "cell_type": "code",
   "execution_count": null,
   "metadata": {
    "deletable": false,
    "editable": false
   },
   "outputs": [],
   "source": [
    "grader.check(\"q1_2\")"
   ]
  },
  {
   "cell_type": "markdown",
   "metadata": {},
   "source": [
    "**Question 1.3.** How many points were there for each homework question? Create a DataFrame named `num_points` that has one row for each homework question and columns `'Homework'`, `'Question'`, and `'Num_Points'`, which is the total number of points that homework question had. The first few rows of `num_points` are shown below.\n",
    "\n",
    "<table border=\"1\" class=\"dataframe\">\n",
    "  <thead>\n",
    "    <tr style=\"text-align: right;\">\n",
    "      <th></th>\n",
    "      <th>Homework</th>\n",
    "      <th>Question</th>\n",
    "      <th>Num_Points</th>\n",
    "    </tr>\n",
    "  </thead>\n",
    "  <tbody>\n",
    "    <tr>\n",
    "      <th>0</th>\n",
    "      <td>1</td>\n",
    "      <td>1</td>\n",
    "      <td>10</td>\n",
    "    </tr>\n",
    "    <tr>\n",
    "      <th>1</th>\n",
    "      <td>1</td>\n",
    "      <td>2</td>\n",
    "      <td>17</td>\n",
    "    </tr>\n",
    "    <tr>\n",
    "      <th>2</th>\n",
    "      <td>1</td>\n",
    "      <td>3</td>\n",
    "      <td>8</td>\n",
    "    </tr>\n",
    "    <tr>\n",
    "      <th>3</th>\n",
    "      <td>1</td>\n",
    "      <td>4</td>\n",
    "      <td>6</td>\n",
    "    </tr>\n",
    "    <tr>\n",
    "      <th>4</th>\n",
    "      <td>1</td>\n",
    "      <td>5</td>\n",
    "      <td>15</td>\n",
    "    </tr>\n",
    "  </tbody>\n",
    "</table>\n",
    "\n",
    "**_Hint:_** Use `.reset_index()`."
   ]
  },
  {
   "cell_type": "code",
   "execution_count": null,
   "metadata": {},
   "outputs": [],
   "source": [
    "num_points = ...\n",
    "num_points"
   ]
  },
  {
   "cell_type": "code",
   "execution_count": null,
   "metadata": {
    "deletable": false,
    "editable": false
   },
   "outputs": [],
   "source": [
    "grader.check(\"q1_3\")"
   ]
  },
  {
   "cell_type": "markdown",
   "metadata": {},
   "source": [
    "**Question 1.4.** In the cell below, create a visualization that shows the total number of points each homework assignment is worth."
   ]
  },
  {
   "cell_type": "markdown",
   "metadata": {
    "deletable": false,
    "editable": false
   },
   "source": [
    "<!-- BEGIN QUESTION -->\n",
    "\n",
    "<!--\n",
    "BEGIN QUESTION\n",
    "name: q1_4\n",
    "manual: true\n",
    "-->"
   ]
  },
  {
   "cell_type": "code",
   "execution_count": null,
   "metadata": {},
   "outputs": [],
   "source": [
    "# Make your visualization here."
   ]
  },
  {
   "cell_type": "markdown",
   "metadata": {},
   "source": [
    "<!-- END QUESTION -->\n",
    "\n",
    "\n",
    "\n",
    "## 2. Death and Taxes 💰\n",
    "\n",
    "The United States, like many countries, uses a progressive tax bracket system. This means that as your earnings increase, the percentage of your earnings you owe in tax also increases. In addition, the US tax system uses marginal tax brackets – what this means is that US taxpayers pay different tax percentages on different \"chunks\" of their earnings.\n",
    "\n",
    "Let's suppose the tax brackets for the 2022 tax year for single filers are defined by the table below. These are pretty close to the actual brackets, but for simplicity's sake we'll use 5 brackets instead of 7. \n",
    "\n",
    "| Tax Bracket | Taxable Income |\n",
    "| --- | --- |\n",
    "| 10% | [$0, \\\\$10,275] |\n",
    "| 12% | (\\\\$10,275, \\\\$41,775] |\n",
    "| 22% | (\\\\$41,775, \\\\$89,075] |\n",
    "| 24% | (\\\\$89,075, \\\\$170,050] |\n",
    "| 32% | Over \\\\$170,050 |\n",
    "\n",
    "**You will need to use these numbers throughout this question.**\n",
    "\n",
    "A few notes:\n",
    "- The notation $(a, b]$ means \"greater than $a$ and less than or equal to $b$\". For example, someone with a taxable income of \\\\$10,275 is in the 10% bracket, but someone with a taxable income of \\\\$10,275.01 is in the 12% bracket.\n",
    "- \"Taxable income\" refers to the part of one's income that is taxable; in the US there is what's known as a \"standard deduction\" which can be thought of as a discount on your taxes. In this assignment, we won't worry about deductions.\n",
    "\n",
    "If someone has a taxable income of \\\\$75,000, we say they are in the 22% tax bracket. However, such an individual doesn't owe 22% of \\\\$75,000 in taxes. Instead, they owe:\n",
    "- 10% of \\\\$10,275, **plus**\n",
    "- 12% of \\\\$31,500 (which is \\\\$41,775 - \\\\$10,275), **plus**\n",
    "- 22% of \\\\$33,225 (which is \\\\$75,000 - \\\\$41,775)\n",
    "\n",
    "for a total of \\\\$12,117. This can be expresssed as \n",
    "$$0.1 \\cdot \\$10{,}275 + 0.12 \\cdot \\$31{,}500 + 0.22 \\cdot \\$33{,}225 = \\$12{,}117$$ This makes their **effective tax rate** $\\dfrac{12117}{75000} = 0.16156$, or 16.156%.\n",
    "\n",
    "If you want to read more about the US federal income tax system, click [here](https://www.taxpolicycenter.org/briefing-book/how-do-federal-income-tax-rates-work)."
   ]
  },
  {
   "cell_type": "markdown",
   "metadata": {},
   "source": [
    "**Question 2.1.** Complete the implementation of the function `tax_bracket`, which takes in a taxable income (`income`) and returns the tax bracket it is in, as a **proportion**. For instance, `tax_bracket(75000)` should evaluate to `0.22` and `tax_bracket(402150)` should evaluate to `0.32`.\n",
    "\n",
    "_**Hint**_: Use `elif`."
   ]
  },
  {
   "cell_type": "code",
   "execution_count": null,
   "metadata": {},
   "outputs": [],
   "source": [
    "def tax_bracket(income):\n",
    "    ..."
   ]
  },
  {
   "cell_type": "code",
   "execution_count": null,
   "metadata": {
    "deletable": false,
    "editable": false
   },
   "outputs": [],
   "source": [
    "grader.check(\"q2_1\")"
   ]
  },
  {
   "cell_type": "markdown",
   "metadata": {},
   "source": [
    "**Question 2.2.** Complete the implementation of the function `tax_owed`, which takes in a taxable income (`income`) and returns the amount of tax owed by an individual with that taxable income. For instance, `tax_owed(75000)` should evaluate to `12117.0` as in the example at the start of Question 2.\n",
    "\n",
    "**_Note:_** The code you write for this question might get a little long – but that's okay! Take it one step at a time.\n",
    "\n",
    "For your convenience, here's the tax bracket table again:\n",
    "\n",
    "| Tax Bracket | Taxable Income |\n",
    "| --- | --- |\n",
    "| 10% | [$0, \\\\$10,275] |\n",
    "| 12% | (\\\\$10,275, \\\\$41,775] |\n",
    "| 22% | (\\\\$41,775, \\\\$89,075] |\n",
    "| 24% | (\\\\$89,075, \\\\$170,050] |\n",
    "| 32% | Over \\\\$170,050 |\n",
    "\n",
    "**_Hint:_** Make sure you understand the example at the very start of the question. If you're stuck on how to proceed, think about how you would calculate the tax owed for a different taxable income, e.g. \\\\$152,000, by hand."
   ]
  },
  {
   "cell_type": "code",
   "execution_count": null,
   "metadata": {},
   "outputs": [],
   "source": [
    "def tax_owed(income):\n",
    "    ..."
   ]
  },
  {
   "cell_type": "code",
   "execution_count": null,
   "metadata": {
    "deletable": false,
    "editable": false
   },
   "outputs": [],
   "source": [
    "grader.check(\"q2_2\")"
   ]
  },
  {
   "cell_type": "markdown",
   "metadata": {},
   "source": [
    "**Question 2.3.** Finally, complete the implementation of `effective_tax_rate`, which takes in a taxable income (`income`) and returns the effective tax rate for an individual with that taxable income, as a **percentage**. For instance, `effective_tax_rate(75000)` should evaluate to `16.156`.\n",
    "\n",
    "If `income` is less than or equal to 0, `effective_tax_rate` should evaluate to `0`.\n",
    "\n",
    "**_Hint:_** You should use your `tax_owed` function. Our entire solution is only four lines, and two of them are for handling the case when `income <= 0`."
   ]
  },
  {
   "cell_type": "code",
   "execution_count": null,
   "metadata": {},
   "outputs": [],
   "source": [
    "def effective_tax_rate(income):\n",
    "    ..."
   ]
  },
  {
   "cell_type": "code",
   "execution_count": null,
   "metadata": {
    "deletable": false,
    "editable": false
   },
   "outputs": [],
   "source": [
    "grader.check(\"q2_3\")"
   ]
  },
  {
   "cell_type": "markdown",
   "metadata": {},
   "source": [
    "### Fun Demo\n",
    "\n",
    "You just did all of the math necessary to build an income tax calculator, like the ones you see on many financial websites. Run the following cell once you've completed the rest of this question!"
   ]
  },
  {
   "cell_type": "code",
   "execution_count": null,
   "metadata": {},
   "outputs": [],
   "source": [
    "# Don't worry about the code, just play with the slider that appears after running.\n",
    "def plot_income_calculator(income):\n",
    "    s = f'''\n",
    "    <h1>DSC 10 Tax Calculator 💰💸</h1>\n",
    "    <h3>{'${:,.2f}'.format(income)}</h3>\n",
    "    Taxable Income\n",
    "    \n",
    "    <h2>{'${:,.2f}'.format(tax_owed(income))}</h2>\n",
    "    Tax Owed\n",
    "    \n",
    "    <h3>{'{:,.1f}'.format((effective_tax_rate(income))) + '%'}</h3>\n",
    "    Effective Tax Rate\n",
    "    \n",
    "    '''\n",
    "    display(HTML(s))\n",
    "    \n",
    "interact(plot_income_calculator, income=(0, 200000, 1000));"
   ]
  },
  {
   "cell_type": "markdown",
   "metadata": {},
   "source": [
    "## 3. Txting Abbrevs 📲\n",
    "\n",
    "A new language of acronyms and texting abbreviations has evolved and become embedded in texting and internet culture. For this question, we'll be exploring some data on texting abbreviations from the article [110 Texting Acronyms, Abbreviations and Slang to Know](https://www.zipwhip.com/blog/list-of-texting-acronyms-texting-lingo-and-texting-shortcuts/)."
   ]
  },
  {
   "cell_type": "code",
   "execution_count": null,
   "metadata": {},
   "outputs": [],
   "source": [
    "texting_raw = bpd.read_csv('data/texting.csv')\n",
    "texting_raw"
   ]
  },
  {
   "cell_type": "markdown",
   "metadata": {},
   "source": [
    "**But** this *raw* data is not quite ready for analysis. To prepare the data for analysis (or \"clean\" it), let's separate each abbreviation from its meaning."
   ]
  },
  {
   "cell_type": "markdown",
   "metadata": {},
   "source": [
    "**Question 3.1.** Write a function named `get_abbr` that takes in a string `combined` in the form of `\"abbreviation - meaning\"` and returns the abbreviation. Next, write another function named `get_meaning` that also takes in a string of the same form and returns the meaning.\n",
    "\n",
    "For example, `get_abbr(\"AFAIK - As far as I know\")` should return `\"AFAIK\"`, and `get_meaning(\"AFAIK - As far as I know\")` should return `\"As far as I know\"`."
   ]
  },
  {
   "cell_type": "code",
   "execution_count": null,
   "metadata": {},
   "outputs": [],
   "source": [
    "def get_abbr(combined):\n",
    "    ...\n",
    "\n",
    "def get_meaning(combined):\n",
    "    ...\n",
    "    \n",
    "# Test your functions on an example input.\n",
    "# Feel free to play around until you're confident that your functions work correctly.\n",
    "print(get_abbr(\"AFAIK - As far as I know\"))\n",
    "print(get_meaning(\"AFAIK - As far as I know\"))"
   ]
  },
  {
   "cell_type": "code",
   "execution_count": null,
   "metadata": {
    "deletable": false,
    "editable": false
   },
   "outputs": [],
   "source": [
    "grader.check(\"q3_1\")"
   ]
  },
  {
   "cell_type": "markdown",
   "metadata": {},
   "source": [
    "**Question 3.2.** Now, let's use the functions we wrote to separate the abbreviation from the meaning. Create a new DataFrame named `texting` with one row for each abbreviation in `texting_raw` and with two columns, `'Abbreviation'` and `'Meaning'`."
   ]
  },
  {
   "cell_type": "code",
   "execution_count": null,
   "metadata": {},
   "outputs": [],
   "source": [
    "texting = ...\n",
    "texting"
   ]
  },
  {
   "cell_type": "code",
   "execution_count": null,
   "metadata": {
    "deletable": false,
    "editable": false
   },
   "outputs": [],
   "source": [
    "grader.check(\"q3_2\")"
   ]
  },
  {
   "cell_type": "markdown",
   "metadata": {},
   "source": [
    "One of our DSC 10 tutors collected some data on their own most-used abbreviations in their recent texts. The DataFrame `tutor` contains their top ten most-used abbreviations and the number of times they used each one in the past month."
   ]
  },
  {
   "cell_type": "code",
   "execution_count": null,
   "metadata": {},
   "outputs": [],
   "source": [
    "tutor = bpd.read_csv('data/tutors_data.csv').set_index('Abbreviation')\n",
    "tutor"
   ]
  },
  {
   "cell_type": "markdown",
   "metadata": {},
   "source": [
    "Now we want to figure out what these abbreviations mean by looking up their meanings in the `texting` DataFrame.\n",
    "\n",
    "**Question 3.3.** Combine the `texting` and `tutor` DataFrames into a single DataFrame named `tutor_with_meaning` using the `merge` method. The new `tutor_with_meaning` DataFrame should have these 3 columns, in this order: `'Abbreviation'`, `'Meaning'`, and `'Count'`. Organize the rows from most-frequently used abbreviation to least, as in the `tutor` DataFrame."
   ]
  },
  {
   "cell_type": "code",
   "execution_count": null,
   "metadata": {
    "scrolled": true
   },
   "outputs": [],
   "source": [
    "tutor_with_meaning = ...\n",
    "tutor_with_meaning"
   ]
  },
  {
   "cell_type": "code",
   "execution_count": null,
   "metadata": {
    "deletable": false,
    "editable": false
   },
   "outputs": [],
   "source": [
    "grader.check(\"q3_3\")"
   ]
  },
  {
   "cell_type": "markdown",
   "metadata": {},
   "source": [
    "## 4. Emojify 😎\n",
    "\n",
    "Let's continue with our theme of texting. Instead of (or in addition to) using abbreviations when texting, you might like using emojis. The default keyboard on iOS suggests emojis for you to use in place of boring, ordinary words.\n",
    "\n",
    "<img src = \"https://support.apple.com/library/content/dam/edam/applecare/images/en_US/iOS/ios12-iphone-x-messages-replace-words-with-emoji.jpg\" width=200>\n",
    "\n",
    "In this question, you will replicate some of that behavior using dictionaries!\n",
    "\n",
    "In Python, emojis can be included as part of a string. For example:"
   ]
  },
  {
   "cell_type": "code",
   "execution_count": null,
   "metadata": {},
   "outputs": [],
   "source": [
    "'🤣'"
   ]
  },
  {
   "cell_type": "markdown",
   "metadata": {},
   "source": [
    "If you remove the quotes from the emoji above, you will see `SyntaxError: invalid character in identifier`. Make sure that throughout this question, your emojis are contained within strings! (Fun fact, they cannot currently be used as variable names. Try it and see what error you get!)\n",
    "\n",
    "The website [getemoji.com](https://getemoji.com) allows you to copy and paste emojis. To select an emoji, double click it to highlight it. Try copying and pasting an emoji of your choice from that site into the code cell below. Don't forget to enclose it in quotes!\n"
   ]
  },
  {
   "cell_type": "code",
   "execution_count": null,
   "metadata": {},
   "outputs": [],
   "source": [
    "# Copy and paste any emoji into this code cell.\n"
   ]
  },
  {
   "cell_type": "markdown",
   "metadata": {},
   "source": [
    "In this problem, you will create a [dictionary](https://www.tutorialspoint.com/python/python_dictionary.htm) of emojis. Dictionaries provide a convenient way to store data in key:value pairs. You worked with a dictionary in Homework 3, Question 3 (Olympics).\n",
    "\n",
    "Here's an example dictionary you saw in Homework 3."
   ]
  },
  {
   "cell_type": "code",
   "execution_count": null,
   "metadata": {},
   "outputs": [],
   "source": [
    "dsc_courses = {\n",
    "    'DSC 10': 'Principles of Data Science',\n",
    "    'DSC 20': 'Programming and Basic Data Structures for Data Science',\n",
    "    'DSC 30': 'Data Structures and Algorithms for Data Science',\n",
    "    'DSC 40A': 'Theoretical Foundations of Data Science I',\n",
    "    'DSC 40B': 'Theoretical Foundations of Data Science II',\n",
    "    'DSC 80': 'The Practice and Application of Data Science'\n",
    "}"
   ]
  },
  {
   "cell_type": "markdown",
   "metadata": {},
   "source": [
    "We can access the value corresponding to each key using bracket notation."
   ]
  },
  {
   "cell_type": "code",
   "execution_count": null,
   "metadata": {},
   "outputs": [],
   "source": [
    "dsc30_name = dsc_courses['DSC 30']\n",
    "dsc30_name"
   ]
  },
  {
   "cell_type": "markdown",
   "metadata": {},
   "source": [
    "Here, `'DSC 30'` is the key and `'Data Structures and Algorithms for Data Science'` is the value.\n",
    "\n",
    "Note that we can easily extract all keys or all values from a dictionary:"
   ]
  },
  {
   "cell_type": "code",
   "execution_count": null,
   "metadata": {},
   "outputs": [],
   "source": [
    "dsc_courses.keys()"
   ]
  },
  {
   "cell_type": "code",
   "execution_count": null,
   "metadata": {},
   "outputs": [],
   "source": [
    "dsc_courses.values()"
   ]
  },
  {
   "cell_type": "markdown",
   "metadata": {},
   "source": [
    "We can then iterate through all of the keys (or values) of a dictionary if needed. For example:"
   ]
  },
  {
   "cell_type": "code",
   "execution_count": null,
   "metadata": {},
   "outputs": [],
   "source": [
    "for course in dsc_courses.keys():\n",
    "    print('I love ', course)"
   ]
  },
  {
   "cell_type": "markdown",
   "metadata": {},
   "source": [
    "**Question 4.1** In the cell below, define a dictionary `fav_emojis` that has the following five keys:\n",
    "- `'happy'`\n",
    "- `'yes'`\n",
    "- `'amazing'`\n",
    "- `'love'`\n",
    "- `'food'`\n",
    "\n",
    "The values corresponding to each of these five keys must be emojis, but they can be any emoji you want, **as long as**:\n",
    "- they are copied from the site [getemoji.com](https://getemoji.com)\n",
    "- they are not in the \"New Emojis\" category at the bottom\n",
    "\n",
    "Have fun with it! We've chosen an emoji for `'happy'` as an example for you, but feel free to change it.\n",
    "\n",
    "Some troubleshooting tips:\n",
    "- After defining your dictionary, you may see some emoijs displayed with `'\\U001...'` instead of their actual graphic. **If this happens, pick different emojis**.\n",
    "- If you fail the test case that says your emojis are invalid, and you're certain you correctly defined your dictionary, you may consider choosing other emojis that are more generic that are more likely to be recognized by our autograder. This most likely won't be a problem.\n",
    "\n"
   ]
  },
  {
   "cell_type": "code",
   "execution_count": null,
   "metadata": {},
   "outputs": [],
   "source": [
    "fav_emojis = {\n",
    "    'happy': '😊',\n",
    "    ...\n",
    "}\n",
    "\n",
    "fav_emojis"
   ]
  },
  {
   "cell_type": "code",
   "execution_count": null,
   "metadata": {
    "deletable": false,
    "editable": false
   },
   "outputs": [],
   "source": [
    "grader.check(\"q4_1\")"
   ]
  },
  {
   "cell_type": "markdown",
   "metadata": {},
   "source": [
    "**Question 4.2.** Now, complete the implementation of the function `emojify`, which takes in a string `message` and returns a new string with all instances of any of the keys in `fav_emojis` replaced with their corresponding emoji value. Example behavior is shown below, though the emojis shown will be different, depending on what you put in `fav_emojis`. \n",
    "\n",
    "```py\n",
    ">>> emojify('Yes, agreed.')\n",
    "'✅, agreed.'\n",
    "\n",
    ">>> emojify('wanna order some food? - I LOVE this place, the food here is AMAZING!!!')\n",
    "'wanna order some 🥐? - i 💕 this place, the 🥐 here is 🤩!!!'\n",
    "\n",
    ">>> emojify('While I do love you, food makes me more happy. Yes, I am serious.')\n",
    "'while i do 💕 you, 🥐 makes me more 😊. ✅, i am serious.'\n",
    "\n",
    ">>> emojify(\"i had an amazing time last weekend... my puppy was so happy to go to the park\")\n",
    "'i had an 🤩 time last weekend... my puppy was so 😊 to go to the park'\n",
    "\n",
    ">>> emojify('where_is_the_word???wow_itis_here:amazing!')\n",
    "'where_is_the_word???wow_itis_here:🤩!'\n",
    "```\n",
    "\n",
    "**_Hint 1:_** You will need to use a `for`-loop. Refer to the example dictionary from the start of the problem (where we printed `'I love DSC 10'`) for some clues on how to proceed.\n",
    "\n",
    "**_Hint 2:_** Look into the `.replace` method for strings."
   ]
  },
  {
   "cell_type": "code",
   "execution_count": null,
   "metadata": {},
   "outputs": [],
   "source": [
    "def emojify(message):\n",
    "    # This line ensures your code works correctly regardless of \n",
    "    # whether the message is in upper case or lower case.\n",
    "    message = message.lower()\n",
    "\n",
    "    ...\n",
    "    \n",
    "    # Don't change this\n",
    "    return message"
   ]
  },
  {
   "cell_type": "code",
   "execution_count": null,
   "metadata": {
    "deletable": false,
    "editable": false
   },
   "outputs": [],
   "source": [
    "grader.check(\"q4_2\")"
   ]
  },
  {
   "cell_type": "markdown",
   "metadata": {},
   "source": [
    "### Fun Demo\n",
    "\n",
    "Run the cell below to produce a text box (don't worry about the code itself). Type text in the text box and watch it get emojified live!"
   ]
  },
  {
   "cell_type": "code",
   "execution_count": null,
   "metadata": {
    "scrolled": true
   },
   "outputs": [],
   "source": [
    "def emojify_live(type_here):\n",
    "    display(HTML('<h2>' + emojify(type_here) + '</h2>'))\n",
    "interact(emojify_live, type_here=\"I LOVE food\");"
   ]
  },
  {
   "cell_type": "markdown",
   "metadata": {
    "deletable": false,
    "editable": false
   },
   "source": [
    "## 5. Alternating Sums 🔁\n",
    "\n",
    "In this problem, we'll define two functions that compute some sort of \"alternating sum\" of a sequence of values. \n",
    "For guidance, you may want to look at the slide titled \"Ranges\" in Lecture 11.\n",
    "\n",
    "**Question 5.1.** Complete the implementation of the function `alternating_sum`, which takes in an array of numbers, `values`, and returns the sum of every other element in `values`, starting with the element at position 0. Example behavior is shown below.\n",
    "\n",
    "```py\n",
    ">>> alternating_sum(np.array([2, 3.5, 1, 1.5]))\n",
    "3.0 # comes from 2 + 1\n",
    "\n",
    ">>> alternating_sum(np.array([2, 3.5, 1, 1.5, 4.5]))\n",
    "7.5 # comes from 2 + 1 + 4.5\n",
    "\n",
    "```\n",
    "\n",
    "**_Note:_** Once you've written your function, you should test it out on several arrays yourself to make sure it works as intended.\n",
    "\n",
    "<!--\n",
    "BEGIN QUESTION\n",
    "name: q5_1\n",
    "-->"
   ]
  },
  {
   "cell_type": "code",
   "execution_count": null,
   "metadata": {},
   "outputs": [],
   "source": [
    "def alternating_sum(values):\n",
    "    ...\n",
    "    \n",
    "# Feel free to change this input to make sure your function works correctly.\n",
    "alternating_sum(np.array([2, 3.5, 1, 1.5]))"
   ]
  },
  {
   "cell_type": "code",
   "execution_count": null,
   "metadata": {
    "deletable": false,
    "editable": false
   },
   "outputs": [],
   "source": [
    "grader.check(\"q5_1\")"
   ]
  },
  {
   "cell_type": "markdown",
   "metadata": {
    "deletable": false,
    "editable": false
   },
   "source": [
    "**Question 5.2.** In math, the word \"alternating\" is sometimes used to indicate that the signs of the elements of a sequence oscillate back and forth between positive and negative. Complete the implementation of the function `alternating_sign_sum`, which takes in an array of positive numbers, `values`, and returns the sum of every element in `values`, with alternating signs, starting with a positive sign for the element at position 0, a negative sign for the element at position 1, and so on. Example behavior is shown below.\n",
    "\n",
    "```py\n",
    ">>> alternating_sign_sum(np.array([2, 3.5, 1]))\n",
    "-0.5 # comes from 2 + (-3.5) + 1\n",
    "\n",
    ">>> alternating_sign_sum(np.array([2, 3.5, 1, 1.5]))\n",
    "-2.0 # comes from 2 + (-3.5) + 1 + (-1.5)\n",
    "```\n",
    "\n",
    "**_Hint:_** If `x` is an integer, `x % 2` is 0 if `x` is even and 1 if `x` is odd.\n",
    "\n",
    "<!--\n",
    "BEGIN QUESTION\n",
    "name: q5_2\n",
    "-->"
   ]
  },
  {
   "cell_type": "code",
   "execution_count": null,
   "metadata": {},
   "outputs": [],
   "source": [
    "def alternating_sign_sum(values):\n",
    "    ...\n",
    "    \n",
    "# Feel free to change this input to make sure your function works correctly.\n",
    "alternating_sign_sum(np.array([2, 3.5, 1]))"
   ]
  },
  {
   "cell_type": "code",
   "execution_count": null,
   "metadata": {
    "deletable": false,
    "editable": false
   },
   "outputs": [],
   "source": [
    "grader.check(\"q5_2\")"
   ]
  },
  {
   "cell_type": "markdown",
   "metadata": {},
   "source": [
    "## 6. Lucky Triton Lotto 🔱 🎱 🧜\n",
    "\n",
    "Suppose UCSD holds an annual lottery called the Lucky Triton Lotto, where students can enter to win Triton Cash, or even free housing! Here's how the Lucky Triton Lotto works:\n",
    "\n",
    "- First, you pick five **different** numbers, one at a time, from 1 to 62, representing the 62 years UCSD has been established. \n",
    "- Then, you separately pick a number from 1 to 16. This is because [16 Nobel laureates](https://ucsdtritons.com/news/2020/9/8/general-triton-tuesday-uc-san-diego-home-to-award-winning-faculty.aspx) have taught or are teaching at UCSD. These are **your numbers**. \n",
    "- For example, you may select (15, 1, 13, 3, 61, 15). This is a sequence of six numbers - **order matters**!\n",
    "\n",
    "The **winning numbers** are chosen by King Triton drawing five balls, one at a time, **without replacement**, from a pot of white balls numbered 1 to 62. Then, he draws a gold ball, the Tritonball, from a pot of gold balls numbered 1 to 16. Both pots are completely separate, hence the different ball colors. For example, maybe the winning numbers are (13, 15, 62, 3, 5, 15).\n",
    "\n",
    "We’ll assume for this problem that in order to win the grand prize (free housing), all six of your numbers need to match the winning numbers and be in the **exact same positions**. In other words, your entire sequence of numbers must be exactly the same. However, if some numbers in your sequence match up with the corresponding number in the winning sequence, you will still win some Triton Cash. \n",
    "\n",
    "Suppose again that you select (15, 1, 13, 3, 61, 15) and the winning numbers are (13, 15, 62, 3, 5, 15). In this case, two of your numbers are considered to match two of the winning numbers. Notice that although both sequences include the number 15 within the first five numbers (representing a white ball), since they are in different positions, that's not considered a match.\n",
    "\n",
    "- Your numbers: (15, 1, 13, **3**, 61, **15**)\n",
    "- Winning numbers: (13, 15, 62, **3**, 5, **15**)\n"
   ]
  },
  {
   "cell_type": "markdown",
   "metadata": {},
   "source": [
    "**Question 6.1.** What is the probability that your Tritonball number (the last number in your sequence) matches the winning Tritonball number? Calculate your answer and assign it to `tritonball_chance`. If you need to do any calculations (e.g. multiplication or division), make Python do it; don't use a separate calculator. Your result should be a decimal number between 0 and 1."
   ]
  },
  {
   "cell_type": "code",
   "execution_count": null,
   "metadata": {},
   "outputs": [],
   "source": [
    "tritonball_chance = ...\n",
    "tritonball_chance"
   ]
  },
  {
   "cell_type": "code",
   "execution_count": null,
   "metadata": {
    "deletable": false,
    "editable": false
   },
   "outputs": [],
   "source": [
    "grader.check(\"q6_1\")"
   ]
  },
  {
   "cell_type": "markdown",
   "metadata": {},
   "source": [
    "**Question 6.2.** What is the probability that your first two numbers match the first two winning numbers? Calculate your answer and assign it to `first_two_chance`. If you need to do any calculations (e.g. multiplication or division), make Python do it; don't use a separate calculator. Your result should be a decimal number between 0 and 1.\n",
    "\n",
    "**_Hint:_** You need the first number to match, **and** you need the second number to match, assuming the first is a match."
   ]
  },
  {
   "cell_type": "code",
   "execution_count": null,
   "metadata": {},
   "outputs": [],
   "source": [
    "first_two_chance = ...\n",
    "first_two_chance"
   ]
  },
  {
   "cell_type": "code",
   "execution_count": null,
   "metadata": {
    "deletable": false,
    "editable": false
   },
   "outputs": [],
   "source": [
    "grader.check(\"q6_2\")"
   ]
  },
  {
   "cell_type": "markdown",
   "metadata": {},
   "source": [
    "**Question 6.3.** What is the probability that you win the grand prize, free housing? Calculate your answer and assign it to `free_housing_chance`. If you need to do any calculations (e.g. multiplication or division), make Python do it; don't use a separate calculator. Your result should be a decimal number between 0 and 1.\n",
    "\n",
    "**_Hint:_** When you select a ball without replacement, what happens to the total number of balls you can select next time?"
   ]
  },
  {
   "cell_type": "code",
   "execution_count": null,
   "metadata": {},
   "outputs": [],
   "source": [
    "free_housing_chance = ...\n",
    "free_housing_chance"
   ]
  },
  {
   "cell_type": "code",
   "execution_count": null,
   "metadata": {
    "deletable": false,
    "editable": false
   },
   "outputs": [],
   "source": [
    "grader.check(\"q6_3\")"
   ]
  },
  {
   "cell_type": "markdown",
   "metadata": {},
   "source": [
    "**Question 6.4.** What is the probability that you do **not** win free housing? Calculate your answer and assign it to `no_free_housing_chance`. If you need to do any calculations (e.g. multiplication or division), make Python do it; don't use a separate calculator. Your result should be a decimal number between 0 and 1.\n",
    "\n",
    "**_Hint:_** You may want to use your `free_housing_chance` variable."
   ]
  },
  {
   "cell_type": "code",
   "execution_count": null,
   "metadata": {
    "scrolled": true
   },
   "outputs": [],
   "source": [
    "no_free_housing_chance = ...\n",
    "no_free_housing_chance"
   ]
  },
  {
   "cell_type": "code",
   "execution_count": null,
   "metadata": {
    "deletable": false,
    "editable": false
   },
   "outputs": [],
   "source": [
    "grader.check(\"q6_4\")"
   ]
  },
  {
   "cell_type": "markdown",
   "metadata": {},
   "source": [
    "## Finish Line 🏁"
   ]
  },
  {
   "cell_type": "markdown",
   "metadata": {},
   "source": [
    "To submit your assignment:\n",
    "\n",
    "1. Select `Kernel -> Restart & Run All` to ensure that you have executed all cells, including the test cells.\n",
    "2. Read through the notebook to make sure everything is fine and all tests passed.\n",
    "3. Run the cell below to run all tests, and make sure that they all pass.\n",
    "4. Download your notebook using `File -> Download as -> Notebook (.ipynb)`, then upload your notebook to Gradescope."
   ]
  },
  {
   "cell_type": "code",
   "execution_count": null,
   "metadata": {},
   "outputs": [],
   "source": [
    "grader.check_all()"
   ]
  }
 ],
 "metadata": {
  "kernelspec": {
   "display_name": "Python 3",
   "language": "python",
   "name": "python3"
  },
  "language_info": {
   "codemirror_mode": {
    "name": "ipython",
    "version": 3
   },
   "file_extension": ".py",
   "mimetype": "text/x-python",
   "name": "python",
   "nbconvert_exporter": "python",
   "pygments_lexer": "ipython3",
   "version": "3.7.4"
  }
 },
 "nbformat": 4,
 "nbformat_minor": 4
}
