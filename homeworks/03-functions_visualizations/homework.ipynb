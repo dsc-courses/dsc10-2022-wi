{
 "cells": [
  {
   "cell_type": "markdown",
   "metadata": {},
   "source": [
    "# Homework 3: Data Visualization and Python Functions\n",
    "\n",
    "## Due Saturday, January 29th at 11:59pm PST\n",
    "\n",
    "Welcome to Homework 3! This week, we will cover DataFrame manipulations, making visualizations, and defining functions. You can find additional help on these topics in [Notes 11-17](https://notes.dsc10.com/02-data_sets/groupby.html) in the course notes."
   ]
  },
  {
   "cell_type": "markdown",
   "metadata": {},
   "source": [
    "### Instructions\n",
    "\n",
    "This assignment is due on Saturday, January 29th at 11:59pm. You are given six slip days throughout the quarter to extend deadlines. See the syllabus for more details. With the exception of using slip days, late work will not be accepted unless you have made special arrangements with your instructor.\n",
    "\n",
    "**Important**: For homeworks, the `otter` tests don't usually tell you that your answer is correct. More often, they help catch careless mistakes. It's up to you to ensure that your answer is correct. If you're not sure, ask someone (not for the answer, but for some guidance about your approach). These are great questions for office hours (see the schedule on the [Calendar](https://dsc10.com/calendar)) or Campuswire. Directly sharing answers is not okay, but discussing problems with the course staff or with other students is encouraged.\n",
    "\n",
    "**Please do not use for-loops for any questions in this homework.** If you don't know what a for-loop is, don't worry -- we haven't covered them yet. But if you do know what they are and are wondering why it's not OK to use them, it is because loops in Python are slow, and looping over arrays and DataFrames should usually be avoided."
   ]
  },
  {
   "cell_type": "code",
   "execution_count": null,
   "metadata": {},
   "outputs": [],
   "source": [
    "# Please don't change this cell, but do make sure to run it\n",
    "import babypandas as bpd\n",
    "import numpy as np\n",
    "\n",
    "import matplotlib.pyplot as plt\n",
    "plt.style.use('fivethirtyeight')\n",
    "\n",
    "import otter\n",
    "grader = otter.Notebook()"
   ]
  },
  {
   "cell_type": "markdown",
   "metadata": {},
   "source": [
    "## 1. Gotta Catch 'Em All! ⚡️"
   ]
  },
  {
   "cell_type": "markdown",
   "metadata": {},
   "source": [
    "<img src=\"./images/q1_pokemon.png\" width=400/>\n",
    "\n",
    "Pokémon is an immensely popular video game and animation franchise that originated from Japan in 1996. Pokémon, short for Pocket Monsters, come in a variety of unique types and have several kinds of stats.  In this problem, we will investigate how attack and defense stats vary among these types up to the seventh generation.\n",
    "\n",
    "The file named `pokedex.csv` in the `data/` directory has a row for each Pokémon, and the following columns.\n",
    "\n",
    "|Column|Description|\n",
    "|------|-----------|\n",
    "|`'pokedex_number'`|The Pokémon's identification number in an encyclopedia of all Pokémon.|\n",
    "|`'name'`|The name of the Pokémon.|\n",
    "|`'type'`|The categorical type of the Pokémon, for example, \"normal\", \"fire\", \"water\". Each Pokémon is limited to one type for simplicity.|\n",
    "|`'attack'`|The Pokémon's power for physical moves.|\n",
    "|`'defense'`|The Pokémon's ability to prevent damage from attacks.|\n",
    "|`'hp'`| Hit Points. Indicates how much damage a Pokémon can tolerate.|\n",
    "|`'sp_attack'`|Special Attack. The Pokémon's power for special moves.|\n",
    "|`'sp_defense'`|Special Defense. The Pokémon's ability to prevent damage from special attacks.|\n",
    "|`'generation'`|A group of Pokémon that are compatible for Pokémon games.|\n",
    "|`'is_legendary'`|Indicates whether the Pokémon is legendary. Legendary Pokémon are rare and powerful. 1 means legendary, 0 means not.|"
   ]
  },
  {
   "cell_type": "markdown",
   "metadata": {},
   "source": [
    "First, we read the data in as a DataFrame."
   ]
  },
  {
   "cell_type": "code",
   "execution_count": null,
   "metadata": {},
   "outputs": [],
   "source": [
    "pokedex = bpd.read_csv('data/pokedex.csv')\n",
    "pokedex"
   ]
  },
  {
   "cell_type": "markdown",
   "metadata": {},
   "source": [
    "Let's explore particular columns to get to know the data a little better. The `.describe()` method gives us some useful information about a column. Try it out on the `name` column."
   ]
  },
  {
   "cell_type": "code",
   "execution_count": null,
   "metadata": {
    "scrolled": true
   },
   "outputs": [],
   "source": [
    "pokedex.get('name').describe()"
   ]
  },
  {
   "cell_type": "markdown",
   "metadata": {},
   "source": [
    "We learn that this column has 801 values, all of which are unique, and as a result the most frequent name appears only once.\n",
    "\n",
    "If we try this same command on the `'type'` column, we'll see that although there are 801 entries, only 18 of them are unique. There are many Pokémon with the same `'type'`. The most common `'type'` is \"water\"; there are 114 such Pokémon. "
   ]
  },
  {
   "cell_type": "code",
   "execution_count": null,
   "metadata": {
    "scrolled": true
   },
   "outputs": [],
   "source": [
    "pokedex.get('type').describe()"
   ]
  },
  {
   "cell_type": "markdown",
   "metadata": {},
   "source": [
    "**Question 1.1.** Which would be a better choice of index for this dataset, `'name'` or `'type'`? Set the index of `pokedex` to whichever of these two attributes makes more sense."
   ]
  },
  {
   "cell_type": "code",
   "execution_count": null,
   "metadata": {
    "scrolled": true
   },
   "outputs": [],
   "source": [
    "pokedex = ...\n",
    "pokedex"
   ]
  },
  {
   "cell_type": "code",
   "execution_count": null,
   "metadata": {
    "deletable": false,
    "editable": false
   },
   "outputs": [],
   "source": [
    "grader.check(\"q1_1\")"
   ]
  },
  {
   "cell_type": "markdown",
   "metadata": {},
   "source": [
    "**Question 1.2.** Assign `weakest_attack` and `weakest_defense` to the names of the weakest Pokémon in terms of attack and defense respectively.\n",
    "\n",
    "Similarly, assign `strongest_attack` and `strongest_defense` to the names of the strongest Pokémon in terms of attack and defense respectively.\n",
    "\n",
    "In the case of a tie, choose any one of the equally weakest or equally strongest Pokémon."
   ]
  },
  {
   "cell_type": "code",
   "execution_count": null,
   "metadata": {},
   "outputs": [],
   "source": [
    "weakest_attack = ...\n",
    "print(\"Weakest attack:\", weakest_attack)\n",
    "\n",
    "strongest_attack = ...\n",
    "print(\"Strongest attack:\", strongest_attack)\n",
    "\n",
    "weakest_defense = ...\n",
    "print(\"Weakest defense:\", weakest_defense)\n",
    "\n",
    "strongest_defense = ...\n",
    "print(\"Strongest defense:\", strongest_defense)"
   ]
  },
  {
   "cell_type": "code",
   "execution_count": null,
   "metadata": {
    "deletable": false,
    "editable": false
   },
   "outputs": [],
   "source": [
    "grader.check(\"q1_2\")"
   ]
  },
  {
   "cell_type": "markdown",
   "metadata": {},
   "source": [
    "**Question 1.3.** Typically at the beginning of a game, the Pokémon trainer (the player) has to make a choice between Pokémon of `'type'` \"water\", \"grass\", and \"fire\". Make a DataFrame named `water_grass_fire` containing only the the \"water\", \"grass\", and \"fire\" Pokémon. All columns of `pokedex` should be included."
   ]
  },
  {
   "cell_type": "code",
   "execution_count": null,
   "metadata": {},
   "outputs": [],
   "source": [
    "water_grass_fire = ...\n",
    "water_grass_fire"
   ]
  },
  {
   "cell_type": "code",
   "execution_count": null,
   "metadata": {
    "deletable": false,
    "editable": false
   },
   "outputs": [],
   "source": [
    "grader.check(\"q1_3\")"
   ]
  },
  {
   "cell_type": "markdown",
   "metadata": {},
   "source": [
    "**Question 1.4.** Create a DataFrame named `legendary_pokemon`, indexed by `'type'` and having one column, called `'num_legendary'`, that contains the number of legendary Pokémon of each type.\n",
    "\n",
    "_**Hint:**_ You will need to drop and rename columns. Instead of using `.drop`, you may want to use `.get` with a list containing the name of a single column (this was done in Lecture 8)."
   ]
  },
  {
   "cell_type": "code",
   "execution_count": null,
   "metadata": {},
   "outputs": [],
   "source": [
    "legendary_pokemon = ...\n",
    "legendary_pokemon"
   ]
  },
  {
   "cell_type": "code",
   "execution_count": null,
   "metadata": {
    "deletable": false,
    "editable": false
   },
   "outputs": [],
   "source": [
    "grader.check(\"q1_4\")"
   ]
  },
  {
   "cell_type": "markdown",
   "metadata": {},
   "source": [
    "**Question 1.5.** It turns out that there are a few `'type'`s that don't have any legendary Pokémon 😢. Below, assign `non_legendary` to an array of the names of these `'type'`s."
   ]
  },
  {
   "cell_type": "code",
   "execution_count": null,
   "metadata": {},
   "outputs": [],
   "source": [
    "non_legendary = ...\n",
    "non_legendary"
   ]
  },
  {
   "cell_type": "code",
   "execution_count": null,
   "metadata": {
    "deletable": false,
    "editable": false
   },
   "outputs": [],
   "source": [
    "grader.check(\"q1_5\")"
   ]
  },
  {
   "cell_type": "markdown",
   "metadata": {},
   "source": [
    "**Question 1.6.** Suppose that as a Pokémon trainer, you want to assemble a strong team of Pokémon of various `'type'`s. Create a DataFrame called `median_stats`, indexed by `'type'`, that contains the median statistics for Pokémon of each type. `median_stats` should have five columns: `'attack'`, `'defense'`, `'hp'`, `'sp_attack'`, and `'sp_defense'`."
   ]
  },
  {
   "cell_type": "code",
   "execution_count": null,
   "metadata": {},
   "outputs": [],
   "source": [
    "median_stats = ...\n",
    "median_stats"
   ]
  },
  {
   "cell_type": "code",
   "execution_count": null,
   "metadata": {
    "deletable": false,
    "editable": false
   },
   "outputs": [],
   "source": [
    "grader.check(\"q1_6\")"
   ]
  },
  {
   "cell_type": "markdown",
   "metadata": {},
   "source": [
    "**Question 1.7.** A strong Pokémon is one that has high values for `'attack'`, `'defense'`, `'hp'`, `'sp_attack'`, and `'sp_defense'`. Suppose that you develop a formula to summarize all of these stats into a single number called strength. The strength of a Pokémon is a weighted average of these five stats, where each stat is weighted as follows:\n",
    "\n",
    "- `'attack'`: 25%\n",
    "- `'defense'`: 25%\n",
    "- `'hp'`: 10%\n",
    "- `'sp_attack'`: 30%\n",
    "- `'sp_defense'`: 10%\n",
    "\n",
    "Define a function called `calculate_strength` that takes as input the `'pokedex_number'` of a Pokémon and returns its strength, as defined above.\n",
    "\n",
    "_**Hint:**_ It may be helpful to work out an example by-hand to ensure you know how the calculation is meant to be performed. For example, since Absol (`'pokedex_number'` of 359) has an `'attack'` of 150, `'defense'` of 60, `'hp'` of 65, `'sp_attack'` of 115, and `'sp_defense'` of 60, their strength should be 99.5 and so `calculate_strength(359)` should return 99.5. Once you've implemented `calculate_strength`, you should verify that your function works as intended. This is good practice in general."
   ]
  },
  {
   "cell_type": "code",
   "execution_count": null,
   "metadata": {},
   "outputs": [],
   "source": [
    "def calculate_strength(number):\n",
    "    ..."
   ]
  },
  {
   "cell_type": "code",
   "execution_count": null,
   "metadata": {
    "deletable": false,
    "editable": false
   },
   "outputs": [],
   "source": [
    "grader.check(\"q1_7\")"
   ]
  },
  {
   "cell_type": "markdown",
   "metadata": {},
   "source": [
    "**Question 1.8.** Create a DataFrame called `with_strength` that contains all the columns of `pokedex` plus one more called `'strength'`, containing the strength of each Pokémon as defined in the previous question. Order the rows in descending order of `'strength'`.\n",
    "\n",
    "_**Hint**_: Use the `calculate_strength` function you've already written, along with the `.apply` method. This should only take one line of code; don't use a for-loop (don't worry if you don't know what that is)."
   ]
  },
  {
   "cell_type": "code",
   "execution_count": null,
   "metadata": {},
   "outputs": [],
   "source": [
    "with_strength = ...\n",
    "with_strength"
   ]
  },
  {
   "cell_type": "code",
   "execution_count": null,
   "metadata": {
    "deletable": false,
    "editable": false
   },
   "outputs": [],
   "source": [
    "grader.check(\"q1_8\")"
   ]
  },
  {
   "cell_type": "markdown",
   "metadata": {},
   "source": [
    "**Question 1.9.** Make a plot that will help you answer the question,\n",
    "\n",
    "> Among **fire** Pokémon, do those with stronger attack power also have stronger defense power?\n",
    "\n",
    "Consider only regular `'attack'` and `'defense'`, **not** special (`'sp_attack'` and `'sp_defense'`). All you need to do for this question is create a plot."
   ]
  },
  {
   "cell_type": "markdown",
   "metadata": {
    "deletable": false,
    "editable": false
   },
   "source": [
    "<!-- BEGIN QUESTION -->\n",
    "\n",
    "<!--\n",
    "BEGIN QUESTION\n",
    "name: q1_9\n",
    "manual: true\n",
    "-->"
   ]
  },
  {
   "cell_type": "code",
   "execution_count": null,
   "metadata": {},
   "outputs": [],
   "source": [
    "# Create your plot here\n",
    "..."
   ]
  },
  {
   "cell_type": "markdown",
   "metadata": {},
   "source": [
    "<!-- END QUESTION -->\n",
    "\n",
    "\n",
    "\n",
    "**Question 1.10.** Considering that Pokémon `'generation'`s were developed in order, we might wonder how Pokémon have evolved over time. Draw a line plot that shows the proportion of legendary Pokémon in each generation. This kind of plot might help you answer the question\n",
    "\n",
    "> Are later-generation Pokémon more likely to be legendary?\n",
    "\n",
    "_**Hint 1:**_ You'll have to do some DataFrame manipulation before you can create the line plot; this is typical when visualizing data.\n",
    "\n",
    "_**Hint 2:**_ A proportion is a value between 0 and 1. 0 means \"none\" and 1 means \"all\".The proportion of 1s amongst the numbers 0, 0, 1, 1, 0 is 0.4, which is also the average of these five numbers."
   ]
  },
  {
   "cell_type": "markdown",
   "metadata": {
    "deletable": false,
    "editable": false
   },
   "source": [
    "<!-- BEGIN QUESTION -->\n",
    "\n",
    "<!--\n",
    "BEGIN QUESTION\n",
    "name: q1_10\n",
    "manual: true\n",
    "-->"
   ]
  },
  {
   "cell_type": "code",
   "execution_count": null,
   "metadata": {},
   "outputs": [],
   "source": [
    "# Create your plot here\n",
    "..."
   ]
  },
  {
   "cell_type": "markdown",
   "metadata": {},
   "source": [
    "<!-- END QUESTION -->\n",
    "\n",
    "\n",
    "\n",
    "## 2. Club Penguin 🐧 "
   ]
  },
  {
   "cell_type": "markdown",
   "metadata": {},
   "source": [
    "In this question, we will explore a dataset containing size measurements for three penguin species observed on three islands in the Palmer Archipelago, Antarctica. The data was collected by Dr. Kristen Gorman, a marine biologist, from 2007 to 2009. Below is a picture of Dr. Gorman and her fellow researchers in action:"
   ]
  },
  {
   "cell_type": "markdown",
   "metadata": {},
   "source": [
    "<img src=\"./images/q2_dr_gorman.jpg\" width=300/> "
   ]
  },
  {
   "cell_type": "markdown",
   "metadata": {},
   "source": [
    "Let's break down the columns in our dataset. "
   ]
  },
  {
   "cell_type": "markdown",
   "metadata": {},
   "source": [
    "#### `'species'`\n",
    "\n",
    "There are three species of penguin in our dataset: Adelie, Chinstrap, and Gentoo.\n",
    "\n",
    "<img src=\"./images/q2_lter_penguins.png\" width=350/>"
   ]
  },
  {
   "cell_type": "markdown",
   "metadata": {},
   "source": [
    "#### `'island'`\n",
    "\n",
    "Dr. Gorman recorded data on penguins from three islands: Biscoe, Dream, and Torgersen. Below is a map:\n",
    "\n",
    "<img src=\"./images/q2_map.png\" width=350/>"
   ]
  },
  {
   "cell_type": "markdown",
   "metadata": {},
   "source": [
    "#### `'bill_length_mm'` and  `'bill_depth_mm'`\n",
    "\n",
    "These are physical attributes of individual penguins. Below is an illustration:\n",
    "\n",
    "<img src=\"./images/q2_culmen_depth.png\" width=350/>"
   ]
  },
  {
   "cell_type": "markdown",
   "metadata": {},
   "source": [
    "#### `'flipper_length_mm'`, `'body_mass_g'`, and `'sex'`\n",
    "\n",
    "Although penguins are birds that cannot fly, their wing, or flipper, structures are optimized for swimming. Here is a National Geographic [video](https://youtu.be/A9mbCNs47FI) showcasing the amazing swimming ability of penguins. The mass of the penguin is another attribute that was recorded in grams, and the sex of the penguin was recorded as either male or female. "
   ]
  },
  {
   "cell_type": "markdown",
   "metadata": {},
   "source": [
    "Run the next cell to load in the data. We have cleaned the data beforehand to ensure there are no missing values. Take some time to look at a few rows of the DataFrame to see what information is recorded."
   ]
  },
  {
   "cell_type": "code",
   "execution_count": null,
   "metadata": {},
   "outputs": [],
   "source": [
    "# Run this cell to load the dataset.\n",
    "penguins = bpd.read_csv('data/penguins.csv')\n",
    "penguins"
   ]
  },
  {
   "cell_type": "markdown",
   "metadata": {},
   "source": [
    "**Question 2.1.** Suppose we're curious about how the mean bill length varies between penguin species. Assign `species_mean_bill` to a DataFrame with a single column, `'bill_length_mm'`, that contains the mean bill length for each species. `'species'` should be the index."
   ]
  },
  {
   "cell_type": "code",
   "execution_count": null,
   "metadata": {},
   "outputs": [],
   "source": [
    "species_mean_bill = ...\n",
    "species_mean_bill"
   ]
  },
  {
   "cell_type": "code",
   "execution_count": null,
   "metadata": {
    "deletable": false,
    "editable": false
   },
   "outputs": [],
   "source": [
    "grader.check(\"q2_1\")"
   ]
  },
  {
   "cell_type": "markdown",
   "metadata": {
    "deletable": false,
    "editable": false
   },
   "source": [
    "**Question 2.2.** Below, write code to find the name of the species with the largest mean bill length, and assign the name `species_largest_bill` to the result.\n",
    "\n",
    "<!--\n",
    "BEGIN QUESTION\n",
    "name: q2_2\n",
    "-->"
   ]
  },
  {
   "cell_type": "code",
   "execution_count": null,
   "metadata": {},
   "outputs": [],
   "source": [
    "species_largest_bill = ...\n",
    "species_largest_bill"
   ]
  },
  {
   "cell_type": "code",
   "execution_count": null,
   "metadata": {
    "deletable": false,
    "editable": false
   },
   "outputs": [],
   "source": [
    "grader.check(\"q2_2\")"
   ]
  },
  {
   "cell_type": "markdown",
   "metadata": {},
   "source": [
    "**Question 2.3** We want to visualize the **mean bill length** (in mm) for each species. Which visualization is the most appropriate? Assign an integer from 1 to 6 representing your answer to the name `q2_3`.\n",
    "\n",
    " 1. Histogram\n",
    " 2. Line plot\n",
    " 3. Scatterplot\n",
    " 4. Bar chart\n",
    " 5. Boxplot\n",
    " 6. None of the above"
   ]
  },
  {
   "cell_type": "code",
   "execution_count": null,
   "metadata": {},
   "outputs": [],
   "source": [
    "q2_3 = ...\n",
    "q2_3"
   ]
  },
  {
   "cell_type": "code",
   "execution_count": null,
   "metadata": {
    "deletable": false,
    "editable": false
   },
   "outputs": [],
   "source": [
    "grader.check(\"q2_3\")"
   ]
  },
  {
   "cell_type": "markdown",
   "metadata": {},
   "source": [
    "**Question 2.4.** Using your `species_mean_bill` DataFrame from 2.1, generate a visualization that shows the mean bill length (in mm) for each species.\n",
    "\n",
    "_**Hint 1:**_ Your visualization type should be the one you selected in 2.3. If it doesn't make sense, try a different type of visualization!\n",
    "\n",
    "_**Hint 2:**_ Don't worry about sorting."
   ]
  },
  {
   "cell_type": "markdown",
   "metadata": {
    "deletable": false,
    "editable": false
   },
   "source": [
    "<!-- BEGIN QUESTION -->\n",
    "\n",
    "<!--\n",
    "BEGIN QUESTION\n",
    "name: q2_4\n",
    "manual: true\n",
    "-->"
   ]
  },
  {
   "cell_type": "code",
   "execution_count": null,
   "metadata": {},
   "outputs": [],
   "source": [
    "# Create your plot here\n",
    "..."
   ]
  },
  {
   "cell_type": "markdown",
   "metadata": {},
   "source": [
    "<!-- END QUESTION -->\n",
    "\n",
    "\n",
    "\n",
    "**Question 2.5.** Assign `tor_ade` to a DataFrame that only contains rows for Adelie penguins on Torgersen Island. `tor_ade` should have all of the columns in `penguins` except for `'species'` and `'island'`, which will now be redundant (since all of the penguins in `tor_ade` will have the same `'species'` and `'island'`)."
   ]
  },
  {
   "cell_type": "code",
   "execution_count": null,
   "metadata": {},
   "outputs": [],
   "source": [
    "tor_ade = ...\n",
    "tor_ade"
   ]
  },
  {
   "cell_type": "code",
   "execution_count": null,
   "metadata": {
    "deletable": false,
    "editable": false
   },
   "outputs": [],
   "source": [
    "grader.check(\"q2_5\")"
   ]
  },
  {
   "cell_type": "markdown",
   "metadata": {},
   "source": [
    "**Question 2.6.** Calculate the proportion of Adelie penguins on Torgersen Island that have a mass of over 4000 grams, and assign the result to the name `proportion_above_4000g`."
   ]
  },
  {
   "cell_type": "code",
   "execution_count": null,
   "metadata": {},
   "outputs": [],
   "source": [
    "proportion_above_4000g = ...\n",
    "proportion_above_4000g"
   ]
  },
  {
   "cell_type": "code",
   "execution_count": null,
   "metadata": {
    "deletable": false,
    "editable": false
   },
   "outputs": [],
   "source": [
    "grader.check(\"q2_6\")"
   ]
  },
  {
   "cell_type": "markdown",
   "metadata": {},
   "source": [
    "**Question 2.7.** Create a density histogram showing the distribution of the body mass of Adelie penguins on Torgersen Island. Your histogram should have 10 bars in total (you can accomplish this by setting `bins=10`).\n",
    "\n",
    "Make sure to set `density=True` to create a density histogram, and set `ec='w'` to make the separation of bars more clear."
   ]
  },
  {
   "cell_type": "markdown",
   "metadata": {
    "deletable": false,
    "editable": false
   },
   "source": [
    "<!-- BEGIN QUESTION -->\n",
    "\n",
    "<!--\n",
    "BEGIN QUESTION\n",
    "name: q2_7\n",
    "manual: true\n",
    "-->"
   ]
  },
  {
   "cell_type": "code",
   "execution_count": null,
   "metadata": {},
   "outputs": [],
   "source": [
    "# Create your plot here\n",
    "..."
   ]
  },
  {
   "cell_type": "markdown",
   "metadata": {},
   "source": [
    "<!-- END QUESTION -->\n",
    "\n",
    "\n",
    "\n",
    "<br>"
   ]
  },
  {
   "cell_type": "markdown",
   "metadata": {
    "deletable": false,
    "editable": false
   },
   "source": [
    "**Question 2.8.** Finally, we're interested understanding the median `'flipper_length_mm'` of penguins from every combination of `'species'` and `'island'`. \n",
    "\n",
    "Below, assign `median_flipper_lengths` to a DataFrame with three columns, `'species'`, `'island'`, and `'flipper_length_mm'`. Each row of `median_flipper_lengths` should correspond to a different combination of `'species'` and `'island'`.\n",
    "\n",
    "_**Hint 1:**_ In order to create the desired DataFrame, you will have to group by more than one column. Please read [Note 11.4](https://notes.dsc10.com/02-data_sets/groupby.html) on Subgroups to find out how.\n",
    "\n",
    "_**Hint 2:**_ Remember to use `.reset_index()` after you group by multiple columns to get rid of the \"multi-index\".\n",
    "\n",
    "<!--\n",
    "BEGIN QUESTION\n",
    "name: q2_8\n",
    "-->"
   ]
  },
  {
   "cell_type": "code",
   "execution_count": null,
   "metadata": {},
   "outputs": [],
   "source": [
    "median_flipper_lengths = ...\n",
    "median_flipper_lengths"
   ]
  },
  {
   "cell_type": "code",
   "execution_count": null,
   "metadata": {
    "deletable": false,
    "editable": false
   },
   "outputs": [],
   "source": [
    "grader.check(\"q2_8\")"
   ]
  },
  {
   "cell_type": "markdown",
   "metadata": {},
   "source": [
    "Say goodbye to our penguins!\n",
    "\n",
    "<img src=\"./images/q2_all3.png\" width=350/>"
   ]
  },
  {
   "cell_type": "markdown",
   "metadata": {},
   "source": [
    "## 3. Olympics ⛸️🥇"
   ]
  },
  {
   "cell_type": "markdown",
   "metadata": {},
   "source": [
    "Last summer, Tokyo held the highly-anticipated Summer Olympics. At the Olympics, 206 nations participated, and 339 medals were awarded in 33 distinct sports. This February, Beijing will host the 2022 Winter Olympic Games.\n",
    "\n",
    "In light of the upcoming Winter Olympic Games, we will analyze historical data on Olympic athletes who won medals in the Winter Olympic Games from 1896-2014. We will be using a subset of data found [here](https://www.kaggle.com/the-guardian/olympic-games#dictionary.csv)."
   ]
  },
  {
   "cell_type": "markdown",
   "metadata": {},
   "source": [
    "First, we'll read in the data from a CSV. There is no good index, so we will leave it unset."
   ]
  },
  {
   "cell_type": "code",
   "execution_count": null,
   "metadata": {},
   "outputs": [],
   "source": [
    "winter_data = bpd.read_csv('data/winter.csv')\n",
    "winter_data"
   ]
  },
  {
   "cell_type": "markdown",
   "metadata": {},
   "source": [
    "The `'Country'` column contains International Olympic Committee (IOC) [country codes](https://olympics.fandom.com/wiki/List_of_IOC_country_codes). We want to convert these country codes into actual country names that everyone can understand.\n",
    "\n",
    "We'll use a Python [dictionary](https://www.tutorialspoint.com/python/python_dictionary.htm) to help us with this conversion. A dictionary is a simple way to map a unique key to a value. For example, the below dictionary maps course codes to course names."
   ]
  },
  {
   "cell_type": "code",
   "execution_count": null,
   "metadata": {},
   "outputs": [],
   "source": [
    "dsc_courses = {\n",
    "    'DSC 10': 'Principles of Data Science',\n",
    "    'DSC 20': 'Programming and Basic Data Structures for Data Science',\n",
    "    'DSC 30': 'Data Structures and Algorithms for Data Science',\n",
    "    'DSC 40A': 'Theoretical Foundations of Data Science I',\n",
    "    'DSC 40B': 'Theoretical Foundations of Data Science II',\n",
    "    'DSC 80': 'The Practice and Application of Data Science'\n",
    "}"
   ]
  },
  {
   "cell_type": "markdown",
   "metadata": {},
   "source": [
    "We can access the value corresponding to each key using bracket notation."
   ]
  },
  {
   "cell_type": "code",
   "execution_count": null,
   "metadata": {},
   "outputs": [],
   "source": [
    "dsc30_name = dsc_courses['DSC 30']\n",
    "dsc30_name"
   ]
  },
  {
   "cell_type": "markdown",
   "metadata": {},
   "source": [
    "Here, `'DSC 30'` is the key and `'Data Structures and Algorithms for Data Science'` is the value.\n",
    "\n",
    "Let's use a dictionary to help us with our country code to country name conversion. Below is a dictionary containing country codes as keys and country names as values for each of the countries in our dataset of Winter Olympic medal winners."
   ]
  },
  {
   "cell_type": "code",
   "execution_count": null,
   "metadata": {},
   "outputs": [],
   "source": [
    "# Run this cell, DO NOT change it.\n",
    "country_codes = {\n",
    " 'USA': 'United States',\n",
    " 'AFG': 'Afghanistan',\n",
    " 'AHO': 'Netherlands Antilles',\n",
    " 'ALG': 'Algeria',\n",
    " 'ANZ': 'Australasia',\n",
    " 'ARG': 'Argentina',\n",
    " 'ARM': 'Armenia',\n",
    " 'AZE': 'Azerbaijan',\n",
    " 'CAN': 'Canada',\n",
    " 'IRI': 'Iran',\n",
    " 'GHA': 'Ghana',\n",
    " 'NOR': 'Norway',\n",
    " 'ERI': 'Eritrea',\n",
    " 'IRL': 'Ireland',\n",
    " 'URS': 'Soviet Union',\n",
    " 'FIN': 'Finland',\n",
    " 'IRQ': 'Iraq',\n",
    " 'NAM': 'Namibia',\n",
    " 'VIE': 'Vietnam',\n",
    " 'SYR': 'Syria',\n",
    " 'TAN': 'Tanzania',\n",
    " 'SWE': 'Sweden',\n",
    " 'IND': 'India',\n",
    " 'ETH': 'Ethiopia',\n",
    " 'IOP': 'Independent Olympic Participants',\n",
    " 'RSA': 'South Africa',\n",
    " 'RU1': 'Russian Empire',\n",
    " 'PER': 'Peru',\n",
    " 'PHI': 'Philippines',\n",
    " 'SUR': 'Suriname',\n",
    " 'PAR': 'Paraguay',\n",
    " 'PAK': 'Pakistan',\n",
    " 'GER': 'Germany',\n",
    " 'SUI': 'Switzerland',\n",
    " 'BAH': 'Bahamas',\n",
    " 'PAN': 'Panama',\n",
    " 'MAS': 'Malaysia',\n",
    " 'AUT': 'Austria',\n",
    " 'TRI': 'Trinidad and Tobago',\n",
    " 'TTO': 'Trinidad and Tobago',\n",
    " 'INA': 'Indonesia',\n",
    " 'HKG': 'Hong Kong',\n",
    " 'SUD': 'Sudan',\n",
    " 'HAI': 'Haiti',\n",
    " 'MGL': 'Mongolia',\n",
    " 'BAR': 'Barbados',\n",
    " 'MDA': 'Moldova',\n",
    " 'MKD': 'Macedonia',\n",
    " 'GRE': 'Greece',\n",
    " 'MNE': 'Montenegro',\n",
    " 'GRN': 'Grenada',\n",
    " 'EGY': 'Egypt',\n",
    " 'BDI': 'Burundi',\n",
    " 'DOM': 'Dominican Republic',\n",
    " 'GUA': 'Guatemala',\n",
    " 'GUY': 'Guyana',\n",
    " 'URU': 'Uruguay',\n",
    " 'PUR': 'Puerto Rico',\n",
    " 'BER': 'Bermuda',\n",
    " 'ECU': 'Ecuador',\n",
    " 'BOH': 'Bohemia',\n",
    " 'BOT': 'Botswana',\n",
    " 'KGZ': 'Kyrgyzstan',\n",
    " 'ZIM': 'Zimbabwe',\n",
    " 'ZZX': 'Mixed Team',\n",
    " 'BRA': 'Brazil',\n",
    " 'BRN': 'Bahrain',\n",
    " 'GEO': 'Georgia',\n",
    " 'BWI': 'West Indies Federation',\n",
    " 'KEN': 'Kenya',\n",
    " 'KUW': 'Kuwait',\n",
    " 'KSA': 'Saudi Arabia',\n",
    " 'RUS': 'Russia',\n",
    " 'ITA': 'Italy',\n",
    " 'GDR': 'East Germany',\n",
    " 'TJK': 'Tajikistan',\n",
    " 'THA': 'Thailand',\n",
    " 'TCH': 'Czechoslovakia',\n",
    " 'FRA': 'France',\n",
    " 'TGA': 'Tonga',\n",
    " 'TOG': 'Togo',\n",
    " 'NIG': 'Niger',\n",
    " 'NGR': 'Nigeria',\n",
    " 'TPE': 'Taipei',\n",
    " 'NED': 'Netherlands',\n",
    " 'FRG': 'West Germany',\n",
    " 'KOR': 'Korea, South',\n",
    " 'CHI': 'Chile',\n",
    " 'CHN': 'China',\n",
    " 'GBR': 'United Kingdom',\n",
    " 'CZE': 'Czech Republic',\n",
    " 'JPN': 'Japan',\n",
    " 'EUN': 'Unified Team',\n",
    " 'CYP': 'Cyprus',\n",
    " 'POL': 'Poland',\n",
    " 'EUA': 'United Team of Germany',\n",
    " 'CMR': 'Cameroon',\n",
    " 'TUR': 'Turkey',\n",
    " 'TUN': 'Tunisia',\n",
    " 'POR': 'Portugal',\n",
    " 'VEN': 'Venezuela',\n",
    " 'SLO': 'Slovenia',\n",
    " 'UGA': 'Uganda',\n",
    " 'UAE': 'United Arab Emirates',\n",
    " 'AUS': 'Australia',\n",
    " 'ISV': 'US Virgin Islands',\n",
    " 'JAM': 'Jamaica',\n",
    " 'MEX': 'Mexico',\n",
    " 'CUB': 'Cuba',\n",
    " 'SGP': 'Singapore',\n",
    " 'SIN': 'Singapore',\n",
    " 'SEN': 'Senegal',\n",
    " 'BLR': 'Belarus',\n",
    " 'QAT': 'Qatar',\n",
    " 'LTU': 'Lithuania',\n",
    " 'DJI': 'Djibouti',\n",
    " 'LAT': 'Latvia',\n",
    " 'BEL': 'Belgium',\n",
    " 'LIB': 'Lebanon',\n",
    " 'SCG': 'Serbia and Montenegro',\n",
    " 'MOZ': 'Mozambique',\n",
    " 'CRC': 'Costa Rica',\n",
    " 'COL': 'Colombia',\n",
    " 'ZAM': 'Zambia',\n",
    " 'HUN': 'Hungary',\n",
    " 'UKR': 'Ukraine',\n",
    " 'MAR': 'Morocco',\n",
    " 'ISL': 'Iceland',\n",
    " 'CRO': 'Croatia',\n",
    " 'GAB': 'Gabon',\n",
    " 'MRI': 'Mauritius',\n",
    " 'CIV': 'Ivory Coast',\n",
    " 'LIE': 'Liechtenstein',\n",
    " 'SRB': 'Serbia',\n",
    " 'SRI': 'Sri Lanka',\n",
    " 'YUG': 'Yugoslavia',\n",
    " 'EST': 'Estonia',\n",
    " 'KAZ': 'Kazakhstan',\n",
    " 'BUL': 'Bulgaria',\n",
    " 'ISR': 'Israel',\n",
    " 'DEN': 'Denmark',\n",
    " 'SVK': 'Slovakia',\n",
    " 'ROU': 'Romania',\n",
    " 'ESP': 'Spain',\n",
    " 'PRK': 'Korea, North',\n",
    " 'LUX': 'Luxembourg',\n",
    " 'NZL': 'New Zealand',\n",
    " 'UZB': 'Uzbekistan'}"
   ]
  },
  {
   "cell_type": "markdown",
   "metadata": {},
   "source": [
    "**Question 3.1.** Using the dictionary `country_codes`, define a function named `code_to_country` that takes as input a country code and returns the corresponding country's name. This should only take one line of code.\n",
    "\n",
    "_**Hint 1:**_ Take a look at the DSC 30 example if you're stuck.\n",
    "\n",
    "_**Hint 2:**_ Once you've implemented `code_to_country`, you should verify that it works as intended by trying a few examples yourself. The public tests will **not** do this for you."
   ]
  },
  {
   "cell_type": "code",
   "execution_count": null,
   "metadata": {},
   "outputs": [],
   "source": [
    "def code_to_country(code):\n",
    "    ..."
   ]
  },
  {
   "cell_type": "code",
   "execution_count": null,
   "metadata": {
    "deletable": false,
    "editable": false
   },
   "outputs": [],
   "source": [
    "grader.check(\"q3_1\")"
   ]
  },
  {
   "cell_type": "markdown",
   "metadata": {},
   "source": [
    "**Question 3.2.** Use your `code_to_country` function and the `.apply` method to convert all of the country codes in the `'Country'` column of `winter_data` into country names. Do this without creating an additional column. Assign the resulting DataFrame to the variable name `winter`.\n",
    "\n",
    "_**Hint:**_ Is there a way to use the `.assign` method to *replace* values in this column without creating an additional column?\n",
    "\n",
    "**Important**: For the rest of the questions in this section, use the DataFrame `winter` instead of `winter_data`."
   ]
  },
  {
   "cell_type": "code",
   "execution_count": null,
   "metadata": {},
   "outputs": [],
   "source": [
    "winter = ...\n",
    "winter"
   ]
  },
  {
   "cell_type": "code",
   "execution_count": null,
   "metadata": {
    "deletable": false,
    "editable": false
   },
   "outputs": [],
   "source": [
    "grader.check(\"q3_2\")"
   ]
  },
  {
   "cell_type": "markdown",
   "metadata": {},
   "source": [
    "**Question 3.3.** \n",
    "Define a function named `avg_name_length` that returns the average length of an individual's first and last name. It should take as an input the name of an individual, as a string in the format `'lastname, firstname'`. Because we assume that the input is in this format, people with middle names or multiple first or last names will have all such names counted as part of `'lastname'` or `'firstname'`. \n",
    "\n",
    "For example:\n",
    "- `avg_name_length('Rampure, Suraj')` should return 6.0, the average of 7 and 5.\n",
    "- `avg_name_length('Tiefenbruck, Janine LoBue')` should return 11.5, the average of 11 and 12. Notice that `'Janine LoBue'` is being counted as the `'firstname'` and its length is 12, which includes the space.\n",
    "\n",
    "_**Hint 1:**_ The string method [`.split()`](https://docs.python.org/3/library/stdtypes.html#str.split) will be useful in splitting the name into `'lastname'` and `'firstname'`.\n",
    "\n",
    "_**Hint 2:**_ Notice that there is a space after the comma, which we are not counting as part of either name's length."
   ]
  },
  {
   "cell_type": "code",
   "execution_count": null,
   "metadata": {},
   "outputs": [],
   "source": [
    "def avg_name_length(full_name):\n",
    "    ...\n",
    "    \n",
    "# Test cases for your own reference. Feel free to test out more!\n",
    "print(avg_name_length('Skywalker, Luke'))  # Should print 6.5\n",
    "print(avg_name_length('Schmidt, John Jacob Jingleheimer')) # Should print 15.0"
   ]
  },
  {
   "cell_type": "code",
   "execution_count": null,
   "metadata": {
    "deletable": false,
    "editable": false
   },
   "outputs": [],
   "source": [
    "grader.check(\"q3_3\")"
   ]
  },
  {
   "cell_type": "markdown",
   "metadata": {},
   "source": [
    "**Question 3.4.** Create a DataFrame called `avg_names` with columns `'Year'`, `'Sport'`, `'Athlete'` and `'Country'` and a new column `'Avg_Name_Length'` that has the average first and last name length for each athlete, sorted with the longest average name length at the top and shortest at the bottom.\n",
    "\n",
    "**Note**: The `'Country'` column should have full country names, not IOC codes."
   ]
  },
  {
   "cell_type": "code",
   "execution_count": null,
   "metadata": {},
   "outputs": [],
   "source": [
    "avg_names = ...\n",
    "avg_names"
   ]
  },
  {
   "cell_type": "code",
   "execution_count": null,
   "metadata": {
    "deletable": false,
    "editable": false
   },
   "outputs": [],
   "source": [
    "grader.check(\"q3_4\")"
   ]
  },
  {
   "cell_type": "markdown",
   "metadata": {},
   "source": [
    "**Question 3.5.** What is the length of the longest average name? Assign this number to `longest_avg_name_length`. What is the length of the shortest average name? Assign this number to `shortest_avg_name_length`. What is the absolute difference between the longest and shortest average names? Assign this number to `range_avg_name_length`."
   ]
  },
  {
   "cell_type": "code",
   "execution_count": null,
   "metadata": {},
   "outputs": [],
   "source": [
    "longest_avg_name_length = ...\n",
    "shortest_avg_name_length = ...\n",
    "range_avg_name_length = ...\n",
    "print('Longest average name length:', longest_avg_name_length)\n",
    "print('Shortest average name length:', shortest_avg_name_length)\n",
    "print('Range of average name length:', range_avg_name_length)"
   ]
  },
  {
   "cell_type": "code",
   "execution_count": null,
   "metadata": {
    "deletable": false,
    "editable": false
   },
   "outputs": [],
   "source": [
    "grader.check(\"q3_5\")"
   ]
  },
  {
   "cell_type": "markdown",
   "metadata": {},
   "source": [
    "**Question 3.6.** Create a function named `median_values` that takes as an input the name of a sport and returns the median of the average first and last name length for all Olympians belonging to that sport. For example, `median_values('Skiing')` should return the median of the average name lengths for all Skiing atheletes.\n",
    "\n",
    "_**Hint:**_ Within the body of `median_values`, use a DataFrame you've already created."
   ]
  },
  {
   "cell_type": "code",
   "execution_count": null,
   "metadata": {},
   "outputs": [],
   "source": [
    "def median_values(sport):\n",
    "    ..."
   ]
  },
  {
   "cell_type": "code",
   "execution_count": null,
   "metadata": {
    "deletable": false,
    "editable": false
   },
   "outputs": [],
   "source": [
    "grader.check(\"q3_6\")"
   ]
  },
  {
   "cell_type": "markdown",
   "metadata": {},
   "source": [
    "**Question 3.7.** Create a horizontal bar chart that displays the median of the average name length of all Olympians from each sport.\n",
    "\n",
    "_**Hint:**_ There are only seven unique sports for which we have data, so your bar chart should only have 7 bars."
   ]
  },
  {
   "cell_type": "markdown",
   "metadata": {
    "deletable": false,
    "editable": false
   },
   "source": [
    "<!-- BEGIN QUESTION -->\n",
    "\n",
    "<!--\n",
    "BEGIN QUESTION\n",
    "name: q3_7\n",
    "manual: true\n",
    "-->"
   ]
  },
  {
   "cell_type": "code",
   "execution_count": null,
   "metadata": {},
   "outputs": [],
   "source": [
    "# Create your plot here\n",
    "..."
   ]
  },
  {
   "cell_type": "markdown",
   "metadata": {},
   "source": [
    "<!-- END QUESTION -->\n",
    "\n",
    "\n",
    "\n",
    "**Question 3.8.** Define a function named `point_total` that takes in a full country name (not IOC code) and returns the total number of points that country has earned at the Olympics. In the Olympics, countries get 4 points for every bronze, 5 points for every silver, and 10 points for every gold medal.\n",
    "\n",
    "_**Hint:**_ Make sure that your function works for countries that don't have any medals of a particular type. If you aren't able to accomplish this using grouping, try another strategy!"
   ]
  },
  {
   "cell_type": "code",
   "execution_count": null,
   "metadata": {},
   "outputs": [],
   "source": [
    "def point_total(country):\n",
    "    ..."
   ]
  },
  {
   "cell_type": "code",
   "execution_count": null,
   "metadata": {
    "deletable": false,
    "editable": false
   },
   "outputs": [],
   "source": [
    "grader.check(\"q3_8\")"
   ]
  },
  {
   "cell_type": "markdown",
   "metadata": {},
   "source": [
    "**Question 3.9.** Among the five countries listed below, which has the **third highest** point total, using the points system from 3.8?\n",
    "\n",
    "-  `'United States'`\n",
    "-  `'Canada'`\n",
    "-  `'Sweden'`\n",
    "-  `'China'`\n",
    "-  `'France'`\n",
    "\n",
    "Save the name (not IOC code) of the country as `country` and the country's number of points as `points`. You can set the value of `country` and `points` by hand.\n",
    "\n",
    "_**Hint:**_ Use a previously defined function to help!"
   ]
  },
  {
   "cell_type": "code",
   "execution_count": null,
   "metadata": {},
   "outputs": [],
   "source": [
    "country = ...\n",
    "points = ..."
   ]
  },
  {
   "cell_type": "code",
   "execution_count": null,
   "metadata": {
    "deletable": false,
    "editable": false
   },
   "outputs": [],
   "source": [
    "grader.check(\"q3_9\")"
   ]
  },
  {
   "cell_type": "markdown",
   "metadata": {},
   "source": [
    "The following cell creates a DataFrame, `top_countries`, that contains the top 10 countries historically using the points system from 3.8:"
   ]
  },
  {
   "cell_type": "code",
   "execution_count": null,
   "metadata": {},
   "outputs": [],
   "source": [
    "# Run this cell, DO NOT change it.\n",
    "countries_points = bpd.DataFrame().assign(Country = np.array(['France', 'Switzerland', 'Finland', 'Belgium', 'United Kingdom',\n",
    "                      'Sweden', 'Canada', 'United States', 'Austria', 'Norway',\n",
    "                      'Germany', 'Czechoslovakia', 'Hungary', 'Italy', 'West Germany',\n",
    "                      'Netherlands', 'Soviet Union', 'United Team of Germany', 'Japan',\n",
    "                      'Poland', 'Korea, North', 'Romania', 'East Germany', 'Spain',\n",
    "                      'Liechtenstein', 'Bulgaria', 'Yugoslavia', 'Unified Team',\n",
    "                      'Korea, South', 'China', 'Luxembourg', 'New Zealand', 'Russia',\n",
    "                      'Ukraine', 'Belarus', 'Australia', 'Slovenia', 'Kazakhstan',\n",
    "                      'Uzbekistan', 'Denmark', 'Czech Republic', 'Croatia', 'Estonia',\n",
    "                      'Latvia', 'Slovakia']))\n",
    "top_countries = countries_points.assign(Points = countries_points.get('Country').apply(point_total)).sort_values('Points', ascending = False).reset_index(drop=True).iloc[:10]\n",
    "top_countries"
   ]
  },
  {
   "cell_type": "markdown",
   "metadata": {},
   "source": [
    "For comparison, here is a table of the top 10 countries in the most recent Winter Olympics (Peyongchang 2018) determined using the same points system. The data was obtained from [this](https://www.nytimes.com/interactive/2018/sports/olympics/medal-count-results-schedule.html) article.\n",
    "\n",
    "|Country|Points|\n",
    "|------|-----------|\n",
    "|Norway|254|\n",
    "|Germany|218|\n",
    "|Canada|190|\n",
    "|United States|154|\n",
    "|Netherlands|134|\n",
    "|South Korea|106|\n",
    "|Sweden|104|\n",
    "|Switzerland|96|\n",
    "|France|94|\n",
    "|Austria|89|\n",
    "\n",
    "**Question 3.10.** Below, make two observations regarding the relationship between the two tables (the historical standings in the `top_countries` DataFrame and the 2018 standings above).\n",
    "\n",
    "_**Note:**_ There are many potential observations, we are just asking you for two. An example observation (which you cannot use in your answer) is \"Canada is in the top 3 of both tables.\""
   ]
  },
  {
   "cell_type": "markdown",
   "metadata": {},
   "source": [
    "_Type your answer here, replacing this text._"
   ]
  },
  {
   "cell_type": "markdown",
   "metadata": {},
   "source": [
    "## 4. Histograms 🧑‍💻"
   ]
  },
  {
   "cell_type": "markdown",
   "metadata": {},
   "source": [
    "Suppose we have a DataFrame called `data` with two numerical columns, `'x'` and `'y'`. Consider the following scatter plot, which was generated by calling `data.plot(kind='scatter', x='x', y='y')`:\n",
    "\n",
    "<img src=\"./images/q4_scatter.png\" width=450/>\n",
    "\n",
    "Now consider these two histograms:\n",
    "\n",
    "**Histogram A**:\n",
    "\n",
    "<img src=\"./images/q4_hist_one.png\" width=450/>\n",
    "\n",
    "**Histogram B**:\n",
    "\n",
    "<img src=\"./images/q4_hist_two.png\" width=450/>"
   ]
  },
  {
   "cell_type": "markdown",
   "metadata": {},
   "source": [
    "**Question 4.1.** Which of these two lines of code generated Histogram A? Assign either `1` or `2` to `which_code`.\n",
    " 1. `data.plot(kind='hist', density=True, y='x')`\n",
    " 2. `data.plot(kind='hist', density=True, y='y')`  "
   ]
  },
  {
   "cell_type": "code",
   "execution_count": null,
   "metadata": {},
   "outputs": [],
   "source": [
    "which_code = ..."
   ]
  },
  {
   "cell_type": "code",
   "execution_count": null,
   "metadata": {
    "deletable": false,
    "editable": false
   },
   "outputs": [],
   "source": [
    "grader.check(\"q4_1\")"
   ]
  },
  {
   "cell_type": "markdown",
   "metadata": {},
   "source": [
    "**Question 4.2.** Suppose we run this block of code:\n",
    "\n",
    "```py\n",
    "new_data = bpd.DataFrame().assign(\n",
    "    x = data.get('x') / 4,\n",
    "    y = data.get('y')\n",
    ")\n",
    "```\n",
    "    \n",
    "We then run `new_data.plot(kind='hist', density=True, y='x')`. How will this new histogram look compared to the original histogram, `data.plot(kind='hist', density=True, y='x')`, assuming both histograms are drawn on the same scale, with fixed axes? Assign `histogram_difference` to either 1, 2, 3, or 4, corresponding to your choice.\n",
    "\n",
    "1. The new histogram will be wider and taller than the original histogram.\n",
    "2. The new histogram will be wider and shorter than the original histogram.\n",
    "3. The new histogram will be narrower and taller than the original histogram.\n",
    "4. The new histogram will be narrower and shorter than the original histogram.\n",
    "\n",
    "_**Hint:**_ Look at the end of Lecture 8 for an example of two histograms drawn on the same scale with fixed axes."
   ]
  },
  {
   "cell_type": "code",
   "execution_count": null,
   "metadata": {},
   "outputs": [],
   "source": [
    "histogram_difference = ..."
   ]
  },
  {
   "cell_type": "code",
   "execution_count": null,
   "metadata": {
    "deletable": false,
    "editable": false
   },
   "outputs": [],
   "source": [
    "grader.check(\"q4_2\")"
   ]
  },
  {
   "cell_type": "markdown",
   "metadata": {},
   "source": [
    "**Question 4.3.** Below, we show Histogram B again.\n",
    "\n",
    "<img src=\"./images/q4_hist_two.png\" width=450/>\n",
    "\n",
    "What **percent** of values in Histogram B are between -5 (inclusive) and -2 (exclusive)? While we cannot answer this question exactly since we do not know where the bins start and end, we can still approximate the answer. Assign the variable `are_between` to a number 1 through 5, corresponding to the closest answer.\n",
    "\n",
    "1. 10% \n",
    "2. 13% \n",
    "3. 25%\n",
    "4. 38%\n",
    "5. 52%"
   ]
  },
  {
   "cell_type": "code",
   "execution_count": null,
   "metadata": {},
   "outputs": [],
   "source": [
    "are_between = ..."
   ]
  },
  {
   "cell_type": "code",
   "execution_count": null,
   "metadata": {
    "deletable": false,
    "editable": false
   },
   "outputs": [],
   "source": [
    "grader.check(\"q4_3\")"
   ]
  },
  {
   "cell_type": "markdown",
   "metadata": {},
   "source": [
    "## Finish Line "
   ]
  },
  {
   "cell_type": "markdown",
   "metadata": {},
   "source": [
    "To submit your assignment:\n",
    "\n",
    "1. Select `Kernel -> Restart & Run All` to ensure that you have executed all cells, including the test cells.\n",
    "2. Read through the notebook to make sure everything is fine and all tests passed.\n",
    "3. Run the cell below to run all tests, and make sure that they all pass.\n",
    "4. Download your notebook using `File -> Download as -> Notebook (.ipynb)`, then upload your notebook to Gradescope."
   ]
  },
  {
   "cell_type": "code",
   "execution_count": null,
   "metadata": {},
   "outputs": [],
   "source": [
    "grader.check_all()"
   ]
  }
 ],
 "metadata": {
  "kernelspec": {
   "display_name": "Python 3",
   "language": "python",
   "name": "python3"
  },
  "language_info": {
   "codemirror_mode": {
    "name": "ipython",
    "version": 3
   },
   "file_extension": ".py",
   "mimetype": "text/x-python",
   "name": "python",
   "nbconvert_exporter": "python",
   "pygments_lexer": "ipython3",
   "version": "3.7.4"
  },
  "toc": {
   "base_numbering": 1,
   "nav_menu": {},
   "number_sections": true,
   "sideBar": true,
   "skip_h1_title": false,
   "title_cell": "Table of Contents",
   "title_sidebar": "Contents",
   "toc_cell": false,
   "toc_position": {},
   "toc_section_display": true,
   "toc_window_display": false
  }
 },
 "nbformat": 4,
 "nbformat_minor": 4
}
