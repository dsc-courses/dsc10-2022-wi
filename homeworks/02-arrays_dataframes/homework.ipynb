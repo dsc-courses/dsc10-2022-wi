{
 "cells": [
  {
   "cell_type": "markdown",
   "metadata": {},
   "source": [
    "# Homework 2: Arrays and DataFrames\n",
    "\n",
    "## Due Saturday, January 22nd at 11:59pm\n",
    "\n",
    "Welcome to Homework 2! This week's homework will cover arrays and DataFrames in Python. You can find additional help on these topics in [Notes 7-11](https://notes.dsc10.com/02-data_sets/arrays.html) in the course notes."
   ]
  },
  {
   "cell_type": "markdown",
   "metadata": {},
   "source": [
    "### Instructions\n",
    "\n",
    "This assignment is due Saturday, January 22nd at 11:59pm. You are given six slip days throughout the quarter to extend deadlines. See the syllabus for more details. With the exception of using slip days, late work will not be accepted unless you have made special arrangements with your instructor.\n",
    "\n",
    "**Important**: For homeworks, the `otter` tests don't usually tell you that your answer is correct. More often, they help catch careless mistakes. It's up to you to ensure that your answer is correct. If you're not sure, ask someone (not for the answer, but for some guidance about your approach). These are great questions for office hours (see the schedule on the [Calendar](https://dsc10.com/calendar)) or Campuswire. Directly sharing answers is not okay, but discussing problems with the course staff or with other students is encouraged. \n",
    "\n",
    "**Please do not use for-loops for any questions in this homework.** If you don't know what a for-loop is, don't worry -- we haven't covered them yet. But if you do know what they are and are wondering why it's not OK to use them, it is because loops in Python are slow, and looping over arrays and DataFrames should usually be avoided."
   ]
  },
  {
   "cell_type": "code",
   "execution_count": null,
   "metadata": {},
   "outputs": [],
   "source": [
    "# Don't change this cell; just run it. \n",
    "import numpy as np\n",
    "import babypandas as bpd\n",
    "\n",
    "import otter\n",
    "grader = otter.Notebook()"
   ]
  },
  {
   "cell_type": "markdown",
   "metadata": {},
   "source": [
    "## 1. Arrays ☀️"
   ]
  },
  {
   "cell_type": "markdown",
   "metadata": {},
   "source": [
    "**Question 1.1** Make an array called `funky_numbers` containing the following numbers (in the given order):\n",
    "\n",
    "1. The square of the mathematical constant $e$ (**not** the square root)\n",
    "2. $2^8 - 3^4$\n",
    "3. The square root of 19\n",
    "4. The factorial of 11\n",
    "5. 14 radians, in degrees\n",
    "\n",
    "*Hint:* Take a look at the functions and constants in the `numpy` module, which has been imported as `np`. If you're unsure of what function to use, a quick Google search should do the trick. Do **not** import `math`. "
   ]
  },
  {
   "cell_type": "code",
   "execution_count": null,
   "metadata": {
    "scrolled": true
   },
   "outputs": [],
   "source": [
    "funky_numbers = ...\n",
    "funky_numbers"
   ]
  },
  {
   "cell_type": "code",
   "execution_count": null,
   "metadata": {
    "deletable": false,
    "editable": false
   },
   "outputs": [],
   "source": [
    "grader.check(\"q1_1\")"
   ]
  },
  {
   "cell_type": "markdown",
   "metadata": {
    "deletable": false,
    "editable": false
   },
   "source": [
    "**Question 1.2.** Make an array called `pieces` containing the following three strings:\n",
    "- `'Look at that huge'`\n",
    "- `'hot dog'`\n",
    "- `'Mom!'`\n",
    "\n",
    "<!--\n",
    "BEGIN QUESTION\n",
    "name: q1_2\n",
    "-->"
   ]
  },
  {
   "cell_type": "code",
   "execution_count": null,
   "metadata": {},
   "outputs": [],
   "source": [
    "pieces = ...\n",
    "pieces"
   ]
  },
  {
   "cell_type": "code",
   "execution_count": null,
   "metadata": {
    "deletable": false,
    "editable": false
   },
   "outputs": [],
   "source": [
    "grader.check(\"q1_2\")"
   ]
  },
  {
   "cell_type": "markdown",
   "metadata": {},
   "source": [
    "<center><img src='data/hot-dog.png' width=400><a href=\"https://woolseryprimaryschool.edublogs.org/2017/11/11/eats-shoots-and-leaves-the-power-of-a-comma/#jp-carousel-19505\">source</a></center>\n",
    "\n",
    "Strings have a method called `join`.  `join` takes one argument, an array of strings, and it returns a single string. Specifically, the value of `some_string.join(some_array)` is a single string that's the concatenation (\"putting together\") of all the strings in `some_array`, *except* `some_string` is inserted in between each string.\n",
    "\n",
    "Read that again if you need to!\n",
    "\n",
    "**Question 1.3.** Use the array `pieces` and the method `join` to make two strings:\n",
    "\n",
    "1. `'Look at that huge, hot dog, Mom!'` (call this one `comma_separated`)\n",
    "2. `'Look at that huge hot dog Mom!'` (call this one `space_separated`)\n",
    "\n",
    "*Hint:* If you're not quite sure what `join` does, first try calling, for example, `'ucsd'.join(words)` ."
   ]
  },
  {
   "cell_type": "code",
   "execution_count": null,
   "metadata": {},
   "outputs": [],
   "source": [
    "comma_separated = ...\n",
    "space_separated = ...\n",
    "print(comma_separated)\n",
    "print(space_separated)"
   ]
  },
  {
   "cell_type": "code",
   "execution_count": null,
   "metadata": {
    "deletable": false,
    "editable": false
   },
   "outputs": [],
   "source": [
    "grader.check(\"q1_3\")"
   ]
  },
  {
   "cell_type": "markdown",
   "metadata": {},
   "source": [
    "Now let's get some practice with accessing individual elements of arrays.  In Python (and in many programming languages), elements are accessed by *integer position*, with the position of the first element being zero.  "
   ]
  },
  {
   "cell_type": "markdown",
   "metadata": {},
   "source": [
    "**Question 1.4.** The cell below creates an array of strings."
   ]
  },
  {
   "cell_type": "code",
   "execution_count": null,
   "metadata": {
    "scrolled": true
   },
   "outputs": [],
   "source": [
    "some_emojis = np.array(['😂', '👀', '‼️', '😡', '😱', '🐼', '😇', '🥑'])\n",
    "some_emojis"
   ]
  },
  {
   "cell_type": "markdown",
   "metadata": {},
   "source": [
    "What is the integer position of `'‼️'` in the array? You can just type in the answer, which should be of type `int`. This is a conceptual question, not a coding question."
   ]
  },
  {
   "cell_type": "code",
   "execution_count": null,
   "metadata": {},
   "outputs": [],
   "source": [
    "exclaim_position = ...\n",
    "exclaim_position"
   ]
  },
  {
   "cell_type": "code",
   "execution_count": null,
   "metadata": {
    "deletable": false,
    "editable": false
   },
   "outputs": [],
   "source": [
    "grader.check(\"q1_4\")"
   ]
  },
  {
   "cell_type": "markdown",
   "metadata": {},
   "source": [
    "**Question 1.5.** Suppose you have an array with 1000 elements. At what integer position is the third last element of this array? You can just type in the answer, which should be of type `int`. This is a conceptual question, not a coding question."
   ]
  },
  {
   "cell_type": "code",
   "execution_count": null,
   "metadata": {},
   "outputs": [],
   "source": [
    "third_last_position = ...\n",
    "third_last_position"
   ]
  },
  {
   "cell_type": "code",
   "execution_count": null,
   "metadata": {
    "deletable": false,
    "editable": false
   },
   "outputs": [],
   "source": [
    "grader.check(\"q1_5\")"
   ]
  },
  {
   "cell_type": "markdown",
   "metadata": {},
   "source": [
    "By the way, you can also use negative integer positions to access elements from the end of the array. Use -1 to get the last element, -2 to get the second-to-last element and so on. For example, to find the last element of `some_strings`:"
   ]
  },
  {
   "cell_type": "code",
   "execution_count": null,
   "metadata": {},
   "outputs": [],
   "source": [
    "some_emojis[-1]"
   ]
  },
  {
   "cell_type": "markdown",
   "metadata": {},
   "source": [
    "**Question 1.6.** Suppose you have an array with 153 elements. At what integer position is the middle element of this array? You can just type in the answer, which should be of type `int`. This is a conceptual question, not a coding question."
   ]
  },
  {
   "cell_type": "code",
   "execution_count": null,
   "metadata": {},
   "outputs": [],
   "source": [
    "mid_position = ...\n",
    "mid_position"
   ]
  },
  {
   "cell_type": "code",
   "execution_count": null,
   "metadata": {
    "deletable": false,
    "editable": false
   },
   "outputs": [],
   "source": [
    "grader.check(\"q1_6\")"
   ]
  },
  {
   "cell_type": "markdown",
   "metadata": {},
   "source": [
    "## 2. Politics! 🐘🐴"
   ]
  },
  {
   "cell_type": "markdown",
   "metadata": {},
   "source": [
    "The table below shows data on the eight most populated counties in California. The data comes from the 2020 Presidential Elections, and was compiled and curated by Politico on their website [California 2020 Election Results](https://www.politico.com/2020-election/results/california/).\n",
    "\n",
    "For each county in the table, we have the `'Vote Count'`, which estimates the number of votes cast in that county, and the `'Biden Share'`, which is the proportion of voters who voted for Joe Biden. Throughout this problem, we'll use *Biden* to mean voted for Biden and *Trump* to mean voted for Trump. We will assume that each voter fits into exactly one of these two categories.\n",
    "\n",
    "|County|Vote Count|Biden Share|\n",
    "|---|---|---|\n",
    "|Los Angeles County|4174000|0.710|\n",
    "|San Diego County|1565000|0.602|\n",
    "|Orange County|1491000|0.535|\n",
    "|Riverside County|977000|0.530|\n",
    "|Santa Clara County|833000|0.727|\n",
    "|San Bernardino County|822000|0.542|\n",
    "|Alameda County|754000|0.802|\n",
    "|Sacramento County|700000|0.614|\n",
    "\n",
    "In this question, we'll be working with the data from the `'Vote Count'` and `'Biden Share'` columns as *arrays*. Here are those arrays:"
   ]
  },
  {
   "cell_type": "code",
   "execution_count": null,
   "metadata": {
    "scrolled": true
   },
   "outputs": [],
   "source": [
    "count = np.array([4174000, 1565000, 1491000, 977000, 833000, 822000, 754000, 700000])\n",
    "count"
   ]
  },
  {
   "cell_type": "code",
   "execution_count": null,
   "metadata": {},
   "outputs": [],
   "source": [
    "biden_share = np.array([0.710, 0.602, 0.535, 0.530, 0.727, 0.542, 0.802, 0.614])\n",
    "biden_share"
   ]
  },
  {
   "cell_type": "markdown",
   "metadata": {},
   "source": [
    "Remember, the `numpy` package (`np` for short) provides many handy functions for working with arrays. These are specifically designed to work with arrays and are faster than using Python's built-in functions. \n",
    "\n",
    "Some frequently used array functions are `np.min()`, `np.max()`, `np.sum()`, `np.abs()`, and `np.round()`. There are many more, which you can browse by typing `np.` into a code cell and hitting the *tab* key."
   ]
  },
  {
   "cell_type": "markdown",
   "metadata": {},
   "source": [
    "**Question 2.1.** What proportion of the voters in each county are Trump voters? Store the Trump share proportions for each county in a new array called `trump_share`. "
   ]
  },
  {
   "cell_type": "code",
   "execution_count": null,
   "metadata": {},
   "outputs": [],
   "source": [
    "trump_share = ...\n",
    "trump_share"
   ]
  },
  {
   "cell_type": "code",
   "execution_count": null,
   "metadata": {
    "deletable": false,
    "editable": false
   },
   "outputs": [],
   "source": [
    "grader.check(\"q2_1\")"
   ]
  },
  {
   "cell_type": "markdown",
   "metadata": {},
   "source": [
    "**Question 2.2.** Now let's find the gap between the Biden share and Trump share for each county. Use `biden_share` and `trump_share` to create an array called `gaps` containing the absolute differences between the Biden and Trump share for each county."
   ]
  },
  {
   "cell_type": "code",
   "execution_count": null,
   "metadata": {},
   "outputs": [],
   "source": [
    "gaps = ...\n",
    "gaps"
   ]
  },
  {
   "cell_type": "code",
   "execution_count": null,
   "metadata": {
    "deletable": false,
    "editable": false
   },
   "outputs": [],
   "source": [
    "grader.check(\"q2_2\")"
   ]
  },
  {
   "cell_type": "markdown",
   "metadata": {},
   "source": [
    "**Question 2.3.** Now, find the gap between the Biden share and Trump share for each county, but this time, you're only allowed to use the variable `biden_share`. You may not use `trump_share`. Create an array called `gaps_again` containing the absolute differences between the Biden share and Trump share for each county. The answer will be the same as the last question, but your method should be different."
   ]
  },
  {
   "cell_type": "code",
   "execution_count": null,
   "metadata": {},
   "outputs": [],
   "source": [
    "gaps_again = ...\n",
    "gaps_again"
   ]
  },
  {
   "cell_type": "code",
   "execution_count": null,
   "metadata": {
    "deletable": false,
    "editable": false
   },
   "outputs": [],
   "source": [
    "grader.check(\"q2_3\")"
   ]
  },
  {
   "cell_type": "markdown",
   "metadata": {},
   "source": [
    "**Question 2.4.** You might say that the most bipartisan county is the one with the smallest gap. Find the smallest value in the `gaps` array and save it as `smallest_gap`. Referring back to the table, try to figure out which county that is!"
   ]
  },
  {
   "cell_type": "code",
   "execution_count": null,
   "metadata": {},
   "outputs": [],
   "source": [
    "smallest_gap = ...\n",
    "smallest_gap"
   ]
  },
  {
   "cell_type": "code",
   "execution_count": null,
   "metadata": {
    "deletable": false,
    "editable": false
   },
   "outputs": [],
   "source": [
    "grader.check(\"q2_4\")"
   ]
  },
  {
   "cell_type": "markdown",
   "metadata": {},
   "source": [
    "**Question 2.5.** Create an array called `biden_count` containing the estimated number of Biden voters in each county, and another called `trump_count` containing the estimated number of Trump voters in each county. Make sure to round each value to the nearest whole number."
   ]
  },
  {
   "cell_type": "code",
   "execution_count": null,
   "metadata": {},
   "outputs": [],
   "source": [
    "biden_count = ...\n",
    "trump_count = ..."
   ]
  },
  {
   "cell_type": "code",
   "execution_count": null,
   "metadata": {
    "deletable": false,
    "editable": false
   },
   "outputs": [],
   "source": [
    "grader.check(\"q2_5\")"
   ]
  },
  {
   "cell_type": "markdown",
   "metadata": {},
   "source": [
    "**Question 2.6.** You might say that the most bipartisan county is the one for which the number of Biden voters in that county is closest to the number of Trump voters in that county. Assign `smallest_diff` to the smallest absolute difference between the number of Biden voters and number of Trump voters, among the given counties. Again, referring back to the table, try to figure out which county that is!"
   ]
  },
  {
   "cell_type": "code",
   "execution_count": null,
   "metadata": {},
   "outputs": [],
   "source": [
    "smallest_diff = ...\n",
    "smallest_diff"
   ]
  },
  {
   "cell_type": "code",
   "execution_count": null,
   "metadata": {
    "deletable": false,
    "editable": false
   },
   "outputs": [],
   "source": [
    "grader.check(\"q2_6\")"
   ]
  },
  {
   "cell_type": "markdown",
   "metadata": {},
   "source": [
    "**Question 2.7.** Perhaps instead of working with proportions as we've done here, you prefer to work with percentages. Create an array called `biden_percentage` that contains the percentage of Biden voters in each county. Similarly, create an array `trump_percentage` with the percentage of Trump voters in each county."
   ]
  },
  {
   "cell_type": "code",
   "execution_count": null,
   "metadata": {},
   "outputs": [],
   "source": [
    "biden_percentage = ...\n",
    "trump_percentage = ..."
   ]
  },
  {
   "cell_type": "code",
   "execution_count": null,
   "metadata": {
    "deletable": false,
    "editable": false
   },
   "outputs": [],
   "source": [
    "grader.check(\"q2_7\")"
   ]
  },
  {
   "cell_type": "markdown",
   "metadata": {},
   "source": [
    "## 3. Analyzing NBA Salaries 🏀"
   ]
  },
  {
   "cell_type": "markdown",
   "metadata": {},
   "source": [
    "<img src=\"./data/75th_year_nba.png\" width = 500/>\n",
    "\n",
    "The file named `nba_salaries.csv` in the `data/` directory contains data on professional men's basketball players in the NBA from 1985-2018. This data contains players and their salaries for each year they played. The following table contains more information about the columns. The file named `nba_17.csv` in the `data/` directory contains a subset of the data, containing only the 2017-18 data.\n",
    "\n",
    "| Column      | Description |\n",
    "| ----------- | ----------- |\n",
    "| `'name'`      | Player name       |\n",
    "| `'season'`   | NBA season        |\n",
    "| `'salary'` | Salary (not adjusted for inflation) |\n",
    "| `'team'` | Player's current team | \n",
    "| `'position'` | Position(s) the player was in throughout his career | \n",
    "| `'draft_pick'` | Overall draft rank (if drafted)|\n",
    "| `'draft_year'` | Year drafted into the NBA (if drafted) |\n",
    "\n",
    "Note that this is not the same dataset as we used in Lecture 5. Also note that these player salaries are:\n",
    "1. Not adjusted for inflation.\n",
    "2. Not adjusted for the salary cap (the limit that an NBA team can pay its players in total): the salary cap increased from around \\\\$35M in 2000 to around \\$120M in 2020, so salaries will likely be higher now!"
   ]
  },
  {
   "cell_type": "markdown",
   "metadata": {},
   "source": [
    "**Question 3.1.** Read the file containing all salaries from 1985-2018 into a DataFrame called `salaries`. Read the file containing the 2017-18 salaries into a DataFrame called `nba_17`.\n",
    "\n",
    "*Note:* You should be calling `bpd.read_csv` twice."
   ]
  },
  {
   "cell_type": "code",
   "execution_count": null,
   "metadata": {},
   "outputs": [],
   "source": [
    "salaries = ...\n",
    "nba_17 = ..."
   ]
  },
  {
   "cell_type": "code",
   "execution_count": null,
   "metadata": {
    "deletable": false,
    "editable": false
   },
   "outputs": [],
   "source": [
    "grader.check(\"q3_1\")"
   ]
  },
  {
   "cell_type": "markdown",
   "metadata": {},
   "source": [
    "**Note:** In questions 3.2 to 3.6, you will use `nba_17`. For all other questions, you will use `salaries`."
   ]
  },
  {
   "cell_type": "markdown",
   "metadata": {},
   "source": [
    "**Question 3.2.** Set the index of `nba_17` to be `'player_id'`. Save this DataFrame in `nba_17_id`."
   ]
  },
  {
   "cell_type": "code",
   "execution_count": null,
   "metadata": {
    "scrolled": true
   },
   "outputs": [],
   "source": [
    "nba_17_id = ...\n",
    "nba_17_id"
   ]
  },
  {
   "cell_type": "code",
   "execution_count": null,
   "metadata": {
    "deletable": false,
    "editable": false
   },
   "outputs": [],
   "source": [
    "grader.check(\"q3_2\")"
   ]
  },
  {
   "cell_type": "markdown",
   "metadata": {},
   "source": [
    "What is the benefit of using `'player_id'` as the index rather than `'name'`? (You don't have to answer this question anywhere, but you should think about it.)"
   ]
  },
  {
   "cell_type": "markdown",
   "metadata": {},
   "source": [
    "**Question 3.3.** In the 2017-18 season, James Harden of the Houston Rockets won the MVP (Most Valuable Player) award. Using DataFrame operations, assign `harden_17` to his salary during the 2017-18 season. The `'player_id'` for James Harden is `'hardeja01'`."
   ]
  },
  {
   "cell_type": "code",
   "execution_count": null,
   "metadata": {},
   "outputs": [],
   "source": [
    "harden_17 = ...\n",
    "harden_17"
   ]
  },
  {
   "cell_type": "code",
   "execution_count": null,
   "metadata": {
    "deletable": false,
    "editable": false
   },
   "outputs": [],
   "source": [
    "grader.check(\"q3_3\")"
   ]
  },
  {
   "cell_type": "markdown",
   "metadata": {},
   "source": [
    "**Question 3.4.** Assign `tenth_highest_salary` to the tenth highest salary during the 2017-18 season. Assign `tenth_player_name` to the name of this player."
   ]
  },
  {
   "cell_type": "code",
   "execution_count": null,
   "metadata": {},
   "outputs": [],
   "source": [
    "tenth_highest_salary = ...\n",
    "tenth_player_name = ...\n",
    "print('Player:', tenth_player_name, '\\nSalary:', tenth_highest_salary)"
   ]
  },
  {
   "cell_type": "code",
   "execution_count": null,
   "metadata": {
    "deletable": false,
    "editable": false
   },
   "outputs": [],
   "source": [
    "grader.check(\"q3_4\")"
   ]
  },
  {
   "cell_type": "markdown",
   "metadata": {},
   "source": [
    "**Question 3.5.** Suppose we want to analyze the longevity of players in the 2017-18 NBA season. We will define longevity as follows: \n",
    "\n",
    "$$\\text{longevity} = 2018 - \\text{draft_year}$$\n",
    "\n",
    "Starting with the `nba_17_id` DataFrame, create a new DataFrame called `longevity` which has an additional column called ``years_played`` containing the longevity of each NBA player, sorted so that the players with the most years are listed first.\n",
    "\n",
    "_Note:_ For players who were not drafted, their `draft_year` entry will be `NaN`, so their longevity will be recorded as `NaN`, which is okay! `NaN` stands for \"not a number.\""
   ]
  },
  {
   "cell_type": "code",
   "execution_count": null,
   "metadata": {},
   "outputs": [],
   "source": [
    "longevity = ...\n",
    "longevity"
   ]
  },
  {
   "cell_type": "code",
   "execution_count": null,
   "metadata": {
    "deletable": false,
    "editable": false
   },
   "outputs": [],
   "source": [
    "grader.check(\"q3_5\")"
   ]
  },
  {
   "cell_type": "markdown",
   "metadata": {},
   "source": [
    "**Question 3.6.** The 2017-18 NBA Finals featured the Golden State Warriors and Cleveland Cavaliers in their fourth straight Finals matchup. What proportion of players on the 2017-18 Warriors and Cavaliers rosters earned at least \\$10M in their salary? Assign this value to `prop_10m`.\n",
    "\n",
    "*Hint:* First make a combined Warriors and Cavaliers roster, and then find the proportion."
   ]
  },
  {
   "cell_type": "code",
   "execution_count": null,
   "metadata": {},
   "outputs": [],
   "source": [
    "\n",
    "prop_10m = ...\n",
    "prop_10m"
   ]
  },
  {
   "cell_type": "code",
   "execution_count": null,
   "metadata": {
    "deletable": false,
    "editable": false
   },
   "outputs": [],
   "source": [
    "grader.check(\"q3_6\")"
   ]
  },
  {
   "cell_type": "markdown",
   "metadata": {},
   "source": [
    "For the remainder of this section, we will use the `salaries` DataFrame.\n",
    "\n",
    "**Question 3.7.** In the NBA, there are five positions: center, power forward, small forward, point guard, and shooting guard. However, more recently, positions have become less important and players can fall into multiple roles. For example, LeBron James generally plays power forward, but he is currently playing center with the Los Angeles Lakers in 2022, and has played multiple positions before. \n",
    "\n",
    "From all of the NBA players from 1985-2018, we want to examine only the point guards. This includes all the players that played point guard in at least one game in their career. Assign `pt_guards` to a DataFrame that include all the point guards from 1985-2018, sorted so the highest salaries appear first.\n",
    "\n",
    "*Hint 1*: You may want to use `.str.contains`; the *Boolean Indexing* section of the [DSC 10 Reference Sheet](https://drive.google.com/file/d/1mQApk9Ovdi-QVqMgnNcq5dZcWucUKoG-/view) shows you how to use it. Why are we using `.str.contains` and not simply checking for equality?\n",
    "\n",
    "*Hint 2*: The positions are strings, so they may have inconsistencies in how they're capitalized. If we want to include `'point guard'`, `'Point Guard'`, `'PoInT GuArD'`, and any other variations in capitalization, what operation should we call on the positions **first**? (You may end up using `.str` twice!)"
   ]
  },
  {
   "cell_type": "code",
   "execution_count": null,
   "metadata": {},
   "outputs": [],
   "source": [
    "# For a multi-step problem, it's helpful to define intermediate variables. \n",
    "# Feel free to do that here, or for any problem!\n",
    "\n",
    "pt_guards = ...\n",
    "pt_guards"
   ]
  },
  {
   "cell_type": "code",
   "execution_count": null,
   "metadata": {
    "deletable": false,
    "editable": false
   },
   "outputs": [],
   "source": [
    "grader.check(\"q3_7\")"
   ]
  },
  {
   "cell_type": "markdown",
   "metadata": {},
   "source": [
    "**Question 3.8.** Among all the salaries for players on the Milwaukee Bucks from 1985-2018, what is the median salary? Assign this value to `bucks_median`."
   ]
  },
  {
   "cell_type": "code",
   "execution_count": null,
   "metadata": {},
   "outputs": [],
   "source": [
    "bucks_median = ...\n",
    "bucks_median"
   ]
  },
  {
   "cell_type": "code",
   "execution_count": null,
   "metadata": {
    "deletable": false,
    "editable": false
   },
   "outputs": [],
   "source": [
    "grader.check(\"q3_8\")"
   ]
  },
  {
   "cell_type": "markdown",
   "metadata": {},
   "source": [
    "**Question 3.9.** Assign `lowest_salary_tm` to the team in the 1985-2018 data that has the lowest mean player salaries. Don't worry if you don't recognize the name of the team.\n",
    "\n",
    "*Hint 1*: Our solution for this question used only one line of code (thanks, `groupby`)!"
   ]
  },
  {
   "cell_type": "code",
   "execution_count": null,
   "metadata": {},
   "outputs": [],
   "source": [
    "lowest_salary_tm = ...\n",
    "lowest_salary_tm"
   ]
  },
  {
   "cell_type": "code",
   "execution_count": null,
   "metadata": {
    "deletable": false,
    "editable": false
   },
   "outputs": [],
   "source": [
    "grader.check(\"q3_9\")"
   ]
  },
  {
   "cell_type": "markdown",
   "metadata": {},
   "source": [
    "## 4. COVID-19 Vaccinations in San Diego County 💉"
   ]
  },
  {
   "cell_type": "markdown",
   "metadata": {},
   "source": [
    "The file `data/vaccines.csv` contains information about COVID-19 vaccination progress in San Diego County. The data, which comes from the [California Health and Human Services Open Data Portal](https://data.chhs.ca.gov/dataset/vaccine-progress-dashboard), includes information on vaccine doses administered each day in 2021, from January 1st through December 31st.\n",
    "\n",
    "Note that unlike the data in Homework 1, this dataset does not differentiate between first doses, second doses, and booster doses; all doses are counted the same."
   ]
  },
  {
   "cell_type": "code",
   "execution_count": null,
   "metadata": {
    "tags": []
   },
   "outputs": [],
   "source": [
    "covid_vaccine = bpd.read_csv('data/vaccines.csv')\n",
    "covid_vaccine"
   ]
  },
  {
   "cell_type": "markdown",
   "metadata": {},
   "source": [
    "For a given day, the column `'total_doses'` contains the total number of vaccines administered that day. The column `'cumulative_total_doses'` contains the total number of vaccines administered **up until and including that day**.\n",
    "\n",
    "The [first COVID-19 vaccine dose in San Diego County](https://www.countynewscenter.com/county-of-san-diego-to-open-first-vaccination-super-station-in-partnership-with-uc-san-diego-health-padres-and-city-of-san-diego/) was administered on December 16, 2020, and by the end of 2021, over 5.8 million doses were administed in the county.\n",
    "\n",
    "**Question 4.1.** How many COVID-19 vaccines were administered in San Diego County in 2021? Calculuate the result using **only** the `'total_doses'` column in `covid_vaccine`. Do **not** use any other columns in `covid_vaccine`.\n",
    "\n",
    "Store the result in `total_2021_one`."
   ]
  },
  {
   "cell_type": "code",
   "execution_count": null,
   "metadata": {},
   "outputs": [],
   "source": [
    "# Remember to only use the 'total_doses' column!\n",
    "total_2021_one = ...\n",
    "total_2021_one"
   ]
  },
  {
   "cell_type": "code",
   "execution_count": null,
   "metadata": {
    "deletable": false,
    "editable": false
   },
   "outputs": [],
   "source": [
    "grader.check(\"q4_1\")"
   ]
  },
  {
   "cell_type": "markdown",
   "metadata": {},
   "source": [
    "**Question 4.2.** Now, compute the number of COVID-19 vaccines administered in San Diego County in 2021 again, but this time use **both** the `'cumulative_total_doses'` **and** `'total_doses'` columns. Your answer should be the same as your answer in 4.1.\n",
    "\n",
    "Store the result in `total_2021_two`."
   ]
  },
  {
   "cell_type": "code",
   "execution_count": null,
   "metadata": {},
   "outputs": [],
   "source": [
    "total_2021_two = ...\n",
    "total_2021_two"
   ]
  },
  {
   "cell_type": "code",
   "execution_count": null,
   "metadata": {
    "deletable": false,
    "editable": false
   },
   "outputs": [],
   "source": [
    "grader.check(\"q4_2\")"
   ]
  },
  {
   "cell_type": "markdown",
   "metadata": {},
   "source": [
    "**Question 4.3.** April was the month in 2021 in which the most vaccine doses were administered. Assign `april_vaccine` to a DataFrame containing all columns in `covid_vaccine` but only the rows for April 2021. **Then**, assign to `april_total` the total number of doses administered in April."
   ]
  },
  {
   "cell_type": "code",
   "execution_count": null,
   "metadata": {
    "tags": []
   },
   "outputs": [],
   "source": [
    "april_vaccine = ...\n",
    "april_total = ..."
   ]
  },
  {
   "cell_type": "code",
   "execution_count": null,
   "metadata": {
    "deletable": false,
    "editable": false
   },
   "outputs": [],
   "source": [
    "grader.check(\"q4_3\")"
   ]
  },
  {
   "cell_type": "markdown",
   "metadata": {},
   "source": [
    "**Question 4.4.** Calculate the average number of vaccines given per day in April of 2021. Round the answer to the closest integer and assign it to `april_average`."
   ]
  },
  {
   "cell_type": "code",
   "execution_count": null,
   "metadata": {},
   "outputs": [],
   "source": [
    "april_average = ...\n",
    "april_average"
   ]
  },
  {
   "cell_type": "code",
   "execution_count": null,
   "metadata": {
    "deletable": false,
    "editable": false
   },
   "outputs": [],
   "source": [
    "grader.check(\"q4_4\")"
   ]
  },
  {
   "cell_type": "markdown",
   "metadata": {},
   "source": [
    "**Question 4.5.** Assign `january_average` to the average number of vaccines given per day during the first month of 2021. By what factor did the average number of daily vaccine doses increase from January 2021 to April 2021? Save your answer as `increase_factor`. For example, if the average number of doses given each day in April was double that of January, you would set `increase_factor` to 2."
   ]
  },
  {
   "cell_type": "code",
   "execution_count": null,
   "metadata": {},
   "outputs": [],
   "source": [
    "january_average = ...\n",
    "increase_factor = ..."
   ]
  },
  {
   "cell_type": "code",
   "execution_count": null,
   "metadata": {
    "deletable": false,
    "editable": false
   },
   "outputs": [],
   "source": [
    "grader.check(\"q4_5\")"
   ]
  },
  {
   "cell_type": "markdown",
   "metadata": {},
   "source": [
    "**Question 4.6.** Determine the day in 2021 on which the **least** doses were administered, and save the result to the name `least_doses_day` as a string of the form `'yyyy-mm-dd'`."
   ]
  },
  {
   "cell_type": "code",
   "execution_count": null,
   "metadata": {},
   "outputs": [],
   "source": [
    "least_doses_day = ...\n",
    "least_doses_day"
   ]
  },
  {
   "cell_type": "code",
   "execution_count": null,
   "metadata": {
    "deletable": false,
    "editable": false
   },
   "outputs": [],
   "source": [
    "grader.check(\"q4_6\")"
   ]
  },
  {
   "cell_type": "markdown",
   "metadata": {},
   "source": [
    "**Question 4.7.** Determine the **week** (as an integer) in 2021 during which the **most** doses were administered on average, and save the result as `most_doses_week`."
   ]
  },
  {
   "cell_type": "code",
   "execution_count": null,
   "metadata": {
    "scrolled": true
   },
   "outputs": [],
   "source": [
    "most_doses_week = ...\n",
    "most_doses_week"
   ]
  },
  {
   "cell_type": "code",
   "execution_count": null,
   "metadata": {
    "deletable": false,
    "editable": false
   },
   "outputs": [],
   "source": [
    "grader.check(\"q4_7\")"
   ]
  },
  {
   "cell_type": "markdown",
   "metadata": {},
   "source": [
    "**Question 4.8.** Create an array called `ranked_days` containing the names of the seven days of the week, ordered from the most popular day of the week to get vaccinated, to the least popular day to get vaccinated. \n",
    "\n",
    "*Hint*: After doing some grouping, you'll want to grab the index of the DataFrame using `.index`, then convert it to an array by feeding it in as an input to `np.array`.\n",
    "\n",
    "*Magic trick suggestion*: Guess what day of the week your friend got vaccinated!"
   ]
  },
  {
   "cell_type": "code",
   "execution_count": null,
   "metadata": {},
   "outputs": [],
   "source": [
    "ranked_days = ...\n",
    "ranked_days"
   ]
  },
  {
   "cell_type": "code",
   "execution_count": null,
   "metadata": {
    "deletable": false,
    "editable": false
   },
   "outputs": [],
   "source": [
    "grader.check(\"q4_8\")"
   ]
  },
  {
   "cell_type": "markdown",
   "metadata": {},
   "source": [
    "**Question 4.9.** Make a line graph of the total number administered vaccine doses per week in 2021. Check that the peak matches to your answer `most_doses_week` above!\n",
    "\n",
    "*Hint*: Look at [Note 16 of the course notes](https://notes.dsc10.com/03-visualization/line.html) for instructions on how to create a line graph. You'll have to do some DataFrame manipulation before you can plot the graph."
   ]
  },
  {
   "cell_type": "markdown",
   "metadata": {
    "deletable": false,
    "editable": false
   },
   "source": [
    "<!-- BEGIN QUESTION -->\n",
    "\n",
    "<!--\n",
    "BEGIN QUESTION\n",
    "name: q4_9\n",
    "manual: true\n",
    "-->"
   ]
  },
  {
   "cell_type": "code",
   "execution_count": null,
   "metadata": {},
   "outputs": [],
   "source": [
    "..."
   ]
  },
  {
   "cell_type": "markdown",
   "metadata": {},
   "source": [
    "<!-- END QUESTION -->\n",
    "\n",
    "\n",
    "\n",
    "## Optional Feedback Survey 🙏🏼\n",
    "\n",
    "We'd like to provide you with an opportunity to provide us feedback with how DSC 10 has gone for you so far! If you're interested, please fill out [this survey](https://docs.google.com/forms/d/e/1FAIpQLSeZOc2buAgLsmyoX2UelJ_DTR99_UXES5tlzxkQ64_HU2W5OQ/viewform). It is anonymous, though you're free to leave your name and email with us if there's something you'd like us to follow up on.\n",
    "\n",
    "We really appreciate the feedback!"
   ]
  },
  {
   "cell_type": "markdown",
   "metadata": {},
   "source": [
    "# Finish Line\n",
    "\n",
    "Congratulations! You are done with Homework 02.\n",
    "\n",
    "To submit your assignment:\n",
    "\n",
    "1. Select `Kernel -> Restart & Run All` to ensure that you have executed all cells, including the test cells.\n",
    "2. Read through the notebook to make sure everything is fine and all tests passed.\n",
    "3. Run the cell below to run all tests, and make sure that they all pass.\n",
    "4. Download your notebook using `File -> Download as -> Notebook (.ipynb)`, then upload your notebook to Gradescope."
   ]
  },
  {
   "cell_type": "code",
   "execution_count": null,
   "metadata": {
    "scrolled": true
   },
   "outputs": [],
   "source": [
    "# For your convenience, you can run this cell to run all the tests at once!\n",
    "grader.check_all()"
   ]
  }
 ],
 "metadata": {
  "kernelspec": {
   "display_name": "Python 3",
   "language": "python",
   "name": "python3"
  },
  "language_info": {
   "codemirror_mode": {
    "name": "ipython",
    "version": 3
   },
   "file_extension": ".py",
   "mimetype": "text/x-python",
   "name": "python",
   "nbconvert_exporter": "python",
   "pygments_lexer": "ipython3",
   "version": "3.7.4"
  }
 },
 "nbformat": 4,
 "nbformat_minor": 4
}
