{
 "cells": [
  {
   "cell_type": "markdown",
   "metadata": {},
   "source": [
    "# Homework 1: Causality and Basic Python\n",
    "\n",
    "## Due Saturday, January 15th at 11:59pm\n",
    "\n",
    "Welcome to Homework 1! This week's HW will cover causality and basic Python. You can find additional help on these topics in [Chapter 2](https://www.inferentialthinking.com/chapters/02/causality-and-experiments.html) of Computational and Inferential Thinking and [Notes 1-6](https://notes.dsc10.com/01-getting_started/tools.html) in the course notes."
   ]
  },
  {
   "cell_type": "markdown",
   "metadata": {},
   "source": [
    "### Instructions\n",
    "\n",
    "This assignment is due Saturday, January 15th at 11:59pm. You are given six slip days throughout the quarter to extend deadlines. See the syllabus for more details. With the exception of using slip days, late work will not be accepted unless you have made special arrangements with your instructor. \n",
    "\n",
    "Remember to start early and submit often. \n",
    "\n",
    "**Important**: For homeworks, the `otter` tests don't usually tell you that your answer is correct. More often, they help catch careless mistakes. It's up to you to ensure that your answer is correct. If you're not sure, ask someone (not for the answer, but for some guidance about your approach). These are great questions for office hours (the schedule can be found [here](https://dsc10.com/calendar)) or Campuswire. Directly sharing answers is not okay, but discussing problems with the course staff or with other students is encouraged. "
   ]
  },
  {
   "cell_type": "code",
   "execution_count": null,
   "metadata": {},
   "outputs": [],
   "source": [
    "# Please don't change this cell, but do make sure to run it.\n",
    "import babypandas as bpd\n",
    "import matplotlib.pyplot as plt\n",
    "import numpy as np\n",
    "import otter\n",
    "grader = otter.Notebook()\n",
    "\n",
    "plt.style.use('fivethirtyeight')"
   ]
  },
  {
   "cell_type": "markdown",
   "metadata": {},
   "source": [
    "## 1. COVID in Rhode Island 🦠"
   ]
  },
  {
   "cell_type": "markdown",
   "metadata": {},
   "source": [
    "On January 5th, 2022, [The New York Times](https://www.nytimes.com/interactive/2021/us/covid-cases.html) reported that there were 3,833,291 total COVID cases in the US over the past seven days. Only 23,338 of those cases were in Rhode Island. That's a proportion of $\\frac{23{,}338}{3{,}833{,}291} = 0.0061$, or $0.61\\%$, which certainly doesn't sound like a lot.\n",
    "\n",
    "However, it's hard to evaluate the meaning of this data without more information. If you could request one additional piece of data to better assess the spread of COVID in Rhode Island as compared to the rest of the US as a whole, what would you want to know? Explain how you would use that piece of data to determine whether COVID is more or less prevalent in Rhode Island compared to elsewhere in the US.\n",
    "\n",
    "**Note:** This is a manually graded question. It will not be \"autograded\"; our tutors will read and grade your work."
   ]
  },
  {
   "cell_type": "markdown",
   "metadata": {
    "deletable": false,
    "editable": false
   },
   "source": [
    "<!-- BEGIN QUESTION -->\n",
    "\n",
    "<!--\n",
    "BEGIN QUESTION\n",
    "name: q1\n",
    "manual: true\n",
    "-->"
   ]
  },
  {
   "cell_type": "markdown",
   "metadata": {},
   "source": [
    "_Type your answer here, replacing this text._"
   ]
  },
  {
   "cell_type": "markdown",
   "metadata": {},
   "source": [
    "<!-- END QUESTION -->\n",
    "\n",
    "\n",
    "\n",
    "## 2. Characters in Winnie-the-Pooh 🧸🍯🐷"
   ]
  },
  {
   "cell_type": "markdown",
   "metadata": {},
   "source": [
    "In Lecture 1, we counted the number of times that the characters Amy, Beth, Jo, Meg, and Laurie were named in each chapter of the classic book, _Little Women_. In this question, we'll look at another classic book – _Winnie-the-Pooh (1926)_ by A. A. Milne and illustrated by Ernest H. Shepard. At the start of 2022, the copyright protections of the original book (but not the Disney franchise!) expired, and so sites like Project Gutenberg are now able to post copies of the book without violating any copyright laws. [Click here](https://www.gutenberg.org/files/67098/67098-h/67098-h.htm) to read a version of the book that has all of its original illustrations!"
   ]
  },
  {
   "cell_type": "markdown",
   "metadata": {},
   "source": [
    "<img src='data/illus27.jpg' width=500>"
   ]
  },
  {
   "cell_type": "markdown",
   "metadata": {},
   "source": [
    "Four of the main characters in _Winnie-the-Pooh_ are Pooh (🧸), Piglet (🐷), Eeyore (🐴), and Christopher Robin (🧍).\n",
    "\n",
    "Below, we've written code that shows the number of mentions of each of these four characters in each of the 10 chapters of the book. However, instead of displaying this information in a scatter plot, as was done in Lecture 1, we will use a bar chart.\n",
    "\n",
    "Run the cell below."
   ]
  },
  {
   "cell_type": "code",
   "execution_count": null,
   "metadata": {},
   "outputs": [],
   "source": [
    "# This cell contains code that hasn't yet been covered in the course.\n",
    "# It isn't expected that you'll understand the code, but you should be able to \n",
    "# interpret the bar chart it generates.\n",
    "\n",
    "# Open the book and split it into chapters\n",
    "book_file = 'data/winnie-the-pooh.txt'\n",
    "raw_book = open(book_file, encoding=\"utf-8\").read()\n",
    "end_pos = raw_book.index('*** END OF THE PROJECT GUTENBERG EBOOK WINNIE-THE-POOH ***')\n",
    "chapters = raw_book[:end_pos].split('CHAPTER ')[1:]\n",
    "\n",
    "# Find the number of words in each chapter\n",
    "chapter_lengths = (np.array([len(c.split(' ')) for c in chapters]) / 100)\n",
    "\n",
    "# Find the number of mentions per 100 words for each character and chapter\n",
    "characters = bpd.DataFrame().assign(\n",
    "    Chapter=np.arange(1, 11),\n",
    "    Pooh=np.char.count(chapters, 'Pooh') / chapter_lengths,\n",
    "    Piglet=np.char.count(chapters, 'Piglet') / chapter_lengths,\n",
    "    Eeyore=np.char.count(chapters, 'Eeyore') / chapter_lengths,\n",
    "    Christopher=np.char.count(chapters, 'Christopher') / chapter_lengths\n",
    ")\n",
    "\n",
    "characters.plot(kind='bar', x='Chapter', figsize=(14, 8));\n",
    "plt.ylabel('Mentions per 100 words in chapter');"
   ]
  },
  {
   "cell_type": "markdown",
   "metadata": {},
   "source": [
    "Notice, the y-axis of this graph is \"Mentions per 100 words in chapter\". The height of the bar for Pooh in Chapter 1 is 1.5; this means that 1.5 of every 100 words in Chapter 1 are `\"Pooh\"` (or in other words, $1.5\\%$ of the words in Chapter 1 are `\"Pooh\"`)."
   ]
  },
  {
   "cell_type": "markdown",
   "metadata": {},
   "source": [
    "**Question 2.1.** The **first time** Eeyore is mentioned is in this sentence:\n",
    "\n",
    "> The Old Grey Donkey, Eeyore, stood by himself in a thistly corner of the forest, his front feet well apart, his head on one side, and thought about things.\n",
    "\n",
    "In which chapter is this sentence? Assign the name `pooh_part1` to an integer between 1 and 10."
   ]
  },
  {
   "cell_type": "code",
   "execution_count": null,
   "metadata": {},
   "outputs": [],
   "source": [
    "pooh_part1 = ..."
   ]
  },
  {
   "cell_type": "code",
   "execution_count": null,
   "metadata": {
    "deletable": false,
    "editable": false
   },
   "outputs": [],
   "source": [
    "grader.check(\"q2_1\")"
   ]
  },
  {
   "cell_type": "markdown",
   "metadata": {},
   "source": [
    "**Question 2.2.** Pooh is mentioned 47 times in Chapter 5. How many times is Christopher mentioned in Chapter 5? Assign the name `pooh_part2` to 1, 2, 3, 4, or 5.\n",
    "\n",
    "1. 5\n",
    "2. 14\n",
    "3. 19\n",
    "4. 22\n",
    "5. 50"
   ]
  },
  {
   "cell_type": "code",
   "execution_count": null,
   "metadata": {},
   "outputs": [],
   "source": [
    "pooh_part2 = ..."
   ]
  },
  {
   "cell_type": "code",
   "execution_count": null,
   "metadata": {
    "deletable": false,
    "editable": false
   },
   "outputs": [],
   "source": [
    "grader.check(\"q2_2\")"
   ]
  },
  {
   "cell_type": "markdown",
   "metadata": {},
   "source": [
    "**Question 2.3.** Which of the following is a valid conclusion we can make just based off of the above plot? Assign `pooh_part3` to 1, 2, 3, 4, or 5. There is only one correct answer.\n",
    "\n",
    "1. Piglet is mentioned more times in Chapter 3 than he is in Chapter 5.\n",
    "\n",
    "2. The chapter that Pooh is mentioned the most in is Chapter 2.\n",
    "\n",
    "3. Christopher is mentioned roughly the same number of times in each of Chapters 1, 2, and 3.\n",
    "\n",
    "4. Pooh is mentioned roughly the same number of times in Chapters 4 and 5.\n",
    "\n",
    "5. Christopher and Eeyore are mentioned roughly the same number of times in Chapter 10."
   ]
  },
  {
   "cell_type": "code",
   "execution_count": null,
   "metadata": {},
   "outputs": [],
   "source": [
    "pooh_part3 = ..."
   ]
  },
  {
   "cell_type": "code",
   "execution_count": null,
   "metadata": {
    "deletable": false,
    "editable": false
   },
   "outputs": [],
   "source": [
    "grader.check(\"q2_3\")"
   ]
  },
  {
   "cell_type": "markdown",
   "metadata": {},
   "source": [
    "**Note:** The tests this section only checked that you set each variable to a number in the correct range. Unlike in labs, tests in homeworks **do not** check that you answered correctly; they only check that your answer is *reasonable*, or in the correct format. To put it another way: all of your tests might pass, but that doesn't mean you'll get full credit -- some of your answers may still be wrong. It's up to you to make sure that they're right!"
   ]
  },
  {
   "cell_type": "markdown",
   "metadata": {},
   "source": [
    "## 3. Python Basics 🐍"
   ]
  },
  {
   "cell_type": "markdown",
   "metadata": {},
   "source": [
    "**Question 3.1.** When you run the following cell, Python produces a cryptic error message."
   ]
  },
  {
   "cell_type": "code",
   "execution_count": null,
   "metadata": {},
   "outputs": [],
   "source": [
    "2022 = 2020 + 2.0"
   ]
  },
  {
   "cell_type": "markdown",
   "metadata": {},
   "source": [
    "Choose the best explanation of what's wrong with the code, and then assign 1, 2, 3, or 4 to `basics_part1` below to indicate your answer.\n",
    "\n",
    "1. Python is not able to add an `int` to a `float` because they are of different data types.\n",
    "\n",
    "2. The left hand side is an `int`, while the right hand side is a `float`. It should be `2022.0 = 2020 + 2.0`.\n",
    "\n",
    "3. The result should be written after the calculation. It should be `2020 + 2.0 = 2022`.\n",
    "\n",
    "4. This is creating a variable called `2022`, which doesn't make sense because `2022` is a number."
   ]
  },
  {
   "cell_type": "markdown",
   "metadata": {},
   "source": [
    "**Important: Once you have finished this question, \"comment\"  out the above code cell out by replacing it with `# 2022 = 2020 + 2.0`. This will prevent the error message from appearing when your notebook is graded.**"
   ]
  },
  {
   "cell_type": "code",
   "execution_count": null,
   "metadata": {},
   "outputs": [],
   "source": [
    "basics_part1 = ..."
   ]
  },
  {
   "cell_type": "code",
   "execution_count": null,
   "metadata": {
    "deletable": false,
    "editable": false
   },
   "outputs": [],
   "source": [
    "grader.check(\"q3_1\")"
   ]
  },
  {
   "cell_type": "markdown",
   "metadata": {},
   "source": [
    "**Question 3.2.** Consider the following poorly-written code."
   ]
  },
  {
   "cell_type": "code",
   "execution_count": null,
   "metadata": {},
   "outputs": [],
   "source": [
    "three = 3\n",
    "three = three * three\n",
    "three = three + three\n",
    "three = three * three\n",
    "three = -three"
   ]
  },
  {
   "cell_type": "markdown",
   "metadata": {},
   "source": [
    "As this code executes, what values does the variable `three` take on? Assign 1, 2, 3, or 4 to `basics_part2` to indicate your answer.\n",
    "\n",
    "1. The variable `three` takes on the values 3, 9, 18, 324, -324.\n",
    "\n",
    "2. The variable `three` takes on the values 3, 9, 81, 243, -243.\n",
    "\n",
    "3. The variable `three` takes on the values 3, 6, 12, 36, -36.\n",
    "\n",
    "4. The variable `three` takes on the values 3, 9, 18, -54, 54."
   ]
  },
  {
   "cell_type": "code",
   "execution_count": null,
   "metadata": {},
   "outputs": [],
   "source": [
    "basics_part2 = ..."
   ]
  },
  {
   "cell_type": "code",
   "execution_count": null,
   "metadata": {
    "deletable": false,
    "editable": false
   },
   "outputs": [],
   "source": [
    "grader.check(\"q3_2\")"
   ]
  },
  {
   "cell_type": "markdown",
   "metadata": {},
   "source": [
    "## 4. Euclidean Distance 📐"
   ]
  },
  {
   "cell_type": "markdown",
   "metadata": {},
   "source": [
    "You might remember from math that the distance between two points in the plane, also called Euclidean distance, is calculated using the following formula:\n",
    "\n",
    "$$d  = \\sqrt{(x_2 - x_1)^2 + (y_2 - y_1)^2},$$\n",
    "\n",
    "This formula comes from the Pythagorean Theorem, as you can see in the picture below.\n",
    "\n",
    "<img src=\"./data/distance.png\"\n",
    "     width=300/>\n",
    "\n",
    "\n",
    "**Question 4.1.** Calculate the distance between the points $(14, -4)$ and $(-8, 6)$ and save your answer in the variable `distance`. Have Python perform all the intermediate calculations, such as subtracting and squaring.\n",
    "\n",
    "Note that the `math` package has not been imported. You don't need it for this question, and **you should not import it**, otherwise the autograder may error. "
   ]
  },
  {
   "cell_type": "code",
   "execution_count": null,
   "metadata": {},
   "outputs": [],
   "source": [
    "x_1 = ...\n",
    "y_1 = ...\n",
    "\n",
    "x_2 = ...\n",
    "y_2 = ...\n",
    "\n",
    "distance = ...\n",
    "distance"
   ]
  },
  {
   "cell_type": "code",
   "execution_count": null,
   "metadata": {
    "deletable": false,
    "editable": false
   },
   "outputs": [],
   "source": [
    "grader.check(\"q4_1\")"
   ]
  },
  {
   "cell_type": "markdown",
   "metadata": {},
   "source": [
    "**Question 4.2.** Calculate the largest distance between any pair of points on the list below, and save your answer in the variable `largest_distance`. Make sure to try all pairs!\n",
    "\n",
    "- $(5, 4)$\n",
    "- $(8, -1)$\n",
    "- $(3, 6)$\n",
    "- $(-2, 5)$"
   ]
  },
  {
   "cell_type": "code",
   "execution_count": null,
   "metadata": {},
   "outputs": [],
   "source": [
    "# Feel free to define intermediate variables to use in your solution.\n",
    "# This is a multi-step problem that shouldn't be done in one line of code!\n",
    "\n",
    "\n",
    "largest_distance = ...\n",
    "largest_distance"
   ]
  },
  {
   "cell_type": "code",
   "execution_count": null,
   "metadata": {
    "deletable": false,
    "editable": false
   },
   "outputs": [],
   "source": [
    "grader.check(\"q4_2\")"
   ]
  },
  {
   "cell_type": "markdown",
   "metadata": {},
   "source": [
    "## 5. Vaccination Rates in Los Angeles County 💉"
   ]
  },
  {
   "cell_type": "markdown",
   "metadata": {},
   "source": [
    "In this problem, we'll quantify the \"dissimilarity\" between the COVID vaccination rates in three different cities in Los Angeles County. To do this, we will use three percentages:\n",
    "- the percentage of residents aged 12 and up who have received at least one dose of a COVID vaccine,\n",
    "- the percentage of residents aged 12 and up who are fully vaccinated, and\n",
    "- the percentage of residents aged 12 and up who have received a booster dose.\n",
    "\n",
    "The data as of January 5th, 2022 for the cities of Lancaster, Compton, and Malibu are shown in the table below (source: [lacounty.gov](http://publichealth.lacounty.gov/media/coronavirus/vaccine/vaccine-dashboard.htm); San Diego County doesn't appear to have booster rates public just yet.)\n",
    "\n",
    "| Percent of Residents       | Lancaster  | Compton  | Malibu |\n",
    "|-------------------------------------------|-------------|-----------|-----------|\n",
    "| First Dose         | 68 | 75 | 69 | \n",
    "| Fully Vaccinated           | 62 | 67 | 62 | \n",
    "| Boosted     | 18 | 15 | 31 | \n",
    "\n",
    "We define the **dissimilarity** between two cities as the largest absolute difference between their 3 respective percentages.\n",
    "\n",
    "For example, if \n",
    "* City A's percentage for *First Dose* is 3 more than City B's percentage, and \n",
    "* City A's percentage for *Fully Vaccinated* is 2 less than than City B's percentage, and \n",
    "* City A's percentage for *Boosted* is 4 less than City B's percentage,\n",
    "\n",
    "then we would say the dissimilarity between City A and City B is 4, since the largest of 3, 2, and 4 is 4."
   ]
  },
  {
   "cell_type": "markdown",
   "metadata": {},
   "source": [
    "**Question 5.1.** \n",
    "Using this method, compute the dissimilarity between Lancaster and Compton.  Name the result `dissimilarity`. Use a single expression (a single line of code) to compute the answer. Let Python perform all the arithmetic (like subtracting) rather than simplifying the expression yourself. The built-in `abs` function computes absolute values. "
   ]
  },
  {
   "cell_type": "code",
   "execution_count": null,
   "metadata": {},
   "outputs": [],
   "source": [
    "dissimilarity = ...\n",
    "dissimilarity"
   ]
  },
  {
   "cell_type": "code",
   "execution_count": null,
   "metadata": {
    "deletable": false,
    "editable": false
   },
   "outputs": [],
   "source": [
    "grader.check(\"q5_1\")"
   ]
  },
  {
   "cell_type": "markdown",
   "metadata": {},
   "source": [
    "**Question 5.2.** Which pair of cities is **most** dissimilar, according to this measurement? Assign either 1, 2, or 3 to the name `most_dissimilar` below.\n",
    "\n",
    "1. Lancaster and Compton\n",
    "2. Lancaster and Malibu\n",
    "3. Compton and Malibu "
   ]
  },
  {
   "cell_type": "code",
   "execution_count": null,
   "metadata": {},
   "outputs": [],
   "source": [
    "most_dissimilar = ..."
   ]
  },
  {
   "cell_type": "code",
   "execution_count": null,
   "metadata": {
    "deletable": false,
    "editable": false
   },
   "outputs": [],
   "source": [
    "grader.check(\"q5_2\")"
   ]
  },
  {
   "cell_type": "markdown",
   "metadata": {},
   "source": [
    "**Question 3.** It turns out that if we eliminated a certain one of the three percentages in the table and recalculated dissimilarities based on the remaining two percentages only, we would find the dissimilarity between each pair of cities to be the same as if we had used all three percentages. In other words, one of the three rows of the table ends up not factoring into the calculation for dissimilarity for all three pairs of cities.\n",
    "\n",
    "Which percentage can be eliminated without changing the dissimilarity of any pair of cities in the table? Assign either 1, 2, or 3 to the name `disposable` below.\n",
    "\n",
    "1. *First Dose*\n",
    "2. *Fully Vaccinated*\n",
    "3. *Boosted*"
   ]
  },
  {
   "cell_type": "code",
   "execution_count": null,
   "metadata": {},
   "outputs": [],
   "source": [
    "disposable = ..."
   ]
  },
  {
   "cell_type": "code",
   "execution_count": null,
   "metadata": {
    "deletable": false,
    "editable": false
   },
   "outputs": [],
   "source": [
    "grader.check(\"q5_3\")"
   ]
  },
  {
   "cell_type": "markdown",
   "metadata": {},
   "source": [
    "## 6. Job Opportunities & Education in Rural India 🇮🇳"
   ]
  },
  {
   "cell_type": "markdown",
   "metadata": {},
   "source": [
    "A [study](http://www.nber.org/papers/w16021.pdf) at UCLA investigated factors that might result in greater attention to the health and education of girls in rural India. One such factor is information about job opportunities for women. The idea is that if people know that educated women can get good jobs, they might take more care of the health and education of girls in their families, as an investment in the girls’ future potential as earners.\n",
    "\n",
    "The study focused on 160 villages located within a few hours of New Delhi (the capital of India), all with little access to information about call centers and similar organizations that offer job opportunities to women. In 80 of the villages chosen at random, recruiters visited the village, described the opportunities, recruited women who had some English language proficiency and experience with computers, and provided women with ongoing support free of charge for three years. In the other 80 villages, no recruiters visited and no other intervention was made.\n",
    "\n",
    "At the end of the study period, the researchers recorded data about the school attendance and health of the children in the villages."
   ]
  },
  {
   "cell_type": "markdown",
   "metadata": {},
   "source": [
    "**Question 6.1.** Which statement best describes the *treatment* and *control* groups for this study? Assign either 1, 2, 3, or 4 to the name `india_q1` below.\n",
    "\n",
    "1. The treatment group was the 160 villages selected, and the control group was the rest of the villages outside the capital of India.\n",
    "\n",
    "2. The treatment group was the 80 villages with no intervention, and the control group was the 80 villages visited by recruiters.\n",
    "\n",
    "3. The treatment group was the 80 villages visited by recruiters, and the control group was the other 80 villages with no intervention.\n",
    "\n",
    "3. There is no clear notion of *treatment* and *control* group in this study."
   ]
  },
  {
   "cell_type": "code",
   "execution_count": null,
   "metadata": {},
   "outputs": [],
   "source": [
    "india_q1 = ..."
   ]
  },
  {
   "cell_type": "code",
   "execution_count": null,
   "metadata": {
    "deletable": false,
    "editable": false
   },
   "outputs": [],
   "source": [
    "grader.check(\"q6_1\")"
   ]
  },
  {
   "cell_type": "markdown",
   "metadata": {},
   "source": [
    "**Question 6.2.** Was this an observational study or a randomized controlled trial?\n",
    "\n",
    "If you believe this was an observational study, set the variable `india_q2` to 1; if you believe this was a randomized controlled trial, set `india_q2` to 2."
   ]
  },
  {
   "cell_type": "code",
   "execution_count": null,
   "metadata": {},
   "outputs": [],
   "source": [
    "india_q2 = ..."
   ]
  },
  {
   "cell_type": "code",
   "execution_count": null,
   "metadata": {
    "deletable": false,
    "editable": false
   },
   "outputs": [],
   "source": [
    "grader.check(\"q6_2\")"
   ]
  },
  {
   "cell_type": "markdown",
   "metadata": {},
   "source": [
    "**Question 6.3.** The study reported, \n",
    "\n",
    "> “Girls aged 5-15 in villages that received the recruiting services were 3 to 5 percentage points more likely to be in school and experienced an increase in Body Mass Index, reflecting greater nutrition and/or medical care. However, there was no net gain in height. For boys, there was no change in any of these measures.”\n",
    "\n",
    "Why do you think the author points out the lack of change in the boys?  Choose the best answer and assign either 1, 2, 3, or 4 to the name `india_q3` below.\n",
    "\n",
    "1. To remind the reader that the treatment was targeted towards women and girls.\n",
    "2. To show that before the treatment, the educational status and health of girls were different than those of boys.\n",
    "3. To show that the observed results are due to the treatment, and not to some other factor that affected both boys and girls.\n",
    "4. To suggest that if the boys were to receive similar treatment, they too could improve their educational status and health."
   ]
  },
  {
   "cell_type": "code",
   "execution_count": null,
   "metadata": {},
   "outputs": [],
   "source": [
    "india_q3 = ..."
   ]
  },
  {
   "cell_type": "code",
   "execution_count": null,
   "metadata": {
    "deletable": false,
    "editable": false
   },
   "outputs": [],
   "source": [
    "grader.check(\"q6_3\")"
   ]
  },
  {
   "cell_type": "markdown",
   "metadata": {},
   "source": [
    "## 7. Eating a Healthy Breakfast 🥑"
   ]
  },
  {
   "cell_type": "markdown",
   "metadata": {},
   "source": [
    "The following is an excerpt from an article in the [SF Gate](https://healthyeating.sfgate.com/benefits-eating-breakfast-students-7697.html) about the many benefits of eating a healthy breakfast. \n",
    "\n",
    "> You’ve probably heard the adage “breakfast is the most important meal of the day” a million times before; but it turns out that it may be true, especially when it comes to students. Eating a healthy breakfast before starting the school day is linked to improved concentration, better test scores, increased energy, a higher intake of vitamins and minerals, and even a healthier body weight. Breakfast is especially important for young students whose brains use up about half of the body’s energy.\n"
   ]
  },
  {
   "cell_type": "markdown",
   "metadata": {},
   "source": [
    "Notice that the author is careful to say that eating a healthy breakfast is *linked* to a variety of postive outcomes, but does not say that eating breakfast *causes* these outcomes. What are some other non-causal reasons why students who eat a healthy breakfast may benefit from the listed outcomes? Identify at least two such reasons."
   ]
  },
  {
   "cell_type": "markdown",
   "metadata": {
    "deletable": false,
    "editable": false
   },
   "source": [
    "<!-- BEGIN QUESTION -->\n",
    "\n",
    "<!--\n",
    "BEGIN QUESTION\n",
    "name: q7\n",
    "manual: true\n",
    "-->"
   ]
  },
  {
   "cell_type": "markdown",
   "metadata": {},
   "source": [
    "_Type your answer here, replacing this text._"
   ]
  },
  {
   "cell_type": "markdown",
   "metadata": {},
   "source": [
    "<!-- END QUESTION -->\n",
    "\n",
    "\n",
    "\n",
    "## 8. Concussions in Athletes ⛹️‍♀️"
   ]
  },
  {
   "cell_type": "markdown",
   "metadata": {},
   "source": [
    "The following is an excerpt from a news article on the effects of recent legislation intended to prevent concussions in athletes.\n",
    "\n",
    "> “Since 2014, all 50 states and the District of Columbia have passed laws to protect young athletes against traumatic brain injury (TBI). Washington State was the first in 2009.\n",
    "<br><br>\n",
    "Most of the laws require athletes with suspected concussions to stop playing until a doctor clears them to return. Coaches, players, and parents must also receive yearly education about concussions.\n",
    "<br><br>\n",
    "Between fall 2005 and spring 2016, student athletes reported about 2.7 million concussions. Of those, 89 percent were new and 11 percent were repeat injuries.\n",
    "<br><br>\n",
    "In 2005, nearly 135,000 initial concussions were reported. The number jumped to more than 360,000 by 2016.\n",
    "<br><br>\n",
    "After concussion laws were introduced, however, repeat injuries fell dramatically, from about 14 percent of all concussions in 2005 to roughly 7 percent in 2016.\""
   ]
  },
  {
   "cell_type": "markdown",
   "metadata": {},
   "source": [
    "Which of the following is the most likely explanation for the fact that initial concussions nearly tripled from 135,000 in 2005 to 360,000 in 2016? Choose the best answer and assign either 1, 2, 3, or 4 to the name `athletes` below.\n",
    "\n",
    "1. An increase in awareness about concussions.\n",
    "2. An increase in the danger of athletics.\n",
    "3. An increase in the number of athletes.\n",
    "4. An increase in the population of the United States."
   ]
  },
  {
   "cell_type": "code",
   "execution_count": null,
   "metadata": {},
   "outputs": [],
   "source": [
    "athletes = ..."
   ]
  },
  {
   "cell_type": "code",
   "execution_count": null,
   "metadata": {
    "deletable": false,
    "editable": false
   },
   "outputs": [],
   "source": [
    "grader.check(\"q8\")"
   ]
  },
  {
   "cell_type": "markdown",
   "metadata": {},
   "source": [
    "## 9. Lottery 💰"
   ]
  },
  {
   "cell_type": "markdown",
   "metadata": {},
   "source": [
    "Suppose we want to try and answer the question,\n",
    "\n",
    "> Does winning the lottery increase one's chance of going bankrupt?\n",
    "\n",
    "Can we answer this question using a randomized controlled trial? If so, identify what the treatment and control groups would be. If not, explain why not."
   ]
  },
  {
   "cell_type": "markdown",
   "metadata": {
    "deletable": false,
    "editable": false
   },
   "source": [
    "<!-- BEGIN QUESTION -->\n",
    "\n",
    "<!--\n",
    "BEGIN QUESTION\n",
    "name: q9\n",
    "manual: true\n",
    "-->"
   ]
  },
  {
   "cell_type": "markdown",
   "metadata": {},
   "source": [
    "_Type your answer here, replacing this text._"
   ]
  },
  {
   "cell_type": "markdown",
   "metadata": {},
   "source": [
    "<!-- END QUESTION -->\n",
    "\n",
    "\n",
    "\n",
    "## Finish Line: Almost there, but make sure to follow the steps below to submit! 🏁"
   ]
  },
  {
   "cell_type": "markdown",
   "metadata": {},
   "source": [
    "1. Make sure to comment out the code in Question 3.1 that causes an error.\n",
    "2. Select `Kernel -> Restart & Run All` to ensure that you have executed all cells, including the test cells. \n",
    "2. Read through the notebook to make sure all cells ran and all tests passed.\n",
    "3. Run the cell below to run all tests, and make sure that they all pass.\n",
    "4. Download your notebook using `File -> Download as -> Notebook (.ipynb)`, then upload your notebook to Gradescope.\n",
    "5. For a lab, the grade you see on Gradescope is your score on the assignment. For a homework or a project, the grade you see on Gradescope is **not your final score**. We will run correctness tests after the assignment's due date has passed."
   ]
  },
  {
   "cell_type": "code",
   "execution_count": null,
   "metadata": {},
   "outputs": [],
   "source": [
    "grader.check_all()"
   ]
  }
 ],
 "metadata": {
  "kernelspec": {
   "display_name": "Python 3",
   "language": "python",
   "name": "python3"
  },
  "language_info": {
   "codemirror_mode": {
    "name": "ipython",
    "version": 3
   },
   "file_extension": ".py",
   "mimetype": "text/x-python",
   "name": "python",
   "nbconvert_exporter": "python",
   "pygments_lexer": "ipython3",
   "version": "3.7.4"
  }
 },
 "nbformat": 4,
 "nbformat_minor": 4
}
